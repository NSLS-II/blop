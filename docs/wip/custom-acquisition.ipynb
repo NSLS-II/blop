{
 "cells": [
  {
   "attachments": {},
   "cell_type": "markdown",
   "id": "e7b5e13a-c059-441d-8d4f-fff080d52054",
   "metadata": {},
   "source": [
    "# Custom acquisition plans\n",
    "\n",
    "The simplest acqusition plan for a beamline is to move some motor inputs to some positions, and then trigger some detectors. Often, though, we want to investigate behaviors more complex than this. Consider the example of aligning the spectrometer at the Inner-Shell Spectroscopy (ISS) beamline at NSLS-II, which operates by modulating the energy of a beam on a sample and watching the resulting flux rise, peak, and then fall. \n",
    "\n",
    "We can build a toy model of this spectrometer using custom acquisition and digestion functions. Let's pretend that we can vary two inputs $\\mathbf{x} = (x_1, x_2)$, and that the resolution of the spectrometer is equal to \n",
    "\n",
    "$\\nu_\\sigma = \\big (1 + x_1^2 + (x_2 - 1)^2 \\big)^{1/2}$\n",
    "\n",
    "which has a single minimum at $(0,1)$. We can't sample this value directly, rather we can sample how the resulting flux peaks as we vary the energy $\\nu$. Let's pretend that it looks like a Gaussian:\n",
    "\n",
    "$I(\\nu) = \\exp \\Big [ - 0.5 (\\nu - \\nu_0)^2 / \\nu_\\sigma^2 \\Big ]$\n",
    "\n",
    "To find the inputs that lead to the tightest spectrum, we need to vary $\\mathbf{x}$, scan over $\\nu$, and then estimate the resolution for the agent to optimize over. Let's write acquisition and digestion functions to do this: "
   ]
  },
  {
   "cell_type": "code",
   "execution_count": null,
   "id": "92c202e2",
   "metadata": {},
   "outputs": [],
   "source": [
    "import numpy as np\n",
    "\n",
    "\n",
    "def acquisition(dofs, inputs, dets):\n",
    "    uid = yield from bp.list_scan\n",
    "\n",
    "    for x in inputs:\n",
    "        res = np.sqrt(1 + np.square(x).sum())  # our resolution is\n",
    "\n",
    "        nu_sigma = np.sqrt(1 + x1**2 + (x2 - 1) ** 2)\n",
    "\n",
    "        flux = np.exp(-0.5 * np.square((nu - nu_0) / nu_sigma))"
   ]
  },
  {
   "cell_type": "code",
   "execution_count": null,
   "id": "0ba0bb16",
   "metadata": {},
   "outputs": [],
   "source": [
    "import numpy as np\n",
    "from matplotlib import pyplot as plt\n",
    "\n",
    "\n",
    "nu_0 = 100\n",
    "\n",
    "nu = np.linspace(90, 110, 256)\n",
    "\n",
    "for x1, x2 in [(0, 0), (-2, 2), (-1, 0), (0, 1)]:\n",
    "    nu_sigma = np.sqrt(1 + x1**2 + (x2 - 1) ** 2)\n",
    "\n",
    "    flux = np.exp(-0.5 * np.square((nu - nu_0) / nu_sigma))\n",
    "\n",
    "    plt.plot(nu, flux, label=f\"(x1, x2) = ({x1}, {x2})\")\n",
    "\n",
    "plt.legend()"
   ]
  },
  {
   "attachments": {},
   "cell_type": "markdown",
   "id": "1075cb6a",
   "metadata": {},
   "source": [
    "To find the inputs that lead to the tightest spectrum, we need to vary $\\mathbf{x}$, scan over $\\nu$, and then estimate the resolution for the agent to optimize over. Let's write acquisition and digestion functions to do this: "
   ]
  }
 ],
 "metadata": {
  "kernelspec": {
   "display_name": "Python 3 (ipykernel)",
   "language": "python",
   "name": "python3"
  },
  "language_info": {
   "codemirror_mode": {
    "name": "ipython",
    "version": 3
   },
   "file_extension": ".py",
   "mimetype": "text/x-python",
   "name": "python",
   "nbconvert_exporter": "python",
   "pygments_lexer": "ipython3",
   "version": "3.9.16 (main, Mar  8 2023, 14:00:05) \n[GCC 11.2.0]"
  },
  "vscode": {
   "interpreter": {
    "hash": "9aced674e98d511b4f654e147532c84d38dc986fe042b1e92785fb9d8df41f75"
   }
  }
 },
 "nbformat": 4,
 "nbformat_minor": 5
}
