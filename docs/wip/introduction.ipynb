{
 "cells": [
  {
   "attachments": {},
   "cell_type": "markdown",
   "id": "e7b5e13a-c059-441d-8d4f-fff080d52054",
   "metadata": {},
   "source": [
    "# Bayesian optimization"
   ]
  },
  {
   "attachments": {},
   "cell_type": "markdown",
   "id": "c18ef717",
   "metadata": {},
   "source": [
    "This tutorial is an introduction to the syntax used by the optimizer, as well as the principles of Bayesian optimization in general.\n",
    "\n",
    "We'll start by minimizing the Styblinski-Tang function in one dimension, which looks like this:"
   ]
  },
  {
   "cell_type": "code",
   "execution_count": null,
   "id": "22438de8",
   "metadata": {},
   "outputs": [],
   "source": [
    "import numpy as np\n",
    "import matplotlib as mpl\n",
    "from matplotlib import pyplot as plt\n",
    "\n",
    "from blop.utils import functions\n",
    "\n",
    "x = np.linspace(-5, 5, 256)\n",
    "\n",
    "plt.plot(x, functions.styblinski_tang(x), c=\"b\")\n",
    "plt.xlim(-5, 5)"
   ]
  },
  {
   "attachments": {},
   "cell_type": "markdown",
   "id": "ecef8da5",
   "metadata": {},
   "source": [
    "There are several things that our agent will need. The first ingredient is some degrees of freedom (these are always `ophyd` devices) which the agent will move around to different inputs within each DOF's bounds (the second ingredient). We define these here:"
   ]
  },
  {
   "cell_type": "code",
   "execution_count": null,
   "id": "4c870567",
   "metadata": {},
   "outputs": [],
   "source": [
    "from blop import devices\n",
    "\n",
    "dofs = [\n",
    "    {\"device\": devices.DOF(name=\"x\"), \"limits\": (-5, 5), \"kind\": \"active\"},\n",
    "]"
   ]
  },
  {
   "cell_type": "code",
   "execution_count": null,
   "id": "c8556bc9",
   "metadata": {},
   "outputs": [],
   "source": [
    "tasks = [\n",
    "    {\"key\": \"styblinski-tang\", \"kind\": \"minimize\"},\n",
    "]"
   ]
  },
  {
   "attachments": {},
   "cell_type": "markdown",
   "id": "7a88c7bd",
   "metadata": {},
   "source": [
    "\n",
    "This degree of freedom will move around a variable called `x1`. The agent automatically samples at different inputs, but we often need some post-processing after data collection. In this case, we need to give the agent a way to compute the Styblinski-Tang function. We accomplish this with a digestion function, which always takes `(db, uid)` as an input. For each entry, we compute the function:\n"
   ]
  },
  {
   "cell_type": "code",
   "execution_count": null,
   "id": "e6bfcf73",
   "metadata": {},
   "outputs": [],
   "source": [
    "def digestion(db, uid):\n",
    "    products = db[uid].table()\n",
    "\n",
    "    for index, entry in products.iterrows():\n",
    "        products.loc[index, \"styblinski-tang\"] = functions.styblinski_tang(entry.x)\n",
    "\n",
    "    return products"
   ]
  },
  {
   "attachments": {},
   "cell_type": "markdown",
   "id": "dad64303",
   "metadata": {},
   "source": [
    "The next ingredient is a task, which gives the agent something to do. We want it to minimize the Styblinski-Tang function, so we make a task that will try to minimize the output of the digestion function called \"styblinski-tang\"."
   ]
  },
  {
   "cell_type": "code",
   "execution_count": null,
   "id": "071a829f-a390-40dc-9d5b-ae75702e119e",
   "metadata": {
    "tags": []
   },
   "outputs": [],
   "source": [
    "from blop.utils import prepare_re_env\n",
    "\n",
    "%run -i $prepare_re_env.__file__ --db-type=temp\n",
    "\n",
    "from blop.bayesian import Agent\n",
    "\n",
    "agent = Agent(\n",
    "    dofs=dofs,\n",
    "    tasks=tasks,\n",
    "    digestion=digestion,\n",
    "    db=db,\n",
    ")\n",
    "\n",
    "RE(agent.initialize(\"qr\", n_init=4))"
   ]
  },
  {
   "attachments": {},
   "cell_type": "markdown",
   "id": "d8f2da43",
   "metadata": {},
   "source": [
    "We initialized the GP with the \"quasi-random\" strategy, as it doesn't require any prior data. We can view the state of the optimizer's posterior of the tasks over the input parameters:"
   ]
  },
  {
   "cell_type": "code",
   "execution_count": null,
   "id": "996c3c01-f91d-4a25-9b8d-eba5fa964504",
   "metadata": {
    "tags": []
   },
   "outputs": [],
   "source": [
    "# what are the points?\n",
    "\n",
    "agent.plot_objectives()"
   ]
  },
  {
   "attachments": {},
   "cell_type": "markdown",
   "id": "fa141636",
   "metadata": {},
   "source": [
    "Note that the value of the fitness is the negative value of the function: we always want to maximize the fitness of the tasks.\n",
    "\n",
    "An important concept in Bayesian optimization is the acquisition function, which is how the agent decides where to sample next. Under the hood, the agent will see what inputs maximize the acquisition function to make its decision.\n",
    "\n",
    "We can see what the agent is thinking by asking it to plot a few different acquisition functions in its current state."
   ]
  },
  {
   "cell_type": "code",
   "execution_count": null,
   "id": "589a263b",
   "metadata": {},
   "outputs": [],
   "source": [
    "agent.all_acq_funcs"
   ]
  },
  {
   "cell_type": "code",
   "execution_count": null,
   "id": "8554d7c2",
   "metadata": {
    "tags": []
   },
   "outputs": [],
   "source": [
    "agent.plot_acqfuisition(acq_funcs=[\"ei\", \"pi\", \"ucb\"])"
   ]
  },
  {
   "attachments": {},
   "cell_type": "markdown",
   "id": "2529763b",
   "metadata": {},
   "source": [
    "Let's tell the agent to learn a little bit more. We just have to tell it what acquisition function to use (by passing a `strategy`) and how many iterations we'd like it to perform (by passing `n_iter`)."
   ]
  },
  {
   "cell_type": "code",
   "execution_count": null,
   "id": "ebc65169",
   "metadata": {},
   "outputs": [],
   "source": [
    "RE(agent.learn(\"ei\", n_iter=4))\n",
    "agent.plot_objectives()"
   ]
  }
 ],
 "metadata": {
  "kernelspec": {
   "display_name": "Python 3.10.12 ('bluesky')",
   "language": "python",
   "name": "python3"
  },
  "language_info": {
   "codemirror_mode": {
    "name": "ipython",
    "version": 3
   },
   "file_extension": ".py",
   "mimetype": "text/x-python",
   "name": "python",
   "nbconvert_exporter": "python",
   "pygments_lexer": "ipython3",
   "version": "3.11.4"
  },
  "vscode": {
   "interpreter": {
    "hash": "eee21ccc240bdddd7cf04478199e20f7257541e2f592ca1a4d34ebdc0225d742"
   }
  }
 },
 "nbformat": 4,
 "nbformat_minor": 5
}
