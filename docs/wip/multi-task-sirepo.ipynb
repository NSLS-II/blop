{
 "cells": [
  {
   "attachments": {},
   "cell_type": "markdown",
   "id": "e7b5e13a-c059-441d-8d4f-fff080d52054",
   "metadata": {},
   "source": [
    "# Multi-task optimization of KB mirrors\n",
    "\n",
    "Often, we want to optimize multiple aspects of a system; in this real-world example aligning the Kirkpatrick-Baez mirrors at the TES beamline's endstation, we care about the horizontal and vertical beam size, as well as the flux. \n",
    "\n",
    "We could try to model these as a single task by combining them into a single number (i.e., optimization the beam density as flux divided by area), but our model then loses all information about how different inputs affect different outputs. We instead give the optimizer multiple \"tasks\", and then direct it based on its prediction of those tasks. "
   ]
  },
  {
   "cell_type": "code",
   "execution_count": null,
   "id": "fa8a6989",
   "metadata": {
    "tags": []
   },
   "outputs": [],
   "source": [
    "from blop.utils import prepare_re_env\n",
    "\n",
    "%run -i $prepare_re_env.__file__ --db-type=temp\n",
    "%run -i ../../../examples/prepare_tes_shadow.py"
   ]
  },
  {
   "cell_type": "code",
   "execution_count": null,
   "id": "071a829f-a390-40dc-9d5b-ae75702e119e",
   "metadata": {
    "tags": []
   },
   "outputs": [],
   "source": [
    "from blop.bayesian import Agent\n",
    "from blop.experiments.sirepo.tes import w9_digestion\n",
    "\n",
    "dofs = [\n",
    "    {\"device\": kbv.x_rot, \"limits\": (-0.1, 0.1), \"kind\": \"active\"},\n",
    "    {\"device\": kbh.x_rot, \"limits\": (-0.1, 0.1), \"kind\": \"active\"},\n",
    "]\n",
    "\n",
    "tasks = [\n",
    "    {\"key\": \"flux\", \"kind\": \"maximize\", \"transform\": \"log\"},\n",
    "    {\"key\": \"w9_fwhm_x\", \"kind\": \"minimize\", \"transform\": \"log\"},\n",
    "    {\"key\": \"w9_fwhm_y\", \"kind\": \"minimize\", \"transform\": \"log\"},\n",
    "]\n",
    "\n",
    "agent = Agent(\n",
    "    dofs=dofs,\n",
    "    tasks=tasks,\n",
    "    dets=[w9],\n",
    "    digestion=w9_digestion,\n",
    "    db=db,\n",
    ")\n",
    "\n",
    "RE(agent.initialize(\"qr\", n_init=4))"
   ]
  },
  {
   "cell_type": "code",
   "execution_count": null,
   "id": "2409e012",
   "metadata": {},
   "outputs": [],
   "source": [
    "RE(agent.learn(\"ei\"))"
   ]
  },
  {
   "attachments": {},
   "cell_type": "markdown",
   "id": "a6259a4f",
   "metadata": {},
   "source": [
    "For each task, we plot the sampled data and the model's posterior with respect to two inputs to the KB mirrors. We can see that each tasks responds very differently to different motors, which is very useful to the optimizer. "
   ]
  },
  {
   "cell_type": "code",
   "execution_count": null,
   "id": "996c3c01-f91d-4a25-9b8d-eba5fa964504",
   "metadata": {
    "tags": []
   },
   "outputs": [],
   "source": [
    "agent.plot_objectives()\n",
    "agent.plot_acqfuisition(strategy=[\"ei\", \"pi\", \"ucb\"])"
   ]
  },
  {
   "attachments": {},
   "cell_type": "markdown",
   "id": "296d9fd2",
   "metadata": {},
   "source": [
    "We should find our optimum (or something close to it) on the very next iteration:"
   ]
  },
  {
   "cell_type": "code",
   "execution_count": null,
   "id": "d6b39b54",
   "metadata": {
    "tags": []
   },
   "outputs": [],
   "source": [
    "RE(agent.learn(\"ei\", n_iter=2))\n",
    "agent.plot_objectives()"
   ]
  },
  {
   "attachments": {},
   "cell_type": "markdown",
   "id": "e23e920c",
   "metadata": {},
   "source": [
    "The agent has learned that certain dimensions affect different tasks differently!"
   ]
  }
 ],
 "metadata": {
  "kernelspec": {
   "display_name": "Python 3.11.4 64-bit",
   "language": "python",
   "name": "python3"
  },
  "language_info": {
   "codemirror_mode": {
    "name": "ipython",
    "version": 3
   },
   "file_extension": ".py",
   "mimetype": "text/x-python",
   "name": "python",
   "nbconvert_exporter": "python",
   "pygments_lexer": "ipython3",
   "version": "3.11.5"
  },
  "vscode": {
   "interpreter": {
    "hash": "b0fa6594d8f4cbf19f97940f81e996739fb7646882a419484c72d19e05852a7e"
   }
  }
 },
 "nbformat": 4,
 "nbformat_minor": 5
}
