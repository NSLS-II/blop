{
 "cells": [
  {
   "attachments": {},
   "cell_type": "markdown",
   "id": "e7b5e13a-c059-441d-8d4f-fff080d52054",
   "metadata": {},
   "source": [
    "# Introduction (Himmelblau's function)\n",
    "\n"
   ]
  },
  {
   "attachments": {},
   "cell_type": "markdown",
   "id": "c18ef717",
   "metadata": {},
   "source": [
    "Let's use ``blop`` to minimize Himmelblau's function, subject to the constraint that $x_1^2 + x_2^2 < 50$. Our function looks like this:"
   ]
  },
  {
   "cell_type": "code",
   "execution_count": null,
   "id": "22438de8",
   "metadata": {},
   "outputs": [],
   "source": [
    "import numpy as np\n",
    "import matplotlib as mpl\n",
    "from matplotlib import pyplot as plt\n",
    "from blop.utils import functions\n",
    "\n",
    "x1 = x2 = np.linspace(-8, 8, 256)\n",
    "X1, X2 = np.meshgrid(x1, x2)\n",
    "from blop.tasks import Task\n",
    "\n",
    "task = Task(name=\"himmelblau\", kind=\"min\")\n",
    "F = functions.constrained_himmelblau(X1, X2)\n",
    "\n",
    "plt.pcolormesh(x1, x2, F, norm=mpl.colors.LogNorm(), cmap=\"gnuplot\")\n",
    "plt.colorbar()\n",
    "plt.xlabel(\"x1\")\n",
    "plt.ylabel(\"x2\")"
   ]
  },
  {
   "cell_type": "markdown",
   "id": "2500c410",
   "metadata": {},
   "source": [
    "There are several things that our agent will need. The first ingredient is some degrees of freedom (these are always `ophyd` devices) which the agent will move around to different inputs within each DOF's bounds (the second ingredient). We define these here:"
   ]
  },
  {
   "cell_type": "code",
   "execution_count": null,
   "id": "5d6df7a4",
   "metadata": {},
   "outputs": [],
   "source": [
    "from blop import devices\n",
    "\n",
    "dofs = [\n",
    "    {\"device\": devices.DOF(name=\"x1\"), \"limits\": (-8, 8), \"kind\": \"active\"},\n",
    "    {\"device\": devices.DOF(name=\"x2\"), \"limits\": (-8, 8), \"kind\": \"active\"},\n",
    "]"
   ]
  },
  {
   "cell_type": "markdown",
   "id": "54b6f23e",
   "metadata": {},
   "source": [
    "We also need to give the agent something to do. We want our agent to look in the feedback for a variable called \"himmelblau\", and try to minimize it."
   ]
  },
  {
   "cell_type": "code",
   "execution_count": null,
   "id": "c8556bc9",
   "metadata": {},
   "outputs": [],
   "source": [
    "tasks = [\n",
    "    {\"key\": \"himmelblau\", \"kind\": \"minimize\"},\n",
    "]"
   ]
  },
  {
   "attachments": {},
   "cell_type": "markdown",
   "id": "7a88c7bd",
   "metadata": {},
   "source": [
    "In our digestion function, we define our objective as a deterministic function of the inputs, returning a `NaN` when we violate the constraint:"
   ]
  },
  {
   "cell_type": "code",
   "execution_count": null,
   "id": "e6bfcf73",
   "metadata": {},
   "outputs": [],
   "source": [
    "def digestion(db, uid):\n",
    "    products = db[uid].table()\n",
    "\n",
    "    for index, entry in products.iterrows():\n",
    "        products.loc[index, \"himmelblau\"] = functions.constrained_himmelblau(entry.x1, entry.x2)\n",
    "\n",
    "    return products"
   ]
  },
  {
   "attachments": {},
   "cell_type": "markdown",
   "id": "0d3d91c3",
   "metadata": {},
   "source": [
    "We then combine these ingredients into an agent, giving it an instance of ``databroker`` so that it can see the output of the plans it runs."
   ]
  },
  {
   "cell_type": "code",
   "execution_count": null,
   "id": "071a829f-a390-40dc-9d5b-ae75702e119e",
   "metadata": {
    "tags": []
   },
   "outputs": [],
   "source": [
    "from blop.utils import prepare_re_env\n",
    "\n",
    "%run -i $prepare_re_env.__file__ --db-type=temp\n",
    "from blop.bayesian import Agent\n",
    "\n",
    "agent = Agent(\n",
    "    dofs=dofs,\n",
    "    tasks=tasks,\n",
    "    digestion=digestion,\n",
    "    db=db,\n",
    ")"
   ]
  },
  {
   "cell_type": "code",
   "execution_count": null,
   "id": "c4ec72a5",
   "metadata": {},
   "outputs": [],
   "source": [
    "import blop\n",
    "\n",
    "blop.bayesian.acquisition.parse_acq_func_identifier(acq_func_identifier=\"quasi-random\")"
   ]
  },
  {
   "cell_type": "markdown",
   "id": "27685849",
   "metadata": {},
   "source": [
    "Without any data, we can't make any inferences about what the function looks like, and so we can't use any non-trivial acquisition functions. "
   ]
  },
  {
   "cell_type": "code",
   "execution_count": null,
   "id": "996da937",
   "metadata": {},
   "outputs": [],
   "source": [
    "RE(agent.learn(\"quasi-random\", n=64))\n",
    "agent.plot_objectives()"
   ]
  },
  {
   "cell_type": "code",
   "execution_count": null,
   "id": "fb2fa8e9",
   "metadata": {},
   "outputs": [],
   "source": []
  },
  {
   "cell_type": "code",
   "execution_count": null,
   "id": "e1a56c4c",
   "metadata": {},
   "outputs": [],
   "source": []
  },
  {
   "attachments": {},
   "cell_type": "markdown",
   "id": "9ab3be01",
   "metadata": {},
   "source": [
    "In addition to modeling the fitness of the task, the agent models the probability that an input will be feasible:"
   ]
  },
  {
   "cell_type": "code",
   "execution_count": null,
   "id": "996c3c01-f91d-4a25-9b8d-eba5fa964504",
   "metadata": {
    "tags": []
   },
   "outputs": [],
   "source": [
    "agent.plot_constraint(cmap=\"viridis\")"
   ]
  },
  {
   "attachments": {},
   "cell_type": "markdown",
   "id": "ab608930",
   "metadata": {},
   "source": [
    "It combines the estimate of the objective and the estimate of the feasibility in deciding where to go:"
   ]
  },
  {
   "cell_type": "code",
   "execution_count": null,
   "id": "28c5c0df",
   "metadata": {
    "tags": []
   },
   "outputs": [],
   "source": [
    "X = agent.ask(\"qei\", n=8)"
   ]
  },
  {
   "cell_type": "code",
   "execution_count": null,
   "id": "50d627fe",
   "metadata": {},
   "outputs": [],
   "source": [
    "import scipy as sp\n",
    "\n",
    "X = sp.interpolate.interp1d(np.arange(len(X)), X, axis=0, kind=\"cubic\")(np.linspace(0, len(X) - 1, 16))\n",
    "plt.plot(*X.T)"
   ]
  },
  {
   "cell_type": "code",
   "execution_count": null,
   "id": "43b55f4f",
   "metadata": {},
   "outputs": [],
   "source": [
    "agent.plot_acquisition(acq_func=[\"ei\", \"pi\", \"ucb\"], cmap=\"viridis\")\n",
    "plt.plot(*X.T, c=\"r\", marker=\"x\")"
   ]
  },
  {
   "cell_type": "code",
   "execution_count": null,
   "id": "ca6cf39f",
   "metadata": {},
   "outputs": [],
   "source": [
    "import yaml\n",
    "\n",
    "with open(\"config.yml\", \"w\") as f:\n",
    "    yaml.safe_dump(ACQ_FUNC_CONFIG, f)"
   ]
  },
  {
   "cell_type": "code",
   "execution_count": null,
   "id": "ff1c5f1c",
   "metadata": {},
   "outputs": [],
   "source": [
    "RE(agent.learn(\"qei\", n_per_iter=4))"
   ]
  },
  {
   "attachments": {},
   "cell_type": "markdown",
   "id": "a79b56ac",
   "metadata": {},
   "source": [
    "The agent automatically tries to avoid infeasible points, but will end up naturally exploring the boundary of the constraint. Let's see where the agent is thinking of going:"
   ]
  },
  {
   "cell_type": "code",
   "execution_count": null,
   "id": "bc53bf67",
   "metadata": {
    "tags": []
   },
   "outputs": [],
   "source": [
    "agent.plot_objectives()\n",
    "agent.plot_acquisition(strategy=[\"ei\", \"pi\", \"ucb\"])"
   ]
  },
  {
   "attachments": {},
   "cell_type": "markdown",
   "id": "a43130e4",
   "metadata": {},
   "source": [
    "The agent will naturally explore the whole parameter space"
   ]
  },
  {
   "cell_type": "code",
   "execution_count": null,
   "id": "50b6582d",
   "metadata": {},
   "outputs": [],
   "source": [
    "RE(agent.learn(\"ei\", n_iter=16))\n",
    "agent.plot_objectives()"
   ]
  }
 ],
 "metadata": {
  "kernelspec": {
   "display_name": "Python 3.11.4 ('bluesky')",
   "language": "python",
   "name": "python3"
  },
  "language_info": {
   "codemirror_mode": {
    "name": "ipython",
    "version": 3
   },
   "file_extension": ".py",
   "mimetype": "text/x-python",
   "name": "python",
   "nbconvert_exporter": "python",
   "pygments_lexer": "ipython3",
   "version": "3.11.4"
  },
  "vscode": {
   "interpreter": {
    "hash": "eee21ccc240bdddd7cf04478199e20f7257541e2f592ca1a4d34ebdc0225d742"
   }
  }
 },
 "nbformat": 4,
 "nbformat_minor": 5
}
