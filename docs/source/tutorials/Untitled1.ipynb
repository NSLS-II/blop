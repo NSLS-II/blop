{
 "cells": [
  {
   "cell_type": "code",
   "execution_count": null,
   "id": "bb7b2eff-7c38-4a50-9a0f-9c27bd7cfc15",
   "metadata": {},
   "outputs": [],
   "source": [
    "from bloptools.utils import prepare_re_env\n",
    "\n",
    "%run -i $prepare_re_env.__file__ --db-type=temp\n",
    "from bloptools.utils import functions\n",
    "from bloptools.bayesian import DOF, Agent, BrownianMotion, Objective"
   ]
  },
  {
   "cell_type": "code",
   "execution_count": null,
   "id": "5e55ada4-bbab-48d0-8ba0-5c9b4880b363",
   "metadata": {},
   "outputs": [],
   "source": [
    "dofs = [\n",
    "    DOF(name=\"x1\", limits=(-5.0, 5.0)),\n",
    "    DOF(name=\"x2\", limits=(-5.0, 5.0)),\n",
    "    DOF(name=\"x3\", limits=(-5.0, 5.0), active=False),\n",
    "    DOF(BrownianMotion(name=\"brownian1\"), read_only=True),\n",
    "    DOF(BrownianMotion(name=\"brownian2\"), read_only=True, active=False),\n",
    "]\n",
    "\n",
    "objectives = [\n",
    "    Objective(key=\"himmelblau\", minimize=True),\n",
    "]\n",
    "\n",
    "agent = Agent(\n",
    "    dofs=dofs,\n",
    "    objectives=objectives,\n",
    "    digestion=functions.constrained_himmelblau_digestion,\n",
    "    db=db,\n",
    "    verbose=True,\n",
    "    tolerate_acquisition_errors=False,\n",
    ")\n",
    "\n",
    "RE(agent.learn(\"qr\", n=32))\n",
    "\n",
    "agent.plot_objectives()\n",
    "agent.plot_acquisition()\n",
    "agent.plot_validity()"
   ]
  },
  {
   "cell_type": "code",
   "execution_count": null,
   "id": "6793103c-684d-4e22-9ccd-ef0306cd80bf",
   "metadata": {},
   "outputs": [],
   "source": [
    "%debug"
   ]
  },
  {
   "cell_type": "code",
   "execution_count": null,
   "id": "63d9e7b5-03a3-4893-80ac-0611a4ab26e5",
   "metadata": {},
   "outputs": [],
   "source": []
  }
 ],
 "metadata": {
  "kernelspec": {
   "display_name": "Python 3 (ipykernel)",
   "language": "python",
   "name": "python3"
  },
  "language_info": {
   "codemirror_mode": {
    "name": "ipython",
    "version": 3
   },
   "file_extension": ".py",
   "mimetype": "text/x-python",
   "name": "python",
   "nbconvert_exporter": "python",
   "pygments_lexer": "ipython3",
   "version": "3.11.4"
  }
 },
 "nbformat": 4,
 "nbformat_minor": 5
}
