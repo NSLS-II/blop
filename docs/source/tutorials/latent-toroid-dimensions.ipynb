{
 "cells": [
  {
   "attachments": {},
   "cell_type": "markdown",
   "id": "e7b5e13a-c059-441d-8d4f-fff080d52054",
   "metadata": {},
   "source": [
    "# Finding latent dimensions for the toroidal mirror \n",
    "\n",
    "It is common that beamline inputs are highly coupled, and so the effect of an input on the beam cannot be understood except in concert with the others. In this example, we show how our agent figures out latent dimensions, as well as the benefit of doing so. "
   ]
  },
  {
   "cell_type": "code",
   "execution_count": null,
   "id": "fa8a6989",
   "metadata": {
    "tags": []
   },
   "outputs": [],
   "source": [
    "%run -i ~/repos/bloptools/examples/prepare_bluesky.py\n",
    "%run -i ~/repos/bloptools/examples/prepare_tes_shadow.py\n",
    "\n",
    "toroid_dofs = np.array([toroid.x_rot, toroid.offz])\n",
    "toroid_bounds = np.array([[-1e-3, 1e-3], [-4e-1, +4e-1]])"
   ]
  },
  {
   "cell_type": "code",
   "execution_count": null,
   "id": "071a829f-a390-40dc-9d5b-ae75702e119e",
   "metadata": {
    "tags": []
   },
   "outputs": [],
   "source": [
    "from bloptools.bayesian import Agent\n",
    "from bloptools.experiments.sirepo.tes import w8_digestion\n",
    "from bloptools.tasks import Task\n",
    "\n",
    "beam_flux_task = Task(key=\"flux\", kind=\"max\", transform=lambda x: np.log(x))\n",
    "\n",
    "agent = Agent(\n",
    "    active_dofs=toroid_dofs,\n",
    "    active_dof_bounds=toroid_bounds,\n",
    "    detectors=[w8],\n",
    "    tasks=[beam_flux_task],\n",
    "    digestion=w8_digestion,\n",
    "    db=db,\n",
    ")\n",
    "\n",
    "RE(agent.initialize(acqf=\"qr\", n_init=24))"
   ]
  },
  {
   "attachments": {},
   "cell_type": "markdown",
   "id": "a6259a4f",
   "metadata": {},
   "source": [
    "We can see that the beam is only not cut off (i.e. it has a non-zero flux) in a diagonal strip, and that in fact this is really just a one-dimensional optimization problem in some diagonal dimension. Our agent has figured this out, with a transformation matrix that has a long coherence length in one dimension and a short coherence length orthogonal to it:"
   ]
  },
  {
   "cell_type": "code",
   "execution_count": null,
   "id": "6e17e666",
   "metadata": {},
   "outputs": [],
   "source": [
    "agent.tasks[0].regressor.covar_module.latent_dimensions"
   ]
  },
  {
   "cell_type": "code",
   "execution_count": null,
   "id": "996c3c01-f91d-4a25-9b8d-eba5fa964504",
   "metadata": {
    "tags": []
   },
   "outputs": [],
   "source": [
    "agent.plot_tasks()\n",
    "agent.plot_feasibility()\n",
    "agent.plot_acquisition(strategy=[\"ei\", \"pi\", \"ucb\"])"
   ]
  }
 ],
 "metadata": {
  "kernelspec": {
   "display_name": "Python 3 (ipykernel)",
   "language": "python",
   "name": "python3"
  },
  "language_info": {
   "codemirror_mode": {
    "name": "ipython",
    "version": 3
   },
   "file_extension": ".py",
   "mimetype": "text/x-python",
   "name": "python",
   "nbconvert_exporter": "python",
   "pygments_lexer": "ipython3",
   "version": "3.9.16"
  },
  "vscode": {
   "interpreter": {
    "hash": "9aced674e98d511b4f654e147532c84d38dc986fe042b1e92785fb9d8df41f75"
   }
  }
 },
 "nbformat": 4,
 "nbformat_minor": 5
}
