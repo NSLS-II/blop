{
 "cells": [
  {
   "attachments": {},
   "cell_type": "markdown",
   "id": "e7b5e13a-c059-441d-8d4f-fff080d52054",
   "metadata": {},
   "source": [
    "# Hyperparameters\n",
    "\n",
    "Consider the test function of two inputs $f(x_1, x_2) = e^{- (x_1/10)^2 - x_2^2}$. We can see that this function varies more quickly in the $x_1$ direction than the $x_2$ direction, especially if we look at the plot:"
   ]
  },
  {
   "cell_type": "code",
   "execution_count": null,
   "id": "22438de8",
   "metadata": {},
   "outputs": [],
   "source": [
    "import numpy as np\n",
    "import matplotlib as mpl\n",
    "from matplotlib import pyplot as plt\n",
    "\n",
    "x1 = x2 = np.linspace(-10, 10, 256)\n",
    "X1, X2 = np.meshgrid(x1, x2)\n",
    "\n",
    "F = -np.exp(-((X1 / 8) ** 2)) * np.exp(-(X2**2))\n",
    "\n",
    "plt.pcolormesh(x1, x2, F, shading=\"auto\")\n",
    "plt.colorbar()\n",
    "plt.xlabel(\"x1\")\n",
    "plt.ylabel(\"x2\")"
   ]
  },
  {
   "attachments": {},
   "cell_type": "markdown",
   "id": "7a88c7bd",
   "metadata": {},
   "source": [
    "The optimization goes faster if our model understands how the function changes as we change the inputs in different ways. The way it picks up on this is by starting from a general model that could describe a lot of functions, and making it specific to this one by choosing the right hyperparameters. Our Bayesian agent is very good at this, and only needs a few samples to figure out what the function looks like:"
   ]
  },
  {
   "cell_type": "code",
   "execution_count": null,
   "id": "071a829f-a390-40dc-9d5b-ae75702e119e",
   "metadata": {
    "tags": []
   },
   "outputs": [],
   "source": [
    "%run -i ../../../examples/prepare_bluesky.py # prepare the bluesky environment\n",
    "\n",
    "import bloptools\n",
    "from bloptools.tasks import Task\n",
    "\n",
    "dofs = bloptools.devices.dummy_dofs(n=2)\n",
    "bounds = [(-8, 8), (-8, 8)]\n",
    "\n",
    "task = Task(key=\"loss\", kind=\"min\")\n",
    "\n",
    "\n",
    "def digestion(db, uid):\n",
    "    products = db[uid].table()\n",
    "\n",
    "    for index, entry in products.iterrows():\n",
    "        products.loc[index, \"loss\"] = -np.exp(-1e-2 * entry.x1**2) * np.exp(-1e-1 * entry.x2**2)\n",
    "\n",
    "    return products\n",
    "\n",
    "\n",
    "agent = bloptools.bayesian.Agent(\n",
    "    active_dofs=dofs,\n",
    "    passive_dofs=[],\n",
    "    active_dof_bounds=bounds,\n",
    "    tasks=[task],\n",
    "    digestion=digestion,\n",
    "    db=db,\n",
    ")\n",
    "\n",
    "RE(agent.initialize(acqf=\"qr\", n_init=16))\n",
    "\n",
    "agent.plot_tasks()"
   ]
  },
  {
   "cell_type": "code",
   "execution_count": null,
   "id": "8fba0f0c",
   "metadata": {},
   "outputs": [],
   "source": [
    "agent.tasks[0].regressor.covar_module.latent_dimensions"
   ]
  },
  {
   "attachments": {},
   "cell_type": "markdown",
   "id": "9ab3be01",
   "metadata": {},
   "source": [
    "In addition to modeling the fitness of the task, the agent models the probability that an input will be feasible:"
   ]
  },
  {
   "cell_type": "code",
   "execution_count": null,
   "id": "bc53bf67",
   "metadata": {
    "tags": []
   },
   "outputs": [],
   "source": [
    "agent.plot_acquisition(strategy=[\"ei\", \"pi\", \"ucb\"])"
   ]
  },
  {
   "cell_type": "code",
   "execution_count": null,
   "id": "ebc65169",
   "metadata": {},
   "outputs": [],
   "source": [
    "RE(agent.learn(\"ei\", n_iter=4))\n",
    "agent.plot_tasks()"
   ]
  }
 ],
 "metadata": {
  "kernelspec": {
   "display_name": "Python 3 (ipykernel)",
   "language": "python",
   "name": "python3"
  },
  "language_info": {
   "codemirror_mode": {
    "name": "ipython",
    "version": 3
   },
   "file_extension": ".py",
   "mimetype": "text/x-python",
   "name": "python",
   "nbconvert_exporter": "python",
   "pygments_lexer": "ipython3",
   "version": "3.9.16"
  },
  "vscode": {
   "interpreter": {
    "hash": "9aced674e98d511b4f654e147532c84d38dc986fe042b1e92785fb9d8df41f75"
   }
  }
 },
 "nbformat": 4,
 "nbformat_minor": 5
}
