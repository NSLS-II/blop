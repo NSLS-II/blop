{
 "cells": [
  {
   "cell_type": "code",
   "execution_count": null,
   "id": "9b72e238-f9c5-44ff-b519-63cdbfc8db3b",
   "metadata": {},
   "outputs": [],
   "source": [
    "from bloptools.utils import functions\n",
    "from bloptools.bayesian import DOF, Agent, BrownianMotion, Objective\n",
    "\n",
    "\n",
    "dofs = [\n",
    "    DOF(name=\"x1\", limits=(-5.0, 5.0)),\n",
    "    DOF(name=\"x2\", limits=(-5.0, 5.0)),\n",
    "    DOF(name=\"x3\", limits=(-5.0, 5.0), active=False),\n",
    "    DOF(BrownianMotion(name=\"brownian1\"), read_only=True),\n",
    "    DOF(BrownianMotion(name=\"brownian2\"), read_only=True, active=False),\n",
    "]\n",
    "\n",
    "objectives = [\n",
    "    Objective(key=\"himmelblau\", minimize=True),\n",
    "]\n",
    "\n",
    "agent = Agent(\n",
    "    dofs=dofs,\n",
    "    objectives=objectives,\n",
    "    digestion=functions.constrained_himmelblau_digestion,\n",
    "    db=db,\n",
    "    verbose=True,\n",
    "    tolerate_acquisition_errors=False,\n",
    ")\n",
    "\n",
    "RE(agent.learn(\"qr\", n=32))\n",
    "\n",
    "agent.plot_objectives()\n",
    "agent.plot_acquisition()\n",
    "agent.plot_validity()"
   ]
  },
  {
   "cell_type": "code",
   "execution_count": null,
   "id": "5b54b7c0-f1b2-4544-84fb-b581fb93f5d9",
   "metadata": {},
   "outputs": [],
   "source": []
  }
 ],
 "metadata": {
  "kernelspec": {
   "display_name": "Python 3 (ipykernel)",
   "language": "python",
   "name": "python3"
  },
  "language_info": {
   "codemirror_mode": {
    "name": "ipython",
    "version": 3
   },
   "file_extension": ".py",
   "mimetype": "text/x-python",
   "name": "python",
   "nbconvert_exporter": "python",
   "pygments_lexer": "ipython3",
   "version": "3.11.4"
  }
 },
 "nbformat": 4,
 "nbformat_minor": 5
}
