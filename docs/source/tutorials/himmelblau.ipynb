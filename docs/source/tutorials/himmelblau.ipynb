{
 "cells": [
  {
   "attachments": {},
   "cell_type": "markdown",
   "id": "e7b5e13a-c059-441d-8d4f-fff080d52054",
   "metadata": {},
   "source": [
    "# Feasibility modeling\n",
    "\n"
   ]
  },
  {
   "attachments": {},
   "cell_type": "markdown",
   "id": "c18ef717",
   "metadata": {},
   "source": [
    "A more complicated example involves minimizing in two dimensions, where some parts of the parameter space are off-limits. Let's minimize Himmelblau's function, subject to the constraint that $x_1^2 + x_2^2 < 36$"
   ]
  },
  {
   "cell_type": "code",
   "execution_count": null,
   "id": "22438de8",
   "metadata": {},
   "outputs": [],
   "source": [
    "import numpy as np\n",
    "import matplotlib as mpl\n",
    "from matplotlib import pyplot as plt\n",
    "from bloptools import test_functions\n",
    "\n",
    "x1 = x2 = np.linspace(-8, 8, 256)\n",
    "X1, X2 = np.meshgrid(x1, x2)\n",
    "\n",
    "F = test_functions.himmelblau(X1, X2)\n",
    "F[X1 ** 2 + X2 ** 2 > 50] = np.nan\n",
    "\n",
    "plt.pcolormesh(x1, x2, F, norm=mpl.colors.LogNorm(), shading=\"auto\")\n",
    "plt.colorbar()\n",
    "plt.xlabel(\"x1\")\n",
    "plt.ylabel(\"x2\")\n"
   ]
  },
  {
   "attachments": {},
   "cell_type": "markdown",
   "id": "7a88c7bd",
   "metadata": {},
   "source": [
    "In our digestion function, we return a `NaN` when we violate the constraint:"
   ]
  },
  {
   "cell_type": "code",
   "execution_count": null,
   "id": "e6bfcf73",
   "metadata": {},
   "outputs": [],
   "source": [
    "def digestion(db, uid):\n",
    "\n",
    "    products = db[uid].table()\n",
    "\n",
    "    for index, entry in products.iterrows():\n",
    "\n",
    "        if entry.x1 ** 2 + entry.x2 ** 2 < 50:\n",
    "            products.loc[index, \"himmelblau\"] = test_functions.himmelblau(entry.x1, entry.x2)\n",
    "        else:\n",
    "            products.loc[index, \"himmelblau\"] = np.nan\n",
    "\n",
    "    return products"
   ]
  },
  {
   "attachments": {},
   "cell_type": "markdown",
   "id": "0d3d91c3",
   "metadata": {},
   "source": [
    "and create the agent in the usual way:"
   ]
  },
  {
   "cell_type": "code",
   "execution_count": null,
   "id": "071a829f-a390-40dc-9d5b-ae75702e119e",
   "metadata": {
    "tags": []
   },
   "outputs": [],
   "source": [
    "%run -i ../../../examples/prepare_bluesky.py # prepare the bluesky environment\n",
    "\n",
    "agent = bloptools.bayesian.Agent(\n",
    "                                active_dofs=dofs,\n",
    "                                passive_dofs=[],\n",
    "                                active_dof_bounds=bounds,\n",
    "                                tasks=[task],\n",
    "                                digestion=digestion,\n",
    "                                db=db,\n",
    "                                )\n",
    "\n",
    "RE(agent.initialize(init_scheme='quasi-random', n_init=16))\n",
    "\n",
    "agent.plot_tasks()\n"
   ]
  },
  {
   "attachments": {},
   "cell_type": "markdown",
   "id": "9ab3be01",
   "metadata": {},
   "source": [
    "In addition to modeling the fitness of the task, the agent models the probability that an input will be feasible:"
   ]
  },
  {
   "cell_type": "code",
   "execution_count": null,
   "id": "996c3c01-f91d-4a25-9b8d-eba5fa964504",
   "metadata": {
    "tags": []
   },
   "outputs": [],
   "source": [
    "agent.plot_feasibility()"
   ]
  },
  {
   "attachments": {},
   "cell_type": "markdown",
   "id": "a79b56ac",
   "metadata": {},
   "source": [
    "The agent automatically tries to avoid infeasible points, but will end up naturally exploring the boundary of the constraint. Let's see where the agent is thinking of going:"
   ]
  },
  {
   "cell_type": "code",
   "execution_count": null,
   "id": "84a76eb9",
   "metadata": {
    "tags": []
   },
   "outputs": [],
   "source": [
    "agent.plot_acquisition(strategy=[\"ei\", \"pi\", \"ucb\"])"
   ]
  },
  {
   "cell_type": "code",
   "execution_count": null,
   "id": "ebc65169",
   "metadata": {},
   "outputs": [],
   "source": [
    "RE(agent.learn(strategy='ei', n_iter=4))\n",
    "agent.plot_tasks()"
   ]
  },
  {
   "attachments": {},
   "cell_type": "markdown",
   "id": "a43130e4",
   "metadata": {},
   "source": [
    "The agent will naturally explore the whole parameter space"
   ]
  },
  {
   "cell_type": "code",
   "execution_count": null,
   "id": "79fad8eb",
   "metadata": {},
   "outputs": [],
   "source": [
    "RE(agent.learn(strategy='ei', n_iter=16))\n",
    "agent.plot_tasks()"
   ]
  },
  {
   "cell_type": "code",
   "execution_count": null,
   "id": "40491b5b",
   "metadata": {},
   "outputs": [],
   "source": []
  }
 ],
 "metadata": {
  "kernelspec": {
   "display_name": "Python 3 (ipykernel)",
   "language": "python",
   "name": "python3"
  },
  "language_info": {
   "codemirror_mode": {
    "name": "ipython",
    "version": 3
   },
   "file_extension": ".py",
   "mimetype": "text/x-python",
   "name": "python",
   "nbconvert_exporter": "python",
   "pygments_lexer": "ipython3",
   "version": "3.9.16"
  },
  "vscode": {
   "interpreter": {
    "hash": "9aced674e98d511b4f654e147532c84d38dc986fe042b1e92785fb9d8df41f75"
   }
  }
 },
 "nbformat": 4,
 "nbformat_minor": 5
}
