{
 "cells": [
  {
   "attachments": {},
   "cell_type": "markdown",
   "id": "e7b5e13a-c059-441d-8d4f-fff080d52054",
   "metadata": {},
   "source": [
    "# Custom acquisition plans\n",
    "\n",
    "The simplest acqusition plan for a beamline is to move some motor inputs to some positions, and then trigger some detectors. Often, though, we want to investigate behaviors more complex than this. Consider the example of aligning the spectrometer at the Inner-Shell Spectroscopy (ISS) beamline at NSLS-II, which operates by modulating the energy of a beam on a sample and watching the resulting flux rise, peak, and then fall. \n",
    "\n",
    "We can build a toy model of this spectrometer using custom acquisition and digestion functions. Let's pretend that we can vary two inputs $\\mathbf{x} = (x_1, x_2)$, and that the resolution of the spectrometer is equal to \n",
    "\n",
    "$\\nu_\\sigma = \\big (1 + x_1^2 + (x_2 - 1)^2 \\big)^{1/2}$\n",
    "\n",
    "which has a single minimum at $(0,1)$. We can't sample this value directly, rather we can sample how the resulting flux peaks as we vary the energy $\\nu$. Let's pretend that it looks like a Gaussian:\n",
    "\n",
    "$I(\\nu) = \\exp \\Big [ - 0.5 (\\nu - \\nu_0)^2 / \\nu_\\sigma^2 \\Big ]$\n",
    "\n",
    "To find the inputs that lead to the tightest spectrum, we need to vary $\\mathbf{x}$, scan over $\\nu$, and then estimate the resolution for the agent to optimize over. Let's write acquisition and digestion functions to do this: "
   ]
  },
  {
   "cell_type": "code",
   "execution_count": null,
   "id": "92c202e2",
   "metadata": {},
   "outputs": [],
   "source": [
    "import numpy as np\n",
    "\n",
    "\n",
    "\n",
    "\n",
    "\n",
    "\n",
    "def acquisition(dofs, inputs, dets):\n",
    "\n",
    "    uid = yield from bp.list_scan\n",
    "\n",
    "    for x in inputs:\n",
    "\n",
    "        res = np.sqrt(1 + np.square(x).sum()) # our resolution is \n",
    "\n",
    "        nu_sigma = np.sqrt(1 + x1 ** 2 + (x2 - 1) ** 2)\n",
    "\n",
    "        flux = np.exp(-0.5*np.square((nu-nu_0)/nu_sigma))\n",
    "\n"
   ]
  },
  {
   "cell_type": "code",
   "execution_count": null,
   "id": "0ba0bb16",
   "metadata": {},
   "outputs": [],
   "source": [
    "import numpy as np\n",
    "from matplotlib import pyplot as plt\n",
    "\n",
    "\n",
    "nu_0 = 100\n",
    "\n",
    "nu = np.linspace(90, 110, 256)\n",
    "\n",
    "for x1, x2 in [(0,0), (-2, 2), (-1,0), (0, 1)]:\n",
    "\n",
    "    nu_sigma = np.sqrt(1 + x1 ** 2 + (x2 - 1) ** 2)\n",
    "\n",
    "    flux = np.exp(-0.5*np.square((nu-nu_0)/nu_sigma))\n",
    "\n",
    "    plt.plot(nu, flux, label=f\"(x1, x2) = ({x1}, {x2})\")\n",
    "\n",
    "plt.legend()\n"
   ]
  },
  {
   "attachments": {},
   "cell_type": "markdown",
   "id": "1075cb6a",
   "metadata": {},
   "source": [
    "To find the inputs that lead to the tightest spectrum, we need to vary $\\mathbf{x}$, scan over $\\nu$, and then estimate the resolution for the agent to optimize over. Let's write acquisition and digestion functions to do this: "
   ]
  },
  {
   "cell_type": "code",
   "execution_count": null,
   "id": "a215e07c",
   "metadata": {},
   "outputs": [],
   "source": [
    "import blop "
   ]
  },
  {
   "cell_type": "code",
   "execution_count": null,
   "id": "16284c01",
   "metadata": {},
   "outputs": [],
   "source": []
  },
  {
   "attachments": {},
   "cell_type": "markdown",
   "id": "d74122cf",
   "metadata": {},
   "source": [
    "This determines what the agent will do when it investigates new inputs. \n",
    "\n",
    "The only constraint on this function is that it accepts arguments `(dofs, inputs, dets)` as defined previously. "
   ]
  },
  {
   "cell_type": "code",
   "execution_count": null,
   "id": "1773308a",
   "metadata": {},
   "outputs": [],
   "source": []
  },
  {
   "cell_type": "code",
   "execution_count": null,
   "id": "fa8a6989",
   "metadata": {
    "tags": []
   },
   "outputs": [],
   "source": [
    "%run -i ../../../examples/prepare_bluesky.py\n",
    "%run -i ../../../examples/prepare_tes_shadow.py\n",
    "\n",
    "kb_dofs = [kbv.x_rot, kbh.x_rot]\n",
    "kb_bounds = np.array([[-0.10, +0.10], [-0.10, +0.10]]) \n",
    "\n",
    "for dof in kb_dofs:\n",
    "    dof.kind = \"hinted\""
   ]
  },
  {
   "cell_type": "code",
   "execution_count": null,
   "id": "071a829f-a390-40dc-9d5b-ae75702e119e",
   "metadata": {
    "tags": []
   },
   "outputs": [],
   "source": [
    "\n",
    "from bloptools.bayesian import Agent\n",
    "from bloptools.experiments.sirepo import tes\n",
    "\n",
    "boa = Agent(\n",
    "       dofs=kb_dofs, \n",
    "       bounds=kb_bounds,\n",
    "       detectors=[w9],\n",
    "       tasks=[tes.MinBeamWidth, tes.MinBeamHeight, tes.MaxBeamFlux],\n",
    "       acquisition=tes.acquisition,\n",
    "       digestion=tes.digestion,\n",
    "       db=db,\n",
    ")\n",
    "\n",
    "RE(boa.initialize(init_scheme='quasi-random', n_init=16))"
   ]
  },
  {
   "attachments": {},
   "cell_type": "markdown",
   "id": "a6259a4f",
   "metadata": {},
   "source": [
    "For each task, we plot the sampled data and the model's posterior with respect to two inputs to the KB mirrors. We can see that each tasks responds very differently to different motors, which is very useful to the optimizer. "
   ]
  },
  {
   "cell_type": "code",
   "execution_count": null,
   "id": "996c3c01-f91d-4a25-9b8d-eba5fa964504",
   "metadata": {
    "tags": []
   },
   "outputs": [],
   "source": [
    "boa.plot_tasks()"
   ]
  },
  {
   "attachments": {},
   "cell_type": "markdown",
   "id": "296d9fd2",
   "metadata": {},
   "source": [
    "Let's optimize:"
   ]
  },
  {
   "cell_type": "code",
   "execution_count": null,
   "id": "d6b39b54",
   "metadata": {
    "tags": []
   },
   "outputs": [],
   "source": [
    "RE(boa.learn(strategy='esti', n_iter=1, n_per_iter=4))\n",
    "boa.plot_tasks()"
   ]
  },
  {
   "attachments": {},
   "cell_type": "markdown",
   "id": "e23e920c",
   "metadata": {},
   "source": [
    "The agent has learned that certain dimensions affect different tasks differently!"
   ]
  }
 ],
 "metadata": {
  "kernelspec": {
   "display_name": "Python 3 (ipykernel)",
   "language": "python",
   "name": "python3"
  },
  "language_info": {
   "codemirror_mode": {
    "name": "ipython",
    "version": 3
   },
   "file_extension": ".py",
   "mimetype": "text/x-python",
   "name": "python",
   "nbconvert_exporter": "python",
   "pygments_lexer": "ipython3",
   "version": "3.9.16"
  },
  "vscode": {
   "interpreter": {
    "hash": "9aced674e98d511b4f654e147532c84d38dc986fe042b1e92785fb9d8df41f75"
   }
  }
 },
 "nbformat": 4,
 "nbformat_minor": 5
}
