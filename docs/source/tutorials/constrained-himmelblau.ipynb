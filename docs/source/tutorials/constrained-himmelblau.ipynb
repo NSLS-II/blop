{
 "cells": [
  {
   "attachments": {},
   "cell_type": "markdown",
   "id": "e7b5e13a-c059-441d-8d4f-fff080d52054",
   "metadata": {},
   "source": [
    "# Feasibility modeling\n",
    "\n"
   ]
  },
  {
   "attachments": {},
   "cell_type": "markdown",
   "id": "c18ef717",
   "metadata": {},
   "source": [
    "A more complicated example involves minimizing in two dimensions, where some parts of the parameter space are off-limits. Let's minimize Himmelblau's function, subject to the constraint that $x_1^2 + x_2^2 < 50$"
   ]
  },
  {
   "cell_type": "code",
   "execution_count": null,
   "id": "22438de8",
   "metadata": {},
   "outputs": [],
   "source": [
    "import numpy as np\n",
    "import matplotlib as mpl\n",
    "from matplotlib import pyplot as plt\n",
    "from bloptools import test_functions\n",
    "\n",
    "x1 = x2 = np.linspace(-8, 8, 256)\n",
    "X1, X2 = np.meshgrid(x1, x2)\n",
    "from bloptools.tasks import Task\n",
    "\n",
    "task = Task(key=\"himmelblau\", kind=\"min\")\n",
    "F = test_functions.constrained_himmelblau(X1, X2)\n",
    "\n",
    "plt.pcolormesh(x1, x2, F, norm=mpl.colors.LogNorm(), shading=\"auto\")\n",
    "plt.colorbar()\n",
    "plt.xlabel(\"x1\")\n",
    "plt.ylabel(\"x2\")"
   ]
  },
  {
   "attachments": {},
   "cell_type": "markdown",
   "id": "7a88c7bd",
   "metadata": {},
   "source": [
    "where everything outside our constraint is undefined. In our digestion function, we return a `NaN` when we violate the constraint:"
   ]
  },
  {
   "cell_type": "code",
   "execution_count": null,
   "id": "e6bfcf73",
   "metadata": {},
   "outputs": [],
   "source": [
    "def digestion(db, uid):\n",
    "    products = db[uid].table()\n",
    "\n",
    "    for index, entry in products.iterrows():\n",
    "        products.loc[index, \"himmelblau\"] = test_functions.constrained_himmelblau(entry.x1, entry.x2)\n",
    "\n",
    "    return products"
   ]
  },
  {
   "attachments": {},
   "cell_type": "markdown",
   "id": "0d3d91c3",
   "metadata": {},
   "source": [
    "and create the agent in the usual way:"
   ]
  },
  {
   "cell_type": "code",
   "execution_count": null,
   "id": "071a829f-a390-40dc-9d5b-ae75702e119e",
   "metadata": {
    "tags": []
   },
   "outputs": [],
   "source": [
    "from bloptools.utils import prepare_re_env\n",
    "\n",
    "%run -i $prepare_re_env.__file__ --db-type=temp\n",
    "\n",
    "from bloptools import devices\n",
    "from bloptools.bayesian import Agent\n",
    "\n",
    "dofs = [\n",
    "    {\"device\": devices.DOF(name=\"x1\"), \"limits\": (-8, 8), \"kind\": \"active\"},\n",
    "    {\"device\": devices.DOF(name=\"x2\"), \"limits\": (-8, 8), \"kind\": \"active\"},\n",
    "]\n",
    "\n",
    "tasks = [\n",
    "    {\"key\": \"himmelblau\", \"kind\": \"minimize\"},\n",
    "]\n",
    "\n",
    "agent = Agent(\n",
    "    dofs=dofs,\n",
    "    tasks=tasks,\n",
    "    digestion=digestion,\n",
    "    db=db,\n",
    ")\n",
    "\n",
    "RE(agent.initialize(\"qr\", n_init=64))\n",
    "\n",
    "agent.plot_tasks()"
   ]
  },
  {
   "attachments": {},
   "cell_type": "markdown",
   "id": "9ab3be01",
   "metadata": {},
   "source": [
    "In addition to modeling the fitness of the task, the agent models the probability that an input will be feasible:"
   ]
  },
  {
   "cell_type": "code",
   "execution_count": null,
   "id": "996c3c01-f91d-4a25-9b8d-eba5fa964504",
   "metadata": {
    "tags": []
   },
   "outputs": [],
   "source": [
    "agent.plot_validity()"
   ]
  },
  {
   "attachments": {},
   "cell_type": "markdown",
   "id": "ab608930",
   "metadata": {},
   "source": [
    "It combines the estimate of the objective and the estimate of the feasibility in deciding where to go:"
   ]
  },
  {
   "cell_type": "code",
   "execution_count": null,
   "id": "28c5c0df",
   "metadata": {
    "tags": []
   },
   "outputs": [],
   "source": [
    "agent.plot_acquisition(acq_func=[\"ei\", \"pi\", \"ucb\"])"
   ]
  },
  {
   "cell_type": "code",
   "execution_count": null,
   "id": "ff1c5f1c",
   "metadata": {},
   "outputs": [],
   "source": [
    "RE(agent.learn(\"ei\", n_per_iter=4))"
   ]
  },
  {
   "attachments": {},
   "cell_type": "markdown",
   "id": "a79b56ac",
   "metadata": {},
   "source": [
    "The agent automatically tries to avoid infeasible points, but will end up naturally exploring the boundary of the constraint. Let's see where the agent is thinking of going:"
   ]
  },
  {
   "cell_type": "code",
   "execution_count": null,
   "id": "bc53bf67",
   "metadata": {
    "tags": []
   },
   "outputs": [],
   "source": [
    "agent.plot_tasks()\n",
    "agent.plot_acquisition(strategy=[\"ei\", \"pi\", \"ucb\"])"
   ]
  },
  {
   "attachments": {},
   "cell_type": "markdown",
   "id": "a43130e4",
   "metadata": {},
   "source": [
    "The agent will naturally explore the whole parameter space"
   ]
  },
  {
   "cell_type": "code",
   "execution_count": null,
   "id": "50b6582d",
   "metadata": {},
   "outputs": [],
   "source": [
    "RE(agent.learn(\"ei\", n_iter=16))\n",
    "agent.plot_tasks()"
   ]
  }
 ],
 "metadata": {
  "kernelspec": {
   "display_name": "Python 3.11.4 ('bluesky')",
   "language": "python",
   "name": "python3"
  },
  "language_info": {
   "codemirror_mode": {
    "name": "ipython",
    "version": 3
   },
   "file_extension": ".py",
   "mimetype": "text/x-python",
   "name": "python",
   "nbconvert_exporter": "python",
   "pygments_lexer": "ipython3",
   "version": "3.11.4"
  },
  "vscode": {
   "interpreter": {
    "hash": "eee21ccc240bdddd7cf04478199e20f7257541e2f592ca1a4d34ebdc0225d742"
   }
  }
 },
 "nbformat": 4,
 "nbformat_minor": 5
}
