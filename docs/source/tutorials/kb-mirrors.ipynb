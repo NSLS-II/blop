{
 "cells": [
  {
   "cell_type": "markdown",
   "id": "0",
   "metadata": {},
   "source": [
    "# KB Mirrors\n",
    "\n",
    "This example simulates the alignment of a KB mirror endstation (with four degrees of freedom)."
   ]
  },
  {
   "cell_type": "code",
   "execution_count": null,
   "id": "33b45fff",
   "metadata": {},
   "outputs": [
    {
     "name": "stderr",
     "output_type": "stream",
     "text": [
      "/home/jmoylan1/Documents/Github/blop/.pixi/envs/default/lib/python3.11/site-packages/dask/dataframe/_pyarrow_compat.py:15: FutureWarning: Minimal version of pyarrow will soon be increased to 14.0.1. You are using 12.0.1. Please consider upgrading.\n",
      "  warnings.warn(\n",
      "Tiled version 0.1.0b22\n"
     ]
    }
   ],
   "source": [
    "import datetime\n",
    "\n",
    "import matplotlib.pyplot as plt\n",
    "import numpy as np\n",
    "from bluesky.callbacks import best_effort\n",
    "from bluesky.callbacks.tiled_writer import TiledWriter\n",
    "from bluesky.run_engine import RunEngine\n",
    "from ophyd.utils import make_dir_tree\n",
    "from tiled.client import from_uri\n",
    "from tiled.server import SimpleTiledServer\n",
    "\n",
    "from blop.sim import beamline\n",
    "\n",
    "tiled_server = SimpleTiledServer(readable_storage=[beamline.DECTECTOR_STORAGE])\n",
    "tiled_client = from_uri(tiled_server.uri)\n",
    "tiled_writer = TiledWriter(tiled_client)\n",
    "\n",
    "\n",
    "def setup_re_env(db_type=\"default\", root_dir=\"/default/path\"):\n",
    "    RE = RunEngine({})\n",
    "    bec = best_effort.BestEffortCallback()\n",
    "    RE.subscribe(bec)\n",
    "    RE.subscribe(tiled_writer)\n",
    "    _ = make_dir_tree(datetime.datetime.now().year, base_path=root_dir)\n",
    "    return {\"RE\": RE, \"tiled\": tiled_client, \"bec\": bec}\n",
    "\n",
    "\n",
    "env = setup_re_env(db_type=\"temp\", root_dir=\"/tmp/blop/test/sim\")\n",
    "globals().update(env)\n",
    "\n",
    "bec.disable_plots()"
   ]
  },
  {
   "cell_type": "code",
   "execution_count": 2,
   "id": "1",
   "metadata": {},
   "outputs": [],
   "source": [
    "# from blop.utils import prepare_re_env\n",
    "#from blop.utils import prepare_re_env  # noqa\n",
    "\n",
    "# %run -i $prepare_re_env.__file__ --db-type=temp\n",
    "# bec.disable_plots()"
   ]
  },
  {
   "cell_type": "code",
   "execution_count": 3,
   "id": "2",
   "metadata": {},
   "outputs": [
    {
     "name": "stderr",
     "output_type": "stream",
     "text": [
      "/home/jmoylan1/Documents/Github/blop/.pixi/envs/default/lib/python3.11/site-packages/tqdm/auto.py:21: TqdmWarning: IProgress not found. Please update jupyter and ipywidgets. See https://ipywidgets.readthedocs.io/en/stable/user_install.html\n",
      "  from .autonotebook import tqdm as notebook_tqdm\n"
     ]
    }
   ],
   "source": [
    "from blop.sim import Beamline\n",
    "\n",
    "beamline = Beamline(name=\"bl\")"
   ]
  },
  {
   "cell_type": "code",
   "execution_count": 4,
   "id": "3",
   "metadata": {},
   "outputs": [
    {
     "ename": "NameError",
     "evalue": "name 'tiled' is not defined",
     "output_type": "error",
     "traceback": [
      "\u001b[31m---------------------------------------------------------------------------\u001b[39m",
      "\u001b[31mNameError\u001b[39m                                 Traceback (most recent call last)",
      "\u001b[36mCell\u001b[39m\u001b[36m \u001b[39m\u001b[32mIn[4]\u001b[39m\u001b[32m, line 26\u001b[39m\n\u001b[32m      6\u001b[39m dofs = [\n\u001b[32m      7\u001b[39m     DOF(description=\u001b[33m\"\u001b[39m\u001b[33mKBV downstream\u001b[39m\u001b[33m\"\u001b[39m, device=beamline.kbv_dsv, search_domain=(-\u001b[32m5.0\u001b[39m, \u001b[32m5.0\u001b[39m)),\n\u001b[32m      8\u001b[39m     DOF(description=\u001b[33m\"\u001b[39m\u001b[33mKBV upstream\u001b[39m\u001b[33m\"\u001b[39m, device=beamline.kbv_usv, search_domain=(-\u001b[32m5.0\u001b[39m, \u001b[32m5.0\u001b[39m)),\n\u001b[32m      9\u001b[39m     DOF(description=\u001b[33m\"\u001b[39m\u001b[33mKBH downstream\u001b[39m\u001b[33m\"\u001b[39m, device=beamline.kbh_dsh, search_domain=(-\u001b[32m5.0\u001b[39m, \u001b[32m5.0\u001b[39m)),\n\u001b[32m     10\u001b[39m     DOF(description=\u001b[33m\"\u001b[39m\u001b[33mKBH upstream\u001b[39m\u001b[33m\"\u001b[39m, device=beamline.kbh_ush, search_domain=(-\u001b[32m5.0\u001b[39m, \u001b[32m5.0\u001b[39m)),\n\u001b[32m     11\u001b[39m ]\n\u001b[32m     13\u001b[39m objectives = [\n\u001b[32m     14\u001b[39m     Objective(name=\u001b[33m\"\u001b[39m\u001b[33mbl_det_sum\u001b[39m\u001b[33m\"\u001b[39m, target=\u001b[33m\"\u001b[39m\u001b[33mmax\u001b[39m\u001b[33m\"\u001b[39m, transform=\u001b[33m\"\u001b[39m\u001b[33mlog\u001b[39m\u001b[33m\"\u001b[39m, trust_domain=(\u001b[32m200\u001b[39m, np.inf)),\n\u001b[32m     15\u001b[39m     Objective(name=\u001b[33m\"\u001b[39m\u001b[33mbl_det_wid_x\u001b[39m\u001b[33m\"\u001b[39m, target=\u001b[33m\"\u001b[39m\u001b[33mmin\u001b[39m\u001b[33m\"\u001b[39m, transform=\u001b[33m\"\u001b[39m\u001b[33mlog\u001b[39m\u001b[33m\"\u001b[39m, latent_groups=[(\u001b[33m\"\u001b[39m\u001b[33mbl_kbh_dsh\u001b[39m\u001b[33m\"\u001b[39m, \u001b[33m\"\u001b[39m\u001b[33mbl_kbh_ush\u001b[39m\u001b[33m\"\u001b[39m)]),\n\u001b[32m     16\u001b[39m     Objective(name=\u001b[33m\"\u001b[39m\u001b[33mbl_det_wid_y\u001b[39m\u001b[33m\"\u001b[39m, target=\u001b[33m\"\u001b[39m\u001b[33mmin\u001b[39m\u001b[33m\"\u001b[39m, transform=\u001b[33m\"\u001b[39m\u001b[33mlog\u001b[39m\u001b[33m\"\u001b[39m, latent_groups=[(\u001b[33m\"\u001b[39m\u001b[33mbl_kbv_dsv\u001b[39m\u001b[33m\"\u001b[39m, \u001b[33m\"\u001b[39m\u001b[33mbl_kbv_usv\u001b[39m\u001b[33m\"\u001b[39m)]),\n\u001b[32m     17\u001b[39m ]\n\u001b[32m     19\u001b[39m agent = Agent(\n\u001b[32m     20\u001b[39m     dofs=dofs,\n\u001b[32m     21\u001b[39m     objectives=objectives,\n\u001b[32m     22\u001b[39m     detectors=[beamline.det],\n\u001b[32m     23\u001b[39m     digestion=beam_stats_digestion,\n\u001b[32m     24\u001b[39m     digestion_kwargs={\u001b[33m\"\u001b[39m\u001b[33mimage_key\u001b[39m\u001b[33m\"\u001b[39m: \u001b[33m\"\u001b[39m\u001b[33mbl_det_image\u001b[39m\u001b[33m\"\u001b[39m},\n\u001b[32m     25\u001b[39m     verbose=\u001b[38;5;28;01mTrue\u001b[39;00m,\n\u001b[32m---> \u001b[39m\u001b[32m26\u001b[39m     tiled=\u001b[43mtiled\u001b[49m,\n\u001b[32m     27\u001b[39m     tolerate_acquisition_errors=\u001b[38;5;28;01mFalse\u001b[39;00m,\n\u001b[32m     28\u001b[39m     enforce_all_objectives_valid=\u001b[38;5;28;01mTrue\u001b[39;00m,\n\u001b[32m     29\u001b[39m     train_every=\u001b[32m3\u001b[39m,\n\u001b[32m     30\u001b[39m )\n\u001b[32m     31\u001b[39m (uid,) = RE(agent.learn(\u001b[33m\"\u001b[39m\u001b[33mqr\u001b[39m\u001b[33m\"\u001b[39m, n=\u001b[32m32\u001b[39m))\n",
      "\u001b[31mNameError\u001b[39m: name 'tiled' is not defined"
     ]
    }
   ],
   "source": [
    "from blop import DOF, Agent, Objective\n",
    "from blop.digestion import beam_stats_digestion\n",
    "\n",
    "\n",
    "\n",
    "dofs = [\n",
    "    DOF(description=\"KBV downstream\", device=beamline.kbv_dsv, search_domain=(-5.0, 5.0)),\n",
    "    DOF(description=\"KBV upstream\", device=beamline.kbv_usv, search_domain=(-5.0, 5.0)),\n",
    "    DOF(description=\"KBH downstream\", device=beamline.kbh_dsh, search_domain=(-5.0, 5.0)),\n",
    "    DOF(description=\"KBH upstream\", device=beamline.kbh_ush, search_domain=(-5.0, 5.0)),\n",
    "]\n",
    "\n",
    "objectives = [\n",
    "    Objective(name=\"bl_det_sum\", target=\"max\", transform=\"log\", trust_domain=(200, np.inf)),\n",
    "    Objective(name=\"bl_det_wid_x\", target=\"min\", transform=\"log\", latent_groups=[(\"bl_kbh_dsh\", \"bl_kbh_ush\")]),\n",
    "    Objective(name=\"bl_det_wid_y\", target=\"min\", transform=\"log\", latent_groups=[(\"bl_kbv_dsv\", \"bl_kbv_usv\")]),\n",
    "]\n",
    "\n",
    "agent = Agent(\n",
    "    dofs=dofs,\n",
    "    objectives=objectives,\n",
    "    detectors=[beamline.det],\n",
    "    digestion=beam_stats_digestion,\n",
    "    digestion_kwargs={\"image_key\": \"bl_det_image\"},\n",
    "    verbose=True,\n",
    "    tiled=tiled,\n",
    "    tolerate_acquisition_errors=False,\n",
    "    enforce_all_objectives_valid=True,\n",
    "    train_every=3,\n",
    ")\n",
    "(uid,) = RE(agent.learn(\"qr\", n=32))"
   ]
  },
  {
   "cell_type": "code",
   "execution_count": null,
   "id": "4",
   "metadata": {},
   "outputs": [],
   "source": [
    "RE(agent.learn(\"qei\", n=4, iterations=4))"
   ]
  },
  {
   "cell_type": "code",
   "execution_count": null,
   "id": "5",
   "metadata": {},
   "outputs": [],
   "source": [
    "plt.imshow(agent.best.bl_det_image)"
   ]
  },
  {
   "cell_type": "code",
   "execution_count": null,
   "id": "6",
   "metadata": {},
   "outputs": [],
   "source": [
    "agent.plot_objectives(axes=(2, 3))"
   ]
  },
  {
   "cell_type": "code",
   "execution_count": null,
   "id": "7",
   "metadata": {},
   "outputs": [],
   "source": [
    "tiled_server.close()"
   ]
  },
  {
   "cell_type": "code",
   "execution_count": null,
   "id": "7",
   "metadata": {},
   "outputs": [],
   "source": [
    "tiled_server.close()"
   ]
  }
 ],
 "metadata": {
  "kernelspec": {
   "display_name": "Pixi_Tiled_new",
   "language": "python",
   "name": "tiled-pixi-new"
  },
  "language_info": {
   "codemirror_mode": {
    "name": "ipython",
    "version": 3
   },
   "file_extension": ".py",
   "mimetype": "text/x-python",
   "name": "python",
   "nbconvert_exporter": "python",
   "pygments_lexer": "ipython3",
   "version": "3.11.12"
  }
 },
 "nbformat": 4,
 "nbformat_minor": 5
}
