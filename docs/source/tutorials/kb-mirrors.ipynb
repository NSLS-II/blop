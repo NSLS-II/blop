{
 "cells": [
  {
   "cell_type": "markdown",
   "id": "0",
   "metadata": {},
   "source": [
    "# KB Mirrors\n",
    "\n",
    "This example simulates the alignment of a KB mirror endstation (with four degrees of freedom)."
   ]
  },
  {
   "cell_type": "code",
   "execution_count": null,
   "id": "1",
   "metadata": {},
   "outputs": [
    {
     "name": "stderr",
     "output_type": "stream",
     "text": [
      "/home/jmoylan1/miniconda3/envs/test_tiled_new/lib/python3.11/site-packages/tqdm/auto.py:21: TqdmWarning: IProgress not found. Please update jupyter and ipywidgets. See https://ipywidgets.readthedocs.io/en/stable/user_install.html\n",
      "  from .autonotebook import tqdm as notebook_tqdm\n",
      "2025-06-04 11:20:08.985 INFO: Subprocess stdout: \n",
      "2025-06-04 11:20:08.986 INFO: Subprocess stderr: \n",
      "Tiled version 0.1.dev2763+ge244fae\n",
      "2025-06-04 11:20:09.279 INFO: Tiled version 0.1.dev2763+ge244fae\n",
      "2025-06-04 11:20:09.282 INFO: Context impl SQLiteImpl.\n",
      "2025-06-04 11:20:09.282 INFO: Will assume non-transactional DDL.\n",
      "2025-06-04 11:20:09.387 INFO: HTTP Request: GET http://127.0.0.1:35787/api/v1?api_key=75d5f7c81cebfc7a \"HTTP/1.1 307 Temporary Redirect\"\n",
      "2025-06-04 11:20:09.393 INFO: HTTP Request: GET http://127.0.0.1:35787/api/v1/ \"HTTP/1.1 200 OK\"\n",
      "2025-06-04 11:20:09.415 INFO: HTTP Request: GET http://127.0.0.1:35787/api/v1/metadata/ \"HTTP/1.1 200 OK\"\n"
     ]
    },
    {
     "name": "stderr",
     "output_type": "stream",
     "text": [
      "2025-06-04 11:20:13.114 INFO: HTTP Request: GET http://127.0.0.1:35787/api/v1/table/partition/f7763365-cc6e-4b5e-a43d-3cfe6843c596/primary/internal/events?partition=0 \"HTTP/1.1 200 OK\"\n",
      "2025-06-04 11:20:13.544 INFO: HTTP Request: GET http://127.0.0.1:35787/api/v1/array/block/f7763365-cc6e-4b5e-a43d-3cfe6843c596/primary/external/bl_det_image?block=4%2C0%2C0&expected_shape=1%2C300%2C400 \"HTTP/1.1 500 Internal Server Error\"\n",
      "2025-06-04 11:20:13.546 WARNING: Scheduled retry in 0.32 seconds due to HTTPStatusError(\"Server error '500 Internal Server Error' for url 'http://127.0.0.1:35787/api/v1/array/block/f7763365-cc6e-4b5e-a43d-3cfe6843c596/primary/external/bl_det_image?block=4%2C0%2C0&expected_shape=1%2C300%2C400'\\nFor more information, server admin can search server logs for correlation ID eb7b5bf2f9ae4fa6.\") (attempt 1)\n",
      "2025-06-04 11:20:13.553 INFO: HTTP Request: GET http://127.0.0.1:35787/api/v1/array/block/f7763365-cc6e-4b5e-a43d-3cfe6843c596/primary/external/bl_det_image?block=29%2C0%2C0&expected_shape=1%2C300%2C400 \"HTTP/1.1 500 Internal Server Error\"\n",
      "2025-06-04 11:20:13.554 WARNING: Scheduled retry in 0.99 seconds due to HTTPStatusError(\"Server error '500 Internal Server Error' for url 'http://127.0.0.1:35787/api/v1/array/block/f7763365-cc6e-4b5e-a43d-3cfe6843c596/primary/external/bl_det_image?block=29%2C0%2C0&expected_shape=1%2C300%2C400'\\nFor more information, server admin can search server logs for correlation ID ae2a8d0543555f12.\") (attempt 1)\n",
      "2025-06-04 11:20:13.557 INFO: HTTP Request: GET http://127.0.0.1:35787/api/v1/array/block/f7763365-cc6e-4b5e-a43d-3cfe6843c596/primary/external/bl_det_image?block=10%2C0%2C0&expected_shape=1%2C300%2C400 \"HTTP/1.1 500 Internal Server Error\"\n",
      "2025-06-04 11:20:13.559 WARNING: Scheduled retry in 0.63 seconds due to HTTPStatusError(\"Server error '500 Internal Server Error' for url 'http://127.0.0.1:35787/api/v1/array/block/f7763365-cc6e-4b5e-a43d-3cfe6843c596/primary/external/bl_det_image?block=10%2C0%2C0&expected_shape=1%2C300%2C400'\\nFor more information, server admin can search server logs for correlation ID bbc39623ea52b410.\") (attempt 1)\n",
      "2025-06-04 11:20:13.569 INFO: HTTP Request: GET http://127.0.0.1:35787/api/v1/array/block/f7763365-cc6e-4b5e-a43d-3cfe6843c596/primary/external/bl_det_image?block=7%2C0%2C0&expected_shape=1%2C300%2C400 \"HTTP/1.1 500 Internal Server Error\"\n",
      "2025-06-04 11:20:13.570 WARNING: Scheduled retry in 0.13 seconds due to HTTPStatusError(\"Server error '500 Internal Server Error' for url 'http://127.0.0.1:35787/api/v1/array/block/f7763365-cc6e-4b5e-a43d-3cfe6843c596/primary/external/bl_det_image?block=7%2C0%2C0&expected_shape=1%2C300%2C400'\\nFor more information, server admin can search server logs for correlation ID f7b893f1e124f9e2.\") (attempt 1)\n",
      "2025-06-04 11:20:13.573 INFO: HTTP Request: GET http://127.0.0.1:35787/api/v1/array/block/f7763365-cc6e-4b5e-a43d-3cfe6843c596/primary/external/bl_det_image?block=5%2C0%2C0&expected_shape=1%2C300%2C400 \"HTTP/1.1 500 Internal Server Error\"\n",
      "2025-06-04 11:20:13.574 WARNING: Scheduled retry in 0.75 seconds due to HTTPStatusError(\"Server error '500 Internal Server Error' for url 'http://127.0.0.1:35787/api/v1/array/block/f7763365-cc6e-4b5e-a43d-3cfe6843c596/primary/external/bl_det_image?block=5%2C0%2C0&expected_shape=1%2C300%2C400'\\nFor more information, server admin can search server logs for correlation ID 766fc0745e8dcefe.\") (attempt 1)\n",
      "2025-06-04 11:20:13.579 INFO: HTTP Request: GET http://127.0.0.1:35787/api/v1/array/block/f7763365-cc6e-4b5e-a43d-3cfe6843c596/primary/external/bl_det_image?block=27%2C0%2C0&expected_shape=1%2C300%2C400 \"HTTP/1.1 500 Internal Server Error\"\n",
      "2025-06-04 11:20:13.580 WARNING: Scheduled retry in 0.59 seconds due to HTTPStatusError(\"Server error '500 Internal Server Error' for url 'http://127.0.0.1:35787/api/v1/array/block/f7763365-cc6e-4b5e-a43d-3cfe6843c596/primary/external/bl_det_image?block=27%2C0%2C0&expected_shape=1%2C300%2C400'\\nFor more information, server admin can search server logs for correlation ID 69ae833f676b7cd1.\") (attempt 1)\n",
      "2025-06-04 11:20:13.582 INFO: HTTP Request: GET http://127.0.0.1:35787/api/v1/array/block/f7763365-cc6e-4b5e-a43d-3cfe6843c596/primary/external/bl_det_image?block=30%2C0%2C0&expected_shape=1%2C300%2C400 \"HTTP/1.1 500 Internal Server Error\"\n",
      "2025-06-04 11:20:13.584 WARNING: Scheduled retry in 0.31 seconds due to HTTPStatusError(\"Server error '500 Internal Server Error' for url 'http://127.0.0.1:35787/api/v1/array/block/f7763365-cc6e-4b5e-a43d-3cfe6843c596/primary/external/bl_det_image?block=30%2C0%2C0&expected_shape=1%2C300%2C400'\\nFor more information, server admin can search server logs for correlation ID a71c48607f419f63.\") (attempt 1)\n",
      "2025-06-04 11:20:13.584 INFO: HTTP Request: GET http://127.0.0.1:35787/api/v1/array/block/f7763365-cc6e-4b5e-a43d-3cfe6843c596/primary/external/bl_det_image?block=23%2C0%2C0&expected_shape=1%2C300%2C400 \"HTTP/1.1 500 Internal Server Error\"\n",
      "2025-06-04 11:20:13.586 WARNING: Scheduled retry in 0.47 seconds due to HTTPStatusError(\"Server error '500 Internal Server Error' for url 'http://127.0.0.1:35787/api/v1/array/block/f7763365-cc6e-4b5e-a43d-3cfe6843c596/primary/external/bl_det_image?block=23%2C0%2C0&expected_shape=1%2C300%2C400'\\nFor more information, server admin can search server logs for correlation ID 4488739d8a0246b5.\") (attempt 1)\n",
      "2025-06-04 11:20:13.587 INFO: HTTP Request: GET http://127.0.0.1:35787/api/v1/array/block/f7763365-cc6e-4b5e-a43d-3cfe6843c596/primary/external/bl_det_image?block=12%2C0%2C0&expected_shape=1%2C300%2C400 \"HTTP/1.1 500 Internal Server Error\"\n",
      "2025-06-04 11:20:13.589 WARNING: Scheduled retry in 1.1 seconds due to HTTPStatusError(\"Server error '500 Internal Server Error' for url 'http://127.0.0.1:35787/api/v1/array/block/f7763365-cc6e-4b5e-a43d-3cfe6843c596/primary/external/bl_det_image?block=12%2C0%2C0&expected_shape=1%2C300%2C400'\\nFor more information, server admin can search server logs for correlation ID 21ab76afdc036689.\") (attempt 1)\n",
      "2025-06-04 11:20:13.589 INFO: HTTP Request: GET http://127.0.0.1:35787/api/v1/array/block/f7763365-cc6e-4b5e-a43d-3cfe6843c596/primary/external/bl_det_image?block=8%2C0%2C0&expected_shape=1%2C300%2C400 \"HTTP/1.1 500 Internal Server Error\"\n",
      "2025-06-04 11:20:13.591 WARNING: Scheduled retry in 0.15 seconds due to HTTPStatusError(\"Server error '500 Internal Server Error' for url 'http://127.0.0.1:35787/api/v1/array/block/f7763365-cc6e-4b5e-a43d-3cfe6843c596/primary/external/bl_det_image?block=8%2C0%2C0&expected_shape=1%2C300%2C400'\\nFor more information, server admin can search server logs for correlation ID f96a153cdf5ed7c3.\") (attempt 1)\n",
      "2025-06-04 11:20:13.595 INFO: HTTP Request: GET http://127.0.0.1:35787/api/v1/array/block/f7763365-cc6e-4b5e-a43d-3cfe6843c596/primary/external/bl_det_image?block=9%2C0%2C0&expected_shape=1%2C300%2C400 \"HTTP/1.1 500 Internal Server Error\"\n",
      "2025-06-04 11:20:13.596 WARNING: Scheduled retry in 0.12 seconds due to HTTPStatusError(\"Server error '500 Internal Server Error' for url 'http://127.0.0.1:35787/api/v1/array/block/f7763365-cc6e-4b5e-a43d-3cfe6843c596/primary/external/bl_det_image?block=9%2C0%2C0&expected_shape=1%2C300%2C400'\\nFor more information, server admin can search server logs for correlation ID 4100f8c18874b954.\") (attempt 1)\n",
      "2025-06-04 11:20:13.603 INFO: HTTP Request: GET http://127.0.0.1:35787/api/v1/array/block/f7763365-cc6e-4b5e-a43d-3cfe6843c596/primary/external/bl_det_image?block=31%2C0%2C0&expected_shape=1%2C300%2C400 \"HTTP/1.1 500 Internal Server Error\"\n",
      "2025-06-04 11:20:13.607 WARNING: Scheduled retry in 0.69 seconds due to HTTPStatusError(\"Server error '500 Internal Server Error' for url 'http://127.0.0.1:35787/api/v1/array/block/f7763365-cc6e-4b5e-a43d-3cfe6843c596/primary/external/bl_det_image?block=31%2C0%2C0&expected_shape=1%2C300%2C400'\\nFor more information, server admin can search server logs for correlation ID a6d513c1b8742448.\") (attempt 1)\n",
      "2025-06-04 11:20:13.607 INFO: HTTP Request: GET http://127.0.0.1:35787/api/v1/array/block/f7763365-cc6e-4b5e-a43d-3cfe6843c596/primary/external/bl_det_image?block=6%2C0%2C0&expected_shape=1%2C300%2C400 \"HTTP/1.1 500 Internal Server Error\"\n",
      "2025-06-04 11:20:13.612 WARNING: Scheduled retry in 0.6 seconds due to HTTPStatusError(\"Server error '500 Internal Server Error' for url 'http://127.0.0.1:35787/api/v1/array/block/f7763365-cc6e-4b5e-a43d-3cfe6843c596/primary/external/bl_det_image?block=6%2C0%2C0&expected_shape=1%2C300%2C400'\\nFor more information, server admin can search server logs for correlation ID 5655137ab3777646.\") (attempt 1)\n",
      "2025-06-04 11:20:13.618 INFO: HTTP Request: GET http://127.0.0.1:35787/api/v1/array/block/f7763365-cc6e-4b5e-a43d-3cfe6843c596/primary/external/bl_det_image?block=26%2C0%2C0&expected_shape=1%2C300%2C400 \"HTTP/1.1 500 Internal Server Error\"\n",
      "2025-06-04 11:20:13.620 WARNING: Scheduled retry in 0.35 seconds due to HTTPStatusError(\"Server error '500 Internal Server Error' for url 'http://127.0.0.1:35787/api/v1/array/block/f7763365-cc6e-4b5e-a43d-3cfe6843c596/primary/external/bl_det_image?block=26%2C0%2C0&expected_shape=1%2C300%2C400'\\nFor more information, server admin can search server logs for correlation ID 5753619b00557b84.\") (attempt 1)\n",
      "2025-06-04 11:20:13.630 INFO: HTTP Request: GET http://127.0.0.1:35787/api/v1/array/block/f7763365-cc6e-4b5e-a43d-3cfe6843c596/primary/external/bl_det_image?block=25%2C0%2C0&expected_shape=1%2C300%2C400 \"HTTP/1.1 500 Internal Server Error\"\n",
      "2025-06-04 11:20:13.634 WARNING: Scheduled retry in 1.1 seconds due to HTTPStatusError(\"Server error '500 Internal Server Error' for url 'http://127.0.0.1:35787/api/v1/array/block/f7763365-cc6e-4b5e-a43d-3cfe6843c596/primary/external/bl_det_image?block=25%2C0%2C0&expected_shape=1%2C300%2C400'\\nFor more information, server admin can search server logs for correlation ID fa052b8534b28854.\") (attempt 1)\n",
      "2025-06-04 11:20:13.634 INFO: HTTP Request: GET http://127.0.0.1:35787/api/v1/array/block/f7763365-cc6e-4b5e-a43d-3cfe6843c596/primary/external/bl_det_image?block=2%2C0%2C0&expected_shape=1%2C300%2C400 \"HTTP/1.1 500 Internal Server Error\"\n",
      "2025-06-04 11:20:13.637 WARNING: Scheduled retry in 0.19 seconds due to HTTPStatusError(\"Server error '500 Internal Server Error' for url 'http://127.0.0.1:35787/api/v1/array/block/f7763365-cc6e-4b5e-a43d-3cfe6843c596/primary/external/bl_det_image?block=2%2C0%2C0&expected_shape=1%2C300%2C400'\\nFor more information, server admin can search server logs for correlation ID cdceddb58e718115.\") (attempt 1)\n",
      "2025-06-04 11:20:13.641 INFO: HTTP Request: GET http://127.0.0.1:35787/api/v1/array/block/f7763365-cc6e-4b5e-a43d-3cfe6843c596/primary/external/bl_det_image?block=17%2C0%2C0&expected_shape=1%2C300%2C400 \"HTTP/1.1 500 Internal Server Error\"\n",
      "2025-06-04 11:20:13.643 WARNING: Scheduled retry in 0.42 seconds due to HTTPStatusError(\"Server error '500 Internal Server Error' for url 'http://127.0.0.1:35787/api/v1/array/block/f7763365-cc6e-4b5e-a43d-3cfe6843c596/primary/external/bl_det_image?block=17%2C0%2C0&expected_shape=1%2C300%2C400'\\nFor more information, server admin can search server logs for correlation ID 2932c2c6b8a17426.\") (attempt 1)\n",
      "2025-06-04 11:20:13.649 INFO: HTTP Request: GET http://127.0.0.1:35787/api/v1/array/block/f7763365-cc6e-4b5e-a43d-3cfe6843c596/primary/external/bl_det_image?block=20%2C0%2C0&expected_shape=1%2C300%2C400 \"HTTP/1.1 500 Internal Server Error\"\n",
      "2025-06-04 11:20:13.651 WARNING: Scheduled retry in 1.1 seconds due to HTTPStatusError(\"Server error '500 Internal Server Error' for url 'http://127.0.0.1:35787/api/v1/array/block/f7763365-cc6e-4b5e-a43d-3cfe6843c596/primary/external/bl_det_image?block=20%2C0%2C0&expected_shape=1%2C300%2C400'\\nFor more information, server admin can search server logs for correlation ID 421aac1e5db0df95.\") (attempt 1)\n",
      "2025-06-04 11:20:13.652 INFO: HTTP Request: GET http://127.0.0.1:35787/api/v1/array/block/f7763365-cc6e-4b5e-a43d-3cfe6843c596/primary/external/bl_det_image?block=19%2C0%2C0&expected_shape=1%2C300%2C400 \"HTTP/1.1 500 Internal Server Error\"\n",
      "2025-06-04 11:20:13.655 WARNING: Scheduled retry in 1.0 seconds due to HTTPStatusError(\"Server error '500 Internal Server Error' for url 'http://127.0.0.1:35787/api/v1/array/block/f7763365-cc6e-4b5e-a43d-3cfe6843c596/primary/external/bl_det_image?block=19%2C0%2C0&expected_shape=1%2C300%2C400'\\nFor more information, server admin can search server logs for correlation ID 55c6f25ac63e853b.\") (attempt 1)\n",
      "2025-06-04 11:20:13.656 INFO: HTTP Request: GET http://127.0.0.1:35787/api/v1/array/block/f7763365-cc6e-4b5e-a43d-3cfe6843c596/primary/external/bl_det_image?block=13%2C0%2C0&expected_shape=1%2C300%2C400 \"HTTP/1.1 500 Internal Server Error\"\n",
      "2025-06-04 11:20:13.658 INFO: HTTP Request: GET http://127.0.0.1:35787/api/v1/array/block/f7763365-cc6e-4b5e-a43d-3cfe6843c596/primary/external/bl_det_image?block=28%2C0%2C0&expected_shape=1%2C300%2C400 \"HTTP/1.1 500 Internal Server Error\"\n",
      "2025-06-04 11:20:13.662 WARNING: Scheduled retry in 0.24 seconds due to HTTPStatusError(\"Server error '500 Internal Server Error' for url 'http://127.0.0.1:35787/api/v1/array/block/f7763365-cc6e-4b5e-a43d-3cfe6843c596/primary/external/bl_det_image?block=13%2C0%2C0&expected_shape=1%2C300%2C400'\\nFor more information, server admin can search server logs for correlation ID 00efcb0994289644.\") (attempt 1)\n",
      "2025-06-04 11:20:13.663 INFO: HTTP Request: GET http://127.0.0.1:35787/api/v1/array/block/f7763365-cc6e-4b5e-a43d-3cfe6843c596/primary/external/bl_det_image?block=14%2C0%2C0&expected_shape=1%2C300%2C400 \"HTTP/1.1 500 Internal Server Error\"\n",
      "2025-06-04 11:20:13.664 WARNING: Scheduled retry in 0.94 seconds due to HTTPStatusError(\"Server error '500 Internal Server Error' for url 'http://127.0.0.1:35787/api/v1/array/block/f7763365-cc6e-4b5e-a43d-3cfe6843c596/primary/external/bl_det_image?block=28%2C0%2C0&expected_shape=1%2C300%2C400'\\nFor more information, server admin can search server logs for correlation ID 575641fff7b0d83f.\") (attempt 1)\n",
      "2025-06-04 11:20:13.669 WARNING: Scheduled retry in 0.1 seconds due to HTTPStatusError(\"Server error '500 Internal Server Error' for url 'http://127.0.0.1:35787/api/v1/array/block/f7763365-cc6e-4b5e-a43d-3cfe6843c596/primary/external/bl_det_image?block=14%2C0%2C0&expected_shape=1%2C300%2C400'\\nFor more information, server admin can search server logs for correlation ID 32a11d6d7ee4a1f9.\") (attempt 1)\n",
      "2025-06-04 11:20:13.670 INFO: HTTP Request: GET http://127.0.0.1:35787/api/v1/array/block/f7763365-cc6e-4b5e-a43d-3cfe6843c596/primary/external/bl_det_image?block=18%2C0%2C0&expected_shape=1%2C300%2C400 \"HTTP/1.1 500 Internal Server Error\"\n",
      "2025-06-04 11:20:13.673 INFO: HTTP Request: GET http://127.0.0.1:35787/api/v1/array/block/f7763365-cc6e-4b5e-a43d-3cfe6843c596/primary/external/bl_det_image?block=16%2C0%2C0&expected_shape=1%2C300%2C400 \"HTTP/1.1 500 Internal Server Error\"\n",
      "2025-06-04 11:20:13.673 WARNING: Scheduled retry in 0.25 seconds due to HTTPStatusError(\"Server error '500 Internal Server Error' for url 'http://127.0.0.1:35787/api/v1/array/block/f7763365-cc6e-4b5e-a43d-3cfe6843c596/primary/external/bl_det_image?block=18%2C0%2C0&expected_shape=1%2C300%2C400'\\nFor more information, server admin can search server logs for correlation ID 9a14b5539efb3314.\") (attempt 1)\n",
      "2025-06-04 11:20:13.674 WARNING: Scheduled retry in 0.28 seconds due to HTTPStatusError(\"Server error '500 Internal Server Error' for url 'http://127.0.0.1:35787/api/v1/array/block/f7763365-cc6e-4b5e-a43d-3cfe6843c596/primary/external/bl_det_image?block=16%2C0%2C0&expected_shape=1%2C300%2C400'\\nFor more information, server admin can search server logs for correlation ID ed1d147ff7bc1022.\") (attempt 1)\n",
      "2025-06-04 11:20:13.676 INFO: HTTP Request: GET http://127.0.0.1:35787/api/v1/array/block/f7763365-cc6e-4b5e-a43d-3cfe6843c596/primary/external/bl_det_image?block=21%2C0%2C0&expected_shape=1%2C300%2C400 \"HTTP/1.1 500 Internal Server Error\"\n",
      "2025-06-04 11:20:13.678 WARNING: Scheduled retry in 0.3 seconds due to HTTPStatusError(\"Server error '500 Internal Server Error' for url 'http://127.0.0.1:35787/api/v1/array/block/f7763365-cc6e-4b5e-a43d-3cfe6843c596/primary/external/bl_det_image?block=21%2C0%2C0&expected_shape=1%2C300%2C400'\\nFor more information, server admin can search server logs for correlation ID 18e69665256a6d0c.\") (attempt 1)\n",
      "2025-06-04 11:20:13.681 INFO: HTTP Request: GET http://127.0.0.1:35787/api/v1/array/block/f7763365-cc6e-4b5e-a43d-3cfe6843c596/primary/external/bl_det_image?block=15%2C0%2C0&expected_shape=1%2C300%2C400 \"HTTP/1.1 500 Internal Server Error\"\n",
      "2025-06-04 11:20:13.683 WARNING: Scheduled retry in 0.27 seconds due to HTTPStatusError(\"Server error '500 Internal Server Error' for url 'http://127.0.0.1:35787/api/v1/array/block/f7763365-cc6e-4b5e-a43d-3cfe6843c596/primary/external/bl_det_image?block=15%2C0%2C0&expected_shape=1%2C300%2C400'\\nFor more information, server admin can search server logs for correlation ID 2eec464fd78b71f2.\") (attempt 1)\n",
      "2025-06-04 11:20:13.683 INFO: HTTP Request: GET http://127.0.0.1:35787/api/v1/array/block/f7763365-cc6e-4b5e-a43d-3cfe6843c596/primary/external/bl_det_image?block=1%2C0%2C0&expected_shape=1%2C300%2C400 \"HTTP/1.1 500 Internal Server Error\"\n",
      "2025-06-04 11:20:13.685 WARNING: Scheduled retry in 0.57 seconds due to HTTPStatusError(\"Server error '500 Internal Server Error' for url 'http://127.0.0.1:35787/api/v1/array/block/f7763365-cc6e-4b5e-a43d-3cfe6843c596/primary/external/bl_det_image?block=1%2C0%2C0&expected_shape=1%2C300%2C400'\\nFor more information, server admin can search server logs for correlation ID 488416abfb6ec134.\") (attempt 1)\n",
      "2025-06-04 11:20:13.689 INFO: HTTP Request: GET http://127.0.0.1:35787/api/v1/array/block/f7763365-cc6e-4b5e-a43d-3cfe6843c596/primary/external/bl_det_image?block=11%2C0%2C0&expected_shape=1%2C300%2C400 \"HTTP/1.1 500 Internal Server Error\"\n",
      "2025-06-04 11:20:13.690 WARNING: Scheduled retry in 0.85 seconds due to HTTPStatusError(\"Server error '500 Internal Server Error' for url 'http://127.0.0.1:35787/api/v1/array/block/f7763365-cc6e-4b5e-a43d-3cfe6843c596/primary/external/bl_det_image?block=11%2C0%2C0&expected_shape=1%2C300%2C400'\\nFor more information, server admin can search server logs for correlation ID 43b0bf22bc1a49a9.\") (attempt 1)\n",
      "2025-06-04 11:20:13.693 INFO: HTTP Request: GET http://127.0.0.1:35787/api/v1/array/block/f7763365-cc6e-4b5e-a43d-3cfe6843c596/primary/external/bl_det_image?block=24%2C0%2C0&expected_shape=1%2C300%2C400 \"HTTP/1.1 500 Internal Server Error\"\n",
      "2025-06-04 11:20:13.695 WARNING: Scheduled retry in 0.2 seconds due to HTTPStatusError(\"Server error '500 Internal Server Error' for url 'http://127.0.0.1:35787/api/v1/array/block/f7763365-cc6e-4b5e-a43d-3cfe6843c596/primary/external/bl_det_image?block=24%2C0%2C0&expected_shape=1%2C300%2C400'\\nFor more information, server admin can search server logs for correlation ID 0d2db072895c82e2.\") (attempt 1)\n",
      "2025-06-04 11:20:13.699 INFO: HTTP Request: GET http://127.0.0.1:35787/api/v1/array/block/f7763365-cc6e-4b5e-a43d-3cfe6843c596/primary/external/bl_det_image?block=22%2C0%2C0&expected_shape=1%2C300%2C400 \"HTTP/1.1 500 Internal Server Error\"\n",
      "2025-06-04 11:20:13.700 WARNING: Scheduled retry in 0.77 seconds due to HTTPStatusError(\"Server error '500 Internal Server Error' for url 'http://127.0.0.1:35787/api/v1/array/block/f7763365-cc6e-4b5e-a43d-3cfe6843c596/primary/external/bl_det_image?block=22%2C0%2C0&expected_shape=1%2C300%2C400'\\nFor more information, server admin can search server logs for correlation ID e46501c22d2592bf.\") (attempt 1)\n",
      "2025-06-04 11:20:13.705 INFO: HTTP Request: GET http://127.0.0.1:35787/api/v1/array/block/f7763365-cc6e-4b5e-a43d-3cfe6843c596/primary/external/bl_det_image?block=0%2C0%2C0&expected_shape=1%2C300%2C400 \"HTTP/1.1 500 Internal Server Error\"\n",
      "2025-06-04 11:20:13.707 WARNING: Scheduled retry in 0.57 seconds due to HTTPStatusError(\"Server error '500 Internal Server Error' for url 'http://127.0.0.1:35787/api/v1/array/block/f7763365-cc6e-4b5e-a43d-3cfe6843c596/primary/external/bl_det_image?block=0%2C0%2C0&expected_shape=1%2C300%2C400'\\nFor more information, server admin can search server logs for correlation ID 034e1130876c20ca.\") (attempt 1)\n",
      "2025-06-04 11:20:13.708 INFO: HTTP Request: GET http://127.0.0.1:35787/api/v1/array/block/f7763365-cc6e-4b5e-a43d-3cfe6843c596/primary/external/bl_det_image?block=3%2C0%2C0&expected_shape=1%2C300%2C400 \"HTTP/1.1 500 Internal Server Error\"\n",
      "2025-06-04 11:20:13.710 WARNING: Scheduled retry in 0.75 seconds due to HTTPStatusError(\"Server error '500 Internal Server Error' for url 'http://127.0.0.1:35787/api/v1/array/block/f7763365-cc6e-4b5e-a43d-3cfe6843c596/primary/external/bl_det_image?block=3%2C0%2C0&expected_shape=1%2C300%2C400'\\nFor more information, server admin can search server logs for correlation ID ce2859312287aba2.\") (attempt 1)\n",
      "2025-06-04 11:20:13.717 INFO: HTTP Request: GET http://127.0.0.1:35787/api/v1/array/block/f7763365-cc6e-4b5e-a43d-3cfe6843c596/primary/external/bl_det_image?block=7%2C0%2C0&expected_shape=1%2C300%2C400 \"HTTP/1.1 500 Internal Server Error\"\n",
      "2025-06-04 11:20:13.719 WARNING: Scheduled retry in 0.93 seconds due to HTTPStatusError(\"Server error '500 Internal Server Error' for url 'http://127.0.0.1:35787/api/v1/array/block/f7763365-cc6e-4b5e-a43d-3cfe6843c596/primary/external/bl_det_image?block=7%2C0%2C0&expected_shape=1%2C300%2C400'\\nFor more information, server admin can search server logs for correlation ID 36d8984db3a85a89.\") (attempt 2)\n",
      "2025-06-04 11:20:13.719 WARNING: Scheduled retry in 0.56 seconds due to ReadError('[Errno 104] Connection reset by peer') (attempt 2)\n",
      "2025-06-04 11:20:13.750 INFO: HTTP Request: GET http://127.0.0.1:35787/api/v1/array/block/f7763365-cc6e-4b5e-a43d-3cfe6843c596/primary/external/bl_det_image?block=8%2C0%2C0&expected_shape=1%2C300%2C400 \"HTTP/1.1 500 Internal Server Error\"\n",
      "2025-06-04 11:20:13.751 WARNING: Scheduled retry in 0.77 seconds due to HTTPStatusError(\"Server error '500 Internal Server Error' for url 'http://127.0.0.1:35787/api/v1/array/block/f7763365-cc6e-4b5e-a43d-3cfe6843c596/primary/external/bl_det_image?block=8%2C0%2C0&expected_shape=1%2C300%2C400'\\nFor more information, server admin can search server logs for correlation ID 8663f9c767add7e5.\") (attempt 2)\n",
      "2025-06-04 11:20:13.788 INFO: HTTP Request: GET http://127.0.0.1:35787/api/v1/array/block/f7763365-cc6e-4b5e-a43d-3cfe6843c596/primary/external/bl_det_image?block=14%2C0%2C0&expected_shape=1%2C300%2C400 \"HTTP/1.1 500 Internal Server Error\"\n",
      "2025-06-04 11:20:13.789 WARNING: Scheduled retry in 1.2 seconds due to HTTPStatusError(\"Server error '500 Internal Server Error' for url 'http://127.0.0.1:35787/api/v1/array/block/f7763365-cc6e-4b5e-a43d-3cfe6843c596/primary/external/bl_det_image?block=14%2C0%2C0&expected_shape=1%2C300%2C400'\\nFor more information, server admin can search server logs for correlation ID 6ac28888ba16d3ae.\") (attempt 2)\n",
      "2025-06-04 11:20:13.839 INFO: HTTP Request: GET http://127.0.0.1:35787/api/v1/array/block/f7763365-cc6e-4b5e-a43d-3cfe6843c596/primary/external/bl_det_image?block=2%2C0%2C0&expected_shape=1%2C300%2C400 \"HTTP/1.1 500 Internal Server Error\"\n",
      "2025-06-04 11:20:13.840 WARNING: Scheduled retry in 1.1 seconds due to HTTPStatusError(\"Server error '500 Internal Server Error' for url 'http://127.0.0.1:35787/api/v1/array/block/f7763365-cc6e-4b5e-a43d-3cfe6843c596/primary/external/bl_det_image?block=2%2C0%2C0&expected_shape=1%2C300%2C400'\\nFor more information, server admin can search server logs for correlation ID 70626127338689a5.\") (attempt 2)\n",
      "2025-06-04 11:20:13.874 INFO: HTTP Request: GET http://127.0.0.1:35787/api/v1/array/block/f7763365-cc6e-4b5e-a43d-3cfe6843c596/primary/external/bl_det_image?block=4%2C0%2C0&expected_shape=1%2C300%2C400 \"HTTP/1.1 500 Internal Server Error\"\n",
      "2025-06-04 11:20:13.876 WARNING: Scheduled retry in 0.56 seconds due to HTTPStatusError(\"Server error '500 Internal Server Error' for url 'http://127.0.0.1:35787/api/v1/array/block/f7763365-cc6e-4b5e-a43d-3cfe6843c596/primary/external/bl_det_image?block=4%2C0%2C0&expected_shape=1%2C300%2C400'\\nFor more information, server admin can search server logs for correlation ID 50a73e62563b877c.\") (attempt 2)\n",
      "2025-06-04 11:20:13.909 INFO: HTTP Request: GET http://127.0.0.1:35787/api/v1/array/block/f7763365-cc6e-4b5e-a43d-3cfe6843c596/primary/external/bl_det_image?block=30%2C0%2C0&expected_shape=1%2C300%2C400 \"HTTP/1.1 500 Internal Server Error\"\n",
      "2025-06-04 11:20:13.910 WARNING: Scheduled retry in 0.28 seconds due to HTTPStatusError(\"Server error '500 Internal Server Error' for url 'http://127.0.0.1:35787/api/v1/array/block/f7763365-cc6e-4b5e-a43d-3cfe6843c596/primary/external/bl_det_image?block=30%2C0%2C0&expected_shape=1%2C300%2C400'\\nFor more information, server admin can search server logs for correlation ID 2242008b444c0815.\") (attempt 2)\n",
      "2025-06-04 11:20:13.922 INFO: HTTP Request: GET http://127.0.0.1:35787/api/v1/array/block/f7763365-cc6e-4b5e-a43d-3cfe6843c596/primary/external/bl_det_image?block=13%2C0%2C0&expected_shape=1%2C300%2C400 \"HTTP/1.1 500 Internal Server Error\"\n",
      "2025-06-04 11:20:13.924 WARNING: Scheduled retry in 1.0 seconds due to HTTPStatusError(\"Server error '500 Internal Server Error' for url 'http://127.0.0.1:35787/api/v1/array/block/f7763365-cc6e-4b5e-a43d-3cfe6843c596/primary/external/bl_det_image?block=13%2C0%2C0&expected_shape=1%2C300%2C400'\\nFor more information, server admin can search server logs for correlation ID bfd62d651f73b29e.\") (attempt 2)\n",
      "2025-06-04 11:20:13.926 INFO: HTTP Request: GET http://127.0.0.1:35787/api/v1/array/block/f7763365-cc6e-4b5e-a43d-3cfe6843c596/primary/external/bl_det_image?block=24%2C0%2C0&expected_shape=1%2C300%2C400 \"HTTP/1.1 500 Internal Server Error\"\n",
      "2025-06-04 11:20:13.927 WARNING: Scheduled retry in 0.29 seconds due to HTTPStatusError(\"Server error '500 Internal Server Error' for url 'http://127.0.0.1:35787/api/v1/array/block/f7763365-cc6e-4b5e-a43d-3cfe6843c596/primary/external/bl_det_image?block=24%2C0%2C0&expected_shape=1%2C300%2C400'\\nFor more information, server admin can search server logs for correlation ID 45bbff6d4a009786.\") (attempt 2)\n",
      "2025-06-04 11:20:13.938 INFO: HTTP Request: GET http://127.0.0.1:35787/api/v1/array/block/f7763365-cc6e-4b5e-a43d-3cfe6843c596/primary/external/bl_det_image?block=18%2C0%2C0&expected_shape=1%2C300%2C400 \"HTTP/1.1 500 Internal Server Error\"\n",
      "2025-06-04 11:20:13.940 WARNING: Scheduled retry in 0.3 seconds due to HTTPStatusError(\"Server error '500 Internal Server Error' for url 'http://127.0.0.1:35787/api/v1/array/block/f7763365-cc6e-4b5e-a43d-3cfe6843c596/primary/external/bl_det_image?block=18%2C0%2C0&expected_shape=1%2C300%2C400'\\nFor more information, server admin can search server logs for correlation ID 6e093c3d0ddbbc66.\") (attempt 2)\n",
      "2025-06-04 11:20:13.971 INFO: HTTP Request: GET http://127.0.0.1:35787/api/v1/array/block/f7763365-cc6e-4b5e-a43d-3cfe6843c596/primary/external/bl_det_image?block=15%2C0%2C0&expected_shape=1%2C300%2C400 \"HTTP/1.1 500 Internal Server Error\"\n",
      "2025-06-04 11:20:13.973 WARNING: Scheduled retry in 0.62 seconds due to HTTPStatusError(\"Server error '500 Internal Server Error' for url 'http://127.0.0.1:35787/api/v1/array/block/f7763365-cc6e-4b5e-a43d-3cfe6843c596/primary/external/bl_det_image?block=15%2C0%2C0&expected_shape=1%2C300%2C400'\\nFor more information, server admin can search server logs for correlation ID ffb16a6d3870b98c.\") (attempt 2)\n",
      "2025-06-04 11:20:13.975 INFO: HTTP Request: GET http://127.0.0.1:35787/api/v1/array/block/f7763365-cc6e-4b5e-a43d-3cfe6843c596/primary/external/bl_det_image?block=16%2C0%2C0&expected_shape=1%2C300%2C400 \"HTTP/1.1 500 Internal Server Error\"\n",
      "2025-06-04 11:20:13.978 WARNING: Scheduled retry in 0.62 seconds due to HTTPStatusError(\"Server error '500 Internal Server Error' for url 'http://127.0.0.1:35787/api/v1/array/block/f7763365-cc6e-4b5e-a43d-3cfe6843c596/primary/external/bl_det_image?block=16%2C0%2C0&expected_shape=1%2C300%2C400'\\nFor more information, server admin can search server logs for correlation ID 91d650e7c57a4868.\") (attempt 2)\n",
      "2025-06-04 11:20:13.989 INFO: HTTP Request: GET http://127.0.0.1:35787/api/v1/array/block/f7763365-cc6e-4b5e-a43d-3cfe6843c596/primary/external/bl_det_image?block=26%2C0%2C0&expected_shape=1%2C300%2C400 \"HTTP/1.1 500 Internal Server Error\"\n",
      "2025-06-04 11:20:13.991 WARNING: Scheduled retry in 0.99 seconds due to HTTPStatusError(\"Server error '500 Internal Server Error' for url 'http://127.0.0.1:35787/api/v1/array/block/f7763365-cc6e-4b5e-a43d-3cfe6843c596/primary/external/bl_det_image?block=26%2C0%2C0&expected_shape=1%2C300%2C400'\\nFor more information, server admin can search server logs for correlation ID aea539a079934b7a.\") (attempt 2)\n",
      "2025-06-04 11:20:13.995 INFO: HTTP Request: GET http://127.0.0.1:35787/api/v1/array/block/f7763365-cc6e-4b5e-a43d-3cfe6843c596/primary/external/bl_det_image?block=21%2C0%2C0&expected_shape=1%2C300%2C400 \"HTTP/1.1 500 Internal Server Error\"\n",
      "2025-06-04 11:20:13.996 WARNING: Scheduled retry in 0.84 seconds due to HTTPStatusError(\"Server error '500 Internal Server Error' for url 'http://127.0.0.1:35787/api/v1/array/block/f7763365-cc6e-4b5e-a43d-3cfe6843c596/primary/external/bl_det_image?block=21%2C0%2C0&expected_shape=1%2C300%2C400'\\nFor more information, server admin can search server logs for correlation ID f296c75ebea23ae5.\") (attempt 2)\n",
      "2025-06-04 11:20:14.071 INFO: HTTP Request: GET http://127.0.0.1:35787/api/v1/array/block/f7763365-cc6e-4b5e-a43d-3cfe6843c596/primary/external/bl_det_image?block=23%2C0%2C0&expected_shape=1%2C300%2C400 \"HTTP/1.1 500 Internal Server Error\"\n",
      "2025-06-04 11:20:14.072 WARNING: Scheduled retry in 0.81 seconds due to HTTPStatusError(\"Server error '500 Internal Server Error' for url 'http://127.0.0.1:35787/api/v1/array/block/f7763365-cc6e-4b5e-a43d-3cfe6843c596/primary/external/bl_det_image?block=23%2C0%2C0&expected_shape=1%2C300%2C400'\\nFor more information, server admin can search server logs for correlation ID ac4c8e32ff0af88e.\") (attempt 2)\n",
      "2025-06-04 11:20:14.083 INFO: HTTP Request: GET http://127.0.0.1:35787/api/v1/array/block/f7763365-cc6e-4b5e-a43d-3cfe6843c596/primary/external/bl_det_image?block=17%2C0%2C0&expected_shape=1%2C300%2C400 \"HTTP/1.1 500 Internal Server Error\"\n",
      "2025-06-04 11:20:14.085 WARNING: Scheduled retry in 0.42 seconds due to HTTPStatusError(\"Server error '500 Internal Server Error' for url 'http://127.0.0.1:35787/api/v1/array/block/f7763365-cc6e-4b5e-a43d-3cfe6843c596/primary/external/bl_det_image?block=17%2C0%2C0&expected_shape=1%2C300%2C400'\\nFor more information, server admin can search server logs for correlation ID cfea8dda8b90b8d9.\") (attempt 2)\n",
      "2025-06-04 11:20:14.187 INFO: HTTP Request: GET http://127.0.0.1:35787/api/v1/array/block/f7763365-cc6e-4b5e-a43d-3cfe6843c596/primary/external/bl_det_image?block=27%2C0%2C0&expected_shape=1%2C300%2C400 \"HTTP/1.1 500 Internal Server Error\"\n",
      "2025-06-04 11:20:14.188 WARNING: Scheduled retry in 0.84 seconds due to HTTPStatusError(\"Server error '500 Internal Server Error' for url 'http://127.0.0.1:35787/api/v1/array/block/f7763365-cc6e-4b5e-a43d-3cfe6843c596/primary/external/bl_det_image?block=27%2C0%2C0&expected_shape=1%2C300%2C400'\\nFor more information, server admin can search server logs for correlation ID 3f831cb0ef761a35.\") (attempt 2)\n",
      "2025-06-04 11:20:14.208 INFO: HTTP Request: GET http://127.0.0.1:35787/api/v1/array/block/f7763365-cc6e-4b5e-a43d-3cfe6843c596/primary/external/bl_det_image?block=10%2C0%2C0&expected_shape=1%2C300%2C400 \"HTTP/1.1 500 Internal Server Error\"\n",
      "2025-06-04 11:20:14.209 WARNING: Scheduled retry in 0.49 seconds due to HTTPStatusError(\"Server error '500 Internal Server Error' for url 'http://127.0.0.1:35787/api/v1/array/block/f7763365-cc6e-4b5e-a43d-3cfe6843c596/primary/external/bl_det_image?block=10%2C0%2C0&expected_shape=1%2C300%2C400'\\nFor more information, server admin can search server logs for correlation ID e2cbc1a35836c5eb.\") (attempt 2)\n",
      "2025-06-04 11:20:14.211 INFO: HTTP Request: GET http://127.0.0.1:35787/api/v1/array/block/f7763365-cc6e-4b5e-a43d-3cfe6843c596/primary/external/bl_det_image?block=30%2C0%2C0&expected_shape=1%2C300%2C400 \"HTTP/1.1 500 Internal Server Error\"\n",
      "2025-06-04 11:20:14.213 WARNING: Scheduled retry in 0.54 seconds due to HTTPStatusError(\"Server error '500 Internal Server Error' for url 'http://127.0.0.1:35787/api/v1/array/block/f7763365-cc6e-4b5e-a43d-3cfe6843c596/primary/external/bl_det_image?block=30%2C0%2C0&expected_shape=1%2C300%2C400'\\nFor more information, server admin can search server logs for correlation ID 49763a066cadc24d.\") (attempt 3)\n",
      "2025-06-04 11:20:14.229 INFO: HTTP Request: GET http://127.0.0.1:35787/api/v1/array/block/f7763365-cc6e-4b5e-a43d-3cfe6843c596/primary/external/bl_det_image?block=6%2C0%2C0&expected_shape=1%2C300%2C400 \"HTTP/1.1 500 Internal Server Error\"\n",
      "2025-06-04 11:20:14.230 WARNING: Scheduled retry in 0.28 seconds due to HTTPStatusError(\"Server error '500 Internal Server Error' for url 'http://127.0.0.1:35787/api/v1/array/block/f7763365-cc6e-4b5e-a43d-3cfe6843c596/primary/external/bl_det_image?block=6%2C0%2C0&expected_shape=1%2C300%2C400'\\nFor more information, server admin can search server logs for correlation ID 0f1884e14522f333.\") (attempt 2)\n",
      "2025-06-04 11:20:14.234 INFO: HTTP Request: GET http://127.0.0.1:35787/api/v1/array/block/f7763365-cc6e-4b5e-a43d-3cfe6843c596/primary/external/bl_det_image?block=24%2C0%2C0&expected_shape=1%2C300%2C400 \"HTTP/1.1 500 Internal Server Error\"\n",
      "2025-06-04 11:20:14.236 WARNING: Scheduled retry in 1.1 seconds due to HTTPStatusError(\"Server error '500 Internal Server Error' for url 'http://127.0.0.1:35787/api/v1/array/block/f7763365-cc6e-4b5e-a43d-3cfe6843c596/primary/external/bl_det_image?block=24%2C0%2C0&expected_shape=1%2C300%2C400'\\nFor more information, server admin can search server logs for correlation ID f0372bf3a52674d0.\") (attempt 3)\n",
      "2025-06-04 11:20:14.245 INFO: HTTP Request: GET http://127.0.0.1:35787/api/v1/array/block/f7763365-cc6e-4b5e-a43d-3cfe6843c596/primary/external/bl_det_image?block=18%2C0%2C0&expected_shape=1%2C300%2C400 \"HTTP/1.1 500 Internal Server Error\"\n",
      "2025-06-04 11:20:14.246 WARNING: Scheduled retry in 0.52 seconds due to HTTPStatusError(\"Server error '500 Internal Server Error' for url 'http://127.0.0.1:35787/api/v1/array/block/f7763365-cc6e-4b5e-a43d-3cfe6843c596/primary/external/bl_det_image?block=18%2C0%2C0&expected_shape=1%2C300%2C400'\\nFor more information, server admin can search server logs for correlation ID d97461cac5f9bad2.\") (attempt 3)\n",
      "2025-06-04 11:20:14.264 INFO: HTTP Request: GET http://127.0.0.1:35787/api/v1/array/block/f7763365-cc6e-4b5e-a43d-3cfe6843c596/primary/external/bl_det_image?block=1%2C0%2C0&expected_shape=1%2C300%2C400 \"HTTP/1.1 500 Internal Server Error\"\n",
      "2025-06-04 11:20:14.266 WARNING: Scheduled retry in 1.2 seconds due to HTTPStatusError(\"Server error '500 Internal Server Error' for url 'http://127.0.0.1:35787/api/v1/array/block/f7763365-cc6e-4b5e-a43d-3cfe6843c596/primary/external/bl_det_image?block=1%2C0%2C0&expected_shape=1%2C300%2C400'\\nFor more information, server admin can search server logs for correlation ID bfdcbb652b87186e.\") (attempt 2)\n",
      "2025-06-04 11:20:14.294 INFO: HTTP Request: GET http://127.0.0.1:35787/api/v1/array/block/f7763365-cc6e-4b5e-a43d-3cfe6843c596/primary/external/bl_det_image?block=9%2C0%2C0&expected_shape=1%2C300%2C400 \"HTTP/1.1 500 Internal Server Error\"\n",
      "2025-06-04 11:20:14.296 WARNING: Scheduled retry in 1.4 seconds due to HTTPStatusError(\"Server error '500 Internal Server Error' for url 'http://127.0.0.1:35787/api/v1/array/block/f7763365-cc6e-4b5e-a43d-3cfe6843c596/primary/external/bl_det_image?block=9%2C0%2C0&expected_shape=1%2C300%2C400'\\nFor more information, server admin can search server logs for correlation ID 4db02b5459f2b2a3.\") (attempt 3)\n",
      "2025-06-04 11:20:14.303 INFO: HTTP Request: GET http://127.0.0.1:35787/api/v1/array/block/f7763365-cc6e-4b5e-a43d-3cfe6843c596/primary/external/bl_det_image?block=0%2C0%2C0&expected_shape=1%2C300%2C400 \"HTTP/1.1 500 Internal Server Error\"\n",
      "2025-06-04 11:20:14.304 WARNING: Scheduled retry in 0.68 seconds due to HTTPStatusError(\"Server error '500 Internal Server Error' for url 'http://127.0.0.1:35787/api/v1/array/block/f7763365-cc6e-4b5e-a43d-3cfe6843c596/primary/external/bl_det_image?block=0%2C0%2C0&expected_shape=1%2C300%2C400'\\nFor more information, server admin can search server logs for correlation ID cda5e2def3765935.\") (attempt 2)\n",
      "2025-06-04 11:20:14.317 INFO: HTTP Request: GET http://127.0.0.1:35787/api/v1/array/block/f7763365-cc6e-4b5e-a43d-3cfe6843c596/primary/external/bl_det_image?block=31%2C0%2C0&expected_shape=1%2C300%2C400 \"HTTP/1.1 500 Internal Server Error\"\n",
      "2025-06-04 11:20:14.319 WARNING: Scheduled retry in 0.22 seconds due to HTTPStatusError(\"Server error '500 Internal Server Error' for url 'http://127.0.0.1:35787/api/v1/array/block/f7763365-cc6e-4b5e-a43d-3cfe6843c596/primary/external/bl_det_image?block=31%2C0%2C0&expected_shape=1%2C300%2C400'\\nFor more information, server admin can search server logs for correlation ID cea89fccae8ba8d5.\") (attempt 2)\n",
      "2025-06-04 11:20:14.341 INFO: HTTP Request: GET http://127.0.0.1:35787/api/v1/array/block/f7763365-cc6e-4b5e-a43d-3cfe6843c596/primary/external/bl_det_image?block=5%2C0%2C0&expected_shape=1%2C300%2C400 \"HTTP/1.1 500 Internal Server Error\"\n",
      "2025-06-04 11:20:14.342 WARNING: Scheduled retry in 1.1 seconds due to HTTPStatusError(\"Server error '500 Internal Server Error' for url 'http://127.0.0.1:35787/api/v1/array/block/f7763365-cc6e-4b5e-a43d-3cfe6843c596/primary/external/bl_det_image?block=5%2C0%2C0&expected_shape=1%2C300%2C400'\\nFor more information, server admin can search server logs for correlation ID bda31dccc70968a4.\") (attempt 2)\n",
      "2025-06-04 11:20:14.448 INFO: HTTP Request: GET http://127.0.0.1:35787/api/v1/array/block/f7763365-cc6e-4b5e-a43d-3cfe6843c596/primary/external/bl_det_image?block=4%2C0%2C0&expected_shape=1%2C300%2C400 \"HTTP/1.1 500 Internal Server Error\"\n",
      "2025-06-04 11:20:14.448 WARNING: Scheduled retry in 0.9 seconds due to HTTPStatusError(\"Server error '500 Internal Server Error' for url 'http://127.0.0.1:35787/api/v1/array/block/f7763365-cc6e-4b5e-a43d-3cfe6843c596/primary/external/bl_det_image?block=4%2C0%2C0&expected_shape=1%2C300%2C400'\\nFor more information, server admin can search server logs for correlation ID 1ecb3bff76d47f75.\") (attempt 3)\n",
      "2025-06-04 11:20:14.468 INFO: HTTP Request: GET http://127.0.0.1:35787/api/v1/array/block/f7763365-cc6e-4b5e-a43d-3cfe6843c596/primary/external/bl_det_image?block=3%2C0%2C0&expected_shape=1%2C300%2C400 \"HTTP/1.1 500 Internal Server Error\"\n",
      "2025-06-04 11:20:14.469 WARNING: Scheduled retry in 0.57 seconds due to HTTPStatusError(\"Server error '500 Internal Server Error' for url 'http://127.0.0.1:35787/api/v1/array/block/f7763365-cc6e-4b5e-a43d-3cfe6843c596/primary/external/bl_det_image?block=3%2C0%2C0&expected_shape=1%2C300%2C400'\\nFor more information, server admin can search server logs for correlation ID bfe4e6d55dc28d27.\") (attempt 2)\n",
      "2025-06-04 11:20:14.481 INFO: HTTP Request: GET http://127.0.0.1:35787/api/v1/array/block/f7763365-cc6e-4b5e-a43d-3cfe6843c596/primary/external/bl_det_image?block=22%2C0%2C0&expected_shape=1%2C300%2C400 \"HTTP/1.1 500 Internal Server Error\"\n",
      "2025-06-04 11:20:14.482 WARNING: Scheduled retry in 1.0 seconds due to HTTPStatusError(\"Server error '500 Internal Server Error' for url 'http://127.0.0.1:35787/api/v1/array/block/f7763365-cc6e-4b5e-a43d-3cfe6843c596/primary/external/bl_det_image?block=22%2C0%2C0&expected_shape=1%2C300%2C400'\\nFor more information, server admin can search server logs for correlation ID 8fb0848fcda87a40.\") (attempt 2)\n",
      "2025-06-04 11:20:14.524 INFO: HTTP Request: GET http://127.0.0.1:35787/api/v1/array/block/f7763365-cc6e-4b5e-a43d-3cfe6843c596/primary/external/bl_det_image?block=17%2C0%2C0&expected_shape=1%2C300%2C400 \"HTTP/1.1 500 Internal Server Error\"\n",
      "2025-06-04 11:20:14.525 WARNING: Scheduled retry in 0.41 seconds due to HTTPStatusError(\"Server error '500 Internal Server Error' for url 'http://127.0.0.1:35787/api/v1/array/block/f7763365-cc6e-4b5e-a43d-3cfe6843c596/primary/external/bl_det_image?block=17%2C0%2C0&expected_shape=1%2C300%2C400'\\nFor more information, server admin can search server logs for correlation ID 3a2fba91bb0c2908.\") (attempt 3)\n",
      "2025-06-04 11:20:14.529 INFO: HTTP Request: GET http://127.0.0.1:35787/api/v1/array/block/f7763365-cc6e-4b5e-a43d-3cfe6843c596/primary/external/bl_det_image?block=6%2C0%2C0&expected_shape=1%2C300%2C400 \"HTTP/1.1 500 Internal Server Error\"\n",
      "2025-06-04 11:20:14.530 WARNING: Scheduled retry in 1.0 seconds due to HTTPStatusError(\"Server error '500 Internal Server Error' for url 'http://127.0.0.1:35787/api/v1/array/block/f7763365-cc6e-4b5e-a43d-3cfe6843c596/primary/external/bl_det_image?block=6%2C0%2C0&expected_shape=1%2C300%2C400'\\nFor more information, server admin can search server logs for correlation ID 84424d5b7f93c4da.\") (attempt 3)\n",
      "2025-06-04 11:20:14.540 INFO: HTTP Request: GET http://127.0.0.1:35787/api/v1/array/block/f7763365-cc6e-4b5e-a43d-3cfe6843c596/primary/external/bl_det_image?block=8%2C0%2C0&expected_shape=1%2C300%2C400 \"HTTP/1.1 500 Internal Server Error\"\n",
      "2025-06-04 11:20:14.542 WARNING: Scheduled retry in 0.99 seconds due to HTTPStatusError(\"Server error '500 Internal Server Error' for url 'http://127.0.0.1:35787/api/v1/array/block/f7763365-cc6e-4b5e-a43d-3cfe6843c596/primary/external/bl_det_image?block=8%2C0%2C0&expected_shape=1%2C300%2C400'\\nFor more information, server admin can search server logs for correlation ID b388f55f7fb71a53.\") (attempt 3)\n",
      "2025-06-04 11:20:14.574 INFO: HTTP Request: GET http://127.0.0.1:35787/api/v1/array/block/f7763365-cc6e-4b5e-a43d-3cfe6843c596/primary/external/bl_det_image?block=29%2C0%2C0&expected_shape=1%2C300%2C400 \"HTTP/1.1 500 Internal Server Error\"\n",
      "2025-06-04 11:20:14.575 WARNING: Scheduled retry in 0.2 seconds due to HTTPStatusError(\"Server error '500 Internal Server Error' for url 'http://127.0.0.1:35787/api/v1/array/block/f7763365-cc6e-4b5e-a43d-3cfe6843c596/primary/external/bl_det_image?block=29%2C0%2C0&expected_shape=1%2C300%2C400'\\nFor more information, server admin can search server logs for correlation ID 5c9f7f186cfc020d.\") (attempt 2)\n",
      "2025-06-04 11:20:14.579 INFO: HTTP Request: GET http://127.0.0.1:35787/api/v1/array/block/f7763365-cc6e-4b5e-a43d-3cfe6843c596/primary/external/bl_det_image?block=11%2C0%2C0&expected_shape=1%2C300%2C400 \"HTTP/1.1 500 Internal Server Error\"\n",
      "2025-06-04 11:20:14.581 WARNING: Scheduled retry in 0.62 seconds due to HTTPStatusError(\"Server error '500 Internal Server Error' for url 'http://127.0.0.1:35787/api/v1/array/block/f7763365-cc6e-4b5e-a43d-3cfe6843c596/primary/external/bl_det_image?block=11%2C0%2C0&expected_shape=1%2C300%2C400'\\nFor more information, server admin can search server logs for correlation ID 7b1e99ddc35944b7.\") (attempt 2)\n",
      "2025-06-04 11:20:14.583 INFO: HTTP Request: GET http://127.0.0.1:35787/api/v1/array/block/f7763365-cc6e-4b5e-a43d-3cfe6843c596/primary/external/bl_det_image?block=31%2C0%2C0&expected_shape=1%2C300%2C400 \"HTTP/1.1 500 Internal Server Error\"\n",
      "2025-06-04 11:20:14.584 WARNING: Scheduled retry in 1.1 seconds due to HTTPStatusError(\"Server error '500 Internal Server Error' for url 'http://127.0.0.1:35787/api/v1/array/block/f7763365-cc6e-4b5e-a43d-3cfe6843c596/primary/external/bl_det_image?block=31%2C0%2C0&expected_shape=1%2C300%2C400'\\nFor more information, server admin can search server logs for correlation ID c7990b42b2b6bcec.\") (attempt 3)\n",
      "2025-06-04 11:20:14.623 INFO: HTTP Request: GET http://127.0.0.1:35787/api/v1/array/block/f7763365-cc6e-4b5e-a43d-3cfe6843c596/primary/external/bl_det_image?block=15%2C0%2C0&expected_shape=1%2C300%2C400 \"HTTP/1.1 500 Internal Server Error\"\n",
      "2025-06-04 11:20:14.625 WARNING: Scheduled retry in 1.2 seconds due to HTTPStatusError(\"Server error '500 Internal Server Error' for url 'http://127.0.0.1:35787/api/v1/array/block/f7763365-cc6e-4b5e-a43d-3cfe6843c596/primary/external/bl_det_image?block=15%2C0%2C0&expected_shape=1%2C300%2C400'\\nFor more information, server admin can search server logs for correlation ID 446dcb2a519fef04.\") (attempt 3)\n",
      "2025-06-04 11:20:14.628 INFO: HTTP Request: GET http://127.0.0.1:35787/api/v1/array/block/f7763365-cc6e-4b5e-a43d-3cfe6843c596/primary/external/bl_det_image?block=16%2C0%2C0&expected_shape=1%2C300%2C400 \"HTTP/1.1 500 Internal Server Error\"\n",
      "2025-06-04 11:20:14.630 WARNING: Scheduled retry in 1.0 seconds due to HTTPStatusError(\"Server error '500 Internal Server Error' for url 'http://127.0.0.1:35787/api/v1/array/block/f7763365-cc6e-4b5e-a43d-3cfe6843c596/primary/external/bl_det_image?block=16%2C0%2C0&expected_shape=1%2C300%2C400'\\nFor more information, server admin can search server logs for correlation ID 34e863f681ecae0d.\") (attempt 3)\n",
      "2025-06-04 11:20:14.633 INFO: HTTP Request: GET http://127.0.0.1:35787/api/v1/array/block/f7763365-cc6e-4b5e-a43d-3cfe6843c596/primary/external/bl_det_image?block=28%2C0%2C0&expected_shape=1%2C300%2C400 \"HTTP/1.1 500 Internal Server Error\"\n",
      "2025-06-04 11:20:14.635 WARNING: Scheduled retry in 0.26 seconds due to HTTPStatusError(\"Server error '500 Internal Server Error' for url 'http://127.0.0.1:35787/api/v1/array/block/f7763365-cc6e-4b5e-a43d-3cfe6843c596/primary/external/bl_det_image?block=28%2C0%2C0&expected_shape=1%2C300%2C400'\\nFor more information, server admin can search server logs for correlation ID d72e18b536b0ab7e.\") (attempt 2)\n",
      "2025-06-04 11:20:14.661 INFO: HTTP Request: GET http://127.0.0.1:35787/api/v1/array/block/f7763365-cc6e-4b5e-a43d-3cfe6843c596/primary/external/bl_det_image?block=12%2C0%2C0&expected_shape=1%2C300%2C400 \"HTTP/1.1 500 Internal Server Error\"\n",
      "2025-06-04 11:20:14.662 WARNING: Scheduled retry in 0.84 seconds due to HTTPStatusError(\"Server error '500 Internal Server Error' for url 'http://127.0.0.1:35787/api/v1/array/block/f7763365-cc6e-4b5e-a43d-3cfe6843c596/primary/external/bl_det_image?block=12%2C0%2C0&expected_shape=1%2C300%2C400'\\nFor more information, server admin can search server logs for correlation ID 34fdc4b097d67d69.\") (attempt 2)\n",
      "2025-06-04 11:20:14.665 INFO: HTTP Request: GET http://127.0.0.1:35787/api/v1/array/block/f7763365-cc6e-4b5e-a43d-3cfe6843c596/primary/external/bl_det_image?block=7%2C0%2C0&expected_shape=1%2C300%2C400 \"HTTP/1.1 500 Internal Server Error\"\n",
      "2025-06-04 11:20:14.667 WARNING: Scheduled retry in 0.94 seconds due to HTTPStatusError(\"Server error '500 Internal Server Error' for url 'http://127.0.0.1:35787/api/v1/array/block/f7763365-cc6e-4b5e-a43d-3cfe6843c596/primary/external/bl_det_image?block=7%2C0%2C0&expected_shape=1%2C300%2C400'\\nFor more information, server admin can search server logs for correlation ID 80edc5aa95c068cf.\") (attempt 3)\n",
      "2025-06-04 11:20:14.725 INFO: HTTP Request: GET http://127.0.0.1:35787/api/v1/array/block/f7763365-cc6e-4b5e-a43d-3cfe6843c596/primary/external/bl_det_image?block=19%2C0%2C0&expected_shape=1%2C300%2C400 \"HTTP/1.1 500 Internal Server Error\"\n",
      "2025-06-04 11:20:14.725 WARNING: Scheduled retry in 0.49 seconds due to HTTPStatusError(\"Server error '500 Internal Server Error' for url 'http://127.0.0.1:35787/api/v1/array/block/f7763365-cc6e-4b5e-a43d-3cfe6843c596/primary/external/bl_det_image?block=19%2C0%2C0&expected_shape=1%2C300%2C400'\\nFor more information, server admin can search server logs for correlation ID e0e265b54af75220.\") (attempt 2)\n",
      "2025-06-04 11:20:14.730 INFO: HTTP Request: GET http://127.0.0.1:35787/api/v1/array/block/f7763365-cc6e-4b5e-a43d-3cfe6843c596/primary/external/bl_det_image?block=10%2C0%2C0&expected_shape=1%2C300%2C400 \"HTTP/1.1 500 Internal Server Error\"\n",
      "2025-06-04 11:20:14.731 WARNING: Scheduled retry in 0.78 seconds due to HTTPStatusError(\"Server error '500 Internal Server Error' for url 'http://127.0.0.1:35787/api/v1/array/block/f7763365-cc6e-4b5e-a43d-3cfe6843c596/primary/external/bl_det_image?block=10%2C0%2C0&expected_shape=1%2C300%2C400'\\nFor more information, server admin can search server logs for correlation ID a25bdac8fc7a58e5.\") (attempt 3)\n",
      "2025-06-04 11:20:14.742 INFO: HTTP Request: GET http://127.0.0.1:35787/api/v1/array/block/f7763365-cc6e-4b5e-a43d-3cfe6843c596/primary/external/bl_det_image?block=20%2C0%2C0&expected_shape=1%2C300%2C400 \"HTTP/1.1 500 Internal Server Error\"\n",
      "2025-06-04 11:20:14.744 WARNING: Scheduled retry in 0.79 seconds due to HTTPStatusError(\"Server error '500 Internal Server Error' for url 'http://127.0.0.1:35787/api/v1/array/block/f7763365-cc6e-4b5e-a43d-3cfe6843c596/primary/external/bl_det_image?block=20%2C0%2C0&expected_shape=1%2C300%2C400'\\nFor more information, server admin can search server logs for correlation ID 311984fb24f8154c.\") (attempt 2)\n",
      "2025-06-04 11:20:14.746 INFO: HTTP Request: GET http://127.0.0.1:35787/api/v1/array/block/f7763365-cc6e-4b5e-a43d-3cfe6843c596/primary/external/bl_det_image?block=25%2C0%2C0&expected_shape=1%2C300%2C400 \"HTTP/1.1 500 Internal Server Error\"\n",
      "2025-06-04 11:20:14.748 WARNING: Scheduled retry in 0.33 seconds due to HTTPStatusError(\"Server error '500 Internal Server Error' for url 'http://127.0.0.1:35787/api/v1/array/block/f7763365-cc6e-4b5e-a43d-3cfe6843c596/primary/external/bl_det_image?block=25%2C0%2C0&expected_shape=1%2C300%2C400'\\nFor more information, server admin can search server logs for correlation ID 78a3ebed52b0b3da.\") (attempt 2)\n",
      "2025-06-04 11:20:14.766 INFO: HTTP Request: GET http://127.0.0.1:35787/api/v1/array/block/f7763365-cc6e-4b5e-a43d-3cfe6843c596/primary/external/bl_det_image?block=30%2C0%2C0&expected_shape=1%2C300%2C400 \"HTTP/1.1 500 Internal Server Error\"\n",
      "2025-06-04 11:20:14.766 WARNING: Scheduled retry in 1.5 seconds due to HTTPStatusError(\"Server error '500 Internal Server Error' for url 'http://127.0.0.1:35787/api/v1/array/block/f7763365-cc6e-4b5e-a43d-3cfe6843c596/primary/external/bl_det_image?block=30%2C0%2C0&expected_shape=1%2C300%2C400'\\nFor more information, server admin can search server logs for correlation ID 8bcfa7e704a7489a.\") (attempt 4)\n",
      "2025-06-04 11:20:14.781 INFO: HTTP Request: GET http://127.0.0.1:35787/api/v1/array/block/f7763365-cc6e-4b5e-a43d-3cfe6843c596/primary/external/bl_det_image?block=18%2C0%2C0&expected_shape=1%2C300%2C400 \"HTTP/1.1 500 Internal Server Error\"\n",
      "2025-06-04 11:20:14.781 WARNING: Scheduled retry in 1.8 seconds due to HTTPStatusError(\"Server error '500 Internal Server Error' for url 'http://127.0.0.1:35787/api/v1/array/block/f7763365-cc6e-4b5e-a43d-3cfe6843c596/primary/external/bl_det_image?block=18%2C0%2C0&expected_shape=1%2C300%2C400'\\nFor more information, server admin can search server logs for correlation ID f8bbb2488b110572.\") (attempt 4)\n",
      "2025-06-04 11:20:14.791 INFO: HTTP Request: GET http://127.0.0.1:35787/api/v1/array/block/f7763365-cc6e-4b5e-a43d-3cfe6843c596/primary/external/bl_det_image?block=29%2C0%2C0&expected_shape=1%2C300%2C400 \"HTTP/1.1 500 Internal Server Error\"\n",
      "2025-06-04 11:20:14.792 WARNING: Scheduled retry in 0.45 seconds due to HTTPStatusError(\"Server error '500 Internal Server Error' for url 'http://127.0.0.1:35787/api/v1/array/block/f7763365-cc6e-4b5e-a43d-3cfe6843c596/primary/external/bl_det_image?block=29%2C0%2C0&expected_shape=1%2C300%2C400'\\nFor more information, server admin can search server logs for correlation ID 599df15b19ac33c1.\") (attempt 3)\n",
      "2025-06-04 11:20:14.849 INFO: HTTP Request: GET http://127.0.0.1:35787/api/v1/array/block/f7763365-cc6e-4b5e-a43d-3cfe6843c596/primary/external/bl_det_image?block=21%2C0%2C0&expected_shape=1%2C300%2C400 \"HTTP/1.1 500 Internal Server Error\"\n",
      "2025-06-04 11:20:14.850 WARNING: Scheduled retry in 1.4 seconds due to HTTPStatusError(\"Server error '500 Internal Server Error' for url 'http://127.0.0.1:35787/api/v1/array/block/f7763365-cc6e-4b5e-a43d-3cfe6843c596/primary/external/bl_det_image?block=21%2C0%2C0&expected_shape=1%2C300%2C400'\\nFor more information, server admin can search server logs for correlation ID 67920877711c75e3.\") (attempt 3)\n",
      "2025-06-04 11:20:14.903 INFO: HTTP Request: GET http://127.0.0.1:35787/api/v1/array/block/f7763365-cc6e-4b5e-a43d-3cfe6843c596/primary/external/bl_det_image?block=23%2C0%2C0&expected_shape=1%2C300%2C400 \"HTTP/1.1 500 Internal Server Error\"\n",
      "2025-06-04 11:20:14.904 WARNING: Scheduled retry in 0.74 seconds due to HTTPStatusError(\"Server error '500 Internal Server Error' for url 'http://127.0.0.1:35787/api/v1/array/block/f7763365-cc6e-4b5e-a43d-3cfe6843c596/primary/external/bl_det_image?block=23%2C0%2C0&expected_shape=1%2C300%2C400'\\nFor more information, server admin can search server logs for correlation ID 5abfbfafcffcbd80.\") (attempt 3)\n",
      "2025-06-04 11:20:14.909 INFO: HTTP Request: GET http://127.0.0.1:35787/api/v1/array/block/f7763365-cc6e-4b5e-a43d-3cfe6843c596/primary/external/bl_det_image?block=28%2C0%2C0&expected_shape=1%2C300%2C400 \"HTTP/1.1 500 Internal Server Error\"\n",
      "2025-06-04 11:20:14.911 WARNING: Scheduled retry in 1.4 seconds due to HTTPStatusError(\"Server error '500 Internal Server Error' for url 'http://127.0.0.1:35787/api/v1/array/block/f7763365-cc6e-4b5e-a43d-3cfe6843c596/primary/external/bl_det_image?block=28%2C0%2C0&expected_shape=1%2C300%2C400'\\nFor more information, server admin can search server logs for correlation ID 51f3aa2ed054488f.\") (attempt 3)\n",
      "2025-06-04 11:20:14.948 INFO: HTTP Request: GET http://127.0.0.1:35787/api/v1/array/block/f7763365-cc6e-4b5e-a43d-3cfe6843c596/primary/external/bl_det_image?block=17%2C0%2C0&expected_shape=1%2C300%2C400 \"HTTP/1.1 500 Internal Server Error\"\n",
      "2025-06-04 11:20:14.949 WARNING: Scheduled retry in 1.5 seconds due to HTTPStatusError(\"Server error '500 Internal Server Error' for url 'http://127.0.0.1:35787/api/v1/array/block/f7763365-cc6e-4b5e-a43d-3cfe6843c596/primary/external/bl_det_image?block=17%2C0%2C0&expected_shape=1%2C300%2C400'\\nFor more information, server admin can search server logs for correlation ID 1877d87851aa1c6b.\") (attempt 4)\n",
      "2025-06-04 11:20:14.952 INFO: HTTP Request: GET http://127.0.0.1:35787/api/v1/array/block/f7763365-cc6e-4b5e-a43d-3cfe6843c596/primary/external/bl_det_image?block=13%2C0%2C0&expected_shape=1%2C300%2C400 \"HTTP/1.1 500 Internal Server Error\"\n",
      "2025-06-04 11:20:14.954 WARNING: Scheduled retry in 0.94 seconds due to HTTPStatusError(\"Server error '500 Internal Server Error' for url 'http://127.0.0.1:35787/api/v1/array/block/f7763365-cc6e-4b5e-a43d-3cfe6843c596/primary/external/bl_det_image?block=13%2C0%2C0&expected_shape=1%2C300%2C400'\\nFor more information, server admin can search server logs for correlation ID 0a5f54ecf51c7366.\") (attempt 3)\n",
      "2025-06-04 11:20:14.954 WARNING: Scheduled retry in 0.66 seconds due to ReadError('[Errno 104] Connection reset by peer') (attempt 3)\n",
      "2025-06-04 11:20:14.996 INFO: HTTP Request: GET http://127.0.0.1:35787/api/v1/array/block/f7763365-cc6e-4b5e-a43d-3cfe6843c596/primary/external/bl_det_image?block=14%2C0%2C0&expected_shape=1%2C300%2C400 \"HTTP/1.1 500 Internal Server Error\"\n",
      "2025-06-04 11:20:14.996 WARNING: Scheduled retry in 1.0 seconds due to HTTPStatusError(\"Server error '500 Internal Server Error' for url 'http://127.0.0.1:35787/api/v1/array/block/f7763365-cc6e-4b5e-a43d-3cfe6843c596/primary/external/bl_det_image?block=14%2C0%2C0&expected_shape=1%2C300%2C400'\\nFor more information, server admin can search server logs for correlation ID 1ac19b27c40ef95c.\") (attempt 3)\n",
      "2025-06-04 11:20:15.008 INFO: HTTP Request: GET http://127.0.0.1:35787/api/v1/array/block/f7763365-cc6e-4b5e-a43d-3cfe6843c596/primary/external/bl_det_image?block=26%2C0%2C0&expected_shape=1%2C300%2C400 \"HTTP/1.1 500 Internal Server Error\"\n",
      "2025-06-04 11:20:15.010 WARNING: Scheduled retry in 1.1 seconds due to HTTPStatusError(\"Server error '500 Internal Server Error' for url 'http://127.0.0.1:35787/api/v1/array/block/f7763365-cc6e-4b5e-a43d-3cfe6843c596/primary/external/bl_det_image?block=26%2C0%2C0&expected_shape=1%2C300%2C400'\\nFor more information, server admin can search server logs for correlation ID a666c029db100348.\") (attempt 3)\n",
      "2025-06-04 11:20:15.012 INFO: HTTP Request: GET http://127.0.0.1:35787/api/v1/array/block/f7763365-cc6e-4b5e-a43d-3cfe6843c596/primary/external/bl_det_image?block=0%2C0%2C0&expected_shape=1%2C300%2C400 \"HTTP/1.1 500 Internal Server Error\"\n",
      "2025-06-04 11:20:15.014 WARNING: Scheduled retry in 0.46 seconds due to HTTPStatusError(\"Server error '500 Internal Server Error' for url 'http://127.0.0.1:35787/api/v1/array/block/f7763365-cc6e-4b5e-a43d-3cfe6843c596/primary/external/bl_det_image?block=0%2C0%2C0&expected_shape=1%2C300%2C400'\\nFor more information, server admin can search server logs for correlation ID 91782e60211fed03.\") (attempt 3)\n",
      "2025-06-04 11:20:15.037 INFO: HTTP Request: GET http://127.0.0.1:35787/api/v1/array/block/f7763365-cc6e-4b5e-a43d-3cfe6843c596/primary/external/bl_det_image?block=27%2C0%2C0&expected_shape=1%2C300%2C400 \"HTTP/1.1 500 Internal Server Error\"\n",
      "2025-06-04 11:20:15.038 WARNING: Scheduled retry in 1.3 seconds due to HTTPStatusError(\"Server error '500 Internal Server Error' for url 'http://127.0.0.1:35787/api/v1/array/block/f7763365-cc6e-4b5e-a43d-3cfe6843c596/primary/external/bl_det_image?block=27%2C0%2C0&expected_shape=1%2C300%2C400'\\nFor more information, server admin can search server logs for correlation ID f4e0af88569afc8e.\") (attempt 3)\n",
      "2025-06-04 11:20:15.051 INFO: HTTP Request: GET http://127.0.0.1:35787/api/v1/array/block/f7763365-cc6e-4b5e-a43d-3cfe6843c596/primary/external/bl_det_image?block=3%2C0%2C0&expected_shape=1%2C300%2C400 \"HTTP/1.1 500 Internal Server Error\"\n",
      "2025-06-04 11:20:15.052 WARNING: Scheduled retry in 1.4 seconds due to HTTPStatusError(\"Server error '500 Internal Server Error' for url 'http://127.0.0.1:35787/api/v1/array/block/f7763365-cc6e-4b5e-a43d-3cfe6843c596/primary/external/bl_det_image?block=3%2C0%2C0&expected_shape=1%2C300%2C400'\\nFor more information, server admin can search server logs for correlation ID a9f93db7a79f5845.\") (attempt 3)\n",
      "2025-06-04 11:20:15.090 INFO: HTTP Request: GET http://127.0.0.1:35787/api/v1/array/block/f7763365-cc6e-4b5e-a43d-3cfe6843c596/primary/external/bl_det_image?block=25%2C0%2C0&expected_shape=1%2C300%2C400 \"HTTP/1.1 500 Internal Server Error\"\n",
      "2025-06-04 11:20:15.093 WARNING: Scheduled retry in 0.94 seconds due to HTTPStatusError(\"Server error '500 Internal Server Error' for url 'http://127.0.0.1:35787/api/v1/array/block/f7763365-cc6e-4b5e-a43d-3cfe6843c596/primary/external/bl_det_image?block=25%2C0%2C0&expected_shape=1%2C300%2C400'\\nFor more information, server admin can search server logs for correlation ID 19539b6b88e24d9b.\") (attempt 3)\n",
      "2025-06-04 11:20:15.221 INFO: HTTP Request: GET http://127.0.0.1:35787/api/v1/array/block/f7763365-cc6e-4b5e-a43d-3cfe6843c596/primary/external/bl_det_image?block=11%2C0%2C0&expected_shape=1%2C300%2C400 \"HTTP/1.1 500 Internal Server Error\"\n",
      "2025-06-04 11:20:15.223 WARNING: Scheduled retry in 1.2 seconds due to HTTPStatusError(\"Server error '500 Internal Server Error' for url 'http://127.0.0.1:35787/api/v1/array/block/f7763365-cc6e-4b5e-a43d-3cfe6843c596/primary/external/bl_det_image?block=11%2C0%2C0&expected_shape=1%2C300%2C400'\\nFor more information, server admin can search server logs for correlation ID 82a69e678a423843.\") (attempt 3)\n",
      "2025-06-04 11:20:15.231 INFO: HTTP Request: GET http://127.0.0.1:35787/api/v1/array/block/f7763365-cc6e-4b5e-a43d-3cfe6843c596/primary/external/bl_det_image?block=19%2C0%2C0&expected_shape=1%2C300%2C400 \"HTTP/1.1 500 Internal Server Error\"\n",
      "2025-06-04 11:20:15.233 WARNING: Scheduled retry in 0.43 seconds due to HTTPStatusError(\"Server error '500 Internal Server Error' for url 'http://127.0.0.1:35787/api/v1/array/block/f7763365-cc6e-4b5e-a43d-3cfe6843c596/primary/external/bl_det_image?block=19%2C0%2C0&expected_shape=1%2C300%2C400'\\nFor more information, server admin can search server logs for correlation ID 34aa0bfad94ce9d9.\") (attempt 3)\n",
      "2025-06-04 11:20:15.259 INFO: HTTP Request: GET http://127.0.0.1:35787/api/v1/array/block/f7763365-cc6e-4b5e-a43d-3cfe6843c596/primary/external/bl_det_image?block=29%2C0%2C0&expected_shape=1%2C300%2C400 \"HTTP/1.1 500 Internal Server Error\"\n",
      "2025-06-04 11:20:15.261 WARNING: Scheduled retry in 1.5 seconds due to HTTPStatusError(\"Server error '500 Internal Server Error' for url 'http://127.0.0.1:35787/api/v1/array/block/f7763365-cc6e-4b5e-a43d-3cfe6843c596/primary/external/bl_det_image?block=29%2C0%2C0&expected_shape=1%2C300%2C400'\\nFor more information, server admin can search server logs for correlation ID c6301fe283811fba.\") (attempt 4)\n",
      "2025-06-04 11:20:15.333 INFO: HTTP Request: GET http://127.0.0.1:35787/api/v1/array/block/f7763365-cc6e-4b5e-a43d-3cfe6843c596/primary/external/bl_det_image?block=24%2C0%2C0&expected_shape=1%2C300%2C400 \"HTTP/1.1 500 Internal Server Error\"\n",
      "2025-06-04 11:20:15.336 WARNING: Scheduled retry in 1.1 seconds due to HTTPStatusError(\"Server error '500 Internal Server Error' for url 'http://127.0.0.1:35787/api/v1/array/block/f7763365-cc6e-4b5e-a43d-3cfe6843c596/primary/external/bl_det_image?block=24%2C0%2C0&expected_shape=1%2C300%2C400'\\nFor more information, server admin can search server logs for correlation ID e35dbd15453dd828.\") (attempt 4)\n",
      "2025-06-04 11:20:15.362 INFO: HTTP Request: GET http://127.0.0.1:35787/api/v1/array/block/f7763365-cc6e-4b5e-a43d-3cfe6843c596/primary/external/bl_det_image?block=4%2C0%2C0&expected_shape=1%2C300%2C400 \"HTTP/1.1 500 Internal Server Error\"\n",
      "2025-06-04 11:20:15.363 WARNING: Scheduled retry in 0.8 seconds due to HTTPStatusError(\"Server error '500 Internal Server Error' for url 'http://127.0.0.1:35787/api/v1/array/block/f7763365-cc6e-4b5e-a43d-3cfe6843c596/primary/external/bl_det_image?block=4%2C0%2C0&expected_shape=1%2C300%2C400'\\nFor more information, server admin can search server logs for correlation ID a5595299f5bc8106.\") (attempt 4)\n",
      "2025-06-04 11:20:15.407 INFO: HTTP Request: GET http://127.0.0.1:35787/api/v1/array/block/f7763365-cc6e-4b5e-a43d-3cfe6843c596/primary/external/bl_det_image?block=5%2C0%2C0&expected_shape=1%2C300%2C400 \"HTTP/1.1 500 Internal Server Error\"\n",
      "2025-06-04 11:20:15.408 WARNING: Scheduled retry in 1.0 seconds due to HTTPStatusError(\"Server error '500 Internal Server Error' for url 'http://127.0.0.1:35787/api/v1/array/block/f7763365-cc6e-4b5e-a43d-3cfe6843c596/primary/external/bl_det_image?block=5%2C0%2C0&expected_shape=1%2C300%2C400'\\nFor more information, server admin can search server logs for correlation ID 4ccb495cfc39af8a.\") (attempt 3)\n",
      "2025-06-04 11:20:15.458 INFO: HTTP Request: GET http://127.0.0.1:35787/api/v1/array/block/f7763365-cc6e-4b5e-a43d-3cfe6843c596/primary/external/bl_det_image?block=1%2C0%2C0&expected_shape=1%2C300%2C400 \"HTTP/1.1 500 Internal Server Error\"\n",
      "2025-06-04 11:20:15.459 WARNING: Scheduled retry in 0.69 seconds due to HTTPStatusError(\"Server error '500 Internal Server Error' for url 'http://127.0.0.1:35787/api/v1/array/block/f7763365-cc6e-4b5e-a43d-3cfe6843c596/primary/external/bl_det_image?block=1%2C0%2C0&expected_shape=1%2C300%2C400'\\nFor more information, server admin can search server logs for correlation ID 5d651837772f73b5.\") (attempt 3)\n",
      "2025-06-04 11:20:15.489 INFO: HTTP Request: GET http://127.0.0.1:35787/api/v1/array/block/f7763365-cc6e-4b5e-a43d-3cfe6843c596/primary/external/bl_det_image?block=0%2C0%2C0&expected_shape=1%2C300%2C400 \"HTTP/1.1 500 Internal Server Error\"\n",
      "2025-06-04 11:20:15.490 WARNING: Scheduled retry in 1.6 seconds due to HTTPStatusError(\"Server error '500 Internal Server Error' for url 'http://127.0.0.1:35787/api/v1/array/block/f7763365-cc6e-4b5e-a43d-3cfe6843c596/primary/external/bl_det_image?block=0%2C0%2C0&expected_shape=1%2C300%2C400'\\nFor more information, server admin can search server logs for correlation ID 9c65a5880fb9226e.\") (attempt 4)\n",
      "2025-06-04 11:20:15.544 INFO: HTTP Request: GET http://127.0.0.1:35787/api/v1/array/block/f7763365-cc6e-4b5e-a43d-3cfe6843c596/primary/external/bl_det_image?block=22%2C0%2C0&expected_shape=1%2C300%2C400 \"HTTP/1.1 500 Internal Server Error\"\n",
      "2025-06-04 11:20:15.545 WARNING: Scheduled retry in 1.3 seconds due to HTTPStatusError(\"Server error '500 Internal Server Error' for url 'http://127.0.0.1:35787/api/v1/array/block/f7763365-cc6e-4b5e-a43d-3cfe6843c596/primary/external/bl_det_image?block=22%2C0%2C0&expected_shape=1%2C300%2C400'\\nFor more information, server admin can search server logs for correlation ID a04bf0d4f1058fad.\") (attempt 3)\n",
      "2025-06-04 11:20:15.548 INFO: HTTP Request: GET http://127.0.0.1:35787/api/v1/array/block/f7763365-cc6e-4b5e-a43d-3cfe6843c596/primary/external/bl_det_image?block=12%2C0%2C0&expected_shape=1%2C300%2C400 \"HTTP/1.1 500 Internal Server Error\"\n",
      "2025-06-04 11:20:15.549 WARNING: Scheduled retry in 0.84 seconds due to HTTPStatusError(\"Server error '500 Internal Server Error' for url 'http://127.0.0.1:35787/api/v1/array/block/f7763365-cc6e-4b5e-a43d-3cfe6843c596/primary/external/bl_det_image?block=12%2C0%2C0&expected_shape=1%2C300%2C400'\\nFor more information, server admin can search server logs for correlation ID 2342de6cffab7889.\") (attempt 3)\n",
      "2025-06-04 11:20:15.557 INFO: HTTP Request: GET http://127.0.0.1:35787/api/v1/array/block/f7763365-cc6e-4b5e-a43d-3cfe6843c596/primary/external/bl_det_image?block=10%2C0%2C0&expected_shape=1%2C300%2C400 \"HTTP/1.1 500 Internal Server Error\"\n",
      "2025-06-04 11:20:15.559 WARNING: Scheduled retry in 1.5 seconds due to HTTPStatusError(\"Server error '500 Internal Server Error' for url 'http://127.0.0.1:35787/api/v1/array/block/f7763365-cc6e-4b5e-a43d-3cfe6843c596/primary/external/bl_det_image?block=10%2C0%2C0&expected_shape=1%2C300%2C400'\\nFor more information, server admin can search server logs for correlation ID bec92c231f5ab632.\") (attempt 4)\n",
      "2025-06-04 11:20:15.572 INFO: HTTP Request: GET http://127.0.0.1:35787/api/v1/array/block/f7763365-cc6e-4b5e-a43d-3cfe6843c596/primary/external/bl_det_image?block=8%2C0%2C0&expected_shape=1%2C300%2C400 \"HTTP/1.1 500 Internal Server Error\"\n",
      "2025-06-04 11:20:15.574 WARNING: Scheduled retry in 0.81 seconds due to HTTPStatusError(\"Server error '500 Internal Server Error' for url 'http://127.0.0.1:35787/api/v1/array/block/f7763365-cc6e-4b5e-a43d-3cfe6843c596/primary/external/bl_det_image?block=8%2C0%2C0&expected_shape=1%2C300%2C400'\\nFor more information, server admin can search server logs for correlation ID 090b352e031131a7.\") (attempt 4)\n",
      "2025-06-04 11:20:15.577 INFO: HTTP Request: GET http://127.0.0.1:35787/api/v1/array/block/f7763365-cc6e-4b5e-a43d-3cfe6843c596/primary/external/bl_det_image?block=20%2C0%2C0&expected_shape=1%2C300%2C400 \"HTTP/1.1 500 Internal Server Error\"\n",
      "2025-06-04 11:20:15.579 WARNING: Scheduled retry in 0.98 seconds due to HTTPStatusError(\"Server error '500 Internal Server Error' for url 'http://127.0.0.1:35787/api/v1/array/block/f7763365-cc6e-4b5e-a43d-3cfe6843c596/primary/external/bl_det_image?block=20%2C0%2C0&expected_shape=1%2C300%2C400'\\nFor more information, server admin can search server logs for correlation ID fa455d1d8d946387.\") (attempt 3)\n",
      "2025-06-04 11:20:15.585 INFO: HTTP Request: GET http://127.0.0.1:35787/api/v1/array/block/f7763365-cc6e-4b5e-a43d-3cfe6843c596/primary/external/bl_det_image?block=6%2C0%2C0&expected_shape=1%2C300%2C400 \"HTTP/1.1 500 Internal Server Error\"\n",
      "2025-06-04 11:20:15.587 WARNING: Scheduled retry in 1.7 seconds due to HTTPStatusError(\"Server error '500 Internal Server Error' for url 'http://127.0.0.1:35787/api/v1/array/block/f7763365-cc6e-4b5e-a43d-3cfe6843c596/primary/external/bl_det_image?block=6%2C0%2C0&expected_shape=1%2C300%2C400'\\nFor more information, server admin can search server logs for correlation ID 83096d932a57e084.\") (attempt 4)\n",
      "2025-06-04 11:20:15.635 INFO: HTTP Request: GET http://127.0.0.1:35787/api/v1/array/block/f7763365-cc6e-4b5e-a43d-3cfe6843c596/primary/external/bl_det_image?block=7%2C0%2C0&expected_shape=1%2C300%2C400 \"HTTP/1.1 500 Internal Server Error\"\n",
      "2025-06-04 11:20:15.636 WARNING: Scheduled retry in 1.4 seconds due to HTTPStatusError(\"Server error '500 Internal Server Error' for url 'http://127.0.0.1:35787/api/v1/array/block/f7763365-cc6e-4b5e-a43d-3cfe6843c596/primary/external/bl_det_image?block=7%2C0%2C0&expected_shape=1%2C300%2C400'\\nFor more information, server admin can search server logs for correlation ID 84f10784c1fde1b1.\") (attempt 4)\n",
      "2025-06-04 11:20:15.640 INFO: HTTP Request: GET http://127.0.0.1:35787/api/v1/array/block/f7763365-cc6e-4b5e-a43d-3cfe6843c596/primary/external/bl_det_image?block=2%2C0%2C0&expected_shape=1%2C300%2C400 \"HTTP/1.1 500 Internal Server Error\"\n",
      "2025-06-04 11:20:15.641 WARNING: Scheduled retry in 1.0 seconds due to HTTPStatusError(\"Server error '500 Internal Server Error' for url 'http://127.0.0.1:35787/api/v1/array/block/f7763365-cc6e-4b5e-a43d-3cfe6843c596/primary/external/bl_det_image?block=2%2C0%2C0&expected_shape=1%2C300%2C400'\\nFor more information, server admin can search server logs for correlation ID a7fbfdd3988c9d23.\") (attempt 4)\n",
      "2025-06-04 11:20:15.643 WARNING: Scheduled retry in 0.89 seconds due to ReadError('[Errno 104] Connection reset by peer') (attempt 4)\n",
      "2025-06-04 11:20:15.670 INFO: HTTP Request: GET http://127.0.0.1:35787/api/v1/array/block/f7763365-cc6e-4b5e-a43d-3cfe6843c596/primary/external/bl_det_image?block=16%2C0%2C0&expected_shape=1%2C300%2C400 \"HTTP/1.1 500 Internal Server Error\"\n",
      "2025-06-04 11:20:15.671 WARNING: Scheduled retry in 1.7 seconds due to HTTPStatusError(\"Server error '500 Internal Server Error' for url 'http://127.0.0.1:35787/api/v1/array/block/f7763365-cc6e-4b5e-a43d-3cfe6843c596/primary/external/bl_det_image?block=16%2C0%2C0&expected_shape=1%2C300%2C400'\\nFor more information, server admin can search server logs for correlation ID ee8df35cf721eaa1.\") (attempt 4)\n",
      "2025-06-04 11:20:15.687 INFO: HTTP Request: GET http://127.0.0.1:35787/api/v1/array/block/f7763365-cc6e-4b5e-a43d-3cfe6843c596/primary/external/bl_det_image?block=19%2C0%2C0&expected_shape=1%2C300%2C400 \"HTTP/1.1 500 Internal Server Error\"\n",
      "2025-06-04 11:20:15.690 WARNING: Scheduled retry in 1.6 seconds due to HTTPStatusError(\"Server error '500 Internal Server Error' for url 'http://127.0.0.1:35787/api/v1/array/block/f7763365-cc6e-4b5e-a43d-3cfe6843c596/primary/external/bl_det_image?block=19%2C0%2C0&expected_shape=1%2C300%2C400'\\nFor more information, server admin can search server logs for correlation ID 0fe2381eac3fdaa4.\") (attempt 4)\n",
      "2025-06-04 11:20:15.690 INFO: HTTP Request: GET http://127.0.0.1:35787/api/v1/array/block/f7763365-cc6e-4b5e-a43d-3cfe6843c596/primary/external/bl_det_image?block=9%2C0%2C0&expected_shape=1%2C300%2C400 \"HTTP/1.1 500 Internal Server Error\"\n",
      "2025-06-04 11:20:15.692 WARNING: Scheduled retry in 1.2 seconds due to HTTPStatusError(\"Server error '500 Internal Server Error' for url 'http://127.0.0.1:35787/api/v1/array/block/f7763365-cc6e-4b5e-a43d-3cfe6843c596/primary/external/bl_det_image?block=9%2C0%2C0&expected_shape=1%2C300%2C400'\\nFor more information, server admin can search server logs for correlation ID 5a4c75aa2bbc115a.\") (attempt 4)\n",
      "2025-06-04 11:20:15.740 INFO: HTTP Request: GET http://127.0.0.1:35787/api/v1/array/block/f7763365-cc6e-4b5e-a43d-3cfe6843c596/primary/external/bl_det_image?block=31%2C0%2C0&expected_shape=1%2C300%2C400 \"HTTP/1.1 500 Internal Server Error\"\n",
      "2025-06-04 11:20:15.741 WARNING: Scheduled retry in 1.4 seconds due to HTTPStatusError(\"Server error '500 Internal Server Error' for url 'http://127.0.0.1:35787/api/v1/array/block/f7763365-cc6e-4b5e-a43d-3cfe6843c596/primary/external/bl_det_image?block=31%2C0%2C0&expected_shape=1%2C300%2C400'\\nFor more information, server admin can search server logs for correlation ID ff54486e1dccf193.\") (attempt 4)\n",
      "2025-06-04 11:20:15.874 INFO: HTTP Request: GET http://127.0.0.1:35787/api/v1/array/block/f7763365-cc6e-4b5e-a43d-3cfe6843c596/primary/external/bl_det_image?block=15%2C0%2C0&expected_shape=1%2C300%2C400 \"HTTP/1.1 500 Internal Server Error\"\n",
      "2025-06-04 11:20:15.876 WARNING: Scheduled retry in 1.3 seconds due to HTTPStatusError(\"Server error '500 Internal Server Error' for url 'http://127.0.0.1:35787/api/v1/array/block/f7763365-cc6e-4b5e-a43d-3cfe6843c596/primary/external/bl_det_image?block=15%2C0%2C0&expected_shape=1%2C300%2C400'\\nFor more information, server admin can search server logs for correlation ID 615ecb36ab749579.\") (attempt 4)\n",
      "2025-06-04 11:20:15.907 INFO: HTTP Request: GET http://127.0.0.1:35787/api/v1/array/block/f7763365-cc6e-4b5e-a43d-3cfe6843c596/primary/external/bl_det_image?block=13%2C0%2C0&expected_shape=1%2C300%2C400 \"HTTP/1.1 500 Internal Server Error\"\n",
      "2025-06-04 11:20:15.909 WARNING: Scheduled retry in 1.2 seconds due to HTTPStatusError(\"Server error '500 Internal Server Error' for url 'http://127.0.0.1:35787/api/v1/array/block/f7763365-cc6e-4b5e-a43d-3cfe6843c596/primary/external/bl_det_image?block=13%2C0%2C0&expected_shape=1%2C300%2C400'\\nFor more information, server admin can search server logs for correlation ID 538ed375db2c7f85.\") (attempt 4)\n",
      "2025-06-04 11:20:16.045 INFO: HTTP Request: GET http://127.0.0.1:35787/api/v1/array/block/f7763365-cc6e-4b5e-a43d-3cfe6843c596/primary/external/bl_det_image?block=14%2C0%2C0&expected_shape=1%2C300%2C400 \"HTTP/1.1 500 Internal Server Error\"\n",
      "2025-06-04 11:20:16.046 WARNING: Scheduled retry in 1.7 seconds due to HTTPStatusError(\"Server error '500 Internal Server Error' for url 'http://127.0.0.1:35787/api/v1/array/block/f7763365-cc6e-4b5e-a43d-3cfe6843c596/primary/external/bl_det_image?block=14%2C0%2C0&expected_shape=1%2C300%2C400'\\nFor more information, server admin can search server logs for correlation ID 512c595a3e4f020f.\") (attempt 4)\n",
      "2025-06-04 11:20:16.051 INFO: HTTP Request: GET http://127.0.0.1:35787/api/v1/array/block/f7763365-cc6e-4b5e-a43d-3cfe6843c596/primary/external/bl_det_image?block=25%2C0%2C0&expected_shape=1%2C300%2C400 \"HTTP/1.1 500 Internal Server Error\"\n",
      "2025-06-04 11:20:16.053 WARNING: Scheduled retry in 1.2 seconds due to HTTPStatusError(\"Server error '500 Internal Server Error' for url 'http://127.0.0.1:35787/api/v1/array/block/f7763365-cc6e-4b5e-a43d-3cfe6843c596/primary/external/bl_det_image?block=25%2C0%2C0&expected_shape=1%2C300%2C400'\\nFor more information, server admin can search server logs for correlation ID b139b9d80bd639cd.\") (attempt 4)\n",
      "2025-06-04 11:20:16.120 INFO: HTTP Request: GET http://127.0.0.1:35787/api/v1/array/block/f7763365-cc6e-4b5e-a43d-3cfe6843c596/primary/external/bl_det_image?block=26%2C0%2C0&expected_shape=1%2C300%2C400 \"HTTP/1.1 500 Internal Server Error\"\n",
      "2025-06-04 11:20:16.121 WARNING: Scheduled retry in 1.3 seconds due to HTTPStatusError(\"Server error '500 Internal Server Error' for url 'http://127.0.0.1:35787/api/v1/array/block/f7763365-cc6e-4b5e-a43d-3cfe6843c596/primary/external/bl_det_image?block=26%2C0%2C0&expected_shape=1%2C300%2C400'\\nFor more information, server admin can search server logs for correlation ID be7d5ca9c489ced7.\") (attempt 4)\n",
      "2025-06-04 11:20:16.158 INFO: HTTP Request: GET http://127.0.0.1:35787/api/v1/array/block/f7763365-cc6e-4b5e-a43d-3cfe6843c596/primary/external/bl_det_image?block=1%2C0%2C0&expected_shape=1%2C300%2C400 \"HTTP/1.1 500 Internal Server Error\"\n",
      "2025-06-04 11:20:16.160 WARNING: Scheduled retry in 1.3 seconds due to HTTPStatusError(\"Server error '500 Internal Server Error' for url 'http://127.0.0.1:35787/api/v1/array/block/f7763365-cc6e-4b5e-a43d-3cfe6843c596/primary/external/bl_det_image?block=1%2C0%2C0&expected_shape=1%2C300%2C400'\\nFor more information, server admin can search server logs for correlation ID e83192462d2e590e.\") (attempt 4)\n",
      "2025-06-04 11:20:16.177 INFO: HTTP Request: GET http://127.0.0.1:35787/api/v1/array/block/f7763365-cc6e-4b5e-a43d-3cfe6843c596/primary/external/bl_det_image?block=4%2C0%2C0&expected_shape=1%2C300%2C400 \"HTTP/1.1 500 Internal Server Error\"\n",
      "2025-06-04 11:20:16.178 WARNING: Scheduled retry in 1.6 seconds due to HTTPStatusError(\"Server error '500 Internal Server Error' for url 'http://127.0.0.1:35787/api/v1/array/block/f7763365-cc6e-4b5e-a43d-3cfe6843c596/primary/external/bl_det_image?block=4%2C0%2C0&expected_shape=1%2C300%2C400'\\nFor more information, server admin can search server logs for correlation ID 6d04d58777416b44.\") (attempt 5)\n",
      "2025-06-04 11:20:16.255 INFO: HTTP Request: GET http://127.0.0.1:35787/api/v1/array/block/f7763365-cc6e-4b5e-a43d-3cfe6843c596/primary/external/bl_det_image?block=21%2C0%2C0&expected_shape=1%2C300%2C400 \"HTTP/1.1 500 Internal Server Error\"\n",
      "2025-06-04 11:20:16.256 WARNING: Scheduled retry in 1.0 seconds due to HTTPStatusError(\"Server error '500 Internal Server Error' for url 'http://127.0.0.1:35787/api/v1/array/block/f7763365-cc6e-4b5e-a43d-3cfe6843c596/primary/external/bl_det_image?block=21%2C0%2C0&expected_shape=1%2C300%2C400'\\nFor more information, server admin can search server logs for correlation ID 2c8a256839e94857.\") (attempt 4)\n",
      "2025-06-04 11:20:16.300 INFO: HTTP Request: GET http://127.0.0.1:35787/api/v1/array/block/f7763365-cc6e-4b5e-a43d-3cfe6843c596/primary/external/bl_det_image?block=30%2C0%2C0&expected_shape=1%2C300%2C400 \"HTTP/1.1 500 Internal Server Error\"\n",
      "2025-06-04 11:20:16.301 WARNING: Scheduled retry in 1.6 seconds due to HTTPStatusError(\"Server error '500 Internal Server Error' for url 'http://127.0.0.1:35787/api/v1/array/block/f7763365-cc6e-4b5e-a43d-3cfe6843c596/primary/external/bl_det_image?block=30%2C0%2C0&expected_shape=1%2C300%2C400'\\nFor more information, server admin can search server logs for correlation ID 76da2b039b750ffb.\") (attempt 5)\n",
      "2025-06-04 11:20:16.324 INFO: HTTP Request: GET http://127.0.0.1:35787/api/v1/array/block/f7763365-cc6e-4b5e-a43d-3cfe6843c596/primary/external/bl_det_image?block=28%2C0%2C0&expected_shape=1%2C300%2C400 \"HTTP/1.1 500 Internal Server Error\"\n",
      "2025-06-04 11:20:16.325 WARNING: Scheduled retry in 0.95 seconds due to HTTPStatusError(\"Server error '500 Internal Server Error' for url 'http://127.0.0.1:35787/api/v1/array/block/f7763365-cc6e-4b5e-a43d-3cfe6843c596/primary/external/bl_det_image?block=28%2C0%2C0&expected_shape=1%2C300%2C400'\\nFor more information, server admin can search server logs for correlation ID e42f281781044ed8.\") (attempt 4)\n",
      "2025-06-04 11:20:16.334 INFO: HTTP Request: GET http://127.0.0.1:35787/api/v1/array/block/f7763365-cc6e-4b5e-a43d-3cfe6843c596/primary/external/bl_det_image?block=27%2C0%2C0&expected_shape=1%2C300%2C400 \"HTTP/1.1 500 Internal Server Error\"\n",
      "2025-06-04 11:20:16.336 WARNING: Scheduled retry in 1.3 seconds due to HTTPStatusError(\"Server error '500 Internal Server Error' for url 'http://127.0.0.1:35787/api/v1/array/block/f7763365-cc6e-4b5e-a43d-3cfe6843c596/primary/external/bl_det_image?block=27%2C0%2C0&expected_shape=1%2C300%2C400'\\nFor more information, server admin can search server logs for correlation ID 4b77a4c19800a2ca.\") (attempt 4)\n",
      "2025-06-04 11:20:16.398 INFO: HTTP Request: GET http://127.0.0.1:35787/api/v1/array/block/f7763365-cc6e-4b5e-a43d-3cfe6843c596/primary/external/bl_det_image?block=8%2C0%2C0&expected_shape=1%2C300%2C400 \"HTTP/1.1 500 Internal Server Error\"\n",
      "2025-06-04 11:20:16.399 WARNING: Scheduled retry in 1.9 seconds due to HTTPStatusError(\"Server error '500 Internal Server Error' for url 'http://127.0.0.1:35787/api/v1/array/block/f7763365-cc6e-4b5e-a43d-3cfe6843c596/primary/external/bl_det_image?block=8%2C0%2C0&expected_shape=1%2C300%2C400'\\nFor more information, server admin can search server logs for correlation ID 538235fe58c6b849.\") (attempt 5)\n",
      "2025-06-04 11:20:16.406 INFO: HTTP Request: GET http://127.0.0.1:35787/api/v1/array/block/f7763365-cc6e-4b5e-a43d-3cfe6843c596/primary/external/bl_det_image?block=12%2C0%2C0&expected_shape=1%2C300%2C400 \"HTTP/1.1 500 Internal Server Error\"\n",
      "2025-06-04 11:20:16.406 WARNING: Scheduled retry in 1.8 seconds due to HTTPStatusError(\"Server error '500 Internal Server Error' for url 'http://127.0.0.1:35787/api/v1/array/block/f7763365-cc6e-4b5e-a43d-3cfe6843c596/primary/external/bl_det_image?block=12%2C0%2C0&expected_shape=1%2C300%2C400'\\nFor more information, server admin can search server logs for correlation ID aa4892635c0d86b5.\") (attempt 4)\n",
      "2025-06-04 11:20:16.408 WARNING: Scheduled retry in 1.2 seconds due to ReadError('[Errno 104] Connection reset by peer') (attempt 4)\n",
      "2025-06-04 11:20:16.419 INFO: HTTP Request: GET http://127.0.0.1:35787/api/v1/array/block/f7763365-cc6e-4b5e-a43d-3cfe6843c596/primary/external/bl_det_image?block=5%2C0%2C0&expected_shape=1%2C300%2C400 \"HTTP/1.1 500 Internal Server Error\"\n",
      "2025-06-04 11:20:16.420 WARNING: Scheduled retry in 1.0 seconds due to HTTPStatusError(\"Server error '500 Internal Server Error' for url 'http://127.0.0.1:35787/api/v1/array/block/f7763365-cc6e-4b5e-a43d-3cfe6843c596/primary/external/bl_det_image?block=5%2C0%2C0&expected_shape=1%2C300%2C400'\\nFor more information, server admin can search server logs for correlation ID a0633b9e2cbe9565.\") (attempt 4)\n",
      "2025-06-04 11:20:16.444 INFO: HTTP Request: GET http://127.0.0.1:35787/api/v1/array/block/f7763365-cc6e-4b5e-a43d-3cfe6843c596/primary/external/bl_det_image?block=3%2C0%2C0&expected_shape=1%2C300%2C400 \"HTTP/1.1 500 Internal Server Error\"\n",
      "2025-06-04 11:20:16.445 WARNING: Scheduled retry in 1.3 seconds due to HTTPStatusError(\"Server error '500 Internal Server Error' for url 'http://127.0.0.1:35787/api/v1/array/block/f7763365-cc6e-4b5e-a43d-3cfe6843c596/primary/external/bl_det_image?block=3%2C0%2C0&expected_shape=1%2C300%2C400'\\nFor more information, server admin can search server logs for correlation ID d80ed53a5731a217.\") (attempt 4)\n",
      "2025-06-04 11:20:16.447 INFO: HTTP Request: GET http://127.0.0.1:35787/api/v1/array/block/f7763365-cc6e-4b5e-a43d-3cfe6843c596/primary/external/bl_det_image?block=17%2C0%2C0&expected_shape=1%2C300%2C400 \"HTTP/1.1 500 Internal Server Error\"\n",
      "2025-06-04 11:20:16.449 WARNING: Scheduled retry in 2.6 seconds due to HTTPStatusError(\"Server error '500 Internal Server Error' for url 'http://127.0.0.1:35787/api/v1/array/block/f7763365-cc6e-4b5e-a43d-3cfe6843c596/primary/external/bl_det_image?block=17%2C0%2C0&expected_shape=1%2C300%2C400'\\nFor more information, server admin can search server logs for correlation ID ef266339c64f21ac.\") (attempt 5)\n",
      "2025-06-04 11:20:16.458 INFO: HTTP Request: GET http://127.0.0.1:35787/api/v1/array/block/f7763365-cc6e-4b5e-a43d-3cfe6843c596/primary/external/bl_det_image?block=24%2C0%2C0&expected_shape=1%2C300%2C400 \"HTTP/1.1 500 Internal Server Error\"\n",
      "2025-06-04 11:20:16.459 WARNING: Scheduled retry in 1.9 seconds due to HTTPStatusError(\"Server error '500 Internal Server Error' for url 'http://127.0.0.1:35787/api/v1/array/block/f7763365-cc6e-4b5e-a43d-3cfe6843c596/primary/external/bl_det_image?block=24%2C0%2C0&expected_shape=1%2C300%2C400'\\nFor more information, server admin can search server logs for correlation ID c9930e199e0d14cb.\") (attempt 5)\n",
      "2025-06-04 11:20:16.539 INFO: HTTP Request: GET http://127.0.0.1:35787/api/v1/array/block/f7763365-cc6e-4b5e-a43d-3cfe6843c596/primary/external/bl_det_image?block=23%2C0%2C0&expected_shape=1%2C300%2C400 \"HTTP/1.1 500 Internal Server Error\"\n",
      "2025-06-04 11:20:16.540 WARNING: Scheduled retry in 1.8 seconds due to HTTPStatusError(\"Server error '500 Internal Server Error' for url 'http://127.0.0.1:35787/api/v1/array/block/f7763365-cc6e-4b5e-a43d-3cfe6843c596/primary/external/bl_det_image?block=23%2C0%2C0&expected_shape=1%2C300%2C400'\\nFor more information, server admin can search server logs for correlation ID 98fe3aa00a27b8c6.\") (attempt 5)\n",
      "2025-06-04 11:20:16.550 INFO: HTTP Request: GET http://127.0.0.1:35787/api/v1/array/block/f7763365-cc6e-4b5e-a43d-3cfe6843c596/primary/external/bl_det_image?block=18%2C0%2C0&expected_shape=1%2C300%2C400 \"HTTP/1.1 500 Internal Server Error\"\n",
      "2025-06-04 11:20:16.551 WARNING: Scheduled retry in 2.5 seconds due to HTTPStatusError(\"Server error '500 Internal Server Error' for url 'http://127.0.0.1:35787/api/v1/array/block/f7763365-cc6e-4b5e-a43d-3cfe6843c596/primary/external/bl_det_image?block=18%2C0%2C0&expected_shape=1%2C300%2C400'\\nFor more information, server admin can search server logs for correlation ID 8621efda116f1b4e.\") (attempt 5)\n",
      "2025-06-04 11:20:16.565 INFO: HTTP Request: GET http://127.0.0.1:35787/api/v1/array/block/f7763365-cc6e-4b5e-a43d-3cfe6843c596/primary/external/bl_det_image?block=20%2C0%2C0&expected_shape=1%2C300%2C400 \"HTTP/1.1 500 Internal Server Error\"\n",
      "2025-06-04 11:20:16.567 WARNING: Scheduled retry in 1.3 seconds due to HTTPStatusError(\"Server error '500 Internal Server Error' for url 'http://127.0.0.1:35787/api/v1/array/block/f7763365-cc6e-4b5e-a43d-3cfe6843c596/primary/external/bl_det_image?block=20%2C0%2C0&expected_shape=1%2C300%2C400'\\nFor more information, server admin can search server logs for correlation ID 48c84bc32d39eb96.\") (attempt 4)\n",
      "2025-06-04 11:20:16.670 INFO: HTTP Request: GET http://127.0.0.1:35787/api/v1/array/block/f7763365-cc6e-4b5e-a43d-3cfe6843c596/primary/external/bl_det_image?block=2%2C0%2C0&expected_shape=1%2C300%2C400 \"HTTP/1.1 500 Internal Server Error\"\n",
      "2025-06-04 11:20:16.672 WARNING: Scheduled retry in 2.1 seconds due to HTTPStatusError(\"Server error '500 Internal Server Error' for url 'http://127.0.0.1:35787/api/v1/array/block/f7763365-cc6e-4b5e-a43d-3cfe6843c596/primary/external/bl_det_image?block=2%2C0%2C0&expected_shape=1%2C300%2C400'\\nFor more information, server admin can search server logs for correlation ID 0ef6ee66e5cbc526.\") (attempt 5)\n",
      "2025-06-04 11:20:16.816 INFO: HTTP Request: GET http://127.0.0.1:35787/api/v1/array/block/f7763365-cc6e-4b5e-a43d-3cfe6843c596/primary/external/bl_det_image?block=29%2C0%2C0&expected_shape=1%2C300%2C400 \"HTTP/1.1 500 Internal Server Error\"\n",
      "2025-06-04 11:20:16.817 WARNING: Scheduled retry in 2.0 seconds due to HTTPStatusError(\"Server error '500 Internal Server Error' for url 'http://127.0.0.1:35787/api/v1/array/block/f7763365-cc6e-4b5e-a43d-3cfe6843c596/primary/external/bl_det_image?block=29%2C0%2C0&expected_shape=1%2C300%2C400'\\nFor more information, server admin can search server logs for correlation ID fe8fed694f69441c.\") (attempt 5)\n",
      "2025-06-04 11:20:16.874 INFO: HTTP Request: GET http://127.0.0.1:35787/api/v1/array/block/f7763365-cc6e-4b5e-a43d-3cfe6843c596/primary/external/bl_det_image?block=22%2C0%2C0&expected_shape=1%2C300%2C400 \"HTTP/1.1 500 Internal Server Error\"\n",
      "2025-06-04 11:20:16.876 WARNING: Scheduled retry in 0.97 seconds due to HTTPStatusError(\"Server error '500 Internal Server Error' for url 'http://127.0.0.1:35787/api/v1/array/block/f7763365-cc6e-4b5e-a43d-3cfe6843c596/primary/external/bl_det_image?block=22%2C0%2C0&expected_shape=1%2C300%2C400'\\nFor more information, server admin can search server logs for correlation ID 8609aa052f3eb7a9.\") (attempt 4)\n",
      "2025-06-04 11:20:16.944 INFO: HTTP Request: GET http://127.0.0.1:35787/api/v1/array/block/f7763365-cc6e-4b5e-a43d-3cfe6843c596/primary/external/bl_det_image?block=9%2C0%2C0&expected_shape=1%2C300%2C400 \"HTTP/1.1 500 Internal Server Error\"\n",
      "2025-06-04 11:20:16.945 WARNING: Scheduled retry in 1.7 seconds due to HTTPStatusError(\"Server error '500 Internal Server Error' for url 'http://127.0.0.1:35787/api/v1/array/block/f7763365-cc6e-4b5e-a43d-3cfe6843c596/primary/external/bl_det_image?block=9%2C0%2C0&expected_shape=1%2C300%2C400'\\nFor more information, server admin can search server logs for correlation ID 4d2fe1f335d5ef2b.\") (attempt 5)\n",
      "2025-06-04 11:20:17.032 INFO: HTTP Request: GET http://127.0.0.1:35787/api/v1/array/block/f7763365-cc6e-4b5e-a43d-3cfe6843c596/primary/external/bl_det_image?block=10%2C0%2C0&expected_shape=1%2C300%2C400 \"HTTP/1.1 500 Internal Server Error\"\n",
      "2025-06-04 11:20:17.035 WARNING: Scheduled retry in 2.4 seconds due to HTTPStatusError(\"Server error '500 Internal Server Error' for url 'http://127.0.0.1:35787/api/v1/array/block/f7763365-cc6e-4b5e-a43d-3cfe6843c596/primary/external/bl_det_image?block=10%2C0%2C0&expected_shape=1%2C300%2C400'\\nFor more information, server admin can search server logs for correlation ID 768c6569673d029b.\") (attempt 5)\n",
      "2025-06-04 11:20:17.039 INFO: HTTP Request: GET http://127.0.0.1:35787/api/v1/array/block/f7763365-cc6e-4b5e-a43d-3cfe6843c596/primary/external/bl_det_image?block=7%2C0%2C0&expected_shape=1%2C300%2C400 \"HTTP/1.1 500 Internal Server Error\"\n",
      "2025-06-04 11:20:17.040 WARNING: Scheduled retry in 1.8 seconds due to HTTPStatusError(\"Server error '500 Internal Server Error' for url 'http://127.0.0.1:35787/api/v1/array/block/f7763365-cc6e-4b5e-a43d-3cfe6843c596/primary/external/bl_det_image?block=7%2C0%2C0&expected_shape=1%2C300%2C400'\\nFor more information, server admin can search server logs for correlation ID 2efb6fe37174df21.\") (attempt 5)\n",
      "2025-06-04 11:20:17.088 INFO: HTTP Request: GET http://127.0.0.1:35787/api/v1/array/block/f7763365-cc6e-4b5e-a43d-3cfe6843c596/primary/external/bl_det_image?block=0%2C0%2C0&expected_shape=1%2C300%2C400 \"HTTP/1.1 500 Internal Server Error\"\n",
      "2025-06-04 11:20:17.089 WARNING: Scheduled retry in 2.3 seconds due to HTTPStatusError(\"Server error '500 Internal Server Error' for url 'http://127.0.0.1:35787/api/v1/array/block/f7763365-cc6e-4b5e-a43d-3cfe6843c596/primary/external/bl_det_image?block=0%2C0%2C0&expected_shape=1%2C300%2C400'\\nFor more information, server admin can search server logs for correlation ID 8f4a6e506501beb8.\") (attempt 5)\n",
      "2025-06-04 11:20:17.121 INFO: HTTP Request: GET http://127.0.0.1:35787/api/v1/array/block/f7763365-cc6e-4b5e-a43d-3cfe6843c596/primary/external/bl_det_image?block=31%2C0%2C0&expected_shape=1%2C300%2C400 \"HTTP/1.1 500 Internal Server Error\"\n",
      "2025-06-04 11:20:17.122 WARNING: Scheduled retry in 2.0 seconds due to HTTPStatusError(\"Server error '500 Internal Server Error' for url 'http://127.0.0.1:35787/api/v1/array/block/f7763365-cc6e-4b5e-a43d-3cfe6843c596/primary/external/bl_det_image?block=31%2C0%2C0&expected_shape=1%2C300%2C400'\\nFor more information, server admin can search server logs for correlation ID a7fa60ac4297e6a0.\") (attempt 5)\n",
      "2025-06-04 11:20:17.143 INFO: HTTP Request: GET http://127.0.0.1:35787/api/v1/array/block/f7763365-cc6e-4b5e-a43d-3cfe6843c596/primary/external/bl_det_image?block=13%2C0%2C0&expected_shape=1%2C300%2C400 \"HTTP/1.1 500 Internal Server Error\"\n",
      "2025-06-04 11:20:17.144 WARNING: Scheduled retry in 1.8 seconds due to HTTPStatusError(\"Server error '500 Internal Server Error' for url 'http://127.0.0.1:35787/api/v1/array/block/f7763365-cc6e-4b5e-a43d-3cfe6843c596/primary/external/bl_det_image?block=13%2C0%2C0&expected_shape=1%2C300%2C400'\\nFor more information, server admin can search server logs for correlation ID 87a8c32dbfda60c0.\") (attempt 5)\n",
      "2025-06-04 11:20:17.149 INFO: HTTP Request: GET http://127.0.0.1:35787/api/v1/array/block/f7763365-cc6e-4b5e-a43d-3cfe6843c596/primary/external/bl_det_image?block=15%2C0%2C0&expected_shape=1%2C300%2C400 \"HTTP/1.1 500 Internal Server Error\"\n",
      "2025-06-04 11:20:17.152 WARNING: Scheduled retry in 2.6 seconds due to HTTPStatusError(\"Server error '500 Internal Server Error' for url 'http://127.0.0.1:35787/api/v1/array/block/f7763365-cc6e-4b5e-a43d-3cfe6843c596/primary/external/bl_det_image?block=15%2C0%2C0&expected_shape=1%2C300%2C400'\\nFor more information, server admin can search server logs for correlation ID b6b529d606f3aa31.\") (attempt 5)\n",
      "2025-06-04 11:20:17.224 INFO: HTTP Request: GET http://127.0.0.1:35787/api/v1/array/block/f7763365-cc6e-4b5e-a43d-3cfe6843c596/primary/external/bl_det_image?block=25%2C0%2C0&expected_shape=1%2C300%2C400 \"HTTP/1.1 500 Internal Server Error\"\n",
      "2025-06-04 11:20:17.226 WARNING: Scheduled retry in 2.1 seconds due to HTTPStatusError(\"Server error '500 Internal Server Error' for url 'http://127.0.0.1:35787/api/v1/array/block/f7763365-cc6e-4b5e-a43d-3cfe6843c596/primary/external/bl_det_image?block=25%2C0%2C0&expected_shape=1%2C300%2C400'\\nFor more information, server admin can search server logs for correlation ID 85274c1f62efad91.\") (attempt 5)\n",
      "2025-06-04 11:20:17.284 INFO: HTTP Request: GET http://127.0.0.1:35787/api/v1/array/block/f7763365-cc6e-4b5e-a43d-3cfe6843c596/primary/external/bl_det_image?block=28%2C0%2C0&expected_shape=1%2C300%2C400 \"HTTP/1.1 500 Internal Server Error\"\n",
      "2025-06-04 11:20:17.286 WARNING: Scheduled retry in 2.1 seconds due to HTTPStatusError(\"Server error '500 Internal Server Error' for url 'http://127.0.0.1:35787/api/v1/array/block/f7763365-cc6e-4b5e-a43d-3cfe6843c596/primary/external/bl_det_image?block=28%2C0%2C0&expected_shape=1%2C300%2C400'\\nFor more information, server admin can search server logs for correlation ID b20a5c4887ea91f2.\") (attempt 5)\n",
      "2025-06-04 11:20:17.297 INFO: HTTP Request: GET http://127.0.0.1:35787/api/v1/array/block/f7763365-cc6e-4b5e-a43d-3cfe6843c596/primary/external/bl_det_image?block=21%2C0%2C0&expected_shape=1%2C300%2C400 \"HTTP/1.1 500 Internal Server Error\"\n",
      "2025-06-04 11:20:17.299 WARNING: Scheduled retry in 1.8 seconds due to HTTPStatusError(\"Server error '500 Internal Server Error' for url 'http://127.0.0.1:35787/api/v1/array/block/f7763365-cc6e-4b5e-a43d-3cfe6843c596/primary/external/bl_det_image?block=21%2C0%2C0&expected_shape=1%2C300%2C400'\\nFor more information, server admin can search server logs for correlation ID fd862736c1735273.\") (attempt 5)\n",
      "2025-06-04 11:20:17.314 INFO: HTTP Request: GET http://127.0.0.1:35787/api/v1/array/block/f7763365-cc6e-4b5e-a43d-3cfe6843c596/primary/external/bl_det_image?block=19%2C0%2C0&expected_shape=1%2C300%2C400 \"HTTP/1.1 500 Internal Server Error\"\n",
      "2025-06-04 11:20:17.316 WARNING: Scheduled retry in 2.6 seconds due to HTTPStatusError(\"Server error '500 Internal Server Error' for url 'http://127.0.0.1:35787/api/v1/array/block/f7763365-cc6e-4b5e-a43d-3cfe6843c596/primary/external/bl_det_image?block=19%2C0%2C0&expected_shape=1%2C300%2C400'\\nFor more information, server admin can search server logs for correlation ID c7378014679c9de7.\") (attempt 5)\n",
      "2025-06-04 11:20:17.341 INFO: HTTP Request: GET http://127.0.0.1:35787/api/v1/array/block/f7763365-cc6e-4b5e-a43d-3cfe6843c596/primary/external/bl_det_image?block=6%2C0%2C0&expected_shape=1%2C300%2C400 \"HTTP/1.1 500 Internal Server Error\"\n",
      "2025-06-04 11:20:17.342 WARNING: Scheduled retry in 1.9 seconds due to HTTPStatusError(\"Server error '500 Internal Server Error' for url 'http://127.0.0.1:35787/api/v1/array/block/f7763365-cc6e-4b5e-a43d-3cfe6843c596/primary/external/bl_det_image?block=6%2C0%2C0&expected_shape=1%2C300%2C400'\\nFor more information, server admin can search server logs for correlation ID 725245029e32f756.\") (attempt 5)\n",
      "2025-06-04 11:20:17.400 INFO: HTTP Request: GET http://127.0.0.1:35787/api/v1/array/block/f7763365-cc6e-4b5e-a43d-3cfe6843c596/primary/external/bl_det_image?block=16%2C0%2C0&expected_shape=1%2C300%2C400 \"HTTP/1.1 500 Internal Server Error\"\n",
      "2025-06-04 11:20:17.401 WARNING: Scheduled retry in 1.8 seconds due to HTTPStatusError(\"Server error '500 Internal Server Error' for url 'http://127.0.0.1:35787/api/v1/array/block/f7763365-cc6e-4b5e-a43d-3cfe6843c596/primary/external/bl_det_image?block=16%2C0%2C0&expected_shape=1%2C300%2C400'\\nFor more information, server admin can search server logs for correlation ID 290abeccbbfb7d29.\") (attempt 5)\n",
      "2025-06-04 11:20:17.460 INFO: HTTP Request: GET http://127.0.0.1:35787/api/v1/array/block/f7763365-cc6e-4b5e-a43d-3cfe6843c596/primary/external/bl_det_image?block=26%2C0%2C0&expected_shape=1%2C300%2C400 \"HTTP/1.1 500 Internal Server Error\"\n",
      "2025-06-04 11:20:17.462 WARNING: Scheduled retry in 2.1 seconds due to HTTPStatusError(\"Server error '500 Internal Server Error' for url 'http://127.0.0.1:35787/api/v1/array/block/f7763365-cc6e-4b5e-a43d-3cfe6843c596/primary/external/bl_det_image?block=26%2C0%2C0&expected_shape=1%2C300%2C400'\\nFor more information, server admin can search server logs for correlation ID 137f2e8d6da2be2a.\") (attempt 5)\n",
      "2025-06-04 11:20:17.463 WARNING: Scheduled retry in 1.8 seconds due to ReadError('[Errno 104] Connection reset by peer') (attempt 5)\n",
      "2025-06-04 11:20:17.469 INFO: HTTP Request: GET http://127.0.0.1:35787/api/v1/array/block/f7763365-cc6e-4b5e-a43d-3cfe6843c596/primary/external/bl_det_image?block=1%2C0%2C0&expected_shape=1%2C300%2C400 \"HTTP/1.1 500 Internal Server Error\"\n",
      "2025-06-04 11:20:17.470 WARNING: Scheduled retry in 2.2 seconds due to HTTPStatusError(\"Server error '500 Internal Server Error' for url 'http://127.0.0.1:35787/api/v1/array/block/f7763365-cc6e-4b5e-a43d-3cfe6843c596/primary/external/bl_det_image?block=1%2C0%2C0&expected_shape=1%2C300%2C400'\\nFor more information, server admin can search server logs for correlation ID 7dd81e24148cf9c7.\") (attempt 5)\n",
      "2025-06-04 11:20:17.573 INFO: HTTP Request: GET http://127.0.0.1:35787/api/v1/array/block/f7763365-cc6e-4b5e-a43d-3cfe6843c596/primary/external/bl_det_image?block=11%2C0%2C0&expected_shape=1%2C300%2C400 \"HTTP/1.1 500 Internal Server Error\"\n",
      "2025-06-04 11:20:17.575 WARNING: Scheduled retry in 2.6 seconds due to HTTPStatusError(\"Server error '500 Internal Server Error' for url 'http://127.0.0.1:35787/api/v1/array/block/f7763365-cc6e-4b5e-a43d-3cfe6843c596/primary/external/bl_det_image?block=11%2C0%2C0&expected_shape=1%2C300%2C400'\\nFor more information, server admin can search server logs for correlation ID cfaee8c73d68f408.\") (attempt 5)\n",
      "2025-06-04 11:20:17.688 INFO: HTTP Request: GET http://127.0.0.1:35787/api/v1/array/block/f7763365-cc6e-4b5e-a43d-3cfe6843c596/primary/external/bl_det_image?block=27%2C0%2C0&expected_shape=1%2C300%2C400 \"HTTP/1.1 500 Internal Server Error\"\n",
      "2025-06-04 11:20:17.689 WARNING: Scheduled retry in 2.0 seconds due to HTTPStatusError(\"Server error '500 Internal Server Error' for url 'http://127.0.0.1:35787/api/v1/array/block/f7763365-cc6e-4b5e-a43d-3cfe6843c596/primary/external/bl_det_image?block=27%2C0%2C0&expected_shape=1%2C300%2C400'\\nFor more information, server admin can search server logs for correlation ID 7d3a72bfb67911e8.\") (attempt 5)\n",
      "2025-06-04 11:20:17.765 INFO: HTTP Request: GET http://127.0.0.1:35787/api/v1/array/block/f7763365-cc6e-4b5e-a43d-3cfe6843c596/primary/external/bl_det_image?block=14%2C0%2C0&expected_shape=1%2C300%2C400 \"HTTP/1.1 500 Internal Server Error\"\n",
      "2025-06-04 11:20:17.766 WARNING: Scheduled retry in 2.0 seconds due to HTTPStatusError(\"Server error '500 Internal Server Error' for url 'http://127.0.0.1:35787/api/v1/array/block/f7763365-cc6e-4b5e-a43d-3cfe6843c596/primary/external/bl_det_image?block=14%2C0%2C0&expected_shape=1%2C300%2C400'\\nFor more information, server admin can search server logs for correlation ID 6c02dea2c8176e45.\") (attempt 5)\n",
      "2025-06-04 11:20:17.783 INFO: HTTP Request: GET http://127.0.0.1:35787/api/v1/array/block/f7763365-cc6e-4b5e-a43d-3cfe6843c596/primary/external/bl_det_image?block=3%2C0%2C0&expected_shape=1%2C300%2C400 \"HTTP/1.1 500 Internal Server Error\"\n",
      "2025-06-04 11:20:17.784 WARNING: Scheduled retry in 2.3 seconds due to HTTPStatusError(\"Server error '500 Internal Server Error' for url 'http://127.0.0.1:35787/api/v1/array/block/f7763365-cc6e-4b5e-a43d-3cfe6843c596/primary/external/bl_det_image?block=3%2C0%2C0&expected_shape=1%2C300%2C400'\\nFor more information, server admin can search server logs for correlation ID 9c43e42ec2040739.\") (attempt 5)\n",
      "2025-06-04 11:20:17.828 INFO: HTTP Request: GET http://127.0.0.1:35787/api/v1/array/block/f7763365-cc6e-4b5e-a43d-3cfe6843c596/primary/external/bl_det_image?block=4%2C0%2C0&expected_shape=1%2C300%2C400 \"HTTP/1.1 500 Internal Server Error\"\n",
      "2025-06-04 11:20:17.830 WARNING: Scheduled retry in 3.7 seconds due to HTTPStatusError(\"Server error '500 Internal Server Error' for url 'http://127.0.0.1:35787/api/v1/array/block/f7763365-cc6e-4b5e-a43d-3cfe6843c596/primary/external/bl_det_image?block=4%2C0%2C0&expected_shape=1%2C300%2C400'\\nFor more information, server admin can search server logs for correlation ID 02a080da08cadef4.\") (attempt 6)\n",
      "2025-06-04 11:20:17.858 INFO: HTTP Request: GET http://127.0.0.1:35787/api/v1/array/block/f7763365-cc6e-4b5e-a43d-3cfe6843c596/primary/external/bl_det_image?block=22%2C0%2C0&expected_shape=1%2C300%2C400 \"HTTP/1.1 500 Internal Server Error\"\n",
      "2025-06-04 11:20:17.859 WARNING: Scheduled retry in 2.2 seconds due to HTTPStatusError(\"Server error '500 Internal Server Error' for url 'http://127.0.0.1:35787/api/v1/array/block/f7763365-cc6e-4b5e-a43d-3cfe6843c596/primary/external/bl_det_image?block=22%2C0%2C0&expected_shape=1%2C300%2C400'\\nFor more information, server admin can search server logs for correlation ID 54858773f30ec9da.\") (attempt 5)\n",
      "2025-06-04 11:20:17.886 INFO: HTTP Request: GET http://127.0.0.1:35787/api/v1/array/block/f7763365-cc6e-4b5e-a43d-3cfe6843c596/primary/external/bl_det_image?block=20%2C0%2C0&expected_shape=1%2C300%2C400 \"HTTP/1.1 500 Internal Server Error\"\n",
      "2025-06-04 11:20:17.888 WARNING: Scheduled retry in 2.5 seconds due to HTTPStatusError(\"Server error '500 Internal Server Error' for url 'http://127.0.0.1:35787/api/v1/array/block/f7763365-cc6e-4b5e-a43d-3cfe6843c596/primary/external/bl_det_image?block=20%2C0%2C0&expected_shape=1%2C300%2C400'\\nFor more information, server admin can search server logs for correlation ID 23ee572f2d885e5e.\") (attempt 5)\n",
      "2025-06-04 11:20:17.961 INFO: HTTP Request: GET http://127.0.0.1:35787/api/v1/array/block/f7763365-cc6e-4b5e-a43d-3cfe6843c596/primary/external/bl_det_image?block=30%2C0%2C0&expected_shape=1%2C300%2C400 \"HTTP/1.1 500 Internal Server Error\"\n",
      "2025-06-04 11:20:17.962 WARNING: Scheduled retry in 3.6 seconds due to HTTPStatusError(\"Server error '500 Internal Server Error' for url 'http://127.0.0.1:35787/api/v1/array/block/f7763365-cc6e-4b5e-a43d-3cfe6843c596/primary/external/bl_det_image?block=30%2C0%2C0&expected_shape=1%2C300%2C400'\\nFor more information, server admin can search server logs for correlation ID 1cd88417d49acfd6.\") (attempt 6)\n",
      "2025-06-04 11:20:18.187 INFO: HTTP Request: GET http://127.0.0.1:35787/api/v1/array/block/f7763365-cc6e-4b5e-a43d-3cfe6843c596/primary/external/bl_det_image?block=12%2C0%2C0&expected_shape=1%2C300%2C400 \"HTTP/1.1 500 Internal Server Error\"\n",
      "2025-06-04 11:20:18.188 WARNING: Scheduled retry in 2.1 seconds due to HTTPStatusError(\"Server error '500 Internal Server Error' for url 'http://127.0.0.1:35787/api/v1/array/block/f7763365-cc6e-4b5e-a43d-3cfe6843c596/primary/external/bl_det_image?block=12%2C0%2C0&expected_shape=1%2C300%2C400'\\nFor more information, server admin can search server logs for correlation ID 27672203e1730565.\") (attempt 5)\n",
      "2025-06-04 11:20:18.350 INFO: HTTP Request: GET http://127.0.0.1:35787/api/v1/array/block/f7763365-cc6e-4b5e-a43d-3cfe6843c596/primary/external/bl_det_image?block=24%2C0%2C0&expected_shape=1%2C300%2C400 \"HTTP/1.1 500 Internal Server Error\"\n",
      "2025-06-04 11:20:18.351 WARNING: Scheduled retry in 4.2 seconds due to HTTPStatusError(\"Server error '500 Internal Server Error' for url 'http://127.0.0.1:35787/api/v1/array/block/f7763365-cc6e-4b5e-a43d-3cfe6843c596/primary/external/bl_det_image?block=24%2C0%2C0&expected_shape=1%2C300%2C400'\\nFor more information, server admin can search server logs for correlation ID c92f5951989de130.\") (attempt 6)\n",
      "2025-06-04 11:20:18.353 INFO: HTTP Request: GET http://127.0.0.1:35787/api/v1/array/block/f7763365-cc6e-4b5e-a43d-3cfe6843c596/primary/external/bl_det_image?block=8%2C0%2C0&expected_shape=1%2C300%2C400 \"HTTP/1.1 500 Internal Server Error\"\n",
      "2025-06-04 11:20:18.355 WARNING: Scheduled retry in 3.9 seconds due to HTTPStatusError(\"Server error '500 Internal Server Error' for url 'http://127.0.0.1:35787/api/v1/array/block/f7763365-cc6e-4b5e-a43d-3cfe6843c596/primary/external/bl_det_image?block=8%2C0%2C0&expected_shape=1%2C300%2C400'\\nFor more information, server admin can search server logs for correlation ID 5fdf40e217e13a7b.\") (attempt 6)\n",
      "2025-06-04 11:20:18.395 INFO: HTTP Request: GET http://127.0.0.1:35787/api/v1/array/block/f7763365-cc6e-4b5e-a43d-3cfe6843c596/primary/external/bl_det_image?block=23%2C0%2C0&expected_shape=1%2C300%2C400 \"HTTP/1.1 500 Internal Server Error\"\n",
      "2025-06-04 11:20:18.396 WARNING: Scheduled retry in 3.6 seconds due to HTTPStatusError(\"Server error '500 Internal Server Error' for url 'http://127.0.0.1:35787/api/v1/array/block/f7763365-cc6e-4b5e-a43d-3cfe6843c596/primary/external/bl_det_image?block=23%2C0%2C0&expected_shape=1%2C300%2C400'\\nFor more information, server admin can search server logs for correlation ID eb518641180f7937.\") (attempt 6)\n",
      "2025-06-04 11:20:18.656 INFO: HTTP Request: GET http://127.0.0.1:35787/api/v1/array/block/f7763365-cc6e-4b5e-a43d-3cfe6843c596/primary/external/bl_det_image?block=9%2C0%2C0&expected_shape=1%2C300%2C400 \"HTTP/1.1 500 Internal Server Error\"\n",
      "2025-06-04 11:20:18.657 WARNING: Scheduled retry in 3.7 seconds due to HTTPStatusError(\"Server error '500 Internal Server Error' for url 'http://127.0.0.1:35787/api/v1/array/block/f7763365-cc6e-4b5e-a43d-3cfe6843c596/primary/external/bl_det_image?block=9%2C0%2C0&expected_shape=1%2C300%2C400'\\nFor more information, server admin can search server logs for correlation ID b3eee4ae8e7857ba.\") (attempt 6)\n",
      "2025-06-04 11:20:18.744 INFO: HTTP Request: GET http://127.0.0.1:35787/api/v1/array/block/f7763365-cc6e-4b5e-a43d-3cfe6843c596/primary/external/bl_det_image?block=2%2C0%2C0&expected_shape=1%2C300%2C400 \"HTTP/1.1 500 Internal Server Error\"\n",
      "2025-06-04 11:20:18.746 WARNING: Scheduled retry in 3.8 seconds due to HTTPStatusError(\"Server error '500 Internal Server Error' for url 'http://127.0.0.1:35787/api/v1/array/block/f7763365-cc6e-4b5e-a43d-3cfe6843c596/primary/external/bl_det_image?block=2%2C0%2C0&expected_shape=1%2C300%2C400'\\nFor more information, server admin can search server logs for correlation ID edc40d6a89867b04.\") (attempt 6)\n",
      "2025-06-04 11:20:18.842 INFO: HTTP Request: GET http://127.0.0.1:35787/api/v1/array/block/f7763365-cc6e-4b5e-a43d-3cfe6843c596/primary/external/bl_det_image?block=29%2C0%2C0&expected_shape=1%2C300%2C400 \"HTTP/1.1 500 Internal Server Error\"\n",
      "2025-06-04 11:20:18.844 WARNING: Scheduled retry in 3.3 seconds due to HTTPStatusError(\"Server error '500 Internal Server Error' for url 'http://127.0.0.1:35787/api/v1/array/block/f7763365-cc6e-4b5e-a43d-3cfe6843c596/primary/external/bl_det_image?block=29%2C0%2C0&expected_shape=1%2C300%2C400'\\nFor more information, server admin can search server logs for correlation ID dc00bceff8ec0d3a.\") (attempt 6)\n",
      "2025-06-04 11:20:18.852 INFO: HTTP Request: GET http://127.0.0.1:35787/api/v1/array/block/f7763365-cc6e-4b5e-a43d-3cfe6843c596/primary/external/bl_det_image?block=7%2C0%2C0&expected_shape=1%2C300%2C400 \"HTTP/1.1 500 Internal Server Error\"\n",
      "2025-06-04 11:20:18.853 WARNING: Scheduled retry in 3.5 seconds due to HTTPStatusError(\"Server error '500 Internal Server Error' for url 'http://127.0.0.1:35787/api/v1/array/block/f7763365-cc6e-4b5e-a43d-3cfe6843c596/primary/external/bl_det_image?block=7%2C0%2C0&expected_shape=1%2C300%2C400'\\nFor more information, server admin can search server logs for correlation ID 21061dcf8dad2c37.\") (attempt 6)\n",
      "2025-06-04 11:20:18.965 INFO: HTTP Request: GET http://127.0.0.1:35787/api/v1/array/block/f7763365-cc6e-4b5e-a43d-3cfe6843c596/primary/external/bl_det_image?block=13%2C0%2C0&expected_shape=1%2C300%2C400 \"HTTP/1.1 500 Internal Server Error\"\n",
      "2025-06-04 11:20:18.967 WARNING: Scheduled retry in 4.1 seconds due to HTTPStatusError(\"Server error '500 Internal Server Error' for url 'http://127.0.0.1:35787/api/v1/array/block/f7763365-cc6e-4b5e-a43d-3cfe6843c596/primary/external/bl_det_image?block=13%2C0%2C0&expected_shape=1%2C300%2C400'\\nFor more information, server admin can search server logs for correlation ID 75fb6f38221f5478.\") (attempt 6)\n",
      "2025-06-04 11:20:19.039 INFO: HTTP Request: GET http://127.0.0.1:35787/api/v1/array/block/f7763365-cc6e-4b5e-a43d-3cfe6843c596/primary/external/bl_det_image?block=17%2C0%2C0&expected_shape=1%2C300%2C400 \"HTTP/1.1 500 Internal Server Error\"\n",
      "2025-06-04 11:20:19.041 WARNING: Scheduled retry in 4.0 seconds due to HTTPStatusError(\"Server error '500 Internal Server Error' for url 'http://127.0.0.1:35787/api/v1/array/block/f7763365-cc6e-4b5e-a43d-3cfe6843c596/primary/external/bl_det_image?block=17%2C0%2C0&expected_shape=1%2C300%2C400'\\nFor more information, server admin can search server logs for correlation ID 6323a6f579be056e.\") (attempt 6)\n",
      "2025-06-04 11:20:19.052 INFO: HTTP Request: GET http://127.0.0.1:35787/api/v1/array/block/f7763365-cc6e-4b5e-a43d-3cfe6843c596/primary/external/bl_det_image?block=18%2C0%2C0&expected_shape=1%2C300%2C400 \"HTTP/1.1 500 Internal Server Error\"\n",
      "2025-06-04 11:20:19.053 WARNING: Scheduled retry in 3.7 seconds due to HTTPStatusError(\"Server error '500 Internal Server Error' for url 'http://127.0.0.1:35787/api/v1/array/block/f7763365-cc6e-4b5e-a43d-3cfe6843c596/primary/external/bl_det_image?block=18%2C0%2C0&expected_shape=1%2C300%2C400'\\nFor more information, server admin can search server logs for correlation ID 1a5f4e09bbefcefc.\") (attempt 6)\n",
      "2025-06-04 11:20:19.091 INFO: HTTP Request: GET http://127.0.0.1:35787/api/v1/array/block/f7763365-cc6e-4b5e-a43d-3cfe6843c596/primary/external/bl_det_image?block=21%2C0%2C0&expected_shape=1%2C300%2C400 \"HTTP/1.1 500 Internal Server Error\"\n",
      "2025-06-04 11:20:19.092 WARNING: Scheduled retry in 3.9 seconds due to HTTPStatusError(\"Server error '500 Internal Server Error' for url 'http://127.0.0.1:35787/api/v1/array/block/f7763365-cc6e-4b5e-a43d-3cfe6843c596/primary/external/bl_det_image?block=21%2C0%2C0&expected_shape=1%2C300%2C400'\\nFor more information, server admin can search server logs for correlation ID df2f5f1933204ced.\") (attempt 6)\n",
      "2025-06-04 11:20:19.122 INFO: HTTP Request: GET http://127.0.0.1:35787/api/v1/array/block/f7763365-cc6e-4b5e-a43d-3cfe6843c596/primary/external/bl_det_image?block=31%2C0%2C0&expected_shape=1%2C300%2C400 \"HTTP/1.1 500 Internal Server Error\"\n",
      "2025-06-04 11:20:19.124 WARNING: Scheduled retry in 3.4 seconds due to HTTPStatusError(\"Server error '500 Internal Server Error' for url 'http://127.0.0.1:35787/api/v1/array/block/f7763365-cc6e-4b5e-a43d-3cfe6843c596/primary/external/bl_det_image?block=31%2C0%2C0&expected_shape=1%2C300%2C400'\\nFor more information, server admin can search server logs for correlation ID 87c5ffd759168bc0.\") (attempt 6)\n",
      "2025-06-04 11:20:19.195 INFO: HTTP Request: GET http://127.0.0.1:35787/api/v1/array/block/f7763365-cc6e-4b5e-a43d-3cfe6843c596/primary/external/bl_det_image?block=16%2C0%2C0&expected_shape=1%2C300%2C400 \"HTTP/1.1 500 Internal Server Error\"\n",
      "2025-06-04 11:20:19.197 WARNING: Scheduled retry in 3.5 seconds due to HTTPStatusError(\"Server error '500 Internal Server Error' for url 'http://127.0.0.1:35787/api/v1/array/block/f7763365-cc6e-4b5e-a43d-3cfe6843c596/primary/external/bl_det_image?block=16%2C0%2C0&expected_shape=1%2C300%2C400'\\nFor more information, server admin can search server logs for correlation ID 3c1d9fdc2201fcd5.\") (attempt 6)\n",
      "2025-06-04 11:20:19.242 INFO: HTTP Request: GET http://127.0.0.1:35787/api/v1/array/block/f7763365-cc6e-4b5e-a43d-3cfe6843c596/primary/external/bl_det_image?block=5%2C0%2C0&expected_shape=1%2C300%2C400 \"HTTP/1.1 500 Internal Server Error\"\n",
      "2025-06-04 11:20:19.243 WARNING: Scheduled retry in 3.7 seconds due to HTTPStatusError(\"Server error '500 Internal Server Error' for url 'http://127.0.0.1:35787/api/v1/array/block/f7763365-cc6e-4b5e-a43d-3cfe6843c596/primary/external/bl_det_image?block=5%2C0%2C0&expected_shape=1%2C300%2C400'\\nFor more information, server admin can search server logs for correlation ID 6feb3aaff2744a6a.\") (attempt 6)\n",
      "2025-06-04 11:20:19.268 INFO: HTTP Request: GET http://127.0.0.1:35787/api/v1/array/block/f7763365-cc6e-4b5e-a43d-3cfe6843c596/primary/external/bl_det_image?block=6%2C0%2C0&expected_shape=1%2C300%2C400 \"HTTP/1.1 500 Internal Server Error\"\n",
      "2025-06-04 11:20:19.269 WARNING: Scheduled retry in 3.3 seconds due to HTTPStatusError(\"Server error '500 Internal Server Error' for url 'http://127.0.0.1:35787/api/v1/array/block/f7763365-cc6e-4b5e-a43d-3cfe6843c596/primary/external/bl_det_image?block=6%2C0%2C0&expected_shape=1%2C300%2C400'\\nFor more information, server admin can search server logs for correlation ID 8b3b918333a7e381.\") (attempt 6)\n",
      "2025-06-04 11:20:19.340 INFO: HTTP Request: GET http://127.0.0.1:35787/api/v1/array/block/f7763365-cc6e-4b5e-a43d-3cfe6843c596/primary/external/bl_det_image?block=25%2C0%2C0&expected_shape=1%2C300%2C400 \"HTTP/1.1 500 Internal Server Error\"\n",
      "2025-06-04 11:20:19.341 WARNING: Scheduled retry in 3.7 seconds due to HTTPStatusError(\"Server error '500 Internal Server Error' for url 'http://127.0.0.1:35787/api/v1/array/block/f7763365-cc6e-4b5e-a43d-3cfe6843c596/primary/external/bl_det_image?block=25%2C0%2C0&expected_shape=1%2C300%2C400'\\nFor more information, server admin can search server logs for correlation ID bd8ca926a960a4f2.\") (attempt 6)\n",
      "2025-06-04 11:20:19.370 INFO: HTTP Request: GET http://127.0.0.1:35787/api/v1/array/block/f7763365-cc6e-4b5e-a43d-3cfe6843c596/primary/external/bl_det_image?block=0%2C0%2C0&expected_shape=1%2C300%2C400 \"HTTP/1.1 500 Internal Server Error\"\n",
      "2025-06-04 11:20:19.372 WARNING: Scheduled retry in 3.4 seconds due to HTTPStatusError(\"Server error '500 Internal Server Error' for url 'http://127.0.0.1:35787/api/v1/array/block/f7763365-cc6e-4b5e-a43d-3cfe6843c596/primary/external/bl_det_image?block=0%2C0%2C0&expected_shape=1%2C300%2C400'\\nFor more information, server admin can search server logs for correlation ID 59844f12eb5eec7f.\") (attempt 6)\n",
      "2025-06-04 11:20:19.402 INFO: HTTP Request: GET http://127.0.0.1:35787/api/v1/array/block/f7763365-cc6e-4b5e-a43d-3cfe6843c596/primary/external/bl_det_image?block=10%2C0%2C0&expected_shape=1%2C300%2C400 \"HTTP/1.1 500 Internal Server Error\"\n",
      "2025-06-04 11:20:19.403 WARNING: Scheduled retry in 3.6 seconds due to HTTPStatusError(\"Server error '500 Internal Server Error' for url 'http://127.0.0.1:35787/api/v1/array/block/f7763365-cc6e-4b5e-a43d-3cfe6843c596/primary/external/bl_det_image?block=10%2C0%2C0&expected_shape=1%2C300%2C400'\\nFor more information, server admin can search server logs for correlation ID c46cb3dca94aa0f8.\") (attempt 6)\n",
      "2025-06-04 11:20:19.432 INFO: HTTP Request: GET http://127.0.0.1:35787/api/v1/array/block/f7763365-cc6e-4b5e-a43d-3cfe6843c596/primary/external/bl_det_image?block=28%2C0%2C0&expected_shape=1%2C300%2C400 \"HTTP/1.1 500 Internal Server Error\"\n",
      "2025-06-04 11:20:19.433 WARNING: Scheduled retry in 4.1 seconds due to HTTPStatusError(\"Server error '500 Internal Server Error' for url 'http://127.0.0.1:35787/api/v1/array/block/f7763365-cc6e-4b5e-a43d-3cfe6843c596/primary/external/bl_det_image?block=28%2C0%2C0&expected_shape=1%2C300%2C400'\\nFor more information, server admin can search server logs for correlation ID e845c49da8f26283.\") (attempt 6)\n",
      "2025-06-04 11:20:19.551 INFO: HTTP Request: GET http://127.0.0.1:35787/api/v1/array/block/f7763365-cc6e-4b5e-a43d-3cfe6843c596/primary/external/bl_det_image?block=26%2C0%2C0&expected_shape=1%2C300%2C400 \"HTTP/1.1 500 Internal Server Error\"\n",
      "2025-06-04 11:20:19.553 WARNING: Scheduled retry in 3.3 seconds due to HTTPStatusError(\"Server error '500 Internal Server Error' for url 'http://127.0.0.1:35787/api/v1/array/block/f7763365-cc6e-4b5e-a43d-3cfe6843c596/primary/external/bl_det_image?block=26%2C0%2C0&expected_shape=1%2C300%2C400'\\nFor more information, server admin can search server logs for correlation ID 7aef7cdf29f641da.\") (attempt 6)\n",
      "2025-06-04 11:20:19.679 INFO: HTTP Request: GET http://127.0.0.1:35787/api/v1/array/block/f7763365-cc6e-4b5e-a43d-3cfe6843c596/primary/external/bl_det_image?block=27%2C0%2C0&expected_shape=1%2C300%2C400 \"HTTP/1.1 500 Internal Server Error\"\n",
      "2025-06-04 11:20:19.680 WARNING: Scheduled retry in 3.3 seconds due to HTTPStatusError(\"Server error '500 Internal Server Error' for url 'http://127.0.0.1:35787/api/v1/array/block/f7763365-cc6e-4b5e-a43d-3cfe6843c596/primary/external/bl_det_image?block=27%2C0%2C0&expected_shape=1%2C300%2C400'\\nFor more information, server admin can search server logs for correlation ID 73b8af93cbfe6264.\") (attempt 6)\n",
      "2025-06-04 11:20:19.682 INFO: HTTP Request: GET http://127.0.0.1:35787/api/v1/array/block/f7763365-cc6e-4b5e-a43d-3cfe6843c596/primary/external/bl_det_image?block=1%2C0%2C0&expected_shape=1%2C300%2C400 \"HTTP/1.1 500 Internal Server Error\"\n",
      "2025-06-04 11:20:19.683 WARNING: Scheduled retry in 3.2 seconds due to HTTPStatusError(\"Server error '500 Internal Server Error' for url 'http://127.0.0.1:35787/api/v1/array/block/f7763365-cc6e-4b5e-a43d-3cfe6843c596/primary/external/bl_det_image?block=1%2C0%2C0&expected_shape=1%2C300%2C400'\\nFor more information, server admin can search server logs for correlation ID c714f31273729a00.\") (attempt 6)\n",
      "2025-06-04 11:20:19.742 INFO: HTTP Request: GET http://127.0.0.1:35787/api/v1/array/block/f7763365-cc6e-4b5e-a43d-3cfe6843c596/primary/external/bl_det_image?block=15%2C0%2C0&expected_shape=1%2C300%2C400 \"HTTP/1.1 500 Internal Server Error\"\n",
      "2025-06-04 11:20:19.744 WARNING: Scheduled retry in 3.8 seconds due to HTTPStatusError(\"Server error '500 Internal Server Error' for url 'http://127.0.0.1:35787/api/v1/array/block/f7763365-cc6e-4b5e-a43d-3cfe6843c596/primary/external/bl_det_image?block=15%2C0%2C0&expected_shape=1%2C300%2C400'\\nFor more information, server admin can search server logs for correlation ID ec291ea642977195.\") (attempt 6)\n",
      "2025-06-04 11:20:19.787 INFO: HTTP Request: GET http://127.0.0.1:35787/api/v1/array/block/f7763365-cc6e-4b5e-a43d-3cfe6843c596/primary/external/bl_det_image?block=14%2C0%2C0&expected_shape=1%2C300%2C400 \"HTTP/1.1 500 Internal Server Error\"\n",
      "2025-06-04 11:20:19.789 WARNING: Scheduled retry in 3.9 seconds due to HTTPStatusError(\"Server error '500 Internal Server Error' for url 'http://127.0.0.1:35787/api/v1/array/block/f7763365-cc6e-4b5e-a43d-3cfe6843c596/primary/external/bl_det_image?block=14%2C0%2C0&expected_shape=1%2C300%2C400'\\nFor more information, server admin can search server logs for correlation ID 8149cdec6282bd47.\") (attempt 6)\n",
      "2025-06-04 11:20:19.909 INFO: HTTP Request: GET http://127.0.0.1:35787/api/v1/array/block/f7763365-cc6e-4b5e-a43d-3cfe6843c596/primary/external/bl_det_image?block=19%2C0%2C0&expected_shape=1%2C300%2C400 \"HTTP/1.1 500 Internal Server Error\"\n",
      "2025-06-04 11:20:19.911 WARNING: Scheduled retry in 3.3 seconds due to HTTPStatusError(\"Server error '500 Internal Server Error' for url 'http://127.0.0.1:35787/api/v1/array/block/f7763365-cc6e-4b5e-a43d-3cfe6843c596/primary/external/bl_det_image?block=19%2C0%2C0&expected_shape=1%2C300%2C400'\\nFor more information, server admin can search server logs for correlation ID 694a0b9aa2b4d15a.\") (attempt 6)\n",
      "2025-06-04 11:20:20.063 INFO: HTTP Request: GET http://127.0.0.1:35787/api/v1/array/block/f7763365-cc6e-4b5e-a43d-3cfe6843c596/primary/external/bl_det_image?block=3%2C0%2C0&expected_shape=1%2C300%2C400 \"HTTP/1.1 500 Internal Server Error\"\n",
      "2025-06-04 11:20:20.065 WARNING: Scheduled retry in 3.8 seconds due to HTTPStatusError(\"Server error '500 Internal Server Error' for url 'http://127.0.0.1:35787/api/v1/array/block/f7763365-cc6e-4b5e-a43d-3cfe6843c596/primary/external/bl_det_image?block=3%2C0%2C0&expected_shape=1%2C300%2C400'\\nFor more information, server admin can search server logs for correlation ID fb054839138337cb.\") (attempt 6)\n",
      "2025-06-04 11:20:20.086 INFO: HTTP Request: GET http://127.0.0.1:35787/api/v1/array/block/f7763365-cc6e-4b5e-a43d-3cfe6843c596/primary/external/bl_det_image?block=22%2C0%2C0&expected_shape=1%2C300%2C400 \"HTTP/1.1 500 Internal Server Error\"\n",
      "2025-06-04 11:20:20.087 WARNING: Scheduled retry in 3.3 seconds due to HTTPStatusError(\"Server error '500 Internal Server Error' for url 'http://127.0.0.1:35787/api/v1/array/block/f7763365-cc6e-4b5e-a43d-3cfe6843c596/primary/external/bl_det_image?block=22%2C0%2C0&expected_shape=1%2C300%2C400'\\nFor more information, server admin can search server logs for correlation ID 7a0387676421c4cb.\") (attempt 6)\n",
      "2025-06-04 11:20:20.145 INFO: HTTP Request: GET http://127.0.0.1:35787/api/v1/array/block/f7763365-cc6e-4b5e-a43d-3cfe6843c596/primary/external/bl_det_image?block=11%2C0%2C0&expected_shape=1%2C300%2C400 \"HTTP/1.1 500 Internal Server Error\"\n",
      "2025-06-04 11:20:20.147 WARNING: Scheduled retry in 3.5 seconds due to HTTPStatusError(\"Server error '500 Internal Server Error' for url 'http://127.0.0.1:35787/api/v1/array/block/f7763365-cc6e-4b5e-a43d-3cfe6843c596/primary/external/bl_det_image?block=11%2C0%2C0&expected_shape=1%2C300%2C400'\\nFor more information, server admin can search server logs for correlation ID 5f2808d98ae3091a.\") (attempt 6)\n",
      "2025-06-04 11:20:20.282 INFO: HTTP Request: GET http://127.0.0.1:35787/api/v1/array/block/f7763365-cc6e-4b5e-a43d-3cfe6843c596/primary/external/bl_det_image?block=12%2C0%2C0&expected_shape=1%2C300%2C400 \"HTTP/1.1 500 Internal Server Error\"\n",
      "2025-06-04 11:20:20.283 WARNING: Scheduled retry in 3.4 seconds due to HTTPStatusError(\"Server error '500 Internal Server Error' for url 'http://127.0.0.1:35787/api/v1/array/block/f7763365-cc6e-4b5e-a43d-3cfe6843c596/primary/external/bl_det_image?block=12%2C0%2C0&expected_shape=1%2C300%2C400'\\nFor more information, server admin can search server logs for correlation ID bb2cc431ce973c98.\") (attempt 6)\n",
      "2025-06-04 11:20:20.405 INFO: HTTP Request: GET http://127.0.0.1:35787/api/v1/array/block/f7763365-cc6e-4b5e-a43d-3cfe6843c596/primary/external/bl_det_image?block=20%2C0%2C0&expected_shape=1%2C300%2C400 \"HTTP/1.1 500 Internal Server Error\"\n",
      "2025-06-04 11:20:20.407 WARNING: Scheduled retry in 3.6 seconds due to HTTPStatusError(\"Server error '500 Internal Server Error' for url 'http://127.0.0.1:35787/api/v1/array/block/f7763365-cc6e-4b5e-a43d-3cfe6843c596/primary/external/bl_det_image?block=20%2C0%2C0&expected_shape=1%2C300%2C400'\\nFor more information, server admin can search server logs for correlation ID 4b9583cf599ed46e.\") (attempt 6)\n",
      "2025-06-04 11:20:21.595 INFO: HTTP Request: GET http://127.0.0.1:35787/api/v1/array/block/f7763365-cc6e-4b5e-a43d-3cfe6843c596/primary/external/bl_det_image?block=4%2C0%2C0&expected_shape=1%2C300%2C400 \"HTTP/1.1 500 Internal Server Error\"\n",
      "2025-06-04 11:20:21.597 WARNING: Scheduled retry in 5.0 seconds due to HTTPStatusError(\"Server error '500 Internal Server Error' for url 'http://127.0.0.1:35787/api/v1/array/block/f7763365-cc6e-4b5e-a43d-3cfe6843c596/primary/external/bl_det_image?block=4%2C0%2C0&expected_shape=1%2C300%2C400'\\nFor more information, server admin can search server logs for correlation ID aa0d2f5774f1a2ca.\") (attempt 7)\n",
      "2025-06-04 11:20:21.618 INFO: HTTP Request: GET http://127.0.0.1:35787/api/v1/array/block/f7763365-cc6e-4b5e-a43d-3cfe6843c596/primary/external/bl_det_image?block=30%2C0%2C0&expected_shape=1%2C300%2C400 \"HTTP/1.1 500 Internal Server Error\"\n",
      "2025-06-04 11:20:21.620 WARNING: Scheduled retry in 5.0 seconds due to HTTPStatusError(\"Server error '500 Internal Server Error' for url 'http://127.0.0.1:35787/api/v1/array/block/f7763365-cc6e-4b5e-a43d-3cfe6843c596/primary/external/bl_det_image?block=30%2C0%2C0&expected_shape=1%2C300%2C400'\\nFor more information, server admin can search server logs for correlation ID 3224373ffbb211ac.\") (attempt 7)\n",
      "2025-06-04 11:20:22.043 INFO: HTTP Request: GET http://127.0.0.1:35787/api/v1/array/block/f7763365-cc6e-4b5e-a43d-3cfe6843c596/primary/external/bl_det_image?block=23%2C0%2C0&expected_shape=1%2C300%2C400 \"HTTP/1.1 500 Internal Server Error\"\n",
      "2025-06-04 11:20:22.046 WARNING: Scheduled retry in 5.0 seconds due to HTTPStatusError(\"Server error '500 Internal Server Error' for url 'http://127.0.0.1:35787/api/v1/array/block/f7763365-cc6e-4b5e-a43d-3cfe6843c596/primary/external/bl_det_image?block=23%2C0%2C0&expected_shape=1%2C300%2C400'\\nFor more information, server admin can search server logs for correlation ID 48c868e5fc164569.\") (attempt 7)\n",
      "2025-06-04 11:20:22.135 INFO: HTTP Request: GET http://127.0.0.1:35787/api/v1/array/block/f7763365-cc6e-4b5e-a43d-3cfe6843c596/primary/external/bl_det_image?block=29%2C0%2C0&expected_shape=1%2C300%2C400 \"HTTP/1.1 500 Internal Server Error\"\n",
      "2025-06-04 11:20:22.138 WARNING: Scheduled retry in 5.0 seconds due to HTTPStatusError(\"Server error '500 Internal Server Error' for url 'http://127.0.0.1:35787/api/v1/array/block/f7763365-cc6e-4b5e-a43d-3cfe6843c596/primary/external/bl_det_image?block=29%2C0%2C0&expected_shape=1%2C300%2C400'\\nFor more information, server admin can search server logs for correlation ID 41d3f41d918912de.\") (attempt 7)\n",
      "2025-06-04 11:20:22.249 INFO: HTTP Request: GET http://127.0.0.1:35787/api/v1/array/block/f7763365-cc6e-4b5e-a43d-3cfe6843c596/primary/external/bl_det_image?block=8%2C0%2C0&expected_shape=1%2C300%2C400 \"HTTP/1.1 500 Internal Server Error\"\n",
      "2025-06-04 11:20:22.252 WARNING: Scheduled retry in 5.0 seconds due to HTTPStatusError(\"Server error '500 Internal Server Error' for url 'http://127.0.0.1:35787/api/v1/array/block/f7763365-cc6e-4b5e-a43d-3cfe6843c596/primary/external/bl_det_image?block=8%2C0%2C0&expected_shape=1%2C300%2C400'\\nFor more information, server admin can search server logs for correlation ID 725e5230b1332e39.\") (attempt 7)\n",
      "2025-06-04 11:20:22.335 INFO: HTTP Request: GET http://127.0.0.1:35787/api/v1/array/block/f7763365-cc6e-4b5e-a43d-3cfe6843c596/primary/external/bl_det_image?block=9%2C0%2C0&expected_shape=1%2C300%2C400 \"HTTP/1.1 500 Internal Server Error\"\n",
      "2025-06-04 11:20:22.337 WARNING: Scheduled retry in 5.0 seconds due to HTTPStatusError(\"Server error '500 Internal Server Error' for url 'http://127.0.0.1:35787/api/v1/array/block/f7763365-cc6e-4b5e-a43d-3cfe6843c596/primary/external/bl_det_image?block=9%2C0%2C0&expected_shape=1%2C300%2C400'\\nFor more information, server admin can search server logs for correlation ID dec9712434dc35d4.\") (attempt 7)\n",
      "2025-06-04 11:20:22.415 INFO: HTTP Request: GET http://127.0.0.1:35787/api/v1/array/block/f7763365-cc6e-4b5e-a43d-3cfe6843c596/primary/external/bl_det_image?block=7%2C0%2C0&expected_shape=1%2C300%2C400 \"HTTP/1.1 500 Internal Server Error\"\n",
      "2025-06-04 11:20:22.416 WARNING: Scheduled retry in 5.0 seconds due to HTTPStatusError(\"Server error '500 Internal Server Error' for url 'http://127.0.0.1:35787/api/v1/array/block/f7763365-cc6e-4b5e-a43d-3cfe6843c596/primary/external/bl_det_image?block=7%2C0%2C0&expected_shape=1%2C300%2C400'\\nFor more information, server admin can search server logs for correlation ID 286fc327c4a80116.\") (attempt 7)\n",
      "2025-06-04 11:20:22.564 INFO: HTTP Request: GET http://127.0.0.1:35787/api/v1/array/block/f7763365-cc6e-4b5e-a43d-3cfe6843c596/primary/external/bl_det_image?block=24%2C0%2C0&expected_shape=1%2C300%2C400 \"HTTP/1.1 500 Internal Server Error\"\n",
      "2025-06-04 11:20:22.565 WARNING: Scheduled retry in 5.0 seconds due to HTTPStatusError(\"Server error '500 Internal Server Error' for url 'http://127.0.0.1:35787/api/v1/array/block/f7763365-cc6e-4b5e-a43d-3cfe6843c596/primary/external/bl_det_image?block=24%2C0%2C0&expected_shape=1%2C300%2C400'\\nFor more information, server admin can search server logs for correlation ID 6d12ba53fa1ffcaa.\") (attempt 7)\n",
      "2025-06-04 11:20:22.567 INFO: HTTP Request: GET http://127.0.0.1:35787/api/v1/array/block/f7763365-cc6e-4b5e-a43d-3cfe6843c596/primary/external/bl_det_image?block=6%2C0%2C0&expected_shape=1%2C300%2C400 \"HTTP/1.1 500 Internal Server Error\"\n",
      "2025-06-04 11:20:22.568 WARNING: Scheduled retry in 5.0 seconds due to HTTPStatusError(\"Server error '500 Internal Server Error' for url 'http://127.0.0.1:35787/api/v1/array/block/f7763365-cc6e-4b5e-a43d-3cfe6843c596/primary/external/bl_det_image?block=6%2C0%2C0&expected_shape=1%2C300%2C400'\\nFor more information, server admin can search server logs for correlation ID c386961aebacc297.\") (attempt 7)\n",
      "2025-06-04 11:20:22.570 INFO: HTTP Request: GET http://127.0.0.1:35787/api/v1/array/block/f7763365-cc6e-4b5e-a43d-3cfe6843c596/primary/external/bl_det_image?block=2%2C0%2C0&expected_shape=1%2C300%2C400 \"HTTP/1.1 500 Internal Server Error\"\n",
      "2025-06-04 11:20:22.571 WARNING: Scheduled retry in 5.0 seconds due to HTTPStatusError(\"Server error '500 Internal Server Error' for url 'http://127.0.0.1:35787/api/v1/array/block/f7763365-cc6e-4b5e-a43d-3cfe6843c596/primary/external/bl_det_image?block=2%2C0%2C0&expected_shape=1%2C300%2C400'\\nFor more information, server admin can search server logs for correlation ID 6738915bcce596dd.\") (attempt 7)\n",
      "2025-06-04 11:20:22.577 INFO: HTTP Request: GET http://127.0.0.1:35787/api/v1/array/block/f7763365-cc6e-4b5e-a43d-3cfe6843c596/primary/external/bl_det_image?block=31%2C0%2C0&expected_shape=1%2C300%2C400 \"HTTP/1.1 500 Internal Server Error\"\n",
      "2025-06-04 11:20:22.578 WARNING: Scheduled retry in 5.0 seconds due to HTTPStatusError(\"Server error '500 Internal Server Error' for url 'http://127.0.0.1:35787/api/v1/array/block/f7763365-cc6e-4b5e-a43d-3cfe6843c596/primary/external/bl_det_image?block=31%2C0%2C0&expected_shape=1%2C300%2C400'\\nFor more information, server admin can search server logs for correlation ID 09fd913414b3126c.\") (attempt 7)\n",
      "2025-06-04 11:20:22.673 INFO: HTTP Request: GET http://127.0.0.1:35787/api/v1/array/block/f7763365-cc6e-4b5e-a43d-3cfe6843c596/primary/external/bl_det_image?block=16%2C0%2C0&expected_shape=1%2C300%2C400 \"HTTP/1.1 500 Internal Server Error\"\n",
      "2025-06-04 11:20:22.674 WARNING: Scheduled retry in 5.0 seconds due to HTTPStatusError(\"Server error '500 Internal Server Error' for url 'http://127.0.0.1:35787/api/v1/array/block/f7763365-cc6e-4b5e-a43d-3cfe6843c596/primary/external/bl_det_image?block=16%2C0%2C0&expected_shape=1%2C300%2C400'\\nFor more information, server admin can search server logs for correlation ID eca36071eb25621b.\") (attempt 7)\n",
      "2025-06-04 11:20:22.787 INFO: HTTP Request: GET http://127.0.0.1:35787/api/v1/array/block/f7763365-cc6e-4b5e-a43d-3cfe6843c596/primary/external/bl_det_image?block=18%2C0%2C0&expected_shape=1%2C300%2C400 \"HTTP/1.1 500 Internal Server Error\"\n",
      "2025-06-04 11:20:22.788 WARNING: Scheduled retry in 5.0 seconds due to HTTPStatusError(\"Server error '500 Internal Server Error' for url 'http://127.0.0.1:35787/api/v1/array/block/f7763365-cc6e-4b5e-a43d-3cfe6843c596/primary/external/bl_det_image?block=18%2C0%2C0&expected_shape=1%2C300%2C400'\\nFor more information, server admin can search server logs for correlation ID f4a9ecc3837556c6.\") (attempt 7)\n",
      "2025-06-04 11:20:22.817 INFO: HTTP Request: GET http://127.0.0.1:35787/api/v1/array/block/f7763365-cc6e-4b5e-a43d-3cfe6843c596/primary/external/bl_det_image?block=0%2C0%2C0&expected_shape=1%2C300%2C400 \"HTTP/1.1 500 Internal Server Error\"\n",
      "2025-06-04 11:20:22.819 WARNING: Scheduled retry in 5.0 seconds due to HTTPStatusError(\"Server error '500 Internal Server Error' for url 'http://127.0.0.1:35787/api/v1/array/block/f7763365-cc6e-4b5e-a43d-3cfe6843c596/primary/external/bl_det_image?block=0%2C0%2C0&expected_shape=1%2C300%2C400'\\nFor more information, server admin can search server logs for correlation ID 9fdb0f8c7e5e28ae.\") (attempt 7)\n",
      "2025-06-04 11:20:22.916 INFO: HTTP Request: GET http://127.0.0.1:35787/api/v1/array/block/f7763365-cc6e-4b5e-a43d-3cfe6843c596/primary/external/bl_det_image?block=26%2C0%2C0&expected_shape=1%2C300%2C400 \"HTTP/1.1 500 Internal Server Error\"\n",
      "2025-06-04 11:20:22.917 WARNING: Scheduled retry in 5.0 seconds due to HTTPStatusError(\"Server error '500 Internal Server Error' for url 'http://127.0.0.1:35787/api/v1/array/block/f7763365-cc6e-4b5e-a43d-3cfe6843c596/primary/external/bl_det_image?block=26%2C0%2C0&expected_shape=1%2C300%2C400'\\nFor more information, server admin can search server logs for correlation ID 7dc0bc8fd35c0ca7.\") (attempt 7)\n",
      "2025-06-04 11:20:22.924 INFO: HTTP Request: GET http://127.0.0.1:35787/api/v1/array/block/f7763365-cc6e-4b5e-a43d-3cfe6843c596/primary/external/bl_det_image?block=1%2C0%2C0&expected_shape=1%2C300%2C400 \"HTTP/1.1 500 Internal Server Error\"\n",
      "2025-06-04 11:20:22.925 WARNING: Scheduled retry in 5.0 seconds due to HTTPStatusError(\"Server error '500 Internal Server Error' for url 'http://127.0.0.1:35787/api/v1/array/block/f7763365-cc6e-4b5e-a43d-3cfe6843c596/primary/external/bl_det_image?block=1%2C0%2C0&expected_shape=1%2C300%2C400'\\nFor more information, server admin can search server logs for correlation ID b322d64a544e5f1e.\") (attempt 7)\n",
      "2025-06-04 11:20:23.008 INFO: HTTP Request: GET http://127.0.0.1:35787/api/v1/array/block/f7763365-cc6e-4b5e-a43d-3cfe6843c596/primary/external/bl_det_image?block=21%2C0%2C0&expected_shape=1%2C300%2C400 \"HTTP/1.1 500 Internal Server Error\"\n",
      "2025-06-04 11:20:23.010 WARNING: Scheduled retry in 5.0 seconds due to HTTPStatusError(\"Server error '500 Internal Server Error' for url 'http://127.0.0.1:35787/api/v1/array/block/f7763365-cc6e-4b5e-a43d-3cfe6843c596/primary/external/bl_det_image?block=21%2C0%2C0&expected_shape=1%2C300%2C400'\\nFor more information, server admin can search server logs for correlation ID 9119505f78b95f8b.\") (attempt 7)\n",
      "2025-06-04 11:20:23.015 INFO: HTTP Request: GET http://127.0.0.1:35787/api/v1/array/block/f7763365-cc6e-4b5e-a43d-3cfe6843c596/primary/external/bl_det_image?block=27%2C0%2C0&expected_shape=1%2C300%2C400 \"HTTP/1.1 500 Internal Server Error\"\n",
      "2025-06-04 11:20:23.017 WARNING: Scheduled retry in 5.0 seconds due to HTTPStatusError(\"Server error '500 Internal Server Error' for url 'http://127.0.0.1:35787/api/v1/array/block/f7763365-cc6e-4b5e-a43d-3cfe6843c596/primary/external/bl_det_image?block=27%2C0%2C0&expected_shape=1%2C300%2C400'\\nFor more information, server admin can search server logs for correlation ID e455e67f4f6d8cde.\") (attempt 7)\n",
      "2025-06-04 11:20:23.018 INFO: HTTP Request: GET http://127.0.0.1:35787/api/v1/array/block/f7763365-cc6e-4b5e-a43d-3cfe6843c596/primary/external/bl_det_image?block=5%2C0%2C0&expected_shape=1%2C300%2C400 \"HTTP/1.1 500 Internal Server Error\"\n",
      "2025-06-04 11:20:23.021 WARNING: Scheduled retry in 5.0 seconds due to HTTPStatusError(\"Server error '500 Internal Server Error' for url 'http://127.0.0.1:35787/api/v1/array/block/f7763365-cc6e-4b5e-a43d-3cfe6843c596/primary/external/bl_det_image?block=5%2C0%2C0&expected_shape=1%2C300%2C400'\\nFor more information, server admin can search server logs for correlation ID 98759032ca91b46f.\") (attempt 7)\n",
      "2025-06-04 11:20:23.052 INFO: HTTP Request: GET http://127.0.0.1:35787/api/v1/array/block/f7763365-cc6e-4b5e-a43d-3cfe6843c596/primary/external/bl_det_image?block=10%2C0%2C0&expected_shape=1%2C300%2C400 \"HTTP/1.1 500 Internal Server Error\"\n",
      "2025-06-04 11:20:23.053 WARNING: Scheduled retry in 5.0 seconds due to HTTPStatusError(\"Server error '500 Internal Server Error' for url 'http://127.0.0.1:35787/api/v1/array/block/f7763365-cc6e-4b5e-a43d-3cfe6843c596/primary/external/bl_det_image?block=10%2C0%2C0&expected_shape=1%2C300%2C400'\\nFor more information, server admin can search server logs for correlation ID fc11026f27d63648.\") (attempt 7)\n",
      "2025-06-04 11:20:23.058 INFO: HTTP Request: GET http://127.0.0.1:35787/api/v1/array/block/f7763365-cc6e-4b5e-a43d-3cfe6843c596/primary/external/bl_det_image?block=13%2C0%2C0&expected_shape=1%2C300%2C400 \"HTTP/1.1 500 Internal Server Error\"\n",
      "2025-06-04 11:20:23.061 WARNING: Scheduled retry in 5.0 seconds due to HTTPStatusError(\"Server error '500 Internal Server Error' for url 'http://127.0.0.1:35787/api/v1/array/block/f7763365-cc6e-4b5e-a43d-3cfe6843c596/primary/external/bl_det_image?block=13%2C0%2C0&expected_shape=1%2C300%2C400'\\nFor more information, server admin can search server logs for correlation ID 3e3e134b422b019e.\") (attempt 7)\n",
      "2025-06-04 11:20:23.103 INFO: HTTP Request: GET http://127.0.0.1:35787/api/v1/array/block/f7763365-cc6e-4b5e-a43d-3cfe6843c596/primary/external/bl_det_image?block=25%2C0%2C0&expected_shape=1%2C300%2C400 \"HTTP/1.1 500 Internal Server Error\"\n",
      "2025-06-04 11:20:23.105 WARNING: Scheduled retry in 5.0 seconds due to HTTPStatusError(\"Server error '500 Internal Server Error' for url 'http://127.0.0.1:35787/api/v1/array/block/f7763365-cc6e-4b5e-a43d-3cfe6843c596/primary/external/bl_det_image?block=25%2C0%2C0&expected_shape=1%2C300%2C400'\\nFor more information, server admin can search server logs for correlation ID 4762ce4b21d1f2f5.\") (attempt 7)\n",
      "2025-06-04 11:20:23.108 INFO: HTTP Request: GET http://127.0.0.1:35787/api/v1/array/block/f7763365-cc6e-4b5e-a43d-3cfe6843c596/primary/external/bl_det_image?block=17%2C0%2C0&expected_shape=1%2C300%2C400 \"HTTP/1.1 500 Internal Server Error\"\n",
      "2025-06-04 11:20:23.110 WARNING: Scheduled retry in 5.0 seconds due to HTTPStatusError(\"Server error '500 Internal Server Error' for url 'http://127.0.0.1:35787/api/v1/array/block/f7763365-cc6e-4b5e-a43d-3cfe6843c596/primary/external/bl_det_image?block=17%2C0%2C0&expected_shape=1%2C300%2C400'\\nFor more information, server admin can search server logs for correlation ID ed306e780f5e06d0.\") (attempt 7)\n",
      "2025-06-04 11:20:23.214 INFO: HTTP Request: GET http://127.0.0.1:35787/api/v1/array/block/f7763365-cc6e-4b5e-a43d-3cfe6843c596/primary/external/bl_det_image?block=19%2C0%2C0&expected_shape=1%2C300%2C400 \"HTTP/1.1 500 Internal Server Error\"\n",
      "2025-06-04 11:20:23.217 WARNING: Scheduled retry in 5.0 seconds due to HTTPStatusError(\"Server error '500 Internal Server Error' for url 'http://127.0.0.1:35787/api/v1/array/block/f7763365-cc6e-4b5e-a43d-3cfe6843c596/primary/external/bl_det_image?block=19%2C0%2C0&expected_shape=1%2C300%2C400'\\nFor more information, server admin can search server logs for correlation ID a0505f37c4670237.\") (attempt 7)\n",
      "2025-06-04 11:20:23.394 INFO: HTTP Request: GET http://127.0.0.1:35787/api/v1/array/block/f7763365-cc6e-4b5e-a43d-3cfe6843c596/primary/external/bl_det_image?block=22%2C0%2C0&expected_shape=1%2C300%2C400 \"HTTP/1.1 500 Internal Server Error\"\n",
      "2025-06-04 11:20:23.396 WARNING: Scheduled retry in 5.0 seconds due to HTTPStatusError(\"Server error '500 Internal Server Error' for url 'http://127.0.0.1:35787/api/v1/array/block/f7763365-cc6e-4b5e-a43d-3cfe6843c596/primary/external/bl_det_image?block=22%2C0%2C0&expected_shape=1%2C300%2C400'\\nFor more information, server admin can search server logs for correlation ID ebf28a2e3bfb8617.\") (attempt 7)\n",
      "2025-06-04 11:20:23.568 INFO: HTTP Request: GET http://127.0.0.1:35787/api/v1/array/block/f7763365-cc6e-4b5e-a43d-3cfe6843c596/primary/external/bl_det_image?block=15%2C0%2C0&expected_shape=1%2C300%2C400 \"HTTP/1.1 500 Internal Server Error\"\n",
      "2025-06-04 11:20:23.570 WARNING: Scheduled retry in 5.0 seconds due to HTTPStatusError(\"Server error '500 Internal Server Error' for url 'http://127.0.0.1:35787/api/v1/array/block/f7763365-cc6e-4b5e-a43d-3cfe6843c596/primary/external/bl_det_image?block=15%2C0%2C0&expected_shape=1%2C300%2C400'\\nFor more information, server admin can search server logs for correlation ID 8e5cfbfd96ac1610.\") (attempt 7)\n",
      "2025-06-04 11:20:23.585 INFO: HTTP Request: GET http://127.0.0.1:35787/api/v1/array/block/f7763365-cc6e-4b5e-a43d-3cfe6843c596/primary/external/bl_det_image?block=28%2C0%2C0&expected_shape=1%2C300%2C400 \"HTTP/1.1 500 Internal Server Error\"\n",
      "2025-06-04 11:20:23.587 WARNING: Scheduled retry in 5.0 seconds due to HTTPStatusError(\"Server error '500 Internal Server Error' for url 'http://127.0.0.1:35787/api/v1/array/block/f7763365-cc6e-4b5e-a43d-3cfe6843c596/primary/external/bl_det_image?block=28%2C0%2C0&expected_shape=1%2C300%2C400'\\nFor more information, server admin can search server logs for correlation ID 66dda521a9e00952.\") (attempt 7)\n",
      "2025-06-04 11:20:23.698 INFO: HTTP Request: GET http://127.0.0.1:35787/api/v1/array/block/f7763365-cc6e-4b5e-a43d-3cfe6843c596/primary/external/bl_det_image?block=14%2C0%2C0&expected_shape=1%2C300%2C400 \"HTTP/1.1 500 Internal Server Error\"\n",
      "2025-06-04 11:20:23.700 WARNING: Scheduled retry in 5.0 seconds due to HTTPStatusError(\"Server error '500 Internal Server Error' for url 'http://127.0.0.1:35787/api/v1/array/block/f7763365-cc6e-4b5e-a43d-3cfe6843c596/primary/external/bl_det_image?block=14%2C0%2C0&expected_shape=1%2C300%2C400'\\nFor more information, server admin can search server logs for correlation ID d0b911eb727466fe.\") (attempt 7)\n",
      "2025-06-04 11:20:23.701 INFO: HTTP Request: GET http://127.0.0.1:35787/api/v1/array/block/f7763365-cc6e-4b5e-a43d-3cfe6843c596/primary/external/bl_det_image?block=11%2C0%2C0&expected_shape=1%2C300%2C400 \"HTTP/1.1 500 Internal Server Error\"\n",
      "2025-06-04 11:20:23.704 WARNING: Scheduled retry in 5.0 seconds due to HTTPStatusError(\"Server error '500 Internal Server Error' for url 'http://127.0.0.1:35787/api/v1/array/block/f7763365-cc6e-4b5e-a43d-3cfe6843c596/primary/external/bl_det_image?block=11%2C0%2C0&expected_shape=1%2C300%2C400'\\nFor more information, server admin can search server logs for correlation ID 618036aab98f092f.\") (attempt 7)\n",
      "2025-06-04 11:20:23.713 INFO: HTTP Request: GET http://127.0.0.1:35787/api/v1/array/block/f7763365-cc6e-4b5e-a43d-3cfe6843c596/primary/external/bl_det_image?block=12%2C0%2C0&expected_shape=1%2C300%2C400 \"HTTP/1.1 500 Internal Server Error\"\n",
      "2025-06-04 11:20:23.715 WARNING: Scheduled retry in 5.0 seconds due to HTTPStatusError(\"Server error '500 Internal Server Error' for url 'http://127.0.0.1:35787/api/v1/array/block/f7763365-cc6e-4b5e-a43d-3cfe6843c596/primary/external/bl_det_image?block=12%2C0%2C0&expected_shape=1%2C300%2C400'\\nFor more information, server admin can search server logs for correlation ID c2bd68b2ac8506f6.\") (attempt 7)\n",
      "2025-06-04 11:20:23.883 INFO: HTTP Request: GET http://127.0.0.1:35787/api/v1/array/block/f7763365-cc6e-4b5e-a43d-3cfe6843c596/primary/external/bl_det_image?block=3%2C0%2C0&expected_shape=1%2C300%2C400 \"HTTP/1.1 500 Internal Server Error\"\n",
      "2025-06-04 11:20:23.884 WARNING: Scheduled retry in 5.0 seconds due to HTTPStatusError(\"Server error '500 Internal Server Error' for url 'http://127.0.0.1:35787/api/v1/array/block/f7763365-cc6e-4b5e-a43d-3cfe6843c596/primary/external/bl_det_image?block=3%2C0%2C0&expected_shape=1%2C300%2C400'\\nFor more information, server admin can search server logs for correlation ID dad3308359ea5f41.\") (attempt 7)\n",
      "2025-06-04 11:20:24.020 INFO: HTTP Request: GET http://127.0.0.1:35787/api/v1/array/block/f7763365-cc6e-4b5e-a43d-3cfe6843c596/primary/external/bl_det_image?block=20%2C0%2C0&expected_shape=1%2C300%2C400 \"HTTP/1.1 500 Internal Server Error\"\n",
      "2025-06-04 11:20:24.022 WARNING: Scheduled retry in 5.0 seconds due to HTTPStatusError(\"Server error '500 Internal Server Error' for url 'http://127.0.0.1:35787/api/v1/array/block/f7763365-cc6e-4b5e-a43d-3cfe6843c596/primary/external/bl_det_image?block=20%2C0%2C0&expected_shape=1%2C300%2C400'\\nFor more information, server admin can search server logs for correlation ID add0f599fa2b7a74.\") (attempt 7)\n",
      "2025-06-04 11:20:26.612 INFO: HTTP Request: GET http://127.0.0.1:35787/api/v1/array/block/f7763365-cc6e-4b5e-a43d-3cfe6843c596/primary/external/bl_det_image?block=4%2C0%2C0&expected_shape=1%2C300%2C400 \"HTTP/1.1 500 Internal Server Error\"\n",
      "2025-06-04 11:20:26.615 WARNING: Scheduled retry in 5.0 seconds due to HTTPStatusError(\"Server error '500 Internal Server Error' for url 'http://127.0.0.1:35787/api/v1/array/block/f7763365-cc6e-4b5e-a43d-3cfe6843c596/primary/external/bl_det_image?block=4%2C0%2C0&expected_shape=1%2C300%2C400'\\nFor more information, server admin can search server logs for correlation ID 8c88159eb7442f42.\") (attempt 8)\n",
      "2025-06-04 11:20:26.636 INFO: HTTP Request: GET http://127.0.0.1:35787/api/v1/array/block/f7763365-cc6e-4b5e-a43d-3cfe6843c596/primary/external/bl_det_image?block=30%2C0%2C0&expected_shape=1%2C300%2C400 \"HTTP/1.1 500 Internal Server Error\"\n",
      "2025-06-04 11:20:26.637 WARNING: Scheduled retry in 5.0 seconds due to HTTPStatusError(\"Server error '500 Internal Server Error' for url 'http://127.0.0.1:35787/api/v1/array/block/f7763365-cc6e-4b5e-a43d-3cfe6843c596/primary/external/bl_det_image?block=30%2C0%2C0&expected_shape=1%2C300%2C400'\\nFor more information, server admin can search server logs for correlation ID fa6ab0cef807b6f9.\") (attempt 8)\n",
      "2025-06-04 11:20:27.058 INFO: HTTP Request: GET http://127.0.0.1:35787/api/v1/array/block/f7763365-cc6e-4b5e-a43d-3cfe6843c596/primary/external/bl_det_image?block=23%2C0%2C0&expected_shape=1%2C300%2C400 \"HTTP/1.1 500 Internal Server Error\"\n",
      "2025-06-04 11:20:27.059 WARNING: Scheduled retry in 5.0 seconds due to HTTPStatusError(\"Server error '500 Internal Server Error' for url 'http://127.0.0.1:35787/api/v1/array/block/f7763365-cc6e-4b5e-a43d-3cfe6843c596/primary/external/bl_det_image?block=23%2C0%2C0&expected_shape=1%2C300%2C400'\\nFor more information, server admin can search server logs for correlation ID 3a8f52a9d1ae3d53.\") (attempt 8)\n",
      "2025-06-04 11:20:27.149 INFO: HTTP Request: GET http://127.0.0.1:35787/api/v1/array/block/f7763365-cc6e-4b5e-a43d-3cfe6843c596/primary/external/bl_det_image?block=29%2C0%2C0&expected_shape=1%2C300%2C400 \"HTTP/1.1 500 Internal Server Error\"\n",
      "2025-06-04 11:20:27.151 WARNING: Scheduled retry in 5.0 seconds due to HTTPStatusError(\"Server error '500 Internal Server Error' for url 'http://127.0.0.1:35787/api/v1/array/block/f7763365-cc6e-4b5e-a43d-3cfe6843c596/primary/external/bl_det_image?block=29%2C0%2C0&expected_shape=1%2C300%2C400'\\nFor more information, server admin can search server logs for correlation ID db4e8607c9e0ab36.\") (attempt 8)\n",
      "2025-06-04 11:20:27.265 INFO: HTTP Request: GET http://127.0.0.1:35787/api/v1/array/block/f7763365-cc6e-4b5e-a43d-3cfe6843c596/primary/external/bl_det_image?block=8%2C0%2C0&expected_shape=1%2C300%2C400 \"HTTP/1.1 500 Internal Server Error\"\n",
      "2025-06-04 11:20:27.266 WARNING: Scheduled retry in 5.0 seconds due to HTTPStatusError(\"Server error '500 Internal Server Error' for url 'http://127.0.0.1:35787/api/v1/array/block/f7763365-cc6e-4b5e-a43d-3cfe6843c596/primary/external/bl_det_image?block=8%2C0%2C0&expected_shape=1%2C300%2C400'\\nFor more information, server admin can search server logs for correlation ID c949f167f4dcf460.\") (attempt 8)\n",
      "2025-06-04 11:20:27.350 INFO: HTTP Request: GET http://127.0.0.1:35787/api/v1/array/block/f7763365-cc6e-4b5e-a43d-3cfe6843c596/primary/external/bl_det_image?block=9%2C0%2C0&expected_shape=1%2C300%2C400 \"HTTP/1.1 500 Internal Server Error\"\n",
      "2025-06-04 11:20:27.352 WARNING: Scheduled retry in 5.0 seconds due to HTTPStatusError(\"Server error '500 Internal Server Error' for url 'http://127.0.0.1:35787/api/v1/array/block/f7763365-cc6e-4b5e-a43d-3cfe6843c596/primary/external/bl_det_image?block=9%2C0%2C0&expected_shape=1%2C300%2C400'\\nFor more information, server admin can search server logs for correlation ID fbbd110263606d42.\") (attempt 8)\n",
      "2025-06-04 11:20:27.429 INFO: HTTP Request: GET http://127.0.0.1:35787/api/v1/array/block/f7763365-cc6e-4b5e-a43d-3cfe6843c596/primary/external/bl_det_image?block=7%2C0%2C0&expected_shape=1%2C300%2C400 \"HTTP/1.1 500 Internal Server Error\"\n",
      "2025-06-04 11:20:27.431 WARNING: Scheduled retry in 5.0 seconds due to HTTPStatusError(\"Server error '500 Internal Server Error' for url 'http://127.0.0.1:35787/api/v1/array/block/f7763365-cc6e-4b5e-a43d-3cfe6843c596/primary/external/bl_det_image?block=7%2C0%2C0&expected_shape=1%2C300%2C400'\\nFor more information, server admin can search server logs for correlation ID a7f3c44e1590a56f.\") (attempt 8)\n",
      "2025-06-04 11:20:27.596 INFO: HTTP Request: GET http://127.0.0.1:35787/api/v1/array/block/f7763365-cc6e-4b5e-a43d-3cfe6843c596/primary/external/bl_det_image?block=24%2C0%2C0&expected_shape=1%2C300%2C400 \"HTTP/1.1 500 Internal Server Error\"\n",
      "2025-06-04 11:20:27.598 WARNING: Scheduled retry in 5.0 seconds due to HTTPStatusError(\"Server error '500 Internal Server Error' for url 'http://127.0.0.1:35787/api/v1/array/block/f7763365-cc6e-4b5e-a43d-3cfe6843c596/primary/external/bl_det_image?block=24%2C0%2C0&expected_shape=1%2C300%2C400'\\nFor more information, server admin can search server logs for correlation ID f3d80333f80323ef.\") (attempt 8)\n",
      "2025-06-04 11:20:27.602 INFO: HTTP Request: GET http://127.0.0.1:35787/api/v1/array/block/f7763365-cc6e-4b5e-a43d-3cfe6843c596/primary/external/bl_det_image?block=6%2C0%2C0&expected_shape=1%2C300%2C400 \"HTTP/1.1 500 Internal Server Error\"\n",
      "2025-06-04 11:20:27.604 WARNING: Scheduled retry in 5.0 seconds due to HTTPStatusError(\"Server error '500 Internal Server Error' for url 'http://127.0.0.1:35787/api/v1/array/block/f7763365-cc6e-4b5e-a43d-3cfe6843c596/primary/external/bl_det_image?block=6%2C0%2C0&expected_shape=1%2C300%2C400'\\nFor more information, server admin can search server logs for correlation ID b03d0b411feb9e98.\") (attempt 8)\n",
      "2025-06-04 11:20:27.606 INFO: HTTP Request: GET http://127.0.0.1:35787/api/v1/array/block/f7763365-cc6e-4b5e-a43d-3cfe6843c596/primary/external/bl_det_image?block=2%2C0%2C0&expected_shape=1%2C300%2C400 \"HTTP/1.1 500 Internal Server Error\"\n",
      "2025-06-04 11:20:27.607 WARNING: Scheduled retry in 5.0 seconds due to HTTPStatusError(\"Server error '500 Internal Server Error' for url 'http://127.0.0.1:35787/api/v1/array/block/f7763365-cc6e-4b5e-a43d-3cfe6843c596/primary/external/bl_det_image?block=2%2C0%2C0&expected_shape=1%2C300%2C400'\\nFor more information, server admin can search server logs for correlation ID 10469a7317a11ebd.\") (attempt 8)\n",
      "2025-06-04 11:20:27.610 INFO: HTTP Request: GET http://127.0.0.1:35787/api/v1/array/block/f7763365-cc6e-4b5e-a43d-3cfe6843c596/primary/external/bl_det_image?block=31%2C0%2C0&expected_shape=1%2C300%2C400 \"HTTP/1.1 500 Internal Server Error\"\n",
      "2025-06-04 11:20:27.610 WARNING: Scheduled retry in 5.0 seconds due to HTTPStatusError(\"Server error '500 Internal Server Error' for url 'http://127.0.0.1:35787/api/v1/array/block/f7763365-cc6e-4b5e-a43d-3cfe6843c596/primary/external/bl_det_image?block=31%2C0%2C0&expected_shape=1%2C300%2C400'\\nFor more information, server admin can search server logs for correlation ID d8cf6f895f53f9e6.\") (attempt 8)\n",
      "2025-06-04 11:20:27.687 INFO: HTTP Request: GET http://127.0.0.1:35787/api/v1/array/block/f7763365-cc6e-4b5e-a43d-3cfe6843c596/primary/external/bl_det_image?block=16%2C0%2C0&expected_shape=1%2C300%2C400 \"HTTP/1.1 500 Internal Server Error\"\n",
      "2025-06-04 11:20:27.689 WARNING: Scheduled retry in 5.0 seconds due to HTTPStatusError(\"Server error '500 Internal Server Error' for url 'http://127.0.0.1:35787/api/v1/array/block/f7763365-cc6e-4b5e-a43d-3cfe6843c596/primary/external/bl_det_image?block=16%2C0%2C0&expected_shape=1%2C300%2C400'\\nFor more information, server admin can search server logs for correlation ID 907e51fc2c17c817.\") (attempt 8)\n",
      "2025-06-04 11:20:27.801 INFO: HTTP Request: GET http://127.0.0.1:35787/api/v1/array/block/f7763365-cc6e-4b5e-a43d-3cfe6843c596/primary/external/bl_det_image?block=18%2C0%2C0&expected_shape=1%2C300%2C400 \"HTTP/1.1 500 Internal Server Error\"\n",
      "2025-06-04 11:20:27.802 WARNING: Scheduled retry in 5.0 seconds due to HTTPStatusError(\"Server error '500 Internal Server Error' for url 'http://127.0.0.1:35787/api/v1/array/block/f7763365-cc6e-4b5e-a43d-3cfe6843c596/primary/external/bl_det_image?block=18%2C0%2C0&expected_shape=1%2C300%2C400'\\nFor more information, server admin can search server logs for correlation ID 4dd6d933969e75e0.\") (attempt 8)\n",
      "2025-06-04 11:20:27.831 INFO: HTTP Request: GET http://127.0.0.1:35787/api/v1/array/block/f7763365-cc6e-4b5e-a43d-3cfe6843c596/primary/external/bl_det_image?block=0%2C0%2C0&expected_shape=1%2C300%2C400 \"HTTP/1.1 500 Internal Server Error\"\n",
      "2025-06-04 11:20:27.833 WARNING: Scheduled retry in 5.0 seconds due to HTTPStatusError(\"Server error '500 Internal Server Error' for url 'http://127.0.0.1:35787/api/v1/array/block/f7763365-cc6e-4b5e-a43d-3cfe6843c596/primary/external/bl_det_image?block=0%2C0%2C0&expected_shape=1%2C300%2C400'\\nFor more information, server admin can search server logs for correlation ID 30259ecf9c11694d.\") (attempt 8)\n",
      "2025-06-04 11:20:27.934 INFO: HTTP Request: GET http://127.0.0.1:35787/api/v1/array/block/f7763365-cc6e-4b5e-a43d-3cfe6843c596/primary/external/bl_det_image?block=26%2C0%2C0&expected_shape=1%2C300%2C400 \"HTTP/1.1 500 Internal Server Error\"\n",
      "2025-06-04 11:20:27.935 WARNING: Scheduled retry in 5.0 seconds due to HTTPStatusError(\"Server error '500 Internal Server Error' for url 'http://127.0.0.1:35787/api/v1/array/block/f7763365-cc6e-4b5e-a43d-3cfe6843c596/primary/external/bl_det_image?block=26%2C0%2C0&expected_shape=1%2C300%2C400'\\nFor more information, server admin can search server logs for correlation ID 198917a284e6842c.\") (attempt 8)\n",
      "2025-06-04 11:20:27.943 INFO: HTTP Request: GET http://127.0.0.1:35787/api/v1/array/block/f7763365-cc6e-4b5e-a43d-3cfe6843c596/primary/external/bl_det_image?block=1%2C0%2C0&expected_shape=1%2C300%2C400 \"HTTP/1.1 500 Internal Server Error\"\n",
      "2025-06-04 11:20:27.944 WARNING: Scheduled retry in 5.0 seconds due to HTTPStatusError(\"Server error '500 Internal Server Error' for url 'http://127.0.0.1:35787/api/v1/array/block/f7763365-cc6e-4b5e-a43d-3cfe6843c596/primary/external/bl_det_image?block=1%2C0%2C0&expected_shape=1%2C300%2C400'\\nFor more information, server admin can search server logs for correlation ID 145fa9ed5324d91b.\") (attempt 8)\n",
      "2025-06-04 11:20:28.037 INFO: HTTP Request: GET http://127.0.0.1:35787/api/v1/array/block/f7763365-cc6e-4b5e-a43d-3cfe6843c596/primary/external/bl_det_image?block=21%2C0%2C0&expected_shape=1%2C300%2C400 \"HTTP/1.1 500 Internal Server Error\"\n",
      "2025-06-04 11:20:28.038 WARNING: Scheduled retry in 5.0 seconds due to HTTPStatusError(\"Server error '500 Internal Server Error' for url 'http://127.0.0.1:35787/api/v1/array/block/f7763365-cc6e-4b5e-a43d-3cfe6843c596/primary/external/bl_det_image?block=21%2C0%2C0&expected_shape=1%2C300%2C400'\\nFor more information, server admin can search server logs for correlation ID 7ad4c4b2d147b55d.\") (attempt 8)\n",
      "2025-06-04 11:20:28.045 INFO: HTTP Request: GET http://127.0.0.1:35787/api/v1/array/block/f7763365-cc6e-4b5e-a43d-3cfe6843c596/primary/external/bl_det_image?block=5%2C0%2C0&expected_shape=1%2C300%2C400 \"HTTP/1.1 500 Internal Server Error\"\n",
      "2025-06-04 11:20:28.046 WARNING: Scheduled retry in 5.0 seconds due to HTTPStatusError(\"Server error '500 Internal Server Error' for url 'http://127.0.0.1:35787/api/v1/array/block/f7763365-cc6e-4b5e-a43d-3cfe6843c596/primary/external/bl_det_image?block=5%2C0%2C0&expected_shape=1%2C300%2C400'\\nFor more information, server admin can search server logs for correlation ID 2c9aacb7e372819d.\") (attempt 8)\n",
      "2025-06-04 11:20:28.048 INFO: HTTP Request: GET http://127.0.0.1:35787/api/v1/array/block/f7763365-cc6e-4b5e-a43d-3cfe6843c596/primary/external/bl_det_image?block=27%2C0%2C0&expected_shape=1%2C300%2C400 \"HTTP/1.1 500 Internal Server Error\"\n",
      "2025-06-04 11:20:28.050 WARNING: Scheduled retry in 5.0 seconds due to HTTPStatusError(\"Server error '500 Internal Server Error' for url 'http://127.0.0.1:35787/api/v1/array/block/f7763365-cc6e-4b5e-a43d-3cfe6843c596/primary/external/bl_det_image?block=27%2C0%2C0&expected_shape=1%2C300%2C400'\\nFor more information, server admin can search server logs for correlation ID e28c118bb88f5c06.\") (attempt 8)\n",
      "2025-06-04 11:20:28.072 INFO: HTTP Request: GET http://127.0.0.1:35787/api/v1/array/block/f7763365-cc6e-4b5e-a43d-3cfe6843c596/primary/external/bl_det_image?block=10%2C0%2C0&expected_shape=1%2C300%2C400 \"HTTP/1.1 500 Internal Server Error\"\n",
      "2025-06-04 11:20:28.072 WARNING: Scheduled retry in 5.0 seconds due to HTTPStatusError(\"Server error '500 Internal Server Error' for url 'http://127.0.0.1:35787/api/v1/array/block/f7763365-cc6e-4b5e-a43d-3cfe6843c596/primary/external/bl_det_image?block=10%2C0%2C0&expected_shape=1%2C300%2C400'\\nFor more information, server admin can search server logs for correlation ID fa7ba2d5afc7d442.\") (attempt 8)\n",
      "2025-06-04 11:20:28.077 INFO: HTTP Request: GET http://127.0.0.1:35787/api/v1/array/block/f7763365-cc6e-4b5e-a43d-3cfe6843c596/primary/external/bl_det_image?block=13%2C0%2C0&expected_shape=1%2C300%2C400 \"HTTP/1.1 500 Internal Server Error\"\n",
      "2025-06-04 11:20:28.079 WARNING: Scheduled retry in 5.0 seconds due to HTTPStatusError(\"Server error '500 Internal Server Error' for url 'http://127.0.0.1:35787/api/v1/array/block/f7763365-cc6e-4b5e-a43d-3cfe6843c596/primary/external/bl_det_image?block=13%2C0%2C0&expected_shape=1%2C300%2C400'\\nFor more information, server admin can search server logs for correlation ID efdd0adcbae9ab66.\") (attempt 8)\n",
      "2025-06-04 11:20:28.127 INFO: HTTP Request: GET http://127.0.0.1:35787/api/v1/array/block/f7763365-cc6e-4b5e-a43d-3cfe6843c596/primary/external/bl_det_image?block=25%2C0%2C0&expected_shape=1%2C300%2C400 \"HTTP/1.1 500 Internal Server Error\"\n",
      "2025-06-04 11:20:28.128 WARNING: Scheduled retry in 5.0 seconds due to HTTPStatusError(\"Server error '500 Internal Server Error' for url 'http://127.0.0.1:35787/api/v1/array/block/f7763365-cc6e-4b5e-a43d-3cfe6843c596/primary/external/bl_det_image?block=25%2C0%2C0&expected_shape=1%2C300%2C400'\\nFor more information, server admin can search server logs for correlation ID ba45c88e3e2cd0b2.\") (attempt 8)\n",
      "2025-06-04 11:20:28.131 INFO: HTTP Request: GET http://127.0.0.1:35787/api/v1/array/block/f7763365-cc6e-4b5e-a43d-3cfe6843c596/primary/external/bl_det_image?block=17%2C0%2C0&expected_shape=1%2C300%2C400 \"HTTP/1.1 500 Internal Server Error\"\n",
      "2025-06-04 11:20:28.132 WARNING: Scheduled retry in 5.0 seconds due to HTTPStatusError(\"Server error '500 Internal Server Error' for url 'http://127.0.0.1:35787/api/v1/array/block/f7763365-cc6e-4b5e-a43d-3cfe6843c596/primary/external/bl_det_image?block=17%2C0%2C0&expected_shape=1%2C300%2C400'\\nFor more information, server admin can search server logs for correlation ID dc8a2765521ba811.\") (attempt 8)\n",
      "2025-06-04 11:20:28.231 INFO: HTTP Request: GET http://127.0.0.1:35787/api/v1/array/block/f7763365-cc6e-4b5e-a43d-3cfe6843c596/primary/external/bl_det_image?block=19%2C0%2C0&expected_shape=1%2C300%2C400 \"HTTP/1.1 500 Internal Server Error\"\n",
      "2025-06-04 11:20:28.233 WARNING: Scheduled retry in 5.0 seconds due to HTTPStatusError(\"Server error '500 Internal Server Error' for url 'http://127.0.0.1:35787/api/v1/array/block/f7763365-cc6e-4b5e-a43d-3cfe6843c596/primary/external/bl_det_image?block=19%2C0%2C0&expected_shape=1%2C300%2C400'\\nFor more information, server admin can search server logs for correlation ID 4c10192ad74ef17b.\") (attempt 8)\n",
      "2025-06-04 11:20:28.408 INFO: HTTP Request: GET http://127.0.0.1:35787/api/v1/array/block/f7763365-cc6e-4b5e-a43d-3cfe6843c596/primary/external/bl_det_image?block=22%2C0%2C0&expected_shape=1%2C300%2C400 \"HTTP/1.1 500 Internal Server Error\"\n",
      "2025-06-04 11:20:28.411 WARNING: Scheduled retry in 5.0 seconds due to HTTPStatusError(\"Server error '500 Internal Server Error' for url 'http://127.0.0.1:35787/api/v1/array/block/f7763365-cc6e-4b5e-a43d-3cfe6843c596/primary/external/bl_det_image?block=22%2C0%2C0&expected_shape=1%2C300%2C400'\\nFor more information, server admin can search server logs for correlation ID 8ccc6a6d0300abec.\") (attempt 8)\n",
      "2025-06-04 11:20:28.582 INFO: HTTP Request: GET http://127.0.0.1:35787/api/v1/array/block/f7763365-cc6e-4b5e-a43d-3cfe6843c596/primary/external/bl_det_image?block=15%2C0%2C0&expected_shape=1%2C300%2C400 \"HTTP/1.1 500 Internal Server Error\"\n",
      "2025-06-04 11:20:28.584 WARNING: Scheduled retry in 5.0 seconds due to HTTPStatusError(\"Server error '500 Internal Server Error' for url 'http://127.0.0.1:35787/api/v1/array/block/f7763365-cc6e-4b5e-a43d-3cfe6843c596/primary/external/bl_det_image?block=15%2C0%2C0&expected_shape=1%2C300%2C400'\\nFor more information, server admin can search server logs for correlation ID b07bba96d3c54282.\") (attempt 8)\n",
      "2025-06-04 11:20:28.597 INFO: HTTP Request: GET http://127.0.0.1:35787/api/v1/array/block/f7763365-cc6e-4b5e-a43d-3cfe6843c596/primary/external/bl_det_image?block=28%2C0%2C0&expected_shape=1%2C300%2C400 \"HTTP/1.1 500 Internal Server Error\"\n",
      "2025-06-04 11:20:28.598 WARNING: Scheduled retry in 5.0 seconds due to HTTPStatusError(\"Server error '500 Internal Server Error' for url 'http://127.0.0.1:35787/api/v1/array/block/f7763365-cc6e-4b5e-a43d-3cfe6843c596/primary/external/bl_det_image?block=28%2C0%2C0&expected_shape=1%2C300%2C400'\\nFor more information, server admin can search server logs for correlation ID 25d71d4ff2a50be1.\") (attempt 8)\n",
      "2025-06-04 11:20:28.728 INFO: HTTP Request: GET http://127.0.0.1:35787/api/v1/array/block/f7763365-cc6e-4b5e-a43d-3cfe6843c596/primary/external/bl_det_image?block=11%2C0%2C0&expected_shape=1%2C300%2C400 \"HTTP/1.1 500 Internal Server Error\"\n",
      "2025-06-04 11:20:28.729 WARNING: Scheduled retry in 5.0 seconds due to HTTPStatusError(\"Server error '500 Internal Server Error' for url 'http://127.0.0.1:35787/api/v1/array/block/f7763365-cc6e-4b5e-a43d-3cfe6843c596/primary/external/bl_det_image?block=11%2C0%2C0&expected_shape=1%2C300%2C400'\\nFor more information, server admin can search server logs for correlation ID 555db9e54766c5b8.\") (attempt 8)\n",
      "2025-06-04 11:20:28.731 INFO: HTTP Request: GET http://127.0.0.1:35787/api/v1/array/block/f7763365-cc6e-4b5e-a43d-3cfe6843c596/primary/external/bl_det_image?block=14%2C0%2C0&expected_shape=1%2C300%2C400 \"HTTP/1.1 500 Internal Server Error\"\n",
      "2025-06-04 11:20:28.734 WARNING: Scheduled retry in 5.0 seconds due to HTTPStatusError(\"Server error '500 Internal Server Error' for url 'http://127.0.0.1:35787/api/v1/array/block/f7763365-cc6e-4b5e-a43d-3cfe6843c596/primary/external/bl_det_image?block=14%2C0%2C0&expected_shape=1%2C300%2C400'\\nFor more information, server admin can search server logs for correlation ID b121ab4760fcc1b7.\") (attempt 8)\n",
      "2025-06-04 11:20:28.737 INFO: HTTP Request: GET http://127.0.0.1:35787/api/v1/array/block/f7763365-cc6e-4b5e-a43d-3cfe6843c596/primary/external/bl_det_image?block=12%2C0%2C0&expected_shape=1%2C300%2C400 \"HTTP/1.1 500 Internal Server Error\"\n",
      "2025-06-04 11:20:28.738 WARNING: Scheduled retry in 5.0 seconds due to HTTPStatusError(\"Server error '500 Internal Server Error' for url 'http://127.0.0.1:35787/api/v1/array/block/f7763365-cc6e-4b5e-a43d-3cfe6843c596/primary/external/bl_det_image?block=12%2C0%2C0&expected_shape=1%2C300%2C400'\\nFor more information, server admin can search server logs for correlation ID 4e193d2be2272854.\") (attempt 8)\n",
      "2025-06-04 11:20:28.896 INFO: HTTP Request: GET http://127.0.0.1:35787/api/v1/array/block/f7763365-cc6e-4b5e-a43d-3cfe6843c596/primary/external/bl_det_image?block=3%2C0%2C0&expected_shape=1%2C300%2C400 \"HTTP/1.1 500 Internal Server Error\"\n",
      "2025-06-04 11:20:28.897 WARNING: Scheduled retry in 5.0 seconds due to HTTPStatusError(\"Server error '500 Internal Server Error' for url 'http://127.0.0.1:35787/api/v1/array/block/f7763365-cc6e-4b5e-a43d-3cfe6843c596/primary/external/bl_det_image?block=3%2C0%2C0&expected_shape=1%2C300%2C400'\\nFor more information, server admin can search server logs for correlation ID 46843cb79dcad12e.\") (attempt 8)\n",
      "2025-06-04 11:20:29.034 INFO: HTTP Request: GET http://127.0.0.1:35787/api/v1/array/block/f7763365-cc6e-4b5e-a43d-3cfe6843c596/primary/external/bl_det_image?block=20%2C0%2C0&expected_shape=1%2C300%2C400 \"HTTP/1.1 500 Internal Server Error\"\n",
      "2025-06-04 11:20:29.035 WARNING: Scheduled retry in 5.0 seconds due to HTTPStatusError(\"Server error '500 Internal Server Error' for url 'http://127.0.0.1:35787/api/v1/array/block/f7763365-cc6e-4b5e-a43d-3cfe6843c596/primary/external/bl_det_image?block=20%2C0%2C0&expected_shape=1%2C300%2C400'\\nFor more information, server admin can search server logs for correlation ID 28e5679c0439f319.\") (attempt 8)\n",
      "2025-06-04 11:20:31.630 INFO: HTTP Request: GET http://127.0.0.1:35787/api/v1/array/block/f7763365-cc6e-4b5e-a43d-3cfe6843c596/primary/external/bl_det_image?block=4%2C0%2C0&expected_shape=1%2C300%2C400 \"HTTP/1.1 500 Internal Server Error\"\n",
      "2025-06-04 11:20:31.631 WARNING: Scheduled retry in 5.0 seconds due to HTTPStatusError(\"Server error '500 Internal Server Error' for url 'http://127.0.0.1:35787/api/v1/array/block/f7763365-cc6e-4b5e-a43d-3cfe6843c596/primary/external/bl_det_image?block=4%2C0%2C0&expected_shape=1%2C300%2C400'\\nFor more information, server admin can search server logs for correlation ID 82aab16dad4f14b3.\") (attempt 9)\n",
      "2025-06-04 11:20:31.878 INFO: HTTP Request: GET http://127.0.0.1:35787/api/v1/array/block/f7763365-cc6e-4b5e-a43d-3cfe6843c596/primary/external/bl_det_image?block=30%2C0%2C0&expected_shape=1%2C300%2C400 \"HTTP/1.1 500 Internal Server Error\"\n",
      "2025-06-04 11:20:31.879 WARNING: Scheduled retry in 5.0 seconds due to HTTPStatusError(\"Server error '500 Internal Server Error' for url 'http://127.0.0.1:35787/api/v1/array/block/f7763365-cc6e-4b5e-a43d-3cfe6843c596/primary/external/bl_det_image?block=30%2C0%2C0&expected_shape=1%2C300%2C400'\\nFor more information, server admin can search server logs for correlation ID 45e7a88251d64401.\") (attempt 9)\n",
      "2025-06-04 11:20:32.074 INFO: HTTP Request: GET http://127.0.0.1:35787/api/v1/array/block/f7763365-cc6e-4b5e-a43d-3cfe6843c596/primary/external/bl_det_image?block=23%2C0%2C0&expected_shape=1%2C300%2C400 \"HTTP/1.1 500 Internal Server Error\"\n",
      "2025-06-04 11:20:32.075 WARNING: Scheduled retry in 5.0 seconds due to HTTPStatusError(\"Server error '500 Internal Server Error' for url 'http://127.0.0.1:35787/api/v1/array/block/f7763365-cc6e-4b5e-a43d-3cfe6843c596/primary/external/bl_det_image?block=23%2C0%2C0&expected_shape=1%2C300%2C400'\\nFor more information, server admin can search server logs for correlation ID b2219ed1d56b5286.\") (attempt 9)\n",
      "2025-06-04 11:20:32.165 INFO: HTTP Request: GET http://127.0.0.1:35787/api/v1/array/block/f7763365-cc6e-4b5e-a43d-3cfe6843c596/primary/external/bl_det_image?block=29%2C0%2C0&expected_shape=1%2C300%2C400 \"HTTP/1.1 500 Internal Server Error\"\n",
      "2025-06-04 11:20:32.168 WARNING: Scheduled retry in 5.0 seconds due to HTTPStatusError(\"Server error '500 Internal Server Error' for url 'http://127.0.0.1:35787/api/v1/array/block/f7763365-cc6e-4b5e-a43d-3cfe6843c596/primary/external/bl_det_image?block=29%2C0%2C0&expected_shape=1%2C300%2C400'\\nFor more information, server admin can search server logs for correlation ID a43953d1819de5d6.\") (attempt 9)\n",
      "2025-06-04 11:20:32.281 INFO: HTTP Request: GET http://127.0.0.1:35787/api/v1/array/block/f7763365-cc6e-4b5e-a43d-3cfe6843c596/primary/external/bl_det_image?block=8%2C0%2C0&expected_shape=1%2C300%2C400 \"HTTP/1.1 500 Internal Server Error\"\n",
      "2025-06-04 11:20:32.283 WARNING: Scheduled retry in 5.0 seconds due to HTTPStatusError(\"Server error '500 Internal Server Error' for url 'http://127.0.0.1:35787/api/v1/array/block/f7763365-cc6e-4b5e-a43d-3cfe6843c596/primary/external/bl_det_image?block=8%2C0%2C0&expected_shape=1%2C300%2C400'\\nFor more information, server admin can search server logs for correlation ID 7685f159606174c9.\") (attempt 9)\n",
      "2025-06-04 11:20:32.366 INFO: HTTP Request: GET http://127.0.0.1:35787/api/v1/array/block/f7763365-cc6e-4b5e-a43d-3cfe6843c596/primary/external/bl_det_image?block=9%2C0%2C0&expected_shape=1%2C300%2C400 \"HTTP/1.1 500 Internal Server Error\"\n",
      "2025-06-04 11:20:32.369 WARNING: Scheduled retry in 5.0 seconds due to HTTPStatusError(\"Server error '500 Internal Server Error' for url 'http://127.0.0.1:35787/api/v1/array/block/f7763365-cc6e-4b5e-a43d-3cfe6843c596/primary/external/bl_det_image?block=9%2C0%2C0&expected_shape=1%2C300%2C400'\\nFor more information, server admin can search server logs for correlation ID 82851ebd9644236d.\") (attempt 9)\n",
      "2025-06-04 11:20:32.444 INFO: HTTP Request: GET http://127.0.0.1:35787/api/v1/array/block/f7763365-cc6e-4b5e-a43d-3cfe6843c596/primary/external/bl_det_image?block=7%2C0%2C0&expected_shape=1%2C300%2C400 \"HTTP/1.1 500 Internal Server Error\"\n",
      "2025-06-04 11:20:32.445 WARNING: Scheduled retry in 5.0 seconds due to HTTPStatusError(\"Server error '500 Internal Server Error' for url 'http://127.0.0.1:35787/api/v1/array/block/f7763365-cc6e-4b5e-a43d-3cfe6843c596/primary/external/bl_det_image?block=7%2C0%2C0&expected_shape=1%2C300%2C400'\\nFor more information, server admin can search server logs for correlation ID 5dbb7be170dafe5d.\") (attempt 9)\n",
      "2025-06-04 11:20:32.632 INFO: HTTP Request: GET http://127.0.0.1:35787/api/v1/array/block/f7763365-cc6e-4b5e-a43d-3cfe6843c596/primary/external/bl_det_image?block=24%2C0%2C0&expected_shape=1%2C300%2C400 \"HTTP/1.1 500 Internal Server Error\"\n",
      "2025-06-04 11:20:32.634 WARNING: Scheduled retry in 5.0 seconds due to HTTPStatusError(\"Server error '500 Internal Server Error' for url 'http://127.0.0.1:35787/api/v1/array/block/f7763365-cc6e-4b5e-a43d-3cfe6843c596/primary/external/bl_det_image?block=24%2C0%2C0&expected_shape=1%2C300%2C400'\\nFor more information, server admin can search server logs for correlation ID e08ed7005d9f6490.\") (attempt 9)\n",
      "2025-06-04 11:20:32.639 INFO: HTTP Request: GET http://127.0.0.1:35787/api/v1/array/block/f7763365-cc6e-4b5e-a43d-3cfe6843c596/primary/external/bl_det_image?block=31%2C0%2C0&expected_shape=1%2C300%2C400 \"HTTP/1.1 500 Internal Server Error\"\n",
      "2025-06-04 11:20:32.639 WARNING: Scheduled retry in 5.0 seconds due to HTTPStatusError(\"Server error '500 Internal Server Error' for url 'http://127.0.0.1:35787/api/v1/array/block/f7763365-cc6e-4b5e-a43d-3cfe6843c596/primary/external/bl_det_image?block=31%2C0%2C0&expected_shape=1%2C300%2C400'\\nFor more information, server admin can search server logs for correlation ID 9375d04a0d4b876f.\") (attempt 9)\n",
      "2025-06-04 11:20:32.642 INFO: HTTP Request: GET http://127.0.0.1:35787/api/v1/array/block/f7763365-cc6e-4b5e-a43d-3cfe6843c596/primary/external/bl_det_image?block=6%2C0%2C0&expected_shape=1%2C300%2C400 \"HTTP/1.1 500 Internal Server Error\"\n",
      "2025-06-04 11:20:32.644 WARNING: Scheduled retry in 5.0 seconds due to HTTPStatusError(\"Server error '500 Internal Server Error' for url 'http://127.0.0.1:35787/api/v1/array/block/f7763365-cc6e-4b5e-a43d-3cfe6843c596/primary/external/bl_det_image?block=6%2C0%2C0&expected_shape=1%2C300%2C400'\\nFor more information, server admin can search server logs for correlation ID 25e33625b98ea2ca.\") (attempt 9)\n",
      "2025-06-04 11:20:32.645 INFO: HTTP Request: GET http://127.0.0.1:35787/api/v1/array/block/f7763365-cc6e-4b5e-a43d-3cfe6843c596/primary/external/bl_det_image?block=2%2C0%2C0&expected_shape=1%2C300%2C400 \"HTTP/1.1 500 Internal Server Error\"\n",
      "2025-06-04 11:20:32.647 WARNING: Scheduled retry in 5.0 seconds due to HTTPStatusError(\"Server error '500 Internal Server Error' for url 'http://127.0.0.1:35787/api/v1/array/block/f7763365-cc6e-4b5e-a43d-3cfe6843c596/primary/external/bl_det_image?block=2%2C0%2C0&expected_shape=1%2C300%2C400'\\nFor more information, server admin can search server logs for correlation ID 9bd2e8ac20697be3.\") (attempt 9)\n",
      "2025-06-04 11:20:32.703 INFO: HTTP Request: GET http://127.0.0.1:35787/api/v1/array/block/f7763365-cc6e-4b5e-a43d-3cfe6843c596/primary/external/bl_det_image?block=16%2C0%2C0&expected_shape=1%2C300%2C400 \"HTTP/1.1 500 Internal Server Error\"\n",
      "2025-06-04 11:20:32.705 WARNING: Scheduled retry in 5.0 seconds due to HTTPStatusError(\"Server error '500 Internal Server Error' for url 'http://127.0.0.1:35787/api/v1/array/block/f7763365-cc6e-4b5e-a43d-3cfe6843c596/primary/external/bl_det_image?block=16%2C0%2C0&expected_shape=1%2C300%2C400'\\nFor more information, server admin can search server logs for correlation ID 6e6a883bef00f7fb.\") (attempt 9)\n",
      "2025-06-04 11:20:32.814 INFO: HTTP Request: GET http://127.0.0.1:35787/api/v1/array/block/f7763365-cc6e-4b5e-a43d-3cfe6843c596/primary/external/bl_det_image?block=18%2C0%2C0&expected_shape=1%2C300%2C400 \"HTTP/1.1 500 Internal Server Error\"\n",
      "2025-06-04 11:20:32.815 WARNING: Scheduled retry in 5.0 seconds due to HTTPStatusError(\"Server error '500 Internal Server Error' for url 'http://127.0.0.1:35787/api/v1/array/block/f7763365-cc6e-4b5e-a43d-3cfe6843c596/primary/external/bl_det_image?block=18%2C0%2C0&expected_shape=1%2C300%2C400'\\nFor more information, server admin can search server logs for correlation ID f8c30cdfae690ecf.\") (attempt 9)\n",
      "2025-06-04 11:20:32.845 INFO: HTTP Request: GET http://127.0.0.1:35787/api/v1/array/block/f7763365-cc6e-4b5e-a43d-3cfe6843c596/primary/external/bl_det_image?block=0%2C0%2C0&expected_shape=1%2C300%2C400 \"HTTP/1.1 500 Internal Server Error\"\n",
      "2025-06-04 11:20:32.846 WARNING: Scheduled retry in 5.0 seconds due to HTTPStatusError(\"Server error '500 Internal Server Error' for url 'http://127.0.0.1:35787/api/v1/array/block/f7763365-cc6e-4b5e-a43d-3cfe6843c596/primary/external/bl_det_image?block=0%2C0%2C0&expected_shape=1%2C300%2C400'\\nFor more information, server admin can search server logs for correlation ID a6039ae983f36f10.\") (attempt 9)\n",
      "2025-06-04 11:20:32.949 INFO: HTTP Request: GET http://127.0.0.1:35787/api/v1/array/block/f7763365-cc6e-4b5e-a43d-3cfe6843c596/primary/external/bl_det_image?block=26%2C0%2C0&expected_shape=1%2C300%2C400 \"HTTP/1.1 500 Internal Server Error\"\n",
      "2025-06-04 11:20:32.951 WARNING: Scheduled retry in 5.0 seconds due to HTTPStatusError(\"Server error '500 Internal Server Error' for url 'http://127.0.0.1:35787/api/v1/array/block/f7763365-cc6e-4b5e-a43d-3cfe6843c596/primary/external/bl_det_image?block=26%2C0%2C0&expected_shape=1%2C300%2C400'\\nFor more information, server admin can search server logs for correlation ID 86e5ea2a9155a91d.\") (attempt 9)\n",
      "2025-06-04 11:20:32.959 INFO: HTTP Request: GET http://127.0.0.1:35787/api/v1/array/block/f7763365-cc6e-4b5e-a43d-3cfe6843c596/primary/external/bl_det_image?block=1%2C0%2C0&expected_shape=1%2C300%2C400 \"HTTP/1.1 500 Internal Server Error\"\n",
      "2025-06-04 11:20:32.961 WARNING: Scheduled retry in 5.0 seconds due to HTTPStatusError(\"Server error '500 Internal Server Error' for url 'http://127.0.0.1:35787/api/v1/array/block/f7763365-cc6e-4b5e-a43d-3cfe6843c596/primary/external/bl_det_image?block=1%2C0%2C0&expected_shape=1%2C300%2C400'\\nFor more information, server admin can search server logs for correlation ID d6a6fd5ae6c27b59.\") (attempt 9)\n",
      "2025-06-04 11:20:33.061 INFO: HTTP Request: GET http://127.0.0.1:35787/api/v1/array/block/f7763365-cc6e-4b5e-a43d-3cfe6843c596/primary/external/bl_det_image?block=21%2C0%2C0&expected_shape=1%2C300%2C400 \"HTTP/1.1 500 Internal Server Error\"\n",
      "2025-06-04 11:20:33.062 WARNING: Scheduled retry in 5.0 seconds due to HTTPStatusError(\"Server error '500 Internal Server Error' for url 'http://127.0.0.1:35787/api/v1/array/block/f7763365-cc6e-4b5e-a43d-3cfe6843c596/primary/external/bl_det_image?block=21%2C0%2C0&expected_shape=1%2C300%2C400'\\nFor more information, server admin can search server logs for correlation ID 4ff03ecdea17665b.\") (attempt 9)\n",
      "2025-06-04 11:20:33.072 INFO: HTTP Request: GET http://127.0.0.1:35787/api/v1/array/block/f7763365-cc6e-4b5e-a43d-3cfe6843c596/primary/external/bl_det_image?block=5%2C0%2C0&expected_shape=1%2C300%2C400 \"HTTP/1.1 500 Internal Server Error\"\n",
      "2025-06-04 11:20:33.075 WARNING: Scheduled retry in 5.0 seconds due to HTTPStatusError(\"Server error '500 Internal Server Error' for url 'http://127.0.0.1:35787/api/v1/array/block/f7763365-cc6e-4b5e-a43d-3cfe6843c596/primary/external/bl_det_image?block=5%2C0%2C0&expected_shape=1%2C300%2C400'\\nFor more information, server admin can search server logs for correlation ID c71e7790f627b564.\") (attempt 9)\n",
      "2025-06-04 11:20:33.075 WARNING: Scheduled retry in 5.0 seconds due to ReadError('[Errno 104] Connection reset by peer') (attempt 9)\n",
      "2025-06-04 11:20:33.077 INFO: HTTP Request: GET http://127.0.0.1:35787/api/v1/array/block/f7763365-cc6e-4b5e-a43d-3cfe6843c596/primary/external/bl_det_image?block=27%2C0%2C0&expected_shape=1%2C300%2C400 \"HTTP/1.1 500 Internal Server Error\"\n",
      "2025-06-04 11:20:33.079 WARNING: Scheduled retry in 5.0 seconds due to HTTPStatusError(\"Server error '500 Internal Server Error' for url 'http://127.0.0.1:35787/api/v1/array/block/f7763365-cc6e-4b5e-a43d-3cfe6843c596/primary/external/bl_det_image?block=27%2C0%2C0&expected_shape=1%2C300%2C400'\\nFor more information, server admin can search server logs for correlation ID 0f3881ad772653c0.\") (attempt 9)\n",
      "2025-06-04 11:20:33.091 INFO: HTTP Request: GET http://127.0.0.1:35787/api/v1/array/block/f7763365-cc6e-4b5e-a43d-3cfe6843c596/primary/external/bl_det_image?block=13%2C0%2C0&expected_shape=1%2C300%2C400 \"HTTP/1.1 500 Internal Server Error\"\n",
      "2025-06-04 11:20:33.092 WARNING: Scheduled retry in 5.0 seconds due to HTTPStatusError(\"Server error '500 Internal Server Error' for url 'http://127.0.0.1:35787/api/v1/array/block/f7763365-cc6e-4b5e-a43d-3cfe6843c596/primary/external/bl_det_image?block=13%2C0%2C0&expected_shape=1%2C300%2C400'\\nFor more information, server admin can search server logs for correlation ID 23b17135dfb61d51.\") (attempt 9)\n",
      "2025-06-04 11:20:33.148 INFO: HTTP Request: GET http://127.0.0.1:35787/api/v1/array/block/f7763365-cc6e-4b5e-a43d-3cfe6843c596/primary/external/bl_det_image?block=17%2C0%2C0&expected_shape=1%2C300%2C400 \"HTTP/1.1 500 Internal Server Error\"\n",
      "2025-06-04 11:20:33.149 WARNING: Scheduled retry in 5.0 seconds due to HTTPStatusError(\"Server error '500 Internal Server Error' for url 'http://127.0.0.1:35787/api/v1/array/block/f7763365-cc6e-4b5e-a43d-3cfe6843c596/primary/external/bl_det_image?block=17%2C0%2C0&expected_shape=1%2C300%2C400'\\nFor more information, server admin can search server logs for correlation ID fc1be632b325eca7.\") (attempt 9)\n",
      "2025-06-04 11:20:33.152 INFO: HTTP Request: GET http://127.0.0.1:35787/api/v1/array/block/f7763365-cc6e-4b5e-a43d-3cfe6843c596/primary/external/bl_det_image?block=25%2C0%2C0&expected_shape=1%2C300%2C400 \"HTTP/1.1 500 Internal Server Error\"\n",
      "2025-06-04 11:20:33.153 WARNING: Scheduled retry in 5.0 seconds due to HTTPStatusError(\"Server error '500 Internal Server Error' for url 'http://127.0.0.1:35787/api/v1/array/block/f7763365-cc6e-4b5e-a43d-3cfe6843c596/primary/external/bl_det_image?block=25%2C0%2C0&expected_shape=1%2C300%2C400'\\nFor more information, server admin can search server logs for correlation ID 81885f01a25a07e4.\") (attempt 9)\n",
      "2025-06-04 11:20:33.246 INFO: HTTP Request: GET http://127.0.0.1:35787/api/v1/array/block/f7763365-cc6e-4b5e-a43d-3cfe6843c596/primary/external/bl_det_image?block=19%2C0%2C0&expected_shape=1%2C300%2C400 \"HTTP/1.1 500 Internal Server Error\"\n",
      "2025-06-04 11:20:33.247 WARNING: Scheduled retry in 5.0 seconds due to HTTPStatusError(\"Server error '500 Internal Server Error' for url 'http://127.0.0.1:35787/api/v1/array/block/f7763365-cc6e-4b5e-a43d-3cfe6843c596/primary/external/bl_det_image?block=19%2C0%2C0&expected_shape=1%2C300%2C400'\\nFor more information, server admin can search server logs for correlation ID 08e38b7e9aa0cd94.\") (attempt 9)\n",
      "2025-06-04 11:20:33.422 INFO: HTTP Request: GET http://127.0.0.1:35787/api/v1/array/block/f7763365-cc6e-4b5e-a43d-3cfe6843c596/primary/external/bl_det_image?block=22%2C0%2C0&expected_shape=1%2C300%2C400 \"HTTP/1.1 500 Internal Server Error\"\n",
      "2025-06-04 11:20:33.423 WARNING: Scheduled retry in 5.0 seconds due to HTTPStatusError(\"Server error '500 Internal Server Error' for url 'http://127.0.0.1:35787/api/v1/array/block/f7763365-cc6e-4b5e-a43d-3cfe6843c596/primary/external/bl_det_image?block=22%2C0%2C0&expected_shape=1%2C300%2C400'\\nFor more information, server admin can search server logs for correlation ID b60309221935dd47.\") (attempt 9)\n",
      "2025-06-04 11:20:33.596 INFO: HTTP Request: GET http://127.0.0.1:35787/api/v1/array/block/f7763365-cc6e-4b5e-a43d-3cfe6843c596/primary/external/bl_det_image?block=15%2C0%2C0&expected_shape=1%2C300%2C400 \"HTTP/1.1 500 Internal Server Error\"\n",
      "2025-06-04 11:20:33.598 WARNING: Scheduled retry in 5.0 seconds due to HTTPStatusError(\"Server error '500 Internal Server Error' for url 'http://127.0.0.1:35787/api/v1/array/block/f7763365-cc6e-4b5e-a43d-3cfe6843c596/primary/external/bl_det_image?block=15%2C0%2C0&expected_shape=1%2C300%2C400'\\nFor more information, server admin can search server logs for correlation ID 9d8e50ba5efac77b.\") (attempt 9)\n",
      "2025-06-04 11:20:33.600 WARNING: Scheduled retry in 5.0 seconds due to ReadError('[Errno 104] Connection reset by peer') (attempt 9)\n",
      "2025-06-04 11:20:33.755 INFO: HTTP Request: GET http://127.0.0.1:35787/api/v1/array/block/f7763365-cc6e-4b5e-a43d-3cfe6843c596/primary/external/bl_det_image?block=14%2C0%2C0&expected_shape=1%2C300%2C400 \"HTTP/1.1 500 Internal Server Error\"\n",
      "2025-06-04 11:20:33.757 WARNING: Scheduled retry in 5.0 seconds due to HTTPStatusError(\"Server error '500 Internal Server Error' for url 'http://127.0.0.1:35787/api/v1/array/block/f7763365-cc6e-4b5e-a43d-3cfe6843c596/primary/external/bl_det_image?block=14%2C0%2C0&expected_shape=1%2C300%2C400'\\nFor more information, server admin can search server logs for correlation ID a754039f55a5fa88.\") (attempt 9)\n",
      "2025-06-04 11:20:33.759 INFO: HTTP Request: GET http://127.0.0.1:35787/api/v1/array/block/f7763365-cc6e-4b5e-a43d-3cfe6843c596/primary/external/bl_det_image?block=11%2C0%2C0&expected_shape=1%2C300%2C400 \"HTTP/1.1 500 Internal Server Error\"\n",
      "2025-06-04 11:20:33.761 WARNING: Scheduled retry in 5.0 seconds due to HTTPStatusError(\"Server error '500 Internal Server Error' for url 'http://127.0.0.1:35787/api/v1/array/block/f7763365-cc6e-4b5e-a43d-3cfe6843c596/primary/external/bl_det_image?block=11%2C0%2C0&expected_shape=1%2C300%2C400'\\nFor more information, server admin can search server logs for correlation ID 5b2c099ee454bc0c.\") (attempt 9)\n",
      "2025-06-04 11:20:33.764 INFO: HTTP Request: GET http://127.0.0.1:35787/api/v1/array/block/f7763365-cc6e-4b5e-a43d-3cfe6843c596/primary/external/bl_det_image?block=12%2C0%2C0&expected_shape=1%2C300%2C400 \"HTTP/1.1 500 Internal Server Error\"\n",
      "2025-06-04 11:20:33.767 WARNING: Scheduled retry in 5.0 seconds due to HTTPStatusError(\"Server error '500 Internal Server Error' for url 'http://127.0.0.1:35787/api/v1/array/block/f7763365-cc6e-4b5e-a43d-3cfe6843c596/primary/external/bl_det_image?block=12%2C0%2C0&expected_shape=1%2C300%2C400'\\nFor more information, server admin can search server logs for correlation ID 3c0ffc855ea2e6d2.\") (attempt 9)\n"
     ]
    }
   ],
   "source": [
    "import datetime\n",
    "import matplotlib.pyplot as plt\n",
    "import numpy as np\n",
    "from bluesky.callbacks import best_effort\n",
    "from bluesky.callbacks.tiled_writer import TiledWriter\n",
    "from bluesky.run_engine import RunEngine\n",
    "from ophyd.utils import make_dir_tree\n",
    "from tiled.client import from_uri\n",
    "from tiled.server import SimpleTiledServer\n",
    "from blop.sim import beamline\n",
    "\n",
    "# Initialize Tiled server and client\n",
    "tiled_server = SimpleTiledServer(readable_storage=[beamline.DECTECTOR_STORAGE])\n",
    "tiled_client = from_uri(tiled_server.uri)\n",
    "tiled_writer = TiledWriter(tiled_client)\n",
    "\n",
    "\n",
    "# Set up RE enviornment\n",
    "def setup_re_env(db_type=\"default\", root_dir=\"/default/path\"):\n",
    "    RE = RunEngine({})\n",
    "    bec = best_effort.BestEffortCallback()\n",
    "    RE.subscribe(bec)\n",
    "    RE.subscribe(tiled_writer)\n",
    "    _ = make_dir_tree(datetime.datetime.now().year, base_path=root_dir)\n",
    "    return {\"RE\": RE, \"tiled\": tiled_client, \"bec\": bec} \n",
    "\n",
    "env = setup_re_env(db_type=\"temp\", root_dir=\"/tmp/blop/test/sim\")\n",
    "globals().update(env)\n",
    "\n",
    "bec.disable_plots()"
   ]
  },
  {
   "cell_type": "code",
   "execution_count": 2,
   "id": "305b9042",
   "metadata": {},
   "outputs": [
    {
     "data": {
      "text/plain": [
       "PosixPath('/tmp/blop/sim')"
      ]
     },
     "execution_count": 2,
     "metadata": {},
     "output_type": "execute_result"
    }
   ],
   "source": [
    "tiled_server.directory"
   ]
  },
  {
   "cell_type": "code",
   "execution_count": 3,
   "id": "2",
   "metadata": {},
   "outputs": [],
   "source": [
    "from blop.sim import Beamline\n",
    "\n",
    "beamline = Beamline(name=\"bl\")"
   ]
  },
  {
   "cell_type": "code",
   "execution_count": null,
   "id": "3",
   "metadata": {},
   "outputs": [
    {
     "name": "stderr",
     "output_type": "stream",
     "text": [
      "2025-06-04 11:20:09.431 INFO: Executing plan <generator object Agent.learn at 0x736f6e19b240>\n",
      "2025-06-04 11:20:09.431 INFO: Change state on <bluesky.run_engine.RunEngine object at 0x736db2783750> from 'idle' -> 'running'\n",
      "2025-06-04 11:20:09.432 INFO: running iteration 1 / 1\n"
     ]
    },
    {
     "name": "stdout",
     "output_type": "stream",
     "text": [
      "\n",
      "\n",
      "Transient Scan ID: 1     Time: 2025-06-04 11:20:09\n",
      "Persistent Unique Scan ID: 'f7763365-cc6e-4b5e-a43d-3cfe6843c596'\n"
     ]
    },
    {
     "name": "stderr",
     "output_type": "stream",
     "text": [
      "2025-06-04 11:20:09.474 INFO: HTTP Request: POST http://127.0.0.1:35787/api/v1/metadata/ \"HTTP/1.1 200 OK\"\n"
     ]
    },
    {
     "name": "stdout",
     "output_type": "stream",
     "text": [
      "New stream: 'primary'\n",
      "+-----------+------------+------------+------------+------------+------------+------------+--------------+--------------+--------------+--------------+\n",
      "|   seq_num |       time | bl_kbv_dsv | bl_kbv_usv | bl_kbh_dsh | bl_kbh_ush | bl_det_sum | bl_det_cen_x | bl_det_cen_y | bl_det_wid_x | bl_det_wid_y |\n",
      "+-----------+------------+------------+------------+------------+------------+------------+--------------+--------------+--------------+--------------+\n"
     ]
    },
    {
     "name": "stderr",
     "output_type": "stream",
     "text": [
      "2025-06-04 11:20:09.520 INFO: HTTP Request: GET http://127.0.0.1:35787/api/v1/search//f7763365-cc6e-4b5e-a43d-3cfe6843c596?page%5Boffset%5D=0&fields=&sort= \"HTTP/1.1 200 OK\"\n",
      "2025-06-04 11:20:09.532 INFO: HTTP Request: POST http://127.0.0.1:35787/api/v1/metadata//f7763365-cc6e-4b5e-a43d-3cfe6843c596 \"HTTP/1.1 200 OK\"\n",
      "2025-06-04 11:20:09.542 INFO: HTTP Request: POST http://127.0.0.1:35787/api/v1/metadata//f7763365-cc6e-4b5e-a43d-3cfe6843c596/primary \"HTTP/1.1 200 OK\"\n",
      "2025-06-04 11:20:09.552 INFO: HTTP Request: POST http://127.0.0.1:35787/api/v1/metadata//f7763365-cc6e-4b5e-a43d-3cfe6843c596/primary \"HTTP/1.1 200 OK\"\n",
      "2025-06-04 11:20:09.561 INFO: HTTP Request: POST http://127.0.0.1:35787/api/v1/metadata//f7763365-cc6e-4b5e-a43d-3cfe6843c596/primary \"HTTP/1.1 200 OK\"\n",
      "2025-06-04 11:20:09.574 INFO: HTTP Request: PATCH http://127.0.0.1:35787/api/v1/metadata//f7763365-cc6e-4b5e-a43d-3cfe6843c596/primary \"HTTP/1.1 200 OK\"\n",
      "2025-06-04 11:20:09.581 INFO: HTTP Request: GET http://127.0.0.1:35787/api/v1/metadata//f7763365-cc6e-4b5e-a43d-3cfe6843c596/primary/config \"HTTP/1.1 200 OK\"\n",
      "2025-06-04 11:20:09.588 INFO: HTTP Request: GET http://127.0.0.1:35787/api/v1/search/f7763365-cc6e-4b5e-a43d-3cfe6843c596/primary/config?page%5Boffset%5D=0&fields=&sort= \"HTTP/1.1 200 OK\"\n",
      "2025-06-04 11:20:09.607 INFO: HTTP Request: POST http://127.0.0.1:35787/api/v1/metadata/f7763365-cc6e-4b5e-a43d-3cfe6843c596/primary/config \"HTTP/1.1 200 OK\"\n",
      "2025-06-04 11:20:09.615 INFO: HTTP Request: GET http://127.0.0.1:35787/api/v1/metadata/f7763365-cc6e-4b5e-a43d-3cfe6843c596/primary/config/bl_kbv_usv \"HTTP/1.1 200 OK\"\n",
      "2025-06-04 11:20:09.626 INFO: HTTP Request: PUT http://127.0.0.1:35787/api/v1/table/partition/f7763365-cc6e-4b5e-a43d-3cfe6843c596/primary/config/bl_kbv_usv?partition=0 \"HTTP/1.1 200 OK\"\n",
      "2025-06-04 11:20:09.634 INFO: HTTP Request: GET http://127.0.0.1:35787/api/v1/search/f7763365-cc6e-4b5e-a43d-3cfe6843c596/primary/config?page%5Boffset%5D=0&fields=&sort= \"HTTP/1.1 200 OK\"\n",
      "2025-06-04 11:20:09.649 INFO: HTTP Request: POST http://127.0.0.1:35787/api/v1/metadata/f7763365-cc6e-4b5e-a43d-3cfe6843c596/primary/config \"HTTP/1.1 200 OK\"\n",
      "2025-06-04 11:20:09.657 INFO: HTTP Request: GET http://127.0.0.1:35787/api/v1/metadata/f7763365-cc6e-4b5e-a43d-3cfe6843c596/primary/config/bl_det \"HTTP/1.1 200 OK\"\n",
      "2025-06-04 11:20:09.666 INFO: HTTP Request: PUT http://127.0.0.1:35787/api/v1/table/partition/f7763365-cc6e-4b5e-a43d-3cfe6843c596/primary/config/bl_det?partition=0 \"HTTP/1.1 200 OK\"\n",
      "2025-06-04 11:20:09.674 INFO: HTTP Request: GET http://127.0.0.1:35787/api/v1/search/f7763365-cc6e-4b5e-a43d-3cfe6843c596/primary/config?page%5Boffset%5D=0&fields=&sort= \"HTTP/1.1 200 OK\"\n",
      "2025-06-04 11:20:09.688 INFO: HTTP Request: POST http://127.0.0.1:35787/api/v1/metadata/f7763365-cc6e-4b5e-a43d-3cfe6843c596/primary/config \"HTTP/1.1 200 OK\"\n",
      "2025-06-04 11:20:09.696 INFO: HTTP Request: GET http://127.0.0.1:35787/api/v1/metadata/f7763365-cc6e-4b5e-a43d-3cfe6843c596/primary/config/bl_kbv_dsv \"HTTP/1.1 200 OK\"\n",
      "2025-06-04 11:20:09.706 INFO: HTTP Request: PUT http://127.0.0.1:35787/api/v1/table/partition/f7763365-cc6e-4b5e-a43d-3cfe6843c596/primary/config/bl_kbv_dsv?partition=0 \"HTTP/1.1 200 OK\"\n",
      "2025-06-04 11:20:09.714 INFO: HTTP Request: GET http://127.0.0.1:35787/api/v1/search/f7763365-cc6e-4b5e-a43d-3cfe6843c596/primary/config?page%5Boffset%5D=0&fields=&sort= \"HTTP/1.1 200 OK\"\n",
      "2025-06-04 11:20:09.727 INFO: HTTP Request: POST http://127.0.0.1:35787/api/v1/metadata/f7763365-cc6e-4b5e-a43d-3cfe6843c596/primary/config \"HTTP/1.1 200 OK\"\n",
      "2025-06-04 11:20:09.736 INFO: HTTP Request: GET http://127.0.0.1:35787/api/v1/metadata/f7763365-cc6e-4b5e-a43d-3cfe6843c596/primary/config/bl_kbh_ush \"HTTP/1.1 200 OK\"\n",
      "2025-06-04 11:20:09.745 INFO: HTTP Request: PUT http://127.0.0.1:35787/api/v1/table/partition/f7763365-cc6e-4b5e-a43d-3cfe6843c596/primary/config/bl_kbh_ush?partition=0 \"HTTP/1.1 200 OK\"\n",
      "2025-06-04 11:20:09.753 INFO: HTTP Request: GET http://127.0.0.1:35787/api/v1/search/f7763365-cc6e-4b5e-a43d-3cfe6843c596/primary/config?page%5Boffset%5D=0&fields=&sort= \"HTTP/1.1 200 OK\"\n",
      "2025-06-04 11:20:09.766 INFO: HTTP Request: POST http://127.0.0.1:35787/api/v1/metadata/f7763365-cc6e-4b5e-a43d-3cfe6843c596/primary/config \"HTTP/1.1 200 OK\"\n",
      "2025-06-04 11:20:09.774 INFO: HTTP Request: GET http://127.0.0.1:35787/api/v1/metadata/f7763365-cc6e-4b5e-a43d-3cfe6843c596/primary/config/bl_kbh_dsh \"HTTP/1.1 200 OK\"\n",
      "2025-06-04 11:20:09.783 INFO: HTTP Request: PUT http://127.0.0.1:35787/api/v1/table/partition/f7763365-cc6e-4b5e-a43d-3cfe6843c596/primary/config/bl_kbh_dsh?partition=0 \"HTTP/1.1 200 OK\"\n",
      "2025-06-04 11:20:09.790 INFO: HTTP Request: GET http://127.0.0.1:35787/api/v1/metadata//f7763365-cc6e-4b5e-a43d-3cfe6843c596/primary/external \"HTTP/1.1 200 OK\"\n",
      "2025-06-04 11:20:09.803 INFO: HTTP Request: POST http://127.0.0.1:35787/api/v1/register/f7763365-cc6e-4b5e-a43d-3cfe6843c596/primary/external \"HTTP/1.1 200 OK\"\n",
      "2025-06-04 11:20:09.812 INFO: HTTP Request: GET http://127.0.0.1:35787/api/v1/metadata/f7763365-cc6e-4b5e-a43d-3cfe6843c596/primary/external/bl_det_image \"HTTP/1.1 200 OK\"\n",
      "2025-06-04 11:20:09.820 INFO: HTTP Request: GET http://127.0.0.1:35787/api/v1/metadata/f7763365-cc6e-4b5e-a43d-3cfe6843c596/primary/external/bl_det_image?include_data_sources=true \"HTTP/1.1 200 OK\"\n",
      "2025-06-04 11:20:09.831 INFO: HTTP Request: PUT http://127.0.0.1:35787/api/v1/data_source/f7763365-cc6e-4b5e-a43d-3cfe6843c596/primary/external/bl_det_image?data_source=162 \"HTTP/1.1 200 OK\"\n"
     ]
    },
    {
     "name": "stdout",
     "output_type": "stream",
     "text": [
      "|         1 | 11:20:09.8 |      2.120 |     -0.838 |      1.006 |      0.003 |    546.769 |      178.967 |      104.562 |       16.953 |       16.456 |\n"
     ]
    },
    {
     "name": "stderr",
     "output_type": "stream",
     "text": [
      "2025-06-04 11:20:09.838 INFO: HTTP Request: GET http://127.0.0.1:35787/api/v1/metadata//f7763365-cc6e-4b5e-a43d-3cfe6843c596/primary/internal \"HTTP/1.1 200 OK\"\n",
      "2025-06-04 11:20:09.845 INFO: HTTP Request: GET http://127.0.0.1:35787/api/v1/search/f7763365-cc6e-4b5e-a43d-3cfe6843c596/primary/internal?page%5Boffset%5D=0&fields=&sort= \"HTTP/1.1 200 OK\"\n",
      "2025-06-04 11:20:09.859 INFO: HTTP Request: POST http://127.0.0.1:35787/api/v1/metadata/f7763365-cc6e-4b5e-a43d-3cfe6843c596/primary/internal \"HTTP/1.1 200 OK\"\n",
      "2025-06-04 11:20:09.867 INFO: HTTP Request: GET http://127.0.0.1:35787/api/v1/metadata/f7763365-cc6e-4b5e-a43d-3cfe6843c596/primary/internal/events \"HTTP/1.1 200 OK\"\n",
      "2025-06-04 11:20:09.877 INFO: HTTP Request: PUT http://127.0.0.1:35787/api/v1/table/partition/f7763365-cc6e-4b5e-a43d-3cfe6843c596/primary/internal/events?partition=0 \"HTTP/1.1 200 OK\"\n",
      "2025-06-04 11:20:09.919 INFO: HTTP Request: GET http://127.0.0.1:35787/api/v1/metadata/f7763365-cc6e-4b5e-a43d-3cfe6843c596/primary/external/bl_det_image \"HTTP/1.1 200 OK\"\n",
      "2025-06-04 11:20:09.928 INFO: HTTP Request: GET http://127.0.0.1:35787/api/v1/metadata/f7763365-cc6e-4b5e-a43d-3cfe6843c596/primary/external/bl_det_image?include_data_sources=true \"HTTP/1.1 200 OK\"\n",
      "2025-06-04 11:20:09.938 INFO: HTTP Request: PUT http://127.0.0.1:35787/api/v1/data_source/f7763365-cc6e-4b5e-a43d-3cfe6843c596/primary/external/bl_det_image?data_source=162 \"HTTP/1.1 200 OK\"\n"
     ]
    },
    {
     "name": "stdout",
     "output_type": "stream",
     "text": [
      "|         2 | 11:20:09.9 |      2.681 |     -0.317 |     -0.126 |      2.748 |    546.851 |      256.400 |      104.387 |       45.590 |       11.283 |\n"
     ]
    },
    {
     "name": "stderr",
     "output_type": "stream",
     "text": [
      "2025-06-04 11:20:09.946 INFO: HTTP Request: GET http://127.0.0.1:35787/api/v1/metadata//f7763365-cc6e-4b5e-a43d-3cfe6843c596/primary/internal \"HTTP/1.1 200 OK\"\n",
      "2025-06-04 11:20:09.953 INFO: HTTP Request: GET http://127.0.0.1:35787/api/v1/search/f7763365-cc6e-4b5e-a43d-3cfe6843c596/primary/internal?page%5Boffset%5D=0&fields=&sort= \"HTTP/1.1 200 OK\"\n",
      "2025-06-04 11:20:09.962 INFO: HTTP Request: GET http://127.0.0.1:35787/api/v1/metadata/f7763365-cc6e-4b5e-a43d-3cfe6843c596/primary/internal/events \"HTTP/1.1 200 OK\"\n",
      "2025-06-04 11:20:09.972 INFO: HTTP Request: PATCH http://127.0.0.1:35787/api/v1/table/partition/f7763365-cc6e-4b5e-a43d-3cfe6843c596/primary/internal/events?partition=0 \"HTTP/1.1 200 OK\"\n",
      "2025-06-04 11:20:10.010 INFO: HTTP Request: GET http://127.0.0.1:35787/api/v1/metadata/f7763365-cc6e-4b5e-a43d-3cfe6843c596/primary/external/bl_det_image \"HTTP/1.1 200 OK\"\n",
      "2025-06-04 11:20:10.019 INFO: HTTP Request: GET http://127.0.0.1:35787/api/v1/metadata/f7763365-cc6e-4b5e-a43d-3cfe6843c596/primary/external/bl_det_image?include_data_sources=true \"HTTP/1.1 200 OK\"\n",
      "2025-06-04 11:20:10.029 INFO: HTTP Request: PUT http://127.0.0.1:35787/api/v1/data_source/f7763365-cc6e-4b5e-a43d-3cfe6843c596/primary/external/bl_det_image?data_source=162 \"HTTP/1.1 200 OK\"\n"
     ]
    },
    {
     "name": "stdout",
     "output_type": "stream",
     "text": [
      "|         3 | 11:20:10.0 |      4.972 |     -2.727 |      1.986 |      1.435 |      0.979 |      197.930 |      148.374 |      371.540 |      278.679 |\n"
     ]
    },
    {
     "name": "stderr",
     "output_type": "stream",
     "text": [
      "2025-06-04 11:20:10.037 INFO: HTTP Request: GET http://127.0.0.1:35787/api/v1/metadata//f7763365-cc6e-4b5e-a43d-3cfe6843c596/primary/internal \"HTTP/1.1 200 OK\"\n",
      "2025-06-04 11:20:10.044 INFO: HTTP Request: GET http://127.0.0.1:35787/api/v1/search/f7763365-cc6e-4b5e-a43d-3cfe6843c596/primary/internal?page%5Boffset%5D=0&fields=&sort= \"HTTP/1.1 200 OK\"\n",
      "2025-06-04 11:20:10.053 INFO: HTTP Request: GET http://127.0.0.1:35787/api/v1/metadata/f7763365-cc6e-4b5e-a43d-3cfe6843c596/primary/internal/events \"HTTP/1.1 200 OK\"\n",
      "2025-06-04 11:20:10.063 INFO: HTTP Request: PATCH http://127.0.0.1:35787/api/v1/table/partition/f7763365-cc6e-4b5e-a43d-3cfe6843c596/primary/internal/events?partition=0 \"HTTP/1.1 200 OK\"\n",
      "2025-06-04 11:20:10.099 INFO: HTTP Request: GET http://127.0.0.1:35787/api/v1/metadata/f7763365-cc6e-4b5e-a43d-3cfe6843c596/primary/external/bl_det_image \"HTTP/1.1 200 OK\"\n",
      "2025-06-04 11:20:10.107 INFO: HTTP Request: GET http://127.0.0.1:35787/api/v1/metadata/f7763365-cc6e-4b5e-a43d-3cfe6843c596/primary/external/bl_det_image?include_data_sources=true \"HTTP/1.1 200 OK\"\n",
      "2025-06-04 11:20:10.118 INFO: HTTP Request: PUT http://127.0.0.1:35787/api/v1/data_source/f7763365-cc6e-4b5e-a43d-3cfe6843c596/primary/external/bl_det_image?data_source=162 \"HTTP/1.1 200 OK\"\n"
     ]
    },
    {
     "name": "stdout",
     "output_type": "stream",
     "text": [
      "|         4 | 11:20:10.1 |      4.165 |     -1.692 |      4.566 |     -1.571 |     -0.868 |      195.000 |      158.979 |      301.900 |      239.478 |\n"
     ]
    },
    {
     "name": "stderr",
     "output_type": "stream",
     "text": [
      "2025-06-04 11:20:10.126 INFO: HTTP Request: GET http://127.0.0.1:35787/api/v1/metadata//f7763365-cc6e-4b5e-a43d-3cfe6843c596/primary/internal \"HTTP/1.1 200 OK\"\n",
      "2025-06-04 11:20:10.134 INFO: HTTP Request: GET http://127.0.0.1:35787/api/v1/search/f7763365-cc6e-4b5e-a43d-3cfe6843c596/primary/internal?page%5Boffset%5D=0&fields=&sort= \"HTTP/1.1 200 OK\"\n",
      "2025-06-04 11:20:10.142 INFO: HTTP Request: GET http://127.0.0.1:35787/api/v1/metadata/f7763365-cc6e-4b5e-a43d-3cfe6843c596/primary/internal/events \"HTTP/1.1 200 OK\"\n",
      "2025-06-04 11:20:10.152 INFO: HTTP Request: PATCH http://127.0.0.1:35787/api/v1/table/partition/f7763365-cc6e-4b5e-a43d-3cfe6843c596/primary/internal/events?partition=0 \"HTTP/1.1 200 OK\"\n",
      "2025-06-04 11:20:10.190 INFO: HTTP Request: GET http://127.0.0.1:35787/api/v1/metadata/f7763365-cc6e-4b5e-a43d-3cfe6843c596/primary/external/bl_det_image \"HTTP/1.1 200 OK\"\n",
      "2025-06-04 11:20:10.199 INFO: HTTP Request: GET http://127.0.0.1:35787/api/v1/metadata/f7763365-cc6e-4b5e-a43d-3cfe6843c596/primary/external/bl_det_image?include_data_sources=true \"HTTP/1.1 200 OK\"\n",
      "2025-06-04 11:20:10.210 INFO: HTTP Request: PUT http://127.0.0.1:35787/api/v1/data_source/f7763365-cc6e-4b5e-a43d-3cfe6843c596/primary/external/bl_det_image?data_source=162 \"HTTP/1.1 200 OK\"\n"
     ]
    },
    {
     "name": "stdout",
     "output_type": "stream",
     "text": [
      "|         5 | 11:20:10.2 |      1.390 |     -4.842 |      3.748 |     -0.492 |    118.651 |      123.426 |       94.835 |       43.262 |       37.253 |\n"
     ]
    },
    {
     "name": "stderr",
     "output_type": "stream",
     "text": [
      "2025-06-04 11:20:10.218 INFO: HTTP Request: GET http://127.0.0.1:35787/api/v1/metadata//f7763365-cc6e-4b5e-a43d-3cfe6843c596/primary/internal \"HTTP/1.1 200 OK\"\n",
      "2025-06-04 11:20:10.225 INFO: HTTP Request: GET http://127.0.0.1:35787/api/v1/search/f7763365-cc6e-4b5e-a43d-3cfe6843c596/primary/internal?page%5Boffset%5D=0&fields=&sort= \"HTTP/1.1 200 OK\"\n",
      "2025-06-04 11:20:10.233 INFO: HTTP Request: GET http://127.0.0.1:35787/api/v1/metadata/f7763365-cc6e-4b5e-a43d-3cfe6843c596/primary/internal/events \"HTTP/1.1 200 OK\"\n",
      "2025-06-04 11:20:10.244 INFO: HTTP Request: PATCH http://127.0.0.1:35787/api/v1/table/partition/f7763365-cc6e-4b5e-a43d-3cfe6843c596/primary/internal/events?partition=0 \"HTTP/1.1 200 OK\"\n",
      "2025-06-04 11:20:10.285 INFO: HTTP Request: GET http://127.0.0.1:35787/api/v1/metadata/f7763365-cc6e-4b5e-a43d-3cfe6843c596/primary/external/bl_det_image \"HTTP/1.1 200 OK\"\n",
      "2025-06-04 11:20:10.294 INFO: HTTP Request: GET http://127.0.0.1:35787/api/v1/metadata/f7763365-cc6e-4b5e-a43d-3cfe6843c596/primary/external/bl_det_image?include_data_sources=true \"HTTP/1.1 200 OK\"\n",
      "2025-06-04 11:20:10.304 INFO: HTTP Request: PUT http://127.0.0.1:35787/api/v1/data_source/f7763365-cc6e-4b5e-a43d-3cfe6843c596/primary/external/bl_det_image?data_source=162 \"HTTP/1.1 200 OK\"\n"
     ]
    },
    {
     "name": "stdout",
     "output_type": "stream",
     "text": [
      "|         6 | 11:20:10.3 |     -2.364 |     -2.871 |      4.328 |      3.009 |     95.538 |      181.394 |      140.807 |      139.067 |      112.061 |\n"
     ]
    },
    {
     "name": "stderr",
     "output_type": "stream",
     "text": [
      "2025-06-04 11:20:10.312 INFO: HTTP Request: GET http://127.0.0.1:35787/api/v1/metadata//f7763365-cc6e-4b5e-a43d-3cfe6843c596/primary/internal \"HTTP/1.1 200 OK\"\n",
      "2025-06-04 11:20:10.320 INFO: HTTP Request: GET http://127.0.0.1:35787/api/v1/search/f7763365-cc6e-4b5e-a43d-3cfe6843c596/primary/internal?page%5Boffset%5D=0&fields=&sort= \"HTTP/1.1 200 OK\"\n",
      "2025-06-04 11:20:10.328 INFO: HTTP Request: GET http://127.0.0.1:35787/api/v1/metadata/f7763365-cc6e-4b5e-a43d-3cfe6843c596/primary/internal/events \"HTTP/1.1 200 OK\"\n",
      "2025-06-04 11:20:10.339 INFO: HTTP Request: PATCH http://127.0.0.1:35787/api/v1/table/partition/f7763365-cc6e-4b5e-a43d-3cfe6843c596/primary/internal/events?partition=0 \"HTTP/1.1 200 OK\"\n",
      "2025-06-04 11:20:10.384 INFO: HTTP Request: GET http://127.0.0.1:35787/api/v1/metadata/f7763365-cc6e-4b5e-a43d-3cfe6843c596/primary/external/bl_det_image \"HTTP/1.1 200 OK\"\n",
      "2025-06-04 11:20:10.394 INFO: HTTP Request: GET http://127.0.0.1:35787/api/v1/metadata/f7763365-cc6e-4b5e-a43d-3cfe6843c596/primary/external/bl_det_image?include_data_sources=true \"HTTP/1.1 200 OK\"\n",
      "2025-06-04 11:20:10.407 INFO: HTTP Request: PUT http://127.0.0.1:35787/api/v1/data_source/f7763365-cc6e-4b5e-a43d-3cfe6843c596/primary/external/bl_det_image?data_source=162 \"HTTP/1.1 200 OK\"\n"
     ]
    },
    {
     "name": "stdout",
     "output_type": "stream",
     "text": [
      "|         7 | 11:20:10.4 |     -4.591 |     -1.010 |      2.729 |      4.127 |     99.558 |      225.071 |      175.788 |      125.031 |       86.626 |\n"
     ]
    },
    {
     "name": "stderr",
     "output_type": "stream",
     "text": [
      "2025-06-04 11:20:10.415 INFO: HTTP Request: GET http://127.0.0.1:35787/api/v1/metadata//f7763365-cc6e-4b5e-a43d-3cfe6843c596/primary/internal \"HTTP/1.1 200 OK\"\n",
      "2025-06-04 11:20:10.423 INFO: HTTP Request: GET http://127.0.0.1:35787/api/v1/search/f7763365-cc6e-4b5e-a43d-3cfe6843c596/primary/internal?page%5Boffset%5D=0&fields=&sort= \"HTTP/1.1 200 OK\"\n",
      "2025-06-04 11:20:10.431 INFO: HTTP Request: GET http://127.0.0.1:35787/api/v1/metadata/f7763365-cc6e-4b5e-a43d-3cfe6843c596/primary/internal/events \"HTTP/1.1 200 OK\"\n",
      "2025-06-04 11:20:10.442 INFO: HTTP Request: PATCH http://127.0.0.1:35787/api/v1/table/partition/f7763365-cc6e-4b5e-a43d-3cfe6843c596/primary/internal/events?partition=0 \"HTTP/1.1 200 OK\"\n",
      "2025-06-04 11:20:10.485 INFO: HTTP Request: GET http://127.0.0.1:35787/api/v1/metadata/f7763365-cc6e-4b5e-a43d-3cfe6843c596/primary/external/bl_det_image \"HTTP/1.1 200 OK\"\n",
      "2025-06-04 11:20:10.494 INFO: HTTP Request: GET http://127.0.0.1:35787/api/v1/metadata/f7763365-cc6e-4b5e-a43d-3cfe6843c596/primary/external/bl_det_image?include_data_sources=true \"HTTP/1.1 200 OK\"\n",
      "2025-06-04 11:20:10.504 INFO: HTTP Request: PUT http://127.0.0.1:35787/api/v1/data_source/f7763365-cc6e-4b5e-a43d-3cfe6843c596/primary/external/bl_det_image?data_source=162 \"HTTP/1.1 200 OK\"\n"
     ]
    },
    {
     "name": "stdout",
     "output_type": "stream",
     "text": [
      "|         8 | 11:20:10.5 |     -1.011 |      1.975 |      2.449 |      4.923 |    377.095 |      226.592 |      193.465 |      129.648 |       21.997 |\n"
     ]
    },
    {
     "name": "stderr",
     "output_type": "stream",
     "text": [
      "2025-06-04 11:20:10.512 INFO: HTTP Request: GET http://127.0.0.1:35787/api/v1/metadata//f7763365-cc6e-4b5e-a43d-3cfe6843c596/primary/internal \"HTTP/1.1 200 OK\"\n",
      "2025-06-04 11:20:10.519 INFO: HTTP Request: GET http://127.0.0.1:35787/api/v1/search/f7763365-cc6e-4b5e-a43d-3cfe6843c596/primary/internal?page%5Boffset%5D=0&fields=&sort= \"HTTP/1.1 200 OK\"\n",
      "2025-06-04 11:20:10.528 INFO: HTTP Request: GET http://127.0.0.1:35787/api/v1/metadata/f7763365-cc6e-4b5e-a43d-3cfe6843c596/primary/internal/events \"HTTP/1.1 200 OK\"\n",
      "2025-06-04 11:20:10.538 INFO: HTTP Request: PATCH http://127.0.0.1:35787/api/v1/table/partition/f7763365-cc6e-4b5e-a43d-3cfe6843c596/primary/internal/events?partition=0 \"HTTP/1.1 200 OK\"\n",
      "2025-06-04 11:20:10.583 INFO: HTTP Request: GET http://127.0.0.1:35787/api/v1/metadata/f7763365-cc6e-4b5e-a43d-3cfe6843c596/primary/external/bl_det_image \"HTTP/1.1 200 OK\"\n",
      "2025-06-04 11:20:10.591 INFO: HTTP Request: GET http://127.0.0.1:35787/api/v1/metadata/f7763365-cc6e-4b5e-a43d-3cfe6843c596/primary/external/bl_det_image?include_data_sources=true \"HTTP/1.1 200 OK\"\n",
      "2025-06-04 11:20:10.602 INFO: HTTP Request: PUT http://127.0.0.1:35787/api/v1/data_source/f7763365-cc6e-4b5e-a43d-3cfe6843c596/primary/external/bl_det_image?data_source=162 \"HTTP/1.1 200 OK\"\n"
     ]
    },
    {
     "name": "stdout",
     "output_type": "stream",
     "text": [
      "|         9 | 11:20:10.6 |     -3.161 |      3.835 |      0.845 |      3.541 |     -0.614 |      199.495 |      148.517 |      381.906 |      192.666 |\n"
     ]
    },
    {
     "name": "stderr",
     "output_type": "stream",
     "text": [
      "2025-06-04 11:20:10.610 INFO: HTTP Request: GET http://127.0.0.1:35787/api/v1/metadata//f7763365-cc6e-4b5e-a43d-3cfe6843c596/primary/internal \"HTTP/1.1 200 OK\"\n",
      "2025-06-04 11:20:10.617 INFO: HTTP Request: GET http://127.0.0.1:35787/api/v1/search/f7763365-cc6e-4b5e-a43d-3cfe6843c596/primary/internal?page%5Boffset%5D=0&fields=&sort= \"HTTP/1.1 200 OK\"\n",
      "2025-06-04 11:20:10.626 INFO: HTTP Request: GET http://127.0.0.1:35787/api/v1/metadata/f7763365-cc6e-4b5e-a43d-3cfe6843c596/primary/internal/events \"HTTP/1.1 200 OK\"\n",
      "2025-06-04 11:20:10.636 INFO: HTTP Request: PATCH http://127.0.0.1:35787/api/v1/table/partition/f7763365-cc6e-4b5e-a43d-3cfe6843c596/primary/internal/events?partition=0 \"HTTP/1.1 200 OK\"\n",
      "2025-06-04 11:20:10.683 INFO: HTTP Request: GET http://127.0.0.1:35787/api/v1/metadata/f7763365-cc6e-4b5e-a43d-3cfe6843c596/primary/external/bl_det_image \"HTTP/1.1 200 OK\"\n",
      "2025-06-04 11:20:10.693 INFO: HTTP Request: GET http://127.0.0.1:35787/api/v1/metadata/f7763365-cc6e-4b5e-a43d-3cfe6843c596/primary/external/bl_det_image?include_data_sources=true \"HTTP/1.1 200 OK\"\n",
      "2025-06-04 11:20:10.707 INFO: HTTP Request: PUT http://127.0.0.1:35787/api/v1/data_source/f7763365-cc6e-4b5e-a43d-3cfe6843c596/primary/external/bl_det_image?data_source=162 \"HTTP/1.1 200 OK\"\n"
     ]
    },
    {
     "name": "stdout",
     "output_type": "stream",
     "text": [
      "|        10 | 11:20:10.7 |     -4.180 |      1.871 |     -1.418 |      2.197 |    178.184 |      271.088 |      207.524 |       17.004 |       29.410 |\n"
     ]
    },
    {
     "name": "stderr",
     "output_type": "stream",
     "text": [
      "2025-06-04 11:20:10.717 INFO: HTTP Request: GET http://127.0.0.1:35787/api/v1/metadata//f7763365-cc6e-4b5e-a43d-3cfe6843c596/primary/internal \"HTTP/1.1 200 OK\"\n",
      "2025-06-04 11:20:10.726 INFO: HTTP Request: GET http://127.0.0.1:35787/api/v1/search/f7763365-cc6e-4b5e-a43d-3cfe6843c596/primary/internal?page%5Boffset%5D=0&fields=&sort= \"HTTP/1.1 200 OK\"\n",
      "2025-06-04 11:20:10.735 INFO: HTTP Request: GET http://127.0.0.1:35787/api/v1/metadata/f7763365-cc6e-4b5e-a43d-3cfe6843c596/primary/internal/events \"HTTP/1.1 200 OK\"\n",
      "2025-06-04 11:20:10.746 INFO: HTTP Request: PATCH http://127.0.0.1:35787/api/v1/table/partition/f7763365-cc6e-4b5e-a43d-3cfe6843c596/primary/internal/events?partition=0 \"HTTP/1.1 200 OK\"\n",
      "2025-06-04 11:20:10.788 INFO: HTTP Request: GET http://127.0.0.1:35787/api/v1/metadata/f7763365-cc6e-4b5e-a43d-3cfe6843c596/primary/external/bl_det_image \"HTTP/1.1 200 OK\"\n",
      "2025-06-04 11:20:10.797 INFO: HTTP Request: GET http://127.0.0.1:35787/api/v1/metadata/f7763365-cc6e-4b5e-a43d-3cfe6843c596/primary/external/bl_det_image?include_data_sources=true \"HTTP/1.1 200 OK\"\n",
      "2025-06-04 11:20:10.808 INFO: HTTP Request: PUT http://127.0.0.1:35787/api/v1/data_source/f7763365-cc6e-4b5e-a43d-3cfe6843c596/primary/external/bl_det_image?data_source=162 \"HTTP/1.1 200 OK\"\n"
     ]
    },
    {
     "name": "stdout",
     "output_type": "stream",
     "text": [
      "|        11 | 11:20:10.8 |     -2.182 |      0.694 |     -2.868 |     -0.640 |    337.510 |      237.246 |      189.009 |      107.997 |       59.944 |\n"
     ]
    },
    {
     "name": "stderr",
     "output_type": "stream",
     "text": [
      "2025-06-04 11:20:10.816 INFO: HTTP Request: GET http://127.0.0.1:35787/api/v1/metadata//f7763365-cc6e-4b5e-a43d-3cfe6843c596/primary/internal \"HTTP/1.1 200 OK\"\n",
      "2025-06-04 11:20:10.824 INFO: HTTP Request: GET http://127.0.0.1:35787/api/v1/search/f7763365-cc6e-4b5e-a43d-3cfe6843c596/primary/internal?page%5Boffset%5D=0&fields=&sort= \"HTTP/1.1 200 OK\"\n",
      "2025-06-04 11:20:10.832 INFO: HTTP Request: GET http://127.0.0.1:35787/api/v1/metadata/f7763365-cc6e-4b5e-a43d-3cfe6843c596/primary/internal/events \"HTTP/1.1 200 OK\"\n",
      "2025-06-04 11:20:10.843 INFO: HTTP Request: PATCH http://127.0.0.1:35787/api/v1/table/partition/f7763365-cc6e-4b5e-a43d-3cfe6843c596/primary/internal/events?partition=0 \"HTTP/1.1 200 OK\"\n",
      "2025-06-04 11:20:10.888 INFO: HTTP Request: GET http://127.0.0.1:35787/api/v1/metadata/f7763365-cc6e-4b5e-a43d-3cfe6843c596/primary/external/bl_det_image \"HTTP/1.1 200 OK\"\n",
      "2025-06-04 11:20:10.897 INFO: HTTP Request: GET http://127.0.0.1:35787/api/v1/metadata/f7763365-cc6e-4b5e-a43d-3cfe6843c596/primary/external/bl_det_image?include_data_sources=true \"HTTP/1.1 200 OK\"\n",
      "2025-06-04 11:20:10.908 INFO: HTTP Request: PUT http://127.0.0.1:35787/api/v1/data_source/f7763365-cc6e-4b5e-a43d-3cfe6843c596/primary/external/bl_det_image?data_source=162 \"HTTP/1.1 200 OK\"\n"
     ]
    },
    {
     "name": "stdout",
     "output_type": "stream",
     "text": [
      "|        12 | 11:20:10.9 |     -4.955 |      2.555 |     -3.847 |     -2.063 |     19.427 |      225.049 |      215.268 |      122.578 |       15.491 |\n"
     ]
    },
    {
     "name": "stderr",
     "output_type": "stream",
     "text": [
      "2025-06-04 11:20:10.916 INFO: HTTP Request: GET http://127.0.0.1:35787/api/v1/metadata//f7763365-cc6e-4b5e-a43d-3cfe6843c596/primary/internal \"HTTP/1.1 200 OK\"\n",
      "2025-06-04 11:20:10.924 INFO: HTTP Request: GET http://127.0.0.1:35787/api/v1/search/f7763365-cc6e-4b5e-a43d-3cfe6843c596/primary/internal?page%5Boffset%5D=0&fields=&sort= \"HTTP/1.1 200 OK\"\n",
      "2025-06-04 11:20:10.933 INFO: HTTP Request: GET http://127.0.0.1:35787/api/v1/metadata/f7763365-cc6e-4b5e-a43d-3cfe6843c596/primary/internal/events \"HTTP/1.1 200 OK\"\n",
      "2025-06-04 11:20:10.944 INFO: HTTP Request: PATCH http://127.0.0.1:35787/api/v1/table/partition/f7763365-cc6e-4b5e-a43d-3cfe6843c596/primary/internal/events?partition=0 \"HTTP/1.1 200 OK\"\n",
      "2025-06-04 11:20:10.991 INFO: HTTP Request: GET http://127.0.0.1:35787/api/v1/metadata/f7763365-cc6e-4b5e-a43d-3cfe6843c596/primary/external/bl_det_image \"HTTP/1.1 200 OK\"\n",
      "2025-06-04 11:20:11.001 INFO: HTTP Request: GET http://127.0.0.1:35787/api/v1/metadata/f7763365-cc6e-4b5e-a43d-3cfe6843c596/primary/external/bl_det_image?include_data_sources=true \"HTTP/1.1 200 OK\"\n",
      "2025-06-04 11:20:11.015 INFO: HTTP Request: PUT http://127.0.0.1:35787/api/v1/data_source/f7763365-cc6e-4b5e-a43d-3cfe6843c596/primary/external/bl_det_image?data_source=162 \"HTTP/1.1 200 OK\"\n"
     ]
    },
    {
     "name": "stdout",
     "output_type": "stream",
     "text": [
      "|        13 | 11:20:11.0 |     -1.330 |      4.971 |     -0.600 |      1.130 |     26.514 |      233.500 |      221.536 |       19.525 |        6.002 |\n"
     ]
    },
    {
     "name": "stderr",
     "output_type": "stream",
     "text": [
      "2025-06-04 11:20:11.023 INFO: HTTP Request: GET http://127.0.0.1:35787/api/v1/metadata//f7763365-cc6e-4b5e-a43d-3cfe6843c596/primary/internal \"HTTP/1.1 200 OK\"\n",
      "2025-06-04 11:20:11.032 INFO: HTTP Request: GET http://127.0.0.1:35787/api/v1/search/f7763365-cc6e-4b5e-a43d-3cfe6843c596/primary/internal?page%5Boffset%5D=0&fields=&sort= \"HTTP/1.1 200 OK\"\n",
      "2025-06-04 11:20:11.040 INFO: HTTP Request: GET http://127.0.0.1:35787/api/v1/metadata/f7763365-cc6e-4b5e-a43d-3cfe6843c596/primary/internal/events \"HTTP/1.1 200 OK\"\n",
      "2025-06-04 11:20:11.051 INFO: HTTP Request: PATCH http://127.0.0.1:35787/api/v1/table/partition/f7763365-cc6e-4b5e-a43d-3cfe6843c596/primary/internal/events?partition=0 \"HTTP/1.1 200 OK\"\n",
      "2025-06-04 11:20:11.094 INFO: HTTP Request: GET http://127.0.0.1:35787/api/v1/metadata/f7763365-cc6e-4b5e-a43d-3cfe6843c596/primary/external/bl_det_image \"HTTP/1.1 200 OK\"\n",
      "2025-06-04 11:20:11.103 INFO: HTTP Request: GET http://127.0.0.1:35787/api/v1/metadata/f7763365-cc6e-4b5e-a43d-3cfe6843c596/primary/external/bl_det_image?include_data_sources=true \"HTTP/1.1 200 OK\"\n",
      "2025-06-04 11:20:11.114 INFO: HTTP Request: PUT http://127.0.0.1:35787/api/v1/data_source/f7763365-cc6e-4b5e-a43d-3cfe6843c596/primary/external/bl_det_image?data_source=162 \"HTTP/1.1 200 OK\"\n"
     ]
    },
    {
     "name": "stdout",
     "output_type": "stream",
     "text": [
      "|        14 | 11:20:11.1 |      0.748 |      4.317 |      2.881 |      1.996 |    378.452 |      180.500 |      196.285 |      102.645 |       49.192 |\n"
     ]
    },
    {
     "name": "stderr",
     "output_type": "stream",
     "text": [
      "2025-06-04 11:20:11.122 INFO: HTTP Request: GET http://127.0.0.1:35787/api/v1/metadata//f7763365-cc6e-4b5e-a43d-3cfe6843c596/primary/internal \"HTTP/1.1 200 OK\"\n",
      "2025-06-04 11:20:11.131 INFO: HTTP Request: GET http://127.0.0.1:35787/api/v1/search/f7763365-cc6e-4b5e-a43d-3cfe6843c596/primary/internal?page%5Boffset%5D=0&fields=&sort= \"HTTP/1.1 200 OK\"\n",
      "2025-06-04 11:20:11.140 INFO: HTTP Request: GET http://127.0.0.1:35787/api/v1/metadata/f7763365-cc6e-4b5e-a43d-3cfe6843c596/primary/internal/events \"HTTP/1.1 200 OK\"\n",
      "2025-06-04 11:20:11.150 INFO: HTTP Request: PATCH http://127.0.0.1:35787/api/v1/table/partition/f7763365-cc6e-4b5e-a43d-3cfe6843c596/primary/internal/events?partition=0 \"HTTP/1.1 200 OK\"\n",
      "2025-06-04 11:20:11.190 INFO: HTTP Request: GET http://127.0.0.1:35787/api/v1/metadata/f7763365-cc6e-4b5e-a43d-3cfe6843c596/primary/external/bl_det_image \"HTTP/1.1 200 OK\"\n",
      "2025-06-04 11:20:11.200 INFO: HTTP Request: GET http://127.0.0.1:35787/api/v1/metadata/f7763365-cc6e-4b5e-a43d-3cfe6843c596/primary/external/bl_det_image?include_data_sources=true \"HTTP/1.1 200 OK\"\n",
      "2025-06-04 11:20:11.211 INFO: HTTP Request: PUT http://127.0.0.1:35787/api/v1/data_source/f7763365-cc6e-4b5e-a43d-3cfe6843c596/primary/external/bl_det_image?data_source=162 \"HTTP/1.1 200 OK\"\n"
     ]
    },
    {
     "name": "stdout",
     "output_type": "stream",
     "text": [
      "|        15 | 11:20:11.2 |      3.523 |      2.427 |      3.855 |      0.926 |    390.615 |      147.566 |      131.832 |       84.884 |       78.004 |\n"
     ]
    },
    {
     "name": "stderr",
     "output_type": "stream",
     "text": [
      "2025-06-04 11:20:11.219 INFO: HTTP Request: GET http://127.0.0.1:35787/api/v1/metadata//f7763365-cc6e-4b5e-a43d-3cfe6843c596/primary/internal \"HTTP/1.1 200 OK\"\n",
      "2025-06-04 11:20:11.227 INFO: HTTP Request: GET http://127.0.0.1:35787/api/v1/search/f7763365-cc6e-4b5e-a43d-3cfe6843c596/primary/internal?page%5Boffset%5D=0&fields=&sort= \"HTTP/1.1 200 OK\"\n",
      "2025-06-04 11:20:11.235 INFO: HTTP Request: GET http://127.0.0.1:35787/api/v1/metadata/f7763365-cc6e-4b5e-a43d-3cfe6843c596/primary/internal/events \"HTTP/1.1 200 OK\"\n",
      "2025-06-04 11:20:11.246 INFO: HTTP Request: PATCH http://127.0.0.1:35787/api/v1/table/partition/f7763365-cc6e-4b5e-a43d-3cfe6843c596/primary/internal/events?partition=0 \"HTTP/1.1 200 OK\"\n",
      "2025-06-04 11:20:11.289 INFO: HTTP Request: GET http://127.0.0.1:35787/api/v1/metadata/f7763365-cc6e-4b5e-a43d-3cfe6843c596/primary/external/bl_det_image \"HTTP/1.1 200 OK\"\n",
      "2025-06-04 11:20:11.299 INFO: HTTP Request: GET http://127.0.0.1:35787/api/v1/metadata/f7763365-cc6e-4b5e-a43d-3cfe6843c596/primary/external/bl_det_image?include_data_sources=true \"HTTP/1.1 200 OK\"\n",
      "2025-06-04 11:20:11.313 INFO: HTTP Request: PUT http://127.0.0.1:35787/api/v1/data_source/f7763365-cc6e-4b5e-a43d-3cfe6843c596/primary/external/bl_det_image?data_source=162 \"HTTP/1.1 200 OK\"\n"
     ]
    },
    {
     "name": "stdout",
     "output_type": "stream",
     "text": [
      "|        16 | 11:20:11.3 |      3.124 |      3.150 |      1.430 |     -1.064 |    511.434 |      149.439 |      149.559 |       23.432 |       83.717 |\n"
     ]
    },
    {
     "name": "stderr",
     "output_type": "stream",
     "text": [
      "2025-06-04 11:20:11.321 INFO: HTTP Request: GET http://127.0.0.1:35787/api/v1/metadata//f7763365-cc6e-4b5e-a43d-3cfe6843c596/primary/internal \"HTTP/1.1 200 OK\"\n",
      "2025-06-04 11:20:11.329 INFO: HTTP Request: GET http://127.0.0.1:35787/api/v1/search/f7763365-cc6e-4b5e-a43d-3cfe6843c596/primary/internal?page%5Boffset%5D=0&fields=&sort= \"HTTP/1.1 200 OK\"\n",
      "2025-06-04 11:20:11.338 INFO: HTTP Request: GET http://127.0.0.1:35787/api/v1/metadata/f7763365-cc6e-4b5e-a43d-3cfe6843c596/primary/internal/events \"HTTP/1.1 200 OK\"\n",
      "2025-06-04 11:20:11.349 INFO: HTTP Request: PATCH http://127.0.0.1:35787/api/v1/table/partition/f7763365-cc6e-4b5e-a43d-3cfe6843c596/primary/internal/events?partition=0 \"HTTP/1.1 200 OK\"\n",
      "2025-06-04 11:20:11.387 INFO: HTTP Request: GET http://127.0.0.1:35787/api/v1/metadata/f7763365-cc6e-4b5e-a43d-3cfe6843c596/primary/external/bl_det_image \"HTTP/1.1 200 OK\"\n",
      "2025-06-04 11:20:11.396 INFO: HTTP Request: GET http://127.0.0.1:35787/api/v1/metadata/f7763365-cc6e-4b5e-a43d-3cfe6843c596/primary/external/bl_det_image?include_data_sources=true \"HTTP/1.1 200 OK\"\n",
      "2025-06-04 11:20:11.407 INFO: HTTP Request: PUT http://127.0.0.1:35787/api/v1/data_source/f7763365-cc6e-4b5e-a43d-3cfe6843c596/primary/external/bl_det_image?data_source=162 \"HTTP/1.1 200 OK\"\n"
     ]
    },
    {
     "name": "stdout",
     "output_type": "stream",
     "text": [
      "|        17 | 11:20:11.4 |     -0.477 |      3.596 |      4.708 |     -4.474 |     -1.163 |      197.496 |      156.628 |      371.520 |      269.234 |\n"
     ]
    },
    {
     "name": "stderr",
     "output_type": "stream",
     "text": [
      "2025-06-04 11:20:11.415 INFO: HTTP Request: GET http://127.0.0.1:35787/api/v1/metadata//f7763365-cc6e-4b5e-a43d-3cfe6843c596/primary/internal \"HTTP/1.1 200 OK\"\n",
      "2025-06-04 11:20:11.423 INFO: HTTP Request: GET http://127.0.0.1:35787/api/v1/search/f7763365-cc6e-4b5e-a43d-3cfe6843c596/primary/internal?page%5Boffset%5D=0&fields=&sort= \"HTTP/1.1 200 OK\"\n",
      "2025-06-04 11:20:11.432 INFO: HTTP Request: GET http://127.0.0.1:35787/api/v1/metadata/f7763365-cc6e-4b5e-a43d-3cfe6843c596/primary/internal/events \"HTTP/1.1 200 OK\"\n",
      "2025-06-04 11:20:11.442 INFO: HTTP Request: PATCH http://127.0.0.1:35787/api/v1/table/partition/f7763365-cc6e-4b5e-a43d-3cfe6843c596/primary/internal/events?partition=0 \"HTTP/1.1 200 OK\"\n",
      "2025-06-04 11:20:11.482 INFO: HTTP Request: GET http://127.0.0.1:35787/api/v1/metadata/f7763365-cc6e-4b5e-a43d-3cfe6843c596/primary/external/bl_det_image \"HTTP/1.1 200 OK\"\n",
      "2025-06-04 11:20:11.491 INFO: HTTP Request: GET http://127.0.0.1:35787/api/v1/metadata/f7763365-cc6e-4b5e-a43d-3cfe6843c596/primary/external/bl_det_image?include_data_sources=true \"HTTP/1.1 200 OK\"\n",
      "2025-06-04 11:20:11.502 INFO: HTTP Request: PUT http://127.0.0.1:35787/api/v1/data_source/f7763365-cc6e-4b5e-a43d-3cfe6843c596/primary/external/bl_det_image?data_source=162 \"HTTP/1.1 200 OK\"\n"
     ]
    },
    {
     "name": "stdout",
     "output_type": "stream",
     "text": [
      "|        18 | 11:20:11.5 |     -2.704 |      0.495 |      3.265 |     -3.366 |     -0.205 |      201.388 |      149.499 |      384.818 |      257.659 |\n"
     ]
    },
    {
     "name": "stderr",
     "output_type": "stream",
     "text": [
      "2025-06-04 11:20:11.510 INFO: HTTP Request: GET http://127.0.0.1:35787/api/v1/metadata//f7763365-cc6e-4b5e-a43d-3cfe6843c596/primary/internal \"HTTP/1.1 200 OK\"\n",
      "2025-06-04 11:20:11.518 INFO: HTTP Request: GET http://127.0.0.1:35787/api/v1/search/f7763365-cc6e-4b5e-a43d-3cfe6843c596/primary/internal?page%5Boffset%5D=0&fields=&sort= \"HTTP/1.1 200 OK\"\n",
      "2025-06-04 11:20:11.526 INFO: HTTP Request: GET http://127.0.0.1:35787/api/v1/metadata/f7763365-cc6e-4b5e-a43d-3cfe6843c596/primary/internal/events \"HTTP/1.1 200 OK\"\n",
      "2025-06-04 11:20:11.537 INFO: HTTP Request: PATCH http://127.0.0.1:35787/api/v1/table/partition/f7763365-cc6e-4b5e-a43d-3cfe6843c596/primary/internal/events?partition=0 \"HTTP/1.1 200 OK\"\n",
      "2025-06-04 11:20:11.578 INFO: HTTP Request: GET http://127.0.0.1:35787/api/v1/metadata/f7763365-cc6e-4b5e-a43d-3cfe6843c596/primary/external/bl_det_image \"HTTP/1.1 200 OK\"\n",
      "2025-06-04 11:20:11.588 INFO: HTTP Request: GET http://127.0.0.1:35787/api/v1/metadata/f7763365-cc6e-4b5e-a43d-3cfe6843c596/primary/external/bl_det_image?include_data_sources=true \"HTTP/1.1 200 OK\"\n",
      "2025-06-04 11:20:11.600 INFO: HTTP Request: PUT http://127.0.0.1:35787/api/v1/data_source/f7763365-cc6e-4b5e-a43d-3cfe6843c596/primary/external/bl_det_image?data_source=162 \"HTTP/1.1 200 OK\"\n"
     ]
    },
    {
     "name": "stdout",
     "output_type": "stream",
     "text": [
      "|        19 | 11:20:11.6 |     -1.614 |     -1.562 |      1.601 |     -2.560 |    305.639 |      122.568 |      150.815 |       41.366 |       99.950 |\n"
     ]
    },
    {
     "name": "stderr",
     "output_type": "stream",
     "text": [
      "2025-06-04 11:20:11.608 INFO: HTTP Request: GET http://127.0.0.1:35787/api/v1/metadata//f7763365-cc6e-4b5e-a43d-3cfe6843c596/primary/internal \"HTTP/1.1 200 OK\"\n",
      "2025-06-04 11:20:11.617 INFO: HTTP Request: GET http://127.0.0.1:35787/api/v1/search/f7763365-cc6e-4b5e-a43d-3cfe6843c596/primary/internal?page%5Boffset%5D=0&fields=&sort= \"HTTP/1.1 200 OK\"\n",
      "2025-06-04 11:20:11.625 INFO: HTTP Request: GET http://127.0.0.1:35787/api/v1/metadata/f7763365-cc6e-4b5e-a43d-3cfe6843c596/primary/internal/events \"HTTP/1.1 200 OK\"\n",
      "2025-06-04 11:20:11.636 INFO: HTTP Request: PATCH http://127.0.0.1:35787/api/v1/table/partition/f7763365-cc6e-4b5e-a43d-3cfe6843c596/primary/internal/events?partition=0 \"HTTP/1.1 200 OK\"\n",
      "2025-06-04 11:20:11.675 INFO: HTTP Request: GET http://127.0.0.1:35787/api/v1/metadata/f7763365-cc6e-4b5e-a43d-3cfe6843c596/primary/external/bl_det_image \"HTTP/1.1 200 OK\"\n",
      "2025-06-04 11:20:11.684 INFO: HTTP Request: GET http://127.0.0.1:35787/api/v1/metadata/f7763365-cc6e-4b5e-a43d-3cfe6843c596/primary/external/bl_det_image?include_data_sources=true \"HTTP/1.1 200 OK\"\n",
      "2025-06-04 11:20:11.695 INFO: HTTP Request: PUT http://127.0.0.1:35787/api/v1/data_source/f7763365-cc6e-4b5e-a43d-3cfe6843c596/primary/external/bl_det_image?data_source=162 \"HTTP/1.1 200 OK\"\n"
     ]
    },
    {
     "name": "stdout",
     "output_type": "stream",
     "text": [
      "|        20 | 11:20:11.6 |      0.272 |      0.001 |      0.607 |     -2.484 |    462.381 |      140.381 |      144.951 |       71.713 |       34.975 |\n"
     ]
    },
    {
     "name": "stderr",
     "output_type": "stream",
     "text": [
      "2025-06-04 11:20:11.703 INFO: HTTP Request: GET http://127.0.0.1:35787/api/v1/metadata//f7763365-cc6e-4b5e-a43d-3cfe6843c596/primary/internal \"HTTP/1.1 200 OK\"\n",
      "2025-06-04 11:20:11.711 INFO: HTTP Request: GET http://127.0.0.1:35787/api/v1/search/f7763365-cc6e-4b5e-a43d-3cfe6843c596/primary/internal?page%5Boffset%5D=0&fields=&sort= \"HTTP/1.1 200 OK\"\n",
      "2025-06-04 11:20:11.719 INFO: HTTP Request: GET http://127.0.0.1:35787/api/v1/metadata/f7763365-cc6e-4b5e-a43d-3cfe6843c596/primary/internal/events \"HTTP/1.1 200 OK\"\n",
      "2025-06-04 11:20:11.730 INFO: HTTP Request: PATCH http://127.0.0.1:35787/api/v1/table/partition/f7763365-cc6e-4b5e-a43d-3cfe6843c596/primary/internal/events?partition=0 \"HTTP/1.1 200 OK\"\n",
      "2025-06-04 11:20:11.767 INFO: HTTP Request: GET http://127.0.0.1:35787/api/v1/metadata/f7763365-cc6e-4b5e-a43d-3cfe6843c596/primary/external/bl_det_image \"HTTP/1.1 200 OK\"\n",
      "2025-06-04 11:20:11.776 INFO: HTTP Request: GET http://127.0.0.1:35787/api/v1/metadata/f7763365-cc6e-4b5e-a43d-3cfe6843c596/primary/external/bl_det_image?include_data_sources=true \"HTTP/1.1 200 OK\"\n",
      "2025-06-04 11:20:11.787 INFO: HTTP Request: PUT http://127.0.0.1:35787/api/v1/data_source/f7763365-cc6e-4b5e-a43d-3cfe6843c596/primary/external/bl_det_image?data_source=162 \"HTTP/1.1 200 OK\"\n"
     ]
    },
    {
     "name": "stdout",
     "output_type": "stream",
     "text": [
      "|        21 | 11:20:11.7 |      4.535 |      1.150 |     -0.838 |     -4.760 |    186.831 |      152.972 |      105.095 |       95.523 |       54.864 |\n"
     ]
    },
    {
     "name": "stderr",
     "output_type": "stream",
     "text": [
      "2025-06-04 11:20:11.795 INFO: HTTP Request: GET http://127.0.0.1:35787/api/v1/metadata//f7763365-cc6e-4b5e-a43d-3cfe6843c596/primary/internal \"HTTP/1.1 200 OK\"\n",
      "2025-06-04 11:20:11.803 INFO: HTTP Request: GET http://127.0.0.1:35787/api/v1/search/f7763365-cc6e-4b5e-a43d-3cfe6843c596/primary/internal?page%5Boffset%5D=0&fields=&sort= \"HTTP/1.1 200 OK\"\n",
      "2025-06-04 11:20:11.811 INFO: HTTP Request: GET http://127.0.0.1:35787/api/v1/metadata/f7763365-cc6e-4b5e-a43d-3cfe6843c596/primary/internal/events \"HTTP/1.1 200 OK\"\n",
      "2025-06-04 11:20:11.822 INFO: HTTP Request: PATCH http://127.0.0.1:35787/api/v1/table/partition/f7763365-cc6e-4b5e-a43d-3cfe6843c596/primary/internal/events?partition=0 \"HTTP/1.1 200 OK\"\n",
      "2025-06-04 11:20:11.866 INFO: HTTP Request: GET http://127.0.0.1:35787/api/v1/metadata/f7763365-cc6e-4b5e-a43d-3cfe6843c596/primary/external/bl_det_image \"HTTP/1.1 200 OK\"\n",
      "2025-06-04 11:20:11.876 INFO: HTTP Request: GET http://127.0.0.1:35787/api/v1/metadata/f7763365-cc6e-4b5e-a43d-3cfe6843c596/primary/external/bl_det_image?include_data_sources=true \"HTTP/1.1 200 OK\"\n",
      "2025-06-04 11:20:11.887 INFO: HTTP Request: PUT http://127.0.0.1:35787/api/v1/data_source/f7763365-cc6e-4b5e-a43d-3cfe6843c596/primary/external/bl_det_image?data_source=162 \"HTTP/1.1 200 OK\"\n"
     ]
    },
    {
     "name": "stdout",
     "output_type": "stream",
     "text": [
      "|        22 | 11:20:11.8 |      2.387 |      3.038 |     -2.437 |     -3.650 |    162.402 |      181.895 |      158.631 |      146.871 |       60.328 |\n"
     ]
    },
    {
     "name": "stderr",
     "output_type": "stream",
     "text": [
      "2025-06-04 11:20:11.894 INFO: HTTP Request: GET http://127.0.0.1:35787/api/v1/metadata//f7763365-cc6e-4b5e-a43d-3cfe6843c596/primary/internal \"HTTP/1.1 200 OK\"\n",
      "2025-06-04 11:20:11.903 INFO: HTTP Request: GET http://127.0.0.1:35787/api/v1/search/f7763365-cc6e-4b5e-a43d-3cfe6843c596/primary/internal?page%5Boffset%5D=0&fields=&sort= \"HTTP/1.1 200 OK\"\n",
      "2025-06-04 11:20:11.911 INFO: HTTP Request: GET http://127.0.0.1:35787/api/v1/metadata/f7763365-cc6e-4b5e-a43d-3cfe6843c596/primary/internal/events \"HTTP/1.1 200 OK\"\n",
      "2025-06-04 11:20:11.922 INFO: HTTP Request: PATCH http://127.0.0.1:35787/api/v1/table/partition/f7763365-cc6e-4b5e-a43d-3cfe6843c596/primary/internal/events?partition=0 \"HTTP/1.1 200 OK\"\n",
      "2025-06-04 11:20:11.962 INFO: HTTP Request: GET http://127.0.0.1:35787/api/v1/metadata/f7763365-cc6e-4b5e-a43d-3cfe6843c596/primary/external/bl_det_image \"HTTP/1.1 200 OK\"\n",
      "2025-06-04 11:20:11.971 INFO: HTTP Request: GET http://127.0.0.1:35787/api/v1/metadata/f7763365-cc6e-4b5e-a43d-3cfe6843c596/primary/external/bl_det_image?include_data_sources=true \"HTTP/1.1 200 OK\"\n",
      "2025-06-04 11:20:11.982 INFO: HTTP Request: PUT http://127.0.0.1:35787/api/v1/data_source/f7763365-cc6e-4b5e-a43d-3cfe6843c596/primary/external/bl_det_image?data_source=162 \"HTTP/1.1 200 OK\"\n"
     ]
    },
    {
     "name": "stdout",
     "output_type": "stream",
     "text": [
      "|        23 | 11:20:11.9 |      0.957 |     -2.118 |     -4.301 |     -4.316 |     63.826 |      198.162 |      105.044 |      171.363 |       52.797 |\n"
     ]
    },
    {
     "name": "stderr",
     "output_type": "stream",
     "text": [
      "2025-06-04 11:20:11.989 INFO: HTTP Request: GET http://127.0.0.1:35787/api/v1/metadata//f7763365-cc6e-4b5e-a43d-3cfe6843c596/primary/internal \"HTTP/1.1 200 OK\"\n",
      "2025-06-04 11:20:11.997 INFO: HTTP Request: GET http://127.0.0.1:35787/api/v1/search/f7763365-cc6e-4b5e-a43d-3cfe6843c596/primary/internal?page%5Boffset%5D=0&fields=&sort= \"HTTP/1.1 200 OK\"\n",
      "2025-06-04 11:20:12.005 INFO: HTTP Request: GET http://127.0.0.1:35787/api/v1/metadata/f7763365-cc6e-4b5e-a43d-3cfe6843c596/primary/internal/events \"HTTP/1.1 200 OK\"\n",
      "2025-06-04 11:20:12.016 INFO: HTTP Request: PATCH http://127.0.0.1:35787/api/v1/table/partition/f7763365-cc6e-4b5e-a43d-3cfe6843c596/primary/internal/events?partition=0 \"HTTP/1.1 200 OK\"\n",
      "2025-06-04 11:20:12.054 INFO: HTTP Request: GET http://127.0.0.1:35787/api/v1/metadata/f7763365-cc6e-4b5e-a43d-3cfe6843c596/primary/external/bl_det_image \"HTTP/1.1 200 OK\"\n",
      "2025-06-04 11:20:12.063 INFO: HTTP Request: GET http://127.0.0.1:35787/api/v1/metadata/f7763365-cc6e-4b5e-a43d-3cfe6843c596/primary/external/bl_det_image?include_data_sources=true \"HTTP/1.1 200 OK\"\n",
      "2025-06-04 11:20:12.074 INFO: HTTP Request: PUT http://127.0.0.1:35787/api/v1/data_source/f7763365-cc6e-4b5e-a43d-3cfe6843c596/primary/external/bl_det_image?data_source=162 \"HTTP/1.1 200 OK\"\n"
     ]
    },
    {
     "name": "stdout",
     "output_type": "stream",
     "text": [
      "|        24 | 11:20:12.0 |      3.181 |     -4.008 |     -2.697 |     -2.923 |      2.446 |      193.431 |       77.526 |      154.587 |        5.911 |\n"
     ]
    },
    {
     "name": "stderr",
     "output_type": "stream",
     "text": [
      "2025-06-04 11:20:12.081 INFO: HTTP Request: GET http://127.0.0.1:35787/api/v1/metadata//f7763365-cc6e-4b5e-a43d-3cfe6843c596/primary/internal \"HTTP/1.1 200 OK\"\n",
      "2025-06-04 11:20:12.089 INFO: HTTP Request: GET http://127.0.0.1:35787/api/v1/search/f7763365-cc6e-4b5e-a43d-3cfe6843c596/primary/internal?page%5Boffset%5D=0&fields=&sort= \"HTTP/1.1 200 OK\"\n",
      "2025-06-04 11:20:12.097 INFO: HTTP Request: GET http://127.0.0.1:35787/api/v1/metadata/f7763365-cc6e-4b5e-a43d-3cfe6843c596/primary/internal/events \"HTTP/1.1 200 OK\"\n",
      "2025-06-04 11:20:12.108 INFO: HTTP Request: PATCH http://127.0.0.1:35787/api/v1/table/partition/f7763365-cc6e-4b5e-a43d-3cfe6843c596/primary/internal/events?partition=0 \"HTTP/1.1 200 OK\"\n",
      "2025-06-04 11:20:12.152 INFO: HTTP Request: GET http://127.0.0.1:35787/api/v1/metadata/f7763365-cc6e-4b5e-a43d-3cfe6843c596/primary/external/bl_det_image \"HTTP/1.1 200 OK\"\n",
      "2025-06-04 11:20:12.161 INFO: HTTP Request: GET http://127.0.0.1:35787/api/v1/metadata/f7763365-cc6e-4b5e-a43d-3cfe6843c596/primary/external/bl_det_image?include_data_sources=true \"HTTP/1.1 200 OK\"\n",
      "2025-06-04 11:20:12.173 INFO: HTTP Request: PUT http://127.0.0.1:35787/api/v1/data_source/f7763365-cc6e-4b5e-a43d-3cfe6843c596/primary/external/bl_det_image?data_source=162 \"HTTP/1.1 200 OK\"\n"
     ]
    },
    {
     "name": "stdout",
     "output_type": "stream",
     "text": [
      "|        25 | 11:20:12.1 |     -0.732 |     -4.148 |     -0.979 |     -1.384 |    242.140 |      192.044 |      123.795 |       85.319 |       87.442 |\n"
     ]
    },
    {
     "name": "stderr",
     "output_type": "stream",
     "text": [
      "2025-06-04 11:20:12.181 INFO: HTTP Request: GET http://127.0.0.1:35787/api/v1/metadata//f7763365-cc6e-4b5e-a43d-3cfe6843c596/primary/internal \"HTTP/1.1 200 OK\"\n",
      "2025-06-04 11:20:12.189 INFO: HTTP Request: GET http://127.0.0.1:35787/api/v1/search/f7763365-cc6e-4b5e-a43d-3cfe6843c596/primary/internal?page%5Boffset%5D=0&fields=&sort= \"HTTP/1.1 200 OK\"\n",
      "2025-06-04 11:20:12.198 INFO: HTTP Request: GET http://127.0.0.1:35787/api/v1/metadata/f7763365-cc6e-4b5e-a43d-3cfe6843c596/primary/internal/events \"HTTP/1.1 200 OK\"\n",
      "2025-06-04 11:20:12.208 INFO: HTTP Request: PATCH http://127.0.0.1:35787/api/v1/table/partition/f7763365-cc6e-4b5e-a43d-3cfe6843c596/primary/internal/events?partition=0 \"HTTP/1.1 200 OK\"\n",
      "2025-06-04 11:20:12.249 INFO: HTTP Request: GET http://127.0.0.1:35787/api/v1/metadata/f7763365-cc6e-4b5e-a43d-3cfe6843c596/primary/external/bl_det_image \"HTTP/1.1 200 OK\"\n",
      "2025-06-04 11:20:12.257 INFO: HTTP Request: GET http://127.0.0.1:35787/api/v1/metadata/f7763365-cc6e-4b5e-a43d-3cfe6843c596/primary/external/bl_det_image?include_data_sources=true \"HTTP/1.1 200 OK\"\n",
      "2025-06-04 11:20:12.268 INFO: HTTP Request: PUT http://127.0.0.1:35787/api/v1/data_source/f7763365-cc6e-4b5e-a43d-3cfe6843c596/primary/external/bl_det_image?data_source=162 \"HTTP/1.1 200 OK\"\n"
     ]
    },
    {
     "name": "stdout",
     "output_type": "stream",
     "text": [
      "|        26 | 11:20:12.2 |     -3.764 |     -4.662 |      0.154 |     -3.951 |     29.430 |      134.430 |      154.689 |       63.449 |      101.607 |\n"
     ]
    },
    {
     "name": "stderr",
     "output_type": "stream",
     "text": [
      "2025-06-04 11:20:12.276 INFO: HTTP Request: GET http://127.0.0.1:35787/api/v1/metadata//f7763365-cc6e-4b5e-a43d-3cfe6843c596/primary/internal \"HTTP/1.1 200 OK\"\n",
      "2025-06-04 11:20:12.284 INFO: HTTP Request: GET http://127.0.0.1:35787/api/v1/search/f7763365-cc6e-4b5e-a43d-3cfe6843c596/primary/internal?page%5Boffset%5D=0&fields=&sort= \"HTTP/1.1 200 OK\"\n",
      "2025-06-04 11:20:12.292 INFO: HTTP Request: GET http://127.0.0.1:35787/api/v1/metadata/f7763365-cc6e-4b5e-a43d-3cfe6843c596/primary/internal/events \"HTTP/1.1 200 OK\"\n",
      "2025-06-04 11:20:12.303 INFO: HTTP Request: PATCH http://127.0.0.1:35787/api/v1/table/partition/f7763365-cc6e-4b5e-a43d-3cfe6843c596/primary/internal/events?partition=0 \"HTTP/1.1 200 OK\"\n",
      "2025-06-04 11:20:12.345 INFO: HTTP Request: GET http://127.0.0.1:35787/api/v1/metadata/f7763365-cc6e-4b5e-a43d-3cfe6843c596/primary/external/bl_det_image \"HTTP/1.1 200 OK\"\n",
      "2025-06-04 11:20:12.354 INFO: HTTP Request: GET http://127.0.0.1:35787/api/v1/metadata/f7763365-cc6e-4b5e-a43d-3cfe6843c596/primary/external/bl_det_image?include_data_sources=true \"HTTP/1.1 200 OK\"\n",
      "2025-06-04 11:20:12.365 INFO: HTTP Request: PUT http://127.0.0.1:35787/api/v1/data_source/f7763365-cc6e-4b5e-a43d-3cfe6843c596/primary/external/bl_det_image?data_source=162 \"HTTP/1.1 200 OK\"\n"
     ]
    },
    {
     "name": "stdout",
     "output_type": "stream",
     "text": [
      "|        27 | 11:20:12.3 |     -3.582 |     -2.289 |     -1.953 |     -0.303 |    151.421 |      230.368 |      159.125 |       85.116 |      113.427 |\n"
     ]
    },
    {
     "name": "stderr",
     "output_type": "stream",
     "text": [
      "2025-06-04 11:20:12.373 INFO: HTTP Request: GET http://127.0.0.1:35787/api/v1/metadata//f7763365-cc6e-4b5e-a43d-3cfe6843c596/primary/internal \"HTTP/1.1 200 OK\"\n",
      "2025-06-04 11:20:12.381 INFO: HTTP Request: GET http://127.0.0.1:35787/api/v1/search/f7763365-cc6e-4b5e-a43d-3cfe6843c596/primary/internal?page%5Boffset%5D=0&fields=&sort= \"HTTP/1.1 200 OK\"\n",
      "2025-06-04 11:20:12.389 INFO: HTTP Request: GET http://127.0.0.1:35787/api/v1/metadata/f7763365-cc6e-4b5e-a43d-3cfe6843c596/primary/internal/events \"HTTP/1.1 200 OK\"\n",
      "2025-06-04 11:20:12.400 INFO: HTTP Request: PATCH http://127.0.0.1:35787/api/v1/table/partition/f7763365-cc6e-4b5e-a43d-3cfe6843c596/primary/internal/events?partition=0 \"HTTP/1.1 200 OK\"\n",
      "2025-06-04 11:20:12.445 INFO: HTTP Request: GET http://127.0.0.1:35787/api/v1/metadata/f7763365-cc6e-4b5e-a43d-3cfe6843c596/primary/external/bl_det_image \"HTTP/1.1 200 OK\"\n",
      "2025-06-04 11:20:12.456 INFO: HTTP Request: GET http://127.0.0.1:35787/api/v1/metadata/f7763365-cc6e-4b5e-a43d-3cfe6843c596/primary/external/bl_det_image?include_data_sources=true \"HTTP/1.1 200 OK\"\n",
      "2025-06-04 11:20:12.470 INFO: HTTP Request: PUT http://127.0.0.1:35787/api/v1/data_source/f7763365-cc6e-4b5e-a43d-3cfe6843c596/primary/external/bl_det_image?data_source=162 \"HTTP/1.1 200 OK\"\n"
     ]
    },
    {
     "name": "stdout",
     "output_type": "stream",
     "text": [
      "|        28 | 11:20:12.4 |     -3.063 |     -3.285 |     -4.540 |      0.442 |     41.337 |      265.868 |      140.078 |       58.077 |      112.966 |\n"
     ]
    },
    {
     "name": "stderr",
     "output_type": "stream",
     "text": [
      "2025-06-04 11:20:12.478 INFO: HTTP Request: GET http://127.0.0.1:35787/api/v1/metadata//f7763365-cc6e-4b5e-a43d-3cfe6843c596/primary/internal \"HTTP/1.1 200 OK\"\n",
      "2025-06-04 11:20:12.487 INFO: HTTP Request: GET http://127.0.0.1:35787/api/v1/search/f7763365-cc6e-4b5e-a43d-3cfe6843c596/primary/internal?page%5Boffset%5D=0&fields=&sort= \"HTTP/1.1 200 OK\"\n",
      "2025-06-04 11:20:12.498 INFO: HTTP Request: GET http://127.0.0.1:35787/api/v1/metadata/f7763365-cc6e-4b5e-a43d-3cfe6843c596/primary/internal/events \"HTTP/1.1 200 OK\"\n",
      "2025-06-04 11:20:12.510 INFO: HTTP Request: PATCH http://127.0.0.1:35787/api/v1/table/partition/f7763365-cc6e-4b5e-a43d-3cfe6843c596/primary/internal/events?partition=0 \"HTTP/1.1 200 OK\"\n",
      "2025-06-04 11:20:12.558 INFO: HTTP Request: GET http://127.0.0.1:35787/api/v1/metadata/f7763365-cc6e-4b5e-a43d-3cfe6843c596/primary/external/bl_det_image \"HTTP/1.1 200 OK\"\n",
      "2025-06-04 11:20:12.567 INFO: HTTP Request: GET http://127.0.0.1:35787/api/v1/metadata/f7763365-cc6e-4b5e-a43d-3cfe6843c596/primary/external/bl_det_image?include_data_sources=true \"HTTP/1.1 200 OK\"\n",
      "2025-06-04 11:20:12.579 INFO: HTTP Request: PUT http://127.0.0.1:35787/api/v1/data_source/f7763365-cc6e-4b5e-a43d-3cfe6843c596/primary/external/bl_det_image?data_source=162 \"HTTP/1.1 200 OK\"\n"
     ]
    },
    {
     "name": "stdout",
     "output_type": "stream",
     "text": [
      "|        29 | 11:20:12.5 |      0.534 |     -3.466 |     -1.569 |      3.865 |     95.025 |      292.166 |      107.346 |       12.113 |       59.185 |\n"
     ]
    },
    {
     "name": "stderr",
     "output_type": "stream",
     "text": [
      "2025-06-04 11:20:12.587 INFO: HTTP Request: GET http://127.0.0.1:35787/api/v1/metadata//f7763365-cc6e-4b5e-a43d-3cfe6843c596/primary/internal \"HTTP/1.1 200 OK\"\n",
      "2025-06-04 11:20:12.596 INFO: HTTP Request: GET http://127.0.0.1:35787/api/v1/search/f7763365-cc6e-4b5e-a43d-3cfe6843c596/primary/internal?page%5Boffset%5D=0&fields=&sort= \"HTTP/1.1 200 OK\"\n",
      "2025-06-04 11:20:12.606 INFO: HTTP Request: GET http://127.0.0.1:35787/api/v1/metadata/f7763365-cc6e-4b5e-a43d-3cfe6843c596/primary/internal/events \"HTTP/1.1 200 OK\"\n",
      "2025-06-04 11:20:12.617 INFO: HTTP Request: PATCH http://127.0.0.1:35787/api/v1/table/partition/f7763365-cc6e-4b5e-a43d-3cfe6843c596/primary/internal/events?partition=0 \"HTTP/1.1 200 OK\"\n",
      "2025-06-04 11:20:12.664 INFO: HTTP Request: GET http://127.0.0.1:35787/api/v1/metadata/f7763365-cc6e-4b5e-a43d-3cfe6843c596/primary/external/bl_det_image \"HTTP/1.1 200 OK\"\n",
      "2025-06-04 11:20:12.674 INFO: HTTP Request: GET http://127.0.0.1:35787/api/v1/metadata/f7763365-cc6e-4b5e-a43d-3cfe6843c596/primary/external/bl_det_image?include_data_sources=true \"HTTP/1.1 200 OK\"\n",
      "2025-06-04 11:20:12.687 INFO: HTTP Request: PUT http://127.0.0.1:35787/api/v1/data_source/f7763365-cc6e-4b5e-a43d-3cfe6843c596/primary/external/bl_det_image?data_source=162 \"HTTP/1.1 200 OK\"\n"
     ]
    },
    {
     "name": "stdout",
     "output_type": "stream",
     "text": [
      "|        30 | 11:20:12.6 |     -0.290 |     -0.184 |     -3.717 |      1.870 |    192.339 |      282.925 |      150.656 |       28.638 |       47.724 |\n"
     ]
    },
    {
     "name": "stderr",
     "output_type": "stream",
     "text": [
      "2025-06-04 11:20:12.695 INFO: HTTP Request: GET http://127.0.0.1:35787/api/v1/metadata//f7763365-cc6e-4b5e-a43d-3cfe6843c596/primary/internal \"HTTP/1.1 200 OK\"\n",
      "2025-06-04 11:20:12.706 INFO: HTTP Request: GET http://127.0.0.1:35787/api/v1/search/f7763365-cc6e-4b5e-a43d-3cfe6843c596/primary/internal?page%5Boffset%5D=0&fields=&sort= \"HTTP/1.1 200 OK\"\n",
      "2025-06-04 11:20:12.716 INFO: HTTP Request: GET http://127.0.0.1:35787/api/v1/metadata/f7763365-cc6e-4b5e-a43d-3cfe6843c596/primary/internal/events \"HTTP/1.1 200 OK\"\n",
      "2025-06-04 11:20:12.728 INFO: HTTP Request: PATCH http://127.0.0.1:35787/api/v1/table/partition/f7763365-cc6e-4b5e-a43d-3cfe6843c596/primary/internal/events?partition=0 \"HTTP/1.1 200 OK\"\n",
      "2025-06-04 11:20:12.778 INFO: HTTP Request: GET http://127.0.0.1:35787/api/v1/metadata/f7763365-cc6e-4b5e-a43d-3cfe6843c596/primary/external/bl_det_image \"HTTP/1.1 200 OK\"\n",
      "2025-06-04 11:20:12.787 INFO: HTTP Request: GET http://127.0.0.1:35787/api/v1/metadata/f7763365-cc6e-4b5e-a43d-3cfe6843c596/primary/external/bl_det_image?include_data_sources=true \"HTTP/1.1 200 OK\"\n",
      "2025-06-04 11:20:12.800 INFO: HTTP Request: PUT http://127.0.0.1:35787/api/v1/data_source/f7763365-cc6e-4b5e-a43d-3cfe6843c596/primary/external/bl_det_image?data_source=162 \"HTTP/1.1 200 OK\"\n"
     ]
    },
    {
     "name": "stdout",
     "output_type": "stream",
     "text": [
      "|        31 | 11:20:12.8 |      1.594 |      1.378 |     -4.700 |      3.203 |     -2.195 |      344.212 |      193.635 |      101.442 |      112.570 |\n"
     ]
    },
    {
     "name": "stderr",
     "output_type": "stream",
     "text": [
      "2025-06-04 11:20:12.808 INFO: HTTP Request: GET http://127.0.0.1:35787/api/v1/metadata//f7763365-cc6e-4b5e-a43d-3cfe6843c596/primary/internal \"HTTP/1.1 200 OK\"\n",
      "2025-06-04 11:20:12.817 INFO: HTTP Request: GET http://127.0.0.1:35787/api/v1/search/f7763365-cc6e-4b5e-a43d-3cfe6843c596/primary/internal?page%5Boffset%5D=0&fields=&sort= \"HTTP/1.1 200 OK\"\n",
      "2025-06-04 11:20:12.828 INFO: HTTP Request: GET http://127.0.0.1:35787/api/v1/metadata/f7763365-cc6e-4b5e-a43d-3cfe6843c596/primary/internal/events \"HTTP/1.1 200 OK\"\n",
      "2025-06-04 11:20:12.841 INFO: HTTP Request: PATCH http://127.0.0.1:35787/api/v1/table/partition/f7763365-cc6e-4b5e-a43d-3cfe6843c596/primary/internal/events?partition=0 \"HTTP/1.1 200 OK\"\n",
      "2025-06-04 11:20:12.889 INFO: HTTP Request: GET http://127.0.0.1:35787/api/v1/metadata/f7763365-cc6e-4b5e-a43d-3cfe6843c596/primary/external/bl_det_image \"HTTP/1.1 200 OK\"\n",
      "2025-06-04 11:20:12.899 INFO: HTTP Request: GET http://127.0.0.1:35787/api/v1/metadata/f7763365-cc6e-4b5e-a43d-3cfe6843c596/primary/external/bl_det_image?include_data_sources=true \"HTTP/1.1 200 OK\"\n",
      "2025-06-04 11:20:12.912 INFO: HTTP Request: PUT http://127.0.0.1:35787/api/v1/data_source/f7763365-cc6e-4b5e-a43d-3cfe6843c596/primary/external/bl_det_image?data_source=162 \"HTTP/1.1 200 OK\"\n"
     ]
    },
    {
     "name": "stdout",
     "output_type": "stream",
     "text": [
      "|        32 | 11:20:12.9 |      3.819 |      4.528 |     -3.252 |      4.583 |     -4.436 |      199.405 |      155.944 |      381.018 |      210.639 |\n"
     ]
    },
    {
     "name": "stderr",
     "output_type": "stream",
     "text": [
      "2025-06-04 11:20:12.921 INFO: HTTP Request: GET http://127.0.0.1:35787/api/v1/metadata//f7763365-cc6e-4b5e-a43d-3cfe6843c596/primary/internal \"HTTP/1.1 200 OK\"\n",
      "2025-06-04 11:20:12.931 INFO: HTTP Request: GET http://127.0.0.1:35787/api/v1/search/f7763365-cc6e-4b5e-a43d-3cfe6843c596/primary/internal?page%5Boffset%5D=0&fields=&sort= \"HTTP/1.1 200 OK\"\n",
      "2025-06-04 11:20:12.941 INFO: HTTP Request: GET http://127.0.0.1:35787/api/v1/metadata/f7763365-cc6e-4b5e-a43d-3cfe6843c596/primary/internal/events \"HTTP/1.1 200 OK\"\n",
      "2025-06-04 11:20:12.953 INFO: HTTP Request: PATCH http://127.0.0.1:35787/api/v1/table/partition/f7763365-cc6e-4b5e-a43d-3cfe6843c596/primary/internal/events?partition=0 \"HTTP/1.1 200 OK\"\n"
     ]
    },
    {
     "name": "stdout",
     "output_type": "stream",
     "text": [
      "+-----------+------------+------------+------------+------------+------------+------------+--------------+--------------+--------------+--------------+\n",
      "generator list_scan ['f7763365'] (scan num: 1)\n",
      "\n",
      "\n",
      "\n"
     ]
    },
    {
     "name": "stderr",
     "output_type": "stream",
     "text": [
      "2025-06-04 11:20:13.067 INFO: HTTP Request: PATCH http://127.0.0.1:35787/api/v1/metadata//f7763365-cc6e-4b5e-a43d-3cfe6843c596 \"HTTP/1.1 200 OK\"\n",
      "2025-06-04 11:20:13.080 INFO: HTTP Request: GET http://127.0.0.1:35787/api/v1/metadata/f7763365-cc6e-4b5e-a43d-3cfe6843c596 \"HTTP/1.1 200 OK\"\n",
      "2025-06-04 11:20:13.092 INFO: HTTP Request: GET http://127.0.0.1:35787/api/v1/metadata/f7763365-cc6e-4b5e-a43d-3cfe6843c596/primary/internal/events \"HTTP/1.1 200 OK\"\n",
      "2025-06-04 11:20:13.125 INFO: HTTP Request: GET http://127.0.0.1:35787/api/v1/metadata/f7763365-cc6e-4b5e-a43d-3cfe6843c596 \"HTTP/1.1 200 OK\"\n",
      "2025-06-04 11:20:13.140 INFO: HTTP Request: GET http://127.0.0.1:35787/api/v1/metadata/f7763365-cc6e-4b5e-a43d-3cfe6843c596/primary/external/bl_det_image \"HTTP/1.1 200 OK\"\n"
     ]
    },
    {
     "name": "stdout",
     "output_type": "stream",
     "text": [
      "A 'deferred pause' has been requested. The RunEngine will pause at the next checkpoint. To pause immediately, hit Ctrl+C again in the next 10 seconds.\n"
     ]
    }
   ],
   "source": [
    "from blop import DOF, Agent, Objective\n",
    "from blop.digestion import beam_stats_digestion\n",
    "\n",
    "dofs = [\n",
    "    DOF(description=\"KBV downstream\", device=beamline.kbv_dsv, search_domain=(-5.0, 5.0)),\n",
    "    DOF(description=\"KBV upstream\", device=beamline.kbv_usv, search_domain=(-5.0, 5.0)),\n",
    "    DOF(description=\"KBH downstream\", device=beamline.kbh_dsh, search_domain=(-5.0, 5.0)),\n",
    "    DOF(description=\"KBH upstream\", device=beamline.kbh_ush, search_domain=(-5.0, 5.0)),\n",
    "]\n",
    "\n",
    "objectives = [\n",
    "    Objective(name=\"bl_det_sum\", target=\"max\", transform=\"log\", trust_domain=(200, np.inf)),\n",
    "    Objective(name=\"bl_det_wid_x\", target=\"min\", transform=\"log\", latent_groups=[(\"bl_kbh_dsh\", \"bl_kbh_ush\")]),\n",
    "    Objective(name=\"bl_det_wid_y\", target=\"min\", transform=\"log\", latent_groups=[(\"bl_kbv_dsv\", \"bl_kbv_usv\")]),\n",
    "]\n",
    "\n",
    "agent = Agent(\n",
    "    dofs=dofs,\n",
    "    objectives=objectives,\n",
    "    detectors=[beamline.det],\n",
    "    digestion=beam_stats_digestion,\n",
    "    digestion_kwargs={\"image_key\": \"bl_det_image\"},\n",
    "    verbose=True,\n",
    "    tiled=tiled,\n",
    "    tolerate_acquisition_errors=False,\n",
    "    enforce_all_objectives_valid=True,\n",
    "    train_every=3,\n",
    ")\n",
    "(uid,) = RE(agent.learn(\"qr\", n=32))"
   ]
  },
  {
   "cell_type": "code",
   "execution_count": null,
   "id": "4",
   "metadata": {},
   "outputs": [],
   "source": [
    "RE(agent.learn(\"qei\", n=4, iterations=4))"
   ]
  },
  {
   "cell_type": "code",
   "execution_count": null,
   "id": "5",
   "metadata": {},
   "outputs": [],
   "source": [
    "plt.imshow(agent.best.bl_det_image)"
   ]
  },
  {
   "cell_type": "code",
   "execution_count": null,
   "id": "6",
   "metadata": {},
   "outputs": [],
   "source": [
    "agent.plot_objectives(axes=(2, 3))"
   ]
  },
  {
   "cell_type": "code",
   "execution_count": null,
   "id": "7",
   "metadata": {},
   "outputs": [],
   "source": [
    "tiled_server.close()"
   ]
  }
 ],
 "metadata": {
  "kernelspec": {
   "display_name": "test_tiled_new",
   "language": "python",
   "name": "python3"
  },
  "language_info": {
   "codemirror_mode": {
    "name": "ipython",
    "version": 3
   },
   "file_extension": ".py",
   "mimetype": "text/x-python",
   "name": "python",
   "nbconvert_exporter": "python",
   "pygments_lexer": "ipython3",
   "version": "3.11.11"
  }
 },
 "nbformat": 4,
 "nbformat_minor": 5
}
