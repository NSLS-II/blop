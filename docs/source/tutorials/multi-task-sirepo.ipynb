{
 "cells": [
  {
   "attachments": {},
   "cell_type": "markdown",
   "id": "e7b5e13a-c059-441d-8d4f-fff080d52054",
   "metadata": {},
   "source": [
    "# Multi-task optimization of KB mirrors\n",
    "\n",
    "Often, we want to optimize multiple aspects of a system; in this real-world example aligning the Kirkpatrick-Baez mirrors at the TES beamline's endstation, we care about the horizontal and vertical beam size, as well as the flux. \n",
    "\n",
    "We could try to model these as a single task by combining them into a single number (i.e., optimization the beam density as flux divided by area), but our model then loses all information about how different inputs affect different outputs. We instead give the optimizer multiple \"tasks\", and then direct it based on its prediction of those tasks. "
   ]
  },
  {
   "cell_type": "code",
   "execution_count": null,
   "id": "fa8a6989",
   "metadata": {
    "tags": []
   },
   "outputs": [],
   "source": [
    "%run -i ../../../examples/prepare_bluesky.py\n",
    "%run -i ../../../examples/prepare_tes_shadow.py\n",
    "\n",
    "kb_dofs = [kbv.x_rot, kbh.x_rot]\n",
    "kb_bounds = np.array([[-0.10, +0.10], [-0.10, +0.10]]) "
   ]
  },
  {
   "cell_type": "code",
   "execution_count": null,
   "id": "071a829f-a390-40dc-9d5b-ae75702e119e",
   "metadata": {
    "tags": []
   },
   "outputs": [],
   "source": [
    "\n",
    "from bloptools.bayesian import Agent\n",
    "from bloptools.experiments.sirepo.tes import digestion\n",
    "from bloptools.tasks import Task\n",
    "\n",
    "beam_flux_task = Task(key=\"flux\", kind=\"max\", transform=lambda x: np.log(x))\n",
    "beam_width_task = Task(key=\"x_width\", kind=\"min\", transform=lambda x: np.log(x))\n",
    "beam_height_task = Task(key=\"y_width\", kind=\"min\", transform=lambda x: np.log(x))\n",
    "\n",
    "boa = Agent(\n",
    "       active_dofs=kb_dofs, \n",
    "       active_dof_bounds=kb_bounds,\n",
    "       detectors=[w9],\n",
    "       tasks=[beam_flux_task, beam_width_task, beam_height_task],\n",
    "       digestion=digestion,\n",
    "       db=db,\n",
    ")\n",
    "\n",
    "RE(boa.initialize(init_scheme='quasi-random', n_init=2))"
   ]
  },
  {
   "attachments": {},
   "cell_type": "markdown",
   "id": "a6259a4f",
   "metadata": {},
   "source": [
    "For each task, we plot the sampled data and the model's posterior with respect to two inputs to the KB mirrors. We can see that each tasks responds very differently to different motors, which is very useful to the optimizer. "
   ]
  },
  {
   "cell_type": "code",
   "execution_count": null,
   "id": "996c3c01-f91d-4a25-9b8d-eba5fa964504",
   "metadata": {
    "tags": []
   },
   "outputs": [],
   "source": [
    "boa.plot_tasks()"
   ]
  },
  {
   "attachments": {},
   "cell_type": "markdown",
   "id": "296d9fd2",
   "metadata": {},
   "source": [
    "Let's optimize:"
   ]
  },
  {
   "cell_type": "code",
   "execution_count": null,
   "id": "d6b39b54",
   "metadata": {
    "tags": []
   },
   "outputs": [],
   "source": [
    "RE(boa.learn(strategy='esti', n_iter=4))\n",
    "boa.plot_tasks()"
   ]
  },
  {
   "attachments": {},
   "cell_type": "markdown",
   "id": "e23e920c",
   "metadata": {},
   "source": [
    "The agent has learned that certain dimensions affect different tasks differently!"
   ]
  }
 ],
 "metadata": {
  "kernelspec": {
   "display_name": "Python 3 (ipykernel)",
   "language": "python",
   "name": "python3"
  },
  "language_info": {
   "codemirror_mode": {
    "name": "ipython",
    "version": 3
   },
   "file_extension": ".py",
   "mimetype": "text/x-python",
   "name": "python",
   "nbconvert_exporter": "python",
   "pygments_lexer": "ipython3",
   "version": "3.9.16"
  },
  "vscode": {
   "interpreter": {
    "hash": "9aced674e98d511b4f654e147532c84d38dc986fe042b1e92785fb9d8df41f75"
   }
  }
 },
 "nbformat": 4,
 "nbformat_minor": 5
}
