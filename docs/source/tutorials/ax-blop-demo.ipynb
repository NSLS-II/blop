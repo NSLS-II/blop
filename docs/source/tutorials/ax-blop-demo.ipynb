{
 "cells": [
  {
   "cell_type": "markdown",
   "metadata": {},
   "source": [
    "# Simulated KB Mirror Demo using Ax and Blop\n",
    "\n",
    "This notebook introduces the use of the [Ax Adaptive Experimentation Platform](https://ax.dev) with integrations for Blop.\n",
    "\n",
    "Blop integrates the following into Ax:\n",
    "- Running Bluesky plans using the run engine\n",
    "- Using devices as parameters\n",
    "- Using detectors to produce data\n",
    "- Retrieving the results from databroker\n",
    "\n",
    "These features make it simple to optimize your beamline using both the [Bluesky ecosystem](https://blueskyproject.io) and Ax."
   ]
  },
  {
   "cell_type": "markdown",
   "metadata": {},
   "source": [
    "## Preparing a test environment\n",
    "\n",
    "Here we prepare the `RunEngine`"
   ]
  },
  {
   "cell_type": "code",
   "execution_count": null,
   "metadata": {},
   "outputs": [],
   "source": [
    "from datetime import datetime\n",
    "\n",
    "import bluesky.plan_stubs as bps  # noqa F401\n",
    "import bluesky.plans as bp  # noqa F401\n",
    "import databroker  # type: ignore[import-untyped]\n",
    "import matplotlib.pyplot as plt\n",
    "import tiled.client.container\n",
    "from bluesky.callbacks import best_effort\n",
    "from bluesky.callbacks.tiled_writer import TiledWriter\n",
    "from bluesky.run_engine import RunEngine\n",
    "from databroker import Broker\n",
    "from ophyd.utils import make_dir_tree  # type: ignore[import-untyped]\n",
    "from tiled.client import from_uri  # type: ignore[import-untyped]\n",
    "from tiled.server import SimpleTiledServer\n",
    "\n",
    "from blop.sim import HDF5Handler\n",
    "from blop.sim.beamline import DatabrokerBeamline, TiledBeamline\n",
    "\n",
    "DETECTOR_STORAGE = \"/tmp/blop/sim\""
   ]
  },
  {
   "cell_type": "code",
   "execution_count": null,
   "metadata": {},
   "outputs": [],
   "source": [
    "tiled_server = SimpleTiledServer(readable_storage=[DETECTOR_STORAGE])\n",
    "tiled_client = from_uri(tiled_server.uri)\n",
    "tiled_writer = TiledWriter(tiled_client)\n",
    "\n",
    "\n",
    "def setup_re_env(db_type=\"default\", root_dir=\"/default/path\", method=\"tiled\"):\n",
    "    RE = RunEngine({})\n",
    "    bec = best_effort.BestEffortCallback()\n",
    "    RE.subscribe(bec)\n",
    "    _ = make_dir_tree(datetime.now().year, base_path=root_dir)\n",
    "    if method.lower() == \"tiled\":\n",
    "        RE.subscribe(tiled_writer)\n",
    "        return {\"RE\": RE, \"db\": tiled_client, \"bec\": bec}\n",
    "    elif method.lower() == \"databroker\":\n",
    "        db = Broker.named(db_type)\n",
    "        db.reg.register_handler(\"HDF5\", HDF5Handler, overwrite=True)\n",
    "        try:\n",
    "            databroker.assets.utils.install_sentinels(db.reg.config, version=1)\n",
    "        except Exception:\n",
    "            pass\n",
    "        RE.subscribe(db.insert)\n",
    "        return {\"RE\": RE, \"db\": db, \"bec\": bec, }\n",
    "    else:\n",
    "        raise ValueError(\"The method for data storage used is not supported\")\n",
    "\n",
    "\n",
    "def register_handlers(db, handlers):\n",
    "    for handler_spec, handler_class in handlers.items():\n",
    "        db.reg.register_handler(handler_spec, handler_class, overwrite=True)\n",
    "\n",
    "\n",
    "env = setup_re_env(db_type=\"temp\", root_dir=\"/tmp/blop/sim\", method=\"tiled\")\n",
    "globals().update(env)\n",
    "bec.disable_plots()"
   ]
  },
  {
   "cell_type": "markdown",
   "metadata": {},
   "source": [
    "## Simulated beamline with KB mirror pair\n",
    "\n",
    "Here we describe an analytical simulated beamline with a [KB mirror](https://en.wikipedia.org/wiki/Kirkpatrick%E2%80%93Baez_mirror) pair."
   ]
  },
  {
   "cell_type": "code",
   "execution_count": null,
   "metadata": {},
   "outputs": [],
   "source": [
    "if isinstance(db, tiled.client.container.Container):\n",
    "    beamline = TiledBeamline(name=\"bl\")\n",
    "elif isinstance(db, databroker.v1.Broker):\n",
    "    beamline = DatabrokerBeamline(name=\"bl\")\n",
    "\n",
    "beamline.det._root_dir = DETECTOR_STORAGE\n",
    "beamline.det.noise.put(False)"
   ]
  },
  {
   "cell_type": "markdown",
   "metadata": {},
   "source": [
    "## Create a Blop-Ax experiment\n",
    "\n",
    "Now we can define the experiment we plan to run.\n",
    "\n",
    "This involves setting 4 parameters that simulate motor positions controlling two KB mirrors. The objectives of the experiment are to maximize the beam intensity while minimizing the area of the beam."
   ]
  },
  {
   "cell_type": "code",
   "execution_count": null,
   "metadata": {},
   "outputs": [],
   "source": [
    "from ax.service.ax_client import AxClient, ObjectiveProperties\n",
    "\n",
    "from blop.integrations.ax.helpers import create_blop_experiment\n",
    "\n",
    "ax_client = AxClient()\n",
    "create_blop_experiment(\n",
    "    ax_client,\n",
    "    parameters=[\n",
    "        {\n",
    "            \"movable\": beamline.kbv_dsv,\n",
    "            \"type\": \"range\",\n",
    "            \"bounds\": [-5.0, 5.0],\n",
    "        },\n",
    "        {\n",
    "            \"movable\": beamline.kbv_usv,\n",
    "            \"type\": \"range\",\n",
    "            \"bounds\": [-5.0, 5.0],\n",
    "        },\n",
    "        {\n",
    "            \"movable\": beamline.kbh_dsh,\n",
    "            \"type\": \"range\",\n",
    "            \"bounds\": [-5.0, 5.0],\n",
    "        },\n",
    "        {\n",
    "            \"movable\": beamline.kbh_ush,\n",
    "            \"type\": \"range\",\n",
    "            \"bounds\": [-5.0, 5.0],\n",
    "        },\n",
    "    ],\n",
    "    objectives={\n",
    "        \"beam_intensity\": ObjectiveProperties(minimize=False, threshold=200.0),\n",
    "        \"beam_area\": ObjectiveProperties(minimize=True, threshold=1000.0),\n",
    "    },\n",
    ")"
   ]
  },
  {
   "cell_type": "markdown",
   "metadata": {},
   "source": [
    "## Create an evaluation function\n",
    "\n",
    "Now that we have setup the experiment, we need to define how to compute the objective values.\n",
    "\n",
    "In this example, the `RunEngine` produces readings from the detector that are retrieved from `Databroker` and transformed into a Pandas `DataFrame`. Using the image produced from this, we can compute some statistics from the image to produce the beam intensity and beam area (our objectives).\n",
    "\n",
    "Ax expects a `tuple[float, float]` for each objective representing the mean value and standard error, respectively. For a single image, the average intensity is just the intensity (same for the area), and we assume no uncertainty."
   ]
  },
  {
   "cell_type": "code",
   "execution_count": null,
   "metadata": {},
   "outputs": [],
   "source": [
    "import numpy as np\n",
    "\n",
    "from blop.utils import get_beam_stats\n",
    "\n",
    "\n",
    "def evaluate(results_df: dict) -> dict[str, tuple[float, float]]:\n",
    "    stats = get_beam_stats(np.asarray(results_df[\"bl_det_image\"][0], dtype=np.float32))\n",
    "    area = stats[\"wid_x\"] * stats[\"wid_y\"]\n",
    "    return {\n",
    "        \"beam_intensity\": (stats[\"sum\"], None),\n",
    "        \"beam_area\": (area, None),\n",
    "    }"
   ]
  },
  {
   "cell_type": "markdown",
   "metadata": {},
   "source": [
    "## Create an evaluator\n",
    "\n",
    "We need a Bluesky evaluator that actually launches the experiment using the `RunEngine` and retreives the result using `Databroker`. Here we need to specify which detectors will produce the image as well as which motors we will be moving. Also, we pass the evaulation function here to produce the objective values.\n",
    "\n",
    "This evaluator will be used to produce the raw data needed by Ax to optimize the parameters to satisfy our objectives."
   ]
  },
  {
   "cell_type": "code",
   "execution_count": null,
   "metadata": {},
   "outputs": [],
   "source": [
    "from blop.integrations.ax.helpers import create_bluesky_evaluator\n",
    "\n",
    "evaluator = create_bluesky_evaluator(\n",
    "    RE, db, [beamline.det], [beamline.kbv_dsv, beamline.kbv_usv, beamline.kbh_dsh, beamline.kbh_ush], evaluate\n",
    ")"
   ]
  },
  {
   "cell_type": "markdown",
   "metadata": {},
   "source": [
    "## Optimize!\n",
    "\n",
    "Finally, with all of our experimental setup done, we can optimize the parameters to satisfy our objectives.\n",
    "\n",
    "For this example, Ax will optimize the 4 motor positions to produce the greatest intensity beam with the smallest beam width and height (smallest area). It does this by first running a couple of `Trial`s which are random samples, then the remainder using Bayesian optimization through BoTorch.\n",
    "\n",
    "A single Ax `Trial` represents the training and evaluation of BoTorch models to produce a suggested next `Arm`. An `Arm` in Ax is a single parameterization to be evaluated while a `Trial` can consist of many `Arm`s. In this demo, we have a single `Arm` per `Trial`."
   ]
  },
  {
   "cell_type": "code",
   "execution_count": null,
   "metadata": {},
   "outputs": [],
   "source": [
    "for _ in range(25):\n",
    "    parameterization, trial_index = ax_client.get_next_trial()\n",
    "    ax_client.complete_trial(trial_index=trial_index, raw_data=evaluator(parameterization))"
   ]
  },
  {
   "cell_type": "markdown",
   "metadata": {},
   "source": [
    "## Analyze Results\n",
    "\n",
    "Below we will show how we can use Ax to visualize the results and retrieve each step of the experiment that was run. This is where Ax becomes extremely useful for beamline optimization."
   ]
  },
  {
   "cell_type": "code",
   "execution_count": null,
   "metadata": {},
   "outputs": [],
   "source": [
    "ax_client.experiment.to_df()"
   ]
  },
  {
   "cell_type": "markdown",
   "metadata": {},
   "source": [
    "### Viewing slices of parameter space"
   ]
  },
  {
   "cell_type": "code",
   "execution_count": null,
   "metadata": {},
   "outputs": [],
   "source": [
    "from ax.plot.slice import plot_slice\n",
    "from ax.utils.notebook.plotting import render\n",
    "\n",
    "model = ax_client.generation_strategy.model\n",
    "render(plot_slice(model, \"bl_kbv_dsv\", \"beam_intensity\"))"
   ]
  },
  {
   "cell_type": "code",
   "execution_count": null,
   "metadata": {},
   "outputs": [],
   "source": [
    "render(plot_slice(model, \"bl_kbv_dsv\", \"beam_area\"))"
   ]
  },
  {
   "cell_type": "markdown",
   "metadata": {},
   "source": [
    "### Viewing each arm's objective values"
   ]
  },
  {
   "cell_type": "code",
   "execution_count": null,
   "metadata": {},
   "outputs": [],
   "source": [
    "from ax.plot.scatter import interact_fitted\n",
    "\n",
    "render(interact_fitted(model, rel=False))"
   ]
  },
  {
   "cell_type": "markdown",
   "metadata": {},
   "source": [
    "### Visualizing the optimal beam\n",
    "\n",
    "Below we get the optimal parameters, move the motors to their optimal positions, and observe the resulting beam."
   ]
  },
  {
   "cell_type": "code",
   "execution_count": null,
   "metadata": {},
   "outputs": [],
   "source": [
    "optimal_arm = next(iter(ax_client.get_pareto_optimal_parameters()))\n",
    "optimal_parameters = ax_client.get_trial(optimal_arm).arm.parameters\n",
    "optimal_parameters"
   ]
  },
  {
   "cell_type": "code",
   "execution_count": null,
   "metadata": {},
   "outputs": [],
   "source": [
    "from bluesky.plans import list_scan\n",
    "\n",
    "scan_motor_params = []\n",
    "for motor in [beamline.kbv_dsv, beamline.kbv_usv, beamline.kbh_dsh, beamline.kbh_ush]:\n",
    "    scan_motor_params.append(motor)\n",
    "    scan_motor_params.append([optimal_parameters[motor.name]])\n",
    "RE(list_scan([beamline.det], *scan_motor_params))"
   ]
  },
  {
   "cell_type": "code",
   "execution_count": null,
   "metadata": {},
   "outputs": [],
   "source": [
    "def convert_to_dictonary(db):\n",
    "    \"\"\"\n",
    "    Converts the data that arrives from either databroker as a pd.Dataframe or through\n",
    "    tiled as a xr.DataArray into a dictonary\n",
    "\n",
    "    Parameters\n",
    "    ----------\n",
    "    db : databroker or tiled\n",
    "        The databroker or tiled instance\n",
    "    \"\"\"\n",
    "    print(type(db))\n",
    "    dictonary = {}\n",
    "    if isinstance(db, tiled.client.container.Container):\n",
    "        db = db.values().last()\n",
    "        tiled_data = db[\"streams\", \"primary\"].read()\n",
    "        for var_name, data_array in tiled_data.data_vars.items():\n",
    "            dictonary[var_name] = data_array.values.flatten().tolist()\n",
    "        tiled_image = db[\"streams\", \"primary\", \"bl_det_image\"].read().astype(float)\n",
    "        dictonary[\"bl_det_image\"] = tiled_image\n",
    "        return dictonary\n",
    "\n",
    "    elif isinstance(db, databroker.v1.Broker):\n",
    "        data = db[-1].table(fill=True)\n",
    "        for i in data:\n",
    "            dictonary[i] = data[i].to_list()\n",
    "        return dictonary\n",
    "\n",
    "    else:\n",
    "        raise ValueError(\"Unknown data source.\")"
   ]
  },
  {
   "cell_type": "code",
   "execution_count": null,
   "metadata": {},
   "outputs": [],
   "source": [
    "plt.imshow(convert_to_dictonary(db)[\"bl_det_image\"][0])\n",
    "plt.colorbar()\n",
    "plt.show()"
   ]
  }
 ],
 "metadata": {
  "kernelspec": {
   "display_name": "blop",
   "language": "python",
   "name": "python3"
  },
  "language_info": {
   "codemirror_mode": {
    "name": "ipython",
    "version": 3
   },
   "file_extension": ".py",
   "mimetype": "text/x-python",
   "name": "python",
   "nbconvert_exporter": "python",
   "pygments_lexer": "ipython3",
   "version": "3.13.5"
  }
 },
 "nbformat": 4,
 "nbformat_minor": 2
}
