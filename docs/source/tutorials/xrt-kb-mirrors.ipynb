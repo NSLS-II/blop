{
 "cells": [
  {
   "cell_type": "markdown",
   "id": "0",
   "metadata": {},
   "source": [
    "# XRT KB Mirror Demo"
   ]
  },
  {
   "cell_type": "markdown",
   "id": "1",
   "metadata": {},
   "source": [
    "For ophyd beamline setup see: \n",
    "- https://github.com/NSLS-II/blop/blob/main/src/blop/sim/xrt_beamline.py\n",
    "- https://github.com/NSLS-II/blop/blob/main/src/blop/sim/xrt_kb_model.py\n",
    "\n",
    "The picture below displays beam from geometric source propagating through a pair of toroidal mirrors focusing the beam on screen. Simulation of a KB setup.\n",
    "\n",
    "![xrt_blop_layout_w.jpg](../_static/xrt_blop_layout_w.jpg)"
   ]
  },
  {
   "cell_type": "code",
   "execution_count": 1,
   "id": "2",
   "metadata": {},
   "outputs": [
    {
     "name": "stderr",
     "output_type": "stream",
     "text": [
      "/home/thopkins1/Documents/public-repos/blop/.pixi/envs/dev/lib/python3.12/site-packages/databroker/assets/base_registry.py:14: UserWarning:\n",
      "\n",
      "pkg_resources is deprecated as an API. See https://setuptools.pypa.io/en/latest/pkg_resources.html. The pkg_resources package is slated for removal as early as 2025-11-30. Refrain from using this package or pin to Setuptools<81.\n",
      "\n",
      "[WARNING 09-25 16:43:47] ax.service.utils.with_db_settings_base: Ax currently requires a sqlalchemy version below 2.0. This will be addressed in a future release. Disabling SQL storage in Ax for now, if you would like to use SQL storage please install Ax with mysql extras via `pip install ax-platform[mysql]`.\n"
     ]
    }
   ],
   "source": [
    "import time\n",
    "from datetime import datetime\n",
    "\n",
    "import plotly.io as pio\n",
    "\n",
    "pio.renderers.default = \"notebook\"\n",
    "import bluesky.plan_stubs as bps  # noqa F401\n",
    "import bluesky.plans as bp  # noqa F401\n",
    "import databroker  # type: ignore[import-untyped]\n",
    "import matplotlib.pyplot as plt\n",
    "import tiled.client.container\n",
    "from bluesky.callbacks import best_effort\n",
    "from bluesky.callbacks.tiled_writer import TiledWriter\n",
    "from bluesky.run_engine import RunEngine\n",
    "from databroker import Broker\n",
    "from ophyd.utils import make_dir_tree  # type: ignore[import-untyped]\n",
    "from tiled.client import from_uri  # type: ignore[import-untyped]\n",
    "from tiled.server import SimpleTiledServer\n",
    "\n",
    "from blop import DOF, Objective\n",
    "from blop.ax import Agent\n",
    "from blop.sim import HDF5Handler\n",
    "from blop.sim.xrt_beamline import DatabrokerBeamline, TiledBeamline\n",
    "\n",
    "DETECTOR_STORAGE = \"/tmp/blop/sim\""
   ]
  },
  {
   "cell_type": "code",
   "execution_count": 2,
   "id": "3",
   "metadata": {},
   "outputs": [
    {
     "name": "stderr",
     "output_type": "stream",
     "text": [
      "2025-09-25 16:43:48.876 INFO: Subprocess stdout: \n",
      "2025-09-25 16:43:48.876 INFO: Subprocess stderr: Database sqlite+aiosqlite:////tmp/tmpu03rcrhb/catalog.db is new. Creating tables.\n",
      "Database initialized.\n",
      "\n",
      "Tiled version 0.1.0b33\n",
      "2025-09-25 16:43:49.012 INFO: Tiled version 0.1.0b33\n",
      "2025-09-25 16:43:49.015 INFO: Context impl SQLiteImpl.\n",
      "2025-09-25 16:43:49.015 INFO: Will assume non-transactional DDL.\n",
      "2025-09-25 16:43:49.145 INFO: HTTP Request: GET http://127.0.0.1:44993/api/v1?api_key=d087bdbdb796ec81 \"HTTP/1.1 307 Temporary Redirect\"\n",
      "2025-09-25 16:43:49.153 INFO: HTTP Request: GET http://127.0.0.1:44993/api/v1/ \"HTTP/1.1 200 OK\"\n",
      "2025-09-25 16:43:49.180 INFO: HTTP Request: GET http://127.0.0.1:44993/api/v1/metadata/ \"HTTP/1.1 200 OK\"\n",
      "2025-09-25 16:43:49.186 INFO: HTTP Request: GET http://127.0.0.1:44993/api/v1/metadata/?include_data_sources=true \"HTTP/1.1 200 OK\"\n"
     ]
    }
   ],
   "source": [
    "tiled_server = SimpleTiledServer(readable_storage=[DETECTOR_STORAGE])\n",
    "tiled_client = from_uri(tiled_server.uri)\n",
    "tiled_writer = TiledWriter(tiled_client)\n",
    "\n",
    "\n",
    "def setup_re_env(db_type=\"default\", root_dir=\"/default/path\", method=\"tiled\"):\n",
    "    RE = RunEngine({})\n",
    "    bec = best_effort.BestEffortCallback()\n",
    "    RE.subscribe(bec)\n",
    "    _ = make_dir_tree(datetime.now().year, base_path=root_dir)\n",
    "\n",
    "    if method == \"tiled\":\n",
    "        RE.subscribe(tiled_writer)\n",
    "        return {\"RE\": RE, \"db\": tiled_client, \"bec\": bec}\n",
    "\n",
    "    elif method == \"databroker\":\n",
    "        db = Broker.named(db_type)\n",
    "        db.reg.register_handler(\"HDF5\", HDF5Handler, overwrite=True)\n",
    "        try:\n",
    "            databroker.assets.utils.install_sentinels(db.reg.config, version=1)\n",
    "        except Exception:\n",
    "            pass\n",
    "        RE.subscribe(db.insert)\n",
    "        return {\n",
    "            \"RE\": RE,\n",
    "            \"db\": db,\n",
    "            \"bec\": bec,\n",
    "        }\n",
    "    else:\n",
    "        raise ValueError(\"The method for data storage used is not supported\")\n",
    "\n",
    "\n",
    "def register_handlers(db, handlers):\n",
    "    for handler_spec, handler_class in handlers.items():\n",
    "        db.reg.register_handler(handler_spec, handler_class, overwrite=True)\n",
    "\n",
    "\n",
    "env = setup_re_env(db_type=\"temp\", root_dir=\"/tmp/blop/sim\", method=\"tiled\")\n",
    "globals().update(env)\n",
    "bec.disable_plots()"
   ]
  },
  {
   "cell_type": "code",
   "execution_count": 3,
   "id": "4",
   "metadata": {},
   "outputs": [],
   "source": [
    "plt.ion()\n",
    "\n",
    "h_opt = 0\n",
    "dh = 5\n",
    "\n",
    "R1, dR1 = 40000, 10000\n",
    "R2, dR2 = 20000, 10000"
   ]
  },
  {
   "cell_type": "code",
   "execution_count": 4,
   "id": "5",
   "metadata": {},
   "outputs": [],
   "source": [
    "if isinstance(db, tiled.client.container.Container):\n",
    "    beamline = TiledBeamline(name=\"bl\")\n",
    "else:\n",
    "    beamline = DatabrokerBeamline(name=\"bl\")\n",
    "time.sleep(1)\n",
    "dofs = [\n",
    "    DOF(movable=beamline.kbv_dsv, search_domain=(R1 - dR1, R1 + dR1)),\n",
    "    DOF(movable=beamline.kbh_dsh, search_domain=(R2 - dR2, R2 + dR2)),\n",
    "]"
   ]
  },
  {
   "cell_type": "code",
   "execution_count": 5,
   "id": "6",
   "metadata": {},
   "outputs": [],
   "source": [
    "objectives = [\n",
    "    Objective(name=\"bl_det_sum\", target=\"max\", constraint=(20, 1e12)),\n",
    "    Objective(\n",
    "        name=\"bl_det_wid_x\",\n",
    "        target=\"min\",\n",
    "    ),\n",
    "    Objective(\n",
    "        name=\"bl_det_wid_y\",\n",
    "        target=\"min\",\n",
    "    ),\n",
    "]"
   ]
  },
  {
   "cell_type": "code",
   "execution_count": 6,
   "id": "7",
   "metadata": {},
   "outputs": [
    {
     "name": "stderr",
     "output_type": "stream",
     "text": [
      "2025-09-25 16:43:50.206 INFO: Configuring optimization with objective: bl_det_sum, -bl_det_wid_x, -bl_det_wid_y and outcome constraints: ['bl_det_sum >= 20', 'bl_det_sum <= 1000000000000.0']\n"
     ]
    },
    {
     "ename": "UserInputError",
     "evalue": "More than one objective threshold specified for metric bl_det_sum.",
     "output_type": "error",
     "traceback": [
      "\u001b[31m---------------------------------------------------------------------------\u001b[39m",
      "\u001b[31mUserInputError\u001b[39m                            Traceback (most recent call last)",
      "\u001b[36mCell\u001b[39m\u001b[36m \u001b[39m\u001b[32mIn[6]\u001b[39m\u001b[32m, line 7\u001b[39m\n\u001b[32m      1\u001b[39m agent = Agent(\n\u001b[32m      2\u001b[39m     readables=[beamline.det],\n\u001b[32m      3\u001b[39m     dofs=dofs,\n\u001b[32m      4\u001b[39m     objectives=objectives,\n\u001b[32m      5\u001b[39m     db=db,\n\u001b[32m      6\u001b[39m )\n\u001b[32m----> \u001b[39m\u001b[32m7\u001b[39m \u001b[43magent\u001b[49m\u001b[43m.\u001b[49m\u001b[43mconfigure_experiment\u001b[49m\u001b[43m(\u001b[49m\n\u001b[32m      8\u001b[39m \u001b[43m    \u001b[49m\u001b[43mname\u001b[49m\u001b[43m=\u001b[49m\u001b[33;43m\"\u001b[39;49m\u001b[33;43mxrt-blop-demo\u001b[39;49m\u001b[33;43m\"\u001b[39;49m\u001b[43m,\u001b[49m\n\u001b[32m      9\u001b[39m \u001b[43m    \u001b[49m\u001b[43mdescription\u001b[49m\u001b[43m=\u001b[49m\u001b[33;43m\"\u001b[39;49m\u001b[33;43mA demo of the Blop agent with XRT simulated beamline\u001b[39;49m\u001b[33;43m\"\u001b[39;49m\u001b[43m,\u001b[49m\n\u001b[32m     10\u001b[39m \u001b[43m    \u001b[49m\u001b[43mexperiment_type\u001b[49m\u001b[43m=\u001b[49m\u001b[33;43m\"\u001b[39;49m\u001b[33;43mdemo\u001b[39;49m\u001b[33;43m\"\u001b[39;49m\u001b[43m,\u001b[49m\n\u001b[32m     11\u001b[39m \u001b[43m)\u001b[49m\n",
      "\u001b[36mFile \u001b[39m\u001b[32m~/Documents/public-repos/blop/src/blop/ax/agent.py:130\u001b[39m, in \u001b[36mAgent.configure_experiment\u001b[39m\u001b[34m(self, name, description, experiment_type, owner)\u001b[39m\n\u001b[32m    125\u001b[39m metrics = configure_metrics(\u001b[38;5;28mself\u001b[39m.objectives.values())\n\u001b[32m    127\u001b[39m \u001b[38;5;28mself\u001b[39m.client.configure_experiment(\n\u001b[32m    128\u001b[39m     parameters, name=name, description=description, experiment_type=experiment_type, owner=owner\n\u001b[32m    129\u001b[39m )\n\u001b[32m--> \u001b[39m\u001b[32m130\u001b[39m \u001b[38;5;28;43mself\u001b[39;49m\u001b[43m.\u001b[49m\u001b[43mclient\u001b[49m\u001b[43m.\u001b[49m\u001b[43mconfigure_optimization\u001b[49m\u001b[43m(\u001b[49m\u001b[43mobjectives\u001b[49m\u001b[43m,\u001b[49m\u001b[43m \u001b[49m\u001b[43mobjective_constraints\u001b[49m\u001b[43m)\u001b[49m\n\u001b[32m    131\u001b[39m \u001b[38;5;28mself\u001b[39m.client.configure_metrics(metrics)\n",
      "\u001b[36mFile \u001b[39m\u001b[32m~/Documents/public-repos/blop/.pixi/envs/dev/lib/python3.12/site-packages/ax/api/client.py:169\u001b[39m, in \u001b[36mClient.configure_optimization\u001b[39m\u001b[34m(self, objective, outcome_constraints)\u001b[39m\n\u001b[32m    141\u001b[39m \u001b[38;5;28;01mdef\u001b[39;00m\u001b[38;5;250m \u001b[39m\u001b[34mconfigure_optimization\u001b[39m(\n\u001b[32m    142\u001b[39m     \u001b[38;5;28mself\u001b[39m,\n\u001b[32m    143\u001b[39m     objective: \u001b[38;5;28mstr\u001b[39m,\n\u001b[32m    144\u001b[39m     outcome_constraints: Sequence[\u001b[38;5;28mstr\u001b[39m] | \u001b[38;5;28;01mNone\u001b[39;00m = \u001b[38;5;28;01mNone\u001b[39;00m,\n\u001b[32m    145\u001b[39m ) -> \u001b[38;5;28;01mNone\u001b[39;00m:\n\u001b[32m    146\u001b[39m \u001b[38;5;250m    \u001b[39m\u001b[33;03m\"\"\"\u001b[39;00m\n\u001b[32m    147\u001b[39m \u001b[33;03m    Configures the goals of the optimization by setting the ``OptimizationConfig``.\u001b[39;00m\n\u001b[32m    148\u001b[39m \u001b[33;03m    ``Metrics`` referenced here by their name will be moved from the Experiment's\u001b[39;00m\n\u001b[32m   (...)\u001b[39m\u001b[32m    166\u001b[39m \u001b[33;03m    Saves to database on completion if ``storage_config`` is present.\u001b[39;00m\n\u001b[32m    167\u001b[39m \u001b[33;03m    \"\"\"\u001b[39;00m\n\u001b[32m--> \u001b[39m\u001b[32m169\u001b[39m     \u001b[38;5;28mself\u001b[39m._experiment.optimization_config = \u001b[43moptimization_config_from_string\u001b[49m\u001b[43m(\u001b[49m\n\u001b[32m    170\u001b[39m \u001b[43m        \u001b[49m\u001b[43mobjective_str\u001b[49m\u001b[43m=\u001b[49m\u001b[43mobjective\u001b[49m\u001b[43m,\u001b[49m\n\u001b[32m    171\u001b[39m \u001b[43m        \u001b[49m\u001b[43moutcome_constraint_strs\u001b[49m\u001b[43m=\u001b[49m\u001b[43moutcome_constraints\u001b[49m\u001b[43m,\u001b[49m\n\u001b[32m    172\u001b[39m \u001b[43m    \u001b[49m\u001b[43m)\u001b[49m\n\u001b[32m    174\u001b[39m     \u001b[38;5;28mself\u001b[39m._save_experiment_to_db_if_possible(experiment=\u001b[38;5;28mself\u001b[39m._experiment)\n",
      "\u001b[36mFile \u001b[39m\u001b[32m~/Documents/public-repos/blop/.pixi/envs/dev/lib/python3.12/site-packages/ax/api/utils/instantiation/from_string.py:77\u001b[39m, in \u001b[36moptimization_config_from_string\u001b[39m\u001b[34m(objective_str, outcome_constraint_strs)\u001b[39m\n\u001b[32m     74\u001b[39m         \u001b[38;5;28;01melse\u001b[39;00m:\n\u001b[32m     75\u001b[39m             true_outcome_constraints.append(outcome_constraint)\n\u001b[32m---> \u001b[39m\u001b[32m77\u001b[39m     \u001b[38;5;28;01mreturn\u001b[39;00m \u001b[43mMultiObjectiveOptimizationConfig\u001b[49m\u001b[43m(\u001b[49m\n\u001b[32m     78\u001b[39m \u001b[43m        \u001b[49m\u001b[43mobjective\u001b[49m\u001b[43m=\u001b[49m\u001b[43mobjective\u001b[49m\u001b[43m,\u001b[49m\n\u001b[32m     79\u001b[39m \u001b[43m        \u001b[49m\u001b[43moutcome_constraints\u001b[49m\u001b[43m=\u001b[49m\u001b[43mtrue_outcome_constraints\u001b[49m\u001b[43m,\u001b[49m\n\u001b[32m     80\u001b[39m \u001b[43m        \u001b[49m\u001b[43mobjective_thresholds\u001b[49m\u001b[43m=\u001b[49m\u001b[43mobjective_thresholds\u001b[49m\u001b[43m,\u001b[49m\n\u001b[32m     81\u001b[39m \u001b[43m    \u001b[49m\u001b[43m)\u001b[49m\n\u001b[32m     83\u001b[39m \u001b[38;5;66;03m# Ensure that outcome constraints are not placed on the objective metric\u001b[39;00m\n\u001b[32m     84\u001b[39m objective_metric_names = {metric.name \u001b[38;5;28;01mfor\u001b[39;00m metric \u001b[38;5;129;01min\u001b[39;00m objective.metrics}\n",
      "\u001b[36mFile \u001b[39m\u001b[32m~/Documents/public-repos/blop/.pixi/envs/dev/lib/python3.12/site-packages/ax/core/optimization_config.py:282\u001b[39m, in \u001b[36mMultiObjectiveOptimizationConfig.__init__\u001b[39m\u001b[34m(self, objective, outcome_constraints, objective_thresholds, risk_measure)\u001b[39m\n\u001b[32m    278\u001b[39m constraints: \u001b[38;5;28mlist\u001b[39m[OutcomeConstraint] = (\n\u001b[32m    279\u001b[39m     [] \u001b[38;5;28;01mif\u001b[39;00m outcome_constraints \u001b[38;5;129;01mis\u001b[39;00m \u001b[38;5;28;01mNone\u001b[39;00m \u001b[38;5;28;01melse\u001b[39;00m outcome_constraints\n\u001b[32m    280\u001b[39m )\n\u001b[32m    281\u001b[39m objective_thresholds = objective_thresholds \u001b[38;5;129;01mor\u001b[39;00m []\n\u001b[32m--> \u001b[39m\u001b[32m282\u001b[39m \u001b[38;5;28;43mself\u001b[39;49m\u001b[43m.\u001b[49m\u001b[43m_validate_transformed_optimization_config\u001b[49m\u001b[43m(\u001b[49m\n\u001b[32m    283\u001b[39m \u001b[43m    \u001b[49m\u001b[43mobjective\u001b[49m\u001b[43m=\u001b[49m\u001b[43mobjective\u001b[49m\u001b[43m,\u001b[49m\n\u001b[32m    284\u001b[39m \u001b[43m    \u001b[49m\u001b[43moutcome_constraints\u001b[49m\u001b[43m=\u001b[49m\u001b[43mconstraints\u001b[49m\u001b[43m,\u001b[49m\n\u001b[32m    285\u001b[39m \u001b[43m    \u001b[49m\u001b[43mobjective_thresholds\u001b[49m\u001b[43m=\u001b[49m\u001b[43mobjective_thresholds\u001b[49m\u001b[43m,\u001b[49m\n\u001b[32m    286\u001b[39m \u001b[43m    \u001b[49m\u001b[43mrisk_measure\u001b[49m\u001b[43m=\u001b[49m\u001b[43mrisk_measure\u001b[49m\u001b[43m,\u001b[49m\n\u001b[32m    287\u001b[39m \u001b[43m\u001b[49m\u001b[43m)\u001b[49m\n\u001b[32m    288\u001b[39m \u001b[38;5;28mself\u001b[39m._objective: MultiObjective | ScalarizedObjective = objective\n\u001b[32m    289\u001b[39m \u001b[38;5;28mself\u001b[39m._outcome_constraints: \u001b[38;5;28mlist\u001b[39m[OutcomeConstraint] = constraints\n",
      "\u001b[36mFile \u001b[39m\u001b[32m~/Documents/public-repos/blop/.pixi/envs/dev/lib/python3.12/site-packages/ax/core/optimization_config.py:403\u001b[39m, in \u001b[36mMultiObjectiveOptimizationConfig._validate_transformed_optimization_config\u001b[39m\u001b[34m(objective, outcome_constraints, objective_thresholds, risk_measure)\u001b[39m\n\u001b[32m    401\u001b[39m \u001b[38;5;28;01mif\u001b[39;00m \u001b[38;5;28misinstance\u001b[39m(objective, MultiObjective):\n\u001b[32m    402\u001b[39m     objectives_by_name = {obj.metric.name: obj \u001b[38;5;28;01mfor\u001b[39;00m obj \u001b[38;5;129;01min\u001b[39;00m objective.objectives}\n\u001b[32m--> \u001b[39m\u001b[32m403\u001b[39m     \u001b[43mcheck_objective_thresholds_match_objectives\u001b[49m\u001b[43m(\u001b[49m\n\u001b[32m    404\u001b[39m \u001b[43m        \u001b[49m\u001b[43mobjectives_by_name\u001b[49m\u001b[43m=\u001b[49m\u001b[43mobjectives_by_name\u001b[49m\u001b[43m,\u001b[49m\n\u001b[32m    405\u001b[39m \u001b[43m        \u001b[49m\u001b[43mobjective_thresholds\u001b[49m\u001b[43m=\u001b[49m\u001b[43mobjective_thresholds\u001b[49m\u001b[43m,\u001b[49m\n\u001b[32m    406\u001b[39m \u001b[43m    \u001b[49m\u001b[43m)\u001b[49m\n\u001b[32m    408\u001b[39m unconstrainable_metrics = objective.get_unconstrainable_metrics()\n\u001b[32m    409\u001b[39m OptimizationConfig._validate_outcome_constraints(\n\u001b[32m    410\u001b[39m     unconstrainable_metrics=unconstrainable_metrics,\n\u001b[32m    411\u001b[39m     outcome_constraints=outcome_constraints,\n\u001b[32m    412\u001b[39m )\n",
      "\u001b[36mFile \u001b[39m\u001b[32m~/Documents/public-repos/blop/.pixi/envs/dev/lib/python3.12/site-packages/ax/core/optimization_config.py:444\u001b[39m, in \u001b[36mcheck_objective_thresholds_match_objectives\u001b[39m\u001b[34m(objectives_by_name, objective_thresholds)\u001b[39m\n\u001b[32m    439\u001b[39m     \u001b[38;5;28;01mraise\u001b[39;00m UserInputError(\n\u001b[32m    440\u001b[39m         \u001b[33mf\u001b[39m\u001b[33m\"\u001b[39m\u001b[33mObjective threshold \u001b[39m\u001b[38;5;132;01m{\u001b[39;00mthreshold\u001b[38;5;132;01m}\u001b[39;00m\u001b[33m is on metric \u001b[39m\u001b[33m'\u001b[39m\u001b[38;5;132;01m{\u001b[39;00mmetric_name\u001b[38;5;132;01m}\u001b[39;00m\u001b[33m'\u001b[39m\u001b[33m, \u001b[39m\u001b[33m\"\u001b[39m\n\u001b[32m    441\u001b[39m         \u001b[33mf\u001b[39m\u001b[33m\"\u001b[39m\u001b[33mbut that metric is not among the objectives.\u001b[39m\u001b[33m\"\u001b[39m\n\u001b[32m    442\u001b[39m     )\n\u001b[32m    443\u001b[39m \u001b[38;5;28;01mif\u001b[39;00m metric_name \u001b[38;5;129;01min\u001b[39;00m obj_thresh_metrics:\n\u001b[32m--> \u001b[39m\u001b[32m444\u001b[39m     \u001b[38;5;28;01mraise\u001b[39;00m UserInputError(\n\u001b[32m    445\u001b[39m         \u001b[33m\"\u001b[39m\u001b[33mMore than one objective threshold specified for metric \u001b[39m\u001b[33m\"\u001b[39m\n\u001b[32m    446\u001b[39m         \u001b[33mf\u001b[39m\u001b[33m\"\u001b[39m\u001b[38;5;132;01m{\u001b[39;00mmetric_name\u001b[38;5;132;01m}\u001b[39;00m\u001b[33m.\u001b[39m\u001b[33m\"\u001b[39m\n\u001b[32m    447\u001b[39m     )\n\u001b[32m    448\u001b[39m obj_thresh_metrics.add(metric_name)\n\u001b[32m    450\u001b[39m minimize = objectives_by_name[metric_name].minimize\n",
      "\u001b[31mUserInputError\u001b[39m: More than one objective threshold specified for metric bl_det_sum."
     ]
    }
   ],
   "source": [
    "agent = Agent(\n",
    "    readables=[beamline.det],\n",
    "    dofs=dofs,\n",
    "    objectives=objectives,\n",
    "    db=db,\n",
    ")\n",
    "agent.configure_experiment(\n",
    "    name=\"xrt-blop-demo\",\n",
    "    description=\"A demo of the Blop agent with XRT simulated beamline\",\n",
    "    experiment_type=\"demo\",\n",
    ")"
   ]
  },
  {
   "cell_type": "code",
   "execution_count": null,
   "id": "8",
   "metadata": {},
   "outputs": [],
   "source": [
    "RE(agent.learn(iterations=25))"
   ]
  },
  {
   "cell_type": "code",
   "execution_count": null,
   "id": "9",
   "metadata": {},
   "outputs": [],
   "source": [
    "_ = agent.plot_objective(x_dof_name=\"bl_kbh_dsh\", y_dof_name=\"bl_kbv_dsv\", objective_name=\"bl_det_sum\")"
   ]
  },
  {
   "cell_type": "markdown",
   "id": "10",
   "metadata": {},
   "source": [
    "## Visualizing the optimal beam\n",
    "\n",
    "Below we get the optimal parameters, move the motors to their optimal positions, and observe the resulting beam."
   ]
  },
  {
   "cell_type": "code",
   "execution_count": null,
   "id": "11",
   "metadata": {},
   "outputs": [],
   "source": [
    "optimal_parameters = next(iter(agent.client.get_pareto_frontier()))[0]\n",
    "optimal_parameters"
   ]
  },
  {
   "cell_type": "code",
   "execution_count": null,
   "id": "12",
   "metadata": {},
   "outputs": [],
   "source": [
    "from bluesky.plans import list_scan\n",
    "\n",
    "scan_motor_params = []\n",
    "for motor in [beamline.kbv_dsv, beamline.kbh_dsh]:\n",
    "    scan_motor_params.append(motor)\n",
    "    scan_motor_params.append([optimal_parameters[motor.name]])\n",
    "uid = RE(list_scan([beamline.det], *scan_motor_params))"
   ]
  },
  {
   "cell_type": "code",
   "execution_count": null,
   "id": "13",
   "metadata": {},
   "outputs": [],
   "source": [
    "import matplotlib.pyplot as plt\n",
    "\n",
    "image = db[uid[0]][\"streams\"][\"primary\"][\"bl_det_image\"].read().squeeze()\n",
    "plt.imshow(image)\n",
    "plt.colorbar()\n",
    "plt.show()"
   ]
  }
 ],
 "metadata": {
  "kernelspec": {
   "display_name": "dev",
   "language": "python",
   "name": "python3"
  },
  "language_info": {
   "codemirror_mode": {
    "name": "ipython",
    "version": 3
   },
   "file_extension": ".py",
   "mimetype": "text/x-python",
   "name": "python",
   "nbconvert_exporter": "python",
   "pygments_lexer": "ipython3",
   "version": "3.12.11"
  }
 },
 "nbformat": 4,
 "nbformat_minor": 5
}
