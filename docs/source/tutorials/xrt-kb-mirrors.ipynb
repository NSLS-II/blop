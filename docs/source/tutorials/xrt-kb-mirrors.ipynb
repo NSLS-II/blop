{
 "cells": [
  {
   "cell_type": "markdown",
   "id": "0",
   "metadata": {},
   "source": [
    "# XRT KB Mirror Demo"
   ]
  },
  {
   "cell_type": "markdown",
   "id": "1",
   "metadata": {},
   "source": [
    "For ophyd beamline setup see: \n",
    "- https://github.com/NSLS-II/blop/blob/main/src/blop/sim/xrt_beamline.py\n",
    "- https://github.com/NSLS-II/blop/blob/main/src/blop/sim/xrt_kb_model.py\n",
    "\n",
    "The picture below displays beam from geometric source propagating through a pair of toroidal mirrors focusing the beam on screen. Simulation of a KB setup.\n",
    "\n",
    "![xrt_blop_layout_w.jpg](../_static/xrt_blop_layout_w.jpg)"
   ]
  },
  {
   "cell_type": "code",
   "execution_count": null,
   "id": "2",
   "metadata": {},
   "outputs": [],
   "source": [
    "import time\n",
    "from datetime import datetime\n",
    "\n",
    "import plotly.io as pio\n",
    "pio.renderers.default = \"notebook\"\n",
    "import bluesky.plan_stubs as bps  # noqa F401\n",
    "import bluesky.plans as bp  # noqa F401\n",
    "import databroker  # type: ignore[import-untyped]\n",
    "import matplotlib.pyplot as plt\n",
    "import tiled.client.container\n",
    "from bluesky.callbacks import best_effort\n",
    "from bluesky.callbacks.tiled_writer import TiledWriter\n",
    "from bluesky.run_engine import RunEngine\n",
    "from databroker import Broker\n",
    "from ophyd.utils import make_dir_tree  # type: ignore[import-untyped]\n",
    "from tiled.client import from_uri  # type: ignore[import-untyped]\n",
    "from tiled.server import SimpleTiledServer\n",
    "\n",
    "from blop import DOF, Objective\n",
    "from blop.integrations.ax.agent import AxAgent as Agent\n",
    "from blop.sim import HDF5Handler\n",
    "from blop.sim.xrt_beamline import DatabrokerBeamline, TiledBeamline\n",
    "\n",
    "DETECTOR_STORAGE = \"/tmp/blop/sim\""
   ]
  },
  {
   "cell_type": "code",
   "execution_count": null,
   "id": "3",
   "metadata": {},
   "outputs": [],
   "source": [
    "tiled_server = SimpleTiledServer(readable_storage=[DETECTOR_STORAGE])\n",
    "tiled_client = from_uri(tiled_server.uri)\n",
    "tiled_writer = TiledWriter(tiled_client)\n",
    "\n",
    "\n",
    "def setup_re_env(db_type=\"default\", root_dir=\"/default/path\", method=\"tiled\"):\n",
    "    RE = RunEngine({})\n",
    "    bec = best_effort.BestEffortCallback()\n",
    "    RE.subscribe(bec)\n",
    "    _ = make_dir_tree(datetime.now().year, base_path=root_dir)\n",
    "\n",
    "    if method == \"tiled\":\n",
    "        RE.subscribe(tiled_writer)\n",
    "        return {\"RE\": RE, \"db\": tiled_client, \"bec\": bec}\n",
    "\n",
    "    elif method == \"databroker\":\n",
    "        db = Broker.named(db_type)\n",
    "        db.reg.register_handler(\"HDF5\", HDF5Handler, overwrite=True)\n",
    "        try:\n",
    "            databroker.assets.utils.install_sentinels(db.reg.config, version=1)\n",
    "        except Exception:\n",
    "            pass\n",
    "        RE.subscribe(db.insert)\n",
    "        return {\n",
    "            \"RE\": RE,\n",
    "            \"db\": db,\n",
    "            \"bec\": bec,\n",
    "        }\n",
    "    else:\n",
    "        raise ValueError(\"The method for data storage used is not supported\")\n",
    "\n",
    "\n",
    "def register_handlers(db, handlers):\n",
    "    for handler_spec, handler_class in handlers.items():\n",
    "        db.reg.register_handler(handler_spec, handler_class, overwrite=True)\n",
    "\n",
    "\n",
    "env = setup_re_env(db_type=\"temp\", root_dir=\"/tmp/blop/sim\", method=\"tiled\")\n",
    "globals().update(env)\n",
    "bec.disable_plots()"
   ]
  },
  {
   "cell_type": "code",
   "execution_count": null,
   "id": "4",
   "metadata": {},
   "outputs": [],
   "source": [
    "plt.ion()\n",
    "\n",
    "h_opt = 0\n",
    "dh = 5\n",
    "\n",
    "R1, dR1 = 40000, 10000\n",
    "R2, dR2 = 20000, 10000"
   ]
  },
  {
   "cell_type": "code",
   "execution_count": null,
   "id": "5",
   "metadata": {},
   "outputs": [],
   "source": [
    "if isinstance(db, tiled.client.container.Container):\n",
    "    beamline = TiledBeamline(name=\"bl\")\n",
    "else:\n",
    "    beamline = DatabrokerBeamline(name=\"bl\")\n",
    "time.sleep(1)\n",
    "dofs = [\n",
    "    DOF(description=\"KBV R\", device=beamline.kbv_dsv, search_domain=(R1 - dR1, R1 + dR1)),\n",
    "    DOF(description=\"KBH R\", device=beamline.kbh_dsh, search_domain=(R2 - dR2, R2 + dR2)),\n",
    "]"
   ]
  },
  {
   "cell_type": "code",
   "execution_count": null,
   "id": "6",
   "metadata": {},
   "outputs": [],
   "source": [
    "objectives = [\n",
    "    Objective(name=\"bl_det_sum\", target=\"max\", transform=\"log\", trust_domain=(20, 1e12)),\n",
    "    Objective(\n",
    "        name=\"bl_det_wid_x\",\n",
    "        target=\"min\",\n",
    "        transform=\"log\",\n",
    "        # trust_domain=(0, 1e12),\n",
    "        # latent_groups=[(\"bl_kbh_dsh\", \"bl_kbv_dsv\")],\n",
    "    ),\n",
    "    Objective(\n",
    "        name=\"bl_det_wid_y\",\n",
    "        target=\"min\",\n",
    "        transform=\"log\",\n",
    "        # trust_domain=(0, 1e12),\n",
    "        # latent_groups=[(\"bl_kbh_dsh\", \"bl_kbv_dsv\")],\n",
    "    ),\n",
    "]"
   ]
  },
  {
   "cell_type": "code",
   "execution_count": null,
   "id": "7",
   "metadata": {},
   "outputs": [],
   "source": [
    "agent = Agent(\n",
    "    readables=[beamline.det],\n",
    "    dofs=dofs,\n",
    "    objectives=objectives,\n",
    "    db=db,\n",
    ")\n",
    "agent.configure_experiment(\n",
    "    name=\"xrt-blop-demo\",\n",
    "    description=\"A demo of the Blop agent with XRT simulated beamline\",\n",
    "    experiment_type=\"demo\",\n",
    ")"
   ]
  },
  {
   "cell_type": "code",
   "execution_count": null,
   "id": "8",
   "metadata": {},
   "outputs": [],
   "source": [
    "RE(agent.learn(iterations=25))"
   ]
  },
  {
   "cell_type": "code",
   "execution_count": null,
   "id": "9",
   "metadata": {},
   "outputs": [],
   "source": [
    "_ = agent.plot_objective(x_dof_name=\"bl_kbh_dsh\", y_dof_name=\"bl_kbv_dsv\", objective_name=\"bl_det_sum\")"
   ]
  },
  {
   "cell_type": "markdown",
   "id": "10",
   "metadata": {},
   "source": [
    "## Visualizing the optimal beam\n",
    "\n",
    "Below we get the optimal parameters, move the motors to their optimal positions, and observe the resulting beam."
   ]
  },
  {
   "cell_type": "code",
   "execution_count": null,
   "id": "11",
   "metadata": {},
   "outputs": [],
   "source": [
    "optimal_parameters = next(iter(agent.client.get_pareto_frontier()))[0]\n",
    "optimal_parameters"
   ]
  },
  {
   "cell_type": "code",
   "execution_count": null,
   "id": "12",
   "metadata": {},
   "outputs": [],
   "source": [
    "from bluesky.plans import list_scan\n",
    "\n",
    "scan_motor_params = []\n",
    "for motor in [beamline.kbv_dsv, beamline.kbh_dsh]:\n",
    "    scan_motor_params.append(motor)\n",
    "    scan_motor_params.append([optimal_parameters[motor.name]])\n",
    "uid = RE(list_scan([beamline.det], *scan_motor_params))"
   ]
  },
  {
   "cell_type": "code",
   "execution_count": null,
   "id": "13",
   "metadata": {},
   "outputs": [],
   "source": [
    "import matplotlib.pyplot as plt\n",
    "\n",
    "image = db[uid[0]][\"streams\"][\"primary\"][\"bl_det_image\"].read().squeeze()\n",
    "plt.imshow(image)\n",
    "plt.colorbar()\n",
    "plt.show()"
   ]
  }
 ],
 "metadata": {
  "kernelspec": {
   "display_name": "dev",
   "language": "python",
   "name": "python3"
  },
  "language_info": {
   "codemirror_mode": {
    "name": "ipython",
    "version": 3
   },
   "file_extension": ".py",
   "mimetype": "text/x-python",
   "name": "python",
   "nbconvert_exporter": "python",
   "pygments_lexer": "ipython3",
   "version": "3.12.11"
  }
 },
 "nbformat": 4,
 "nbformat_minor": 5
}
