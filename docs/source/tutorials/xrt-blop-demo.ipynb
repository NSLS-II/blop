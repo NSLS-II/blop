{
 "cells": [
  {
   "cell_type": "markdown",
   "id": "0",
   "metadata": {},
   "source": [
    "# XRT Blop Demo"
   ]
  },
  {
   "cell_type": "markdown",
   "id": "1",
   "metadata": {},
   "source": [
    "For ophyd beamline setup see: \n",
    "- https://github.com/NSLS-II/blop/blob/main/src/blop/sim/xrt_beamline.py\n",
    "- https://github.com/NSLS-II/blop/blob/main/src/blop/sim/xrt_kb_model.py\n",
    "\n",
    "The picture below displays beam from geometric source propagating through a pair of toroidal mirrors focusing the beam on screen. Simulation of a KB setup.\n",
    "\n",
    "![xrt_blop_layout_w.jpg](../_static/xrt_blop_layout_w.jpg)"
   ]
  },
  {
   "cell_type": "code",
   "execution_count": null,
   "id": "2",
   "metadata": {},
   "outputs": [
    {
     "name": "stderr",
     "output_type": "stream",
     "text": [
      "Tiled version 0.1.dev2754+g895a852\n"
     ]
    },
    {
     "name": "stderr",
     "output_type": "stream",
     "text": [
      "2025-06-03 16:32:08.468 INFO: HTTP Request: GET http://127.0.0.1:34059/api/v1/table/partition/ae98d7c1-253f-49b7-acea-a2efd3dd0731/primary/internal/events?partition=0 \"HTTP/1.1 200 OK\"\n",
      "2025-06-03 16:32:08.573 INFO: HTTP Request: GET http://127.0.0.1:34059/api/v1/array/block/ae98d7c1-253f-49b7-acea-a2efd3dd0731/primary/external/bl_det_image?block=9%2C0%2C0&expected_shape=1%2C300%2C400 \"HTTP/1.1 200 OK\"\n",
      "2025-06-03 16:32:08.601 INFO: HTTP Request: GET http://127.0.0.1:34059/api/v1/array/block/ae98d7c1-253f-49b7-acea-a2efd3dd0731/primary/external/bl_det_image?block=11%2C0%2C0&expected_shape=1%2C300%2C400 \"HTTP/1.1 200 OK\"\n",
      "2025-06-03 16:32:08.644 INFO: HTTP Request: GET http://127.0.0.1:34059/api/v1/array/block/ae98d7c1-253f-49b7-acea-a2efd3dd0731/primary/external/bl_det_image?block=4%2C0%2C0&expected_shape=1%2C300%2C400 \"HTTP/1.1 200 OK\"\n",
      "2025-06-03 16:32:08.656 INFO: HTTP Request: GET http://127.0.0.1:34059/api/v1/array/block/ae98d7c1-253f-49b7-acea-a2efd3dd0731/primary/external/bl_det_image?block=7%2C0%2C0&expected_shape=1%2C300%2C400 \"HTTP/1.1 200 OK\"\n",
      "2025-06-03 16:32:08.669 INFO: HTTP Request: GET http://127.0.0.1:34059/api/v1/array/block/ae98d7c1-253f-49b7-acea-a2efd3dd0731/primary/external/bl_det_image?block=8%2C0%2C0&expected_shape=1%2C300%2C400 \"HTTP/1.1 200 OK\"\n",
      "2025-06-03 16:32:08.671 INFO: HTTP Request: GET http://127.0.0.1:34059/api/v1/array/block/ae98d7c1-253f-49b7-acea-a2efd3dd0731/primary/external/bl_det_image?block=1%2C0%2C0&expected_shape=1%2C300%2C400 \"HTTP/1.1 200 OK\"\n",
      "2025-06-03 16:32:08.677 INFO: HTTP Request: GET http://127.0.0.1:34059/api/v1/array/block/ae98d7c1-253f-49b7-acea-a2efd3dd0731/primary/external/bl_det_image?block=5%2C0%2C0&expected_shape=1%2C300%2C400 \"HTTP/1.1 200 OK\"\n",
      "2025-06-03 16:32:08.677 INFO: HTTP Request: GET http://127.0.0.1:34059/api/v1/array/block/ae98d7c1-253f-49b7-acea-a2efd3dd0731/primary/external/bl_det_image?block=12%2C0%2C0&expected_shape=1%2C300%2C400 \"HTTP/1.1 200 OK\"\n",
      "2025-06-03 16:32:08.682 INFO: HTTP Request: GET http://127.0.0.1:34059/api/v1/array/block/ae98d7c1-253f-49b7-acea-a2efd3dd0731/primary/external/bl_det_image?block=13%2C0%2C0&expected_shape=1%2C300%2C400 \"HTTP/1.1 200 OK\"\n",
      "2025-06-03 16:32:08.685 INFO: HTTP Request: GET http://127.0.0.1:34059/api/v1/array/block/ae98d7c1-253f-49b7-acea-a2efd3dd0731/primary/external/bl_det_image?block=10%2C0%2C0&expected_shape=1%2C300%2C400 \"HTTP/1.1 200 OK\"\n",
      "2025-06-03 16:32:08.689 INFO: HTTP Request: GET http://127.0.0.1:34059/api/v1/array/block/ae98d7c1-253f-49b7-acea-a2efd3dd0731/primary/external/bl_det_image?block=6%2C0%2C0&expected_shape=1%2C300%2C400 \"HTTP/1.1 200 OK\"\n",
      "2025-06-03 16:32:08.694 INFO: HTTP Request: GET http://127.0.0.1:34059/api/v1/array/block/ae98d7c1-253f-49b7-acea-a2efd3dd0731/primary/external/bl_det_image?block=15%2C0%2C0&expected_shape=1%2C300%2C400 \"HTTP/1.1 200 OK\"\n",
      "2025-06-03 16:32:08.696 INFO: HTTP Request: GET http://127.0.0.1:34059/api/v1/array/block/ae98d7c1-253f-49b7-acea-a2efd3dd0731/primary/external/bl_det_image?block=2%2C0%2C0&expected_shape=1%2C300%2C400 \"HTTP/1.1 200 OK\"\n",
      "2025-06-03 16:32:08.697 INFO: HTTP Request: GET http://127.0.0.1:34059/api/v1/array/block/ae98d7c1-253f-49b7-acea-a2efd3dd0731/primary/external/bl_det_image?block=3%2C0%2C0&expected_shape=1%2C300%2C400 \"HTTP/1.1 200 OK\"\n",
      "2025-06-03 16:32:08.698 INFO: HTTP Request: GET http://127.0.0.1:34059/api/v1/array/block/ae98d7c1-253f-49b7-acea-a2efd3dd0731/primary/external/bl_det_image?block=14%2C0%2C0&expected_shape=1%2C300%2C400 \"HTTP/1.1 200 OK\"\n",
      "2025-06-03 16:32:08.698 INFO: HTTP Request: GET http://127.0.0.1:34059/api/v1/array/block/ae98d7c1-253f-49b7-acea-a2efd3dd0731/primary/external/bl_det_image?block=0%2C0%2C0&expected_shape=1%2C300%2C400 \"HTTP/1.1 200 OK\"\n",
      "2025-06-03 16:32:09.631 INFO: HTTP Request: GET http://127.0.0.1:34059/api/v1/table/partition/8bcf2744-0c49-4e8c-b5b9-3ab8c1ec7340/primary/internal/events?partition=0 \"HTTP/1.1 200 OK\"\n",
      "2025-06-03 16:32:09.687 INFO: HTTP Request: GET http://127.0.0.1:34059/api/v1/array/block/8bcf2744-0c49-4e8c-b5b9-3ab8c1ec7340/primary/external/bl_det_image?block=3%2C0%2C0&expected_shape=1%2C300%2C400 \"HTTP/1.1 200 OK\"\n",
      "2025-06-03 16:32:09.689 INFO: HTTP Request: GET http://127.0.0.1:34059/api/v1/array/block/8bcf2744-0c49-4e8c-b5b9-3ab8c1ec7340/primary/external/bl_det_image?block=0%2C0%2C0&expected_shape=1%2C300%2C400 \"HTTP/1.1 200 OK\"\n",
      "2025-06-03 16:32:09.692 INFO: HTTP Request: GET http://127.0.0.1:34059/api/v1/array/block/8bcf2744-0c49-4e8c-b5b9-3ab8c1ec7340/primary/external/bl_det_image?block=1%2C0%2C0&expected_shape=1%2C300%2C400 \"HTTP/1.1 200 OK\"\n",
      "2025-06-03 16:32:09.693 INFO: HTTP Request: GET http://127.0.0.1:34059/api/v1/array/block/8bcf2744-0c49-4e8c-b5b9-3ab8c1ec7340/primary/external/bl_det_image?block=2%2C0%2C0&expected_shape=1%2C300%2C400 \"HTTP/1.1 200 OK\"\n",
      "2025-06-03 16:32:10.681 INFO: HTTP Request: GET http://127.0.0.1:34059/api/v1/table/partition/c4116607-21b1-4e6b-8ec8-37980feee8e7/primary/internal/events?partition=0 \"HTTP/1.1 200 OK\"\n",
      "2025-06-03 16:32:10.740 INFO: HTTP Request: GET http://127.0.0.1:34059/api/v1/array/block/c4116607-21b1-4e6b-8ec8-37980feee8e7/primary/external/bl_det_image?block=2%2C0%2C0&expected_shape=1%2C300%2C400 \"HTTP/1.1 200 OK\"\n",
      "2025-06-03 16:32:10.743 INFO: HTTP Request: GET http://127.0.0.1:34059/api/v1/array/block/c4116607-21b1-4e6b-8ec8-37980feee8e7/primary/external/bl_det_image?block=1%2C0%2C0&expected_shape=1%2C300%2C400 \"HTTP/1.1 200 OK\"\n",
      "2025-06-03 16:32:10.744 INFO: HTTP Request: GET http://127.0.0.1:34059/api/v1/array/block/c4116607-21b1-4e6b-8ec8-37980feee8e7/primary/external/bl_det_image?block=3%2C0%2C0&expected_shape=1%2C300%2C400 \"HTTP/1.1 200 OK\"\n",
      "2025-06-03 16:32:10.744 INFO: HTTP Request: GET http://127.0.0.1:34059/api/v1/array/block/c4116607-21b1-4e6b-8ec8-37980feee8e7/primary/external/bl_det_image?block=0%2C0%2C0&expected_shape=1%2C300%2C400 \"HTTP/1.1 200 OK\"\n",
      "2025-06-03 16:32:11.529 INFO: HTTP Request: GET http://127.0.0.1:34059/api/v1/table/partition/ad791c4d-edca-486f-b77b-119d89261593/primary/internal/events?partition=0 \"HTTP/1.1 200 OK\"\n",
      "2025-06-03 16:32:11.586 INFO: HTTP Request: GET http://127.0.0.1:34059/api/v1/array/block/ad791c4d-edca-486f-b77b-119d89261593/primary/external/bl_det_image?block=0%2C0%2C0&expected_shape=1%2C300%2C400 \"HTTP/1.1 200 OK\"\n",
      "2025-06-03 16:32:11.590 INFO: HTTP Request: GET http://127.0.0.1:34059/api/v1/array/block/ad791c4d-edca-486f-b77b-119d89261593/primary/external/bl_det_image?block=3%2C0%2C0&expected_shape=1%2C300%2C400 \"HTTP/1.1 200 OK\"\n",
      "2025-06-03 16:32:11.590 INFO: HTTP Request: GET http://127.0.0.1:34059/api/v1/array/block/ad791c4d-edca-486f-b77b-119d89261593/primary/external/bl_det_image?block=2%2C0%2C0&expected_shape=1%2C300%2C400 \"HTTP/1.1 200 OK\"\n",
      "2025-06-03 16:32:11.593 INFO: HTTP Request: GET http://127.0.0.1:34059/api/v1/array/block/ad791c4d-edca-486f-b77b-119d89261593/primary/external/bl_det_image?block=1%2C0%2C0&expected_shape=1%2C300%2C400 \"HTTP/1.1 200 OK\"\n",
      "2025-06-03 16:32:12.383 INFO: HTTP Request: GET http://127.0.0.1:34059/api/v1/table/partition/4b97fb35-4c9f-4e2d-8175-be751cd553ab/primary/internal/events?partition=0 \"HTTP/1.1 200 OK\"\n",
      "2025-06-03 16:32:12.440 INFO: HTTP Request: GET http://127.0.0.1:34059/api/v1/array/block/4b97fb35-4c9f-4e2d-8175-be751cd553ab/primary/external/bl_det_image?block=3%2C0%2C0&expected_shape=1%2C300%2C400 \"HTTP/1.1 200 OK\"\n",
      "2025-06-03 16:32:12.444 INFO: HTTP Request: GET http://127.0.0.1:34059/api/v1/array/block/4b97fb35-4c9f-4e2d-8175-be751cd553ab/primary/external/bl_det_image?block=1%2C0%2C0&expected_shape=1%2C300%2C400 \"HTTP/1.1 200 OK\"\n",
      "2025-06-03 16:32:12.448 INFO: HTTP Request: GET http://127.0.0.1:34059/api/v1/array/block/4b97fb35-4c9f-4e2d-8175-be751cd553ab/primary/external/bl_det_image?block=2%2C0%2C0&expected_shape=1%2C300%2C400 \"HTTP/1.1 200 OK\"\n",
      "2025-06-03 16:32:12.449 INFO: HTTP Request: GET http://127.0.0.1:34059/api/v1/array/block/4b97fb35-4c9f-4e2d-8175-be751cd553ab/primary/external/bl_det_image?block=0%2C0%2C0&expected_shape=1%2C300%2C400 \"HTTP/1.1 200 OK\"\n",
      "2025-06-03 16:33:03.904 INFO: HTTP Request: GET http://127.0.0.1:34059/api/v1/table/partition/216416f0-801e-4dca-94f3-8cef39f399fa/primary/internal/events?partition=0 \"HTTP/1.1 200 OK\"\n",
      "2025-06-03 16:33:04.048 INFO: HTTP Request: GET http://127.0.0.1:34059/api/v1/array/block/216416f0-801e-4dca-94f3-8cef39f399fa/primary/external/bl_det_image?block=4%2C0%2C0&expected_shape=1%2C300%2C400 \"HTTP/1.1 200 OK\"\n",
      "2025-06-03 16:33:04.068 INFO: HTTP Request: GET http://127.0.0.1:34059/api/v1/array/block/216416f0-801e-4dca-94f3-8cef39f399fa/primary/external/bl_det_image?block=0%2C0%2C0&expected_shape=1%2C300%2C400 \"HTTP/1.1 200 OK\"\n",
      "2025-06-03 16:33:04.087 INFO: HTTP Request: GET http://127.0.0.1:34059/api/v1/array/block/216416f0-801e-4dca-94f3-8cef39f399fa/primary/external/bl_det_image?block=7%2C0%2C0&expected_shape=1%2C300%2C400 \"HTTP/1.1 200 OK\"\n",
      "2025-06-03 16:33:04.096 INFO: HTTP Request: GET http://127.0.0.1:34059/api/v1/array/block/216416f0-801e-4dca-94f3-8cef39f399fa/primary/external/bl_det_image?block=9%2C0%2C0&expected_shape=1%2C300%2C400 \"HTTP/1.1 200 OK\"\n",
      "2025-06-03 16:33:04.102 INFO: HTTP Request: GET http://127.0.0.1:34059/api/v1/array/block/216416f0-801e-4dca-94f3-8cef39f399fa/primary/external/bl_det_image?block=1%2C0%2C0&expected_shape=1%2C300%2C400 \"HTTP/1.1 200 OK\"\n",
      "2025-06-03 16:33:04.102 INFO: HTTP Request: GET http://127.0.0.1:34059/api/v1/array/block/216416f0-801e-4dca-94f3-8cef39f399fa/primary/external/bl_det_image?block=11%2C0%2C0&expected_shape=1%2C300%2C400 \"HTTP/1.1 200 OK\"\n",
      "2025-06-03 16:33:04.102 INFO: HTTP Request: GET http://127.0.0.1:34059/api/v1/array/block/216416f0-801e-4dca-94f3-8cef39f399fa/primary/external/bl_det_image?block=13%2C0%2C0&expected_shape=1%2C300%2C400 \"HTTP/1.1 200 OK\"\n",
      "2025-06-03 16:33:04.111 INFO: HTTP Request: GET http://127.0.0.1:34059/api/v1/array/block/216416f0-801e-4dca-94f3-8cef39f399fa/primary/external/bl_det_image?block=5%2C0%2C0&expected_shape=1%2C300%2C400 \"HTTP/1.1 200 OK\"\n",
      "2025-06-03 16:33:04.112 INFO: HTTP Request: GET http://127.0.0.1:34059/api/v1/array/block/216416f0-801e-4dca-94f3-8cef39f399fa/primary/external/bl_det_image?block=8%2C0%2C0&expected_shape=1%2C300%2C400 \"HTTP/1.1 200 OK\"\n",
      "2025-06-03 16:33:04.112 INFO: HTTP Request: GET http://127.0.0.1:34059/api/v1/array/block/216416f0-801e-4dca-94f3-8cef39f399fa/primary/external/bl_det_image?block=15%2C0%2C0&expected_shape=1%2C300%2C400 \"HTTP/1.1 200 OK\"\n",
      "2025-06-03 16:33:04.112 INFO: HTTP Request: GET http://127.0.0.1:34059/api/v1/array/block/216416f0-801e-4dca-94f3-8cef39f399fa/primary/external/bl_det_image?block=12%2C0%2C0&expected_shape=1%2C300%2C400 \"HTTP/1.1 200 OK\"\n",
      "2025-06-03 16:33:04.118 INFO: HTTP Request: GET http://127.0.0.1:34059/api/v1/array/block/216416f0-801e-4dca-94f3-8cef39f399fa/primary/external/bl_det_image?block=2%2C0%2C0&expected_shape=1%2C300%2C400 \"HTTP/1.1 200 OK\"\n",
      "2025-06-03 16:33:04.118 INFO: HTTP Request: GET http://127.0.0.1:34059/api/v1/array/block/216416f0-801e-4dca-94f3-8cef39f399fa/primary/external/bl_det_image?block=14%2C0%2C0&expected_shape=1%2C300%2C400 \"HTTP/1.1 200 OK\"\n",
      "2025-06-03 16:33:04.118 INFO: HTTP Request: GET http://127.0.0.1:34059/api/v1/array/block/216416f0-801e-4dca-94f3-8cef39f399fa/primary/external/bl_det_image?block=3%2C0%2C0&expected_shape=1%2C300%2C400 \"HTTP/1.1 200 OK\"\n",
      "2025-06-03 16:33:04.119 INFO: HTTP Request: GET http://127.0.0.1:34059/api/v1/array/block/216416f0-801e-4dca-94f3-8cef39f399fa/primary/external/bl_det_image?block=6%2C0%2C0&expected_shape=1%2C300%2C400 \"HTTP/1.1 200 OK\"\n",
      "2025-06-03 16:33:04.121 INFO: HTTP Request: GET http://127.0.0.1:34059/api/v1/array/block/216416f0-801e-4dca-94f3-8cef39f399fa/primary/external/bl_det_image?block=10%2C0%2C0&expected_shape=1%2C300%2C400 \"HTTP/1.1 200 OK\"\n"
     ]
    }
   ],
   "source": [
    "import datetime\n",
    "\n",
    "import matplotlib.pyplot as plt\n",
    "import numpy as np\n",
    "from bluesky.callbacks import best_effort\n",
    "from bluesky.callbacks.tiled_writer import TiledWriter\n",
    "from bluesky.run_engine import RunEngine\n",
    "from ophyd.utils import make_dir_tree\n",
    "from tiled.client import from_uri\n",
    "from tiled.server import SimpleTiledServer\n",
    "\n",
    "# Initialize Tiled server and client\n",
    "tiled_server = SimpleTiledServer(directory=\"/tmp/blop/sim/data/\")\n",
    "tiled_client = from_uri(tiled_server.uri)\n",
    "tiled_writer = TiledWriter(tiled_client)\n",
    "RE = RunEngine({})\n",
    "\n",
    "\n",
    "# Set up RE enviornment\n",
    "def setup_re_env(db_type=\"default\", root_dir=\"/default/path\"):\n",
    "    bec = best_effort.BestEffortCallback()\n",
    "    RE.subscribe(bec)\n",
    "    RE.subscribe(tiled_writer)\n",
    "    _ = make_dir_tree(datetime.datetime.now().year, base_path=root_dir)\n",
    "    return {\"RE\": RE, \"tiled\": tiled_client, \"bec\": bec}\n",
    "\n",
    "\n",
    "env = setup_re_env(db_type=\"temp\", root_dir=\"/tmp/blop/sim/data\")\n",
    "globals().update(env)\n",
    "\n",
    "bec.disable_plots()"
   ]
  },
  {
   "cell_type": "code",
   "execution_count": 2,
   "id": "3",
   "metadata": {},
   "outputs": [
    {
     "name": "stderr",
     "output_type": "stream",
     "text": [
      "/home/jmoylan1/miniconda3/envs/test_tiled_new/lib/python3.11/site-packages/tqdm/auto.py:21: TqdmWarning: IProgress not found. Please update jupyter and ipywidgets. See https://ipywidgets.readthedocs.io/en/stable/user_install.html\n",
      "  from .autonotebook import tqdm as notebook_tqdm\n"
     ]
    }
   ],
   "source": [
    "import time\n",
    "\n",
    "from matplotlib import pyplot as plt\n",
    "\n",
    "from blop import DOF, Agent, Objective\n",
    "from blop.digestion import beam_stats_digestion\n",
    "from blop.sim.xrt_beamline import Beamline"
   ]
  },
  {
   "cell_type": "code",
   "execution_count": 3,
   "id": "4",
   "metadata": {},
   "outputs": [],
   "source": [
    "plt.ion()\n",
    "\n",
    "h_opt = 0\n",
    "dh = 5\n",
    "\n",
    "R1, dR1 = 40000, 10000\n",
    "R2, dR2 = 20000, 10000"
   ]
  },
  {
   "cell_type": "code",
   "execution_count": 4,
   "id": "5",
   "metadata": {},
   "outputs": [],
   "source": [
    "beamline = Beamline(name=\"bl\")\n",
    "time.sleep(1)\n",
    "dofs = [\n",
    "    DOF(description=\"KBV R\",\n",
    "        device=beamline.kbv_dsv,\n",
    "        search_domain=(R1 - dR1, R1 + dR1)),\n",
    "    DOF(description=\"KBH R\",\n",
    "        device=beamline.kbh_dsh,\n",
    "        search_domain=(R2 - dR2, R2 + dR2)),\n",
    "\n",
    "]"
   ]
  },
  {
   "cell_type": "code",
   "execution_count": 5,
   "id": "6",
   "metadata": {},
   "outputs": [],
   "source": [
    "objectives = [\n",
    "    Objective(name=\"bl_det_sum\",\n",
    "              target=\"max\",\n",
    "              transform=\"log\",\n",
    "              trust_domain=(20, 1e12)),\n",
    "\n",
    "    Objective(name=\"bl_det_wid_x\",\n",
    "              target=\"min\",\n",
    "              transform=\"log\",\n",
    "              # trust_domain=(0, 1e12),\n",
    "              latent_groups=[(\"bl_kbh_dsh\", \"bl_kbv_dsv\")]),\n",
    "    Objective(name=\"bl_det_wid_y\",\n",
    "              target=\"min\",\n",
    "              transform=\"log\",\n",
    "              # trust_domain=(0, 1e12),\n",
    "              latent_groups=[(\"bl_kbh_dsh\", \"bl_kbv_dsv\")]),\n",
    "]"
   ]
  },
  {
   "cell_type": "code",
   "execution_count": 6,
   "id": "c6526b12",
   "metadata": {},
   "outputs": [],
   "source": [
    "# import json\n",
    "# class JSONWriter:\n",
    "#     \"\"\"Writer for a JSON array\"\"\"\n",
    "\n",
    "#     def __init__(self, filepath):\n",
    "#         self.file = open(filepath, \"w\")\n",
    "#         self.file.write(\"[\\n\")\n",
    "\n",
    "#     def __call__(self, name, doc):\n",
    "#         json.dump({\"name\": name, \"doc\": doc}, self.file)\n",
    "#         if name == \"stop\":\n",
    "#             self.file.write(\"\\n]\")\n",
    "#             self.file.close()\n",
    "#         else:\n",
    "#             self.file.write(\",\\n\")\n",
    "\n",
    "# wr = JSONWriter('/tmp/blop/sim/test_tiled_writer1.json')\n",
    "# RE.subscribe(wr)"
   ]
  },
  {
   "cell_type": "code",
   "execution_count": 7,
   "id": "7",
   "metadata": {},
   "outputs": [],
   "source": [
    "agent = Agent(\n",
    "    dofs=dofs,\n",
    "    objectives=objectives,\n",
    "    detectors=[beamline.det],\n",
    "    digestion=beam_stats_digestion,\n",
    "    digestion_kwargs={\"image_key\": \"bl_det_image\"},\n",
    "    verbose=True,\n",
    "    tiled=tiled,\n",
    "    tolerate_acquisition_errors=False,\n",
    "    enforce_all_objectives_valid=True,\n",
    "    train_every=3,\n",
    ")"
   ]
  },
  {
   "cell_type": "code",
   "execution_count": 12,
   "id": "8",
   "metadata": {},
   "outputs": [
    {
     "name": "stderr",
     "output_type": "stream",
     "text": [
      "2025-06-03 16:33:02.040 INFO: Executing plan <generator object Agent.learn at 0x7d7d2bf44cc0>\n",
      "2025-06-03 16:33:02.042 INFO: Change state on <bluesky.run_engine.RunEngine object at 0x7d7e2af5c4d0> from 'idle' -> 'running'\n",
      "2025-06-03 16:33:02.042 INFO: running iteration 1 / 1\n"
     ]
    },
    {
     "name": "stdout",
     "output_type": "stream",
     "text": [
      "image_shape: (300, 400)\n",
      "(1, 300, 400)\n",
      "\n",
      "\n",
      "Transient Scan ID: 6     Time: 2025-06-03 16:33:02\n",
      "Persistent Unique Scan ID: '216416f0-801e-4dca-94f3-8cef39f399fa'\n"
     ]
    },
    {
     "name": "stderr",
     "output_type": "stream",
     "text": [
      "2025-06-03 16:33:02.065 INFO: HTTP Request: POST http://127.0.0.1:34059/api/v1/metadata/ \"HTTP/1.1 200 OK\"\n"
     ]
    },
    {
     "name": "stdout",
     "output_type": "stream",
     "text": [
      "New stream: 'primary'\n",
      "+-----------+------------+------------+------------+------------+--------------+--------------+--------------+--------------+\n",
      "|   seq_num |       time | bl_kbv_dsv | bl_kbh_dsh | bl_det_sum | bl_det_cen_x | bl_det_cen_y | bl_det_wid_x | bl_det_wid_y |\n",
      "+-----------+------------+------------+------------+------------+--------------+--------------+--------------+--------------+\n"
     ]
    },
    {
     "name": "stderr",
     "output_type": "stream",
     "text": [
      "2025-06-03 16:33:02.102 INFO: HTTP Request: GET http://127.0.0.1:34059/api/v1/search//216416f0-801e-4dca-94f3-8cef39f399fa?page%5Boffset%5D=0&fields=&sort= \"HTTP/1.1 200 OK\"\n",
      "2025-06-03 16:33:02.114 INFO: HTTP Request: POST http://127.0.0.1:34059/api/v1/metadata//216416f0-801e-4dca-94f3-8cef39f399fa \"HTTP/1.1 200 OK\"\n",
      "2025-06-03 16:33:02.125 INFO: HTTP Request: POST http://127.0.0.1:34059/api/v1/metadata//216416f0-801e-4dca-94f3-8cef39f399fa/primary \"HTTP/1.1 200 OK\"\n",
      "2025-06-03 16:33:02.137 INFO: HTTP Request: POST http://127.0.0.1:34059/api/v1/metadata//216416f0-801e-4dca-94f3-8cef39f399fa/primary \"HTTP/1.1 200 OK\"\n",
      "2025-06-03 16:33:02.149 INFO: HTTP Request: POST http://127.0.0.1:34059/api/v1/metadata//216416f0-801e-4dca-94f3-8cef39f399fa/primary \"HTTP/1.1 200 OK\"\n",
      "2025-06-03 16:33:02.161 INFO: HTTP Request: PATCH http://127.0.0.1:34059/api/v1/metadata//216416f0-801e-4dca-94f3-8cef39f399fa/primary \"HTTP/1.1 200 OK\"\n",
      "2025-06-03 16:33:02.170 INFO: HTTP Request: GET http://127.0.0.1:34059/api/v1/metadata//216416f0-801e-4dca-94f3-8cef39f399fa/primary/config \"HTTP/1.1 200 OK\"\n",
      "2025-06-03 16:33:02.180 INFO: HTTP Request: GET http://127.0.0.1:34059/api/v1/search/216416f0-801e-4dca-94f3-8cef39f399fa/primary/config?page%5Boffset%5D=0&fields=&sort= \"HTTP/1.1 200 OK\"\n",
      "2025-06-03 16:33:02.198 INFO: HTTP Request: POST http://127.0.0.1:34059/api/v1/metadata/216416f0-801e-4dca-94f3-8cef39f399fa/primary/config \"HTTP/1.1 200 OK\"\n",
      "2025-06-03 16:33:02.210 INFO: HTTP Request: GET http://127.0.0.1:34059/api/v1/metadata/216416f0-801e-4dca-94f3-8cef39f399fa/primary/config/bl_kbh_dsh \"HTTP/1.1 200 OK\"\n",
      "2025-06-03 16:33:02.223 INFO: HTTP Request: PUT http://127.0.0.1:34059/api/v1/table/partition/216416f0-801e-4dca-94f3-8cef39f399fa/primary/config/bl_kbh_dsh?partition=0 \"HTTP/1.1 200 OK\"\n",
      "2025-06-03 16:33:02.233 INFO: HTTP Request: GET http://127.0.0.1:34059/api/v1/search/216416f0-801e-4dca-94f3-8cef39f399fa/primary/config?page%5Boffset%5D=0&fields=&sort= \"HTTP/1.1 200 OK\"\n",
      "2025-06-03 16:33:02.251 INFO: HTTP Request: POST http://127.0.0.1:34059/api/v1/metadata/216416f0-801e-4dca-94f3-8cef39f399fa/primary/config \"HTTP/1.1 200 OK\"\n",
      "2025-06-03 16:33:02.263 INFO: HTTP Request: GET http://127.0.0.1:34059/api/v1/metadata/216416f0-801e-4dca-94f3-8cef39f399fa/primary/config/bl_det \"HTTP/1.1 200 OK\"\n",
      "2025-06-03 16:33:02.275 INFO: HTTP Request: PUT http://127.0.0.1:34059/api/v1/table/partition/216416f0-801e-4dca-94f3-8cef39f399fa/primary/config/bl_det?partition=0 \"HTTP/1.1 200 OK\"\n",
      "2025-06-03 16:33:02.285 INFO: HTTP Request: GET http://127.0.0.1:34059/api/v1/search/216416f0-801e-4dca-94f3-8cef39f399fa/primary/config?page%5Boffset%5D=0&fields=&sort= \"HTTP/1.1 200 OK\"\n",
      "2025-06-03 16:33:02.303 INFO: HTTP Request: POST http://127.0.0.1:34059/api/v1/metadata/216416f0-801e-4dca-94f3-8cef39f399fa/primary/config \"HTTP/1.1 200 OK\"\n",
      "2025-06-03 16:33:02.315 INFO: HTTP Request: GET http://127.0.0.1:34059/api/v1/metadata/216416f0-801e-4dca-94f3-8cef39f399fa/primary/config/bl_kbv_dsv \"HTTP/1.1 200 OK\"\n",
      "2025-06-03 16:33:02.327 INFO: HTTP Request: PUT http://127.0.0.1:34059/api/v1/table/partition/216416f0-801e-4dca-94f3-8cef39f399fa/primary/config/bl_kbv_dsv?partition=0 \"HTTP/1.1 200 OK\"\n",
      "2025-06-03 16:33:02.336 INFO: HTTP Request: GET http://127.0.0.1:34059/api/v1/metadata//216416f0-801e-4dca-94f3-8cef39f399fa/primary/external \"HTTP/1.1 200 OK\"\n",
      "2025-06-03 16:33:02.353 INFO: HTTP Request: POST http://127.0.0.1:34059/api/v1/register/216416f0-801e-4dca-94f3-8cef39f399fa/primary/external \"HTTP/1.1 200 OK\"\n",
      "2025-06-03 16:33:02.364 INFO: HTTP Request: GET http://127.0.0.1:34059/api/v1/metadata/216416f0-801e-4dca-94f3-8cef39f399fa/primary/external/bl_det_image \"HTTP/1.1 200 OK\"\n",
      "2025-06-03 16:33:02.375 INFO: HTTP Request: GET http://127.0.0.1:34059/api/v1/metadata/216416f0-801e-4dca-94f3-8cef39f399fa/primary/external/bl_det_image?include_data_sources=true \"HTTP/1.1 200 OK\"\n",
      "2025-06-03 16:33:02.389 INFO: HTTP Request: PUT http://127.0.0.1:34059/api/v1/data_source/216416f0-801e-4dca-94f3-8cef39f399fa/primary/external/bl_det_image?data_source=234 \"HTTP/1.1 200 OK\"\n"
     ]
    },
    {
     "name": "stdout",
     "output_type": "stream",
     "text": [
      "|         1 | 16:33:02.3 |  35613.182 |  29949.272 |     -0.643 |      201.036 |      144.637 |      344.727 |      265.126 |\n"
     ]
    },
    {
     "name": "stderr",
     "output_type": "stream",
     "text": [
      "2025-06-03 16:33:02.399 INFO: HTTP Request: GET http://127.0.0.1:34059/api/v1/metadata//216416f0-801e-4dca-94f3-8cef39f399fa/primary/internal \"HTTP/1.1 200 OK\"\n",
      "2025-06-03 16:33:02.408 INFO: HTTP Request: GET http://127.0.0.1:34059/api/v1/search/216416f0-801e-4dca-94f3-8cef39f399fa/primary/internal?page%5Boffset%5D=0&fields=&sort= \"HTTP/1.1 200 OK\"\n",
      "2025-06-03 16:33:02.427 INFO: HTTP Request: POST http://127.0.0.1:34059/api/v1/metadata/216416f0-801e-4dca-94f3-8cef39f399fa/primary/internal \"HTTP/1.1 200 OK\"\n",
      "2025-06-03 16:33:02.438 INFO: HTTP Request: GET http://127.0.0.1:34059/api/v1/metadata/216416f0-801e-4dca-94f3-8cef39f399fa/primary/internal/events \"HTTP/1.1 200 OK\"\n",
      "2025-06-03 16:33:02.450 INFO: HTTP Request: PUT http://127.0.0.1:34059/api/v1/table/partition/216416f0-801e-4dca-94f3-8cef39f399fa/primary/internal/events?partition=0 \"HTTP/1.1 200 OK\"\n",
      "2025-06-03 16:33:02.489 INFO: HTTP Request: GET http://127.0.0.1:34059/api/v1/metadata/216416f0-801e-4dca-94f3-8cef39f399fa/primary/external/bl_det_image \"HTTP/1.1 200 OK\"\n",
      "2025-06-03 16:33:02.499 INFO: HTTP Request: GET http://127.0.0.1:34059/api/v1/metadata/216416f0-801e-4dca-94f3-8cef39f399fa/primary/external/bl_det_image?include_data_sources=true \"HTTP/1.1 200 OK\"\n",
      "2025-06-03 16:33:02.512 INFO: HTTP Request: PUT http://127.0.0.1:34059/api/v1/data_source/216416f0-801e-4dca-94f3-8cef39f399fa/primary/external/bl_det_image?data_source=234 \"HTTP/1.1 200 OK\"\n"
     ]
    },
    {
     "name": "stdout",
     "output_type": "stream",
     "text": [
      "|         2 | 16:33:02.5 |  30063.418 |  25634.692 |      2.621 |      192.720 |      151.656 |      369.210 |      259.995 |\n"
     ]
    },
    {
     "name": "stderr",
     "output_type": "stream",
     "text": [
      "2025-06-03 16:33:02.520 INFO: HTTP Request: GET http://127.0.0.1:34059/api/v1/metadata//216416f0-801e-4dca-94f3-8cef39f399fa/primary/internal \"HTTP/1.1 200 OK\"\n",
      "2025-06-03 16:33:02.529 INFO: HTTP Request: GET http://127.0.0.1:34059/api/v1/search/216416f0-801e-4dca-94f3-8cef39f399fa/primary/internal?page%5Boffset%5D=0&fields=&sort= \"HTTP/1.1 200 OK\"\n",
      "2025-06-03 16:33:02.538 INFO: HTTP Request: GET http://127.0.0.1:34059/api/v1/metadata/216416f0-801e-4dca-94f3-8cef39f399fa/primary/internal/events \"HTTP/1.1 200 OK\"\n",
      "2025-06-03 16:33:02.549 INFO: HTTP Request: PATCH http://127.0.0.1:34059/api/v1/table/partition/216416f0-801e-4dca-94f3-8cef39f399fa/primary/internal/events?partition=0 \"HTTP/1.1 200 OK\"\n",
      "2025-06-03 16:33:02.579 INFO: HTTP Request: GET http://127.0.0.1:34059/api/v1/metadata/216416f0-801e-4dca-94f3-8cef39f399fa/primary/external/bl_det_image \"HTTP/1.1 200 OK\"\n",
      "2025-06-03 16:33:02.588 INFO: HTTP Request: GET http://127.0.0.1:34059/api/v1/metadata/216416f0-801e-4dca-94f3-8cef39f399fa/primary/external/bl_det_image?include_data_sources=true \"HTTP/1.1 200 OK\"\n",
      "2025-06-03 16:33:02.599 INFO: HTTP Request: PUT http://127.0.0.1:34059/api/v1/data_source/216416f0-801e-4dca-94f3-8cef39f399fa/primary/external/bl_det_image?data_source=234 \"HTTP/1.1 200 OK\"\n"
     ]
    },
    {
     "name": "stdout",
     "output_type": "stream",
     "text": [
      "|         3 | 16:33:02.6 |  32533.100 |  24650.816 |     -0.286 |      199.070 |      176.997 |      392.850 |      222.080 |\n"
     ]
    },
    {
     "name": "stderr",
     "output_type": "stream",
     "text": [
      "2025-06-03 16:33:02.607 INFO: HTTP Request: GET http://127.0.0.1:34059/api/v1/metadata//216416f0-801e-4dca-94f3-8cef39f399fa/primary/internal \"HTTP/1.1 200 OK\"\n",
      "2025-06-03 16:33:02.615 INFO: HTTP Request: GET http://127.0.0.1:34059/api/v1/search/216416f0-801e-4dca-94f3-8cef39f399fa/primary/internal?page%5Boffset%5D=0&fields=&sort= \"HTTP/1.1 200 OK\"\n",
      "2025-06-03 16:33:02.625 INFO: HTTP Request: GET http://127.0.0.1:34059/api/v1/metadata/216416f0-801e-4dca-94f3-8cef39f399fa/primary/internal/events \"HTTP/1.1 200 OK\"\n",
      "2025-06-03 16:33:02.635 INFO: HTTP Request: PATCH http://127.0.0.1:34059/api/v1/table/partition/216416f0-801e-4dca-94f3-8cef39f399fa/primary/internal/events?partition=0 \"HTTP/1.1 200 OK\"\n",
      "2025-06-03 16:33:02.665 INFO: HTTP Request: GET http://127.0.0.1:34059/api/v1/metadata/216416f0-801e-4dca-94f3-8cef39f399fa/primary/external/bl_det_image \"HTTP/1.1 200 OK\"\n",
      "2025-06-03 16:33:02.674 INFO: HTTP Request: GET http://127.0.0.1:34059/api/v1/metadata/216416f0-801e-4dca-94f3-8cef39f399fa/primary/external/bl_det_image?include_data_sources=true \"HTTP/1.1 200 OK\"\n",
      "2025-06-03 16:33:02.685 INFO: HTTP Request: PUT http://127.0.0.1:34059/api/v1/data_source/216416f0-801e-4dca-94f3-8cef39f399fa/primary/external/bl_det_image?data_source=234 \"HTTP/1.1 200 OK\"\n"
     ]
    },
    {
     "name": "stdout",
     "output_type": "stream",
     "text": [
      "|         4 | 16:33:02.6 |  31904.804 |  17293.439 |      7.065 |      234.650 |      249.284 |      121.567 |       74.701 |\n"
     ]
    },
    {
     "name": "stderr",
     "output_type": "stream",
     "text": [
      "2025-06-03 16:33:02.694 INFO: HTTP Request: GET http://127.0.0.1:34059/api/v1/metadata//216416f0-801e-4dca-94f3-8cef39f399fa/primary/internal \"HTTP/1.1 200 OK\"\n",
      "2025-06-03 16:33:02.702 INFO: HTTP Request: GET http://127.0.0.1:34059/api/v1/search/216416f0-801e-4dca-94f3-8cef39f399fa/primary/internal?page%5Boffset%5D=0&fields=&sort= \"HTTP/1.1 200 OK\"\n",
      "2025-06-03 16:33:02.710 INFO: HTTP Request: GET http://127.0.0.1:34059/api/v1/metadata/216416f0-801e-4dca-94f3-8cef39f399fa/primary/internal/events \"HTTP/1.1 200 OK\"\n",
      "2025-06-03 16:33:02.720 INFO: HTTP Request: PATCH http://127.0.0.1:34059/api/v1/table/partition/216416f0-801e-4dca-94f3-8cef39f399fa/primary/internal/events?partition=0 \"HTTP/1.1 200 OK\"\n",
      "2025-06-03 16:33:02.751 INFO: HTTP Request: GET http://127.0.0.1:34059/api/v1/metadata/216416f0-801e-4dca-94f3-8cef39f399fa/primary/external/bl_det_image \"HTTP/1.1 200 OK\"\n",
      "2025-06-03 16:33:02.760 INFO: HTTP Request: GET http://127.0.0.1:34059/api/v1/metadata/216416f0-801e-4dca-94f3-8cef39f399fa/primary/external/bl_det_image?include_data_sources=true \"HTTP/1.1 200 OK\"\n",
      "2025-06-03 16:33:02.771 INFO: HTTP Request: PUT http://127.0.0.1:34059/api/v1/data_source/216416f0-801e-4dca-94f3-8cef39f399fa/primary/external/bl_det_image?data_source=234 \"HTTP/1.1 200 OK\"\n"
     ]
    },
    {
     "name": "stdout",
     "output_type": "stream",
     "text": [
      "|         5 | 16:33:02.7 |  34434.224 |  13653.311 |     -0.862 |      172.949 |      156.629 |      320.159 |      269.943 |\n"
     ]
    },
    {
     "name": "stderr",
     "output_type": "stream",
     "text": [
      "2025-06-03 16:33:02.779 INFO: HTTP Request: GET http://127.0.0.1:34059/api/v1/metadata//216416f0-801e-4dca-94f3-8cef39f399fa/primary/internal \"HTTP/1.1 200 OK\"\n",
      "2025-06-03 16:33:02.787 INFO: HTTP Request: GET http://127.0.0.1:34059/api/v1/search/216416f0-801e-4dca-94f3-8cef39f399fa/primary/internal?page%5Boffset%5D=0&fields=&sort= \"HTTP/1.1 200 OK\"\n",
      "2025-06-03 16:33:02.797 INFO: HTTP Request: GET http://127.0.0.1:34059/api/v1/metadata/216416f0-801e-4dca-94f3-8cef39f399fa/primary/internal/events \"HTTP/1.1 200 OK\"\n",
      "2025-06-03 16:33:02.807 INFO: HTTP Request: PATCH http://127.0.0.1:34059/api/v1/table/partition/216416f0-801e-4dca-94f3-8cef39f399fa/primary/internal/events?partition=0 \"HTTP/1.1 200 OK\"\n",
      "2025-06-03 16:33:02.838 INFO: HTTP Request: GET http://127.0.0.1:34059/api/v1/metadata/216416f0-801e-4dca-94f3-8cef39f399fa/primary/external/bl_det_image \"HTTP/1.1 200 OK\"\n",
      "2025-06-03 16:33:02.847 INFO: HTTP Request: GET http://127.0.0.1:34059/api/v1/metadata/216416f0-801e-4dca-94f3-8cef39f399fa/primary/external/bl_det_image?include_data_sources=true \"HTTP/1.1 200 OK\"\n",
      "2025-06-03 16:33:02.858 INFO: HTTP Request: PUT http://127.0.0.1:34059/api/v1/data_source/216416f0-801e-4dca-94f3-8cef39f399fa/primary/external/bl_det_image?data_source=234 \"HTTP/1.1 200 OK\"\n"
     ]
    },
    {
     "name": "stdout",
     "output_type": "stream",
     "text": [
      "|         6 | 16:33:02.8 |  37458.231 |  18290.147 |      0.956 |      184.905 |      147.431 |      314.105 |      252.095 |\n"
     ]
    },
    {
     "name": "stderr",
     "output_type": "stream",
     "text": [
      "2025-06-03 16:33:02.865 INFO: HTTP Request: GET http://127.0.0.1:34059/api/v1/metadata//216416f0-801e-4dca-94f3-8cef39f399fa/primary/internal \"HTTP/1.1 200 OK\"\n",
      "2025-06-03 16:33:02.874 INFO: HTTP Request: GET http://127.0.0.1:34059/api/v1/search/216416f0-801e-4dca-94f3-8cef39f399fa/primary/internal?page%5Boffset%5D=0&fields=&sort= \"HTTP/1.1 200 OK\"\n",
      "2025-06-03 16:33:02.882 INFO: HTTP Request: GET http://127.0.0.1:34059/api/v1/metadata/216416f0-801e-4dca-94f3-8cef39f399fa/primary/internal/events \"HTTP/1.1 200 OK\"\n",
      "2025-06-03 16:33:02.893 INFO: HTTP Request: PATCH http://127.0.0.1:34059/api/v1/table/partition/216416f0-801e-4dca-94f3-8cef39f399fa/primary/internal/events?partition=0 \"HTTP/1.1 200 OK\"\n",
      "2025-06-03 16:33:02.924 INFO: HTTP Request: GET http://127.0.0.1:34059/api/v1/metadata/216416f0-801e-4dca-94f3-8cef39f399fa/primary/external/bl_det_image \"HTTP/1.1 200 OK\"\n",
      "2025-06-03 16:33:02.933 INFO: HTTP Request: GET http://127.0.0.1:34059/api/v1/metadata/216416f0-801e-4dca-94f3-8cef39f399fa/primary/external/bl_det_image?include_data_sources=true \"HTTP/1.1 200 OK\"\n",
      "2025-06-03 16:33:02.944 INFO: HTTP Request: PUT http://127.0.0.1:34059/api/v1/data_source/216416f0-801e-4dca-94f3-8cef39f399fa/primary/external/bl_det_image?data_source=234 \"HTTP/1.1 200 OK\"\n"
     ]
    },
    {
     "name": "stdout",
     "output_type": "stream",
     "text": [
      "|         7 | 16:33:02.9 |  40717.975 |  19109.627 |      1.164 |      182.748 |      141.589 |      330.207 |      262.368 |\n"
     ]
    },
    {
     "name": "stderr",
     "output_type": "stream",
     "text": [
      "2025-06-03 16:33:02.951 INFO: HTTP Request: GET http://127.0.0.1:34059/api/v1/metadata//216416f0-801e-4dca-94f3-8cef39f399fa/primary/internal \"HTTP/1.1 200 OK\"\n",
      "2025-06-03 16:33:02.959 INFO: HTTP Request: GET http://127.0.0.1:34059/api/v1/search/216416f0-801e-4dca-94f3-8cef39f399fa/primary/internal?page%5Boffset%5D=0&fields=&sort= \"HTTP/1.1 200 OK\"\n",
      "2025-06-03 16:33:02.968 INFO: HTTP Request: GET http://127.0.0.1:34059/api/v1/metadata/216416f0-801e-4dca-94f3-8cef39f399fa/primary/internal/events \"HTTP/1.1 200 OK\"\n",
      "2025-06-03 16:33:02.978 INFO: HTTP Request: PATCH http://127.0.0.1:34059/api/v1/table/partition/216416f0-801e-4dca-94f3-8cef39f399fa/primary/internal/events?partition=0 \"HTTP/1.1 200 OK\"\n",
      "2025-06-03 16:33:03.008 INFO: HTTP Request: GET http://127.0.0.1:34059/api/v1/metadata/216416f0-801e-4dca-94f3-8cef39f399fa/primary/external/bl_det_image \"HTTP/1.1 200 OK\"\n",
      "2025-06-03 16:33:03.017 INFO: HTTP Request: GET http://127.0.0.1:34059/api/v1/metadata/216416f0-801e-4dca-94f3-8cef39f399fa/primary/external/bl_det_image?include_data_sources=true \"HTTP/1.1 200 OK\"\n",
      "2025-06-03 16:33:03.028 INFO: HTTP Request: PUT http://127.0.0.1:34059/api/v1/data_source/216416f0-801e-4dca-94f3-8cef39f399fa/primary/external/bl_det_image?data_source=234 \"HTTP/1.1 200 OK\"\n"
     ]
    },
    {
     "name": "stdout",
     "output_type": "stream",
     "text": [
      "|         8 | 16:33:03.0 |  38084.409 |  20996.646 |      5.008 |      133.565 |      132.228 |      214.192 |      233.645 |\n"
     ]
    },
    {
     "name": "stderr",
     "output_type": "stream",
     "text": [
      "2025-06-03 16:33:03.036 INFO: HTTP Request: GET http://127.0.0.1:34059/api/v1/metadata//216416f0-801e-4dca-94f3-8cef39f399fa/primary/internal \"HTTP/1.1 200 OK\"\n",
      "2025-06-03 16:33:03.045 INFO: HTTP Request: GET http://127.0.0.1:34059/api/v1/search/216416f0-801e-4dca-94f3-8cef39f399fa/primary/internal?page%5Boffset%5D=0&fields=&sort= \"HTTP/1.1 200 OK\"\n",
      "2025-06-03 16:33:03.054 INFO: HTTP Request: GET http://127.0.0.1:34059/api/v1/metadata/216416f0-801e-4dca-94f3-8cef39f399fa/primary/internal/events \"HTTP/1.1 200 OK\"\n",
      "2025-06-03 16:33:03.064 INFO: HTTP Request: PATCH http://127.0.0.1:34059/api/v1/table/partition/216416f0-801e-4dca-94f3-8cef39f399fa/primary/internal/events?partition=0 \"HTTP/1.1 200 OK\"\n",
      "2025-06-03 16:33:03.095 INFO: HTTP Request: GET http://127.0.0.1:34059/api/v1/metadata/216416f0-801e-4dca-94f3-8cef39f399fa/primary/external/bl_det_image \"HTTP/1.1 200 OK\"\n",
      "2025-06-03 16:33:03.104 INFO: HTTP Request: GET http://127.0.0.1:34059/api/v1/metadata/216416f0-801e-4dca-94f3-8cef39f399fa/primary/external/bl_det_image?include_data_sources=true \"HTTP/1.1 200 OK\"\n",
      "2025-06-03 16:33:03.115 INFO: HTTP Request: PUT http://127.0.0.1:34059/api/v1/data_source/216416f0-801e-4dca-94f3-8cef39f399fa/primary/external/bl_det_image?data_source=234 \"HTTP/1.1 200 OK\"\n"
     ]
    },
    {
     "name": "stdout",
     "output_type": "stream",
     "text": [
      "|         9 | 16:33:03.1 |  41376.588 |  27646.042 |      4.182 |      230.337 |      138.800 |      307.827 |      270.733 |\n"
     ]
    },
    {
     "name": "stderr",
     "output_type": "stream",
     "text": [
      "2025-06-03 16:33:03.123 INFO: HTTP Request: GET http://127.0.0.1:34059/api/v1/metadata//216416f0-801e-4dca-94f3-8cef39f399fa/primary/internal \"HTTP/1.1 200 OK\"\n",
      "2025-06-03 16:33:03.132 INFO: HTTP Request: GET http://127.0.0.1:34059/api/v1/search/216416f0-801e-4dca-94f3-8cef39f399fa/primary/internal?page%5Boffset%5D=0&fields=&sort= \"HTTP/1.1 200 OK\"\n",
      "2025-06-03 16:33:03.140 INFO: HTTP Request: GET http://127.0.0.1:34059/api/v1/metadata/216416f0-801e-4dca-94f3-8cef39f399fa/primary/internal/events \"HTTP/1.1 200 OK\"\n",
      "2025-06-03 16:33:03.151 INFO: HTTP Request: PATCH http://127.0.0.1:34059/api/v1/table/partition/216416f0-801e-4dca-94f3-8cef39f399fa/primary/internal/events?partition=0 \"HTTP/1.1 200 OK\"\n",
      "2025-06-03 16:33:03.182 INFO: HTTP Request: GET http://127.0.0.1:34059/api/v1/metadata/216416f0-801e-4dca-94f3-8cef39f399fa/primary/external/bl_det_image \"HTTP/1.1 200 OK\"\n",
      "2025-06-03 16:33:03.191 INFO: HTTP Request: GET http://127.0.0.1:34059/api/v1/metadata/216416f0-801e-4dca-94f3-8cef39f399fa/primary/external/bl_det_image?include_data_sources=true \"HTTP/1.1 200 OK\"\n",
      "2025-06-03 16:33:03.202 INFO: HTTP Request: PUT http://127.0.0.1:34059/api/v1/data_source/216416f0-801e-4dca-94f3-8cef39f399fa/primary/external/bl_det_image?data_source=234 \"HTTP/1.1 200 OK\"\n"
     ]
    },
    {
     "name": "stdout",
     "output_type": "stream",
     "text": [
      "|        10 | 16:33:03.2 |  46760.337 |  26765.300 |     -1.736 |      198.409 |      156.899 |      389.416 |      271.807 |\n"
     ]
    },
    {
     "name": "stderr",
     "output_type": "stream",
     "text": [
      "2025-06-03 16:33:03.211 INFO: HTTP Request: GET http://127.0.0.1:34059/api/v1/metadata//216416f0-801e-4dca-94f3-8cef39f399fa/primary/internal \"HTTP/1.1 200 OK\"\n",
      "2025-06-03 16:33:03.219 INFO: HTTP Request: GET http://127.0.0.1:34059/api/v1/search/216416f0-801e-4dca-94f3-8cef39f399fa/primary/internal?page%5Boffset%5D=0&fields=&sort= \"HTTP/1.1 200 OK\"\n",
      "2025-06-03 16:33:03.227 INFO: HTTP Request: GET http://127.0.0.1:34059/api/v1/metadata/216416f0-801e-4dca-94f3-8cef39f399fa/primary/internal/events \"HTTP/1.1 200 OK\"\n",
      "2025-06-03 16:33:03.238 INFO: HTTP Request: PATCH http://127.0.0.1:34059/api/v1/table/partition/216416f0-801e-4dca-94f3-8cef39f399fa/primary/internal/events?partition=0 \"HTTP/1.1 200 OK\"\n",
      "2025-06-03 16:33:03.269 INFO: HTTP Request: GET http://127.0.0.1:34059/api/v1/metadata/216416f0-801e-4dca-94f3-8cef39f399fa/primary/external/bl_det_image \"HTTP/1.1 200 OK\"\n",
      "2025-06-03 16:33:03.278 INFO: HTTP Request: GET http://127.0.0.1:34059/api/v1/metadata/216416f0-801e-4dca-94f3-8cef39f399fa/primary/external/bl_det_image?include_data_sources=true \"HTTP/1.1 200 OK\"\n",
      "2025-06-03 16:33:03.290 INFO: HTTP Request: PUT http://127.0.0.1:34059/api/v1/data_source/216416f0-801e-4dca-94f3-8cef39f399fa/primary/external/bl_det_image?data_source=234 \"HTTP/1.1 200 OK\"\n"
     ]
    },
    {
     "name": "stdout",
     "output_type": "stream",
     "text": [
      "|        11 | 16:33:03.2 |  49232.177 |  22890.780 |      0.637 |      200.729 |      160.469 |      273.708 |      259.749 |\n"
     ]
    },
    {
     "name": "stderr",
     "output_type": "stream",
     "text": [
      "2025-06-03 16:33:03.297 INFO: HTTP Request: GET http://127.0.0.1:34059/api/v1/metadata//216416f0-801e-4dca-94f3-8cef39f399fa/primary/internal \"HTTP/1.1 200 OK\"\n",
      "2025-06-03 16:33:03.305 INFO: HTTP Request: GET http://127.0.0.1:34059/api/v1/search/216416f0-801e-4dca-94f3-8cef39f399fa/primary/internal?page%5Boffset%5D=0&fields=&sort= \"HTTP/1.1 200 OK\"\n",
      "2025-06-03 16:33:03.314 INFO: HTTP Request: GET http://127.0.0.1:34059/api/v1/metadata/216416f0-801e-4dca-94f3-8cef39f399fa/primary/internal/events \"HTTP/1.1 200 OK\"\n",
      "2025-06-03 16:33:03.323 INFO: HTTP Request: PATCH http://127.0.0.1:34059/api/v1/table/partition/216416f0-801e-4dca-94f3-8cef39f399fa/primary/internal/events?partition=0 \"HTTP/1.1 200 OK\"\n",
      "2025-06-03 16:33:03.354 INFO: HTTP Request: GET http://127.0.0.1:34059/api/v1/metadata/216416f0-801e-4dca-94f3-8cef39f399fa/primary/external/bl_det_image \"HTTP/1.1 200 OK\"\n",
      "2025-06-03 16:33:03.363 INFO: HTTP Request: GET http://127.0.0.1:34059/api/v1/metadata/216416f0-801e-4dca-94f3-8cef39f399fa/primary/external/bl_det_image?include_data_sources=true \"HTTP/1.1 200 OK\"\n",
      "2025-06-03 16:33:03.375 INFO: HTTP Request: PUT http://127.0.0.1:34059/api/v1/data_source/216416f0-801e-4dca-94f3-8cef39f399fa/primary/external/bl_det_image?data_source=234 \"HTTP/1.1 200 OK\"\n"
     ]
    },
    {
     "name": "stdout",
     "output_type": "stream",
     "text": [
      "|        12 | 16:33:03.3 |  43846.883 |  21427.772 |     -2.872 |      200.175 |      152.809 |      383.079 |      258.899 |\n"
     ]
    },
    {
     "name": "stderr",
     "output_type": "stream",
     "text": [
      "2025-06-03 16:33:03.383 INFO: HTTP Request: GET http://127.0.0.1:34059/api/v1/metadata//216416f0-801e-4dca-94f3-8cef39f399fa/primary/internal \"HTTP/1.1 200 OK\"\n",
      "2025-06-03 16:33:03.391 INFO: HTTP Request: GET http://127.0.0.1:34059/api/v1/search/216416f0-801e-4dca-94f3-8cef39f399fa/primary/internal?page%5Boffset%5D=0&fields=&sort= \"HTTP/1.1 200 OK\"\n",
      "2025-06-03 16:33:03.400 INFO: HTTP Request: GET http://127.0.0.1:34059/api/v1/metadata/216416f0-801e-4dca-94f3-8cef39f399fa/primary/internal/events \"HTTP/1.1 200 OK\"\n",
      "2025-06-03 16:33:03.410 INFO: HTTP Request: PATCH http://127.0.0.1:34059/api/v1/table/partition/216416f0-801e-4dca-94f3-8cef39f399fa/primary/internal/events?partition=0 \"HTTP/1.1 200 OK\"\n",
      "2025-06-03 16:33:03.440 INFO: HTTP Request: GET http://127.0.0.1:34059/api/v1/metadata/216416f0-801e-4dca-94f3-8cef39f399fa/primary/external/bl_det_image \"HTTP/1.1 200 OK\"\n",
      "2025-06-03 16:33:03.450 INFO: HTTP Request: GET http://127.0.0.1:34059/api/v1/metadata/216416f0-801e-4dca-94f3-8cef39f399fa/primary/external/bl_det_image?include_data_sources=true \"HTTP/1.1 200 OK\"\n",
      "2025-06-03 16:33:03.461 INFO: HTTP Request: PUT http://127.0.0.1:34059/api/v1/data_source/216416f0-801e-4dca-94f3-8cef39f399fa/primary/external/bl_det_image?data_source=234 \"HTTP/1.1 200 OK\"\n"
     ]
    },
    {
     "name": "stdout",
     "output_type": "stream",
     "text": [
      "|        13 | 16:33:03.4 |  46105.386 |  15301.639 |     -0.568 |      178.347 |      147.396 |      337.342 |      288.597 |\n"
     ]
    },
    {
     "name": "stderr",
     "output_type": "stream",
     "text": [
      "2025-06-03 16:33:03.469 INFO: HTTP Request: GET http://127.0.0.1:34059/api/v1/metadata//216416f0-801e-4dca-94f3-8cef39f399fa/primary/internal \"HTTP/1.1 200 OK\"\n",
      "2025-06-03 16:33:03.477 INFO: HTTP Request: GET http://127.0.0.1:34059/api/v1/search/216416f0-801e-4dca-94f3-8cef39f399fa/primary/internal?page%5Boffset%5D=0&fields=&sort= \"HTTP/1.1 200 OK\"\n",
      "2025-06-03 16:33:03.486 INFO: HTTP Request: GET http://127.0.0.1:34059/api/v1/metadata/216416f0-801e-4dca-94f3-8cef39f399fa/primary/internal/events \"HTTP/1.1 200 OK\"\n",
      "2025-06-03 16:33:03.496 INFO: HTTP Request: PATCH http://127.0.0.1:34059/api/v1/table/partition/216416f0-801e-4dca-94f3-8cef39f399fa/primary/internal/events?partition=0 \"HTTP/1.1 200 OK\"\n",
      "2025-06-03 16:33:03.527 INFO: HTTP Request: GET http://127.0.0.1:34059/api/v1/metadata/216416f0-801e-4dca-94f3-8cef39f399fa/primary/external/bl_det_image \"HTTP/1.1 200 OK\"\n",
      "2025-06-03 16:33:03.536 INFO: HTTP Request: GET http://127.0.0.1:34059/api/v1/metadata/216416f0-801e-4dca-94f3-8cef39f399fa/primary/external/bl_det_image?include_data_sources=true \"HTTP/1.1 200 OK\"\n",
      "2025-06-03 16:33:03.547 INFO: HTTP Request: PUT http://127.0.0.1:34059/api/v1/data_source/216416f0-801e-4dca-94f3-8cef39f399fa/primary/external/bl_det_image?data_source=234 \"HTTP/1.1 200 OK\"\n"
     ]
    },
    {
     "name": "stdout",
     "output_type": "stream",
     "text": [
      "|        14 | 16:33:03.5 |  48634.522 |  13770.867 |     -0.197 |      208.411 |      141.370 |      308.473 |      269.439 |\n"
     ]
    },
    {
     "name": "stderr",
     "output_type": "stream",
     "text": [
      "2025-06-03 16:33:03.555 INFO: HTTP Request: GET http://127.0.0.1:34059/api/v1/metadata//216416f0-801e-4dca-94f3-8cef39f399fa/primary/internal \"HTTP/1.1 200 OK\"\n",
      "2025-06-03 16:33:03.563 INFO: HTTP Request: GET http://127.0.0.1:34059/api/v1/search/216416f0-801e-4dca-94f3-8cef39f399fa/primary/internal?page%5Boffset%5D=0&fields=&sort= \"HTTP/1.1 200 OK\"\n",
      "2025-06-03 16:33:03.572 INFO: HTTP Request: GET http://127.0.0.1:34059/api/v1/metadata/216416f0-801e-4dca-94f3-8cef39f399fa/primary/internal/events \"HTTP/1.1 200 OK\"\n",
      "2025-06-03 16:33:03.582 INFO: HTTP Request: PATCH http://127.0.0.1:34059/api/v1/table/partition/216416f0-801e-4dca-94f3-8cef39f399fa/primary/internal/events?partition=0 \"HTTP/1.1 200 OK\"\n",
      "2025-06-03 16:33:03.615 INFO: HTTP Request: GET http://127.0.0.1:34059/api/v1/metadata/216416f0-801e-4dca-94f3-8cef39f399fa/primary/external/bl_det_image \"HTTP/1.1 200 OK\"\n",
      "2025-06-03 16:33:03.623 INFO: HTTP Request: GET http://127.0.0.1:34059/api/v1/metadata/216416f0-801e-4dca-94f3-8cef39f399fa/primary/external/bl_det_image?include_data_sources=true \"HTTP/1.1 200 OK\"\n",
      "2025-06-03 16:33:03.635 INFO: HTTP Request: PUT http://127.0.0.1:34059/api/v1/data_source/216416f0-801e-4dca-94f3-8cef39f399fa/primary/external/bl_det_image?data_source=234 \"HTTP/1.1 200 OK\"\n"
     ]
    },
    {
     "name": "stdout",
     "output_type": "stream",
     "text": [
      "|        15 | 16:33:03.6 |  43248.007 |  10547.605 |     -5.102 |      176.958 |      148.529 |      314.833 |      293.074 |\n"
     ]
    },
    {
     "name": "stderr",
     "output_type": "stream",
     "text": [
      "2025-06-03 16:33:03.643 INFO: HTTP Request: GET http://127.0.0.1:34059/api/v1/metadata//216416f0-801e-4dca-94f3-8cef39f399fa/primary/internal \"HTTP/1.1 200 OK\"\n",
      "2025-06-03 16:33:03.651 INFO: HTTP Request: GET http://127.0.0.1:34059/api/v1/search/216416f0-801e-4dca-94f3-8cef39f399fa/primary/internal?page%5Boffset%5D=0&fields=&sort= \"HTTP/1.1 200 OK\"\n",
      "2025-06-03 16:33:03.659 INFO: HTTP Request: GET http://127.0.0.1:34059/api/v1/metadata/216416f0-801e-4dca-94f3-8cef39f399fa/primary/internal/events \"HTTP/1.1 200 OK\"\n",
      "2025-06-03 16:33:03.669 INFO: HTTP Request: PATCH http://127.0.0.1:34059/api/v1/table/partition/216416f0-801e-4dca-94f3-8cef39f399fa/primary/internal/events?partition=0 \"HTTP/1.1 200 OK\"\n",
      "2025-06-03 16:33:03.701 INFO: HTTP Request: GET http://127.0.0.1:34059/api/v1/metadata/216416f0-801e-4dca-94f3-8cef39f399fa/primary/external/bl_det_image \"HTTP/1.1 200 OK\"\n",
      "2025-06-03 16:33:03.710 INFO: HTTP Request: GET http://127.0.0.1:34059/api/v1/metadata/216416f0-801e-4dca-94f3-8cef39f399fa/primary/external/bl_det_image?include_data_sources=true \"HTTP/1.1 200 OK\"\n",
      "2025-06-03 16:33:03.721 INFO: HTTP Request: PUT http://127.0.0.1:34059/api/v1/data_source/216416f0-801e-4dca-94f3-8cef39f399fa/primary/external/bl_det_image?data_source=234 \"HTTP/1.1 200 OK\"\n"
     ]
    },
    {
     "name": "stdout",
     "output_type": "stream",
     "text": [
      "|        16 | 16:33:03.7 |  39986.755 |  11993.769 |      5.482 |      183.539 |      124.676 |      323.312 |      231.511 |\n"
     ]
    },
    {
     "name": "stderr",
     "output_type": "stream",
     "text": [
      "2025-06-03 16:33:03.729 INFO: HTTP Request: GET http://127.0.0.1:34059/api/v1/metadata//216416f0-801e-4dca-94f3-8cef39f399fa/primary/internal \"HTTP/1.1 200 OK\"\n",
      "2025-06-03 16:33:03.737 INFO: HTTP Request: GET http://127.0.0.1:34059/api/v1/search/216416f0-801e-4dca-94f3-8cef39f399fa/primary/internal?page%5Boffset%5D=0&fields=&sort= \"HTTP/1.1 200 OK\"\n",
      "2025-06-03 16:33:03.745 INFO: HTTP Request: GET http://127.0.0.1:34059/api/v1/metadata/216416f0-801e-4dca-94f3-8cef39f399fa/primary/internal/events \"HTTP/1.1 200 OK\"\n",
      "2025-06-03 16:33:03.756 INFO: HTTP Request: PATCH http://127.0.0.1:34059/api/v1/table/partition/216416f0-801e-4dca-94f3-8cef39f399fa/primary/internal/events?partition=0 \"HTTP/1.1 200 OK\"\n"
     ]
    },
    {
     "name": "stdout",
     "output_type": "stream",
     "text": [
      "+-----------+------------+------------+------------+------------+--------------+--------------+--------------+--------------+\n",
      "generator list_scan ['216416f0'] (scan num: 6)\n",
      "\n",
      "\n",
      "\n"
     ]
    },
    {
     "name": "stderr",
     "output_type": "stream",
     "text": [
      "2025-06-03 16:33:03.871 INFO: HTTP Request: PATCH http://127.0.0.1:34059/api/v1/metadata//216416f0-801e-4dca-94f3-8cef39f399fa \"HTTP/1.1 200 OK\"\n",
      "2025-06-03 16:33:03.880 INFO: HTTP Request: GET http://127.0.0.1:34059/api/v1/metadata/216416f0-801e-4dca-94f3-8cef39f399fa \"HTTP/1.1 200 OK\"\n",
      "2025-06-03 16:33:03.889 INFO: HTTP Request: GET http://127.0.0.1:34059/api/v1/metadata/216416f0-801e-4dca-94f3-8cef39f399fa/primary/internal/events \"HTTP/1.1 200 OK\"\n",
      "2025-06-03 16:33:03.911 INFO: HTTP Request: GET http://127.0.0.1:34059/api/v1/metadata/216416f0-801e-4dca-94f3-8cef39f399fa \"HTTP/1.1 200 OK\"\n",
      "2025-06-03 16:33:03.920 INFO: HTTP Request: GET http://127.0.0.1:34059/api/v1/metadata/216416f0-801e-4dca-94f3-8cef39f399fa/primary/external/bl_det_image \"HTTP/1.1 200 OK\"\n",
      "2025-06-03 16:33:04.303 INFO: Change state on <bluesky.run_engine.RunEngine object at 0x7d7e2af5c4d0> from 'running' -> 'idle'\n",
      "2025-06-03 16:33:04.304 INFO: Cleaned up from plan <generator object Agent.learn at 0x7d7d2bf44cc0>\n"
     ]
    },
    {
     "data": {
      "text/plain": [
       "('216416f0-801e-4dca-94f3-8cef39f399fa',)"
      ]
     },
     "execution_count": 12,
     "metadata": {},
     "output_type": "execute_result"
    }
   ],
   "source": [
    "RE(agent.learn(\"qr\", n=16))"
   ]
  },
  {
   "cell_type": "code",
   "execution_count": null,
   "id": "f8dede2e",
   "metadata": {},
   "outputs": [
    {
     "name": "stderr",
     "output_type": "stream",
     "text": [
      "2025-06-03 16:32:08.886 INFO: Executing plan <generator object Agent.learn at 0x7d7f1c3ab240>\n",
      "2025-06-03 16:32:08.887 INFO: Change state on <bluesky.run_engine.RunEngine object at 0x7d7e2af5c4d0> from 'idle' -> 'running'\n",
      "2025-06-03 16:32:08.887 INFO: running iteration 1 / 4\n"
     ]
    },
    {
     "name": "stdout",
     "output_type": "stream",
     "text": [
      "image_shape: (300, 400)\n",
      "(1, 300, 400)\n",
      "\n",
      "\n",
      "Transient Scan ID: 2     Time: 2025-06-03 16:32:08\n",
      "Persistent Unique Scan ID: '8bcf2744-0c49-4e8c-b5b9-3ab8c1ec7340'\n"
     ]
    },
    {
     "name": "stderr",
     "output_type": "stream",
     "text": [
      "2025-06-03 16:32:08.903 INFO: HTTP Request: POST http://127.0.0.1:34059/api/v1/metadata/ \"HTTP/1.1 200 OK\"\n"
     ]
    },
    {
     "name": "stdout",
     "output_type": "stream",
     "text": [
      "New stream: 'primary'\n",
      "+-----------+------------+------------+------------+------------+--------------+--------------+--------------+--------------+\n",
      "|   seq_num |       time | bl_kbv_dsv | bl_kbh_dsh | bl_det_sum | bl_det_cen_x | bl_det_cen_y | bl_det_wid_x | bl_det_wid_y |\n",
      "+-----------+------------+------------+------------+------------+--------------+--------------+--------------+--------------+\n"
     ]
    },
    {
     "name": "stderr",
     "output_type": "stream",
     "text": [
      "2025-06-03 16:32:08.933 INFO: HTTP Request: GET http://127.0.0.1:34059/api/v1/search//8bcf2744-0c49-4e8c-b5b9-3ab8c1ec7340?page%5Boffset%5D=0&fields=&sort= \"HTTP/1.1 200 OK\"\n",
      "2025-06-03 16:32:08.943 INFO: HTTP Request: POST http://127.0.0.1:34059/api/v1/metadata//8bcf2744-0c49-4e8c-b5b9-3ab8c1ec7340 \"HTTP/1.1 200 OK\"\n",
      "2025-06-03 16:32:08.952 INFO: HTTP Request: POST http://127.0.0.1:34059/api/v1/metadata//8bcf2744-0c49-4e8c-b5b9-3ab8c1ec7340/primary \"HTTP/1.1 200 OK\"\n",
      "2025-06-03 16:32:08.962 INFO: HTTP Request: POST http://127.0.0.1:34059/api/v1/metadata//8bcf2744-0c49-4e8c-b5b9-3ab8c1ec7340/primary \"HTTP/1.1 200 OK\"\n",
      "2025-06-03 16:32:08.971 INFO: HTTP Request: POST http://127.0.0.1:34059/api/v1/metadata//8bcf2744-0c49-4e8c-b5b9-3ab8c1ec7340/primary \"HTTP/1.1 200 OK\"\n",
      "2025-06-03 16:32:08.981 INFO: HTTP Request: PATCH http://127.0.0.1:34059/api/v1/metadata//8bcf2744-0c49-4e8c-b5b9-3ab8c1ec7340/primary \"HTTP/1.1 200 OK\"\n",
      "2025-06-03 16:32:08.989 INFO: HTTP Request: GET http://127.0.0.1:34059/api/v1/metadata//8bcf2744-0c49-4e8c-b5b9-3ab8c1ec7340/primary/config \"HTTP/1.1 200 OK\"\n",
      "2025-06-03 16:32:08.997 INFO: HTTP Request: GET http://127.0.0.1:34059/api/v1/search/8bcf2744-0c49-4e8c-b5b9-3ab8c1ec7340/primary/config?page%5Boffset%5D=0&fields=&sort= \"HTTP/1.1 200 OK\"\n",
      "2025-06-03 16:32:09.012 INFO: HTTP Request: POST http://127.0.0.1:34059/api/v1/metadata/8bcf2744-0c49-4e8c-b5b9-3ab8c1ec7340/primary/config \"HTTP/1.1 200 OK\"\n",
      "2025-06-03 16:32:09.021 INFO: HTTP Request: GET http://127.0.0.1:34059/api/v1/metadata/8bcf2744-0c49-4e8c-b5b9-3ab8c1ec7340/primary/config/bl_kbh_dsh \"HTTP/1.1 200 OK\"\n",
      "2025-06-03 16:32:09.031 INFO: HTTP Request: PUT http://127.0.0.1:34059/api/v1/table/partition/8bcf2744-0c49-4e8c-b5b9-3ab8c1ec7340/primary/config/bl_kbh_dsh?partition=0 \"HTTP/1.1 200 OK\"\n",
      "2025-06-03 16:32:09.040 INFO: HTTP Request: GET http://127.0.0.1:34059/api/v1/search/8bcf2744-0c49-4e8c-b5b9-3ab8c1ec7340/primary/config?page%5Boffset%5D=0&fields=&sort= \"HTTP/1.1 200 OK\"\n",
      "2025-06-03 16:32:09.055 INFO: HTTP Request: POST http://127.0.0.1:34059/api/v1/metadata/8bcf2744-0c49-4e8c-b5b9-3ab8c1ec7340/primary/config \"HTTP/1.1 200 OK\"\n",
      "2025-06-03 16:32:09.064 INFO: HTTP Request: GET http://127.0.0.1:34059/api/v1/metadata/8bcf2744-0c49-4e8c-b5b9-3ab8c1ec7340/primary/config/bl_det \"HTTP/1.1 200 OK\"\n",
      "2025-06-03 16:32:09.073 INFO: HTTP Request: PUT http://127.0.0.1:34059/api/v1/table/partition/8bcf2744-0c49-4e8c-b5b9-3ab8c1ec7340/primary/config/bl_det?partition=0 \"HTTP/1.1 200 OK\"\n",
      "2025-06-03 16:32:09.082 INFO: HTTP Request: GET http://127.0.0.1:34059/api/v1/search/8bcf2744-0c49-4e8c-b5b9-3ab8c1ec7340/primary/config?page%5Boffset%5D=0&fields=&sort= \"HTTP/1.1 200 OK\"\n",
      "2025-06-03 16:32:09.096 INFO: HTTP Request: POST http://127.0.0.1:34059/api/v1/metadata/8bcf2744-0c49-4e8c-b5b9-3ab8c1ec7340/primary/config \"HTTP/1.1 200 OK\"\n",
      "2025-06-03 16:32:09.106 INFO: HTTP Request: GET http://127.0.0.1:34059/api/v1/metadata/8bcf2744-0c49-4e8c-b5b9-3ab8c1ec7340/primary/config/bl_kbv_dsv \"HTTP/1.1 200 OK\"\n",
      "2025-06-03 16:32:09.116 INFO: HTTP Request: PUT http://127.0.0.1:34059/api/v1/table/partition/8bcf2744-0c49-4e8c-b5b9-3ab8c1ec7340/primary/config/bl_kbv_dsv?partition=0 \"HTTP/1.1 200 OK\"\n",
      "2025-06-03 16:32:09.124 INFO: HTTP Request: GET http://127.0.0.1:34059/api/v1/metadata//8bcf2744-0c49-4e8c-b5b9-3ab8c1ec7340/primary/external \"HTTP/1.1 200 OK\"\n",
      "2025-06-03 16:32:09.139 INFO: HTTP Request: POST http://127.0.0.1:34059/api/v1/register/8bcf2744-0c49-4e8c-b5b9-3ab8c1ec7340/primary/external \"HTTP/1.1 200 OK\"\n",
      "2025-06-03 16:32:09.148 INFO: HTTP Request: GET http://127.0.0.1:34059/api/v1/metadata/8bcf2744-0c49-4e8c-b5b9-3ab8c1ec7340/primary/external/bl_det_image \"HTTP/1.1 200 OK\"\n",
      "2025-06-03 16:32:09.156 INFO: HTTP Request: GET http://127.0.0.1:34059/api/v1/metadata/8bcf2744-0c49-4e8c-b5b9-3ab8c1ec7340/primary/external/bl_det_image?include_data_sources=true \"HTTP/1.1 200 OK\"\n",
      "2025-06-03 16:32:09.168 INFO: HTTP Request: PUT http://127.0.0.1:34059/api/v1/data_source/8bcf2744-0c49-4e8c-b5b9-3ab8c1ec7340/primary/external/bl_det_image?data_source=214 \"HTTP/1.1 200 OK\"\n"
     ]
    },
    {
     "name": "stdout",
     "output_type": "stream",
     "text": [
      "|         1 | 16:32:09.1 |  37826.784 |  10051.383 |     -2.569 |      207.926 |      156.829 |      309.773 |      212.409 |\n"
     ]
    },
    {
     "name": "stderr",
     "output_type": "stream",
     "text": [
      "2025-06-03 16:32:09.175 INFO: HTTP Request: GET http://127.0.0.1:34059/api/v1/metadata//8bcf2744-0c49-4e8c-b5b9-3ab8c1ec7340/primary/internal \"HTTP/1.1 200 OK\"\n",
      "2025-06-03 16:32:09.183 INFO: HTTP Request: GET http://127.0.0.1:34059/api/v1/search/8bcf2744-0c49-4e8c-b5b9-3ab8c1ec7340/primary/internal?page%5Boffset%5D=0&fields=&sort= \"HTTP/1.1 200 OK\"\n",
      "2025-06-03 16:32:09.199 INFO: HTTP Request: POST http://127.0.0.1:34059/api/v1/metadata/8bcf2744-0c49-4e8c-b5b9-3ab8c1ec7340/primary/internal \"HTTP/1.1 200 OK\"\n",
      "2025-06-03 16:32:09.208 INFO: HTTP Request: GET http://127.0.0.1:34059/api/v1/metadata/8bcf2744-0c49-4e8c-b5b9-3ab8c1ec7340/primary/internal/events \"HTTP/1.1 200 OK\"\n",
      "2025-06-03 16:32:09.218 INFO: HTTP Request: PUT http://127.0.0.1:34059/api/v1/table/partition/8bcf2744-0c49-4e8c-b5b9-3ab8c1ec7340/primary/internal/events?partition=0 \"HTTP/1.1 200 OK\"\n",
      "2025-06-03 16:32:09.250 INFO: HTTP Request: GET http://127.0.0.1:34059/api/v1/metadata/8bcf2744-0c49-4e8c-b5b9-3ab8c1ec7340/primary/external/bl_det_image \"HTTP/1.1 200 OK\"\n",
      "2025-06-03 16:32:09.259 INFO: HTTP Request: GET http://127.0.0.1:34059/api/v1/metadata/8bcf2744-0c49-4e8c-b5b9-3ab8c1ec7340/primary/external/bl_det_image?include_data_sources=true \"HTTP/1.1 200 OK\"\n",
      "2025-06-03 16:32:09.270 INFO: HTTP Request: PUT http://127.0.0.1:34059/api/v1/data_source/8bcf2744-0c49-4e8c-b5b9-3ab8c1ec7340/primary/external/bl_det_image?data_source=214 \"HTTP/1.1 200 OK\"\n"
     ]
    },
    {
     "name": "stdout",
     "output_type": "stream",
     "text": [
      "|         2 | 16:32:09.2 |  45050.195 |  18334.079 |     -0.538 |      199.507 |      152.544 |      334.297 |      262.269 |\n"
     ]
    },
    {
     "name": "stderr",
     "output_type": "stream",
     "text": [
      "2025-06-03 16:32:09.279 INFO: HTTP Request: GET http://127.0.0.1:34059/api/v1/metadata//8bcf2744-0c49-4e8c-b5b9-3ab8c1ec7340/primary/internal \"HTTP/1.1 200 OK\"\n",
      "2025-06-03 16:32:09.287 INFO: HTTP Request: GET http://127.0.0.1:34059/api/v1/search/8bcf2744-0c49-4e8c-b5b9-3ab8c1ec7340/primary/internal?page%5Boffset%5D=0&fields=&sort= \"HTTP/1.1 200 OK\"\n",
      "2025-06-03 16:32:09.296 INFO: HTTP Request: GET http://127.0.0.1:34059/api/v1/metadata/8bcf2744-0c49-4e8c-b5b9-3ab8c1ec7340/primary/internal/events \"HTTP/1.1 200 OK\"\n",
      "2025-06-03 16:32:09.306 INFO: HTTP Request: PATCH http://127.0.0.1:34059/api/v1/table/partition/8bcf2744-0c49-4e8c-b5b9-3ab8c1ec7340/primary/internal/events?partition=0 \"HTTP/1.1 200 OK\"\n",
      "2025-06-03 16:32:09.337 INFO: HTTP Request: GET http://127.0.0.1:34059/api/v1/metadata/8bcf2744-0c49-4e8c-b5b9-3ab8c1ec7340/primary/external/bl_det_image \"HTTP/1.1 200 OK\"\n",
      "2025-06-03 16:32:09.346 INFO: HTTP Request: GET http://127.0.0.1:34059/api/v1/metadata/8bcf2744-0c49-4e8c-b5b9-3ab8c1ec7340/primary/external/bl_det_image?include_data_sources=true \"HTTP/1.1 200 OK\"\n",
      "2025-06-03 16:32:09.358 INFO: HTTP Request: PUT http://127.0.0.1:34059/api/v1/data_source/8bcf2744-0c49-4e8c-b5b9-3ab8c1ec7340/primary/external/bl_det_image?data_source=214 \"HTTP/1.1 200 OK\"\n"
     ]
    },
    {
     "name": "stdout",
     "output_type": "stream",
     "text": [
      "|         3 | 16:32:09.3 |  42555.065 |  24911.095 |     -0.892 |      196.471 |      145.911 |      365.309 |      268.123 |\n"
     ]
    },
    {
     "name": "stderr",
     "output_type": "stream",
     "text": [
      "2025-06-03 16:32:09.366 INFO: HTTP Request: GET http://127.0.0.1:34059/api/v1/metadata//8bcf2744-0c49-4e8c-b5b9-3ab8c1ec7340/primary/internal \"HTTP/1.1 200 OK\"\n",
      "2025-06-03 16:32:09.374 INFO: HTTP Request: GET http://127.0.0.1:34059/api/v1/search/8bcf2744-0c49-4e8c-b5b9-3ab8c1ec7340/primary/internal?page%5Boffset%5D=0&fields=&sort= \"HTTP/1.1 200 OK\"\n",
      "2025-06-03 16:32:09.384 INFO: HTTP Request: GET http://127.0.0.1:34059/api/v1/metadata/8bcf2744-0c49-4e8c-b5b9-3ab8c1ec7340/primary/internal/events \"HTTP/1.1 200 OK\"\n",
      "2025-06-03 16:32:09.394 INFO: HTTP Request: PATCH http://127.0.0.1:34059/api/v1/table/partition/8bcf2744-0c49-4e8c-b5b9-3ab8c1ec7340/primary/internal/events?partition=0 \"HTTP/1.1 200 OK\"\n",
      "2025-06-03 16:32:09.424 INFO: HTTP Request: GET http://127.0.0.1:34059/api/v1/metadata/8bcf2744-0c49-4e8c-b5b9-3ab8c1ec7340/primary/external/bl_det_image \"HTTP/1.1 200 OK\"\n",
      "2025-06-03 16:32:09.434 INFO: HTTP Request: GET http://127.0.0.1:34059/api/v1/metadata/8bcf2744-0c49-4e8c-b5b9-3ab8c1ec7340/primary/external/bl_det_image?include_data_sources=true \"HTTP/1.1 200 OK\"\n",
      "2025-06-03 16:32:09.446 INFO: HTTP Request: PUT http://127.0.0.1:34059/api/v1/data_source/8bcf2744-0c49-4e8c-b5b9-3ab8c1ec7340/primary/external/bl_det_image?data_source=214 \"HTTP/1.1 200 OK\"\n"
     ]
    },
    {
     "name": "stdout",
     "output_type": "stream",
     "text": [
      "|         4 | 16:32:09.4 |  30331.658 |  26629.009 |     -3.940 |      162.386 |      126.904 |      270.782 |      236.755 |\n"
     ]
    },
    {
     "name": "stderr",
     "output_type": "stream",
     "text": [
      "2025-06-03 16:32:09.454 INFO: HTTP Request: GET http://127.0.0.1:34059/api/v1/metadata//8bcf2744-0c49-4e8c-b5b9-3ab8c1ec7340/primary/internal \"HTTP/1.1 200 OK\"\n",
      "2025-06-03 16:32:09.462 INFO: HTTP Request: GET http://127.0.0.1:34059/api/v1/search/8bcf2744-0c49-4e8c-b5b9-3ab8c1ec7340/primary/internal?page%5Boffset%5D=0&fields=&sort= \"HTTP/1.1 200 OK\"\n",
      "2025-06-03 16:32:09.471 INFO: HTTP Request: GET http://127.0.0.1:34059/api/v1/metadata/8bcf2744-0c49-4e8c-b5b9-3ab8c1ec7340/primary/internal/events \"HTTP/1.1 200 OK\"\n",
      "2025-06-03 16:32:09.482 INFO: HTTP Request: PATCH http://127.0.0.1:34059/api/v1/table/partition/8bcf2744-0c49-4e8c-b5b9-3ab8c1ec7340/primary/internal/events?partition=0 \"HTTP/1.1 200 OK\"\n"
     ]
    },
    {
     "name": "stdout",
     "output_type": "stream",
     "text": [
      "+-----------+------------+------------+------------+------------+--------------+--------------+--------------+--------------+\n",
      "generator list_scan ['8bcf2744'] (scan num: 2)\n",
      "\n",
      "\n",
      "\n"
     ]
    },
    {
     "name": "stderr",
     "output_type": "stream",
     "text": [
      "2025-06-03 16:32:09.596 INFO: HTTP Request: PATCH http://127.0.0.1:34059/api/v1/metadata//8bcf2744-0c49-4e8c-b5b9-3ab8c1ec7340 \"HTTP/1.1 200 OK\"\n",
      "2025-06-03 16:32:09.606 INFO: HTTP Request: GET http://127.0.0.1:34059/api/v1/metadata/8bcf2744-0c49-4e8c-b5b9-3ab8c1ec7340 \"HTTP/1.1 200 OK\"\n",
      "2025-06-03 16:32:09.615 INFO: HTTP Request: GET http://127.0.0.1:34059/api/v1/metadata/8bcf2744-0c49-4e8c-b5b9-3ab8c1ec7340/primary/internal/events \"HTTP/1.1 200 OK\"\n",
      "2025-06-03 16:32:09.637 INFO: HTTP Request: GET http://127.0.0.1:34059/api/v1/metadata/8bcf2744-0c49-4e8c-b5b9-3ab8c1ec7340 \"HTTP/1.1 200 OK\"\n",
      "2025-06-03 16:32:09.646 INFO: HTTP Request: GET http://127.0.0.1:34059/api/v1/metadata/8bcf2744-0c49-4e8c-b5b9-3ab8c1ec7340/primary/external/bl_det_image \"HTTP/1.1 200 OK\"\n",
      "2025-06-03 16:32:09.740 INFO: running iteration 2 / 4\n"
     ]
    },
    {
     "name": "stdout",
     "output_type": "stream",
     "text": [
      "image_shape: (300, 400)\n",
      "(1, 300, 400)\n",
      "\n",
      "\n",
      "Transient Scan ID: 3     Time: 2025-06-03 16:32:09\n",
      "Persistent Unique Scan ID: 'c4116607-21b1-4e6b-8ec8-37980feee8e7'\n"
     ]
    },
    {
     "name": "stderr",
     "output_type": "stream",
     "text": [
      "2025-06-03 16:32:09.755 INFO: HTTP Request: POST http://127.0.0.1:34059/api/v1/metadata/ \"HTTP/1.1 200 OK\"\n"
     ]
    },
    {
     "name": "stdout",
     "output_type": "stream",
     "text": [
      "New stream: 'primary'\n",
      "+-----------+------------+------------+------------+------------+--------------+--------------+--------------+--------------+\n",
      "|   seq_num |       time | bl_kbv_dsv | bl_kbh_dsh | bl_det_sum | bl_det_cen_x | bl_det_cen_y | bl_det_wid_x | bl_det_wid_y |\n",
      "+-----------+------------+------------+------------+------------+--------------+--------------+--------------+--------------+\n"
     ]
    },
    {
     "name": "stderr",
     "output_type": "stream",
     "text": [
      "2025-06-03 16:32:09.785 INFO: HTTP Request: GET http://127.0.0.1:34059/api/v1/search//c4116607-21b1-4e6b-8ec8-37980feee8e7?page%5Boffset%5D=0&fields=&sort= \"HTTP/1.1 200 OK\"\n",
      "2025-06-03 16:32:09.795 INFO: HTTP Request: POST http://127.0.0.1:34059/api/v1/metadata//c4116607-21b1-4e6b-8ec8-37980feee8e7 \"HTTP/1.1 200 OK\"\n",
      "2025-06-03 16:32:09.804 INFO: HTTP Request: POST http://127.0.0.1:34059/api/v1/metadata//c4116607-21b1-4e6b-8ec8-37980feee8e7/primary \"HTTP/1.1 200 OK\"\n",
      "2025-06-03 16:32:09.815 INFO: HTTP Request: POST http://127.0.0.1:34059/api/v1/metadata//c4116607-21b1-4e6b-8ec8-37980feee8e7/primary \"HTTP/1.1 200 OK\"\n",
      "2025-06-03 16:32:09.825 INFO: HTTP Request: POST http://127.0.0.1:34059/api/v1/metadata//c4116607-21b1-4e6b-8ec8-37980feee8e7/primary \"HTTP/1.1 200 OK\"\n",
      "2025-06-03 16:32:09.835 INFO: HTTP Request: PATCH http://127.0.0.1:34059/api/v1/metadata//c4116607-21b1-4e6b-8ec8-37980feee8e7/primary \"HTTP/1.1 200 OK\"\n",
      "2025-06-03 16:32:09.842 INFO: HTTP Request: GET http://127.0.0.1:34059/api/v1/metadata//c4116607-21b1-4e6b-8ec8-37980feee8e7/primary/config \"HTTP/1.1 200 OK\"\n",
      "2025-06-03 16:32:09.850 INFO: HTTP Request: GET http://127.0.0.1:34059/api/v1/search/c4116607-21b1-4e6b-8ec8-37980feee8e7/primary/config?page%5Boffset%5D=0&fields=&sort= \"HTTP/1.1 200 OK\"\n",
      "2025-06-03 16:32:09.866 INFO: HTTP Request: POST http://127.0.0.1:34059/api/v1/metadata/c4116607-21b1-4e6b-8ec8-37980feee8e7/primary/config \"HTTP/1.1 200 OK\"\n",
      "2025-06-03 16:32:09.875 INFO: HTTP Request: GET http://127.0.0.1:34059/api/v1/metadata/c4116607-21b1-4e6b-8ec8-37980feee8e7/primary/config/bl_kbh_dsh \"HTTP/1.1 200 OK\"\n",
      "2025-06-03 16:32:09.884 INFO: HTTP Request: PUT http://127.0.0.1:34059/api/v1/table/partition/c4116607-21b1-4e6b-8ec8-37980feee8e7/primary/config/bl_kbh_dsh?partition=0 \"HTTP/1.1 200 OK\"\n",
      "2025-06-03 16:32:09.893 INFO: HTTP Request: GET http://127.0.0.1:34059/api/v1/search/c4116607-21b1-4e6b-8ec8-37980feee8e7/primary/config?page%5Boffset%5D=0&fields=&sort= \"HTTP/1.1 200 OK\"\n",
      "2025-06-03 16:32:09.911 INFO: HTTP Request: POST http://127.0.0.1:34059/api/v1/metadata/c4116607-21b1-4e6b-8ec8-37980feee8e7/primary/config \"HTTP/1.1 200 OK\"\n",
      "2025-06-03 16:32:09.920 INFO: HTTP Request: GET http://127.0.0.1:34059/api/v1/metadata/c4116607-21b1-4e6b-8ec8-37980feee8e7/primary/config/bl_det \"HTTP/1.1 200 OK\"\n",
      "2025-06-03 16:32:09.930 INFO: HTTP Request: PUT http://127.0.0.1:34059/api/v1/table/partition/c4116607-21b1-4e6b-8ec8-37980feee8e7/primary/config/bl_det?partition=0 \"HTTP/1.1 200 OK\"\n",
      "2025-06-03 16:32:09.938 INFO: HTTP Request: GET http://127.0.0.1:34059/api/v1/search/c4116607-21b1-4e6b-8ec8-37980feee8e7/primary/config?page%5Boffset%5D=0&fields=&sort= \"HTTP/1.1 200 OK\"\n",
      "2025-06-03 16:32:09.952 INFO: HTTP Request: POST http://127.0.0.1:34059/api/v1/metadata/c4116607-21b1-4e6b-8ec8-37980feee8e7/primary/config \"HTTP/1.1 200 OK\"\n",
      "2025-06-03 16:32:09.962 INFO: HTTP Request: GET http://127.0.0.1:34059/api/v1/metadata/c4116607-21b1-4e6b-8ec8-37980feee8e7/primary/config/bl_kbv_dsv \"HTTP/1.1 200 OK\"\n",
      "2025-06-03 16:32:09.971 INFO: HTTP Request: PUT http://127.0.0.1:34059/api/v1/table/partition/c4116607-21b1-4e6b-8ec8-37980feee8e7/primary/config/bl_kbv_dsv?partition=0 \"HTTP/1.1 200 OK\"\n",
      "2025-06-03 16:32:09.978 INFO: HTTP Request: GET http://127.0.0.1:34059/api/v1/metadata//c4116607-21b1-4e6b-8ec8-37980feee8e7/primary/external \"HTTP/1.1 200 OK\"\n",
      "2025-06-03 16:32:09.992 INFO: HTTP Request: POST http://127.0.0.1:34059/api/v1/register/c4116607-21b1-4e6b-8ec8-37980feee8e7/primary/external \"HTTP/1.1 200 OK\"\n",
      "2025-06-03 16:32:10.001 INFO: HTTP Request: GET http://127.0.0.1:34059/api/v1/metadata/c4116607-21b1-4e6b-8ec8-37980feee8e7/primary/external/bl_det_image \"HTTP/1.1 200 OK\"\n",
      "2025-06-03 16:32:10.010 INFO: HTTP Request: GET http://127.0.0.1:34059/api/v1/metadata/c4116607-21b1-4e6b-8ec8-37980feee8e7/primary/external/bl_det_image?include_data_sources=true \"HTTP/1.1 200 OK\"\n",
      "2025-06-03 16:32:10.220 INFO: HTTP Request: PUT http://127.0.0.1:34059/api/v1/data_source/c4116607-21b1-4e6b-8ec8-37980feee8e7/primary/external/bl_det_image?data_source=219 \"HTTP/1.1 200 OK\"\n"
     ]
    },
    {
     "name": "stdout",
     "output_type": "stream",
     "text": [
      "|         1 | 16:32:10.2 |  31163.514 |  22340.832 |     -3.963 |      184.239 |      150.889 |      347.583 |      284.725 |\n"
     ]
    },
    {
     "name": "stderr",
     "output_type": "stream",
     "text": [
      "2025-06-03 16:32:10.229 INFO: HTTP Request: GET http://127.0.0.1:34059/api/v1/metadata//c4116607-21b1-4e6b-8ec8-37980feee8e7/primary/internal \"HTTP/1.1 200 OK\"\n",
      "2025-06-03 16:32:10.237 INFO: HTTP Request: GET http://127.0.0.1:34059/api/v1/search/c4116607-21b1-4e6b-8ec8-37980feee8e7/primary/internal?page%5Boffset%5D=0&fields=&sort= \"HTTP/1.1 200 OK\"\n",
      "2025-06-03 16:32:10.252 INFO: HTTP Request: POST http://127.0.0.1:34059/api/v1/metadata/c4116607-21b1-4e6b-8ec8-37980feee8e7/primary/internal \"HTTP/1.1 200 OK\"\n",
      "2025-06-03 16:32:10.261 INFO: HTTP Request: GET http://127.0.0.1:34059/api/v1/metadata/c4116607-21b1-4e6b-8ec8-37980feee8e7/primary/internal/events \"HTTP/1.1 200 OK\"\n",
      "2025-06-03 16:32:10.271 INFO: HTTP Request: PUT http://127.0.0.1:34059/api/v1/table/partition/c4116607-21b1-4e6b-8ec8-37980feee8e7/primary/internal/events?partition=0 \"HTTP/1.1 200 OK\"\n",
      "2025-06-03 16:32:10.303 INFO: HTTP Request: GET http://127.0.0.1:34059/api/v1/metadata/c4116607-21b1-4e6b-8ec8-37980feee8e7/primary/external/bl_det_image \"HTTP/1.1 200 OK\"\n",
      "2025-06-03 16:32:10.312 INFO: HTTP Request: GET http://127.0.0.1:34059/api/v1/metadata/c4116607-21b1-4e6b-8ec8-37980feee8e7/primary/external/bl_det_image?include_data_sources=true \"HTTP/1.1 200 OK\"\n",
      "2025-06-03 16:32:10.323 INFO: HTTP Request: PUT http://127.0.0.1:34059/api/v1/data_source/c4116607-21b1-4e6b-8ec8-37980feee8e7/primary/external/bl_det_image?data_source=219 \"HTTP/1.1 200 OK\"\n"
     ]
    },
    {
     "name": "stdout",
     "output_type": "stream",
     "text": [
      "|         2 | 16:32:10.3 |  35840.241 |  15001.301 |     -1.617 |      226.809 |      156.287 |      296.806 |      248.137 |\n"
     ]
    },
    {
     "name": "stderr",
     "output_type": "stream",
     "text": [
      "2025-06-03 16:32:10.331 INFO: HTTP Request: GET http://127.0.0.1:34059/api/v1/metadata//c4116607-21b1-4e6b-8ec8-37980feee8e7/primary/internal \"HTTP/1.1 200 OK\"\n",
      "2025-06-03 16:32:10.340 INFO: HTTP Request: GET http://127.0.0.1:34059/api/v1/search/c4116607-21b1-4e6b-8ec8-37980feee8e7/primary/internal?page%5Boffset%5D=0&fields=&sort= \"HTTP/1.1 200 OK\"\n",
      "2025-06-03 16:32:10.349 INFO: HTTP Request: GET http://127.0.0.1:34059/api/v1/metadata/c4116607-21b1-4e6b-8ec8-37980feee8e7/primary/internal/events \"HTTP/1.1 200 OK\"\n",
      "2025-06-03 16:32:10.360 INFO: HTTP Request: PATCH http://127.0.0.1:34059/api/v1/table/partition/c4116607-21b1-4e6b-8ec8-37980feee8e7/primary/internal/events?partition=0 \"HTTP/1.1 200 OK\"\n",
      "2025-06-03 16:32:10.390 INFO: HTTP Request: GET http://127.0.0.1:34059/api/v1/metadata/c4116607-21b1-4e6b-8ec8-37980feee8e7/primary/external/bl_det_image \"HTTP/1.1 200 OK\"\n",
      "2025-06-03 16:32:10.399 INFO: HTTP Request: GET http://127.0.0.1:34059/api/v1/metadata/c4116607-21b1-4e6b-8ec8-37980feee8e7/primary/external/bl_det_image?include_data_sources=true \"HTTP/1.1 200 OK\"\n",
      "2025-06-03 16:32:10.410 INFO: HTTP Request: PUT http://127.0.0.1:34059/api/v1/data_source/c4116607-21b1-4e6b-8ec8-37980feee8e7/primary/external/bl_det_image?data_source=219 \"HTTP/1.1 200 OK\"\n"
     ]
    },
    {
     "name": "stdout",
     "output_type": "stream",
     "text": [
      "|         3 | 16:32:10.4 |  47677.889 |  13275.419 |      0.424 |      168.991 |      151.027 |      307.767 |      287.153 |\n"
     ]
    },
    {
     "name": "stderr",
     "output_type": "stream",
     "text": [
      "2025-06-03 16:32:10.418 INFO: HTTP Request: GET http://127.0.0.1:34059/api/v1/metadata//c4116607-21b1-4e6b-8ec8-37980feee8e7/primary/internal \"HTTP/1.1 200 OK\"\n",
      "2025-06-03 16:32:10.426 INFO: HTTP Request: GET http://127.0.0.1:34059/api/v1/search/c4116607-21b1-4e6b-8ec8-37980feee8e7/primary/internal?page%5Boffset%5D=0&fields=&sort= \"HTTP/1.1 200 OK\"\n",
      "2025-06-03 16:32:10.435 INFO: HTTP Request: GET http://127.0.0.1:34059/api/v1/metadata/c4116607-21b1-4e6b-8ec8-37980feee8e7/primary/internal/events \"HTTP/1.1 200 OK\"\n",
      "2025-06-03 16:32:10.445 INFO: HTTP Request: PATCH http://127.0.0.1:34059/api/v1/table/partition/c4116607-21b1-4e6b-8ec8-37980feee8e7/primary/internal/events?partition=0 \"HTTP/1.1 200 OK\"\n",
      "2025-06-03 16:32:10.475 INFO: HTTP Request: GET http://127.0.0.1:34059/api/v1/metadata/c4116607-21b1-4e6b-8ec8-37980feee8e7/primary/external/bl_det_image \"HTTP/1.1 200 OK\"\n",
      "2025-06-03 16:32:10.485 INFO: HTTP Request: GET http://127.0.0.1:34059/api/v1/metadata/c4116607-21b1-4e6b-8ec8-37980feee8e7/primary/external/bl_det_image?include_data_sources=true \"HTTP/1.1 200 OK\"\n",
      "2025-06-03 16:32:10.496 INFO: HTTP Request: PUT http://127.0.0.1:34059/api/v1/data_source/c4116607-21b1-4e6b-8ec8-37980feee8e7/primary/external/bl_det_image?data_source=219 \"HTTP/1.1 200 OK\"\n"
     ]
    },
    {
     "name": "stdout",
     "output_type": "stream",
     "text": [
      "|         4 | 16:32:10.4 |  42999.038 |  29071.895 |     -3.638 |      197.624 |      135.420 |      374.525 |      172.520 |\n"
     ]
    },
    {
     "name": "stderr",
     "output_type": "stream",
     "text": [
      "2025-06-03 16:32:10.504 INFO: HTTP Request: GET http://127.0.0.1:34059/api/v1/metadata//c4116607-21b1-4e6b-8ec8-37980feee8e7/primary/internal \"HTTP/1.1 200 OK\"\n",
      "2025-06-03 16:32:10.512 INFO: HTTP Request: GET http://127.0.0.1:34059/api/v1/search/c4116607-21b1-4e6b-8ec8-37980feee8e7/primary/internal?page%5Boffset%5D=0&fields=&sort= \"HTTP/1.1 200 OK\"\n",
      "2025-06-03 16:32:10.521 INFO: HTTP Request: GET http://127.0.0.1:34059/api/v1/metadata/c4116607-21b1-4e6b-8ec8-37980feee8e7/primary/internal/events \"HTTP/1.1 200 OK\"\n",
      "2025-06-03 16:32:10.531 INFO: HTTP Request: PATCH http://127.0.0.1:34059/api/v1/table/partition/c4116607-21b1-4e6b-8ec8-37980feee8e7/primary/internal/events?partition=0 \"HTTP/1.1 200 OK\"\n"
     ]
    },
    {
     "name": "stdout",
     "output_type": "stream",
     "text": [
      "+-----------+------------+------------+------------+------------+--------------+--------------+--------------+--------------+\n",
      "generator list_scan ['c4116607'] (scan num: 3)\n",
      "\n",
      "\n",
      "\n"
     ]
    },
    {
     "name": "stderr",
     "output_type": "stream",
     "text": [
      "2025-06-03 16:32:10.646 INFO: HTTP Request: PATCH http://127.0.0.1:34059/api/v1/metadata//c4116607-21b1-4e6b-8ec8-37980feee8e7 \"HTTP/1.1 200 OK\"\n",
      "2025-06-03 16:32:10.656 INFO: HTTP Request: GET http://127.0.0.1:34059/api/v1/metadata/c4116607-21b1-4e6b-8ec8-37980feee8e7 \"HTTP/1.1 200 OK\"\n",
      "2025-06-03 16:32:10.665 INFO: HTTP Request: GET http://127.0.0.1:34059/api/v1/metadata/c4116607-21b1-4e6b-8ec8-37980feee8e7/primary/internal/events \"HTTP/1.1 200 OK\"\n",
      "2025-06-03 16:32:10.687 INFO: HTTP Request: GET http://127.0.0.1:34059/api/v1/metadata/c4116607-21b1-4e6b-8ec8-37980feee8e7 \"HTTP/1.1 200 OK\"\n",
      "2025-06-03 16:32:10.696 INFO: HTTP Request: GET http://127.0.0.1:34059/api/v1/metadata/c4116607-21b1-4e6b-8ec8-37980feee8e7/primary/external/bl_det_image \"HTTP/1.1 200 OK\"\n",
      "2025-06-03 16:32:10.792 INFO: running iteration 3 / 4\n"
     ]
    },
    {
     "name": "stdout",
     "output_type": "stream",
     "text": [
      "image_shape: (300, 400)\n",
      "(1, 300, 400)\n",
      "\n",
      "\n",
      "Transient Scan ID: 4     Time: 2025-06-03 16:32:10\n",
      "Persistent Unique Scan ID: 'ad791c4d-edca-486f-b77b-119d89261593'\n"
     ]
    },
    {
     "name": "stderr",
     "output_type": "stream",
     "text": [
      "2025-06-03 16:32:10.808 INFO: HTTP Request: POST http://127.0.0.1:34059/api/v1/metadata/ \"HTTP/1.1 200 OK\"\n"
     ]
    },
    {
     "name": "stdout",
     "output_type": "stream",
     "text": [
      "New stream: 'primary'\n",
      "+-----------+------------+------------+------------+------------+--------------+--------------+--------------+--------------+\n",
      "|   seq_num |       time | bl_kbv_dsv | bl_kbh_dsh | bl_det_sum | bl_det_cen_x | bl_det_cen_y | bl_det_wid_x | bl_det_wid_y |\n",
      "+-----------+------------+------------+------------+------------+--------------+--------------+--------------+--------------+\n"
     ]
    },
    {
     "name": "stderr",
     "output_type": "stream",
     "text": [
      "2025-06-03 16:32:10.837 INFO: HTTP Request: GET http://127.0.0.1:34059/api/v1/search//ad791c4d-edca-486f-b77b-119d89261593?page%5Boffset%5D=0&fields=&sort= \"HTTP/1.1 200 OK\"\n",
      "2025-06-03 16:32:10.847 INFO: HTTP Request: POST http://127.0.0.1:34059/api/v1/metadata//ad791c4d-edca-486f-b77b-119d89261593 \"HTTP/1.1 200 OK\"\n",
      "2025-06-03 16:32:10.857 INFO: HTTP Request: POST http://127.0.0.1:34059/api/v1/metadata//ad791c4d-edca-486f-b77b-119d89261593/primary \"HTTP/1.1 200 OK\"\n",
      "2025-06-03 16:32:10.867 INFO: HTTP Request: POST http://127.0.0.1:34059/api/v1/metadata//ad791c4d-edca-486f-b77b-119d89261593/primary \"HTTP/1.1 200 OK\"\n",
      "2025-06-03 16:32:10.876 INFO: HTTP Request: POST http://127.0.0.1:34059/api/v1/metadata//ad791c4d-edca-486f-b77b-119d89261593/primary \"HTTP/1.1 200 OK\"\n",
      "2025-06-03 16:32:10.886 INFO: HTTP Request: PATCH http://127.0.0.1:34059/api/v1/metadata//ad791c4d-edca-486f-b77b-119d89261593/primary \"HTTP/1.1 200 OK\"\n",
      "2025-06-03 16:32:10.894 INFO: HTTP Request: GET http://127.0.0.1:34059/api/v1/metadata//ad791c4d-edca-486f-b77b-119d89261593/primary/config \"HTTP/1.1 200 OK\"\n",
      "2025-06-03 16:32:10.902 INFO: HTTP Request: GET http://127.0.0.1:34059/api/v1/search/ad791c4d-edca-486f-b77b-119d89261593/primary/config?page%5Boffset%5D=0&fields=&sort= \"HTTP/1.1 200 OK\"\n",
      "2025-06-03 16:32:10.917 INFO: HTTP Request: POST http://127.0.0.1:34059/api/v1/metadata/ad791c4d-edca-486f-b77b-119d89261593/primary/config \"HTTP/1.1 200 OK\"\n",
      "2025-06-03 16:32:10.926 INFO: HTTP Request: GET http://127.0.0.1:34059/api/v1/metadata/ad791c4d-edca-486f-b77b-119d89261593/primary/config/bl_kbh_dsh \"HTTP/1.1 200 OK\"\n",
      "2025-06-03 16:32:10.935 INFO: HTTP Request: PUT http://127.0.0.1:34059/api/v1/table/partition/ad791c4d-edca-486f-b77b-119d89261593/primary/config/bl_kbh_dsh?partition=0 \"HTTP/1.1 200 OK\"\n",
      "2025-06-03 16:32:10.944 INFO: HTTP Request: GET http://127.0.0.1:34059/api/v1/search/ad791c4d-edca-486f-b77b-119d89261593/primary/config?page%5Boffset%5D=0&fields=&sort= \"HTTP/1.1 200 OK\"\n",
      "2025-06-03 16:32:10.959 INFO: HTTP Request: POST http://127.0.0.1:34059/api/v1/metadata/ad791c4d-edca-486f-b77b-119d89261593/primary/config \"HTTP/1.1 200 OK\"\n",
      "2025-06-03 16:32:10.967 INFO: HTTP Request: GET http://127.0.0.1:34059/api/v1/metadata/ad791c4d-edca-486f-b77b-119d89261593/primary/config/bl_det \"HTTP/1.1 200 OK\"\n",
      "2025-06-03 16:32:10.976 INFO: HTTP Request: PUT http://127.0.0.1:34059/api/v1/table/partition/ad791c4d-edca-486f-b77b-119d89261593/primary/config/bl_det?partition=0 \"HTTP/1.1 200 OK\"\n",
      "2025-06-03 16:32:10.985 INFO: HTTP Request: GET http://127.0.0.1:34059/api/v1/search/ad791c4d-edca-486f-b77b-119d89261593/primary/config?page%5Boffset%5D=0&fields=&sort= \"HTTP/1.1 200 OK\"\n",
      "2025-06-03 16:32:10.999 INFO: HTTP Request: POST http://127.0.0.1:34059/api/v1/metadata/ad791c4d-edca-486f-b77b-119d89261593/primary/config \"HTTP/1.1 200 OK\"\n",
      "2025-06-03 16:32:11.008 INFO: HTTP Request: GET http://127.0.0.1:34059/api/v1/metadata/ad791c4d-edca-486f-b77b-119d89261593/primary/config/bl_kbv_dsv \"HTTP/1.1 200 OK\"\n",
      "2025-06-03 16:32:11.017 INFO: HTTP Request: PUT http://127.0.0.1:34059/api/v1/table/partition/ad791c4d-edca-486f-b77b-119d89261593/primary/config/bl_kbv_dsv?partition=0 \"HTTP/1.1 200 OK\"\n",
      "2025-06-03 16:32:11.025 INFO: HTTP Request: GET http://127.0.0.1:34059/api/v1/metadata//ad791c4d-edca-486f-b77b-119d89261593/primary/external \"HTTP/1.1 200 OK\"\n",
      "2025-06-03 16:32:11.039 INFO: HTTP Request: POST http://127.0.0.1:34059/api/v1/register/ad791c4d-edca-486f-b77b-119d89261593/primary/external \"HTTP/1.1 200 OK\"\n",
      "2025-06-03 16:32:11.048 INFO: HTTP Request: GET http://127.0.0.1:34059/api/v1/metadata/ad791c4d-edca-486f-b77b-119d89261593/primary/external/bl_det_image \"HTTP/1.1 200 OK\"\n",
      "2025-06-03 16:32:11.057 INFO: HTTP Request: GET http://127.0.0.1:34059/api/v1/metadata/ad791c4d-edca-486f-b77b-119d89261593/primary/external/bl_det_image?include_data_sources=true \"HTTP/1.1 200 OK\"\n",
      "2025-06-03 16:32:11.068 INFO: HTTP Request: PUT http://127.0.0.1:34059/api/v1/data_source/ad791c4d-edca-486f-b77b-119d89261593/primary/external/bl_det_image?data_source=224 \"HTTP/1.1 200 OK\"\n"
     ]
    },
    {
     "name": "stdout",
     "output_type": "stream",
     "text": [
      "|         1 | 16:32:11.0 |  42775.080 |  27719.136 |      3.166 |      212.653 |      157.653 |      363.633 |      261.546 |\n"
     ]
    },
    {
     "name": "stderr",
     "output_type": "stream",
     "text": [
      "2025-06-03 16:32:11.076 INFO: HTTP Request: GET http://127.0.0.1:34059/api/v1/metadata//ad791c4d-edca-486f-b77b-119d89261593/primary/internal \"HTTP/1.1 200 OK\"\n",
      "2025-06-03 16:32:11.084 INFO: HTTP Request: GET http://127.0.0.1:34059/api/v1/search/ad791c4d-edca-486f-b77b-119d89261593/primary/internal?page%5Boffset%5D=0&fields=&sort= \"HTTP/1.1 200 OK\"\n",
      "2025-06-03 16:32:11.099 INFO: HTTP Request: POST http://127.0.0.1:34059/api/v1/metadata/ad791c4d-edca-486f-b77b-119d89261593/primary/internal \"HTTP/1.1 200 OK\"\n",
      "2025-06-03 16:32:11.107 INFO: HTTP Request: GET http://127.0.0.1:34059/api/v1/metadata/ad791c4d-edca-486f-b77b-119d89261593/primary/internal/events \"HTTP/1.1 200 OK\"\n",
      "2025-06-03 16:32:11.117 INFO: HTTP Request: PUT http://127.0.0.1:34059/api/v1/table/partition/ad791c4d-edca-486f-b77b-119d89261593/primary/internal/events?partition=0 \"HTTP/1.1 200 OK\"\n",
      "2025-06-03 16:32:11.149 INFO: HTTP Request: GET http://127.0.0.1:34059/api/v1/metadata/ad791c4d-edca-486f-b77b-119d89261593/primary/external/bl_det_image \"HTTP/1.1 200 OK\"\n",
      "2025-06-03 16:32:11.158 INFO: HTTP Request: GET http://127.0.0.1:34059/api/v1/metadata/ad791c4d-edca-486f-b77b-119d89261593/primary/external/bl_det_image?include_data_sources=true \"HTTP/1.1 200 OK\"\n",
      "2025-06-03 16:32:11.169 INFO: HTTP Request: PUT http://127.0.0.1:34059/api/v1/data_source/ad791c4d-edca-486f-b77b-119d89261593/primary/external/bl_det_image?data_source=224 \"HTTP/1.1 200 OK\"\n"
     ]
    },
    {
     "name": "stdout",
     "output_type": "stream",
     "text": [
      "|         2 | 16:32:11.1 |  38340.037 |  23747.871 |     -3.199 |      196.788 |      139.101 |      280.940 |      272.366 |\n"
     ]
    },
    {
     "name": "stderr",
     "output_type": "stream",
     "text": [
      "2025-06-03 16:32:11.177 INFO: HTTP Request: GET http://127.0.0.1:34059/api/v1/metadata//ad791c4d-edca-486f-b77b-119d89261593/primary/internal \"HTTP/1.1 200 OK\"\n",
      "2025-06-03 16:32:11.186 INFO: HTTP Request: GET http://127.0.0.1:34059/api/v1/search/ad791c4d-edca-486f-b77b-119d89261593/primary/internal?page%5Boffset%5D=0&fields=&sort= \"HTTP/1.1 200 OK\"\n",
      "2025-06-03 16:32:11.194 INFO: HTTP Request: GET http://127.0.0.1:34059/api/v1/metadata/ad791c4d-edca-486f-b77b-119d89261593/primary/internal/events \"HTTP/1.1 200 OK\"\n",
      "2025-06-03 16:32:11.205 INFO: HTTP Request: PATCH http://127.0.0.1:34059/api/v1/table/partition/ad791c4d-edca-486f-b77b-119d89261593/primary/internal/events?partition=0 \"HTTP/1.1 200 OK\"\n",
      "2025-06-03 16:32:11.235 INFO: HTTP Request: GET http://127.0.0.1:34059/api/v1/metadata/ad791c4d-edca-486f-b77b-119d89261593/primary/external/bl_det_image \"HTTP/1.1 200 OK\"\n",
      "2025-06-03 16:32:11.245 INFO: HTTP Request: GET http://127.0.0.1:34059/api/v1/metadata/ad791c4d-edca-486f-b77b-119d89261593/primary/external/bl_det_image?include_data_sources=true \"HTTP/1.1 200 OK\"\n",
      "2025-06-03 16:32:11.256 INFO: HTTP Request: PUT http://127.0.0.1:34059/api/v1/data_source/ad791c4d-edca-486f-b77b-119d89261593/primary/external/bl_det_image?data_source=224 \"HTTP/1.1 200 OK\"\n"
     ]
    },
    {
     "name": "stdout",
     "output_type": "stream",
     "text": [
      "|         3 | 16:32:11.2 |  47328.887 |  16665.308 |      0.710 |      216.285 |      150.239 |      354.120 |      288.049 |\n"
     ]
    },
    {
     "name": "stderr",
     "output_type": "stream",
     "text": [
      "2025-06-03 16:32:11.264 INFO: HTTP Request: GET http://127.0.0.1:34059/api/v1/metadata//ad791c4d-edca-486f-b77b-119d89261593/primary/internal \"HTTP/1.1 200 OK\"\n",
      "2025-06-03 16:32:11.273 INFO: HTTP Request: GET http://127.0.0.1:34059/api/v1/search/ad791c4d-edca-486f-b77b-119d89261593/primary/internal?page%5Boffset%5D=0&fields=&sort= \"HTTP/1.1 200 OK\"\n",
      "2025-06-03 16:32:11.282 INFO: HTTP Request: GET http://127.0.0.1:34059/api/v1/metadata/ad791c4d-edca-486f-b77b-119d89261593/primary/internal/events \"HTTP/1.1 200 OK\"\n",
      "2025-06-03 16:32:11.293 INFO: HTTP Request: PATCH http://127.0.0.1:34059/api/v1/table/partition/ad791c4d-edca-486f-b77b-119d89261593/primary/internal/events?partition=0 \"HTTP/1.1 200 OK\"\n",
      "2025-06-03 16:32:11.324 INFO: HTTP Request: GET http://127.0.0.1:34059/api/v1/metadata/ad791c4d-edca-486f-b77b-119d89261593/primary/external/bl_det_image \"HTTP/1.1 200 OK\"\n",
      "2025-06-03 16:32:11.333 INFO: HTTP Request: GET http://127.0.0.1:34059/api/v1/metadata/ad791c4d-edca-486f-b77b-119d89261593/primary/external/bl_det_image?include_data_sources=true \"HTTP/1.1 200 OK\"\n",
      "2025-06-03 16:32:11.344 INFO: HTTP Request: PUT http://127.0.0.1:34059/api/v1/data_source/ad791c4d-edca-486f-b77b-119d89261593/primary/external/bl_det_image?data_source=224 \"HTTP/1.1 200 OK\"\n"
     ]
    },
    {
     "name": "stdout",
     "output_type": "stream",
     "text": [
      "|         4 | 16:32:11.3 |  31604.786 |  11906.727 |     -1.093 |      200.538 |      150.447 |      382.793 |      235.979 |\n"
     ]
    },
    {
     "name": "stderr",
     "output_type": "stream",
     "text": [
      "2025-06-03 16:32:11.352 INFO: HTTP Request: GET http://127.0.0.1:34059/api/v1/metadata//ad791c4d-edca-486f-b77b-119d89261593/primary/internal \"HTTP/1.1 200 OK\"\n",
      "2025-06-03 16:32:11.360 INFO: HTTP Request: GET http://127.0.0.1:34059/api/v1/search/ad791c4d-edca-486f-b77b-119d89261593/primary/internal?page%5Boffset%5D=0&fields=&sort= \"HTTP/1.1 200 OK\"\n",
      "2025-06-03 16:32:11.369 INFO: HTTP Request: GET http://127.0.0.1:34059/api/v1/metadata/ad791c4d-edca-486f-b77b-119d89261593/primary/internal/events \"HTTP/1.1 200 OK\"\n",
      "2025-06-03 16:32:11.379 INFO: HTTP Request: PATCH http://127.0.0.1:34059/api/v1/table/partition/ad791c4d-edca-486f-b77b-119d89261593/primary/internal/events?partition=0 \"HTTP/1.1 200 OK\"\n"
     ]
    },
    {
     "name": "stdout",
     "output_type": "stream",
     "text": [
      "+-----------+------------+------------+------------+------------+--------------+--------------+--------------+--------------+\n",
      "generator list_scan ['ad791c4d'] (scan num: 4)\n",
      "\n",
      "\n",
      "\n"
     ]
    },
    {
     "name": "stderr",
     "output_type": "stream",
     "text": [
      "2025-06-03 16:32:11.494 INFO: HTTP Request: PATCH http://127.0.0.1:34059/api/v1/metadata//ad791c4d-edca-486f-b77b-119d89261593 \"HTTP/1.1 200 OK\"\n",
      "2025-06-03 16:32:11.504 INFO: HTTP Request: GET http://127.0.0.1:34059/api/v1/metadata/ad791c4d-edca-486f-b77b-119d89261593 \"HTTP/1.1 200 OK\"\n",
      "2025-06-03 16:32:11.513 INFO: HTTP Request: GET http://127.0.0.1:34059/api/v1/metadata/ad791c4d-edca-486f-b77b-119d89261593/primary/internal/events \"HTTP/1.1 200 OK\"\n",
      "2025-06-03 16:32:11.536 INFO: HTTP Request: GET http://127.0.0.1:34059/api/v1/metadata/ad791c4d-edca-486f-b77b-119d89261593 \"HTTP/1.1 200 OK\"\n",
      "2025-06-03 16:32:11.545 INFO: HTTP Request: GET http://127.0.0.1:34059/api/v1/metadata/ad791c4d-edca-486f-b77b-119d89261593/primary/external/bl_det_image \"HTTP/1.1 200 OK\"\n",
      "2025-06-03 16:32:11.640 INFO: running iteration 4 / 4\n"
     ]
    },
    {
     "name": "stdout",
     "output_type": "stream",
     "text": [
      "image_shape: (300, 400)\n",
      "(1, 300, 400)\n",
      "\n",
      "\n",
      "Transient Scan ID: 5     Time: 2025-06-03 16:32:11\n",
      "Persistent Unique Scan ID: '4b97fb35-4c9f-4e2d-8175-be751cd553ab'\n"
     ]
    },
    {
     "name": "stderr",
     "output_type": "stream",
     "text": [
      "2025-06-03 16:32:11.657 INFO: HTTP Request: POST http://127.0.0.1:34059/api/v1/metadata/ \"HTTP/1.1 200 OK\"\n"
     ]
    },
    {
     "name": "stdout",
     "output_type": "stream",
     "text": [
      "New stream: 'primary'\n",
      "+-----------+------------+------------+------------+------------+--------------+--------------+--------------+--------------+\n",
      "|   seq_num |       time | bl_kbv_dsv | bl_kbh_dsh | bl_det_sum | bl_det_cen_x | bl_det_cen_y | bl_det_wid_x | bl_det_wid_y |\n",
      "+-----------+------------+------------+------------+------------+--------------+--------------+--------------+--------------+\n"
     ]
    },
    {
     "name": "stderr",
     "output_type": "stream",
     "text": [
      "2025-06-03 16:32:11.685 INFO: HTTP Request: GET http://127.0.0.1:34059/api/v1/search//4b97fb35-4c9f-4e2d-8175-be751cd553ab?page%5Boffset%5D=0&fields=&sort= \"HTTP/1.1 200 OK\"\n",
      "2025-06-03 16:32:11.696 INFO: HTTP Request: POST http://127.0.0.1:34059/api/v1/metadata//4b97fb35-4c9f-4e2d-8175-be751cd553ab \"HTTP/1.1 200 OK\"\n",
      "2025-06-03 16:32:11.706 INFO: HTTP Request: POST http://127.0.0.1:34059/api/v1/metadata//4b97fb35-4c9f-4e2d-8175-be751cd553ab/primary \"HTTP/1.1 200 OK\"\n",
      "2025-06-03 16:32:11.716 INFO: HTTP Request: POST http://127.0.0.1:34059/api/v1/metadata//4b97fb35-4c9f-4e2d-8175-be751cd553ab/primary \"HTTP/1.1 200 OK\"\n",
      "2025-06-03 16:32:11.726 INFO: HTTP Request: POST http://127.0.0.1:34059/api/v1/metadata//4b97fb35-4c9f-4e2d-8175-be751cd553ab/primary \"HTTP/1.1 200 OK\"\n",
      "2025-06-03 16:32:11.735 INFO: HTTP Request: PATCH http://127.0.0.1:34059/api/v1/metadata//4b97fb35-4c9f-4e2d-8175-be751cd553ab/primary \"HTTP/1.1 200 OK\"\n",
      "2025-06-03 16:32:11.743 INFO: HTTP Request: GET http://127.0.0.1:34059/api/v1/metadata//4b97fb35-4c9f-4e2d-8175-be751cd553ab/primary/config \"HTTP/1.1 200 OK\"\n",
      "2025-06-03 16:32:11.750 INFO: HTTP Request: GET http://127.0.0.1:34059/api/v1/search/4b97fb35-4c9f-4e2d-8175-be751cd553ab/primary/config?page%5Boffset%5D=0&fields=&sort= \"HTTP/1.1 200 OK\"\n",
      "2025-06-03 16:32:11.766 INFO: HTTP Request: POST http://127.0.0.1:34059/api/v1/metadata/4b97fb35-4c9f-4e2d-8175-be751cd553ab/primary/config \"HTTP/1.1 200 OK\"\n",
      "2025-06-03 16:32:11.775 INFO: HTTP Request: GET http://127.0.0.1:34059/api/v1/metadata/4b97fb35-4c9f-4e2d-8175-be751cd553ab/primary/config/bl_kbh_dsh \"HTTP/1.1 200 OK\"\n",
      "2025-06-03 16:32:11.785 INFO: HTTP Request: PUT http://127.0.0.1:34059/api/v1/table/partition/4b97fb35-4c9f-4e2d-8175-be751cd553ab/primary/config/bl_kbh_dsh?partition=0 \"HTTP/1.1 200 OK\"\n",
      "2025-06-03 16:32:11.793 INFO: HTTP Request: GET http://127.0.0.1:34059/api/v1/search/4b97fb35-4c9f-4e2d-8175-be751cd553ab/primary/config?page%5Boffset%5D=0&fields=&sort= \"HTTP/1.1 200 OK\"\n",
      "2025-06-03 16:32:11.807 INFO: HTTP Request: POST http://127.0.0.1:34059/api/v1/metadata/4b97fb35-4c9f-4e2d-8175-be751cd553ab/primary/config \"HTTP/1.1 200 OK\"\n",
      "2025-06-03 16:32:11.816 INFO: HTTP Request: GET http://127.0.0.1:34059/api/v1/metadata/4b97fb35-4c9f-4e2d-8175-be751cd553ab/primary/config/bl_det \"HTTP/1.1 200 OK\"\n",
      "2025-06-03 16:32:11.827 INFO: HTTP Request: PUT http://127.0.0.1:34059/api/v1/table/partition/4b97fb35-4c9f-4e2d-8175-be751cd553ab/primary/config/bl_det?partition=0 \"HTTP/1.1 200 OK\"\n",
      "2025-06-03 16:32:11.835 INFO: HTTP Request: GET http://127.0.0.1:34059/api/v1/search/4b97fb35-4c9f-4e2d-8175-be751cd553ab/primary/config?page%5Boffset%5D=0&fields=&sort= \"HTTP/1.1 200 OK\"\n",
      "2025-06-03 16:32:11.850 INFO: HTTP Request: POST http://127.0.0.1:34059/api/v1/metadata/4b97fb35-4c9f-4e2d-8175-be751cd553ab/primary/config \"HTTP/1.1 200 OK\"\n",
      "2025-06-03 16:32:11.859 INFO: HTTP Request: GET http://127.0.0.1:34059/api/v1/metadata/4b97fb35-4c9f-4e2d-8175-be751cd553ab/primary/config/bl_kbv_dsv \"HTTP/1.1 200 OK\"\n",
      "2025-06-03 16:32:11.869 INFO: HTTP Request: PUT http://127.0.0.1:34059/api/v1/table/partition/4b97fb35-4c9f-4e2d-8175-be751cd553ab/primary/config/bl_kbv_dsv?partition=0 \"HTTP/1.1 200 OK\"\n",
      "2025-06-03 16:32:11.876 INFO: HTTP Request: GET http://127.0.0.1:34059/api/v1/metadata//4b97fb35-4c9f-4e2d-8175-be751cd553ab/primary/external \"HTTP/1.1 200 OK\"\n",
      "2025-06-03 16:32:11.890 INFO: HTTP Request: POST http://127.0.0.1:34059/api/v1/register/4b97fb35-4c9f-4e2d-8175-be751cd553ab/primary/external \"HTTP/1.1 200 OK\"\n",
      "2025-06-03 16:32:11.899 INFO: HTTP Request: GET http://127.0.0.1:34059/api/v1/metadata/4b97fb35-4c9f-4e2d-8175-be751cd553ab/primary/external/bl_det_image \"HTTP/1.1 200 OK\"\n",
      "2025-06-03 16:32:11.908 INFO: HTTP Request: GET http://127.0.0.1:34059/api/v1/metadata/4b97fb35-4c9f-4e2d-8175-be751cd553ab/primary/external/bl_det_image?include_data_sources=true \"HTTP/1.1 200 OK\"\n",
      "2025-06-03 16:32:11.920 INFO: HTTP Request: PUT http://127.0.0.1:34059/api/v1/data_source/4b97fb35-4c9f-4e2d-8175-be751cd553ab/primary/external/bl_det_image?data_source=229 \"HTTP/1.1 200 OK\"\n"
     ]
    },
    {
     "name": "stdout",
     "output_type": "stream",
     "text": [
      "|         1 | 16:32:11.9 |  33987.656 |  11583.158 |     -6.567 |      214.208 |      149.224 |      274.707 |      284.581 |\n"
     ]
    },
    {
     "name": "stderr",
     "output_type": "stream",
     "text": [
      "2025-06-03 16:32:11.927 INFO: HTTP Request: GET http://127.0.0.1:34059/api/v1/metadata//4b97fb35-4c9f-4e2d-8175-be751cd553ab/primary/internal \"HTTP/1.1 200 OK\"\n",
      "2025-06-03 16:32:11.935 INFO: HTTP Request: GET http://127.0.0.1:34059/api/v1/search/4b97fb35-4c9f-4e2d-8175-be751cd553ab/primary/internal?page%5Boffset%5D=0&fields=&sort= \"HTTP/1.1 200 OK\"\n",
      "2025-06-03 16:32:11.950 INFO: HTTP Request: POST http://127.0.0.1:34059/api/v1/metadata/4b97fb35-4c9f-4e2d-8175-be751cd553ab/primary/internal \"HTTP/1.1 200 OK\"\n",
      "2025-06-03 16:32:11.959 INFO: HTTP Request: GET http://127.0.0.1:34059/api/v1/metadata/4b97fb35-4c9f-4e2d-8175-be751cd553ab/primary/internal/events \"HTTP/1.1 200 OK\"\n",
      "2025-06-03 16:32:11.969 INFO: HTTP Request: PUT http://127.0.0.1:34059/api/v1/table/partition/4b97fb35-4c9f-4e2d-8175-be751cd553ab/primary/internal/events?partition=0 \"HTTP/1.1 200 OK\"\n",
      "2025-06-03 16:32:12.000 INFO: HTTP Request: GET http://127.0.0.1:34059/api/v1/metadata/4b97fb35-4c9f-4e2d-8175-be751cd553ab/primary/external/bl_det_image \"HTTP/1.1 200 OK\"\n",
      "2025-06-03 16:32:12.010 INFO: HTTP Request: GET http://127.0.0.1:34059/api/v1/metadata/4b97fb35-4c9f-4e2d-8175-be751cd553ab/primary/external/bl_det_image?include_data_sources=true \"HTTP/1.1 200 OK\"\n",
      "2025-06-03 16:32:12.021 INFO: HTTP Request: PUT http://127.0.0.1:34059/api/v1/data_source/4b97fb35-4c9f-4e2d-8175-be751cd553ab/primary/external/bl_det_image?data_source=229 \"HTTP/1.1 200 OK\"\n"
     ]
    },
    {
     "name": "stdout",
     "output_type": "stream",
     "text": [
      "|         2 | 16:32:12.0 |  47142.045 |  16413.757 |      1.787 |      190.909 |      158.634 |      362.556 |      167.168 |\n"
     ]
    },
    {
     "name": "stderr",
     "output_type": "stream",
     "text": [
      "2025-06-03 16:32:12.029 INFO: HTTP Request: GET http://127.0.0.1:34059/api/v1/metadata//4b97fb35-4c9f-4e2d-8175-be751cd553ab/primary/internal \"HTTP/1.1 200 OK\"\n",
      "2025-06-03 16:32:12.037 INFO: HTTP Request: GET http://127.0.0.1:34059/api/v1/search/4b97fb35-4c9f-4e2d-8175-be751cd553ab/primary/internal?page%5Boffset%5D=0&fields=&sort= \"HTTP/1.1 200 OK\"\n",
      "2025-06-03 16:32:12.047 INFO: HTTP Request: GET http://127.0.0.1:34059/api/v1/metadata/4b97fb35-4c9f-4e2d-8175-be751cd553ab/primary/internal/events \"HTTP/1.1 200 OK\"\n",
      "2025-06-03 16:32:12.058 INFO: HTTP Request: PATCH http://127.0.0.1:34059/api/v1/table/partition/4b97fb35-4c9f-4e2d-8175-be751cd553ab/primary/internal/events?partition=0 \"HTTP/1.1 200 OK\"\n",
      "2025-06-03 16:32:12.089 INFO: HTTP Request: GET http://127.0.0.1:34059/api/v1/metadata/4b97fb35-4c9f-4e2d-8175-be751cd553ab/primary/external/bl_det_image \"HTTP/1.1 200 OK\"\n",
      "2025-06-03 16:32:12.098 INFO: HTTP Request: GET http://127.0.0.1:34059/api/v1/metadata/4b97fb35-4c9f-4e2d-8175-be751cd553ab/primary/external/bl_det_image?include_data_sources=true \"HTTP/1.1 200 OK\"\n",
      "2025-06-03 16:32:12.110 INFO: HTTP Request: PUT http://127.0.0.1:34059/api/v1/data_source/4b97fb35-4c9f-4e2d-8175-be751cd553ab/primary/external/bl_det_image?data_source=229 \"HTTP/1.1 200 OK\"\n"
     ]
    },
    {
     "name": "stdout",
     "output_type": "stream",
     "text": [
      "|         3 | 16:32:12.1 |  38290.877 |  23594.521 |      2.804 |      309.050 |      117.185 |       60.645 |      224.459 |\n"
     ]
    },
    {
     "name": "stderr",
     "output_type": "stream",
     "text": [
      "2025-06-03 16:32:12.118 INFO: HTTP Request: GET http://127.0.0.1:34059/api/v1/metadata//4b97fb35-4c9f-4e2d-8175-be751cd553ab/primary/internal \"HTTP/1.1 200 OK\"\n",
      "2025-06-03 16:32:12.127 INFO: HTTP Request: GET http://127.0.0.1:34059/api/v1/search/4b97fb35-4c9f-4e2d-8175-be751cd553ab/primary/internal?page%5Boffset%5D=0&fields=&sort= \"HTTP/1.1 200 OK\"\n",
      "2025-06-03 16:32:12.136 INFO: HTTP Request: GET http://127.0.0.1:34059/api/v1/metadata/4b97fb35-4c9f-4e2d-8175-be751cd553ab/primary/internal/events \"HTTP/1.1 200 OK\"\n",
      "2025-06-03 16:32:12.146 INFO: HTTP Request: PATCH http://127.0.0.1:34059/api/v1/table/partition/4b97fb35-4c9f-4e2d-8175-be751cd553ab/primary/internal/events?partition=0 \"HTTP/1.1 200 OK\"\n",
      "2025-06-03 16:32:12.177 INFO: HTTP Request: GET http://127.0.0.1:34059/api/v1/metadata/4b97fb35-4c9f-4e2d-8175-be751cd553ab/primary/external/bl_det_image \"HTTP/1.1 200 OK\"\n",
      "2025-06-03 16:32:12.186 INFO: HTTP Request: GET http://127.0.0.1:34059/api/v1/metadata/4b97fb35-4c9f-4e2d-8175-be751cd553ab/primary/external/bl_det_image?include_data_sources=true \"HTTP/1.1 200 OK\"\n",
      "2025-06-03 16:32:12.197 INFO: HTTP Request: PUT http://127.0.0.1:34059/api/v1/data_source/4b97fb35-4c9f-4e2d-8175-be751cd553ab/primary/external/bl_det_image?data_source=229 \"HTTP/1.1 200 OK\"\n"
     ]
    },
    {
     "name": "stdout",
     "output_type": "stream",
     "text": [
      "|         4 | 16:32:12.1 |  40194.772 |  28152.369 |      3.670 |      189.397 |      147.068 |      330.871 |      279.684 |\n"
     ]
    },
    {
     "name": "stderr",
     "output_type": "stream",
     "text": [
      "2025-06-03 16:32:12.205 INFO: HTTP Request: GET http://127.0.0.1:34059/api/v1/metadata//4b97fb35-4c9f-4e2d-8175-be751cd553ab/primary/internal \"HTTP/1.1 200 OK\"\n",
      "2025-06-03 16:32:12.214 INFO: HTTP Request: GET http://127.0.0.1:34059/api/v1/search/4b97fb35-4c9f-4e2d-8175-be751cd553ab/primary/internal?page%5Boffset%5D=0&fields=&sort= \"HTTP/1.1 200 OK\"\n",
      "2025-06-03 16:32:12.223 INFO: HTTP Request: GET http://127.0.0.1:34059/api/v1/metadata/4b97fb35-4c9f-4e2d-8175-be751cd553ab/primary/internal/events \"HTTP/1.1 200 OK\"\n",
      "2025-06-03 16:32:12.234 INFO: HTTP Request: PATCH http://127.0.0.1:34059/api/v1/table/partition/4b97fb35-4c9f-4e2d-8175-be751cd553ab/primary/internal/events?partition=0 \"HTTP/1.1 200 OK\"\n"
     ]
    },
    {
     "name": "stdout",
     "output_type": "stream",
     "text": [
      "+-----------+------------+------------+------------+------------+--------------+--------------+--------------+--------------+\n",
      "generator list_scan ['4b97fb35'] (scan num: 5)\n",
      "\n",
      "\n",
      "\n"
     ]
    },
    {
     "name": "stderr",
     "output_type": "stream",
     "text": [
      "2025-06-03 16:32:12.348 INFO: HTTP Request: PATCH http://127.0.0.1:34059/api/v1/metadata//4b97fb35-4c9f-4e2d-8175-be751cd553ab \"HTTP/1.1 200 OK\"\n",
      "2025-06-03 16:32:12.358 INFO: HTTP Request: GET http://127.0.0.1:34059/api/v1/metadata/4b97fb35-4c9f-4e2d-8175-be751cd553ab \"HTTP/1.1 200 OK\"\n",
      "2025-06-03 16:32:12.368 INFO: HTTP Request: GET http://127.0.0.1:34059/api/v1/metadata/4b97fb35-4c9f-4e2d-8175-be751cd553ab/primary/internal/events \"HTTP/1.1 200 OK\"\n",
      "2025-06-03 16:32:12.390 INFO: HTTP Request: GET http://127.0.0.1:34059/api/v1/metadata/4b97fb35-4c9f-4e2d-8175-be751cd553ab \"HTTP/1.1 200 OK\"\n",
      "2025-06-03 16:32:12.399 INFO: HTTP Request: GET http://127.0.0.1:34059/api/v1/metadata/4b97fb35-4c9f-4e2d-8175-be751cd553ab/primary/external/bl_det_image \"HTTP/1.1 200 OK\"\n",
      "2025-06-03 16:32:12.496 INFO: Change state on <bluesky.run_engine.RunEngine object at 0x7d7e2af5c4d0> from 'running' -> 'idle'\n",
      "2025-06-03 16:32:12.497 INFO: Cleaned up from plan <generator object Agent.learn at 0x7d7f1c3ab240>\n"
     ]
    },
    {
     "data": {
      "text/plain": [
       "('8bcf2744-0c49-4e8c-b5b9-3ab8c1ec7340',\n",
       " 'c4116607-21b1-4e6b-8ec8-37980feee8e7',\n",
       " 'ad791c4d-edca-486f-b77b-119d89261593',\n",
       " '4b97fb35-4c9f-4e2d-8175-be751cd553ab')"
      ]
     },
     "execution_count": 9,
     "metadata": {},
     "output_type": "execute_result"
    }
   ],
   "source": [
    "# RE(agent.learn(\"qr\", n=4, iterations=4))\n"
   ]
  },
  {
   "cell_type": "code",
   "execution_count": 13,
   "id": "9",
   "metadata": {},
   "outputs": [
    {
     "name": "stderr",
     "output_type": "stream",
     "text": [
      "/home/jmoylan1/miniconda3/envs/test_tiled_new/lib/python3.11/site-packages/numpy/lib/_nanfunctions_impl.py:1631: RuntimeWarning: All-NaN slice encountered\n",
      "  return _nanquantile_unchecked(\n"
     ]
    },
    {
     "ename": "AttributeError",
     "evalue": "'NoneType' object has no attribute 'posterior'",
     "output_type": "error",
     "traceback": [
      "\u001b[31m---------------------------------------------------------------------------\u001b[39m",
      "\u001b[31mAttributeError\u001b[39m                            Traceback (most recent call last)",
      "\u001b[36mCell\u001b[39m\u001b[36m \u001b[39m\u001b[32mIn[13]\u001b[39m\u001b[32m, line 1\u001b[39m\n\u001b[32m----> \u001b[39m\u001b[32m1\u001b[39m \u001b[43magent\u001b[49m\u001b[43m.\u001b[49m\u001b[43mplot_objectives\u001b[49m\u001b[43m(\u001b[49m\u001b[43m)\u001b[49m\n",
      "\u001b[36mFile \u001b[39m\u001b[32m~/Documents/Github/blop/src/blop/agent.py:1166\u001b[39m, in \u001b[36mAgent.plot_objectives\u001b[39m\u001b[34m(self, axes, **kwargs)\u001b[39m\n\u001b[32m   1164\u001b[39m     plotting._plot_objs_one_dof(\u001b[38;5;28mself\u001b[39m, **kwargs)\n\u001b[32m   1165\u001b[39m \u001b[38;5;28;01melif\u001b[39;00m \u001b[38;5;28mlen\u001b[39m(plottable_dofs) == \u001b[32m2\u001b[39m:\n\u001b[32m-> \u001b[39m\u001b[32m1166\u001b[39m     \u001b[43mplotting\u001b[49m\u001b[43m.\u001b[49m\u001b[43m_plot_objs_many_dofs\u001b[49m\u001b[43m(\u001b[49m\u001b[38;5;28;43mself\u001b[39;49m\u001b[43m,\u001b[49m\u001b[43m \u001b[49m\u001b[43mgridded\u001b[49m\u001b[43m=\u001b[49m\u001b[38;5;28;43;01mTrue\u001b[39;49;00m\u001b[43m,\u001b[49m\u001b[43m \u001b[49m\u001b[43maxes\u001b[49m\u001b[43m=\u001b[49m\u001b[43maxes\u001b[49m\u001b[43m,\u001b[49m\u001b[43m \u001b[49m\u001b[43m*\u001b[49m\u001b[43m*\u001b[49m\u001b[43mkwargs\u001b[49m\u001b[43m)\u001b[49m\n\u001b[32m   1167\u001b[39m \u001b[38;5;28;01melse\u001b[39;00m:\n\u001b[32m   1168\u001b[39m     plotting._plot_objs_many_dofs(\u001b[38;5;28mself\u001b[39m, gridded=\u001b[38;5;28;01mFalse\u001b[39;00m, axes=axes, **kwargs)\n",
      "\u001b[36mFile \u001b[39m\u001b[32m~/Documents/Github/blop/src/blop/plotting.py:147\u001b[39m, in \u001b[36m_plot_objs_many_dofs\u001b[39m\u001b[34m(agent, axes, gridded, n, cmap, size)\u001b[39m\n\u001b[32m    144\u001b[39m agent.obj_axes[obj_index, \u001b[32m0\u001b[39m].scatter(x_values[mask], y_values[mask], marker=\u001b[33m\"\u001b[39m\u001b[33mo\u001b[39m\u001b[33m\"\u001b[39m, ec=\u001b[33m\"\u001b[39m\u001b[33mk\u001b[39m\u001b[33m\"\u001b[39m, fc=\u001b[33m\"\u001b[39m\u001b[33mw\u001b[39m\u001b[33m\"\u001b[39m, s=size)\n\u001b[32m    146\u001b[39m \u001b[38;5;66;03m# mean and sigma will have shape (*input_shape,)\u001b[39;00m\n\u001b[32m--> \u001b[39m\u001b[32m147\u001b[39m test_posterior = \u001b[43mobj\u001b[49m\u001b[43m.\u001b[49m\u001b[43mmodel\u001b[49m\u001b[43m.\u001b[49m\u001b[43mposterior\u001b[49m(test_model_inputs)\n\u001b[32m    148\u001b[39m test_mean = test_posterior.mean[..., \u001b[32m0\u001b[39m, \u001b[32m0\u001b[39m].detach().squeeze()\n\u001b[32m    149\u001b[39m test_sigma = test_posterior.variance.sqrt()[..., \u001b[32m0\u001b[39m, \u001b[32m0\u001b[39m].detach().squeeze()\n",
      "\u001b[31mAttributeError\u001b[39m: 'NoneType' object has no attribute 'posterior'"
     ]
    },
    {
     "name": "stdout",
     "output_type": "stream",
     "text": [
      "Error in callback <function _draw_all_if_interactive at 0x7d7f08b0d940> (for post_execute), with arguments args (),kwargs {}:\n"
     ]
    },
    {
     "ename": "ValueError",
     "evalue": "Invalid vmin or vmax",
     "output_type": "error",
     "traceback": [
      "\u001b[31m---------------------------------------------------------------------------\u001b[39m",
      "\u001b[31mValueError\u001b[39m                                Traceback (most recent call last)",
      "\u001b[36mFile \u001b[39m\u001b[32m~/miniconda3/envs/test_tiled_new/lib/python3.11/site-packages/matplotlib/pyplot.py:279\u001b[39m, in \u001b[36m_draw_all_if_interactive\u001b[39m\u001b[34m()\u001b[39m\n\u001b[32m    277\u001b[39m \u001b[38;5;28;01mdef\u001b[39;00m\u001b[38;5;250m \u001b[39m\u001b[34m_draw_all_if_interactive\u001b[39m() -> \u001b[38;5;28;01mNone\u001b[39;00m:\n\u001b[32m    278\u001b[39m     \u001b[38;5;28;01mif\u001b[39;00m matplotlib.is_interactive():\n\u001b[32m--> \u001b[39m\u001b[32m279\u001b[39m         \u001b[43mdraw_all\u001b[49m\u001b[43m(\u001b[49m\u001b[43m)\u001b[49m\n",
      "\u001b[36mFile \u001b[39m\u001b[32m~/miniconda3/envs/test_tiled_new/lib/python3.11/site-packages/matplotlib/_pylab_helpers.py:131\u001b[39m, in \u001b[36mGcf.draw_all\u001b[39m\u001b[34m(cls, force)\u001b[39m\n\u001b[32m    129\u001b[39m \u001b[38;5;28;01mfor\u001b[39;00m manager \u001b[38;5;129;01min\u001b[39;00m \u001b[38;5;28mcls\u001b[39m.get_all_fig_managers():\n\u001b[32m    130\u001b[39m     \u001b[38;5;28;01mif\u001b[39;00m force \u001b[38;5;129;01mor\u001b[39;00m manager.canvas.figure.stale:\n\u001b[32m--> \u001b[39m\u001b[32m131\u001b[39m         \u001b[43mmanager\u001b[49m\u001b[43m.\u001b[49m\u001b[43mcanvas\u001b[49m\u001b[43m.\u001b[49m\u001b[43mdraw_idle\u001b[49m\u001b[43m(\u001b[49m\u001b[43m)\u001b[49m\n",
      "\u001b[36mFile \u001b[39m\u001b[32m~/miniconda3/envs/test_tiled_new/lib/python3.11/site-packages/matplotlib/backend_bases.py:1891\u001b[39m, in \u001b[36mFigureCanvasBase.draw_idle\u001b[39m\u001b[34m(self, *args, **kwargs)\u001b[39m\n\u001b[32m   1889\u001b[39m \u001b[38;5;28;01mif\u001b[39;00m \u001b[38;5;129;01mnot\u001b[39;00m \u001b[38;5;28mself\u001b[39m._is_idle_drawing:\n\u001b[32m   1890\u001b[39m     \u001b[38;5;28;01mwith\u001b[39;00m \u001b[38;5;28mself\u001b[39m._idle_draw_cntx():\n\u001b[32m-> \u001b[39m\u001b[32m1891\u001b[39m         \u001b[38;5;28;43mself\u001b[39;49m\u001b[43m.\u001b[49m\u001b[43mdraw\u001b[49m\u001b[43m(\u001b[49m\u001b[43m*\u001b[49m\u001b[43margs\u001b[49m\u001b[43m,\u001b[49m\u001b[43m \u001b[49m\u001b[43m*\u001b[49m\u001b[43m*\u001b[49m\u001b[43mkwargs\u001b[49m\u001b[43m)\u001b[49m\n",
      "\u001b[36mFile \u001b[39m\u001b[32m~/miniconda3/envs/test_tiled_new/lib/python3.11/site-packages/matplotlib/backends/backend_agg.py:382\u001b[39m, in \u001b[36mFigureCanvasAgg.draw\u001b[39m\u001b[34m(self)\u001b[39m\n\u001b[32m    379\u001b[39m \u001b[38;5;66;03m# Acquire a lock on the shared font cache.\u001b[39;00m\n\u001b[32m    380\u001b[39m \u001b[38;5;28;01mwith\u001b[39;00m (\u001b[38;5;28mself\u001b[39m.toolbar._wait_cursor_for_draw_cm() \u001b[38;5;28;01mif\u001b[39;00m \u001b[38;5;28mself\u001b[39m.toolbar\n\u001b[32m    381\u001b[39m       \u001b[38;5;28;01melse\u001b[39;00m nullcontext()):\n\u001b[32m--> \u001b[39m\u001b[32m382\u001b[39m     \u001b[38;5;28;43mself\u001b[39;49m\u001b[43m.\u001b[49m\u001b[43mfigure\u001b[49m\u001b[43m.\u001b[49m\u001b[43mdraw\u001b[49m\u001b[43m(\u001b[49m\u001b[38;5;28;43mself\u001b[39;49m\u001b[43m.\u001b[49m\u001b[43mrenderer\u001b[49m\u001b[43m)\u001b[49m\n\u001b[32m    383\u001b[39m     \u001b[38;5;66;03m# A GUI class may be need to update a window using this draw, so\u001b[39;00m\n\u001b[32m    384\u001b[39m     \u001b[38;5;66;03m# don't forget to call the superclass.\u001b[39;00m\n\u001b[32m    385\u001b[39m     \u001b[38;5;28msuper\u001b[39m().draw()\n",
      "\u001b[36mFile \u001b[39m\u001b[32m~/miniconda3/envs/test_tiled_new/lib/python3.11/site-packages/matplotlib/artist.py:94\u001b[39m, in \u001b[36m_finalize_rasterization.<locals>.draw_wrapper\u001b[39m\u001b[34m(artist, renderer, *args, **kwargs)\u001b[39m\n\u001b[32m     92\u001b[39m \u001b[38;5;129m@wraps\u001b[39m(draw)\n\u001b[32m     93\u001b[39m \u001b[38;5;28;01mdef\u001b[39;00m\u001b[38;5;250m \u001b[39m\u001b[34mdraw_wrapper\u001b[39m(artist, renderer, *args, **kwargs):\n\u001b[32m---> \u001b[39m\u001b[32m94\u001b[39m     result = \u001b[43mdraw\u001b[49m\u001b[43m(\u001b[49m\u001b[43martist\u001b[49m\u001b[43m,\u001b[49m\u001b[43m \u001b[49m\u001b[43mrenderer\u001b[49m\u001b[43m,\u001b[49m\u001b[43m \u001b[49m\u001b[43m*\u001b[49m\u001b[43margs\u001b[49m\u001b[43m,\u001b[49m\u001b[43m \u001b[49m\u001b[43m*\u001b[49m\u001b[43m*\u001b[49m\u001b[43mkwargs\u001b[49m\u001b[43m)\u001b[49m\n\u001b[32m     95\u001b[39m     \u001b[38;5;28;01mif\u001b[39;00m renderer._rasterizing:\n\u001b[32m     96\u001b[39m         renderer.stop_rasterizing()\n",
      "\u001b[36mFile \u001b[39m\u001b[32m~/miniconda3/envs/test_tiled_new/lib/python3.11/site-packages/matplotlib/artist.py:71\u001b[39m, in \u001b[36mallow_rasterization.<locals>.draw_wrapper\u001b[39m\u001b[34m(artist, renderer)\u001b[39m\n\u001b[32m     68\u001b[39m     \u001b[38;5;28;01mif\u001b[39;00m artist.get_agg_filter() \u001b[38;5;129;01mis\u001b[39;00m \u001b[38;5;129;01mnot\u001b[39;00m \u001b[38;5;28;01mNone\u001b[39;00m:\n\u001b[32m     69\u001b[39m         renderer.start_filter()\n\u001b[32m---> \u001b[39m\u001b[32m71\u001b[39m     \u001b[38;5;28;01mreturn\u001b[39;00m \u001b[43mdraw\u001b[49m\u001b[43m(\u001b[49m\u001b[43martist\u001b[49m\u001b[43m,\u001b[49m\u001b[43m \u001b[49m\u001b[43mrenderer\u001b[49m\u001b[43m)\u001b[49m\n\u001b[32m     72\u001b[39m \u001b[38;5;28;01mfinally\u001b[39;00m:\n\u001b[32m     73\u001b[39m     \u001b[38;5;28;01mif\u001b[39;00m artist.get_agg_filter() \u001b[38;5;129;01mis\u001b[39;00m \u001b[38;5;129;01mnot\u001b[39;00m \u001b[38;5;28;01mNone\u001b[39;00m:\n",
      "\u001b[36mFile \u001b[39m\u001b[32m~/miniconda3/envs/test_tiled_new/lib/python3.11/site-packages/matplotlib/figure.py:3257\u001b[39m, in \u001b[36mFigure.draw\u001b[39m\u001b[34m(self, renderer)\u001b[39m\n\u001b[32m   3254\u001b[39m             \u001b[38;5;66;03m# ValueError can occur when resizing a window.\u001b[39;00m\n\u001b[32m   3256\u001b[39m     \u001b[38;5;28mself\u001b[39m.patch.draw(renderer)\n\u001b[32m-> \u001b[39m\u001b[32m3257\u001b[39m     \u001b[43mmimage\u001b[49m\u001b[43m.\u001b[49m\u001b[43m_draw_list_compositing_images\u001b[49m\u001b[43m(\u001b[49m\n\u001b[32m   3258\u001b[39m \u001b[43m        \u001b[49m\u001b[43mrenderer\u001b[49m\u001b[43m,\u001b[49m\u001b[43m \u001b[49m\u001b[38;5;28;43mself\u001b[39;49m\u001b[43m,\u001b[49m\u001b[43m \u001b[49m\u001b[43martists\u001b[49m\u001b[43m,\u001b[49m\u001b[43m \u001b[49m\u001b[38;5;28;43mself\u001b[39;49m\u001b[43m.\u001b[49m\u001b[43msuppressComposite\u001b[49m\u001b[43m)\u001b[49m\n\u001b[32m   3260\u001b[39m     renderer.close_group(\u001b[33m'\u001b[39m\u001b[33mfigure\u001b[39m\u001b[33m'\u001b[39m)\n\u001b[32m   3261\u001b[39m \u001b[38;5;28;01mfinally\u001b[39;00m:\n",
      "\u001b[36mFile \u001b[39m\u001b[32m~/miniconda3/envs/test_tiled_new/lib/python3.11/site-packages/matplotlib/image.py:134\u001b[39m, in \u001b[36m_draw_list_compositing_images\u001b[39m\u001b[34m(renderer, parent, artists, suppress_composite)\u001b[39m\n\u001b[32m    132\u001b[39m \u001b[38;5;28;01mif\u001b[39;00m not_composite \u001b[38;5;129;01mor\u001b[39;00m \u001b[38;5;129;01mnot\u001b[39;00m has_images:\n\u001b[32m    133\u001b[39m     \u001b[38;5;28;01mfor\u001b[39;00m a \u001b[38;5;129;01min\u001b[39;00m artists:\n\u001b[32m--> \u001b[39m\u001b[32m134\u001b[39m         \u001b[43ma\u001b[49m\u001b[43m.\u001b[49m\u001b[43mdraw\u001b[49m\u001b[43m(\u001b[49m\u001b[43mrenderer\u001b[49m\u001b[43m)\u001b[49m\n\u001b[32m    135\u001b[39m \u001b[38;5;28;01melse\u001b[39;00m:\n\u001b[32m    136\u001b[39m     \u001b[38;5;66;03m# Composite any adjacent images together\u001b[39;00m\n\u001b[32m    137\u001b[39m     image_group = []\n",
      "\u001b[36mFile \u001b[39m\u001b[32m~/miniconda3/envs/test_tiled_new/lib/python3.11/site-packages/matplotlib/artist.py:71\u001b[39m, in \u001b[36mallow_rasterization.<locals>.draw_wrapper\u001b[39m\u001b[34m(artist, renderer)\u001b[39m\n\u001b[32m     68\u001b[39m     \u001b[38;5;28;01mif\u001b[39;00m artist.get_agg_filter() \u001b[38;5;129;01mis\u001b[39;00m \u001b[38;5;129;01mnot\u001b[39;00m \u001b[38;5;28;01mNone\u001b[39;00m:\n\u001b[32m     69\u001b[39m         renderer.start_filter()\n\u001b[32m---> \u001b[39m\u001b[32m71\u001b[39m     \u001b[38;5;28;01mreturn\u001b[39;00m \u001b[43mdraw\u001b[49m\u001b[43m(\u001b[49m\u001b[43martist\u001b[49m\u001b[43m,\u001b[49m\u001b[43m \u001b[49m\u001b[43mrenderer\u001b[49m\u001b[43m)\u001b[49m\n\u001b[32m     72\u001b[39m \u001b[38;5;28;01mfinally\u001b[39;00m:\n\u001b[32m     73\u001b[39m     \u001b[38;5;28;01mif\u001b[39;00m artist.get_agg_filter() \u001b[38;5;129;01mis\u001b[39;00m \u001b[38;5;129;01mnot\u001b[39;00m \u001b[38;5;28;01mNone\u001b[39;00m:\n",
      "\u001b[36mFile \u001b[39m\u001b[32m~/miniconda3/envs/test_tiled_new/lib/python3.11/site-packages/matplotlib/axes/_base.py:3210\u001b[39m, in \u001b[36m_AxesBase.draw\u001b[39m\u001b[34m(self, renderer)\u001b[39m\n\u001b[32m   3207\u001b[39m \u001b[38;5;28;01mif\u001b[39;00m artists_rasterized:\n\u001b[32m   3208\u001b[39m     _draw_rasterized(\u001b[38;5;28mself\u001b[39m.get_figure(root=\u001b[38;5;28;01mTrue\u001b[39;00m), artists_rasterized, renderer)\n\u001b[32m-> \u001b[39m\u001b[32m3210\u001b[39m \u001b[43mmimage\u001b[49m\u001b[43m.\u001b[49m\u001b[43m_draw_list_compositing_images\u001b[49m\u001b[43m(\u001b[49m\n\u001b[32m   3211\u001b[39m \u001b[43m    \u001b[49m\u001b[43mrenderer\u001b[49m\u001b[43m,\u001b[49m\u001b[43m \u001b[49m\u001b[38;5;28;43mself\u001b[39;49m\u001b[43m,\u001b[49m\u001b[43m \u001b[49m\u001b[43martists\u001b[49m\u001b[43m,\u001b[49m\u001b[43m \u001b[49m\u001b[38;5;28;43mself\u001b[39;49m\u001b[43m.\u001b[49m\u001b[43mget_figure\u001b[49m\u001b[43m(\u001b[49m\u001b[43mroot\u001b[49m\u001b[43m=\u001b[49m\u001b[38;5;28;43;01mTrue\u001b[39;49;00m\u001b[43m)\u001b[49m\u001b[43m.\u001b[49m\u001b[43msuppressComposite\u001b[49m\u001b[43m)\u001b[49m\n\u001b[32m   3213\u001b[39m renderer.close_group(\u001b[33m'\u001b[39m\u001b[33maxes\u001b[39m\u001b[33m'\u001b[39m)\n\u001b[32m   3214\u001b[39m \u001b[38;5;28mself\u001b[39m.stale = \u001b[38;5;28;01mFalse\u001b[39;00m\n",
      "\u001b[36mFile \u001b[39m\u001b[32m~/miniconda3/envs/test_tiled_new/lib/python3.11/site-packages/matplotlib/image.py:134\u001b[39m, in \u001b[36m_draw_list_compositing_images\u001b[39m\u001b[34m(renderer, parent, artists, suppress_composite)\u001b[39m\n\u001b[32m    132\u001b[39m \u001b[38;5;28;01mif\u001b[39;00m not_composite \u001b[38;5;129;01mor\u001b[39;00m \u001b[38;5;129;01mnot\u001b[39;00m has_images:\n\u001b[32m    133\u001b[39m     \u001b[38;5;28;01mfor\u001b[39;00m a \u001b[38;5;129;01min\u001b[39;00m artists:\n\u001b[32m--> \u001b[39m\u001b[32m134\u001b[39m         \u001b[43ma\u001b[49m\u001b[43m.\u001b[49m\u001b[43mdraw\u001b[49m\u001b[43m(\u001b[49m\u001b[43mrenderer\u001b[49m\u001b[43m)\u001b[49m\n\u001b[32m    135\u001b[39m \u001b[38;5;28;01melse\u001b[39;00m:\n\u001b[32m    136\u001b[39m     \u001b[38;5;66;03m# Composite any adjacent images together\u001b[39;00m\n\u001b[32m    137\u001b[39m     image_group = []\n",
      "\u001b[36mFile \u001b[39m\u001b[32m~/miniconda3/envs/test_tiled_new/lib/python3.11/site-packages/matplotlib/artist.py:71\u001b[39m, in \u001b[36mallow_rasterization.<locals>.draw_wrapper\u001b[39m\u001b[34m(artist, renderer)\u001b[39m\n\u001b[32m     68\u001b[39m     \u001b[38;5;28;01mif\u001b[39;00m artist.get_agg_filter() \u001b[38;5;129;01mis\u001b[39;00m \u001b[38;5;129;01mnot\u001b[39;00m \u001b[38;5;28;01mNone\u001b[39;00m:\n\u001b[32m     69\u001b[39m         renderer.start_filter()\n\u001b[32m---> \u001b[39m\u001b[32m71\u001b[39m     \u001b[38;5;28;01mreturn\u001b[39;00m \u001b[43mdraw\u001b[49m\u001b[43m(\u001b[49m\u001b[43martist\u001b[49m\u001b[43m,\u001b[49m\u001b[43m \u001b[49m\u001b[43mrenderer\u001b[49m\u001b[43m)\u001b[49m\n\u001b[32m     72\u001b[39m \u001b[38;5;28;01mfinally\u001b[39;00m:\n\u001b[32m     73\u001b[39m     \u001b[38;5;28;01mif\u001b[39;00m artist.get_agg_filter() \u001b[38;5;129;01mis\u001b[39;00m \u001b[38;5;129;01mnot\u001b[39;00m \u001b[38;5;28;01mNone\u001b[39;00m:\n",
      "\u001b[36mFile \u001b[39m\u001b[32m~/miniconda3/envs/test_tiled_new/lib/python3.11/site-packages/matplotlib/collections.py:1017\u001b[39m, in \u001b[36m_CollectionWithSizes.draw\u001b[39m\u001b[34m(self, renderer)\u001b[39m\n\u001b[32m   1014\u001b[39m \u001b[38;5;129m@artist\u001b[39m.allow_rasterization\n\u001b[32m   1015\u001b[39m \u001b[38;5;28;01mdef\u001b[39;00m\u001b[38;5;250m \u001b[39m\u001b[34mdraw\u001b[39m(\u001b[38;5;28mself\u001b[39m, renderer):\n\u001b[32m   1016\u001b[39m     \u001b[38;5;28mself\u001b[39m.set_sizes(\u001b[38;5;28mself\u001b[39m._sizes, \u001b[38;5;28mself\u001b[39m.get_figure(root=\u001b[38;5;28;01mTrue\u001b[39;00m).dpi)\n\u001b[32m-> \u001b[39m\u001b[32m1017\u001b[39m     \u001b[38;5;28;43msuper\u001b[39;49m\u001b[43m(\u001b[49m\u001b[43m)\u001b[49m\u001b[43m.\u001b[49m\u001b[43mdraw\u001b[49m\u001b[43m(\u001b[49m\u001b[43mrenderer\u001b[49m\u001b[43m)\u001b[49m\n",
      "\u001b[36mFile \u001b[39m\u001b[32m~/miniconda3/envs/test_tiled_new/lib/python3.11/site-packages/matplotlib/artist.py:71\u001b[39m, in \u001b[36mallow_rasterization.<locals>.draw_wrapper\u001b[39m\u001b[34m(artist, renderer)\u001b[39m\n\u001b[32m     68\u001b[39m     \u001b[38;5;28;01mif\u001b[39;00m artist.get_agg_filter() \u001b[38;5;129;01mis\u001b[39;00m \u001b[38;5;129;01mnot\u001b[39;00m \u001b[38;5;28;01mNone\u001b[39;00m:\n\u001b[32m     69\u001b[39m         renderer.start_filter()\n\u001b[32m---> \u001b[39m\u001b[32m71\u001b[39m     \u001b[38;5;28;01mreturn\u001b[39;00m \u001b[43mdraw\u001b[49m\u001b[43m(\u001b[49m\u001b[43martist\u001b[49m\u001b[43m,\u001b[49m\u001b[43m \u001b[49m\u001b[43mrenderer\u001b[49m\u001b[43m)\u001b[49m\n\u001b[32m     72\u001b[39m \u001b[38;5;28;01mfinally\u001b[39;00m:\n\u001b[32m     73\u001b[39m     \u001b[38;5;28;01mif\u001b[39;00m artist.get_agg_filter() \u001b[38;5;129;01mis\u001b[39;00m \u001b[38;5;129;01mnot\u001b[39;00m \u001b[38;5;28;01mNone\u001b[39;00m:\n",
      "\u001b[36mFile \u001b[39m\u001b[32m~/miniconda3/envs/test_tiled_new/lib/python3.11/site-packages/matplotlib/collections.py:358\u001b[39m, in \u001b[36mCollection.draw\u001b[39m\u001b[34m(self, renderer)\u001b[39m\n\u001b[32m    355\u001b[39m     \u001b[38;5;28;01mreturn\u001b[39;00m\n\u001b[32m    356\u001b[39m renderer.open_group(\u001b[38;5;28mself\u001b[39m.\u001b[34m__class__\u001b[39m.\u001b[34m__name__\u001b[39m, \u001b[38;5;28mself\u001b[39m.get_gid())\n\u001b[32m--> \u001b[39m\u001b[32m358\u001b[39m \u001b[38;5;28;43mself\u001b[39;49m\u001b[43m.\u001b[49m\u001b[43mupdate_scalarmappable\u001b[49m\u001b[43m(\u001b[49m\u001b[43m)\u001b[49m\n\u001b[32m    360\u001b[39m transform, offset_trf, offsets, paths = \u001b[38;5;28mself\u001b[39m._prepare_points()\n\u001b[32m    362\u001b[39m gc = renderer.new_gc()\n",
      "\u001b[36mFile \u001b[39m\u001b[32m~/miniconda3/envs/test_tiled_new/lib/python3.11/site-packages/matplotlib/collections.py:932\u001b[39m, in \u001b[36mCollection.update_scalarmappable\u001b[39m\u001b[34m(self)\u001b[39m\n\u001b[32m    930\u001b[39m         \u001b[38;5;66;03m# pcolormesh, scatter, maybe others flatten their _A\u001b[39;00m\n\u001b[32m    931\u001b[39m         \u001b[38;5;28mself\u001b[39m._alpha = \u001b[38;5;28mself\u001b[39m._alpha.reshape(\u001b[38;5;28mself\u001b[39m._A.shape)\n\u001b[32m--> \u001b[39m\u001b[32m932\u001b[39m     \u001b[38;5;28mself\u001b[39m._mapped_colors = \u001b[38;5;28;43mself\u001b[39;49m\u001b[43m.\u001b[49m\u001b[43mto_rgba\u001b[49m\u001b[43m(\u001b[49m\u001b[38;5;28;43mself\u001b[39;49m\u001b[43m.\u001b[49m\u001b[43m_A\u001b[49m\u001b[43m,\u001b[49m\u001b[43m \u001b[49m\u001b[38;5;28;43mself\u001b[39;49m\u001b[43m.\u001b[49m\u001b[43m_alpha\u001b[49m\u001b[43m)\u001b[49m\n\u001b[32m    934\u001b[39m \u001b[38;5;28;01mif\u001b[39;00m \u001b[38;5;28mself\u001b[39m._face_is_mapped:\n\u001b[32m    935\u001b[39m     \u001b[38;5;28mself\u001b[39m._facecolors = \u001b[38;5;28mself\u001b[39m._mapped_colors\n",
      "\u001b[36mFile \u001b[39m\u001b[32m~/miniconda3/envs/test_tiled_new/lib/python3.11/site-packages/matplotlib/colorizer.py:356\u001b[39m, in \u001b[36m_ColorizerInterface.to_rgba\u001b[39m\u001b[34m(self, x, alpha, bytes, norm)\u001b[39m\n\u001b[32m    326\u001b[39m \u001b[38;5;28;01mdef\u001b[39;00m\u001b[38;5;250m \u001b[39m\u001b[34mto_rgba\u001b[39m(\u001b[38;5;28mself\u001b[39m, x, alpha=\u001b[38;5;28;01mNone\u001b[39;00m, \u001b[38;5;28mbytes\u001b[39m=\u001b[38;5;28;01mFalse\u001b[39;00m, norm=\u001b[38;5;28;01mTrue\u001b[39;00m):\n\u001b[32m    327\u001b[39m \u001b[38;5;250m    \u001b[39m\u001b[33;03m\"\"\"\u001b[39;00m\n\u001b[32m    328\u001b[39m \u001b[33;03m    Return a normalized RGBA array corresponding to *x*.\u001b[39;00m\n\u001b[32m    329\u001b[39m \n\u001b[32m   (...)\u001b[39m\u001b[32m    354\u001b[39m \n\u001b[32m    355\u001b[39m \u001b[33;03m    \"\"\"\u001b[39;00m\n\u001b[32m--> \u001b[39m\u001b[32m356\u001b[39m     \u001b[38;5;28;01mreturn\u001b[39;00m \u001b[38;5;28;43mself\u001b[39;49m\u001b[43m.\u001b[49m\u001b[43m_colorizer\u001b[49m\u001b[43m.\u001b[49m\u001b[43mto_rgba\u001b[49m\u001b[43m(\u001b[49m\u001b[43mx\u001b[49m\u001b[43m,\u001b[49m\u001b[43m \u001b[49m\u001b[43malpha\u001b[49m\u001b[43m=\u001b[49m\u001b[43malpha\u001b[49m\u001b[43m,\u001b[49m\u001b[43m \u001b[49m\u001b[38;5;28;43mbytes\u001b[39;49m\u001b[43m=\u001b[49m\u001b[38;5;28;43mbytes\u001b[39;49m\u001b[43m,\u001b[49m\u001b[43m \u001b[49m\u001b[43mnorm\u001b[49m\u001b[43m=\u001b[49m\u001b[43mnorm\u001b[49m\u001b[43m)\u001b[49m\n",
      "\u001b[36mFile \u001b[39m\u001b[32m~/miniconda3/envs/test_tiled_new/lib/python3.11/site-packages/matplotlib/colorizer.py:157\u001b[39m, in \u001b[36mColorizer.to_rgba\u001b[39m\u001b[34m(self, x, alpha, bytes, norm)\u001b[39m\n\u001b[32m    155\u001b[39m x = ma.asarray(x)\n\u001b[32m    156\u001b[39m \u001b[38;5;28;01mif\u001b[39;00m norm:\n\u001b[32m--> \u001b[39m\u001b[32m157\u001b[39m     x = \u001b[38;5;28;43mself\u001b[39;49m\u001b[43m.\u001b[49m\u001b[43mnorm\u001b[49m\u001b[43m(\u001b[49m\u001b[43mx\u001b[49m\u001b[43m)\u001b[49m\n\u001b[32m    158\u001b[39m rgba = \u001b[38;5;28mself\u001b[39m.cmap(x, alpha=alpha, \u001b[38;5;28mbytes\u001b[39m=\u001b[38;5;28mbytes\u001b[39m)\n\u001b[32m    159\u001b[39m \u001b[38;5;28;01mreturn\u001b[39;00m rgba\n",
      "\u001b[36mFile \u001b[39m\u001b[32m~/miniconda3/envs/test_tiled_new/lib/python3.11/site-packages/matplotlib/colors.py:2679\u001b[39m, in \u001b[36m_make_norm_from_scale.<locals>.Norm.__call__\u001b[39m\u001b[34m(self, value, clip)\u001b[39m\n\u001b[32m   2677\u001b[39m t_vmin, t_vmax = \u001b[38;5;28mself\u001b[39m._trf.transform([\u001b[38;5;28mself\u001b[39m.vmin, \u001b[38;5;28mself\u001b[39m.vmax])\n\u001b[32m   2678\u001b[39m \u001b[38;5;28;01mif\u001b[39;00m \u001b[38;5;129;01mnot\u001b[39;00m np.isfinite([t_vmin, t_vmax]).all():\n\u001b[32m-> \u001b[39m\u001b[32m2679\u001b[39m     \u001b[38;5;28;01mraise\u001b[39;00m \u001b[38;5;167;01mValueError\u001b[39;00m(\u001b[33m\"\u001b[39m\u001b[33mInvalid vmin or vmax\u001b[39m\u001b[33m\"\u001b[39m)\n\u001b[32m   2680\u001b[39m t_value -= t_vmin\n\u001b[32m   2681\u001b[39m t_value /= (t_vmax - t_vmin)\n",
      "\u001b[31mValueError\u001b[39m: Invalid vmin or vmax"
     ]
    },
    {
     "ename": "ValueError",
     "evalue": "Invalid vmin or vmax",
     "output_type": "error",
     "traceback": [
      "\u001b[31m---------------------------------------------------------------------------\u001b[39m",
      "\u001b[31mValueError\u001b[39m                                Traceback (most recent call last)",
      "\u001b[36mFile \u001b[39m\u001b[32m~/miniconda3/envs/test_tiled_new/lib/python3.11/site-packages/IPython/core/formatters.py:402\u001b[39m, in \u001b[36mBaseFormatter.__call__\u001b[39m\u001b[34m(self, obj)\u001b[39m\n\u001b[32m    400\u001b[39m     \u001b[38;5;28;01mpass\u001b[39;00m\n\u001b[32m    401\u001b[39m \u001b[38;5;28;01melse\u001b[39;00m:\n\u001b[32m--> \u001b[39m\u001b[32m402\u001b[39m     \u001b[38;5;28;01mreturn\u001b[39;00m \u001b[43mprinter\u001b[49m\u001b[43m(\u001b[49m\u001b[43mobj\u001b[49m\u001b[43m)\u001b[49m\n\u001b[32m    403\u001b[39m \u001b[38;5;66;03m# Finally look for special method names\u001b[39;00m\n\u001b[32m    404\u001b[39m method = get_real_method(obj, \u001b[38;5;28mself\u001b[39m.print_method)\n",
      "\u001b[36mFile \u001b[39m\u001b[32m~/miniconda3/envs/test_tiled_new/lib/python3.11/site-packages/IPython/core/pylabtools.py:170\u001b[39m, in \u001b[36mprint_figure\u001b[39m\u001b[34m(fig, fmt, bbox_inches, base64, **kwargs)\u001b[39m\n\u001b[32m    167\u001b[39m     \u001b[38;5;28;01mfrom\u001b[39;00m\u001b[38;5;250m \u001b[39m\u001b[34;01mmatplotlib\u001b[39;00m\u001b[34;01m.\u001b[39;00m\u001b[34;01mbackend_bases\u001b[39;00m\u001b[38;5;250m \u001b[39m\u001b[38;5;28;01mimport\u001b[39;00m FigureCanvasBase\n\u001b[32m    168\u001b[39m     FigureCanvasBase(fig)\n\u001b[32m--> \u001b[39m\u001b[32m170\u001b[39m \u001b[43mfig\u001b[49m\u001b[43m.\u001b[49m\u001b[43mcanvas\u001b[49m\u001b[43m.\u001b[49m\u001b[43mprint_figure\u001b[49m\u001b[43m(\u001b[49m\u001b[43mbytes_io\u001b[49m\u001b[43m,\u001b[49m\u001b[43m \u001b[49m\u001b[43m*\u001b[49m\u001b[43m*\u001b[49m\u001b[43mkw\u001b[49m\u001b[43m)\u001b[49m\n\u001b[32m    171\u001b[39m data = bytes_io.getvalue()\n\u001b[32m    172\u001b[39m \u001b[38;5;28;01mif\u001b[39;00m fmt == \u001b[33m'\u001b[39m\u001b[33msvg\u001b[39m\u001b[33m'\u001b[39m:\n",
      "\u001b[36mFile \u001b[39m\u001b[32m~/miniconda3/envs/test_tiled_new/lib/python3.11/site-packages/matplotlib/backend_bases.py:2155\u001b[39m, in \u001b[36mFigureCanvasBase.print_figure\u001b[39m\u001b[34m(self, filename, dpi, facecolor, edgecolor, orientation, format, bbox_inches, pad_inches, bbox_extra_artists, backend, **kwargs)\u001b[39m\n\u001b[32m   2152\u001b[39m     \u001b[38;5;66;03m# we do this instead of `self.figure.draw_without_rendering`\u001b[39;00m\n\u001b[32m   2153\u001b[39m     \u001b[38;5;66;03m# so that we can inject the orientation\u001b[39;00m\n\u001b[32m   2154\u001b[39m     \u001b[38;5;28;01mwith\u001b[39;00m \u001b[38;5;28mgetattr\u001b[39m(renderer, \u001b[33m\"\u001b[39m\u001b[33m_draw_disabled\u001b[39m\u001b[33m\"\u001b[39m, nullcontext)():\n\u001b[32m-> \u001b[39m\u001b[32m2155\u001b[39m         \u001b[38;5;28;43mself\u001b[39;49m\u001b[43m.\u001b[49m\u001b[43mfigure\u001b[49m\u001b[43m.\u001b[49m\u001b[43mdraw\u001b[49m\u001b[43m(\u001b[49m\u001b[43mrenderer\u001b[49m\u001b[43m)\u001b[49m\n\u001b[32m   2156\u001b[39m \u001b[38;5;28;01mif\u001b[39;00m bbox_inches:\n\u001b[32m   2157\u001b[39m     \u001b[38;5;28;01mif\u001b[39;00m bbox_inches == \u001b[33m\"\u001b[39m\u001b[33mtight\u001b[39m\u001b[33m\"\u001b[39m:\n",
      "\u001b[36mFile \u001b[39m\u001b[32m~/miniconda3/envs/test_tiled_new/lib/python3.11/site-packages/matplotlib/artist.py:94\u001b[39m, in \u001b[36m_finalize_rasterization.<locals>.draw_wrapper\u001b[39m\u001b[34m(artist, renderer, *args, **kwargs)\u001b[39m\n\u001b[32m     92\u001b[39m \u001b[38;5;129m@wraps\u001b[39m(draw)\n\u001b[32m     93\u001b[39m \u001b[38;5;28;01mdef\u001b[39;00m\u001b[38;5;250m \u001b[39m\u001b[34mdraw_wrapper\u001b[39m(artist, renderer, *args, **kwargs):\n\u001b[32m---> \u001b[39m\u001b[32m94\u001b[39m     result = \u001b[43mdraw\u001b[49m\u001b[43m(\u001b[49m\u001b[43martist\u001b[49m\u001b[43m,\u001b[49m\u001b[43m \u001b[49m\u001b[43mrenderer\u001b[49m\u001b[43m,\u001b[49m\u001b[43m \u001b[49m\u001b[43m*\u001b[49m\u001b[43margs\u001b[49m\u001b[43m,\u001b[49m\u001b[43m \u001b[49m\u001b[43m*\u001b[49m\u001b[43m*\u001b[49m\u001b[43mkwargs\u001b[49m\u001b[43m)\u001b[49m\n\u001b[32m     95\u001b[39m     \u001b[38;5;28;01mif\u001b[39;00m renderer._rasterizing:\n\u001b[32m     96\u001b[39m         renderer.stop_rasterizing()\n",
      "\u001b[36mFile \u001b[39m\u001b[32m~/miniconda3/envs/test_tiled_new/lib/python3.11/site-packages/matplotlib/artist.py:71\u001b[39m, in \u001b[36mallow_rasterization.<locals>.draw_wrapper\u001b[39m\u001b[34m(artist, renderer)\u001b[39m\n\u001b[32m     68\u001b[39m     \u001b[38;5;28;01mif\u001b[39;00m artist.get_agg_filter() \u001b[38;5;129;01mis\u001b[39;00m \u001b[38;5;129;01mnot\u001b[39;00m \u001b[38;5;28;01mNone\u001b[39;00m:\n\u001b[32m     69\u001b[39m         renderer.start_filter()\n\u001b[32m---> \u001b[39m\u001b[32m71\u001b[39m     \u001b[38;5;28;01mreturn\u001b[39;00m \u001b[43mdraw\u001b[49m\u001b[43m(\u001b[49m\u001b[43martist\u001b[49m\u001b[43m,\u001b[49m\u001b[43m \u001b[49m\u001b[43mrenderer\u001b[49m\u001b[43m)\u001b[49m\n\u001b[32m     72\u001b[39m \u001b[38;5;28;01mfinally\u001b[39;00m:\n\u001b[32m     73\u001b[39m     \u001b[38;5;28;01mif\u001b[39;00m artist.get_agg_filter() \u001b[38;5;129;01mis\u001b[39;00m \u001b[38;5;129;01mnot\u001b[39;00m \u001b[38;5;28;01mNone\u001b[39;00m:\n",
      "\u001b[36mFile \u001b[39m\u001b[32m~/miniconda3/envs/test_tiled_new/lib/python3.11/site-packages/matplotlib/figure.py:3257\u001b[39m, in \u001b[36mFigure.draw\u001b[39m\u001b[34m(self, renderer)\u001b[39m\n\u001b[32m   3254\u001b[39m             \u001b[38;5;66;03m# ValueError can occur when resizing a window.\u001b[39;00m\n\u001b[32m   3256\u001b[39m     \u001b[38;5;28mself\u001b[39m.patch.draw(renderer)\n\u001b[32m-> \u001b[39m\u001b[32m3257\u001b[39m     \u001b[43mmimage\u001b[49m\u001b[43m.\u001b[49m\u001b[43m_draw_list_compositing_images\u001b[49m\u001b[43m(\u001b[49m\n\u001b[32m   3258\u001b[39m \u001b[43m        \u001b[49m\u001b[43mrenderer\u001b[49m\u001b[43m,\u001b[49m\u001b[43m \u001b[49m\u001b[38;5;28;43mself\u001b[39;49m\u001b[43m,\u001b[49m\u001b[43m \u001b[49m\u001b[43martists\u001b[49m\u001b[43m,\u001b[49m\u001b[43m \u001b[49m\u001b[38;5;28;43mself\u001b[39;49m\u001b[43m.\u001b[49m\u001b[43msuppressComposite\u001b[49m\u001b[43m)\u001b[49m\n\u001b[32m   3260\u001b[39m     renderer.close_group(\u001b[33m'\u001b[39m\u001b[33mfigure\u001b[39m\u001b[33m'\u001b[39m)\n\u001b[32m   3261\u001b[39m \u001b[38;5;28;01mfinally\u001b[39;00m:\n",
      "\u001b[36mFile \u001b[39m\u001b[32m~/miniconda3/envs/test_tiled_new/lib/python3.11/site-packages/matplotlib/image.py:134\u001b[39m, in \u001b[36m_draw_list_compositing_images\u001b[39m\u001b[34m(renderer, parent, artists, suppress_composite)\u001b[39m\n\u001b[32m    132\u001b[39m \u001b[38;5;28;01mif\u001b[39;00m not_composite \u001b[38;5;129;01mor\u001b[39;00m \u001b[38;5;129;01mnot\u001b[39;00m has_images:\n\u001b[32m    133\u001b[39m     \u001b[38;5;28;01mfor\u001b[39;00m a \u001b[38;5;129;01min\u001b[39;00m artists:\n\u001b[32m--> \u001b[39m\u001b[32m134\u001b[39m         \u001b[43ma\u001b[49m\u001b[43m.\u001b[49m\u001b[43mdraw\u001b[49m\u001b[43m(\u001b[49m\u001b[43mrenderer\u001b[49m\u001b[43m)\u001b[49m\n\u001b[32m    135\u001b[39m \u001b[38;5;28;01melse\u001b[39;00m:\n\u001b[32m    136\u001b[39m     \u001b[38;5;66;03m# Composite any adjacent images together\u001b[39;00m\n\u001b[32m    137\u001b[39m     image_group = []\n",
      "\u001b[36mFile \u001b[39m\u001b[32m~/miniconda3/envs/test_tiled_new/lib/python3.11/site-packages/matplotlib/artist.py:71\u001b[39m, in \u001b[36mallow_rasterization.<locals>.draw_wrapper\u001b[39m\u001b[34m(artist, renderer)\u001b[39m\n\u001b[32m     68\u001b[39m     \u001b[38;5;28;01mif\u001b[39;00m artist.get_agg_filter() \u001b[38;5;129;01mis\u001b[39;00m \u001b[38;5;129;01mnot\u001b[39;00m \u001b[38;5;28;01mNone\u001b[39;00m:\n\u001b[32m     69\u001b[39m         renderer.start_filter()\n\u001b[32m---> \u001b[39m\u001b[32m71\u001b[39m     \u001b[38;5;28;01mreturn\u001b[39;00m \u001b[43mdraw\u001b[49m\u001b[43m(\u001b[49m\u001b[43martist\u001b[49m\u001b[43m,\u001b[49m\u001b[43m \u001b[49m\u001b[43mrenderer\u001b[49m\u001b[43m)\u001b[49m\n\u001b[32m     72\u001b[39m \u001b[38;5;28;01mfinally\u001b[39;00m:\n\u001b[32m     73\u001b[39m     \u001b[38;5;28;01mif\u001b[39;00m artist.get_agg_filter() \u001b[38;5;129;01mis\u001b[39;00m \u001b[38;5;129;01mnot\u001b[39;00m \u001b[38;5;28;01mNone\u001b[39;00m:\n",
      "\u001b[36mFile \u001b[39m\u001b[32m~/miniconda3/envs/test_tiled_new/lib/python3.11/site-packages/matplotlib/axes/_base.py:3210\u001b[39m, in \u001b[36m_AxesBase.draw\u001b[39m\u001b[34m(self, renderer)\u001b[39m\n\u001b[32m   3207\u001b[39m \u001b[38;5;28;01mif\u001b[39;00m artists_rasterized:\n\u001b[32m   3208\u001b[39m     _draw_rasterized(\u001b[38;5;28mself\u001b[39m.get_figure(root=\u001b[38;5;28;01mTrue\u001b[39;00m), artists_rasterized, renderer)\n\u001b[32m-> \u001b[39m\u001b[32m3210\u001b[39m \u001b[43mmimage\u001b[49m\u001b[43m.\u001b[49m\u001b[43m_draw_list_compositing_images\u001b[49m\u001b[43m(\u001b[49m\n\u001b[32m   3211\u001b[39m \u001b[43m    \u001b[49m\u001b[43mrenderer\u001b[49m\u001b[43m,\u001b[49m\u001b[43m \u001b[49m\u001b[38;5;28;43mself\u001b[39;49m\u001b[43m,\u001b[49m\u001b[43m \u001b[49m\u001b[43martists\u001b[49m\u001b[43m,\u001b[49m\u001b[43m \u001b[49m\u001b[38;5;28;43mself\u001b[39;49m\u001b[43m.\u001b[49m\u001b[43mget_figure\u001b[49m\u001b[43m(\u001b[49m\u001b[43mroot\u001b[49m\u001b[43m=\u001b[49m\u001b[38;5;28;43;01mTrue\u001b[39;49;00m\u001b[43m)\u001b[49m\u001b[43m.\u001b[49m\u001b[43msuppressComposite\u001b[49m\u001b[43m)\u001b[49m\n\u001b[32m   3213\u001b[39m renderer.close_group(\u001b[33m'\u001b[39m\u001b[33maxes\u001b[39m\u001b[33m'\u001b[39m)\n\u001b[32m   3214\u001b[39m \u001b[38;5;28mself\u001b[39m.stale = \u001b[38;5;28;01mFalse\u001b[39;00m\n",
      "\u001b[36mFile \u001b[39m\u001b[32m~/miniconda3/envs/test_tiled_new/lib/python3.11/site-packages/matplotlib/image.py:134\u001b[39m, in \u001b[36m_draw_list_compositing_images\u001b[39m\u001b[34m(renderer, parent, artists, suppress_composite)\u001b[39m\n\u001b[32m    132\u001b[39m \u001b[38;5;28;01mif\u001b[39;00m not_composite \u001b[38;5;129;01mor\u001b[39;00m \u001b[38;5;129;01mnot\u001b[39;00m has_images:\n\u001b[32m    133\u001b[39m     \u001b[38;5;28;01mfor\u001b[39;00m a \u001b[38;5;129;01min\u001b[39;00m artists:\n\u001b[32m--> \u001b[39m\u001b[32m134\u001b[39m         \u001b[43ma\u001b[49m\u001b[43m.\u001b[49m\u001b[43mdraw\u001b[49m\u001b[43m(\u001b[49m\u001b[43mrenderer\u001b[49m\u001b[43m)\u001b[49m\n\u001b[32m    135\u001b[39m \u001b[38;5;28;01melse\u001b[39;00m:\n\u001b[32m    136\u001b[39m     \u001b[38;5;66;03m# Composite any adjacent images together\u001b[39;00m\n\u001b[32m    137\u001b[39m     image_group = []\n",
      "\u001b[36mFile \u001b[39m\u001b[32m~/miniconda3/envs/test_tiled_new/lib/python3.11/site-packages/matplotlib/artist.py:71\u001b[39m, in \u001b[36mallow_rasterization.<locals>.draw_wrapper\u001b[39m\u001b[34m(artist, renderer)\u001b[39m\n\u001b[32m     68\u001b[39m     \u001b[38;5;28;01mif\u001b[39;00m artist.get_agg_filter() \u001b[38;5;129;01mis\u001b[39;00m \u001b[38;5;129;01mnot\u001b[39;00m \u001b[38;5;28;01mNone\u001b[39;00m:\n\u001b[32m     69\u001b[39m         renderer.start_filter()\n\u001b[32m---> \u001b[39m\u001b[32m71\u001b[39m     \u001b[38;5;28;01mreturn\u001b[39;00m \u001b[43mdraw\u001b[49m\u001b[43m(\u001b[49m\u001b[43martist\u001b[49m\u001b[43m,\u001b[49m\u001b[43m \u001b[49m\u001b[43mrenderer\u001b[49m\u001b[43m)\u001b[49m\n\u001b[32m     72\u001b[39m \u001b[38;5;28;01mfinally\u001b[39;00m:\n\u001b[32m     73\u001b[39m     \u001b[38;5;28;01mif\u001b[39;00m artist.get_agg_filter() \u001b[38;5;129;01mis\u001b[39;00m \u001b[38;5;129;01mnot\u001b[39;00m \u001b[38;5;28;01mNone\u001b[39;00m:\n",
      "\u001b[36mFile \u001b[39m\u001b[32m~/miniconda3/envs/test_tiled_new/lib/python3.11/site-packages/matplotlib/collections.py:1017\u001b[39m, in \u001b[36m_CollectionWithSizes.draw\u001b[39m\u001b[34m(self, renderer)\u001b[39m\n\u001b[32m   1014\u001b[39m \u001b[38;5;129m@artist\u001b[39m.allow_rasterization\n\u001b[32m   1015\u001b[39m \u001b[38;5;28;01mdef\u001b[39;00m\u001b[38;5;250m \u001b[39m\u001b[34mdraw\u001b[39m(\u001b[38;5;28mself\u001b[39m, renderer):\n\u001b[32m   1016\u001b[39m     \u001b[38;5;28mself\u001b[39m.set_sizes(\u001b[38;5;28mself\u001b[39m._sizes, \u001b[38;5;28mself\u001b[39m.get_figure(root=\u001b[38;5;28;01mTrue\u001b[39;00m).dpi)\n\u001b[32m-> \u001b[39m\u001b[32m1017\u001b[39m     \u001b[38;5;28;43msuper\u001b[39;49m\u001b[43m(\u001b[49m\u001b[43m)\u001b[49m\u001b[43m.\u001b[49m\u001b[43mdraw\u001b[49m\u001b[43m(\u001b[49m\u001b[43mrenderer\u001b[49m\u001b[43m)\u001b[49m\n",
      "\u001b[36mFile \u001b[39m\u001b[32m~/miniconda3/envs/test_tiled_new/lib/python3.11/site-packages/matplotlib/artist.py:71\u001b[39m, in \u001b[36mallow_rasterization.<locals>.draw_wrapper\u001b[39m\u001b[34m(artist, renderer)\u001b[39m\n\u001b[32m     68\u001b[39m     \u001b[38;5;28;01mif\u001b[39;00m artist.get_agg_filter() \u001b[38;5;129;01mis\u001b[39;00m \u001b[38;5;129;01mnot\u001b[39;00m \u001b[38;5;28;01mNone\u001b[39;00m:\n\u001b[32m     69\u001b[39m         renderer.start_filter()\n\u001b[32m---> \u001b[39m\u001b[32m71\u001b[39m     \u001b[38;5;28;01mreturn\u001b[39;00m \u001b[43mdraw\u001b[49m\u001b[43m(\u001b[49m\u001b[43martist\u001b[49m\u001b[43m,\u001b[49m\u001b[43m \u001b[49m\u001b[43mrenderer\u001b[49m\u001b[43m)\u001b[49m\n\u001b[32m     72\u001b[39m \u001b[38;5;28;01mfinally\u001b[39;00m:\n\u001b[32m     73\u001b[39m     \u001b[38;5;28;01mif\u001b[39;00m artist.get_agg_filter() \u001b[38;5;129;01mis\u001b[39;00m \u001b[38;5;129;01mnot\u001b[39;00m \u001b[38;5;28;01mNone\u001b[39;00m:\n",
      "\u001b[36mFile \u001b[39m\u001b[32m~/miniconda3/envs/test_tiled_new/lib/python3.11/site-packages/matplotlib/collections.py:358\u001b[39m, in \u001b[36mCollection.draw\u001b[39m\u001b[34m(self, renderer)\u001b[39m\n\u001b[32m    355\u001b[39m     \u001b[38;5;28;01mreturn\u001b[39;00m\n\u001b[32m    356\u001b[39m renderer.open_group(\u001b[38;5;28mself\u001b[39m.\u001b[34m__class__\u001b[39m.\u001b[34m__name__\u001b[39m, \u001b[38;5;28mself\u001b[39m.get_gid())\n\u001b[32m--> \u001b[39m\u001b[32m358\u001b[39m \u001b[38;5;28;43mself\u001b[39;49m\u001b[43m.\u001b[49m\u001b[43mupdate_scalarmappable\u001b[49m\u001b[43m(\u001b[49m\u001b[43m)\u001b[49m\n\u001b[32m    360\u001b[39m transform, offset_trf, offsets, paths = \u001b[38;5;28mself\u001b[39m._prepare_points()\n\u001b[32m    362\u001b[39m gc = renderer.new_gc()\n",
      "\u001b[36mFile \u001b[39m\u001b[32m~/miniconda3/envs/test_tiled_new/lib/python3.11/site-packages/matplotlib/collections.py:932\u001b[39m, in \u001b[36mCollection.update_scalarmappable\u001b[39m\u001b[34m(self)\u001b[39m\n\u001b[32m    930\u001b[39m         \u001b[38;5;66;03m# pcolormesh, scatter, maybe others flatten their _A\u001b[39;00m\n\u001b[32m    931\u001b[39m         \u001b[38;5;28mself\u001b[39m._alpha = \u001b[38;5;28mself\u001b[39m._alpha.reshape(\u001b[38;5;28mself\u001b[39m._A.shape)\n\u001b[32m--> \u001b[39m\u001b[32m932\u001b[39m     \u001b[38;5;28mself\u001b[39m._mapped_colors = \u001b[38;5;28;43mself\u001b[39;49m\u001b[43m.\u001b[49m\u001b[43mto_rgba\u001b[49m\u001b[43m(\u001b[49m\u001b[38;5;28;43mself\u001b[39;49m\u001b[43m.\u001b[49m\u001b[43m_A\u001b[49m\u001b[43m,\u001b[49m\u001b[43m \u001b[49m\u001b[38;5;28;43mself\u001b[39;49m\u001b[43m.\u001b[49m\u001b[43m_alpha\u001b[49m\u001b[43m)\u001b[49m\n\u001b[32m    934\u001b[39m \u001b[38;5;28;01mif\u001b[39;00m \u001b[38;5;28mself\u001b[39m._face_is_mapped:\n\u001b[32m    935\u001b[39m     \u001b[38;5;28mself\u001b[39m._facecolors = \u001b[38;5;28mself\u001b[39m._mapped_colors\n",
      "\u001b[36mFile \u001b[39m\u001b[32m~/miniconda3/envs/test_tiled_new/lib/python3.11/site-packages/matplotlib/colorizer.py:356\u001b[39m, in \u001b[36m_ColorizerInterface.to_rgba\u001b[39m\u001b[34m(self, x, alpha, bytes, norm)\u001b[39m\n\u001b[32m    326\u001b[39m \u001b[38;5;28;01mdef\u001b[39;00m\u001b[38;5;250m \u001b[39m\u001b[34mto_rgba\u001b[39m(\u001b[38;5;28mself\u001b[39m, x, alpha=\u001b[38;5;28;01mNone\u001b[39;00m, \u001b[38;5;28mbytes\u001b[39m=\u001b[38;5;28;01mFalse\u001b[39;00m, norm=\u001b[38;5;28;01mTrue\u001b[39;00m):\n\u001b[32m    327\u001b[39m \u001b[38;5;250m    \u001b[39m\u001b[33;03m\"\"\"\u001b[39;00m\n\u001b[32m    328\u001b[39m \u001b[33;03m    Return a normalized RGBA array corresponding to *x*.\u001b[39;00m\n\u001b[32m    329\u001b[39m \n\u001b[32m   (...)\u001b[39m\u001b[32m    354\u001b[39m \n\u001b[32m    355\u001b[39m \u001b[33;03m    \"\"\"\u001b[39;00m\n\u001b[32m--> \u001b[39m\u001b[32m356\u001b[39m     \u001b[38;5;28;01mreturn\u001b[39;00m \u001b[38;5;28;43mself\u001b[39;49m\u001b[43m.\u001b[49m\u001b[43m_colorizer\u001b[49m\u001b[43m.\u001b[49m\u001b[43mto_rgba\u001b[49m\u001b[43m(\u001b[49m\u001b[43mx\u001b[49m\u001b[43m,\u001b[49m\u001b[43m \u001b[49m\u001b[43malpha\u001b[49m\u001b[43m=\u001b[49m\u001b[43malpha\u001b[49m\u001b[43m,\u001b[49m\u001b[43m \u001b[49m\u001b[38;5;28;43mbytes\u001b[39;49m\u001b[43m=\u001b[49m\u001b[38;5;28;43mbytes\u001b[39;49m\u001b[43m,\u001b[49m\u001b[43m \u001b[49m\u001b[43mnorm\u001b[49m\u001b[43m=\u001b[49m\u001b[43mnorm\u001b[49m\u001b[43m)\u001b[49m\n",
      "\u001b[36mFile \u001b[39m\u001b[32m~/miniconda3/envs/test_tiled_new/lib/python3.11/site-packages/matplotlib/colorizer.py:157\u001b[39m, in \u001b[36mColorizer.to_rgba\u001b[39m\u001b[34m(self, x, alpha, bytes, norm)\u001b[39m\n\u001b[32m    155\u001b[39m x = ma.asarray(x)\n\u001b[32m    156\u001b[39m \u001b[38;5;28;01mif\u001b[39;00m norm:\n\u001b[32m--> \u001b[39m\u001b[32m157\u001b[39m     x = \u001b[38;5;28;43mself\u001b[39;49m\u001b[43m.\u001b[49m\u001b[43mnorm\u001b[49m\u001b[43m(\u001b[49m\u001b[43mx\u001b[49m\u001b[43m)\u001b[49m\n\u001b[32m    158\u001b[39m rgba = \u001b[38;5;28mself\u001b[39m.cmap(x, alpha=alpha, \u001b[38;5;28mbytes\u001b[39m=\u001b[38;5;28mbytes\u001b[39m)\n\u001b[32m    159\u001b[39m \u001b[38;5;28;01mreturn\u001b[39;00m rgba\n",
      "\u001b[36mFile \u001b[39m\u001b[32m~/miniconda3/envs/test_tiled_new/lib/python3.11/site-packages/matplotlib/colors.py:2679\u001b[39m, in \u001b[36m_make_norm_from_scale.<locals>.Norm.__call__\u001b[39m\u001b[34m(self, value, clip)\u001b[39m\n\u001b[32m   2677\u001b[39m t_vmin, t_vmax = \u001b[38;5;28mself\u001b[39m._trf.transform([\u001b[38;5;28mself\u001b[39m.vmin, \u001b[38;5;28mself\u001b[39m.vmax])\n\u001b[32m   2678\u001b[39m \u001b[38;5;28;01mif\u001b[39;00m \u001b[38;5;129;01mnot\u001b[39;00m np.isfinite([t_vmin, t_vmax]).all():\n\u001b[32m-> \u001b[39m\u001b[32m2679\u001b[39m     \u001b[38;5;28;01mraise\u001b[39;00m \u001b[38;5;167;01mValueError\u001b[39;00m(\u001b[33m\"\u001b[39m\u001b[33mInvalid vmin or vmax\u001b[39m\u001b[33m\"\u001b[39m)\n\u001b[32m   2680\u001b[39m t_value -= t_vmin\n\u001b[32m   2681\u001b[39m t_value /= (t_vmax - t_vmin)\n",
      "\u001b[31mValueError\u001b[39m: Invalid vmin or vmax"
     ]
    },
    {
     "data": {
      "text/plain": [
       "<Figure size 3072x2304 with 15 Axes>"
      ]
     },
     "metadata": {},
     "output_type": "display_data"
    }
   ],
   "source": [
    "agent.plot_objectives()"
   ]
  }
 ],
 "metadata": {
  "kernelspec": {
   "display_name": "test_tiled_new",
   "language": "python",
   "name": "python3"
  },
  "language_info": {
   "codemirror_mode": {
    "name": "ipython",
    "version": 3
   },
   "file_extension": ".py",
   "mimetype": "text/x-python",
   "name": "python",
   "nbconvert_exporter": "python",
   "pygments_lexer": "ipython3",
   "version": "3.11.11"
  }
 },
 "nbformat": 4,
 "nbformat_minor": 5
}
