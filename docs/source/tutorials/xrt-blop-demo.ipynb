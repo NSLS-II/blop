{
 "cells": [
  {
   "cell_type": "markdown",
   "id": "0",
   "metadata": {},
   "source": [
    "# XRT Blop Demo"
   ]
  },
  {
   "cell_type": "markdown",
   "id": "1",
   "metadata": {},
   "source": [
    "For ophyd beamline setup see: \n",
    "- https://github.com/NSLS-II/blop/blob/main/src/blop/sim/xrt_beamline.py\n",
    "- https://github.com/NSLS-II/blop/blob/main/src/blop/sim/xrt_kb_model.py\n",
    "\n",
    "The picture below displays beam from geometric source propagating through a pair of toroidal mirrors focusing the beam on screen. Simulation of a KB setup.\n",
    "\n",
    "![xrt_blop_layout_w.jpg](../_static/xrt_blop_layout_w.jpg)"
   ]
  },
  {
   "cell_type": "code",
   "execution_count": null,
   "id": "2",
   "metadata": {},
   "outputs": [
    {
     "name": "stderr",
     "output_type": "stream",
     "text": [
      "Tiled version 0.1.dev2763+ge244fae\n"
     ]
    },
    {
     "name": "stderr",
     "output_type": "stream",
     "text": [
      "2025-06-04 11:33:18.840 INFO: HTTP Request: GET http://127.0.0.1:34083/api/v1/table/partition/22091bcc-c010-45a7-b8b2-76e0b49eb8de/primary/internal/events?partition=0 \"HTTP/1.1 200 OK\"\n",
      "2025-06-04 11:33:19.198 INFO: HTTP Request: GET http://127.0.0.1:34083/api/v1/array/block/22091bcc-c010-45a7-b8b2-76e0b49eb8de/primary/external/bl_det_image?block=9%2C0%2C0&expected_shape=1%2C300%2C400 \"HTTP/1.1 500 Internal Server Error\"\n",
      "2025-06-04 11:33:19.200 WARNING: Scheduled retry in 0.63 seconds due to HTTPStatusError(\"Server error '500 Internal Server Error' for url 'http://127.0.0.1:34083/api/v1/array/block/22091bcc-c010-45a7-b8b2-76e0b49eb8de/primary/external/bl_det_image?block=9%2C0%2C0&expected_shape=1%2C300%2C400'\\nFor more information, server admin can search server logs for correlation ID 49149663e5051c6d.\") (attempt 1)\n",
      "2025-06-04 11:33:19.206 INFO: HTTP Request: GET http://127.0.0.1:34083/api/v1/array/block/22091bcc-c010-45a7-b8b2-76e0b49eb8de/primary/external/bl_det_image?block=6%2C0%2C0&expected_shape=1%2C300%2C400 \"HTTP/1.1 500 Internal Server Error\"\n",
      "2025-06-04 11:33:19.207 WARNING: Scheduled retry in 0.76 seconds due to HTTPStatusError(\"Server error '500 Internal Server Error' for url 'http://127.0.0.1:34083/api/v1/array/block/22091bcc-c010-45a7-b8b2-76e0b49eb8de/primary/external/bl_det_image?block=6%2C0%2C0&expected_shape=1%2C300%2C400'\\nFor more information, server admin can search server logs for correlation ID ceb3960b64f9e579.\") (attempt 1)\n",
      "2025-06-04 11:33:19.215 INFO: HTTP Request: GET http://127.0.0.1:34083/api/v1/array/block/22091bcc-c010-45a7-b8b2-76e0b49eb8de/primary/external/bl_det_image?block=7%2C0%2C0&expected_shape=1%2C300%2C400 \"HTTP/1.1 500 Internal Server Error\"\n",
      "2025-06-04 11:33:19.216 WARNING: Scheduled retry in 0.82 seconds due to HTTPStatusError(\"Server error '500 Internal Server Error' for url 'http://127.0.0.1:34083/api/v1/array/block/22091bcc-c010-45a7-b8b2-76e0b49eb8de/primary/external/bl_det_image?block=7%2C0%2C0&expected_shape=1%2C300%2C400'\\nFor more information, server admin can search server logs for correlation ID 766a46fcff7b85f1.\") (attempt 1)\n",
      "2025-06-04 11:33:19.219 INFO: HTTP Request: GET http://127.0.0.1:34083/api/v1/array/block/22091bcc-c010-45a7-b8b2-76e0b49eb8de/primary/external/bl_det_image?block=2%2C0%2C0&expected_shape=1%2C300%2C400 \"HTTP/1.1 500 Internal Server Error\"\n",
      "2025-06-04 11:33:19.222 WARNING: Scheduled retry in 0.9 seconds due to HTTPStatusError(\"Server error '500 Internal Server Error' for url 'http://127.0.0.1:34083/api/v1/array/block/22091bcc-c010-45a7-b8b2-76e0b49eb8de/primary/external/bl_det_image?block=2%2C0%2C0&expected_shape=1%2C300%2C400'\\nFor more information, server admin can search server logs for correlation ID 560c85625671282c.\") (attempt 1)\n",
      "2025-06-04 11:33:19.222 INFO: HTTP Request: GET http://127.0.0.1:34083/api/v1/array/block/22091bcc-c010-45a7-b8b2-76e0b49eb8de/primary/external/bl_det_image?block=8%2C0%2C0&expected_shape=1%2C300%2C400 \"HTTP/1.1 500 Internal Server Error\"\n",
      "2025-06-04 11:33:19.227 INFO: HTTP Request: GET http://127.0.0.1:34083/api/v1/array/block/22091bcc-c010-45a7-b8b2-76e0b49eb8de/primary/external/bl_det_image?block=0%2C0%2C0&expected_shape=1%2C300%2C400 \"HTTP/1.1 500 Internal Server Error\"\n",
      "2025-06-04 11:33:19.228 WARNING: Scheduled retry in 0.53 seconds due to HTTPStatusError(\"Server error '500 Internal Server Error' for url 'http://127.0.0.1:34083/api/v1/array/block/22091bcc-c010-45a7-b8b2-76e0b49eb8de/primary/external/bl_det_image?block=8%2C0%2C0&expected_shape=1%2C300%2C400'\\nFor more information, server admin can search server logs for correlation ID ab0f43ac5dec3381.\") (attempt 1)\n",
      "2025-06-04 11:33:19.228 WARNING: Scheduled retry in 1.0 seconds due to HTTPStatusError(\"Server error '500 Internal Server Error' for url 'http://127.0.0.1:34083/api/v1/array/block/22091bcc-c010-45a7-b8b2-76e0b49eb8de/primary/external/bl_det_image?block=0%2C0%2C0&expected_shape=1%2C300%2C400'\\nFor more information, server admin can search server logs for correlation ID 02161803f203a05d.\") (attempt 1)\n",
      "2025-06-04 11:33:19.234 INFO: HTTP Request: GET http://127.0.0.1:34083/api/v1/array/block/22091bcc-c010-45a7-b8b2-76e0b49eb8de/primary/external/bl_det_image?block=11%2C0%2C0&expected_shape=1%2C300%2C400 \"HTTP/1.1 500 Internal Server Error\"\n",
      "2025-06-04 11:33:19.237 WARNING: Scheduled retry in 0.73 seconds due to HTTPStatusError(\"Server error '500 Internal Server Error' for url 'http://127.0.0.1:34083/api/v1/array/block/22091bcc-c010-45a7-b8b2-76e0b49eb8de/primary/external/bl_det_image?block=11%2C0%2C0&expected_shape=1%2C300%2C400'\\nFor more information, server admin can search server logs for correlation ID 28a8db84fde81b24.\") (attempt 1)\n",
      "2025-06-04 11:33:19.240 INFO: HTTP Request: GET http://127.0.0.1:34083/api/v1/array/block/22091bcc-c010-45a7-b8b2-76e0b49eb8de/primary/external/bl_det_image?block=3%2C0%2C0&expected_shape=1%2C300%2C400 \"HTTP/1.1 500 Internal Server Error\"\n",
      "2025-06-04 11:33:19.241 WARNING: Scheduled retry in 0.11 seconds due to HTTPStatusError(\"Server error '500 Internal Server Error' for url 'http://127.0.0.1:34083/api/v1/array/block/22091bcc-c010-45a7-b8b2-76e0b49eb8de/primary/external/bl_det_image?block=3%2C0%2C0&expected_shape=1%2C300%2C400'\\nFor more information, server admin can search server logs for correlation ID f4df3460c99909ab.\") (attempt 1)\n",
      "2025-06-04 11:33:19.243 INFO: HTTP Request: GET http://127.0.0.1:34083/api/v1/array/block/22091bcc-c010-45a7-b8b2-76e0b49eb8de/primary/external/bl_det_image?block=13%2C0%2C0&expected_shape=1%2C300%2C400 \"HTTP/1.1 500 Internal Server Error\"\n",
      "2025-06-04 11:33:19.244 WARNING: Scheduled retry in 0.93 seconds due to HTTPStatusError(\"Server error '500 Internal Server Error' for url 'http://127.0.0.1:34083/api/v1/array/block/22091bcc-c010-45a7-b8b2-76e0b49eb8de/primary/external/bl_det_image?block=13%2C0%2C0&expected_shape=1%2C300%2C400'\\nFor more information, server admin can search server logs for correlation ID 5cb95f523b52c4b2.\") (attempt 1)\n",
      "2025-06-04 11:33:19.251 INFO: HTTP Request: GET http://127.0.0.1:34083/api/v1/array/block/22091bcc-c010-45a7-b8b2-76e0b49eb8de/primary/external/bl_det_image?block=1%2C0%2C0&expected_shape=1%2C300%2C400 \"HTTP/1.1 500 Internal Server Error\"\n",
      "2025-06-04 11:33:19.253 WARNING: Scheduled retry in 0.85 seconds due to HTTPStatusError(\"Server error '500 Internal Server Error' for url 'http://127.0.0.1:34083/api/v1/array/block/22091bcc-c010-45a7-b8b2-76e0b49eb8de/primary/external/bl_det_image?block=1%2C0%2C0&expected_shape=1%2C300%2C400'\\nFor more information, server admin can search server logs for correlation ID 7f2a208567b797b5.\") (attempt 1)\n",
      "2025-06-04 11:33:19.255 INFO: HTTP Request: GET http://127.0.0.1:34083/api/v1/array/block/22091bcc-c010-45a7-b8b2-76e0b49eb8de/primary/external/bl_det_image?block=5%2C0%2C0&expected_shape=1%2C300%2C400 \"HTTP/1.1 500 Internal Server Error\"\n",
      "2025-06-04 11:33:19.257 WARNING: Scheduled retry in 0.49 seconds due to HTTPStatusError(\"Server error '500 Internal Server Error' for url 'http://127.0.0.1:34083/api/v1/array/block/22091bcc-c010-45a7-b8b2-76e0b49eb8de/primary/external/bl_det_image?block=5%2C0%2C0&expected_shape=1%2C300%2C400'\\nFor more information, server admin can search server logs for correlation ID 94dbff4d03bd3fa1.\") (attempt 1)\n",
      "2025-06-04 11:33:19.258 INFO: HTTP Request: GET http://127.0.0.1:34083/api/v1/array/block/22091bcc-c010-45a7-b8b2-76e0b49eb8de/primary/external/bl_det_image?block=15%2C0%2C0&expected_shape=1%2C300%2C400 \"HTTP/1.1 500 Internal Server Error\"\n",
      "2025-06-04 11:33:19.260 WARNING: Scheduled retry in 0.85 seconds due to HTTPStatusError(\"Server error '500 Internal Server Error' for url 'http://127.0.0.1:34083/api/v1/array/block/22091bcc-c010-45a7-b8b2-76e0b49eb8de/primary/external/bl_det_image?block=15%2C0%2C0&expected_shape=1%2C300%2C400'\\nFor more information, server admin can search server logs for correlation ID 54b5bb97637fa88a.\") (attempt 1)\n",
      "2025-06-04 11:33:19.264 INFO: HTTP Request: GET http://127.0.0.1:34083/api/v1/array/block/22091bcc-c010-45a7-b8b2-76e0b49eb8de/primary/external/bl_det_image?block=12%2C0%2C0&expected_shape=1%2C300%2C400 \"HTTP/1.1 500 Internal Server Error\"\n",
      "2025-06-04 11:33:19.266 WARNING: Scheduled retry in 0.79 seconds due to HTTPStatusError(\"Server error '500 Internal Server Error' for url 'http://127.0.0.1:34083/api/v1/array/block/22091bcc-c010-45a7-b8b2-76e0b49eb8de/primary/external/bl_det_image?block=12%2C0%2C0&expected_shape=1%2C300%2C400'\\nFor more information, server admin can search server logs for correlation ID f1df39cf179c5334.\") (attempt 1)\n",
      "2025-06-04 11:33:19.270 INFO: HTTP Request: GET http://127.0.0.1:34083/api/v1/array/block/22091bcc-c010-45a7-b8b2-76e0b49eb8de/primary/external/bl_det_image?block=4%2C0%2C0&expected_shape=1%2C300%2C400 \"HTTP/1.1 500 Internal Server Error\"\n",
      "2025-06-04 11:33:19.273 WARNING: Scheduled retry in 0.62 seconds due to HTTPStatusError(\"Server error '500 Internal Server Error' for url 'http://127.0.0.1:34083/api/v1/array/block/22091bcc-c010-45a7-b8b2-76e0b49eb8de/primary/external/bl_det_image?block=4%2C0%2C0&expected_shape=1%2C300%2C400'\\nFor more information, server admin can search server logs for correlation ID 83335289e64f6d9e.\") (attempt 1)\n",
      "2025-06-04 11:33:19.274 INFO: HTTP Request: GET http://127.0.0.1:34083/api/v1/array/block/22091bcc-c010-45a7-b8b2-76e0b49eb8de/primary/external/bl_det_image?block=10%2C0%2C0&expected_shape=1%2C300%2C400 \"HTTP/1.1 500 Internal Server Error\"\n",
      "2025-06-04 11:33:19.276 WARNING: Scheduled retry in 0.79 seconds due to HTTPStatusError(\"Server error '500 Internal Server Error' for url 'http://127.0.0.1:34083/api/v1/array/block/22091bcc-c010-45a7-b8b2-76e0b49eb8de/primary/external/bl_det_image?block=10%2C0%2C0&expected_shape=1%2C300%2C400'\\nFor more information, server admin can search server logs for correlation ID ff7c6bef391af878.\") (attempt 1)\n",
      "2025-06-04 11:33:19.279 INFO: HTTP Request: GET http://127.0.0.1:34083/api/v1/array/block/22091bcc-c010-45a7-b8b2-76e0b49eb8de/primary/external/bl_det_image?block=14%2C0%2C0&expected_shape=1%2C300%2C400 \"HTTP/1.1 500 Internal Server Error\"\n",
      "2025-06-04 11:33:19.281 WARNING: Scheduled retry in 0.46 seconds due to HTTPStatusError(\"Server error '500 Internal Server Error' for url 'http://127.0.0.1:34083/api/v1/array/block/22091bcc-c010-45a7-b8b2-76e0b49eb8de/primary/external/bl_det_image?block=14%2C0%2C0&expected_shape=1%2C300%2C400'\\nFor more information, server admin can search server logs for correlation ID 39b6157984f45039.\") (attempt 1)\n",
      "2025-06-04 11:33:19.362 INFO: HTTP Request: GET http://127.0.0.1:34083/api/v1/array/block/22091bcc-c010-45a7-b8b2-76e0b49eb8de/primary/external/bl_det_image?block=3%2C0%2C0&expected_shape=1%2C300%2C400 \"HTTP/1.1 500 Internal Server Error\"\n",
      "2025-06-04 11:33:19.363 WARNING: Scheduled retry in 0.27 seconds due to HTTPStatusError(\"Server error '500 Internal Server Error' for url 'http://127.0.0.1:34083/api/v1/array/block/22091bcc-c010-45a7-b8b2-76e0b49eb8de/primary/external/bl_det_image?block=3%2C0%2C0&expected_shape=1%2C300%2C400'\\nFor more information, server admin can search server logs for correlation ID 8a1b1f46cac56ded.\") (attempt 2)\n",
      "2025-06-04 11:33:19.647 INFO: HTTP Request: GET http://127.0.0.1:34083/api/v1/array/block/22091bcc-c010-45a7-b8b2-76e0b49eb8de/primary/external/bl_det_image?block=3%2C0%2C0&expected_shape=1%2C300%2C400 \"HTTP/1.1 500 Internal Server Error\"\n",
      "2025-06-04 11:33:19.649 WARNING: Scheduled retry in 1.0 seconds due to HTTPStatusError(\"Server error '500 Internal Server Error' for url 'http://127.0.0.1:34083/api/v1/array/block/22091bcc-c010-45a7-b8b2-76e0b49eb8de/primary/external/bl_det_image?block=3%2C0%2C0&expected_shape=1%2C300%2C400'\\nFor more information, server admin can search server logs for correlation ID 8eee490b7f9ec654.\") (attempt 3)\n",
      "2025-06-04 11:33:19.769 INFO: HTTP Request: GET http://127.0.0.1:34083/api/v1/array/block/22091bcc-c010-45a7-b8b2-76e0b49eb8de/primary/external/bl_det_image?block=14%2C0%2C0&expected_shape=1%2C300%2C400 \"HTTP/1.1 500 Internal Server Error\"\n",
      "2025-06-04 11:33:19.771 WARNING: Scheduled retry in 0.81 seconds due to HTTPStatusError(\"Server error '500 Internal Server Error' for url 'http://127.0.0.1:34083/api/v1/array/block/22091bcc-c010-45a7-b8b2-76e0b49eb8de/primary/external/bl_det_image?block=14%2C0%2C0&expected_shape=1%2C300%2C400'\\nFor more information, server admin can search server logs for correlation ID 08d339ab89119484.\") (attempt 2)\n",
      "2025-06-04 11:33:19.775 INFO: HTTP Request: GET http://127.0.0.1:34083/api/v1/array/block/22091bcc-c010-45a7-b8b2-76e0b49eb8de/primary/external/bl_det_image?block=5%2C0%2C0&expected_shape=1%2C300%2C400 \"HTTP/1.1 500 Internal Server Error\"\n",
      "2025-06-04 11:33:19.776 WARNING: Scheduled retry in 1.1 seconds due to HTTPStatusError(\"Server error '500 Internal Server Error' for url 'http://127.0.0.1:34083/api/v1/array/block/22091bcc-c010-45a7-b8b2-76e0b49eb8de/primary/external/bl_det_image?block=5%2C0%2C0&expected_shape=1%2C300%2C400'\\nFor more information, server admin can search server logs for correlation ID 1f898ac215843dc3.\") (attempt 2)\n",
      "2025-06-04 11:33:19.781 INFO: HTTP Request: GET http://127.0.0.1:34083/api/v1/array/block/22091bcc-c010-45a7-b8b2-76e0b49eb8de/primary/external/bl_det_image?block=8%2C0%2C0&expected_shape=1%2C300%2C400 \"HTTP/1.1 500 Internal Server Error\"\n",
      "2025-06-04 11:33:19.782 WARNING: Scheduled retry in 0.24 seconds due to HTTPStatusError(\"Server error '500 Internal Server Error' for url 'http://127.0.0.1:34083/api/v1/array/block/22091bcc-c010-45a7-b8b2-76e0b49eb8de/primary/external/bl_det_image?block=8%2C0%2C0&expected_shape=1%2C300%2C400'\\nFor more information, server admin can search server logs for correlation ID 9337f181d5fb3f0e.\") (attempt 2)\n",
      "2025-06-04 11:33:19.845 INFO: HTTP Request: GET http://127.0.0.1:34083/api/v1/array/block/22091bcc-c010-45a7-b8b2-76e0b49eb8de/primary/external/bl_det_image?block=9%2C0%2C0&expected_shape=1%2C300%2C400 \"HTTP/1.1 500 Internal Server Error\"\n",
      "2025-06-04 11:33:19.846 WARNING: Scheduled retry in 0.63 seconds due to HTTPStatusError(\"Server error '500 Internal Server Error' for url 'http://127.0.0.1:34083/api/v1/array/block/22091bcc-c010-45a7-b8b2-76e0b49eb8de/primary/external/bl_det_image?block=9%2C0%2C0&expected_shape=1%2C300%2C400'\\nFor more information, server admin can search server logs for correlation ID d663a84dee3a9f4c.\") (attempt 2)\n",
      "2025-06-04 11:33:19.902 INFO: HTTP Request: GET http://127.0.0.1:34083/api/v1/array/block/22091bcc-c010-45a7-b8b2-76e0b49eb8de/primary/external/bl_det_image?block=4%2C0%2C0&expected_shape=1%2C300%2C400 \"HTTP/1.1 500 Internal Server Error\"\n",
      "2025-06-04 11:33:19.904 WARNING: Scheduled retry in 0.66 seconds due to HTTPStatusError(\"Server error '500 Internal Server Error' for url 'http://127.0.0.1:34083/api/v1/array/block/22091bcc-c010-45a7-b8b2-76e0b49eb8de/primary/external/bl_det_image?block=4%2C0%2C0&expected_shape=1%2C300%2C400'\\nFor more information, server admin can search server logs for correlation ID d8b71bffd1e26c88.\") (attempt 2)\n",
      "2025-06-04 11:33:19.981 INFO: HTTP Request: GET http://127.0.0.1:34083/api/v1/array/block/22091bcc-c010-45a7-b8b2-76e0b49eb8de/primary/external/bl_det_image?block=6%2C0%2C0&expected_shape=1%2C300%2C400 \"HTTP/1.1 500 Internal Server Error\"\n",
      "2025-06-04 11:33:19.982 WARNING: Scheduled retry in 0.65 seconds due to HTTPStatusError(\"Server error '500 Internal Server Error' for url 'http://127.0.0.1:34083/api/v1/array/block/22091bcc-c010-45a7-b8b2-76e0b49eb8de/primary/external/bl_det_image?block=6%2C0%2C0&expected_shape=1%2C300%2C400'\\nFor more information, server admin can search server logs for correlation ID 1bff31c86837f70f.\") (attempt 2)\n",
      "2025-06-04 11:33:19.987 INFO: HTTP Request: GET http://127.0.0.1:34083/api/v1/array/block/22091bcc-c010-45a7-b8b2-76e0b49eb8de/primary/external/bl_det_image?block=11%2C0%2C0&expected_shape=1%2C300%2C400 \"HTTP/1.1 500 Internal Server Error\"\n",
      "2025-06-04 11:33:19.988 WARNING: Scheduled retry in 1.1 seconds due to HTTPStatusError(\"Server error '500 Internal Server Error' for url 'http://127.0.0.1:34083/api/v1/array/block/22091bcc-c010-45a7-b8b2-76e0b49eb8de/primary/external/bl_det_image?block=11%2C0%2C0&expected_shape=1%2C300%2C400'\\nFor more information, server admin can search server logs for correlation ID 15f4eddf2609f200.\") (attempt 2)\n",
      "2025-06-04 11:33:20.042 INFO: HTTP Request: GET http://127.0.0.1:34083/api/v1/array/block/22091bcc-c010-45a7-b8b2-76e0b49eb8de/primary/external/bl_det_image?block=8%2C0%2C0&expected_shape=1%2C300%2C400 \"HTTP/1.1 500 Internal Server Error\"\n",
      "2025-06-04 11:33:20.044 WARNING: Scheduled retry in 0.63 seconds due to HTTPStatusError(\"Server error '500 Internal Server Error' for url 'http://127.0.0.1:34083/api/v1/array/block/22091bcc-c010-45a7-b8b2-76e0b49eb8de/primary/external/bl_det_image?block=8%2C0%2C0&expected_shape=1%2C300%2C400'\\nFor more information, server admin can search server logs for correlation ID 53bfda75a79b5384.\") (attempt 3)\n",
      "2025-06-04 11:33:20.050 INFO: HTTP Request: GET http://127.0.0.1:34083/api/v1/array/block/22091bcc-c010-45a7-b8b2-76e0b49eb8de/primary/external/bl_det_image?block=7%2C0%2C0&expected_shape=1%2C300%2C400 \"HTTP/1.1 500 Internal Server Error\"\n",
      "2025-06-04 11:33:20.051 WARNING: Scheduled retry in 0.95 seconds due to HTTPStatusError(\"Server error '500 Internal Server Error' for url 'http://127.0.0.1:34083/api/v1/array/block/22091bcc-c010-45a7-b8b2-76e0b49eb8de/primary/external/bl_det_image?block=7%2C0%2C0&expected_shape=1%2C300%2C400'\\nFor more information, server admin can search server logs for correlation ID 8805396f7c6675d5.\") (attempt 2)\n",
      "2025-06-04 11:33:20.062 INFO: HTTP Request: GET http://127.0.0.1:34083/api/v1/array/block/22091bcc-c010-45a7-b8b2-76e0b49eb8de/primary/external/bl_det_image?block=12%2C0%2C0&expected_shape=1%2C300%2C400 \"HTTP/1.1 500 Internal Server Error\"\n",
      "2025-06-04 11:33:20.064 WARNING: Scheduled retry in 0.78 seconds due to HTTPStatusError(\"Server error '500 Internal Server Error' for url 'http://127.0.0.1:34083/api/v1/array/block/22091bcc-c010-45a7-b8b2-76e0b49eb8de/primary/external/bl_det_image?block=12%2C0%2C0&expected_shape=1%2C300%2C400'\\nFor more information, server admin can search server logs for correlation ID cecf53cc1df88b32.\") (attempt 2)\n",
      "2025-06-04 11:33:20.074 INFO: HTTP Request: GET http://127.0.0.1:34083/api/v1/array/block/22091bcc-c010-45a7-b8b2-76e0b49eb8de/primary/external/bl_det_image?block=10%2C0%2C0&expected_shape=1%2C300%2C400 \"HTTP/1.1 500 Internal Server Error\"\n",
      "2025-06-04 11:33:20.077 WARNING: Scheduled retry in 0.22 seconds due to HTTPStatusError(\"Server error '500 Internal Server Error' for url 'http://127.0.0.1:34083/api/v1/array/block/22091bcc-c010-45a7-b8b2-76e0b49eb8de/primary/external/bl_det_image?block=10%2C0%2C0&expected_shape=1%2C300%2C400'\\nFor more information, server admin can search server logs for correlation ID 1c86be26e09c2d87.\") (attempt 2)\n",
      "2025-06-04 11:33:20.130 INFO: HTTP Request: GET http://127.0.0.1:34083/api/v1/array/block/22091bcc-c010-45a7-b8b2-76e0b49eb8de/primary/external/bl_det_image?block=1%2C0%2C0&expected_shape=1%2C300%2C400 \"HTTP/1.1 500 Internal Server Error\"\n",
      "2025-06-04 11:33:20.131 WARNING: Scheduled retry in 1.0 seconds due to HTTPStatusError(\"Server error '500 Internal Server Error' for url 'http://127.0.0.1:34083/api/v1/array/block/22091bcc-c010-45a7-b8b2-76e0b49eb8de/primary/external/bl_det_image?block=1%2C0%2C0&expected_shape=1%2C300%2C400'\\nFor more information, server admin can search server logs for correlation ID db84856836f34acb.\") (attempt 2)\n",
      "2025-06-04 11:33:20.138 INFO: HTTP Request: GET http://127.0.0.1:34083/api/v1/array/block/22091bcc-c010-45a7-b8b2-76e0b49eb8de/primary/external/bl_det_image?block=15%2C0%2C0&expected_shape=1%2C300%2C400 \"HTTP/1.1 500 Internal Server Error\"\n",
      "2025-06-04 11:33:20.140 WARNING: Scheduled retry in 0.76 seconds due to HTTPStatusError(\"Server error '500 Internal Server Error' for url 'http://127.0.0.1:34083/api/v1/array/block/22091bcc-c010-45a7-b8b2-76e0b49eb8de/primary/external/bl_det_image?block=15%2C0%2C0&expected_shape=1%2C300%2C400'\\nFor more information, server admin can search server logs for correlation ID 598d3ba63843706d.\") (attempt 2)\n",
      "2025-06-04 11:33:20.145 INFO: HTTP Request: GET http://127.0.0.1:34083/api/v1/array/block/22091bcc-c010-45a7-b8b2-76e0b49eb8de/primary/external/bl_det_image?block=2%2C0%2C0&expected_shape=1%2C300%2C400 \"HTTP/1.1 500 Internal Server Error\"\n",
      "2025-06-04 11:33:20.146 WARNING: Scheduled retry in 0.21 seconds due to HTTPStatusError(\"Server error '500 Internal Server Error' for url 'http://127.0.0.1:34083/api/v1/array/block/22091bcc-c010-45a7-b8b2-76e0b49eb8de/primary/external/bl_det_image?block=2%2C0%2C0&expected_shape=1%2C300%2C400'\\nFor more information, server admin can search server logs for correlation ID bbd3b7a45bd3d438.\") (attempt 2)\n",
      "2025-06-04 11:33:20.193 INFO: HTTP Request: GET http://127.0.0.1:34083/api/v1/array/block/22091bcc-c010-45a7-b8b2-76e0b49eb8de/primary/external/bl_det_image?block=13%2C0%2C0&expected_shape=1%2C300%2C400 \"HTTP/1.1 500 Internal Server Error\"\n",
      "2025-06-04 11:33:20.195 WARNING: Scheduled retry in 0.83 seconds due to HTTPStatusError(\"Server error '500 Internal Server Error' for url 'http://127.0.0.1:34083/api/v1/array/block/22091bcc-c010-45a7-b8b2-76e0b49eb8de/primary/external/bl_det_image?block=13%2C0%2C0&expected_shape=1%2C300%2C400'\\nFor more information, server admin can search server logs for correlation ID e201679ccc2646ca.\") (attempt 2)\n",
      "2025-06-04 11:33:20.266 INFO: HTTP Request: GET http://127.0.0.1:34083/api/v1/array/block/22091bcc-c010-45a7-b8b2-76e0b49eb8de/primary/external/bl_det_image?block=0%2C0%2C0&expected_shape=1%2C300%2C400 \"HTTP/1.1 500 Internal Server Error\"\n",
      "2025-06-04 11:33:20.268 WARNING: Scheduled retry in 0.96 seconds due to HTTPStatusError(\"Server error '500 Internal Server Error' for url 'http://127.0.0.1:34083/api/v1/array/block/22091bcc-c010-45a7-b8b2-76e0b49eb8de/primary/external/bl_det_image?block=0%2C0%2C0&expected_shape=1%2C300%2C400'\\nFor more information, server admin can search server logs for correlation ID 9320073809e759e1.\") (attempt 2)\n",
      "2025-06-04 11:33:20.305 INFO: HTTP Request: GET http://127.0.0.1:34083/api/v1/array/block/22091bcc-c010-45a7-b8b2-76e0b49eb8de/primary/external/bl_det_image?block=10%2C0%2C0&expected_shape=1%2C300%2C400 \"HTTP/1.1 500 Internal Server Error\"\n",
      "2025-06-04 11:33:20.306 WARNING: Scheduled retry in 1.1 seconds due to HTTPStatusError(\"Server error '500 Internal Server Error' for url 'http://127.0.0.1:34083/api/v1/array/block/22091bcc-c010-45a7-b8b2-76e0b49eb8de/primary/external/bl_det_image?block=10%2C0%2C0&expected_shape=1%2C300%2C400'\\nFor more information, server admin can search server logs for correlation ID 8d173c8a6bf2fd3b.\") (attempt 3)\n",
      "2025-06-04 11:33:20.368 INFO: HTTP Request: GET http://127.0.0.1:34083/api/v1/array/block/22091bcc-c010-45a7-b8b2-76e0b49eb8de/primary/external/bl_det_image?block=2%2C0%2C0&expected_shape=1%2C300%2C400 \"HTTP/1.1 500 Internal Server Error\"\n",
      "2025-06-04 11:33:20.369 WARNING: Scheduled retry in 1.1 seconds due to HTTPStatusError(\"Server error '500 Internal Server Error' for url 'http://127.0.0.1:34083/api/v1/array/block/22091bcc-c010-45a7-b8b2-76e0b49eb8de/primary/external/bl_det_image?block=2%2C0%2C0&expected_shape=1%2C300%2C400'\\nFor more information, server admin can search server logs for correlation ID a4ea5369bad2540d.\") (attempt 3)\n",
      "2025-06-04 11:33:20.486 INFO: HTTP Request: GET http://127.0.0.1:34083/api/v1/array/block/22091bcc-c010-45a7-b8b2-76e0b49eb8de/primary/external/bl_det_image?block=9%2C0%2C0&expected_shape=1%2C300%2C400 \"HTTP/1.1 500 Internal Server Error\"\n",
      "2025-06-04 11:33:20.488 WARNING: Scheduled retry in 1.4 seconds due to HTTPStatusError(\"Server error '500 Internal Server Error' for url 'http://127.0.0.1:34083/api/v1/array/block/22091bcc-c010-45a7-b8b2-76e0b49eb8de/primary/external/bl_det_image?block=9%2C0%2C0&expected_shape=1%2C300%2C400'\\nFor more information, server admin can search server logs for correlation ID 59f57113eea93a67.\") (attempt 3)\n",
      "2025-06-04 11:33:20.577 INFO: HTTP Request: GET http://127.0.0.1:34083/api/v1/array/block/22091bcc-c010-45a7-b8b2-76e0b49eb8de/primary/external/bl_det_image?block=4%2C0%2C0&expected_shape=1%2C300%2C400 \"HTTP/1.1 500 Internal Server Error\"\n",
      "2025-06-04 11:33:20.579 WARNING: Scheduled retry in 0.43 seconds due to HTTPStatusError(\"Server error '500 Internal Server Error' for url 'http://127.0.0.1:34083/api/v1/array/block/22091bcc-c010-45a7-b8b2-76e0b49eb8de/primary/external/bl_det_image?block=4%2C0%2C0&expected_shape=1%2C300%2C400'\\nFor more information, server admin can search server logs for correlation ID df694039b911a3d1.\") (attempt 3)\n",
      "2025-06-04 11:33:20.595 INFO: HTTP Request: GET http://127.0.0.1:34083/api/v1/array/block/22091bcc-c010-45a7-b8b2-76e0b49eb8de/primary/external/bl_det_image?block=14%2C0%2C0&expected_shape=1%2C300%2C400 \"HTTP/1.1 500 Internal Server Error\"\n",
      "2025-06-04 11:33:20.597 WARNING: Scheduled retry in 1.3 seconds due to HTTPStatusError(\"Server error '500 Internal Server Error' for url 'http://127.0.0.1:34083/api/v1/array/block/22091bcc-c010-45a7-b8b2-76e0b49eb8de/primary/external/bl_det_image?block=14%2C0%2C0&expected_shape=1%2C300%2C400'\\nFor more information, server admin can search server logs for correlation ID 01151c09dedaef21.\") (attempt 3)\n",
      "2025-06-04 11:33:20.645 INFO: HTTP Request: GET http://127.0.0.1:34083/api/v1/array/block/22091bcc-c010-45a7-b8b2-76e0b49eb8de/primary/external/bl_det_image?block=6%2C0%2C0&expected_shape=1%2C300%2C400 \"HTTP/1.1 500 Internal Server Error\"\n",
      "2025-06-04 11:33:20.647 WARNING: Scheduled retry in 1.1 seconds due to HTTPStatusError(\"Server error '500 Internal Server Error' for url 'http://127.0.0.1:34083/api/v1/array/block/22091bcc-c010-45a7-b8b2-76e0b49eb8de/primary/external/bl_det_image?block=6%2C0%2C0&expected_shape=1%2C300%2C400'\\nFor more information, server admin can search server logs for correlation ID 415c625ea814e05e.\") (attempt 3)\n",
      "2025-06-04 11:33:20.683 INFO: HTTP Request: GET http://127.0.0.1:34083/api/v1/array/block/22091bcc-c010-45a7-b8b2-76e0b49eb8de/primary/external/bl_det_image?block=8%2C0%2C0&expected_shape=1%2C300%2C400 \"HTTP/1.1 500 Internal Server Error\"\n",
      "2025-06-04 11:33:20.685 WARNING: Scheduled retry in 1.2 seconds due to HTTPStatusError(\"Server error '500 Internal Server Error' for url 'http://127.0.0.1:34083/api/v1/array/block/22091bcc-c010-45a7-b8b2-76e0b49eb8de/primary/external/bl_det_image?block=8%2C0%2C0&expected_shape=1%2C300%2C400'\\nFor more information, server admin can search server logs for correlation ID a6fe9cc6ee2532b8.\") (attempt 4)\n",
      "2025-06-04 11:33:20.700 INFO: HTTP Request: GET http://127.0.0.1:34083/api/v1/array/block/22091bcc-c010-45a7-b8b2-76e0b49eb8de/primary/external/bl_det_image?block=3%2C0%2C0&expected_shape=1%2C300%2C400 \"HTTP/1.1 500 Internal Server Error\"\n",
      "2025-06-04 11:33:20.701 WARNING: Scheduled retry in 1.0 seconds due to HTTPStatusError(\"Server error '500 Internal Server Error' for url 'http://127.0.0.1:34083/api/v1/array/block/22091bcc-c010-45a7-b8b2-76e0b49eb8de/primary/external/bl_det_image?block=3%2C0%2C0&expected_shape=1%2C300%2C400'\\nFor more information, server admin can search server logs for correlation ID 2b7415884f75e151.\") (attempt 4)\n",
      "2025-06-04 11:33:20.854 INFO: HTTP Request: GET http://127.0.0.1:34083/api/v1/array/block/22091bcc-c010-45a7-b8b2-76e0b49eb8de/primary/external/bl_det_image?block=12%2C0%2C0&expected_shape=1%2C300%2C400 \"HTTP/1.1 500 Internal Server Error\"\n",
      "2025-06-04 11:33:20.855 WARNING: Scheduled retry in 0.82 seconds due to HTTPStatusError(\"Server error '500 Internal Server Error' for url 'http://127.0.0.1:34083/api/v1/array/block/22091bcc-c010-45a7-b8b2-76e0b49eb8de/primary/external/bl_det_image?block=12%2C0%2C0&expected_shape=1%2C300%2C400'\\nFor more information, server admin can search server logs for correlation ID 19dafe1b5b80c86e.\") (attempt 3)\n",
      "2025-06-04 11:33:20.921 INFO: HTTP Request: GET http://127.0.0.1:34083/api/v1/array/block/22091bcc-c010-45a7-b8b2-76e0b49eb8de/primary/external/bl_det_image?block=5%2C0%2C0&expected_shape=1%2C300%2C400 \"HTTP/1.1 500 Internal Server Error\"\n",
      "2025-06-04 11:33:20.923 WARNING: Scheduled retry in 0.45 seconds due to HTTPStatusError(\"Server error '500 Internal Server Error' for url 'http://127.0.0.1:34083/api/v1/array/block/22091bcc-c010-45a7-b8b2-76e0b49eb8de/primary/external/bl_det_image?block=5%2C0%2C0&expected_shape=1%2C300%2C400'\\nFor more information, server admin can search server logs for correlation ID 381eb63be0236c43.\") (attempt 3)\n",
      "2025-06-04 11:33:20.925 INFO: HTTP Request: GET http://127.0.0.1:34083/api/v1/array/block/22091bcc-c010-45a7-b8b2-76e0b49eb8de/primary/external/bl_det_image?block=15%2C0%2C0&expected_shape=1%2C300%2C400 \"HTTP/1.1 500 Internal Server Error\"\n",
      "2025-06-04 11:33:20.926 WARNING: Scheduled retry in 0.59 seconds due to HTTPStatusError(\"Server error '500 Internal Server Error' for url 'http://127.0.0.1:34083/api/v1/array/block/22091bcc-c010-45a7-b8b2-76e0b49eb8de/primary/external/bl_det_image?block=15%2C0%2C0&expected_shape=1%2C300%2C400'\\nFor more information, server admin can search server logs for correlation ID 4df9d616a5ae8464.\") (attempt 3)\n",
      "2025-06-04 11:33:21.025 INFO: HTTP Request: GET http://127.0.0.1:34083/api/v1/array/block/22091bcc-c010-45a7-b8b2-76e0b49eb8de/primary/external/bl_det_image?block=7%2C0%2C0&expected_shape=1%2C300%2C400 \"HTTP/1.1 500 Internal Server Error\"\n",
      "2025-06-04 11:33:21.027 WARNING: Scheduled retry in 1.1 seconds due to HTTPStatusError(\"Server error '500 Internal Server Error' for url 'http://127.0.0.1:34083/api/v1/array/block/22091bcc-c010-45a7-b8b2-76e0b49eb8de/primary/external/bl_det_image?block=7%2C0%2C0&expected_shape=1%2C300%2C400'\\nFor more information, server admin can search server logs for correlation ID ea51108c3a9c8956.\") (attempt 3)\n",
      "2025-06-04 11:33:21.033 INFO: HTTP Request: GET http://127.0.0.1:34083/api/v1/array/block/22091bcc-c010-45a7-b8b2-76e0b49eb8de/primary/external/bl_det_image?block=4%2C0%2C0&expected_shape=1%2C300%2C400 \"HTTP/1.1 500 Internal Server Error\"\n",
      "2025-06-04 11:33:21.034 WARNING: Scheduled retry in 1.5 seconds due to HTTPStatusError(\"Server error '500 Internal Server Error' for url 'http://127.0.0.1:34083/api/v1/array/block/22091bcc-c010-45a7-b8b2-76e0b49eb8de/primary/external/bl_det_image?block=4%2C0%2C0&expected_shape=1%2C300%2C400'\\nFor more information, server admin can search server logs for correlation ID d065473286cddca2.\") (attempt 4)\n",
      "2025-06-04 11:33:21.041 INFO: HTTP Request: GET http://127.0.0.1:34083/api/v1/array/block/22091bcc-c010-45a7-b8b2-76e0b49eb8de/primary/external/bl_det_image?block=13%2C0%2C0&expected_shape=1%2C300%2C400 \"HTTP/1.1 500 Internal Server Error\"\n",
      "2025-06-04 11:33:21.043 WARNING: Scheduled retry in 1.0 seconds due to HTTPStatusError(\"Server error '500 Internal Server Error' for url 'http://127.0.0.1:34083/api/v1/array/block/22091bcc-c010-45a7-b8b2-76e0b49eb8de/primary/external/bl_det_image?block=13%2C0%2C0&expected_shape=1%2C300%2C400'\\nFor more information, server admin can search server logs for correlation ID d755a4609c43e3ad.\") (attempt 3)\n",
      "2025-06-04 11:33:21.130 INFO: HTTP Request: GET http://127.0.0.1:34083/api/v1/array/block/22091bcc-c010-45a7-b8b2-76e0b49eb8de/primary/external/bl_det_image?block=11%2C0%2C0&expected_shape=1%2C300%2C400 \"HTTP/1.1 500 Internal Server Error\"\n",
      "2025-06-04 11:33:21.132 WARNING: Scheduled retry in 1.4 seconds due to HTTPStatusError(\"Server error '500 Internal Server Error' for url 'http://127.0.0.1:34083/api/v1/array/block/22091bcc-c010-45a7-b8b2-76e0b49eb8de/primary/external/bl_det_image?block=11%2C0%2C0&expected_shape=1%2C300%2C400'\\nFor more information, server admin can search server logs for correlation ID 065f18799bc659f3.\") (attempt 3)\n",
      "2025-06-04 11:33:21.159 INFO: HTTP Request: GET http://127.0.0.1:34083/api/v1/array/block/22091bcc-c010-45a7-b8b2-76e0b49eb8de/primary/external/bl_det_image?block=1%2C0%2C0&expected_shape=1%2C300%2C400 \"HTTP/1.1 500 Internal Server Error\"\n",
      "2025-06-04 11:33:21.161 WARNING: Scheduled retry in 1.3 seconds due to HTTPStatusError(\"Server error '500 Internal Server Error' for url 'http://127.0.0.1:34083/api/v1/array/block/22091bcc-c010-45a7-b8b2-76e0b49eb8de/primary/external/bl_det_image?block=1%2C0%2C0&expected_shape=1%2C300%2C400'\\nFor more information, server admin can search server logs for correlation ID ea23bccc57eefbac.\") (attempt 3)\n",
      "2025-06-04 11:33:21.240 INFO: HTTP Request: GET http://127.0.0.1:34083/api/v1/array/block/22091bcc-c010-45a7-b8b2-76e0b49eb8de/primary/external/bl_det_image?block=0%2C0%2C0&expected_shape=1%2C300%2C400 \"HTTP/1.1 500 Internal Server Error\"\n",
      "2025-06-04 11:33:21.241 WARNING: Scheduled retry in 0.41 seconds due to HTTPStatusError(\"Server error '500 Internal Server Error' for url 'http://127.0.0.1:34083/api/v1/array/block/22091bcc-c010-45a7-b8b2-76e0b49eb8de/primary/external/bl_det_image?block=0%2C0%2C0&expected_shape=1%2C300%2C400'\\nFor more information, server admin can search server logs for correlation ID 5c8632b113504ef9.\") (attempt 3)\n",
      "2025-06-04 11:33:21.389 INFO: HTTP Request: GET http://127.0.0.1:34083/api/v1/array/block/22091bcc-c010-45a7-b8b2-76e0b49eb8de/primary/external/bl_det_image?block=5%2C0%2C0&expected_shape=1%2C300%2C400 \"HTTP/1.1 500 Internal Server Error\"\n",
      "2025-06-04 11:33:21.391 WARNING: Scheduled retry in 1.5 seconds due to HTTPStatusError(\"Server error '500 Internal Server Error' for url 'http://127.0.0.1:34083/api/v1/array/block/22091bcc-c010-45a7-b8b2-76e0b49eb8de/primary/external/bl_det_image?block=5%2C0%2C0&expected_shape=1%2C300%2C400'\\nFor more information, server admin can search server logs for correlation ID 90bf3297c8077a5e.\") (attempt 4)\n",
      "2025-06-04 11:33:21.418 INFO: HTTP Request: GET http://127.0.0.1:34083/api/v1/array/block/22091bcc-c010-45a7-b8b2-76e0b49eb8de/primary/external/bl_det_image?block=10%2C0%2C0&expected_shape=1%2C300%2C400 \"HTTP/1.1 500 Internal Server Error\"\n",
      "2025-06-04 11:33:21.419 WARNING: Scheduled retry in 1.3 seconds due to HTTPStatusError(\"Server error '500 Internal Server Error' for url 'http://127.0.0.1:34083/api/v1/array/block/22091bcc-c010-45a7-b8b2-76e0b49eb8de/primary/external/bl_det_image?block=10%2C0%2C0&expected_shape=1%2C300%2C400'\\nFor more information, server admin can search server logs for correlation ID 4466d34af7913d06.\") (attempt 4)\n",
      "2025-06-04 11:33:21.507 INFO: HTTP Request: GET http://127.0.0.1:34083/api/v1/array/block/22091bcc-c010-45a7-b8b2-76e0b49eb8de/primary/external/bl_det_image?block=2%2C0%2C0&expected_shape=1%2C300%2C400 \"HTTP/1.1 500 Internal Server Error\"\n",
      "2025-06-04 11:33:21.509 WARNING: Scheduled retry in 1.0 seconds due to HTTPStatusError(\"Server error '500 Internal Server Error' for url 'http://127.0.0.1:34083/api/v1/array/block/22091bcc-c010-45a7-b8b2-76e0b49eb8de/primary/external/bl_det_image?block=2%2C0%2C0&expected_shape=1%2C300%2C400'\\nFor more information, server admin can search server logs for correlation ID aace38add35e63a8.\") (attempt 4)\n",
      "2025-06-04 11:33:21.522 INFO: HTTP Request: GET http://127.0.0.1:34083/api/v1/array/block/22091bcc-c010-45a7-b8b2-76e0b49eb8de/primary/external/bl_det_image?block=15%2C0%2C0&expected_shape=1%2C300%2C400 \"HTTP/1.1 500 Internal Server Error\"\n",
      "2025-06-04 11:33:21.523 WARNING: Scheduled retry in 1.6 seconds due to HTTPStatusError(\"Server error '500 Internal Server Error' for url 'http://127.0.0.1:34083/api/v1/array/block/22091bcc-c010-45a7-b8b2-76e0b49eb8de/primary/external/bl_det_image?block=15%2C0%2C0&expected_shape=1%2C300%2C400'\\nFor more information, server admin can search server logs for correlation ID a2e8369547d8bad5.\") (attempt 4)\n",
      "2025-06-04 11:33:21.665 INFO: HTTP Request: GET http://127.0.0.1:34083/api/v1/array/block/22091bcc-c010-45a7-b8b2-76e0b49eb8de/primary/external/bl_det_image?block=0%2C0%2C0&expected_shape=1%2C300%2C400 \"HTTP/1.1 500 Internal Server Error\"\n",
      "2025-06-04 11:33:21.667 WARNING: Scheduled retry in 1.3 seconds due to HTTPStatusError(\"Server error '500 Internal Server Error' for url 'http://127.0.0.1:34083/api/v1/array/block/22091bcc-c010-45a7-b8b2-76e0b49eb8de/primary/external/bl_det_image?block=0%2C0%2C0&expected_shape=1%2C300%2C400'\\nFor more information, server admin can search server logs for correlation ID e2a842817727479b.\") (attempt 4)\n",
      "2025-06-04 11:33:21.688 INFO: HTTP Request: GET http://127.0.0.1:34083/api/v1/array/block/22091bcc-c010-45a7-b8b2-76e0b49eb8de/primary/external/bl_det_image?block=12%2C0%2C0&expected_shape=1%2C300%2C400 \"HTTP/1.1 500 Internal Server Error\"\n",
      "2025-06-04 11:33:21.689 WARNING: Scheduled retry in 1.5 seconds due to HTTPStatusError(\"Server error '500 Internal Server Error' for url 'http://127.0.0.1:34083/api/v1/array/block/22091bcc-c010-45a7-b8b2-76e0b49eb8de/primary/external/bl_det_image?block=12%2C0%2C0&expected_shape=1%2C300%2C400'\\nFor more information, server admin can search server logs for correlation ID af167be47aeec3d5.\") (attempt 4)\n",
      "2025-06-04 11:33:21.747 INFO: HTTP Request: GET http://127.0.0.1:34083/api/v1/array/block/22091bcc-c010-45a7-b8b2-76e0b49eb8de/primary/external/bl_det_image?block=6%2C0%2C0&expected_shape=1%2C300%2C400 \"HTTP/1.1 500 Internal Server Error\"\n",
      "2025-06-04 11:33:21.748 WARNING: Scheduled retry in 1.0 seconds due to HTTPStatusError(\"Server error '500 Internal Server Error' for url 'http://127.0.0.1:34083/api/v1/array/block/22091bcc-c010-45a7-b8b2-76e0b49eb8de/primary/external/bl_det_image?block=6%2C0%2C0&expected_shape=1%2C300%2C400'\\nFor more information, server admin can search server logs for correlation ID e7694f58feb09b0a.\") (attempt 4)\n",
      "2025-06-04 11:33:21.763 INFO: HTTP Request: GET http://127.0.0.1:34083/api/v1/array/block/22091bcc-c010-45a7-b8b2-76e0b49eb8de/primary/external/bl_det_image?block=3%2C0%2C0&expected_shape=1%2C300%2C400 \"HTTP/1.1 500 Internal Server Error\"\n",
      "2025-06-04 11:33:21.764 WARNING: Scheduled retry in 1.7 seconds due to HTTPStatusError(\"Server error '500 Internal Server Error' for url 'http://127.0.0.1:34083/api/v1/array/block/22091bcc-c010-45a7-b8b2-76e0b49eb8de/primary/external/bl_det_image?block=3%2C0%2C0&expected_shape=1%2C300%2C400'\\nFor more information, server admin can search server logs for correlation ID 423f24c934bb5c71.\") (attempt 5)\n",
      "2025-06-04 11:33:21.851 INFO: HTTP Request: GET http://127.0.0.1:34083/api/v1/array/block/22091bcc-c010-45a7-b8b2-76e0b49eb8de/primary/external/bl_det_image?block=9%2C0%2C0&expected_shape=1%2C300%2C400 \"HTTP/1.1 500 Internal Server Error\"\n",
      "2025-06-04 11:33:21.852 WARNING: Scheduled retry in 1.3 seconds due to HTTPStatusError(\"Server error '500 Internal Server Error' for url 'http://127.0.0.1:34083/api/v1/array/block/22091bcc-c010-45a7-b8b2-76e0b49eb8de/primary/external/bl_det_image?block=9%2C0%2C0&expected_shape=1%2C300%2C400'\\nFor more information, server admin can search server logs for correlation ID 0452af3c85d91eb7.\") (attempt 4)\n",
      "2025-06-04 11:33:21.875 INFO: HTTP Request: GET http://127.0.0.1:34083/api/v1/array/block/22091bcc-c010-45a7-b8b2-76e0b49eb8de/primary/external/bl_det_image?block=14%2C0%2C0&expected_shape=1%2C300%2C400 \"HTTP/1.1 500 Internal Server Error\"\n",
      "2025-06-04 11:33:21.877 WARNING: Scheduled retry in 0.87 seconds due to HTTPStatusError(\"Server error '500 Internal Server Error' for url 'http://127.0.0.1:34083/api/v1/array/block/22091bcc-c010-45a7-b8b2-76e0b49eb8de/primary/external/bl_det_image?block=14%2C0%2C0&expected_shape=1%2C300%2C400'\\nFor more information, server admin can search server logs for correlation ID 4211290b6a66c90a.\") (attempt 4)\n",
      "2025-06-04 11:33:21.945 INFO: HTTP Request: GET http://127.0.0.1:34083/api/v1/array/block/22091bcc-c010-45a7-b8b2-76e0b49eb8de/primary/external/bl_det_image?block=8%2C0%2C0&expected_shape=1%2C300%2C400 \"HTTP/1.1 500 Internal Server Error\"\n",
      "2025-06-04 11:33:21.946 WARNING: Scheduled retry in 1.7 seconds due to HTTPStatusError(\"Server error '500 Internal Server Error' for url 'http://127.0.0.1:34083/api/v1/array/block/22091bcc-c010-45a7-b8b2-76e0b49eb8de/primary/external/bl_det_image?block=8%2C0%2C0&expected_shape=1%2C300%2C400'\\nFor more information, server admin can search server logs for correlation ID 72173cfd3ac469de.\") (attempt 5)\n",
      "2025-06-04 11:33:22.049 INFO: HTTP Request: GET http://127.0.0.1:34083/api/v1/array/block/22091bcc-c010-45a7-b8b2-76e0b49eb8de/primary/external/bl_det_image?block=13%2C0%2C0&expected_shape=1%2C300%2C400 \"HTTP/1.1 500 Internal Server Error\"\n",
      "2025-06-04 11:33:22.050 WARNING: Scheduled retry in 0.83 seconds due to HTTPStatusError(\"Server error '500 Internal Server Error' for url 'http://127.0.0.1:34083/api/v1/array/block/22091bcc-c010-45a7-b8b2-76e0b49eb8de/primary/external/bl_det_image?block=13%2C0%2C0&expected_shape=1%2C300%2C400'\\nFor more information, server admin can search server logs for correlation ID 59c332d57e502628.\") (attempt 4)\n",
      "2025-06-04 11:33:22.126 INFO: HTTP Request: GET http://127.0.0.1:34083/api/v1/array/block/22091bcc-c010-45a7-b8b2-76e0b49eb8de/primary/external/bl_det_image?block=7%2C0%2C0&expected_shape=1%2C300%2C400 \"HTTP/1.1 500 Internal Server Error\"\n",
      "2025-06-04 11:33:22.127 WARNING: Scheduled retry in 1.6 seconds due to HTTPStatusError(\"Server error '500 Internal Server Error' for url 'http://127.0.0.1:34083/api/v1/array/block/22091bcc-c010-45a7-b8b2-76e0b49eb8de/primary/external/bl_det_image?block=7%2C0%2C0&expected_shape=1%2C300%2C400'\\nFor more information, server admin can search server logs for correlation ID 2c2435c47d82cd99.\") (attempt 4)\n",
      "2025-06-04 11:33:22.505 INFO: HTTP Request: GET http://127.0.0.1:34083/api/v1/array/block/22091bcc-c010-45a7-b8b2-76e0b49eb8de/primary/external/bl_det_image?block=1%2C0%2C0&expected_shape=1%2C300%2C400 \"HTTP/1.1 500 Internal Server Error\"\n",
      "2025-06-04 11:33:22.506 WARNING: Scheduled retry in 1.2 seconds due to HTTPStatusError(\"Server error '500 Internal Server Error' for url 'http://127.0.0.1:34083/api/v1/array/block/22091bcc-c010-45a7-b8b2-76e0b49eb8de/primary/external/bl_det_image?block=1%2C0%2C0&expected_shape=1%2C300%2C400'\\nFor more information, server admin can search server logs for correlation ID 5873847e289073fe.\") (attempt 4)\n",
      "2025-06-04 11:33:22.522 INFO: HTTP Request: GET http://127.0.0.1:34083/api/v1/array/block/22091bcc-c010-45a7-b8b2-76e0b49eb8de/primary/external/bl_det_image?block=11%2C0%2C0&expected_shape=1%2C300%2C400 \"HTTP/1.1 500 Internal Server Error\"\n",
      "2025-06-04 11:33:22.523 WARNING: Scheduled retry in 0.94 seconds due to HTTPStatusError(\"Server error '500 Internal Server Error' for url 'http://127.0.0.1:34083/api/v1/array/block/22091bcc-c010-45a7-b8b2-76e0b49eb8de/primary/external/bl_det_image?block=11%2C0%2C0&expected_shape=1%2C300%2C400'\\nFor more information, server admin can search server logs for correlation ID f58539984c71c77f.\") (attempt 4)\n",
      "2025-06-04 11:33:22.554 INFO: HTTP Request: GET http://127.0.0.1:34083/api/v1/array/block/22091bcc-c010-45a7-b8b2-76e0b49eb8de/primary/external/bl_det_image?block=2%2C0%2C0&expected_shape=1%2C300%2C400 \"HTTP/1.1 500 Internal Server Error\"\n",
      "2025-06-04 11:33:22.555 WARNING: Scheduled retry in 2.1 seconds due to HTTPStatusError(\"Server error '500 Internal Server Error' for url 'http://127.0.0.1:34083/api/v1/array/block/22091bcc-c010-45a7-b8b2-76e0b49eb8de/primary/external/bl_det_image?block=2%2C0%2C0&expected_shape=1%2C300%2C400'\\nFor more information, server admin can search server logs for correlation ID 4974510bb02637a2.\") (attempt 5)\n",
      "2025-06-04 11:33:22.590 INFO: HTTP Request: GET http://127.0.0.1:34083/api/v1/array/block/22091bcc-c010-45a7-b8b2-76e0b49eb8de/primary/external/bl_det_image?block=4%2C0%2C0&expected_shape=1%2C300%2C400 \"HTTP/1.1 500 Internal Server Error\"\n",
      "2025-06-04 11:33:22.592 WARNING: Scheduled retry in 2.1 seconds due to HTTPStatusError(\"Server error '500 Internal Server Error' for url 'http://127.0.0.1:34083/api/v1/array/block/22091bcc-c010-45a7-b8b2-76e0b49eb8de/primary/external/bl_det_image?block=4%2C0%2C0&expected_shape=1%2C300%2C400'\\nFor more information, server admin can search server logs for correlation ID fc89135e36e299ae.\") (attempt 5)\n",
      "2025-06-04 11:33:22.743 INFO: HTTP Request: GET http://127.0.0.1:34083/api/v1/array/block/22091bcc-c010-45a7-b8b2-76e0b49eb8de/primary/external/bl_det_image?block=10%2C0%2C0&expected_shape=1%2C300%2C400 \"HTTP/1.1 500 Internal Server Error\"\n",
      "2025-06-04 11:33:22.743 WARNING: Scheduled retry in 2.2 seconds due to HTTPStatusError(\"Server error '500 Internal Server Error' for url 'http://127.0.0.1:34083/api/v1/array/block/22091bcc-c010-45a7-b8b2-76e0b49eb8de/primary/external/bl_det_image?block=10%2C0%2C0&expected_shape=1%2C300%2C400'\\nFor more information, server admin can search server logs for correlation ID 22703940991046cc.\") (attempt 5)\n",
      "2025-06-04 11:33:22.762 INFO: HTTP Request: GET http://127.0.0.1:34083/api/v1/array/block/22091bcc-c010-45a7-b8b2-76e0b49eb8de/primary/external/bl_det_image?block=14%2C0%2C0&expected_shape=1%2C300%2C400 \"HTTP/1.1 500 Internal Server Error\"\n",
      "2025-06-04 11:33:22.763 WARNING: Scheduled retry in 1.7 seconds due to HTTPStatusError(\"Server error '500 Internal Server Error' for url 'http://127.0.0.1:34083/api/v1/array/block/22091bcc-c010-45a7-b8b2-76e0b49eb8de/primary/external/bl_det_image?block=14%2C0%2C0&expected_shape=1%2C300%2C400'\\nFor more information, server admin can search server logs for correlation ID 7d40c15bad6710fe.\") (attempt 5)\n",
      "2025-06-04 11:33:22.766 INFO: HTTP Request: GET http://127.0.0.1:34083/api/v1/array/block/22091bcc-c010-45a7-b8b2-76e0b49eb8de/primary/external/bl_det_image?block=6%2C0%2C0&expected_shape=1%2C300%2C400 \"HTTP/1.1 500 Internal Server Error\"\n",
      "2025-06-04 11:33:22.767 WARNING: Scheduled retry in 1.7 seconds due to HTTPStatusError(\"Server error '500 Internal Server Error' for url 'http://127.0.0.1:34083/api/v1/array/block/22091bcc-c010-45a7-b8b2-76e0b49eb8de/primary/external/bl_det_image?block=6%2C0%2C0&expected_shape=1%2C300%2C400'\\nFor more information, server admin can search server logs for correlation ID e2704edca906174e.\") (attempt 5)\n",
      "2025-06-04 11:33:22.893 INFO: HTTP Request: GET http://127.0.0.1:34083/api/v1/array/block/22091bcc-c010-45a7-b8b2-76e0b49eb8de/primary/external/bl_det_image?block=5%2C0%2C0&expected_shape=1%2C300%2C400 \"HTTP/1.1 500 Internal Server Error\"\n",
      "2025-06-04 11:33:22.894 WARNING: Scheduled retry in 2.1 seconds due to HTTPStatusError(\"Server error '500 Internal Server Error' for url 'http://127.0.0.1:34083/api/v1/array/block/22091bcc-c010-45a7-b8b2-76e0b49eb8de/primary/external/bl_det_image?block=5%2C0%2C0&expected_shape=1%2C300%2C400'\\nFor more information, server admin can search server logs for correlation ID 2a1ef2e5d13f84a5.\") (attempt 5)\n",
      "2025-06-04 11:33:22.898 INFO: HTTP Request: GET http://127.0.0.1:34083/api/v1/array/block/22091bcc-c010-45a7-b8b2-76e0b49eb8de/primary/external/bl_det_image?block=13%2C0%2C0&expected_shape=1%2C300%2C400 \"HTTP/1.1 500 Internal Server Error\"\n",
      "2025-06-04 11:33:22.900 WARNING: Scheduled retry in 2.5 seconds due to HTTPStatusError(\"Server error '500 Internal Server Error' for url 'http://127.0.0.1:34083/api/v1/array/block/22091bcc-c010-45a7-b8b2-76e0b49eb8de/primary/external/bl_det_image?block=13%2C0%2C0&expected_shape=1%2C300%2C400'\\nFor more information, server admin can search server logs for correlation ID 23914bb8c4f4660c.\") (attempt 5)\n",
      "2025-06-04 11:33:22.967 INFO: HTTP Request: GET http://127.0.0.1:34083/api/v1/array/block/22091bcc-c010-45a7-b8b2-76e0b49eb8de/primary/external/bl_det_image?block=0%2C0%2C0&expected_shape=1%2C300%2C400 \"HTTP/1.1 500 Internal Server Error\"\n",
      "2025-06-04 11:33:22.969 WARNING: Scheduled retry in 1.8 seconds due to HTTPStatusError(\"Server error '500 Internal Server Error' for url 'http://127.0.0.1:34083/api/v1/array/block/22091bcc-c010-45a7-b8b2-76e0b49eb8de/primary/external/bl_det_image?block=0%2C0%2C0&expected_shape=1%2C300%2C400'\\nFor more information, server admin can search server logs for correlation ID 1a1163d61ca8771d.\") (attempt 5)\n",
      "2025-06-04 11:33:23.182 INFO: HTTP Request: GET http://127.0.0.1:34083/api/v1/array/block/22091bcc-c010-45a7-b8b2-76e0b49eb8de/primary/external/bl_det_image?block=15%2C0%2C0&expected_shape=1%2C300%2C400 \"HTTP/1.1 500 Internal Server Error\"\n",
      "2025-06-04 11:33:23.183 WARNING: Scheduled retry in 1.7 seconds due to HTTPStatusError(\"Server error '500 Internal Server Error' for url 'http://127.0.0.1:34083/api/v1/array/block/22091bcc-c010-45a7-b8b2-76e0b49eb8de/primary/external/bl_det_image?block=15%2C0%2C0&expected_shape=1%2C300%2C400'\\nFor more information, server admin can search server logs for correlation ID 35d5031c3ec01977.\") (attempt 5)\n",
      "2025-06-04 11:33:23.206 INFO: HTTP Request: GET http://127.0.0.1:34083/api/v1/array/block/22091bcc-c010-45a7-b8b2-76e0b49eb8de/primary/external/bl_det_image?block=9%2C0%2C0&expected_shape=1%2C300%2C400 \"HTTP/1.1 500 Internal Server Error\"\n",
      "2025-06-04 11:33:23.207 WARNING: Scheduled retry in 2.5 seconds due to HTTPStatusError(\"Server error '500 Internal Server Error' for url 'http://127.0.0.1:34083/api/v1/array/block/22091bcc-c010-45a7-b8b2-76e0b49eb8de/primary/external/bl_det_image?block=9%2C0%2C0&expected_shape=1%2C300%2C400'\\nFor more information, server admin can search server logs for correlation ID 175694cf80cacfe3.\") (attempt 5)\n",
      "2025-06-04 11:33:23.243 INFO: HTTP Request: GET http://127.0.0.1:34083/api/v1/array/block/22091bcc-c010-45a7-b8b2-76e0b49eb8de/primary/external/bl_det_image?block=12%2C0%2C0&expected_shape=1%2C300%2C400 \"HTTP/1.1 500 Internal Server Error\"\n",
      "2025-06-04 11:33:23.244 WARNING: Scheduled retry in 2.4 seconds due to HTTPStatusError(\"Server error '500 Internal Server Error' for url 'http://127.0.0.1:34083/api/v1/array/block/22091bcc-c010-45a7-b8b2-76e0b49eb8de/primary/external/bl_det_image?block=12%2C0%2C0&expected_shape=1%2C300%2C400'\\nFor more information, server admin can search server logs for correlation ID 45805b1e0485a5c2.\") (attempt 5)\n",
      "2025-06-04 11:33:23.434 INFO: HTTP Request: GET http://127.0.0.1:34083/api/v1/array/block/22091bcc-c010-45a7-b8b2-76e0b49eb8de/primary/external/bl_det_image?block=3%2C0%2C0&expected_shape=1%2C300%2C400 \"HTTP/1.1 500 Internal Server Error\"\n",
      "2025-06-04 11:33:23.434 WARNING: Scheduled retry in 3.6 seconds due to HTTPStatusError(\"Server error '500 Internal Server Error' for url 'http://127.0.0.1:34083/api/v1/array/block/22091bcc-c010-45a7-b8b2-76e0b49eb8de/primary/external/bl_det_image?block=3%2C0%2C0&expected_shape=1%2C300%2C400'\\nFor more information, server admin can search server logs for correlation ID f817dc4c8b4ce30c.\") (attempt 6)\n",
      "2025-06-04 11:33:23.481 INFO: HTTP Request: GET http://127.0.0.1:34083/api/v1/array/block/22091bcc-c010-45a7-b8b2-76e0b49eb8de/primary/external/bl_det_image?block=11%2C0%2C0&expected_shape=1%2C300%2C400 \"HTTP/1.1 500 Internal Server Error\"\n",
      "2025-06-04 11:33:23.482 WARNING: Scheduled retry in 2.1 seconds due to HTTPStatusError(\"Server error '500 Internal Server Error' for url 'http://127.0.0.1:34083/api/v1/array/block/22091bcc-c010-45a7-b8b2-76e0b49eb8de/primary/external/bl_det_image?block=11%2C0%2C0&expected_shape=1%2C300%2C400'\\nFor more information, server admin can search server logs for correlation ID 0dc714e8d02d7d27.\") (attempt 5)\n",
      "2025-06-04 11:33:23.611 INFO: HTTP Request: GET http://127.0.0.1:34083/api/v1/array/block/22091bcc-c010-45a7-b8b2-76e0b49eb8de/primary/external/bl_det_image?block=8%2C0%2C0&expected_shape=1%2C300%2C400 \"HTTP/1.1 500 Internal Server Error\"\n",
      "2025-06-04 11:33:23.612 WARNING: Scheduled retry in 3.4 seconds due to HTTPStatusError(\"Server error '500 Internal Server Error' for url 'http://127.0.0.1:34083/api/v1/array/block/22091bcc-c010-45a7-b8b2-76e0b49eb8de/primary/external/bl_det_image?block=8%2C0%2C0&expected_shape=1%2C300%2C400'\\nFor more information, server admin can search server logs for correlation ID 6826d433350b35b3.\") (attempt 6)\n",
      "2025-06-04 11:33:23.692 INFO: HTTP Request: GET http://127.0.0.1:34083/api/v1/array/block/22091bcc-c010-45a7-b8b2-76e0b49eb8de/primary/external/bl_det_image?block=1%2C0%2C0&expected_shape=1%2C300%2C400 \"HTTP/1.1 500 Internal Server Error\"\n",
      "2025-06-04 11:33:23.694 WARNING: Scheduled retry in 1.9 seconds due to HTTPStatusError(\"Server error '500 Internal Server Error' for url 'http://127.0.0.1:34083/api/v1/array/block/22091bcc-c010-45a7-b8b2-76e0b49eb8de/primary/external/bl_det_image?block=1%2C0%2C0&expected_shape=1%2C300%2C400'\\nFor more information, server admin can search server logs for correlation ID b6ee5607595bc539.\") (attempt 5)\n",
      "2025-06-04 11:33:23.777 INFO: HTTP Request: GET http://127.0.0.1:34083/api/v1/array/block/22091bcc-c010-45a7-b8b2-76e0b49eb8de/primary/external/bl_det_image?block=7%2C0%2C0&expected_shape=1%2C300%2C400 \"HTTP/1.1 500 Internal Server Error\"\n",
      "2025-06-04 11:33:23.778 WARNING: Scheduled retry in 2.4 seconds due to HTTPStatusError(\"Server error '500 Internal Server Error' for url 'http://127.0.0.1:34083/api/v1/array/block/22091bcc-c010-45a7-b8b2-76e0b49eb8de/primary/external/bl_det_image?block=7%2C0%2C0&expected_shape=1%2C300%2C400'\\nFor more information, server admin can search server logs for correlation ID 299a25dadfaa5891.\") (attempt 5)\n",
      "2025-06-04 11:33:24.524 INFO: HTTP Request: GET http://127.0.0.1:34083/api/v1/array/block/22091bcc-c010-45a7-b8b2-76e0b49eb8de/primary/external/bl_det_image?block=14%2C0%2C0&expected_shape=1%2C300%2C400 \"HTTP/1.1 500 Internal Server Error\"\n",
      "2025-06-04 11:33:24.524 WARNING: Scheduled retry in 3.5 seconds due to HTTPStatusError(\"Server error '500 Internal Server Error' for url 'http://127.0.0.1:34083/api/v1/array/block/22091bcc-c010-45a7-b8b2-76e0b49eb8de/primary/external/bl_det_image?block=14%2C0%2C0&expected_shape=1%2C300%2C400'\\nFor more information, server admin can search server logs for correlation ID 2b2d3441feb9c550.\") (attempt 6)\n",
      "2025-06-04 11:33:24.529 INFO: HTTP Request: GET http://127.0.0.1:34083/api/v1/array/block/22091bcc-c010-45a7-b8b2-76e0b49eb8de/primary/external/bl_det_image?block=6%2C0%2C0&expected_shape=1%2C300%2C400 \"HTTP/1.1 500 Internal Server Error\"\n",
      "2025-06-04 11:33:24.531 WARNING: Scheduled retry in 3.3 seconds due to HTTPStatusError(\"Server error '500 Internal Server Error' for url 'http://127.0.0.1:34083/api/v1/array/block/22091bcc-c010-45a7-b8b2-76e0b49eb8de/primary/external/bl_det_image?block=6%2C0%2C0&expected_shape=1%2C300%2C400'\\nFor more information, server admin can search server logs for correlation ID 064df53d891114e2.\") (attempt 6)\n",
      "2025-06-04 11:33:24.642 INFO: HTTP Request: GET http://127.0.0.1:34083/api/v1/array/block/22091bcc-c010-45a7-b8b2-76e0b49eb8de/primary/external/bl_det_image?block=2%2C0%2C0&expected_shape=1%2C300%2C400 \"HTTP/1.1 500 Internal Server Error\"\n",
      "2025-06-04 11:33:24.644 WARNING: Scheduled retry in 3.4 seconds due to HTTPStatusError(\"Server error '500 Internal Server Error' for url 'http://127.0.0.1:34083/api/v1/array/block/22091bcc-c010-45a7-b8b2-76e0b49eb8de/primary/external/bl_det_image?block=2%2C0%2C0&expected_shape=1%2C300%2C400'\\nFor more information, server admin can search server logs for correlation ID 9afc831285bd896e.\") (attempt 6)\n",
      "2025-06-04 11:33:24.646 WARNING: Scheduled retry in 4.1 seconds due to ReadError('[Errno 104] Connection reset by peer') (attempt 6)\n",
      "2025-06-04 11:33:24.770 INFO: HTTP Request: GET http://127.0.0.1:34083/api/v1/array/block/22091bcc-c010-45a7-b8b2-76e0b49eb8de/primary/external/bl_det_image?block=0%2C0%2C0&expected_shape=1%2C300%2C400 \"HTTP/1.1 500 Internal Server Error\"\n",
      "2025-06-04 11:33:24.774 WARNING: Scheduled retry in 3.7 seconds due to HTTPStatusError(\"Server error '500 Internal Server Error' for url 'http://127.0.0.1:34083/api/v1/array/block/22091bcc-c010-45a7-b8b2-76e0b49eb8de/primary/external/bl_det_image?block=0%2C0%2C0&expected_shape=1%2C300%2C400'\\nFor more information, server admin can search server logs for correlation ID 20a1ca77f75db01b.\") (attempt 6)\n",
      "2025-06-04 11:33:24.867 INFO: HTTP Request: GET http://127.0.0.1:34083/api/v1/array/block/22091bcc-c010-45a7-b8b2-76e0b49eb8de/primary/external/bl_det_image?block=15%2C0%2C0&expected_shape=1%2C300%2C400 \"HTTP/1.1 500 Internal Server Error\"\n",
      "2025-06-04 11:33:24.869 WARNING: Scheduled retry in 4.0 seconds due to HTTPStatusError(\"Server error '500 Internal Server Error' for url 'http://127.0.0.1:34083/api/v1/array/block/22091bcc-c010-45a7-b8b2-76e0b49eb8de/primary/external/bl_det_image?block=15%2C0%2C0&expected_shape=1%2C300%2C400'\\nFor more information, server admin can search server logs for correlation ID 318043e8ec702dfd.\") (attempt 6)\n",
      "2025-06-04 11:33:24.922 INFO: HTTP Request: GET http://127.0.0.1:34083/api/v1/array/block/22091bcc-c010-45a7-b8b2-76e0b49eb8de/primary/external/bl_det_image?block=10%2C0%2C0&expected_shape=1%2C300%2C400 \"HTTP/1.1 500 Internal Server Error\"\n",
      "2025-06-04 11:33:24.924 WARNING: Scheduled retry in 3.6 seconds due to HTTPStatusError(\"Server error '500 Internal Server Error' for url 'http://127.0.0.1:34083/api/v1/array/block/22091bcc-c010-45a7-b8b2-76e0b49eb8de/primary/external/bl_det_image?block=10%2C0%2C0&expected_shape=1%2C300%2C400'\\nFor more information, server admin can search server logs for correlation ID 7c407f269f685c3d.\") (attempt 6)\n",
      "2025-06-04 11:33:24.963 INFO: HTTP Request: GET http://127.0.0.1:34083/api/v1/array/block/22091bcc-c010-45a7-b8b2-76e0b49eb8de/primary/external/bl_det_image?block=5%2C0%2C0&expected_shape=1%2C300%2C400 \"HTTP/1.1 500 Internal Server Error\"\n",
      "2025-06-04 11:33:24.966 WARNING: Scheduled retry in 3.8 seconds due to HTTPStatusError(\"Server error '500 Internal Server Error' for url 'http://127.0.0.1:34083/api/v1/array/block/22091bcc-c010-45a7-b8b2-76e0b49eb8de/primary/external/bl_det_image?block=5%2C0%2C0&expected_shape=1%2C300%2C400'\\nFor more information, server admin can search server logs for correlation ID 5d1ca2db7d07ba86.\") (attempt 6)\n",
      "2025-06-04 11:33:25.443 INFO: HTTP Request: GET http://127.0.0.1:34083/api/v1/array/block/22091bcc-c010-45a7-b8b2-76e0b49eb8de/primary/external/bl_det_image?block=13%2C0%2C0&expected_shape=1%2C300%2C400 \"HTTP/1.1 500 Internal Server Error\"\n",
      "2025-06-04 11:33:25.445 WARNING: Scheduled retry in 4.1 seconds due to HTTPStatusError(\"Server error '500 Internal Server Error' for url 'http://127.0.0.1:34083/api/v1/array/block/22091bcc-c010-45a7-b8b2-76e0b49eb8de/primary/external/bl_det_image?block=13%2C0%2C0&expected_shape=1%2C300%2C400'\\nFor more information, server admin can search server logs for correlation ID eae7511c57531283.\") (attempt 6)\n",
      "2025-06-04 11:33:25.552 INFO: HTTP Request: GET http://127.0.0.1:34083/api/v1/array/block/22091bcc-c010-45a7-b8b2-76e0b49eb8de/primary/external/bl_det_image?block=11%2C0%2C0&expected_shape=1%2C300%2C400 \"HTTP/1.1 500 Internal Server Error\"\n",
      "2025-06-04 11:33:25.554 WARNING: Scheduled retry in 3.6 seconds due to HTTPStatusError(\"Server error '500 Internal Server Error' for url 'http://127.0.0.1:34083/api/v1/array/block/22091bcc-c010-45a7-b8b2-76e0b49eb8de/primary/external/bl_det_image?block=11%2C0%2C0&expected_shape=1%2C300%2C400'\\nFor more information, server admin can search server logs for correlation ID 97b085235b6130fb.\") (attempt 6)\n",
      "2025-06-04 11:33:25.567 INFO: HTTP Request: GET http://127.0.0.1:34083/api/v1/array/block/22091bcc-c010-45a7-b8b2-76e0b49eb8de/primary/external/bl_det_image?block=1%2C0%2C0&expected_shape=1%2C300%2C400 \"HTTP/1.1 500 Internal Server Error\"\n",
      "2025-06-04 11:33:25.568 WARNING: Scheduled retry in 4.0 seconds due to HTTPStatusError(\"Server error '500 Internal Server Error' for url 'http://127.0.0.1:34083/api/v1/array/block/22091bcc-c010-45a7-b8b2-76e0b49eb8de/primary/external/bl_det_image?block=1%2C0%2C0&expected_shape=1%2C300%2C400'\\nFor more information, server admin can search server logs for correlation ID 72cf476d44bb2f32.\") (attempt 6)\n",
      "2025-06-04 11:33:25.686 INFO: HTTP Request: GET http://127.0.0.1:34083/api/v1/array/block/22091bcc-c010-45a7-b8b2-76e0b49eb8de/primary/external/bl_det_image?block=9%2C0%2C0&expected_shape=1%2C300%2C400 \"HTTP/1.1 500 Internal Server Error\"\n",
      "2025-06-04 11:33:25.687 WARNING: Scheduled retry in 3.6 seconds due to HTTPStatusError(\"Server error '500 Internal Server Error' for url 'http://127.0.0.1:34083/api/v1/array/block/22091bcc-c010-45a7-b8b2-76e0b49eb8de/primary/external/bl_det_image?block=9%2C0%2C0&expected_shape=1%2C300%2C400'\\nFor more information, server admin can search server logs for correlation ID bcad3a392d02dc08.\") (attempt 6)\n",
      "2025-06-04 11:33:25.690 INFO: HTTP Request: GET http://127.0.0.1:34083/api/v1/array/block/22091bcc-c010-45a7-b8b2-76e0b49eb8de/primary/external/bl_det_image?block=12%2C0%2C0&expected_shape=1%2C300%2C400 \"HTTP/1.1 500 Internal Server Error\"\n",
      "2025-06-04 11:33:25.692 WARNING: Scheduled retry in 3.7 seconds due to HTTPStatusError(\"Server error '500 Internal Server Error' for url 'http://127.0.0.1:34083/api/v1/array/block/22091bcc-c010-45a7-b8b2-76e0b49eb8de/primary/external/bl_det_image?block=12%2C0%2C0&expected_shape=1%2C300%2C400'\\nFor more information, server admin can search server logs for correlation ID f285aa49f7b463b3.\") (attempt 6)\n",
      "2025-06-04 11:33:26.146 INFO: HTTP Request: GET http://127.0.0.1:34083/api/v1/array/block/22091bcc-c010-45a7-b8b2-76e0b49eb8de/primary/external/bl_det_image?block=7%2C0%2C0&expected_shape=1%2C300%2C400 \"HTTP/1.1 500 Internal Server Error\"\n",
      "2025-06-04 11:33:26.147 WARNING: Scheduled retry in 3.9 seconds due to HTTPStatusError(\"Server error '500 Internal Server Error' for url 'http://127.0.0.1:34083/api/v1/array/block/22091bcc-c010-45a7-b8b2-76e0b49eb8de/primary/external/bl_det_image?block=7%2C0%2C0&expected_shape=1%2C300%2C400'\\nFor more information, server admin can search server logs for correlation ID b2aa0a520d5f7e7f.\") (attempt 6)\n",
      "2025-06-04 11:33:27.054 INFO: HTTP Request: GET http://127.0.0.1:34083/api/v1/array/block/22091bcc-c010-45a7-b8b2-76e0b49eb8de/primary/external/bl_det_image?block=8%2C0%2C0&expected_shape=1%2C300%2C400 \"HTTP/1.1 500 Internal Server Error\"\n",
      "2025-06-04 11:33:27.055 WARNING: Scheduled retry in 5.0 seconds due to HTTPStatusError(\"Server error '500 Internal Server Error' for url 'http://127.0.0.1:34083/api/v1/array/block/22091bcc-c010-45a7-b8b2-76e0b49eb8de/primary/external/bl_det_image?block=8%2C0%2C0&expected_shape=1%2C300%2C400'\\nFor more information, server admin can search server logs for correlation ID 8171c377f1aa5511.\") (attempt 7)\n",
      "2025-06-04 11:33:27.058 WARNING: Scheduled retry in 5.0 seconds due to ReadError('[Errno 104] Connection reset by peer') (attempt 7)\n",
      "2025-06-04 11:33:27.868 INFO: HTTP Request: GET http://127.0.0.1:34083/api/v1/array/block/22091bcc-c010-45a7-b8b2-76e0b49eb8de/primary/external/bl_det_image?block=6%2C0%2C0&expected_shape=1%2C300%2C400 \"HTTP/1.1 500 Internal Server Error\"\n",
      "2025-06-04 11:33:27.870 WARNING: Scheduled retry in 5.0 seconds due to HTTPStatusError(\"Server error '500 Internal Server Error' for url 'http://127.0.0.1:34083/api/v1/array/block/22091bcc-c010-45a7-b8b2-76e0b49eb8de/primary/external/bl_det_image?block=6%2C0%2C0&expected_shape=1%2C300%2C400'\\nFor more information, server admin can search server logs for correlation ID 7543147d6963b831.\") (attempt 7)\n",
      "2025-06-04 11:33:28.018 INFO: HTTP Request: GET http://127.0.0.1:34083/api/v1/array/block/22091bcc-c010-45a7-b8b2-76e0b49eb8de/primary/external/bl_det_image?block=2%2C0%2C0&expected_shape=1%2C300%2C400 \"HTTP/1.1 500 Internal Server Error\"\n",
      "2025-06-04 11:33:28.019 WARNING: Scheduled retry in 5.0 seconds due to HTTPStatusError(\"Server error '500 Internal Server Error' for url 'http://127.0.0.1:34083/api/v1/array/block/22091bcc-c010-45a7-b8b2-76e0b49eb8de/primary/external/bl_det_image?block=2%2C0%2C0&expected_shape=1%2C300%2C400'\\nFor more information, server admin can search server logs for correlation ID c747c270591970f4.\") (attempt 7)\n",
      "2025-06-04 11:33:28.078 INFO: HTTP Request: GET http://127.0.0.1:34083/api/v1/array/block/22091bcc-c010-45a7-b8b2-76e0b49eb8de/primary/external/bl_det_image?block=14%2C0%2C0&expected_shape=1%2C300%2C400 \"HTTP/1.1 500 Internal Server Error\"\n",
      "2025-06-04 11:33:28.080 WARNING: Scheduled retry in 5.0 seconds due to HTTPStatusError(\"Server error '500 Internal Server Error' for url 'http://127.0.0.1:34083/api/v1/array/block/22091bcc-c010-45a7-b8b2-76e0b49eb8de/primary/external/bl_det_image?block=14%2C0%2C0&expected_shape=1%2C300%2C400'\\nFor more information, server admin can search server logs for correlation ID 7d3c1f6441c4c114.\") (attempt 7)\n",
      "2025-06-04 11:33:28.465 INFO: HTTP Request: GET http://127.0.0.1:34083/api/v1/array/block/22091bcc-c010-45a7-b8b2-76e0b49eb8de/primary/external/bl_det_image?block=0%2C0%2C0&expected_shape=1%2C300%2C400 \"HTTP/1.1 500 Internal Server Error\"\n",
      "2025-06-04 11:33:28.467 WARNING: Scheduled retry in 5.0 seconds due to HTTPStatusError(\"Server error '500 Internal Server Error' for url 'http://127.0.0.1:34083/api/v1/array/block/22091bcc-c010-45a7-b8b2-76e0b49eb8de/primary/external/bl_det_image?block=0%2C0%2C0&expected_shape=1%2C300%2C400'\\nFor more information, server admin can search server logs for correlation ID 7ea508287a3a8be5.\") (attempt 7)\n",
      "2025-06-04 11:33:28.536 INFO: HTTP Request: GET http://127.0.0.1:34083/api/v1/array/block/22091bcc-c010-45a7-b8b2-76e0b49eb8de/primary/external/bl_det_image?block=10%2C0%2C0&expected_shape=1%2C300%2C400 \"HTTP/1.1 500 Internal Server Error\"\n",
      "2025-06-04 11:33:28.539 WARNING: Scheduled retry in 5.0 seconds due to HTTPStatusError(\"Server error '500 Internal Server Error' for url 'http://127.0.0.1:34083/api/v1/array/block/22091bcc-c010-45a7-b8b2-76e0b49eb8de/primary/external/bl_det_image?block=10%2C0%2C0&expected_shape=1%2C300%2C400'\\nFor more information, server admin can search server logs for correlation ID 4aa4826683a231e2.\") (attempt 7)\n",
      "2025-06-04 11:33:28.776 INFO: HTTP Request: GET http://127.0.0.1:34083/api/v1/array/block/22091bcc-c010-45a7-b8b2-76e0b49eb8de/primary/external/bl_det_image?block=5%2C0%2C0&expected_shape=1%2C300%2C400 \"HTTP/1.1 500 Internal Server Error\"\n",
      "2025-06-04 11:33:28.778 WARNING: Scheduled retry in 5.0 seconds due to HTTPStatusError(\"Server error '500 Internal Server Error' for url 'http://127.0.0.1:34083/api/v1/array/block/22091bcc-c010-45a7-b8b2-76e0b49eb8de/primary/external/bl_det_image?block=5%2C0%2C0&expected_shape=1%2C300%2C400'\\nFor more information, server admin can search server logs for correlation ID 5a6a721381fdbb99.\") (attempt 7)\n",
      "2025-06-04 11:33:28.805 INFO: HTTP Request: GET http://127.0.0.1:34083/api/v1/array/block/22091bcc-c010-45a7-b8b2-76e0b49eb8de/primary/external/bl_det_image?block=4%2C0%2C0&expected_shape=1%2C300%2C400 \"HTTP/1.1 500 Internal Server Error\"\n",
      "2025-06-04 11:33:28.807 WARNING: Scheduled retry in 5.0 seconds due to HTTPStatusError(\"Server error '500 Internal Server Error' for url 'http://127.0.0.1:34083/api/v1/array/block/22091bcc-c010-45a7-b8b2-76e0b49eb8de/primary/external/bl_det_image?block=4%2C0%2C0&expected_shape=1%2C300%2C400'\\nFor more information, server admin can search server logs for correlation ID 57bba69a6564e59a.\") (attempt 7)\n",
      "2025-06-04 11:33:28.853 INFO: HTTP Request: GET http://127.0.0.1:34083/api/v1/array/block/22091bcc-c010-45a7-b8b2-76e0b49eb8de/primary/external/bl_det_image?block=15%2C0%2C0&expected_shape=1%2C300%2C400 \"HTTP/1.1 500 Internal Server Error\"\n",
      "2025-06-04 11:33:28.855 WARNING: Scheduled retry in 5.0 seconds due to HTTPStatusError(\"Server error '500 Internal Server Error' for url 'http://127.0.0.1:34083/api/v1/array/block/22091bcc-c010-45a7-b8b2-76e0b49eb8de/primary/external/bl_det_image?block=15%2C0%2C0&expected_shape=1%2C300%2C400'\\nFor more information, server admin can search server logs for correlation ID f2d57f0414d48d51.\") (attempt 7)\n",
      "2025-06-04 11:33:29.201 INFO: HTTP Request: GET http://127.0.0.1:34083/api/v1/array/block/22091bcc-c010-45a7-b8b2-76e0b49eb8de/primary/external/bl_det_image?block=11%2C0%2C0&expected_shape=1%2C300%2C400 \"HTTP/1.1 500 Internal Server Error\"\n",
      "2025-06-04 11:33:29.202 WARNING: Scheduled retry in 5.0 seconds due to HTTPStatusError(\"Server error '500 Internal Server Error' for url 'http://127.0.0.1:34083/api/v1/array/block/22091bcc-c010-45a7-b8b2-76e0b49eb8de/primary/external/bl_det_image?block=11%2C0%2C0&expected_shape=1%2C300%2C400'\\nFor more information, server admin can search server logs for correlation ID 03547a490b40e71f.\") (attempt 7)\n",
      "2025-06-04 11:33:29.252 INFO: HTTP Request: GET http://127.0.0.1:34083/api/v1/array/block/22091bcc-c010-45a7-b8b2-76e0b49eb8de/primary/external/bl_det_image?block=9%2C0%2C0&expected_shape=1%2C300%2C400 \"HTTP/1.1 500 Internal Server Error\"\n",
      "2025-06-04 11:33:29.253 WARNING: Scheduled retry in 5.0 seconds due to HTTPStatusError(\"Server error '500 Internal Server Error' for url 'http://127.0.0.1:34083/api/v1/array/block/22091bcc-c010-45a7-b8b2-76e0b49eb8de/primary/external/bl_det_image?block=9%2C0%2C0&expected_shape=1%2C300%2C400'\\nFor more information, server admin can search server logs for correlation ID d712ea9a0c2b2a4f.\") (attempt 7)\n",
      "2025-06-04 11:33:29.359 INFO: HTTP Request: GET http://127.0.0.1:34083/api/v1/array/block/22091bcc-c010-45a7-b8b2-76e0b49eb8de/primary/external/bl_det_image?block=12%2C0%2C0&expected_shape=1%2C300%2C400 \"HTTP/1.1 500 Internal Server Error\"\n",
      "2025-06-04 11:33:29.362 WARNING: Scheduled retry in 5.0 seconds due to HTTPStatusError(\"Server error '500 Internal Server Error' for url 'http://127.0.0.1:34083/api/v1/array/block/22091bcc-c010-45a7-b8b2-76e0b49eb8de/primary/external/bl_det_image?block=12%2C0%2C0&expected_shape=1%2C300%2C400'\\nFor more information, server admin can search server logs for correlation ID fff75b1093dcdff6.\") (attempt 7)\n",
      "2025-06-04 11:33:29.523 INFO: HTTP Request: GET http://127.0.0.1:34083/api/v1/array/block/22091bcc-c010-45a7-b8b2-76e0b49eb8de/primary/external/bl_det_image?block=13%2C0%2C0&expected_shape=1%2C300%2C400 \"HTTP/1.1 500 Internal Server Error\"\n",
      "2025-06-04 11:33:29.526 WARNING: Scheduled retry in 5.0 seconds due to HTTPStatusError(\"Server error '500 Internal Server Error' for url 'http://127.0.0.1:34083/api/v1/array/block/22091bcc-c010-45a7-b8b2-76e0b49eb8de/primary/external/bl_det_image?block=13%2C0%2C0&expected_shape=1%2C300%2C400'\\nFor more information, server admin can search server logs for correlation ID 60303e0b79b97884.\") (attempt 7)\n",
      "2025-06-04 11:33:29.620 INFO: HTTP Request: GET http://127.0.0.1:34083/api/v1/array/block/22091bcc-c010-45a7-b8b2-76e0b49eb8de/primary/external/bl_det_image?block=1%2C0%2C0&expected_shape=1%2C300%2C400 \"HTTP/1.1 500 Internal Server Error\"\n",
      "2025-06-04 11:33:29.621 WARNING: Scheduled retry in 5.0 seconds due to HTTPStatusError(\"Server error '500 Internal Server Error' for url 'http://127.0.0.1:34083/api/v1/array/block/22091bcc-c010-45a7-b8b2-76e0b49eb8de/primary/external/bl_det_image?block=1%2C0%2C0&expected_shape=1%2C300%2C400'\\nFor more information, server admin can search server logs for correlation ID 57be86d3febd54f8.\") (attempt 7)\n",
      "2025-06-04 11:33:30.078 INFO: HTTP Request: GET http://127.0.0.1:34083/api/v1/array/block/22091bcc-c010-45a7-b8b2-76e0b49eb8de/primary/external/bl_det_image?block=7%2C0%2C0&expected_shape=1%2C300%2C400 \"HTTP/1.1 500 Internal Server Error\"\n",
      "2025-06-04 11:33:30.080 WARNING: Scheduled retry in 5.0 seconds due to HTTPStatusError(\"Server error '500 Internal Server Error' for url 'http://127.0.0.1:34083/api/v1/array/block/22091bcc-c010-45a7-b8b2-76e0b49eb8de/primary/external/bl_det_image?block=7%2C0%2C0&expected_shape=1%2C300%2C400'\\nFor more information, server admin can search server logs for correlation ID f0212c36c2e81c96.\") (attempt 7)\n",
      "2025-06-04 11:33:32.079 INFO: HTTP Request: GET http://127.0.0.1:34083/api/v1/array/block/22091bcc-c010-45a7-b8b2-76e0b49eb8de/primary/external/bl_det_image?block=8%2C0%2C0&expected_shape=1%2C300%2C400 \"HTTP/1.1 500 Internal Server Error\"\n",
      "2025-06-04 11:33:32.080 WARNING: Scheduled retry in 5.0 seconds due to HTTPStatusError(\"Server error '500 Internal Server Error' for url 'http://127.0.0.1:34083/api/v1/array/block/22091bcc-c010-45a7-b8b2-76e0b49eb8de/primary/external/bl_det_image?block=8%2C0%2C0&expected_shape=1%2C300%2C400'\\nFor more information, server admin can search server logs for correlation ID 5ad73d5ba43e3c7e.\") (attempt 8)\n",
      "2025-06-04 11:33:32.084 INFO: HTTP Request: GET http://127.0.0.1:34083/api/v1/array/block/22091bcc-c010-45a7-b8b2-76e0b49eb8de/primary/external/bl_det_image?block=3%2C0%2C0&expected_shape=1%2C300%2C400 \"HTTP/1.1 500 Internal Server Error\"\n",
      "2025-06-04 11:33:32.086 WARNING: Scheduled retry in 5.0 seconds due to HTTPStatusError(\"Server error '500 Internal Server Error' for url 'http://127.0.0.1:34083/api/v1/array/block/22091bcc-c010-45a7-b8b2-76e0b49eb8de/primary/external/bl_det_image?block=3%2C0%2C0&expected_shape=1%2C300%2C400'\\nFor more information, server admin can search server logs for correlation ID 5f8a9afbed1f054d.\") (attempt 8)\n",
      "2025-06-04 11:33:32.885 INFO: HTTP Request: GET http://127.0.0.1:34083/api/v1/array/block/22091bcc-c010-45a7-b8b2-76e0b49eb8de/primary/external/bl_det_image?block=6%2C0%2C0&expected_shape=1%2C300%2C400 \"HTTP/1.1 500 Internal Server Error\"\n",
      "2025-06-04 11:33:32.887 WARNING: Scheduled retry in 5.0 seconds due to HTTPStatusError(\"Server error '500 Internal Server Error' for url 'http://127.0.0.1:34083/api/v1/array/block/22091bcc-c010-45a7-b8b2-76e0b49eb8de/primary/external/bl_det_image?block=6%2C0%2C0&expected_shape=1%2C300%2C400'\\nFor more information, server admin can search server logs for correlation ID 1c3f0122531f814c.\") (attempt 8)\n",
      "2025-06-04 11:33:33.035 INFO: HTTP Request: GET http://127.0.0.1:34083/api/v1/array/block/22091bcc-c010-45a7-b8b2-76e0b49eb8de/primary/external/bl_det_image?block=2%2C0%2C0&expected_shape=1%2C300%2C400 \"HTTP/1.1 500 Internal Server Error\"\n",
      "2025-06-04 11:33:33.036 WARNING: Scheduled retry in 5.0 seconds due to HTTPStatusError(\"Server error '500 Internal Server Error' for url 'http://127.0.0.1:34083/api/v1/array/block/22091bcc-c010-45a7-b8b2-76e0b49eb8de/primary/external/bl_det_image?block=2%2C0%2C0&expected_shape=1%2C300%2C400'\\nFor more information, server admin can search server logs for correlation ID d0512c25247a41b7.\") (attempt 8)\n",
      "2025-06-04 11:33:33.095 INFO: HTTP Request: GET http://127.0.0.1:34083/api/v1/array/block/22091bcc-c010-45a7-b8b2-76e0b49eb8de/primary/external/bl_det_image?block=14%2C0%2C0&expected_shape=1%2C300%2C400 \"HTTP/1.1 500 Internal Server Error\"\n",
      "2025-06-04 11:33:33.097 WARNING: Scheduled retry in 5.0 seconds due to HTTPStatusError(\"Server error '500 Internal Server Error' for url 'http://127.0.0.1:34083/api/v1/array/block/22091bcc-c010-45a7-b8b2-76e0b49eb8de/primary/external/bl_det_image?block=14%2C0%2C0&expected_shape=1%2C300%2C400'\\nFor more information, server admin can search server logs for correlation ID 522e83094b1045e2.\") (attempt 8)\n",
      "2025-06-04 11:33:33.482 INFO: HTTP Request: GET http://127.0.0.1:34083/api/v1/array/block/22091bcc-c010-45a7-b8b2-76e0b49eb8de/primary/external/bl_det_image?block=0%2C0%2C0&expected_shape=1%2C300%2C400 \"HTTP/1.1 500 Internal Server Error\"\n",
      "2025-06-04 11:33:33.485 WARNING: Scheduled retry in 5.0 seconds due to HTTPStatusError(\"Server error '500 Internal Server Error' for url 'http://127.0.0.1:34083/api/v1/array/block/22091bcc-c010-45a7-b8b2-76e0b49eb8de/primary/external/bl_det_image?block=0%2C0%2C0&expected_shape=1%2C300%2C400'\\nFor more information, server admin can search server logs for correlation ID 0f1d43a8e5dd3e1b.\") (attempt 8)\n",
      "2025-06-04 11:33:33.553 INFO: HTTP Request: GET http://127.0.0.1:34083/api/v1/array/block/22091bcc-c010-45a7-b8b2-76e0b49eb8de/primary/external/bl_det_image?block=10%2C0%2C0&expected_shape=1%2C300%2C400 \"HTTP/1.1 500 Internal Server Error\"\n",
      "2025-06-04 11:33:33.555 WARNING: Scheduled retry in 5.0 seconds due to HTTPStatusError(\"Server error '500 Internal Server Error' for url 'http://127.0.0.1:34083/api/v1/array/block/22091bcc-c010-45a7-b8b2-76e0b49eb8de/primary/external/bl_det_image?block=10%2C0%2C0&expected_shape=1%2C300%2C400'\\nFor more information, server admin can search server logs for correlation ID 6ac23989aef9fbea.\") (attempt 8)\n",
      "2025-06-04 11:33:33.793 INFO: HTTP Request: GET http://127.0.0.1:34083/api/v1/array/block/22091bcc-c010-45a7-b8b2-76e0b49eb8de/primary/external/bl_det_image?block=5%2C0%2C0&expected_shape=1%2C300%2C400 \"HTTP/1.1 500 Internal Server Error\"\n",
      "2025-06-04 11:33:33.794 WARNING: Scheduled retry in 5.0 seconds due to HTTPStatusError(\"Server error '500 Internal Server Error' for url 'http://127.0.0.1:34083/api/v1/array/block/22091bcc-c010-45a7-b8b2-76e0b49eb8de/primary/external/bl_det_image?block=5%2C0%2C0&expected_shape=1%2C300%2C400'\\nFor more information, server admin can search server logs for correlation ID d4c1ab174ab1eda5.\") (attempt 8)\n",
      "2025-06-04 11:33:33.820 INFO: HTTP Request: GET http://127.0.0.1:34083/api/v1/array/block/22091bcc-c010-45a7-b8b2-76e0b49eb8de/primary/external/bl_det_image?block=4%2C0%2C0&expected_shape=1%2C300%2C400 \"HTTP/1.1 500 Internal Server Error\"\n",
      "2025-06-04 11:33:33.822 WARNING: Scheduled retry in 5.0 seconds due to HTTPStatusError(\"Server error '500 Internal Server Error' for url 'http://127.0.0.1:34083/api/v1/array/block/22091bcc-c010-45a7-b8b2-76e0b49eb8de/primary/external/bl_det_image?block=4%2C0%2C0&expected_shape=1%2C300%2C400'\\nFor more information, server admin can search server logs for correlation ID e80ea3e563683b92.\") (attempt 8)\n",
      "2025-06-04 11:33:33.872 INFO: HTTP Request: GET http://127.0.0.1:34083/api/v1/array/block/22091bcc-c010-45a7-b8b2-76e0b49eb8de/primary/external/bl_det_image?block=15%2C0%2C0&expected_shape=1%2C300%2C400 \"HTTP/1.1 500 Internal Server Error\"\n",
      "2025-06-04 11:33:33.874 WARNING: Scheduled retry in 5.0 seconds due to HTTPStatusError(\"Server error '500 Internal Server Error' for url 'http://127.0.0.1:34083/api/v1/array/block/22091bcc-c010-45a7-b8b2-76e0b49eb8de/primary/external/bl_det_image?block=15%2C0%2C0&expected_shape=1%2C300%2C400'\\nFor more information, server admin can search server logs for correlation ID 11c9b64da4d7874e.\") (attempt 8)\n",
      "2025-06-04 11:33:34.216 INFO: HTTP Request: GET http://127.0.0.1:34083/api/v1/array/block/22091bcc-c010-45a7-b8b2-76e0b49eb8de/primary/external/bl_det_image?block=11%2C0%2C0&expected_shape=1%2C300%2C400 \"HTTP/1.1 500 Internal Server Error\"\n",
      "2025-06-04 11:33:34.219 WARNING: Scheduled retry in 5.0 seconds due to HTTPStatusError(\"Server error '500 Internal Server Error' for url 'http://127.0.0.1:34083/api/v1/array/block/22091bcc-c010-45a7-b8b2-76e0b49eb8de/primary/external/bl_det_image?block=11%2C0%2C0&expected_shape=1%2C300%2C400'\\nFor more information, server admin can search server logs for correlation ID c04776650117070e.\") (attempt 8)\n",
      "2025-06-04 11:33:34.266 INFO: HTTP Request: GET http://127.0.0.1:34083/api/v1/array/block/22091bcc-c010-45a7-b8b2-76e0b49eb8de/primary/external/bl_det_image?block=9%2C0%2C0&expected_shape=1%2C300%2C400 \"HTTP/1.1 500 Internal Server Error\"\n",
      "2025-06-04 11:33:34.267 WARNING: Scheduled retry in 5.0 seconds due to HTTPStatusError(\"Server error '500 Internal Server Error' for url 'http://127.0.0.1:34083/api/v1/array/block/22091bcc-c010-45a7-b8b2-76e0b49eb8de/primary/external/bl_det_image?block=9%2C0%2C0&expected_shape=1%2C300%2C400'\\nFor more information, server admin can search server logs for correlation ID 127784bc90734cd1.\") (attempt 8)\n",
      "2025-06-04 11:33:34.375 INFO: HTTP Request: GET http://127.0.0.1:34083/api/v1/array/block/22091bcc-c010-45a7-b8b2-76e0b49eb8de/primary/external/bl_det_image?block=12%2C0%2C0&expected_shape=1%2C300%2C400 \"HTTP/1.1 500 Internal Server Error\"\n",
      "2025-06-04 11:33:34.377 WARNING: Scheduled retry in 5.0 seconds due to HTTPStatusError(\"Server error '500 Internal Server Error' for url 'http://127.0.0.1:34083/api/v1/array/block/22091bcc-c010-45a7-b8b2-76e0b49eb8de/primary/external/bl_det_image?block=12%2C0%2C0&expected_shape=1%2C300%2C400'\\nFor more information, server admin can search server logs for correlation ID f5d628c84c2c0504.\") (attempt 8)\n",
      "2025-06-04 11:33:34.539 INFO: HTTP Request: GET http://127.0.0.1:34083/api/v1/array/block/22091bcc-c010-45a7-b8b2-76e0b49eb8de/primary/external/bl_det_image?block=13%2C0%2C0&expected_shape=1%2C300%2C400 \"HTTP/1.1 500 Internal Server Error\"\n",
      "2025-06-04 11:33:34.541 WARNING: Scheduled retry in 5.0 seconds due to HTTPStatusError(\"Server error '500 Internal Server Error' for url 'http://127.0.0.1:34083/api/v1/array/block/22091bcc-c010-45a7-b8b2-76e0b49eb8de/primary/external/bl_det_image?block=13%2C0%2C0&expected_shape=1%2C300%2C400'\\nFor more information, server admin can search server logs for correlation ID f7567395aabfbec9.\") (attempt 8)\n",
      "2025-06-04 11:33:34.636 INFO: HTTP Request: GET http://127.0.0.1:34083/api/v1/array/block/22091bcc-c010-45a7-b8b2-76e0b49eb8de/primary/external/bl_det_image?block=1%2C0%2C0&expected_shape=1%2C300%2C400 \"HTTP/1.1 500 Internal Server Error\"\n",
      "2025-06-04 11:33:34.637 WARNING: Scheduled retry in 5.0 seconds due to HTTPStatusError(\"Server error '500 Internal Server Error' for url 'http://127.0.0.1:34083/api/v1/array/block/22091bcc-c010-45a7-b8b2-76e0b49eb8de/primary/external/bl_det_image?block=1%2C0%2C0&expected_shape=1%2C300%2C400'\\nFor more information, server admin can search server logs for correlation ID fce6213557b3f64d.\") (attempt 8)\n",
      "2025-06-04 11:33:35.096 INFO: HTTP Request: GET http://127.0.0.1:34083/api/v1/array/block/22091bcc-c010-45a7-b8b2-76e0b49eb8de/primary/external/bl_det_image?block=7%2C0%2C0&expected_shape=1%2C300%2C400 \"HTTP/1.1 500 Internal Server Error\"\n",
      "2025-06-04 11:33:35.098 WARNING: Scheduled retry in 5.0 seconds due to HTTPStatusError(\"Server error '500 Internal Server Error' for url 'http://127.0.0.1:34083/api/v1/array/block/22091bcc-c010-45a7-b8b2-76e0b49eb8de/primary/external/bl_det_image?block=7%2C0%2C0&expected_shape=1%2C300%2C400'\\nFor more information, server admin can search server logs for correlation ID 7bd71aad443fc704.\") (attempt 8)\n",
      "2025-06-04 11:33:37.106 INFO: HTTP Request: GET http://127.0.0.1:34083/api/v1/array/block/22091bcc-c010-45a7-b8b2-76e0b49eb8de/primary/external/bl_det_image?block=3%2C0%2C0&expected_shape=1%2C300%2C400 \"HTTP/1.1 500 Internal Server Error\"\n",
      "2025-06-04 11:33:37.107 WARNING: Scheduled retry in 5.0 seconds due to HTTPStatusError(\"Server error '500 Internal Server Error' for url 'http://127.0.0.1:34083/api/v1/array/block/22091bcc-c010-45a7-b8b2-76e0b49eb8de/primary/external/bl_det_image?block=3%2C0%2C0&expected_shape=1%2C300%2C400'\\nFor more information, server admin can search server logs for correlation ID 703890d4d2e4968a.\") (attempt 9)\n",
      "2025-06-04 11:33:37.109 INFO: HTTP Request: GET http://127.0.0.1:34083/api/v1/array/block/22091bcc-c010-45a7-b8b2-76e0b49eb8de/primary/external/bl_det_image?block=8%2C0%2C0&expected_shape=1%2C300%2C400 \"HTTP/1.1 500 Internal Server Error\"\n",
      "2025-06-04 11:33:37.110 WARNING: Scheduled retry in 5.0 seconds due to HTTPStatusError(\"Server error '500 Internal Server Error' for url 'http://127.0.0.1:34083/api/v1/array/block/22091bcc-c010-45a7-b8b2-76e0b49eb8de/primary/external/bl_det_image?block=8%2C0%2C0&expected_shape=1%2C300%2C400'\\nFor more information, server admin can search server logs for correlation ID 5091db9930d01936.\") (attempt 9)\n",
      "2025-06-04 11:33:37.901 INFO: HTTP Request: GET http://127.0.0.1:34083/api/v1/array/block/22091bcc-c010-45a7-b8b2-76e0b49eb8de/primary/external/bl_det_image?block=6%2C0%2C0&expected_shape=1%2C300%2C400 \"HTTP/1.1 500 Internal Server Error\"\n",
      "2025-06-04 11:33:37.903 WARNING: Scheduled retry in 5.0 seconds due to HTTPStatusError(\"Server error '500 Internal Server Error' for url 'http://127.0.0.1:34083/api/v1/array/block/22091bcc-c010-45a7-b8b2-76e0b49eb8de/primary/external/bl_det_image?block=6%2C0%2C0&expected_shape=1%2C300%2C400'\\nFor more information, server admin can search server logs for correlation ID 7628e90494f2b2a1.\") (attempt 9)\n",
      "2025-06-04 11:33:38.047 INFO: HTTP Request: GET http://127.0.0.1:34083/api/v1/array/block/22091bcc-c010-45a7-b8b2-76e0b49eb8de/primary/external/bl_det_image?block=2%2C0%2C0&expected_shape=1%2C300%2C400 \"HTTP/1.1 500 Internal Server Error\"\n",
      "2025-06-04 11:33:38.049 WARNING: Scheduled retry in 5.0 seconds due to HTTPStatusError(\"Server error '500 Internal Server Error' for url 'http://127.0.0.1:34083/api/v1/array/block/22091bcc-c010-45a7-b8b2-76e0b49eb8de/primary/external/bl_det_image?block=2%2C0%2C0&expected_shape=1%2C300%2C400'\\nFor more information, server admin can search server logs for correlation ID 5232b719eec6ab3b.\") (attempt 9)\n",
      "2025-06-04 11:33:38.110 INFO: HTTP Request: GET http://127.0.0.1:34083/api/v1/array/block/22091bcc-c010-45a7-b8b2-76e0b49eb8de/primary/external/bl_det_image?block=14%2C0%2C0&expected_shape=1%2C300%2C400 \"HTTP/1.1 500 Internal Server Error\"\n",
      "2025-06-04 11:33:38.111 WARNING: Scheduled retry in 5.0 seconds due to HTTPStatusError(\"Server error '500 Internal Server Error' for url 'http://127.0.0.1:34083/api/v1/array/block/22091bcc-c010-45a7-b8b2-76e0b49eb8de/primary/external/bl_det_image?block=14%2C0%2C0&expected_shape=1%2C300%2C400'\\nFor more information, server admin can search server logs for correlation ID f6be9ab9a48d3081.\") (attempt 9)\n",
      "2025-06-04 11:33:38.500 INFO: HTTP Request: GET http://127.0.0.1:34083/api/v1/array/block/22091bcc-c010-45a7-b8b2-76e0b49eb8de/primary/external/bl_det_image?block=0%2C0%2C0&expected_shape=1%2C300%2C400 \"HTTP/1.1 500 Internal Server Error\"\n",
      "2025-06-04 11:33:38.502 WARNING: Scheduled retry in 5.0 seconds due to HTTPStatusError(\"Server error '500 Internal Server Error' for url 'http://127.0.0.1:34083/api/v1/array/block/22091bcc-c010-45a7-b8b2-76e0b49eb8de/primary/external/bl_det_image?block=0%2C0%2C0&expected_shape=1%2C300%2C400'\\nFor more information, server admin can search server logs for correlation ID e84e6a02d6c0fe57.\") (attempt 9)\n",
      "2025-06-04 11:33:38.569 INFO: HTTP Request: GET http://127.0.0.1:34083/api/v1/array/block/22091bcc-c010-45a7-b8b2-76e0b49eb8de/primary/external/bl_det_image?block=10%2C0%2C0&expected_shape=1%2C300%2C400 \"HTTP/1.1 500 Internal Server Error\"\n",
      "2025-06-04 11:33:38.570 WARNING: Scheduled retry in 5.0 seconds due to HTTPStatusError(\"Server error '500 Internal Server Error' for url 'http://127.0.0.1:34083/api/v1/array/block/22091bcc-c010-45a7-b8b2-76e0b49eb8de/primary/external/bl_det_image?block=10%2C0%2C0&expected_shape=1%2C300%2C400'\\nFor more information, server admin can search server logs for correlation ID b18038b11107a5ad.\") (attempt 9)\n",
      "2025-06-04 11:33:38.809 INFO: HTTP Request: GET http://127.0.0.1:34083/api/v1/array/block/22091bcc-c010-45a7-b8b2-76e0b49eb8de/primary/external/bl_det_image?block=5%2C0%2C0&expected_shape=1%2C300%2C400 \"HTTP/1.1 500 Internal Server Error\"\n",
      "2025-06-04 11:33:38.812 WARNING: Scheduled retry in 5.0 seconds due to HTTPStatusError(\"Server error '500 Internal Server Error' for url 'http://127.0.0.1:34083/api/v1/array/block/22091bcc-c010-45a7-b8b2-76e0b49eb8de/primary/external/bl_det_image?block=5%2C0%2C0&expected_shape=1%2C300%2C400'\\nFor more information, server admin can search server logs for correlation ID abfa7532a5e20f3d.\") (attempt 9)\n",
      "2025-06-04 11:33:38.837 INFO: HTTP Request: GET http://127.0.0.1:34083/api/v1/array/block/22091bcc-c010-45a7-b8b2-76e0b49eb8de/primary/external/bl_det_image?block=4%2C0%2C0&expected_shape=1%2C300%2C400 \"HTTP/1.1 500 Internal Server Error\"\n",
      "2025-06-04 11:33:38.839 WARNING: Scheduled retry in 5.0 seconds due to HTTPStatusError(\"Server error '500 Internal Server Error' for url 'http://127.0.0.1:34083/api/v1/array/block/22091bcc-c010-45a7-b8b2-76e0b49eb8de/primary/external/bl_det_image?block=4%2C0%2C0&expected_shape=1%2C300%2C400'\\nFor more information, server admin can search server logs for correlation ID 3499a69081c24327.\") (attempt 9)\n",
      "2025-06-04 11:33:38.886 INFO: HTTP Request: GET http://127.0.0.1:34083/api/v1/array/block/22091bcc-c010-45a7-b8b2-76e0b49eb8de/primary/external/bl_det_image?block=15%2C0%2C0&expected_shape=1%2C300%2C400 \"HTTP/1.1 500 Internal Server Error\"\n",
      "2025-06-04 11:33:38.887 WARNING: Scheduled retry in 5.0 seconds due to HTTPStatusError(\"Server error '500 Internal Server Error' for url 'http://127.0.0.1:34083/api/v1/array/block/22091bcc-c010-45a7-b8b2-76e0b49eb8de/primary/external/bl_det_image?block=15%2C0%2C0&expected_shape=1%2C300%2C400'\\nFor more information, server admin can search server logs for correlation ID f6f5a8fda2bf9872.\") (attempt 9)\n",
      "2025-06-04 11:33:39.234 INFO: HTTP Request: GET http://127.0.0.1:34083/api/v1/array/block/22091bcc-c010-45a7-b8b2-76e0b49eb8de/primary/external/bl_det_image?block=11%2C0%2C0&expected_shape=1%2C300%2C400 \"HTTP/1.1 500 Internal Server Error\"\n",
      "2025-06-04 11:33:39.236 WARNING: Scheduled retry in 5.0 seconds due to HTTPStatusError(\"Server error '500 Internal Server Error' for url 'http://127.0.0.1:34083/api/v1/array/block/22091bcc-c010-45a7-b8b2-76e0b49eb8de/primary/external/bl_det_image?block=11%2C0%2C0&expected_shape=1%2C300%2C400'\\nFor more information, server admin can search server logs for correlation ID 713b2410d9555d19.\") (attempt 9)\n",
      "2025-06-04 11:33:39.280 INFO: HTTP Request: GET http://127.0.0.1:34083/api/v1/array/block/22091bcc-c010-45a7-b8b2-76e0b49eb8de/primary/external/bl_det_image?block=9%2C0%2C0&expected_shape=1%2C300%2C400 \"HTTP/1.1 500 Internal Server Error\"\n",
      "2025-06-04 11:33:39.282 WARNING: Scheduled retry in 5.0 seconds due to HTTPStatusError(\"Server error '500 Internal Server Error' for url 'http://127.0.0.1:34083/api/v1/array/block/22091bcc-c010-45a7-b8b2-76e0b49eb8de/primary/external/bl_det_image?block=9%2C0%2C0&expected_shape=1%2C300%2C400'\\nFor more information, server admin can search server logs for correlation ID 22b6a420de26a158.\") (attempt 9)\n",
      "2025-06-04 11:33:39.391 INFO: HTTP Request: GET http://127.0.0.1:34083/api/v1/array/block/22091bcc-c010-45a7-b8b2-76e0b49eb8de/primary/external/bl_det_image?block=12%2C0%2C0&expected_shape=1%2C300%2C400 \"HTTP/1.1 500 Internal Server Error\"\n",
      "2025-06-04 11:33:39.392 WARNING: Scheduled retry in 5.0 seconds due to HTTPStatusError(\"Server error '500 Internal Server Error' for url 'http://127.0.0.1:34083/api/v1/array/block/22091bcc-c010-45a7-b8b2-76e0b49eb8de/primary/external/bl_det_image?block=12%2C0%2C0&expected_shape=1%2C300%2C400'\\nFor more information, server admin can search server logs for correlation ID d81a68917e7bf4f9.\") (attempt 9)\n",
      "2025-06-04 11:33:39.553 INFO: HTTP Request: GET http://127.0.0.1:34083/api/v1/array/block/22091bcc-c010-45a7-b8b2-76e0b49eb8de/primary/external/bl_det_image?block=13%2C0%2C0&expected_shape=1%2C300%2C400 \"HTTP/1.1 500 Internal Server Error\"\n",
      "2025-06-04 11:33:39.555 WARNING: Scheduled retry in 5.0 seconds due to HTTPStatusError(\"Server error '500 Internal Server Error' for url 'http://127.0.0.1:34083/api/v1/array/block/22091bcc-c010-45a7-b8b2-76e0b49eb8de/primary/external/bl_det_image?block=13%2C0%2C0&expected_shape=1%2C300%2C400'\\nFor more information, server admin can search server logs for correlation ID 2288308ee00ff7a0.\") (attempt 9)\n",
      "2025-06-04 11:33:39.650 INFO: HTTP Request: GET http://127.0.0.1:34083/api/v1/array/block/22091bcc-c010-45a7-b8b2-76e0b49eb8de/primary/external/bl_det_image?block=1%2C0%2C0&expected_shape=1%2C300%2C400 \"HTTP/1.1 500 Internal Server Error\"\n",
      "2025-06-04 11:33:39.652 WARNING: Scheduled retry in 5.0 seconds due to HTTPStatusError(\"Server error '500 Internal Server Error' for url 'http://127.0.0.1:34083/api/v1/array/block/22091bcc-c010-45a7-b8b2-76e0b49eb8de/primary/external/bl_det_image?block=1%2C0%2C0&expected_shape=1%2C300%2C400'\\nFor more information, server admin can search server logs for correlation ID 6509c3c6a3939a04.\") (attempt 9)\n",
      "2025-06-04 11:33:40.110 INFO: HTTP Request: GET http://127.0.0.1:34083/api/v1/array/block/22091bcc-c010-45a7-b8b2-76e0b49eb8de/primary/external/bl_det_image?block=7%2C0%2C0&expected_shape=1%2C300%2C400 \"HTTP/1.1 500 Internal Server Error\"\n",
      "2025-06-04 11:33:40.111 WARNING: Scheduled retry in 5.0 seconds due to HTTPStatusError(\"Server error '500 Internal Server Error' for url 'http://127.0.0.1:34083/api/v1/array/block/22091bcc-c010-45a7-b8b2-76e0b49eb8de/primary/external/bl_det_image?block=7%2C0%2C0&expected_shape=1%2C300%2C400'\\nFor more information, server admin can search server logs for correlation ID 236a3b368e49523d.\") (attempt 9)\n",
      "2025-06-04 11:33:42.131 INFO: HTTP Request: GET http://127.0.0.1:34083/api/v1/array/block/22091bcc-c010-45a7-b8b2-76e0b49eb8de/primary/external/bl_det_image?block=3%2C0%2C0&expected_shape=1%2C300%2C400 \"HTTP/1.1 500 Internal Server Error\"\n",
      "2025-06-04 11:33:42.137 INFO: HTTP Request: GET http://127.0.0.1:34083/api/v1/array/block/22091bcc-c010-45a7-b8b2-76e0b49eb8de/primary/external/bl_det_image?block=8%2C0%2C0&expected_shape=1%2C300%2C400 \"HTTP/1.1 500 Internal Server Error\"\n",
      "2025-06-04 11:33:42.919 INFO: HTTP Request: GET http://127.0.0.1:34083/api/v1/array/block/22091bcc-c010-45a7-b8b2-76e0b49eb8de/primary/external/bl_det_image?block=6%2C0%2C0&expected_shape=1%2C300%2C400 \"HTTP/1.1 500 Internal Server Error\"\n",
      "2025-06-04 11:33:43.065 INFO: HTTP Request: GET http://127.0.0.1:34083/api/v1/array/block/22091bcc-c010-45a7-b8b2-76e0b49eb8de/primary/external/bl_det_image?block=2%2C0%2C0&expected_shape=1%2C300%2C400 \"HTTP/1.1 500 Internal Server Error\"\n",
      "2025-06-04 11:33:43.124 INFO: HTTP Request: GET http://127.0.0.1:34083/api/v1/array/block/22091bcc-c010-45a7-b8b2-76e0b49eb8de/primary/external/bl_det_image?block=14%2C0%2C0&expected_shape=1%2C300%2C400 \"HTTP/1.1 500 Internal Server Error\"\n",
      "2025-06-04 11:33:43.517 INFO: HTTP Request: GET http://127.0.0.1:34083/api/v1/array/block/22091bcc-c010-45a7-b8b2-76e0b49eb8de/primary/external/bl_det_image?block=0%2C0%2C0&expected_shape=1%2C300%2C400 \"HTTP/1.1 500 Internal Server Error\"\n",
      "2025-06-04 11:33:43.588 INFO: HTTP Request: GET http://127.0.0.1:34083/api/v1/array/block/22091bcc-c010-45a7-b8b2-76e0b49eb8de/primary/external/bl_det_image?block=10%2C0%2C0&expected_shape=1%2C300%2C400 \"HTTP/1.1 500 Internal Server Error\"\n",
      "2025-06-04 11:33:43.826 INFO: HTTP Request: GET http://127.0.0.1:34083/api/v1/array/block/22091bcc-c010-45a7-b8b2-76e0b49eb8de/primary/external/bl_det_image?block=5%2C0%2C0&expected_shape=1%2C300%2C400 \"HTTP/1.1 500 Internal Server Error\"\n",
      "2025-06-04 11:33:43.852 INFO: HTTP Request: GET http://127.0.0.1:34083/api/v1/array/block/22091bcc-c010-45a7-b8b2-76e0b49eb8de/primary/external/bl_det_image?block=4%2C0%2C0&expected_shape=1%2C300%2C400 \"HTTP/1.1 500 Internal Server Error\"\n",
      "2025-06-04 11:33:43.900 INFO: HTTP Request: GET http://127.0.0.1:34083/api/v1/array/block/22091bcc-c010-45a7-b8b2-76e0b49eb8de/primary/external/bl_det_image?block=15%2C0%2C0&expected_shape=1%2C300%2C400 \"HTTP/1.1 500 Internal Server Error\"\n",
      "2025-06-04 11:33:44.248 INFO: HTTP Request: GET http://127.0.0.1:34083/api/v1/array/block/22091bcc-c010-45a7-b8b2-76e0b49eb8de/primary/external/bl_det_image?block=11%2C0%2C0&expected_shape=1%2C300%2C400 \"HTTP/1.1 500 Internal Server Error\"\n",
      "2025-06-04 11:33:44.292 INFO: HTTP Request: GET http://127.0.0.1:34083/api/v1/array/block/22091bcc-c010-45a7-b8b2-76e0b49eb8de/primary/external/bl_det_image?block=9%2C0%2C0&expected_shape=1%2C300%2C400 \"HTTP/1.1 500 Internal Server Error\"\n",
      "2025-06-04 11:33:44.404 INFO: HTTP Request: GET http://127.0.0.1:34083/api/v1/array/block/22091bcc-c010-45a7-b8b2-76e0b49eb8de/primary/external/bl_det_image?block=12%2C0%2C0&expected_shape=1%2C300%2C400 \"HTTP/1.1 500 Internal Server Error\"\n",
      "2025-06-04 11:33:44.565 INFO: HTTP Request: GET http://127.0.0.1:34083/api/v1/array/block/22091bcc-c010-45a7-b8b2-76e0b49eb8de/primary/external/bl_det_image?block=13%2C0%2C0&expected_shape=1%2C300%2C400 \"HTTP/1.1 500 Internal Server Error\"\n",
      "2025-06-04 11:33:44.662 INFO: HTTP Request: GET http://127.0.0.1:34083/api/v1/array/block/22091bcc-c010-45a7-b8b2-76e0b49eb8de/primary/external/bl_det_image?block=1%2C0%2C0&expected_shape=1%2C300%2C400 \"HTTP/1.1 500 Internal Server Error\"\n",
      "2025-06-04 11:33:45.127 INFO: HTTP Request: GET http://127.0.0.1:34083/api/v1/array/block/22091bcc-c010-45a7-b8b2-76e0b49eb8de/primary/external/bl_det_image?block=7%2C0%2C0&expected_shape=1%2C300%2C400 \"HTTP/1.1 500 Internal Server Error\"\n"
     ]
    }
   ],
   "source": [
    "import datetime\n",
    "\n",
    "import matplotlib.pyplot as plt\n",
    "from bluesky.callbacks import best_effort\n",
    "from bluesky.callbacks.tiled_writer import TiledWriter\n",
    "from bluesky.run_engine import RunEngine\n",
    "from ophyd.utils import make_dir_tree\n",
    "from tiled.client import from_uri\n",
    "from tiled.server import SimpleTiledServer\n",
    "from blop.sim import beamline\n",
    "\n",
    "tiled_server = SimpleTiledServer(readable_storage=[beamline.DECTECTOR_STORAGE])\n",
    "tiled_client = from_uri(tiled_server.uri)\n",
    "tiled_writer = TiledWriter(tiled_client)\n",
    "\n",
    "# Set up RE enviornment\n",
    "def setup_re_env(db_type=\"default\", root_dir=\"/default/path\"):\n",
    "    RE = RunEngine({})\n",
    "    bec = best_effort.BestEffortCallback()\n",
    "    RE.subscribe(bec)\n",
    "    RE.subscribe(tiled_writer)\n",
    "    _ = make_dir_tree(datetime.datetime.now().year, base_path=root_dir)\n",
    "    return {\"RE\": RE, \"tiled\": tiled_client, \"bec\": bec}\n",
    "\n",
    "\n",
    "env = setup_re_env(db_type=\"temp\", root_dir=\"/tmp/blop/sim/data\")\n",
    "globals().update(env)\n",
    "\n",
    "bec.disable_plots()"
   ]
  },
  {
   "cell_type": "code",
   "execution_count": 2,
   "id": "3",
   "metadata": {},
   "outputs": [
    {
     "name": "stderr",
     "output_type": "stream",
     "text": [
      "/home/jmoylan1/miniconda3/envs/test_tiled_new/lib/python3.11/site-packages/tqdm/auto.py:21: TqdmWarning: IProgress not found. Please update jupyter and ipywidgets. See https://ipywidgets.readthedocs.io/en/stable/user_install.html\n",
      "  from .autonotebook import tqdm as notebook_tqdm\n"
     ]
    }
   ],
   "source": [
    "import time\n",
    "\n",
    "from blop import DOF, Agent, Objective\n",
    "from blop.digestion import beam_stats_digestion\n",
    "from blop.sim.xrt_beamline import Beamline"
   ]
  },
  {
   "cell_type": "code",
   "execution_count": 3,
   "id": "4",
   "metadata": {},
   "outputs": [],
   "source": [
    "plt.ion()\n",
    "\n",
    "h_opt = 0\n",
    "dh = 5\n",
    "\n",
    "R1, dR1 = 40000, 10000\n",
    "R2, dR2 = 20000, 10000"
   ]
  },
  {
   "cell_type": "code",
   "execution_count": 4,
   "id": "5",
   "metadata": {},
   "outputs": [],
   "source": [
    "beamline = Beamline(name=\"bl\")\n",
    "time.sleep(1)\n",
    "dofs = [\n",
    "    DOF(description=\"KBV R\",\n",
    "        device=beamline.kbv_dsv,\n",
    "        search_domain=(R1 - dR1, R1 + dR1)),\n",
    "    DOF(description=\"KBH R\",\n",
    "        device=beamline.kbh_dsh,\n",
    "        search_domain=(R2 - dR2, R2 + dR2)),\n",
    "\n",
    "]"
   ]
  },
  {
   "cell_type": "code",
   "execution_count": 5,
   "id": "6",
   "metadata": {},
   "outputs": [],
   "source": [
    "objectives = [\n",
    "    Objective(name=\"bl_det_sum\",\n",
    "              target=\"max\",\n",
    "              transform=\"log\",\n",
    "              trust_domain=(20, 1e12)),\n",
    "\n",
    "    Objective(name=\"bl_det_wid_x\",\n",
    "              target=\"min\",\n",
    "              transform=\"log\",\n",
    "              # trust_domain=(0, 1e12),\n",
    "              latent_groups=[(\"bl_kbh_dsh\", \"bl_kbv_dsv\")]),\n",
    "    Objective(name=\"bl_det_wid_y\",\n",
    "              target=\"min\",\n",
    "              transform=\"log\",\n",
    "              # trust_domain=(0, 1e12),\n",
    "              latent_groups=[(\"bl_kbh_dsh\", \"bl_kbv_dsv\")]),\n",
    "]"
   ]
  },
  {
   "cell_type": "code",
   "execution_count": 6,
   "id": "7",
   "metadata": {},
   "outputs": [],
   "source": [
    "# import json\n",
    "# class JSONWriter:\n",
    "#     \"\"\"Writer for a JSON array\"\"\"\n",
    "\n",
    "#     def __init__(self, filepath):\n",
    "#         self.file = open(filepath, \"w\")\n",
    "#         self.file.write(\"[\\n\")\n",
    "\n",
    "#     def __call__(self, name, doc):\n",
    "#         json.dump({\"name\": name, \"doc\": doc}, self.file)\n",
    "#         if name == \"stop\":\n",
    "#             self.file.write(\"\\n]\")\n",
    "#             self.file.close()\n",
    "#         else:\n",
    "#             self.file.write(\",\\n\")\n",
    "\n",
    "# wr = JSONWriter('/tmp/blop/sim/test_tiled_writer1.json')\n",
    "# RE.subscribe(wr)"
   ]
  },
  {
   "cell_type": "code",
   "execution_count": 7,
   "id": "8",
   "metadata": {},
   "outputs": [],
   "source": [
    "agent = Agent(\n",
    "    dofs=dofs,\n",
    "    objectives=objectives,\n",
    "    detectors=[beamline.det],\n",
    "    digestion=beam_stats_digestion,\n",
    "    digestion_kwargs={\"image_key\": \"bl_det_image\"},\n",
    "    verbose=True,\n",
    "    tiled=tiled,\n",
    "    tolerate_acquisition_errors=False,\n",
    "    enforce_all_objectives_valid=True,\n",
    "    train_every=3,\n",
    ")"
   ]
  },
  {
   "cell_type": "code",
   "execution_count": 8,
   "id": "9",
   "metadata": {},
   "outputs": [
    {
     "name": "stderr",
     "output_type": "stream",
     "text": [
      "2025-06-04 11:33:16.902 INFO: Executing plan <generator object Agent.learn at 0x74b80c2c6a70>\n",
      "2025-06-04 11:33:16.903 INFO: Change state on <bluesky.run_engine.RunEngine object at 0x74b8c8fb19d0> from 'idle' -> 'running'\n",
      "2025-06-04 11:33:16.904 INFO: running iteration 1 / 1\n"
     ]
    },
    {
     "name": "stdout",
     "output_type": "stream",
     "text": [
      "image_shape: (300, 400)\n",
      "(1, 300, 400)\n",
      "\n",
      "\n",
      "Transient Scan ID: 1     Time: 2025-06-04 11:33:16\n",
      "Persistent Unique Scan ID: '22091bcc-c010-45a7-b8b2-76e0b49eb8de'\n"
     ]
    },
    {
     "name": "stderr",
     "output_type": "stream",
     "text": [
      "2025-06-04 11:33:16.940 INFO: HTTP Request: POST http://127.0.0.1:34083/api/v1/metadata/ \"HTTP/1.1 200 OK\"\n"
     ]
    },
    {
     "name": "stdout",
     "output_type": "stream",
     "text": [
      "New stream: 'primary'\n",
      "+-----------+------------+------------+------------+------------+--------------+--------------+--------------+--------------+\n",
      "|   seq_num |       time | bl_kbv_dsv | bl_kbh_dsh | bl_det_sum | bl_det_cen_x | bl_det_cen_y | bl_det_wid_x | bl_det_wid_y |\n",
      "+-----------+------------+------------+------------+------------+--------------+--------------+--------------+--------------+\n"
     ]
    },
    {
     "name": "stderr",
     "output_type": "stream",
     "text": [
      "2025-06-04 11:33:16.982 INFO: HTTP Request: GET http://127.0.0.1:34083/api/v1/search//22091bcc-c010-45a7-b8b2-76e0b49eb8de?page%5Boffset%5D=0&fields=&sort= \"HTTP/1.1 200 OK\"\n",
      "2025-06-04 11:33:16.994 INFO: HTTP Request: POST http://127.0.0.1:34083/api/v1/metadata//22091bcc-c010-45a7-b8b2-76e0b49eb8de \"HTTP/1.1 200 OK\"\n",
      "2025-06-04 11:33:17.006 INFO: HTTP Request: POST http://127.0.0.1:34083/api/v1/metadata//22091bcc-c010-45a7-b8b2-76e0b49eb8de/primary \"HTTP/1.1 200 OK\"\n",
      "2025-06-04 11:33:17.017 INFO: HTTP Request: POST http://127.0.0.1:34083/api/v1/metadata//22091bcc-c010-45a7-b8b2-76e0b49eb8de/primary \"HTTP/1.1 200 OK\"\n",
      "2025-06-04 11:33:17.029 INFO: HTTP Request: POST http://127.0.0.1:34083/api/v1/metadata//22091bcc-c010-45a7-b8b2-76e0b49eb8de/primary \"HTTP/1.1 200 OK\"\n",
      "2025-06-04 11:33:17.044 INFO: HTTP Request: PATCH http://127.0.0.1:34083/api/v1/metadata//22091bcc-c010-45a7-b8b2-76e0b49eb8de/primary \"HTTP/1.1 200 OK\"\n",
      "2025-06-04 11:33:17.052 INFO: HTTP Request: GET http://127.0.0.1:34083/api/v1/metadata//22091bcc-c010-45a7-b8b2-76e0b49eb8de/primary/config \"HTTP/1.1 200 OK\"\n",
      "2025-06-04 11:33:17.061 INFO: HTTP Request: GET http://127.0.0.1:34083/api/v1/search/22091bcc-c010-45a7-b8b2-76e0b49eb8de/primary/config?page%5Boffset%5D=0&fields=&sort= \"HTTP/1.1 200 OK\"\n",
      "2025-06-04 11:33:17.081 INFO: HTTP Request: POST http://127.0.0.1:34083/api/v1/metadata/22091bcc-c010-45a7-b8b2-76e0b49eb8de/primary/config \"HTTP/1.1 200 OK\"\n",
      "2025-06-04 11:33:17.091 INFO: HTTP Request: GET http://127.0.0.1:34083/api/v1/metadata/22091bcc-c010-45a7-b8b2-76e0b49eb8de/primary/config/bl_kbh_dsh \"HTTP/1.1 200 OK\"\n",
      "2025-06-04 11:33:17.103 INFO: HTTP Request: PUT http://127.0.0.1:34083/api/v1/table/partition/22091bcc-c010-45a7-b8b2-76e0b49eb8de/primary/config/bl_kbh_dsh?partition=0 \"HTTP/1.1 200 OK\"\n",
      "2025-06-04 11:33:17.111 INFO: HTTP Request: GET http://127.0.0.1:34083/api/v1/search/22091bcc-c010-45a7-b8b2-76e0b49eb8de/primary/config?page%5Boffset%5D=0&fields=&sort= \"HTTP/1.1 200 OK\"\n",
      "2025-06-04 11:33:17.127 INFO: HTTP Request: POST http://127.0.0.1:34083/api/v1/metadata/22091bcc-c010-45a7-b8b2-76e0b49eb8de/primary/config \"HTTP/1.1 200 OK\"\n",
      "2025-06-04 11:33:17.136 INFO: HTTP Request: GET http://127.0.0.1:34083/api/v1/metadata/22091bcc-c010-45a7-b8b2-76e0b49eb8de/primary/config/bl_det \"HTTP/1.1 200 OK\"\n",
      "2025-06-04 11:33:17.146 INFO: HTTP Request: PUT http://127.0.0.1:34083/api/v1/table/partition/22091bcc-c010-45a7-b8b2-76e0b49eb8de/primary/config/bl_det?partition=0 \"HTTP/1.1 200 OK\"\n",
      "2025-06-04 11:33:17.153 INFO: HTTP Request: GET http://127.0.0.1:34083/api/v1/search/22091bcc-c010-45a7-b8b2-76e0b49eb8de/primary/config?page%5Boffset%5D=0&fields=&sort= \"HTTP/1.1 200 OK\"\n",
      "2025-06-04 11:33:17.168 INFO: HTTP Request: POST http://127.0.0.1:34083/api/v1/metadata/22091bcc-c010-45a7-b8b2-76e0b49eb8de/primary/config \"HTTP/1.1 200 OK\"\n",
      "2025-06-04 11:33:17.177 INFO: HTTP Request: GET http://127.0.0.1:34083/api/v1/metadata/22091bcc-c010-45a7-b8b2-76e0b49eb8de/primary/config/bl_kbv_dsv \"HTTP/1.1 200 OK\"\n",
      "2025-06-04 11:33:17.187 INFO: HTTP Request: PUT http://127.0.0.1:34083/api/v1/table/partition/22091bcc-c010-45a7-b8b2-76e0b49eb8de/primary/config/bl_kbv_dsv?partition=0 \"HTTP/1.1 200 OK\"\n",
      "2025-06-04 11:33:17.194 INFO: HTTP Request: GET http://127.0.0.1:34083/api/v1/metadata//22091bcc-c010-45a7-b8b2-76e0b49eb8de/primary/external \"HTTP/1.1 200 OK\"\n",
      "2025-06-04 11:33:17.208 INFO: HTTP Request: POST http://127.0.0.1:34083/api/v1/register/22091bcc-c010-45a7-b8b2-76e0b49eb8de/primary/external \"HTTP/1.1 200 OK\"\n",
      "2025-06-04 11:33:17.217 INFO: HTTP Request: GET http://127.0.0.1:34083/api/v1/metadata/22091bcc-c010-45a7-b8b2-76e0b49eb8de/primary/external/bl_det_image \"HTTP/1.1 200 OK\"\n",
      "2025-06-04 11:33:17.226 INFO: HTTP Request: GET http://127.0.0.1:34083/api/v1/metadata/22091bcc-c010-45a7-b8b2-76e0b49eb8de/primary/external/bl_det_image?include_data_sources=true \"HTTP/1.1 200 OK\"\n",
      "2025-06-04 11:33:17.238 INFO: HTTP Request: PUT http://127.0.0.1:34083/api/v1/data_source/22091bcc-c010-45a7-b8b2-76e0b49eb8de/primary/external/bl_det_image?data_source=253 \"HTTP/1.1 200 OK\"\n"
     ]
    },
    {
     "name": "stdout",
     "output_type": "stream",
     "text": [
      "|         1 | 11:33:17.2 |  31525.134 |  11579.421 |     -1.920 |      186.721 |      130.778 |      322.936 |      245.184 |\n"
     ]
    },
    {
     "name": "stderr",
     "output_type": "stream",
     "text": [
      "2025-06-04 11:33:17.246 INFO: HTTP Request: GET http://127.0.0.1:34083/api/v1/metadata//22091bcc-c010-45a7-b8b2-76e0b49eb8de/primary/internal \"HTTP/1.1 200 OK\"\n",
      "2025-06-04 11:33:17.254 INFO: HTTP Request: GET http://127.0.0.1:34083/api/v1/search/22091bcc-c010-45a7-b8b2-76e0b49eb8de/primary/internal?page%5Boffset%5D=0&fields=&sort= \"HTTP/1.1 200 OK\"\n",
      "2025-06-04 11:33:17.270 INFO: HTTP Request: POST http://127.0.0.1:34083/api/v1/metadata/22091bcc-c010-45a7-b8b2-76e0b49eb8de/primary/internal \"HTTP/1.1 200 OK\"\n",
      "2025-06-04 11:33:17.278 INFO: HTTP Request: GET http://127.0.0.1:34083/api/v1/metadata/22091bcc-c010-45a7-b8b2-76e0b49eb8de/primary/internal/events \"HTTP/1.1 200 OK\"\n",
      "2025-06-04 11:33:17.289 INFO: HTTP Request: PUT http://127.0.0.1:34083/api/v1/table/partition/22091bcc-c010-45a7-b8b2-76e0b49eb8de/primary/internal/events?partition=0 \"HTTP/1.1 200 OK\"\n",
      "2025-06-04 11:33:17.322 INFO: HTTP Request: GET http://127.0.0.1:34083/api/v1/metadata/22091bcc-c010-45a7-b8b2-76e0b49eb8de/primary/external/bl_det_image \"HTTP/1.1 200 OK\"\n",
      "2025-06-04 11:33:17.332 INFO: HTTP Request: GET http://127.0.0.1:34083/api/v1/metadata/22091bcc-c010-45a7-b8b2-76e0b49eb8de/primary/external/bl_det_image?include_data_sources=true \"HTTP/1.1 200 OK\"\n",
      "2025-06-04 11:33:17.345 INFO: HTTP Request: PUT http://127.0.0.1:34083/api/v1/data_source/22091bcc-c010-45a7-b8b2-76e0b49eb8de/primary/external/bl_det_image?data_source=253 \"HTTP/1.1 200 OK\"\n"
     ]
    },
    {
     "name": "stdout",
     "output_type": "stream",
     "text": [
      "|         2 | 11:33:17.3 |  33002.464 |  16828.160 |     12.736 |      230.287 |      156.285 |      288.468 |      255.934 |\n"
     ]
    },
    {
     "name": "stderr",
     "output_type": "stream",
     "text": [
      "2025-06-04 11:33:17.357 INFO: HTTP Request: GET http://127.0.0.1:34083/api/v1/metadata//22091bcc-c010-45a7-b8b2-76e0b49eb8de/primary/internal \"HTTP/1.1 200 OK\"\n",
      "2025-06-04 11:33:17.366 INFO: HTTP Request: GET http://127.0.0.1:34083/api/v1/search/22091bcc-c010-45a7-b8b2-76e0b49eb8de/primary/internal?page%5Boffset%5D=0&fields=&sort= \"HTTP/1.1 200 OK\"\n",
      "2025-06-04 11:33:17.375 INFO: HTTP Request: GET http://127.0.0.1:34083/api/v1/metadata/22091bcc-c010-45a7-b8b2-76e0b49eb8de/primary/internal/events \"HTTP/1.1 200 OK\"\n",
      "2025-06-04 11:33:17.387 INFO: HTTP Request: PATCH http://127.0.0.1:34083/api/v1/table/partition/22091bcc-c010-45a7-b8b2-76e0b49eb8de/primary/internal/events?partition=0 \"HTTP/1.1 200 OK\"\n",
      "2025-06-04 11:33:17.420 INFO: HTTP Request: GET http://127.0.0.1:34083/api/v1/metadata/22091bcc-c010-45a7-b8b2-76e0b49eb8de/primary/external/bl_det_image \"HTTP/1.1 200 OK\"\n",
      "2025-06-04 11:33:17.428 INFO: HTTP Request: GET http://127.0.0.1:34083/api/v1/metadata/22091bcc-c010-45a7-b8b2-76e0b49eb8de/primary/external/bl_det_image?include_data_sources=true \"HTTP/1.1 200 OK\"\n",
      "2025-06-04 11:33:17.440 INFO: HTTP Request: PUT http://127.0.0.1:34083/api/v1/data_source/22091bcc-c010-45a7-b8b2-76e0b49eb8de/primary/external/bl_det_image?data_source=253 \"HTTP/1.1 200 OK\"\n"
     ]
    },
    {
     "name": "stdout",
     "output_type": "stream",
     "text": [
      "|         3 | 11:33:17.4 |  35777.414 |  17942.919 |      3.057 |      217.329 |      128.760 |      306.464 |      218.343 |\n"
     ]
    },
    {
     "name": "stderr",
     "output_type": "stream",
     "text": [
      "2025-06-04 11:33:17.448 INFO: HTTP Request: GET http://127.0.0.1:34083/api/v1/metadata//22091bcc-c010-45a7-b8b2-76e0b49eb8de/primary/internal \"HTTP/1.1 200 OK\"\n",
      "2025-06-04 11:33:17.456 INFO: HTTP Request: GET http://127.0.0.1:34083/api/v1/search/22091bcc-c010-45a7-b8b2-76e0b49eb8de/primary/internal?page%5Boffset%5D=0&fields=&sort= \"HTTP/1.1 200 OK\"\n",
      "2025-06-04 11:33:17.464 INFO: HTTP Request: GET http://127.0.0.1:34083/api/v1/metadata/22091bcc-c010-45a7-b8b2-76e0b49eb8de/primary/internal/events \"HTTP/1.1 200 OK\"\n",
      "2025-06-04 11:33:17.474 INFO: HTTP Request: PATCH http://127.0.0.1:34083/api/v1/table/partition/22091bcc-c010-45a7-b8b2-76e0b49eb8de/primary/internal/events?partition=0 \"HTTP/1.1 200 OK\"\n",
      "2025-06-04 11:33:17.507 INFO: HTTP Request: GET http://127.0.0.1:34083/api/v1/metadata/22091bcc-c010-45a7-b8b2-76e0b49eb8de/primary/external/bl_det_image \"HTTP/1.1 200 OK\"\n",
      "2025-06-04 11:33:17.516 INFO: HTTP Request: GET http://127.0.0.1:34083/api/v1/metadata/22091bcc-c010-45a7-b8b2-76e0b49eb8de/primary/external/bl_det_image?include_data_sources=true \"HTTP/1.1 200 OK\"\n",
      "2025-06-04 11:33:17.527 INFO: HTTP Request: PUT http://127.0.0.1:34083/api/v1/data_source/22091bcc-c010-45a7-b8b2-76e0b49eb8de/primary/external/bl_det_image?data_source=253 \"HTTP/1.1 200 OK\"\n"
     ]
    },
    {
     "name": "stdout",
     "output_type": "stream",
     "text": [
      "|         4 | 11:33:17.5 |  36897.069 |  22195.144 |      2.299 |      203.347 |      106.350 |      340.861 |      182.855 |\n"
     ]
    },
    {
     "name": "stderr",
     "output_type": "stream",
     "text": [
      "2025-06-04 11:33:17.535 INFO: HTTP Request: GET http://127.0.0.1:34083/api/v1/metadata//22091bcc-c010-45a7-b8b2-76e0b49eb8de/primary/internal \"HTTP/1.1 200 OK\"\n",
      "2025-06-04 11:33:17.543 INFO: HTTP Request: GET http://127.0.0.1:34083/api/v1/search/22091bcc-c010-45a7-b8b2-76e0b49eb8de/primary/internal?page%5Boffset%5D=0&fields=&sort= \"HTTP/1.1 200 OK\"\n",
      "2025-06-04 11:33:17.552 INFO: HTTP Request: GET http://127.0.0.1:34083/api/v1/metadata/22091bcc-c010-45a7-b8b2-76e0b49eb8de/primary/internal/events \"HTTP/1.1 200 OK\"\n",
      "2025-06-04 11:33:17.562 INFO: HTTP Request: PATCH http://127.0.0.1:34083/api/v1/table/partition/22091bcc-c010-45a7-b8b2-76e0b49eb8de/primary/internal/events?partition=0 \"HTTP/1.1 200 OK\"\n",
      "2025-06-04 11:33:17.597 INFO: HTTP Request: GET http://127.0.0.1:34083/api/v1/metadata/22091bcc-c010-45a7-b8b2-76e0b49eb8de/primary/external/bl_det_image \"HTTP/1.1 200 OK\"\n",
      "2025-06-04 11:33:17.608 INFO: HTTP Request: GET http://127.0.0.1:34083/api/v1/metadata/22091bcc-c010-45a7-b8b2-76e0b49eb8de/primary/external/bl_det_image?include_data_sources=true \"HTTP/1.1 200 OK\"\n",
      "2025-06-04 11:33:17.622 INFO: HTTP Request: PUT http://127.0.0.1:34083/api/v1/data_source/22091bcc-c010-45a7-b8b2-76e0b49eb8de/primary/external/bl_det_image?data_source=253 \"HTTP/1.1 200 OK\"\n"
     ]
    },
    {
     "name": "stdout",
     "output_type": "stream",
     "text": [
      "|         5 | 11:33:17.6 |  34361.962 |  23658.699 |     -4.268 |      216.304 |      150.959 |      334.767 |      268.718 |\n"
     ]
    },
    {
     "name": "stderr",
     "output_type": "stream",
     "text": [
      "2025-06-04 11:33:17.632 INFO: HTTP Request: GET http://127.0.0.1:34083/api/v1/metadata//22091bcc-c010-45a7-b8b2-76e0b49eb8de/primary/internal \"HTTP/1.1 200 OK\"\n",
      "2025-06-04 11:33:17.643 INFO: HTTP Request: GET http://127.0.0.1:34083/api/v1/search/22091bcc-c010-45a7-b8b2-76e0b49eb8de/primary/internal?page%5Boffset%5D=0&fields=&sort= \"HTTP/1.1 200 OK\"\n",
      "2025-06-04 11:33:17.654 INFO: HTTP Request: GET http://127.0.0.1:34083/api/v1/metadata/22091bcc-c010-45a7-b8b2-76e0b49eb8de/primary/internal/events \"HTTP/1.1 200 OK\"\n",
      "2025-06-04 11:33:17.668 INFO: HTTP Request: PATCH http://127.0.0.1:34083/api/v1/table/partition/22091bcc-c010-45a7-b8b2-76e0b49eb8de/primary/internal/events?partition=0 \"HTTP/1.1 200 OK\"\n",
      "2025-06-04 11:33:17.704 INFO: HTTP Request: GET http://127.0.0.1:34083/api/v1/metadata/22091bcc-c010-45a7-b8b2-76e0b49eb8de/primary/external/bl_det_image \"HTTP/1.1 200 OK\"\n",
      "2025-06-04 11:33:17.714 INFO: HTTP Request: GET http://127.0.0.1:34083/api/v1/metadata/22091bcc-c010-45a7-b8b2-76e0b49eb8de/primary/external/bl_det_image?include_data_sources=true \"HTTP/1.1 200 OK\"\n",
      "2025-06-04 11:33:17.726 INFO: HTTP Request: PUT http://127.0.0.1:34083/api/v1/data_source/22091bcc-c010-45a7-b8b2-76e0b49eb8de/primary/external/bl_det_image?data_source=253 \"HTTP/1.1 200 OK\"\n"
     ]
    },
    {
     "name": "stdout",
     "output_type": "stream",
     "text": [
      "|         6 | 11:33:17.7 |  30175.381 |  28556.255 |      0.036 |      201.390 |      150.331 |      353.767 |      285.901 |\n"
     ]
    },
    {
     "name": "stderr",
     "output_type": "stream",
     "text": [
      "2025-06-04 11:33:17.735 INFO: HTTP Request: GET http://127.0.0.1:34083/api/v1/metadata//22091bcc-c010-45a7-b8b2-76e0b49eb8de/primary/internal \"HTTP/1.1 200 OK\"\n",
      "2025-06-04 11:33:17.744 INFO: HTTP Request: GET http://127.0.0.1:34083/api/v1/search/22091bcc-c010-45a7-b8b2-76e0b49eb8de/primary/internal?page%5Boffset%5D=0&fields=&sort= \"HTTP/1.1 200 OK\"\n",
      "2025-06-04 11:33:17.752 INFO: HTTP Request: GET http://127.0.0.1:34083/api/v1/metadata/22091bcc-c010-45a7-b8b2-76e0b49eb8de/primary/internal/events \"HTTP/1.1 200 OK\"\n",
      "2025-06-04 11:33:17.764 INFO: HTTP Request: PATCH http://127.0.0.1:34083/api/v1/table/partition/22091bcc-c010-45a7-b8b2-76e0b49eb8de/primary/internal/events?partition=0 \"HTTP/1.1 200 OK\"\n",
      "2025-06-04 11:33:17.799 INFO: HTTP Request: GET http://127.0.0.1:34083/api/v1/metadata/22091bcc-c010-45a7-b8b2-76e0b49eb8de/primary/external/bl_det_image \"HTTP/1.1 200 OK\"\n",
      "2025-06-04 11:33:17.809 INFO: HTTP Request: GET http://127.0.0.1:34083/api/v1/metadata/22091bcc-c010-45a7-b8b2-76e0b49eb8de/primary/external/bl_det_image?include_data_sources=true \"HTTP/1.1 200 OK\"\n",
      "2025-06-04 11:33:17.821 INFO: HTTP Request: PUT http://127.0.0.1:34083/api/v1/data_source/22091bcc-c010-45a7-b8b2-76e0b49eb8de/primary/external/bl_det_image?data_source=253 \"HTTP/1.1 200 OK\"\n"
     ]
    },
    {
     "name": "stdout",
     "output_type": "stream",
     "text": [
      "|         7 | 11:33:17.8 |  38565.569 |  27444.146 |     -3.044 |      185.473 |      150.358 |      319.902 |      273.483 |\n"
     ]
    },
    {
     "name": "stderr",
     "output_type": "stream",
     "text": [
      "2025-06-04 11:33:17.831 INFO: HTTP Request: GET http://127.0.0.1:34083/api/v1/metadata//22091bcc-c010-45a7-b8b2-76e0b49eb8de/primary/internal \"HTTP/1.1 200 OK\"\n",
      "2025-06-04 11:33:17.841 INFO: HTTP Request: GET http://127.0.0.1:34083/api/v1/search/22091bcc-c010-45a7-b8b2-76e0b49eb8de/primary/internal?page%5Boffset%5D=0&fields=&sort= \"HTTP/1.1 200 OK\"\n",
      "2025-06-04 11:33:17.851 INFO: HTTP Request: GET http://127.0.0.1:34083/api/v1/metadata/22091bcc-c010-45a7-b8b2-76e0b49eb8de/primary/internal/events \"HTTP/1.1 200 OK\"\n",
      "2025-06-04 11:33:17.862 INFO: HTTP Request: PATCH http://127.0.0.1:34083/api/v1/table/partition/22091bcc-c010-45a7-b8b2-76e0b49eb8de/primary/internal/events?partition=0 \"HTTP/1.1 200 OK\"\n",
      "2025-06-04 11:33:17.897 INFO: HTTP Request: GET http://127.0.0.1:34083/api/v1/metadata/22091bcc-c010-45a7-b8b2-76e0b49eb8de/primary/external/bl_det_image \"HTTP/1.1 200 OK\"\n",
      "2025-06-04 11:33:17.906 INFO: HTTP Request: GET http://127.0.0.1:34083/api/v1/metadata/22091bcc-c010-45a7-b8b2-76e0b49eb8de/primary/external/bl_det_image?include_data_sources=true \"HTTP/1.1 200 OK\"\n",
      "2025-06-04 11:33:17.919 INFO: HTTP Request: PUT http://127.0.0.1:34083/api/v1/data_source/22091bcc-c010-45a7-b8b2-76e0b49eb8de/primary/external/bl_det_image?data_source=253 \"HTTP/1.1 200 OK\"\n"
     ]
    },
    {
     "name": "stdout",
     "output_type": "stream",
     "text": [
      "|         8 | 11:33:17.9 |  41676.639 |  26241.217 |     -1.125 |      128.928 |      124.201 |      196.874 |      149.858 |\n"
     ]
    },
    {
     "name": "stderr",
     "output_type": "stream",
     "text": [
      "2025-06-04 11:33:17.928 INFO: HTTP Request: GET http://127.0.0.1:34083/api/v1/metadata//22091bcc-c010-45a7-b8b2-76e0b49eb8de/primary/internal \"HTTP/1.1 200 OK\"\n",
      "2025-06-04 11:33:17.937 INFO: HTTP Request: GET http://127.0.0.1:34083/api/v1/search/22091bcc-c010-45a7-b8b2-76e0b49eb8de/primary/internal?page%5Boffset%5D=0&fields=&sort= \"HTTP/1.1 200 OK\"\n",
      "2025-06-04 11:33:17.946 INFO: HTTP Request: GET http://127.0.0.1:34083/api/v1/metadata/22091bcc-c010-45a7-b8b2-76e0b49eb8de/primary/internal/events \"HTTP/1.1 200 OK\"\n",
      "2025-06-04 11:33:17.957 INFO: HTTP Request: PATCH http://127.0.0.1:34083/api/v1/table/partition/22091bcc-c010-45a7-b8b2-76e0b49eb8de/primary/internal/events?partition=0 \"HTTP/1.1 200 OK\"\n",
      "2025-06-04 11:33:17.992 INFO: HTTP Request: GET http://127.0.0.1:34083/api/v1/metadata/22091bcc-c010-45a7-b8b2-76e0b49eb8de/primary/external/bl_det_image \"HTTP/1.1 200 OK\"\n",
      "2025-06-04 11:33:18.002 INFO: HTTP Request: GET http://127.0.0.1:34083/api/v1/metadata/22091bcc-c010-45a7-b8b2-76e0b49eb8de/primary/external/bl_det_image?include_data_sources=true \"HTTP/1.1 200 OK\"\n",
      "2025-06-04 11:33:18.014 INFO: HTTP Request: PUT http://127.0.0.1:34083/api/v1/data_source/22091bcc-c010-45a7-b8b2-76e0b49eb8de/primary/external/bl_det_image?data_source=253 \"HTTP/1.1 200 OK\"\n"
     ]
    },
    {
     "name": "stdout",
     "output_type": "stream",
     "text": [
      "|         9 | 11:33:18.0 |  49602.993 |  29779.948 |     -0.249 |      232.319 |      154.865 |      320.705 |      254.296 |\n"
     ]
    },
    {
     "name": "stderr",
     "output_type": "stream",
     "text": [
      "2025-06-04 11:33:18.022 INFO: HTTP Request: GET http://127.0.0.1:34083/api/v1/metadata//22091bcc-c010-45a7-b8b2-76e0b49eb8de/primary/internal \"HTTP/1.1 200 OK\"\n",
      "2025-06-04 11:33:18.031 INFO: HTTP Request: GET http://127.0.0.1:34083/api/v1/search/22091bcc-c010-45a7-b8b2-76e0b49eb8de/primary/internal?page%5Boffset%5D=0&fields=&sort= \"HTTP/1.1 200 OK\"\n",
      "2025-06-04 11:33:18.040 INFO: HTTP Request: GET http://127.0.0.1:34083/api/v1/metadata/22091bcc-c010-45a7-b8b2-76e0b49eb8de/primary/internal/events \"HTTP/1.1 200 OK\"\n",
      "2025-06-04 11:33:18.052 INFO: HTTP Request: PATCH http://127.0.0.1:34083/api/v1/table/partition/22091bcc-c010-45a7-b8b2-76e0b49eb8de/primary/internal/events?partition=0 \"HTTP/1.1 200 OK\"\n",
      "2025-06-04 11:33:18.087 INFO: HTTP Request: GET http://127.0.0.1:34083/api/v1/metadata/22091bcc-c010-45a7-b8b2-76e0b49eb8de/primary/external/bl_det_image \"HTTP/1.1 200 OK\"\n",
      "2025-06-04 11:33:18.096 INFO: HTTP Request: GET http://127.0.0.1:34083/api/v1/metadata/22091bcc-c010-45a7-b8b2-76e0b49eb8de/primary/external/bl_det_image?include_data_sources=true \"HTTP/1.1 200 OK\"\n",
      "2025-06-04 11:33:18.108 INFO: HTTP Request: PUT http://127.0.0.1:34083/api/v1/data_source/22091bcc-c010-45a7-b8b2-76e0b49eb8de/primary/external/bl_det_image?data_source=253 \"HTTP/1.1 200 OK\"\n"
     ]
    },
    {
     "name": "stdout",
     "output_type": "stream",
     "text": [
      "|        10 | 11:33:18.1 |  46172.144 |  24882.544 |      5.544 |      200.320 |      135.922 |      291.631 |      188.945 |\n"
     ]
    },
    {
     "name": "stderr",
     "output_type": "stream",
     "text": [
      "2025-06-04 11:33:18.116 INFO: HTTP Request: GET http://127.0.0.1:34083/api/v1/metadata//22091bcc-c010-45a7-b8b2-76e0b49eb8de/primary/internal \"HTTP/1.1 200 OK\"\n",
      "2025-06-04 11:33:18.124 INFO: HTTP Request: GET http://127.0.0.1:34083/api/v1/search/22091bcc-c010-45a7-b8b2-76e0b49eb8de/primary/internal?page%5Boffset%5D=0&fields=&sort= \"HTTP/1.1 200 OK\"\n",
      "2025-06-04 11:33:18.133 INFO: HTTP Request: GET http://127.0.0.1:34083/api/v1/metadata/22091bcc-c010-45a7-b8b2-76e0b49eb8de/primary/internal/events \"HTTP/1.1 200 OK\"\n",
      "2025-06-04 11:33:18.143 INFO: HTTP Request: PATCH http://127.0.0.1:34083/api/v1/table/partition/22091bcc-c010-45a7-b8b2-76e0b49eb8de/primary/internal/events?partition=0 \"HTTP/1.1 200 OK\"\n",
      "2025-06-04 11:33:18.177 INFO: HTTP Request: GET http://127.0.0.1:34083/api/v1/metadata/22091bcc-c010-45a7-b8b2-76e0b49eb8de/primary/external/bl_det_image \"HTTP/1.1 200 OK\"\n",
      "2025-06-04 11:33:18.185 INFO: HTTP Request: GET http://127.0.0.1:34083/api/v1/metadata/22091bcc-c010-45a7-b8b2-76e0b49eb8de/primary/external/bl_det_image?include_data_sources=true \"HTTP/1.1 200 OK\"\n",
      "2025-06-04 11:33:18.196 INFO: HTTP Request: PUT http://127.0.0.1:34083/api/v1/data_source/22091bcc-c010-45a7-b8b2-76e0b49eb8de/primary/external/bl_det_image?data_source=253 \"HTTP/1.1 200 OK\"\n"
     ]
    },
    {
     "name": "stdout",
     "output_type": "stream",
     "text": [
      "|        11 | 11:33:18.1 |  42548.205 |  20992.057 |     -3.068 |      211.368 |      144.565 |      325.547 |      265.497 |\n"
     ]
    },
    {
     "name": "stderr",
     "output_type": "stream",
     "text": [
      "2025-06-04 11:33:18.205 INFO: HTTP Request: GET http://127.0.0.1:34083/api/v1/metadata//22091bcc-c010-45a7-b8b2-76e0b49eb8de/primary/internal \"HTTP/1.1 200 OK\"\n",
      "2025-06-04 11:33:18.214 INFO: HTTP Request: GET http://127.0.0.1:34083/api/v1/search/22091bcc-c010-45a7-b8b2-76e0b49eb8de/primary/internal?page%5Boffset%5D=0&fields=&sort= \"HTTP/1.1 200 OK\"\n",
      "2025-06-04 11:33:18.223 INFO: HTTP Request: GET http://127.0.0.1:34083/api/v1/metadata/22091bcc-c010-45a7-b8b2-76e0b49eb8de/primary/internal/events \"HTTP/1.1 200 OK\"\n",
      "2025-06-04 11:33:18.234 INFO: HTTP Request: PATCH http://127.0.0.1:34083/api/v1/table/partition/22091bcc-c010-45a7-b8b2-76e0b49eb8de/primary/internal/events?partition=0 \"HTTP/1.1 200 OK\"\n",
      "2025-06-04 11:33:18.268 INFO: HTTP Request: GET http://127.0.0.1:34083/api/v1/metadata/22091bcc-c010-45a7-b8b2-76e0b49eb8de/primary/external/bl_det_image \"HTTP/1.1 200 OK\"\n",
      "2025-06-04 11:33:18.277 INFO: HTTP Request: GET http://127.0.0.1:34083/api/v1/metadata/22091bcc-c010-45a7-b8b2-76e0b49eb8de/primary/external/bl_det_image?include_data_sources=true \"HTTP/1.1 200 OK\"\n",
      "2025-06-04 11:33:18.289 INFO: HTTP Request: PUT http://127.0.0.1:34083/api/v1/data_source/22091bcc-c010-45a7-b8b2-76e0b49eb8de/primary/external/bl_det_image?data_source=253 \"HTTP/1.1 200 OK\"\n"
     ]
    },
    {
     "name": "stdout",
     "output_type": "stream",
     "text": [
      "|        12 | 11:33:18.2 |  43839.964 |  19140.805 |      5.192 |      165.822 |      137.994 |      318.055 |      258.452 |\n"
     ]
    },
    {
     "name": "stderr",
     "output_type": "stream",
     "text": [
      "2025-06-04 11:33:18.297 INFO: HTTP Request: GET http://127.0.0.1:34083/api/v1/metadata//22091bcc-c010-45a7-b8b2-76e0b49eb8de/primary/internal \"HTTP/1.1 200 OK\"\n",
      "2025-06-04 11:33:18.306 INFO: HTTP Request: GET http://127.0.0.1:34083/api/v1/search/22091bcc-c010-45a7-b8b2-76e0b49eb8de/primary/internal?page%5Boffset%5D=0&fields=&sort= \"HTTP/1.1 200 OK\"\n",
      "2025-06-04 11:33:18.315 INFO: HTTP Request: GET http://127.0.0.1:34083/api/v1/metadata/22091bcc-c010-45a7-b8b2-76e0b49eb8de/primary/internal/events \"HTTP/1.1 200 OK\"\n",
      "2025-06-04 11:33:18.326 INFO: HTTP Request: PATCH http://127.0.0.1:34083/api/v1/table/partition/22091bcc-c010-45a7-b8b2-76e0b49eb8de/primary/internal/events?partition=0 \"HTTP/1.1 200 OK\"\n",
      "2025-06-04 11:33:18.359 INFO: HTTP Request: GET http://127.0.0.1:34083/api/v1/metadata/22091bcc-c010-45a7-b8b2-76e0b49eb8de/primary/external/bl_det_image \"HTTP/1.1 200 OK\"\n",
      "2025-06-04 11:33:18.368 INFO: HTTP Request: GET http://127.0.0.1:34083/api/v1/metadata/22091bcc-c010-45a7-b8b2-76e0b49eb8de/primary/external/bl_det_image?include_data_sources=true \"HTTP/1.1 200 OK\"\n",
      "2025-06-04 11:33:18.380 INFO: HTTP Request: PUT http://127.0.0.1:34083/api/v1/data_source/22091bcc-c010-45a7-b8b2-76e0b49eb8de/primary/external/bl_det_image?data_source=253 \"HTTP/1.1 200 OK\"\n"
     ]
    },
    {
     "name": "stdout",
     "output_type": "stream",
     "text": [
      "|        13 | 11:33:18.3 |  47401.080 |  15609.529 |     -1.377 |      199.418 |      166.287 |      386.153 |      228.493 |\n"
     ]
    },
    {
     "name": "stderr",
     "output_type": "stream",
     "text": [
      "2025-06-04 11:33:18.388 INFO: HTTP Request: GET http://127.0.0.1:34083/api/v1/metadata//22091bcc-c010-45a7-b8b2-76e0b49eb8de/primary/internal \"HTTP/1.1 200 OK\"\n",
      "2025-06-04 11:33:18.396 INFO: HTTP Request: GET http://127.0.0.1:34083/api/v1/search/22091bcc-c010-45a7-b8b2-76e0b49eb8de/primary/internal?page%5Boffset%5D=0&fields=&sort= \"HTTP/1.1 200 OK\"\n",
      "2025-06-04 11:33:18.405 INFO: HTTP Request: GET http://127.0.0.1:34083/api/v1/metadata/22091bcc-c010-45a7-b8b2-76e0b49eb8de/primary/internal/events \"HTTP/1.1 200 OK\"\n",
      "2025-06-04 11:33:18.416 INFO: HTTP Request: PATCH http://127.0.0.1:34083/api/v1/table/partition/22091bcc-c010-45a7-b8b2-76e0b49eb8de/primary/internal/events?partition=0 \"HTTP/1.1 200 OK\"\n",
      "2025-06-04 11:33:18.449 INFO: HTTP Request: GET http://127.0.0.1:34083/api/v1/metadata/22091bcc-c010-45a7-b8b2-76e0b49eb8de/primary/external/bl_det_image \"HTTP/1.1 200 OK\"\n",
      "2025-06-04 11:33:18.459 INFO: HTTP Request: GET http://127.0.0.1:34083/api/v1/metadata/22091bcc-c010-45a7-b8b2-76e0b49eb8de/primary/external/bl_det_image?include_data_sources=true \"HTTP/1.1 200 OK\"\n",
      "2025-06-04 11:33:18.470 INFO: HTTP Request: PUT http://127.0.0.1:34083/api/v1/data_source/22091bcc-c010-45a7-b8b2-76e0b49eb8de/primary/external/bl_det_image?data_source=253 \"HTTP/1.1 200 OK\"\n"
     ]
    },
    {
     "name": "stdout",
     "output_type": "stream",
     "text": [
      "|        14 | 11:33:18.4 |  40375.134 |  14243.592 |      2.781 |      220.678 |      218.232 |      270.781 |      130.863 |\n"
     ]
    },
    {
     "name": "stderr",
     "output_type": "stream",
     "text": [
      "2025-06-04 11:33:18.478 INFO: HTTP Request: GET http://127.0.0.1:34083/api/v1/metadata//22091bcc-c010-45a7-b8b2-76e0b49eb8de/primary/internal \"HTTP/1.1 200 OK\"\n",
      "2025-06-04 11:33:18.486 INFO: HTTP Request: GET http://127.0.0.1:34083/api/v1/search/22091bcc-c010-45a7-b8b2-76e0b49eb8de/primary/internal?page%5Boffset%5D=0&fields=&sort= \"HTTP/1.1 200 OK\"\n",
      "2025-06-04 11:33:18.495 INFO: HTTP Request: GET http://127.0.0.1:34083/api/v1/metadata/22091bcc-c010-45a7-b8b2-76e0b49eb8de/primary/internal/events \"HTTP/1.1 200 OK\"\n",
      "2025-06-04 11:33:18.506 INFO: HTTP Request: PATCH http://127.0.0.1:34083/api/v1/table/partition/22091bcc-c010-45a7-b8b2-76e0b49eb8de/primary/internal/events?partition=0 \"HTTP/1.1 200 OK\"\n",
      "2025-06-04 11:33:18.541 INFO: HTTP Request: GET http://127.0.0.1:34083/api/v1/metadata/22091bcc-c010-45a7-b8b2-76e0b49eb8de/primary/external/bl_det_image \"HTTP/1.1 200 OK\"\n",
      "2025-06-04 11:33:18.550 INFO: HTTP Request: GET http://127.0.0.1:34083/api/v1/metadata/22091bcc-c010-45a7-b8b2-76e0b49eb8de/primary/external/bl_det_image?include_data_sources=true \"HTTP/1.1 200 OK\"\n",
      "2025-06-04 11:33:18.562 INFO: HTTP Request: PUT http://127.0.0.1:34083/api/v1/data_source/22091bcc-c010-45a7-b8b2-76e0b49eb8de/primary/external/bl_det_image?data_source=253 \"HTTP/1.1 200 OK\"\n"
     ]
    },
    {
     "name": "stdout",
     "output_type": "stream",
     "text": [
      "|        15 | 11:33:18.5 |  39695.007 |  13045.248 |     -1.809 |      206.747 |      157.111 |      366.483 |      242.096 |\n"
     ]
    },
    {
     "name": "stderr",
     "output_type": "stream",
     "text": [
      "2025-06-04 11:33:18.570 INFO: HTTP Request: GET http://127.0.0.1:34083/api/v1/metadata//22091bcc-c010-45a7-b8b2-76e0b49eb8de/primary/internal \"HTTP/1.1 200 OK\"\n",
      "2025-06-04 11:33:18.579 INFO: HTTP Request: GET http://127.0.0.1:34083/api/v1/search/22091bcc-c010-45a7-b8b2-76e0b49eb8de/primary/internal?page%5Boffset%5D=0&fields=&sort= \"HTTP/1.1 200 OK\"\n",
      "2025-06-04 11:33:18.587 INFO: HTTP Request: GET http://127.0.0.1:34083/api/v1/metadata/22091bcc-c010-45a7-b8b2-76e0b49eb8de/primary/internal/events \"HTTP/1.1 200 OK\"\n",
      "2025-06-04 11:33:18.598 INFO: HTTP Request: PATCH http://127.0.0.1:34083/api/v1/table/partition/22091bcc-c010-45a7-b8b2-76e0b49eb8de/primary/internal/events?partition=0 \"HTTP/1.1 200 OK\"\n",
      "2025-06-04 11:33:18.633 INFO: HTTP Request: GET http://127.0.0.1:34083/api/v1/metadata/22091bcc-c010-45a7-b8b2-76e0b49eb8de/primary/external/bl_det_image \"HTTP/1.1 200 OK\"\n",
      "2025-06-04 11:33:18.642 INFO: HTTP Request: GET http://127.0.0.1:34083/api/v1/metadata/22091bcc-c010-45a7-b8b2-76e0b49eb8de/primary/external/bl_det_image?include_data_sources=true \"HTTP/1.1 200 OK\"\n",
      "2025-06-04 11:33:18.654 INFO: HTTP Request: PUT http://127.0.0.1:34083/api/v1/data_source/22091bcc-c010-45a7-b8b2-76e0b49eb8de/primary/external/bl_det_image?data_source=253 \"HTTP/1.1 200 OK\"\n"
     ]
    },
    {
     "name": "stdout",
     "output_type": "stream",
     "text": [
      "|        16 | 11:33:18.6 |  48383.842 |  10360.336 |      2.117 |      187.032 |      140.754 |      338.747 |      268.054 |\n"
     ]
    },
    {
     "name": "stderr",
     "output_type": "stream",
     "text": [
      "2025-06-04 11:33:18.662 INFO: HTTP Request: GET http://127.0.0.1:34083/api/v1/metadata//22091bcc-c010-45a7-b8b2-76e0b49eb8de/primary/internal \"HTTP/1.1 200 OK\"\n",
      "2025-06-04 11:33:18.670 INFO: HTTP Request: GET http://127.0.0.1:34083/api/v1/search/22091bcc-c010-45a7-b8b2-76e0b49eb8de/primary/internal?page%5Boffset%5D=0&fields=&sort= \"HTTP/1.1 200 OK\"\n",
      "2025-06-04 11:33:18.679 INFO: HTTP Request: GET http://127.0.0.1:34083/api/v1/metadata/22091bcc-c010-45a7-b8b2-76e0b49eb8de/primary/internal/events \"HTTP/1.1 200 OK\"\n",
      "2025-06-04 11:33:18.690 INFO: HTTP Request: PATCH http://127.0.0.1:34083/api/v1/table/partition/22091bcc-c010-45a7-b8b2-76e0b49eb8de/primary/internal/events?partition=0 \"HTTP/1.1 200 OK\"\n"
     ]
    },
    {
     "name": "stdout",
     "output_type": "stream",
     "text": [
      "+-----------+------------+------------+------------+------------+--------------+--------------+--------------+--------------+\n",
      "generator list_scan ['22091bcc'] (scan num: 1)\n",
      "\n",
      "\n",
      "\n"
     ]
    },
    {
     "name": "stderr",
     "output_type": "stream",
     "text": [
      "2025-06-04 11:33:18.803 INFO: HTTP Request: PATCH http://127.0.0.1:34083/api/v1/metadata//22091bcc-c010-45a7-b8b2-76e0b49eb8de \"HTTP/1.1 200 OK\"\n",
      "2025-06-04 11:33:18.813 INFO: HTTP Request: GET http://127.0.0.1:34083/api/v1/metadata/22091bcc-c010-45a7-b8b2-76e0b49eb8de \"HTTP/1.1 200 OK\"\n",
      "2025-06-04 11:33:18.822 INFO: HTTP Request: GET http://127.0.0.1:34083/api/v1/metadata/22091bcc-c010-45a7-b8b2-76e0b49eb8de/primary/internal/events \"HTTP/1.1 200 OK\"\n",
      "2025-06-04 11:33:18.850 INFO: HTTP Request: GET http://127.0.0.1:34083/api/v1/metadata/22091bcc-c010-45a7-b8b2-76e0b49eb8de \"HTTP/1.1 200 OK\"\n",
      "2025-06-04 11:33:18.861 INFO: HTTP Request: GET http://127.0.0.1:34083/api/v1/metadata/22091bcc-c010-45a7-b8b2-76e0b49eb8de/primary/external/bl_det_image \"HTTP/1.1 200 OK\"\n",
      "2025-06-04 11:33:42.133 ERROR: Run aborted\n",
      "Traceback (most recent call last):\n",
      "  File \"/home/jmoylan1/miniconda3/envs/test_tiled_new/lib/python3.11/site-packages/bluesky/run_engine.py\", line 1609, in _run\n",
      "    msg = self._plan_stack[-1].send(resp)\n",
      "          ^^^^^^^^^^^^^^^^^^^^^^^^^^^^^^^\n",
      "  File \"/home/jmoylan1/Documents/Github/blop/src/blop/agent.py\", line 773, in learn\n",
      "    new_table = yield from self.acquire(res[\"points\"])\n",
      "                ^^^^^^^^^^^^^^^^^^^^^^^^^^^^^^^^^^^^^^\n",
      "  File \"/home/jmoylan1/Documents/Github/blop/src/blop/agent.py\", line 867, in acquire\n",
      "    raise error\n",
      "  File \"/home/jmoylan1/Documents/Github/blop/src/blop/agent.py\", line 856, in acquire\n",
      "    self.tiled[uid][\"primary\", \"external\", \"bl_det_image\"].read().astype(float)\n",
      "    ^^^^^^^^^^^^^^^^^^^^^^^^^^^^^^^^^^^^^^^^^^^^^^^^^^^^^^^^^^^^^\n",
      "  File \"/home/jmoylan1/miniconda3/envs/test_tiled_new/lib/python3.11/site-packages/tiled/client/array.py\", line 362, in read\n",
      "    return super().read(slice).compute()\n",
      "           ^^^^^^^^^^^^^^^^^^^^^^^^^^^^^\n",
      "  File \"/home/jmoylan1/miniconda3/envs/test_tiled_new/lib/python3.11/site-packages/dask/base.py\", line 374, in compute\n",
      "    (result,) = compute(self, traverse=False, **kwargs)\n",
      "                ^^^^^^^^^^^^^^^^^^^^^^^^^^^^^^^^^^^^^^^\n",
      "  File \"/home/jmoylan1/miniconda3/envs/test_tiled_new/lib/python3.11/site-packages/dask/base.py\", line 662, in compute\n",
      "    results = schedule(dsk, keys, **kwargs)\n",
      "              ^^^^^^^^^^^^^^^^^^^^^^^^^^^^^\n",
      "  File \"/home/jmoylan1/miniconda3/envs/test_tiled_new/lib/python3.11/site-packages/tiled/client/array.py\", line 97, in _get_block\n",
      "    for attempt in retry_context():\n",
      "  File \"/home/jmoylan1/miniconda3/envs/test_tiled_new/lib/python3.11/site-packages/stamina/_core.py\", line 525, in __iter__\n",
      "    for r in _t.Retrying(\n",
      "  File \"/home/jmoylan1/miniconda3/envs/test_tiled_new/lib/python3.11/site-packages/tenacity/__init__.py\", line 445, in __iter__\n",
      "    do = self.iter(retry_state=retry_state)\n",
      "         ^^^^^^^^^^^^^^^^^^^^^^^^^^^^^^^^^^\n",
      "  File \"/home/jmoylan1/miniconda3/envs/test_tiled_new/lib/python3.11/site-packages/tenacity/__init__.py\", line 378, in iter\n",
      "    result = action(retry_state)\n",
      "             ^^^^^^^^^^^^^^^^^^^\n",
      "  File \"/home/jmoylan1/miniconda3/envs/test_tiled_new/lib/python3.11/site-packages/tenacity/__init__.py\", line 420, in exc_check\n",
      "    raise retry_exc.reraise()\n",
      "          ^^^^^^^^^^^^^^^^^^^\n",
      "  File \"/home/jmoylan1/miniconda3/envs/test_tiled_new/lib/python3.11/site-packages/tenacity/__init__.py\", line 187, in reraise\n",
      "    raise self.last_attempt.result()\n",
      "          ^^^^^^^^^^^^^^^^^^^^^^^^^^\n",
      "  File \"/home/jmoylan1/miniconda3/envs/test_tiled_new/lib/python3.11/site-packages/tiled/client/array.py\", line 99, in _get_block\n",
      "    content = handle_error(\n",
      "              ^^^^^^^^^^^^^\n",
      "  File \"/home/jmoylan1/miniconda3/envs/test_tiled_new/lib/python3.11/site-packages/tiled/client/utils.py\", line 71, in handle_error\n",
      "    raise_for_status(response)\n",
      "  File \"/home/jmoylan1/miniconda3/envs/test_tiled_new/lib/python3.11/site-packages/tiled/client/utils.py\", line 64, in raise_for_status\n",
      "    raise httpx.HTTPStatusError(message, request=request, response=response)\n",
      "httpx.HTTPStatusError: Server error '500 Internal Server Error' for url 'http://127.0.0.1:34083/api/v1/array/block/22091bcc-c010-45a7-b8b2-76e0b49eb8de/primary/external/bl_det_image?block=3%2C0%2C0&expected_shape=1%2C300%2C400'\n",
      "For more information, server admin can search server logs for correlation ID 6042179af80f5e80.\n",
      "2025-06-04 11:33:42.141 INFO: Change state on <bluesky.run_engine.RunEngine object at 0x74b8c8fb19d0> from 'running' -> 'idle'\n"
     ]
    },
    {
     "ename": "HTTPStatusError",
     "evalue": "Server error '500 Internal Server Error' for url 'http://127.0.0.1:34083/api/v1/array/block/22091bcc-c010-45a7-b8b2-76e0b49eb8de/primary/external/bl_det_image?block=3%2C0%2C0&expected_shape=1%2C300%2C400'\nFor more information, server admin can search server logs for correlation ID 6042179af80f5e80.",
     "output_type": "error",
     "traceback": [
      "\u001b[31m---------------------------------------------------------------------------\u001b[39m",
      "\u001b[31mHTTPStatusError\u001b[39m                           Traceback (most recent call last)",
      "\u001b[36mCell\u001b[39m\u001b[36m \u001b[39m\u001b[32mIn[8]\u001b[39m\u001b[32m, line 1\u001b[39m\n\u001b[32m----> \u001b[39m\u001b[32m1\u001b[39m \u001b[43mRE\u001b[49m\u001b[43m(\u001b[49m\u001b[43magent\u001b[49m\u001b[43m.\u001b[49m\u001b[43mlearn\u001b[49m\u001b[43m(\u001b[49m\u001b[33;43m\"\u001b[39;49m\u001b[33;43mqr\u001b[39;49m\u001b[33;43m\"\u001b[39;49m\u001b[43m,\u001b[49m\u001b[43m \u001b[49m\u001b[43mn\u001b[49m\u001b[43m=\u001b[49m\u001b[32;43m16\u001b[39;49m\u001b[43m)\u001b[49m\u001b[43m)\u001b[49m\n",
      "\u001b[36mFile \u001b[39m\u001b[32m~/miniconda3/envs/test_tiled_new/lib/python3.11/site-packages/bluesky/run_engine.py:973\u001b[39m, in \u001b[36mRunEngine.__call__\u001b[39m\u001b[34m(self, *args, **metadata_kw)\u001b[39m\n\u001b[32m    969\u001b[39m         \u001b[38;5;28mself\u001b[39m._blocking_event.set()\n\u001b[32m    971\u001b[39m     \u001b[38;5;28mself\u001b[39m._task_fut.add_done_callback(set_blocking_event)\n\u001b[32m--> \u001b[39m\u001b[32m973\u001b[39m plan_return = \u001b[38;5;28;43mself\u001b[39;49m\u001b[43m.\u001b[49m\u001b[43m_resume_task\u001b[49m\u001b[43m(\u001b[49m\u001b[43minit_func\u001b[49m\u001b[43m=\u001b[49m\u001b[43m_build_task\u001b[49m\u001b[43m)\u001b[49m\n\u001b[32m    975\u001b[39m \u001b[38;5;28;01mif\u001b[39;00m \u001b[38;5;28mself\u001b[39m._interrupted:\n\u001b[32m    976\u001b[39m     \u001b[38;5;28;01mraise\u001b[39;00m RunEngineInterrupted(\u001b[38;5;28mself\u001b[39m.pause_msg) \u001b[38;5;28;01mfrom\u001b[39;00m\u001b[38;5;250m \u001b[39m\u001b[38;5;28;01mNone\u001b[39;00m\n",
      "\u001b[36mFile \u001b[39m\u001b[32m~/miniconda3/envs/test_tiled_new/lib/python3.11/site-packages/bluesky/run_engine.py:1120\u001b[39m, in \u001b[36mRunEngine._resume_task\u001b[39m\u001b[34m(self, init_func)\u001b[39m\n\u001b[32m   1117\u001b[39m             plan_return = \u001b[38;5;28mself\u001b[39m.NO_PLAN_RETURN\n\u001b[32m   1118\u001b[39m         \u001b[38;5;66;03m# otherwise re-raise it\u001b[39;00m\n\u001b[32m   1119\u001b[39m         \u001b[38;5;28;01melse\u001b[39;00m:\n\u001b[32m-> \u001b[39m\u001b[32m1120\u001b[39m             \u001b[38;5;28;01mraise\u001b[39;00m exc\n\u001b[32m   1121\u001b[39m \u001b[38;5;28;01melse\u001b[39;00m:\n\u001b[32m   1122\u001b[39m     plan_return = \u001b[38;5;28;01mNone\u001b[39;00m\n",
      "\u001b[36mFile \u001b[39m\u001b[32m~/miniconda3/envs/test_tiled_new/lib/python3.11/site-packages/bluesky/run_engine.py:1755\u001b[39m, in \u001b[36mRunEngine._run\u001b[39m\u001b[34m(self)\u001b[39m\n\u001b[32m   1753\u001b[39m     exit_reason = \u001b[38;5;28mstr\u001b[39m(err)\n\u001b[32m   1754\u001b[39m     \u001b[38;5;28mself\u001b[39m.log.exception(\u001b[33m\"\u001b[39m\u001b[33mRun aborted\u001b[39m\u001b[33m\"\u001b[39m)\n\u001b[32m-> \u001b[39m\u001b[32m1755\u001b[39m     \u001b[38;5;28;01mraise\u001b[39;00m err\n\u001b[32m   1756\u001b[39m \u001b[38;5;28;01mfinally\u001b[39;00m:\n\u001b[32m   1757\u001b[39m     \u001b[38;5;28;01mif\u001b[39;00m \u001b[38;5;129;01mnot\u001b[39;00m exit_reason:\n",
      "\u001b[36mFile \u001b[39m\u001b[32m~/miniconda3/envs/test_tiled_new/lib/python3.11/site-packages/bluesky/run_engine.py:1609\u001b[39m, in \u001b[36mRunEngine._run\u001b[39m\u001b[34m(self)\u001b[39m\n\u001b[32m   1606\u001b[39m \u001b[38;5;66;03m# The normal case of clean operation\u001b[39;00m\n\u001b[32m   1607\u001b[39m \u001b[38;5;28;01melse\u001b[39;00m:\n\u001b[32m   1608\u001b[39m     \u001b[38;5;28;01mtry\u001b[39;00m:\n\u001b[32m-> \u001b[39m\u001b[32m1609\u001b[39m         msg = \u001b[38;5;28mself\u001b[39m._plan_stack[-\u001b[32m1\u001b[39m].send(resp)\n\u001b[32m   1610\u001b[39m     \u001b[38;5;66;03m# We have exhausted the top generator\u001b[39;00m\n\u001b[32m   1611\u001b[39m     \u001b[38;5;28;01mexcept\u001b[39;00m \u001b[38;5;167;01mStopIteration\u001b[39;00m:\n\u001b[32m   1612\u001b[39m         \u001b[38;5;66;03m# pop the dead generator go back to the top\u001b[39;00m\n",
      "\u001b[36mFile \u001b[39m\u001b[32m~/Documents/Github/blop/src/blop/agent.py:773\u001b[39m, in \u001b[36mAgent.learn\u001b[39m\u001b[34m(self, acqf, n, iterations, upsample, force_train, append, hypers, route, **acqf_kwargs)\u001b[39m\n\u001b[32m    771\u001b[39m \u001b[38;5;28;01mfor\u001b[39;00m single_acqf \u001b[38;5;129;01min\u001b[39;00m np.atleast_1d(acqf):\n\u001b[32m    772\u001b[39m     res = \u001b[38;5;28mself\u001b[39m.ask(n=n, acqf=single_acqf, upsample=upsample, route=route, **acqf_kwargs)\n\u001b[32m--> \u001b[39m\u001b[32m773\u001b[39m     new_table = \u001b[38;5;28;01myield from\u001b[39;00m \u001b[38;5;28mself\u001b[39m.acquire(res[\u001b[33m\"\u001b[39m\u001b[33mpoints\u001b[39m\u001b[33m\"\u001b[39m])\n\u001b[32m    775\u001b[39m     new_table.loc[:, \u001b[33m\"\u001b[39m\u001b[33macqf\u001b[39m\u001b[33m\"\u001b[39m] = res[\u001b[33m\"\u001b[39m\u001b[33macqf_name\u001b[39m\u001b[33m\"\u001b[39m]\n\u001b[32m    776\u001b[39m     x = {key: new_table.loc[:, key].tolist() \u001b[38;5;28;01mfor\u001b[39;00m key \u001b[38;5;129;01min\u001b[39;00m \u001b[38;5;28mself\u001b[39m.dofs.names}\n",
      "\u001b[36mFile \u001b[39m\u001b[32m~/Documents/Github/blop/src/blop/agent.py:867\u001b[39m, in \u001b[36mAgent.acquire\u001b[39m\u001b[34m(self, points)\u001b[39m\n\u001b[32m    865\u001b[39m \u001b[38;5;28;01mexcept\u001b[39;00m \u001b[38;5;167;01mException\u001b[39;00m \u001b[38;5;28;01mas\u001b[39;00m error:\n\u001b[32m    866\u001b[39m     \u001b[38;5;28;01mif\u001b[39;00m \u001b[38;5;129;01mnot\u001b[39;00m \u001b[38;5;28mself\u001b[39m.tolerate_acquisition_errors:\n\u001b[32m--> \u001b[39m\u001b[32m867\u001b[39m         \u001b[38;5;28;01mraise\u001b[39;00m error\n\u001b[32m    868\u001b[39m     logger.warn(\u001b[33mf\u001b[39m\u001b[33m\"\u001b[39m\u001b[33mError in acquisition/digestion: \u001b[39m\u001b[38;5;132;01m{\u001b[39;00m\u001b[38;5;28mrepr\u001b[39m(error)\u001b[38;5;132;01m}\u001b[39;00m\u001b[33m\"\u001b[39m)\n\u001b[32m    869\u001b[39m     products = pd.DataFrame(points)\n",
      "\u001b[36mFile \u001b[39m\u001b[32m~/Documents/Github/blop/src/blop/agent.py:856\u001b[39m, in \u001b[36mAgent.acquire\u001b[39m\u001b[34m(self, points)\u001b[39m\n\u001b[32m    853\u001b[39m \u001b[38;5;28;01mif\u001b[39;00m \u001b[33m\"\u001b[39m\u001b[33mimage_key\u001b[39m\u001b[33m\"\u001b[39m \u001b[38;5;129;01min\u001b[39;00m \u001b[38;5;28mself\u001b[39m.digestion_kwargs:\n\u001b[32m    854\u001b[39m     tiled_data = \u001b[38;5;28mself\u001b[39m.tiled[uid][\u001b[33m\"\u001b[39m\u001b[33mprimary\u001b[39m\u001b[33m\"\u001b[39m, \u001b[33m\"\u001b[39m\u001b[33minternal\u001b[39m\u001b[33m\"\u001b[39m, \u001b[33m\"\u001b[39m\u001b[33mevents\u001b[39m\u001b[33m\"\u001b[39m].read()\n\u001b[32m    855\u001b[39m     tiled_data[\u001b[33m\"\u001b[39m\u001b[33mbl_det_image\u001b[39m\u001b[33m\"\u001b[39m] = \u001b[38;5;28mlist\u001b[39m(\n\u001b[32m--> \u001b[39m\u001b[32m856\u001b[39m         \u001b[38;5;28;43mself\u001b[39;49m\u001b[43m.\u001b[49m\u001b[43mtiled\u001b[49m\u001b[43m[\u001b[49m\u001b[43muid\u001b[49m\u001b[43m]\u001b[49m\u001b[43m[\u001b[49m\u001b[33;43m\"\u001b[39;49m\u001b[33;43mprimary\u001b[39;49m\u001b[33;43m\"\u001b[39;49m\u001b[43m,\u001b[49m\u001b[43m \u001b[49m\u001b[33;43m\"\u001b[39;49m\u001b[33;43mexternal\u001b[39;49m\u001b[33;43m\"\u001b[39;49m\u001b[43m,\u001b[49m\u001b[43m \u001b[49m\u001b[33;43m\"\u001b[39;49m\u001b[33;43mbl_det_image\u001b[39;49m\u001b[33;43m\"\u001b[39;49m\u001b[43m]\u001b[49m\u001b[43m.\u001b[49m\u001b[43mread\u001b[49m\u001b[43m(\u001b[49m\u001b[43m)\u001b[49m.astype(\u001b[38;5;28mfloat\u001b[39m)\n\u001b[32m    857\u001b[39m     )\n\u001b[32m    858\u001b[39m     products = \u001b[38;5;28mself\u001b[39m.digestion(tiled_data, **\u001b[38;5;28mself\u001b[39m.digestion_kwargs)\n\u001b[32m    859\u001b[39m \u001b[38;5;28;01melse\u001b[39;00m:\n",
      "\u001b[36mFile \u001b[39m\u001b[32m~/miniconda3/envs/test_tiled_new/lib/python3.11/site-packages/tiled/client/array.py:362\u001b[39m, in \u001b[36mArrayClient.read\u001b[39m\u001b[34m(self, slice)\u001b[39m\n\u001b[32m    358\u001b[39m \u001b[38;5;28;01mdef\u001b[39;00m\u001b[38;5;250m \u001b[39m\u001b[34mread\u001b[39m(\u001b[38;5;28mself\u001b[39m, \u001b[38;5;28mslice\u001b[39m=\u001b[38;5;28;01mNone\u001b[39;00m):\n\u001b[32m    359\u001b[39m \u001b[38;5;250m    \u001b[39m\u001b[33;03m\"\"\"\u001b[39;00m\n\u001b[32m    360\u001b[39m \u001b[33;03m    Acess the entire array or a slice.\u001b[39;00m\n\u001b[32m    361\u001b[39m \u001b[33;03m    \"\"\"\u001b[39;00m\n\u001b[32m--> \u001b[39m\u001b[32m362\u001b[39m     \u001b[38;5;28;01mreturn\u001b[39;00m \u001b[38;5;28;43msuper\u001b[39;49m\u001b[43m(\u001b[49m\u001b[43m)\u001b[49m\u001b[43m.\u001b[49m\u001b[43mread\u001b[49m\u001b[43m(\u001b[49m\u001b[38;5;28;43mslice\u001b[39;49m\u001b[43m)\u001b[49m\u001b[43m.\u001b[49m\u001b[43mcompute\u001b[49m\u001b[43m(\u001b[49m\u001b[43m)\u001b[49m\n",
      "\u001b[36mFile \u001b[39m\u001b[32m~/miniconda3/envs/test_tiled_new/lib/python3.11/site-packages/dask/base.py:374\u001b[39m, in \u001b[36mDaskMethodsMixin.compute\u001b[39m\u001b[34m(self, **kwargs)\u001b[39m\n\u001b[32m    350\u001b[39m \u001b[38;5;28;01mdef\u001b[39;00m\u001b[38;5;250m \u001b[39m\u001b[34mcompute\u001b[39m(\u001b[38;5;28mself\u001b[39m, **kwargs):\n\u001b[32m    351\u001b[39m \u001b[38;5;250m    \u001b[39m\u001b[33;03m\"\"\"Compute this dask collection\u001b[39;00m\n\u001b[32m    352\u001b[39m \n\u001b[32m    353\u001b[39m \u001b[33;03m    This turns a lazy Dask collection into its in-memory equivalent.\u001b[39;00m\n\u001b[32m   (...)\u001b[39m\u001b[32m    372\u001b[39m \u001b[33;03m    dask.compute\u001b[39;00m\n\u001b[32m    373\u001b[39m \u001b[33;03m    \"\"\"\u001b[39;00m\n\u001b[32m--> \u001b[39m\u001b[32m374\u001b[39m     (result,) = \u001b[43mcompute\u001b[49m\u001b[43m(\u001b[49m\u001b[38;5;28;43mself\u001b[39;49m\u001b[43m,\u001b[49m\u001b[43m \u001b[49m\u001b[43mtraverse\u001b[49m\u001b[43m=\u001b[49m\u001b[38;5;28;43;01mFalse\u001b[39;49;00m\u001b[43m,\u001b[49m\u001b[43m \u001b[49m\u001b[43m*\u001b[49m\u001b[43m*\u001b[49m\u001b[43mkwargs\u001b[49m\u001b[43m)\u001b[49m\n\u001b[32m    375\u001b[39m     \u001b[38;5;28;01mreturn\u001b[39;00m result\n",
      "\u001b[36mFile \u001b[39m\u001b[32m~/miniconda3/envs/test_tiled_new/lib/python3.11/site-packages/dask/base.py:662\u001b[39m, in \u001b[36mcompute\u001b[39m\u001b[34m(traverse, optimize_graph, scheduler, get, *args, **kwargs)\u001b[39m\n\u001b[32m    659\u001b[39m     postcomputes.append(x.__dask_postcompute__())\n\u001b[32m    661\u001b[39m \u001b[38;5;28;01mwith\u001b[39;00m shorten_traceback():\n\u001b[32m--> \u001b[39m\u001b[32m662\u001b[39m     results = \u001b[43mschedule\u001b[49m\u001b[43m(\u001b[49m\u001b[43mdsk\u001b[49m\u001b[43m,\u001b[49m\u001b[43m \u001b[49m\u001b[43mkeys\u001b[49m\u001b[43m,\u001b[49m\u001b[43m \u001b[49m\u001b[43m*\u001b[49m\u001b[43m*\u001b[49m\u001b[43mkwargs\u001b[49m\u001b[43m)\u001b[49m\n\u001b[32m    664\u001b[39m \u001b[38;5;28;01mreturn\u001b[39;00m repack([f(r, *a) \u001b[38;5;28;01mfor\u001b[39;00m r, (f, a) \u001b[38;5;129;01min\u001b[39;00m \u001b[38;5;28mzip\u001b[39m(results, postcomputes)])\n",
      "\u001b[36mFile \u001b[39m\u001b[32m~/miniconda3/envs/test_tiled_new/lib/python3.11/site-packages/tiled/client/array.py:97\u001b[39m, in \u001b[36m_DaskArrayClient._get_block\u001b[39m\u001b[34m(self, block, dtype, shape, slice)\u001b[39m\n\u001b[32m     95\u001b[39m     expected_shape = \u001b[33m\"\u001b[39m\u001b[33mscalar\u001b[39m\u001b[33m\"\u001b[39m\n\u001b[32m     96\u001b[39m url_path = \u001b[38;5;28mself\u001b[39m.item[\u001b[33m\"\u001b[39m\u001b[33mlinks\u001b[39m\u001b[33m\"\u001b[39m][\u001b[33m\"\u001b[39m\u001b[33mblock\u001b[39m\u001b[33m\"\u001b[39m]\n\u001b[32m---> \u001b[39m\u001b[32m97\u001b[39m \u001b[43m\u001b[49m\u001b[38;5;28;43;01mfor\u001b[39;49;00m\u001b[43m \u001b[49m\u001b[43mattempt\u001b[49m\u001b[43m \u001b[49m\u001b[38;5;129;43;01min\u001b[39;49;00m\u001b[43m \u001b[49m\u001b[43mretry_context\u001b[49m\u001b[43m(\u001b[49m\u001b[43m)\u001b[49m\u001b[43m:\u001b[49m\n\u001b[32m     98\u001b[39m \u001b[43m    \u001b[49m\u001b[38;5;28;43;01mwith\u001b[39;49;00m\u001b[43m \u001b[49m\u001b[43mattempt\u001b[49m\u001b[43m:\u001b[49m\n\u001b[32m     99\u001b[39m \u001b[43m        \u001b[49m\u001b[43mcontent\u001b[49m\u001b[43m \u001b[49m\u001b[43m=\u001b[49m\u001b[43m \u001b[49m\u001b[43mhandle_error\u001b[49m\u001b[43m(\u001b[49m\n\u001b[32m    100\u001b[39m \u001b[43m            \u001b[49m\u001b[38;5;28;43mself\u001b[39;49m\u001b[43m.\u001b[49m\u001b[43mcontext\u001b[49m\u001b[43m.\u001b[49m\u001b[43mhttp_client\u001b[49m\u001b[43m.\u001b[49m\u001b[43mget\u001b[49m\u001b[43m(\u001b[49m\n\u001b[32m    101\u001b[39m \u001b[43m                \u001b[49m\u001b[43murl_path\u001b[49m\u001b[43m,\u001b[49m\n\u001b[32m   (...)\u001b[39m\u001b[32m    108\u001b[39m \u001b[43m            \u001b[49m\u001b[43m)\u001b[49m\n\u001b[32m    109\u001b[39m \u001b[43m        \u001b[49m\u001b[43m)\u001b[49m\u001b[43m.\u001b[49m\u001b[43mread\u001b[49m\u001b[43m(\u001b[49m\u001b[43m)\u001b[49m\n",
      "\u001b[36mFile \u001b[39m\u001b[32m~/miniconda3/envs/test_tiled_new/lib/python3.11/site-packages/stamina/_core.py:525\u001b[39m, in \u001b[36m_RetryContextIterator.__iter__\u001b[39m\u001b[34m(self)\u001b[39m\n\u001b[32m    519\u001b[39m     \u001b[38;5;28;01mreturn\u001b[39;00m\n\u001b[32m    521\u001b[39m before_sleep = _make_before_sleep(\n\u001b[32m    522\u001b[39m     \u001b[38;5;28mself\u001b[39m._name, CONFIG, \u001b[38;5;28mself\u001b[39m._args, \u001b[38;5;28mself\u001b[39m._kw, \u001b[38;5;28mself\u001b[39m._cms_to_exit\n\u001b[32m    523\u001b[39m )\n\u001b[32m--> \u001b[39m\u001b[32m525\u001b[39m \u001b[43m\u001b[49m\u001b[38;5;28;43;01mfor\u001b[39;49;00m\u001b[43m \u001b[49m\u001b[43mr\u001b[49m\u001b[43m \u001b[49m\u001b[38;5;129;43;01min\u001b[39;49;00m\u001b[43m \u001b[49m\u001b[43m_t\u001b[49m\u001b[43m.\u001b[49m\u001b[43mRetrying\u001b[49m\u001b[43m(\u001b[49m\n\u001b[32m    526\u001b[39m \u001b[43m    \u001b[49m\u001b[43mbefore\u001b[49m\u001b[43m=\u001b[49m\u001b[38;5;28;43mself\u001b[39;49m\u001b[43m.\u001b[49m\u001b[43m_exit_cms\u001b[49m\u001b[43m,\u001b[49m\n\u001b[32m    527\u001b[39m \u001b[43m    \u001b[49m\u001b[43mbefore_sleep\u001b[49m\u001b[43m=\u001b[49m\u001b[43mbefore_sleep\u001b[49m\u001b[43m,\u001b[49m\n\u001b[32m    528\u001b[39m \u001b[43m    \u001b[49m\u001b[43m*\u001b[49m\u001b[43m*\u001b[49m\u001b[38;5;28;43mself\u001b[39;49m\u001b[43m.\u001b[49m\u001b[43m_apply_maybe_test_mode_to_tenacity_kw\u001b[49m\u001b[43m(\u001b[49m\u001b[43mCONFIG\u001b[49m\u001b[43m.\u001b[49m\u001b[43mtesting\u001b[49m\u001b[43m)\u001b[49m\u001b[43m,\u001b[49m\n\u001b[32m    529\u001b[39m \u001b[43m\u001b[49m\u001b[43m)\u001b[49m\u001b[43m:\u001b[49m\n\u001b[32m    530\u001b[39m \u001b[43m    \u001b[49m\u001b[38;5;28;43;01myield\u001b[39;49;00m\u001b[43m \u001b[49m\u001b[43mAttempt\u001b[49m\u001b[43m(\u001b[49m\u001b[43mr\u001b[49m\u001b[43m,\u001b[49m\u001b[43m \u001b[49m\u001b[38;5;28;43mself\u001b[39;49m\u001b[43m.\u001b[49m\u001b[43m_backoff_for_attempt_number\u001b[49m\u001b[43m)\u001b[49m\n",
      "\u001b[36mFile \u001b[39m\u001b[32m~/miniconda3/envs/test_tiled_new/lib/python3.11/site-packages/tenacity/__init__.py:445\u001b[39m, in \u001b[36mBaseRetrying.__iter__\u001b[39m\u001b[34m(self)\u001b[39m\n\u001b[32m    443\u001b[39m retry_state = RetryCallState(\u001b[38;5;28mself\u001b[39m, fn=\u001b[38;5;28;01mNone\u001b[39;00m, args=(), kwargs={})\n\u001b[32m    444\u001b[39m \u001b[38;5;28;01mwhile\u001b[39;00m \u001b[38;5;28;01mTrue\u001b[39;00m:\n\u001b[32m--> \u001b[39m\u001b[32m445\u001b[39m     do = \u001b[38;5;28;43mself\u001b[39;49m\u001b[43m.\u001b[49m\u001b[43miter\u001b[49m\u001b[43m(\u001b[49m\u001b[43mretry_state\u001b[49m\u001b[43m=\u001b[49m\u001b[43mretry_state\u001b[49m\u001b[43m)\u001b[49m\n\u001b[32m    446\u001b[39m     \u001b[38;5;28;01mif\u001b[39;00m \u001b[38;5;28misinstance\u001b[39m(do, DoAttempt):\n\u001b[32m    447\u001b[39m         \u001b[38;5;28;01myield\u001b[39;00m AttemptManager(retry_state=retry_state)\n",
      "\u001b[36mFile \u001b[39m\u001b[32m~/miniconda3/envs/test_tiled_new/lib/python3.11/site-packages/tenacity/__init__.py:378\u001b[39m, in \u001b[36mBaseRetrying.iter\u001b[39m\u001b[34m(self, retry_state)\u001b[39m\n\u001b[32m    376\u001b[39m result = \u001b[38;5;28;01mNone\u001b[39;00m\n\u001b[32m    377\u001b[39m \u001b[38;5;28;01mfor\u001b[39;00m action \u001b[38;5;129;01min\u001b[39;00m \u001b[38;5;28mself\u001b[39m.iter_state.actions:\n\u001b[32m--> \u001b[39m\u001b[32m378\u001b[39m     result = \u001b[43maction\u001b[49m\u001b[43m(\u001b[49m\u001b[43mretry_state\u001b[49m\u001b[43m)\u001b[49m\n\u001b[32m    379\u001b[39m \u001b[38;5;28;01mreturn\u001b[39;00m result\n",
      "\u001b[36mFile \u001b[39m\u001b[32m~/miniconda3/envs/test_tiled_new/lib/python3.11/site-packages/tenacity/__init__.py:420\u001b[39m, in \u001b[36mBaseRetrying._post_stop_check_actions.<locals>.exc_check\u001b[39m\u001b[34m(rs)\u001b[39m\n\u001b[32m    418\u001b[39m retry_exc = \u001b[38;5;28mself\u001b[39m.retry_error_cls(fut)\n\u001b[32m    419\u001b[39m \u001b[38;5;28;01mif\u001b[39;00m \u001b[38;5;28mself\u001b[39m.reraise:\n\u001b[32m--> \u001b[39m\u001b[32m420\u001b[39m     \u001b[38;5;28;01mraise\u001b[39;00m \u001b[43mretry_exc\u001b[49m\u001b[43m.\u001b[49m\u001b[43mreraise\u001b[49m\u001b[43m(\u001b[49m\u001b[43m)\u001b[49m\n\u001b[32m    421\u001b[39m \u001b[38;5;28;01mraise\u001b[39;00m retry_exc \u001b[38;5;28;01mfrom\u001b[39;00m\u001b[38;5;250m \u001b[39m\u001b[34;01mfut\u001b[39;00m\u001b[34;01m.\u001b[39;00m\u001b[34;01mexception\u001b[39;00m()\n",
      "\u001b[36mFile \u001b[39m\u001b[32m~/miniconda3/envs/test_tiled_new/lib/python3.11/site-packages/tenacity/__init__.py:187\u001b[39m, in \u001b[36mRetryError.reraise\u001b[39m\u001b[34m(self)\u001b[39m\n\u001b[32m    185\u001b[39m \u001b[38;5;28;01mdef\u001b[39;00m\u001b[38;5;250m \u001b[39m\u001b[34mreraise\u001b[39m(\u001b[38;5;28mself\u001b[39m) -> t.NoReturn:\n\u001b[32m    186\u001b[39m     \u001b[38;5;28;01mif\u001b[39;00m \u001b[38;5;28mself\u001b[39m.last_attempt.failed:\n\u001b[32m--> \u001b[39m\u001b[32m187\u001b[39m         \u001b[38;5;28;01mraise\u001b[39;00m \u001b[38;5;28;43mself\u001b[39;49m\u001b[43m.\u001b[49m\u001b[43mlast_attempt\u001b[49m\u001b[43m.\u001b[49m\u001b[43mresult\u001b[49m\u001b[43m(\u001b[49m\u001b[43m)\u001b[49m\n\u001b[32m    188\u001b[39m     \u001b[38;5;28;01mraise\u001b[39;00m \u001b[38;5;28mself\u001b[39m\n",
      "\u001b[36mFile \u001b[39m\u001b[32m~/miniconda3/envs/test_tiled_new/lib/python3.11/site-packages/tiled/client/array.py:99\u001b[39m, in \u001b[36m_DaskArrayClient._get_block\u001b[39m\u001b[34m(self, block, dtype, shape, slice)\u001b[39m\n\u001b[32m     97\u001b[39m \u001b[38;5;28;01mfor\u001b[39;00m attempt \u001b[38;5;129;01min\u001b[39;00m retry_context():\n\u001b[32m     98\u001b[39m     \u001b[38;5;28;01mwith\u001b[39;00m attempt:\n\u001b[32m---> \u001b[39m\u001b[32m99\u001b[39m         content = \u001b[43mhandle_error\u001b[49m\u001b[43m(\u001b[49m\n\u001b[32m    100\u001b[39m \u001b[43m            \u001b[49m\u001b[38;5;28;43mself\u001b[39;49m\u001b[43m.\u001b[49m\u001b[43mcontext\u001b[49m\u001b[43m.\u001b[49m\u001b[43mhttp_client\u001b[49m\u001b[43m.\u001b[49m\u001b[43mget\u001b[49m\u001b[43m(\u001b[49m\n\u001b[32m    101\u001b[39m \u001b[43m                \u001b[49m\u001b[43murl_path\u001b[49m\u001b[43m,\u001b[49m\n\u001b[32m    102\u001b[39m \u001b[43m                \u001b[49m\u001b[43mheaders\u001b[49m\u001b[43m=\u001b[49m\u001b[43m{\u001b[49m\u001b[33;43m\"\u001b[39;49m\u001b[33;43mAccept\u001b[39;49m\u001b[33;43m\"\u001b[39;49m\u001b[43m:\u001b[49m\u001b[43m \u001b[49m\u001b[43mmedia_type\u001b[49m\u001b[43m}\u001b[49m\u001b[43m,\u001b[49m\n\u001b[32m    103\u001b[39m \u001b[43m                \u001b[49m\u001b[43mparams\u001b[49m\u001b[43m=\u001b[49m\u001b[43m{\u001b[49m\n\u001b[32m    104\u001b[39m \u001b[43m                    \u001b[49m\u001b[43m*\u001b[49m\u001b[43m*\u001b[49m\u001b[43mparse_qs\u001b[49m\u001b[43m(\u001b[49m\u001b[43murlparse\u001b[49m\u001b[43m(\u001b[49m\u001b[43murl_path\u001b[49m\u001b[43m)\u001b[49m\u001b[43m.\u001b[49m\u001b[43mquery\u001b[49m\u001b[43m)\u001b[49m\u001b[43m,\u001b[49m\n\u001b[32m    105\u001b[39m \u001b[43m                    \u001b[49m\u001b[33;43m\"\u001b[39;49m\u001b[33;43mblock\u001b[39;49m\u001b[33;43m\"\u001b[39;49m\u001b[43m:\u001b[49m\u001b[43m \u001b[49m\u001b[33;43m\"\u001b[39;49m\u001b[33;43m,\u001b[39;49m\u001b[33;43m\"\u001b[39;49m\u001b[43m.\u001b[49m\u001b[43mjoin\u001b[49m\u001b[43m(\u001b[49m\u001b[38;5;28;43mmap\u001b[39;49m\u001b[43m(\u001b[49m\u001b[38;5;28;43mstr\u001b[39;49m\u001b[43m,\u001b[49m\u001b[43m \u001b[49m\u001b[43mblock\u001b[49m\u001b[43m)\u001b[49m\u001b[43m)\u001b[49m\u001b[43m,\u001b[49m\n\u001b[32m    106\u001b[39m \u001b[43m                    \u001b[49m\u001b[33;43m\"\u001b[39;49m\u001b[33;43mexpected_shape\u001b[39;49m\u001b[33;43m\"\u001b[39;49m\u001b[43m:\u001b[49m\u001b[43m \u001b[49m\u001b[43mexpected_shape\u001b[49m\u001b[43m,\u001b[49m\n\u001b[32m    107\u001b[39m \u001b[43m                \u001b[49m\u001b[43m}\u001b[49m\u001b[43m,\u001b[49m\n\u001b[32m    108\u001b[39m \u001b[43m            \u001b[49m\u001b[43m)\u001b[49m\n\u001b[32m    109\u001b[39m \u001b[43m        \u001b[49m\u001b[43m)\u001b[49m.read()\n\u001b[32m    110\u001b[39m \u001b[38;5;28;01mreturn\u001b[39;00m numpy.frombuffer(content, dtype=dtype).reshape(shape)\n",
      "\u001b[36mFile \u001b[39m\u001b[32m~/miniconda3/envs/test_tiled_new/lib/python3.11/site-packages/tiled/client/utils.py:71\u001b[39m, in \u001b[36mhandle_error\u001b[39m\u001b[34m(response)\u001b[39m\n\u001b[32m     69\u001b[39m     \u001b[38;5;28;01mreturn\u001b[39;00m response\n\u001b[32m     70\u001b[39m \u001b[38;5;28;01mtry\u001b[39;00m:\n\u001b[32m---> \u001b[39m\u001b[32m71\u001b[39m     \u001b[43mraise_for_status\u001b[49m\u001b[43m(\u001b[49m\u001b[43mresponse\u001b[49m\u001b[43m)\u001b[49m\n\u001b[32m     72\u001b[39m \u001b[38;5;28;01mexcept\u001b[39;00m httpx.RequestError:\n\u001b[32m     73\u001b[39m     \u001b[38;5;28;01mraise\u001b[39;00m  \u001b[38;5;66;03m# Nothing to add in this case; just raise it.\u001b[39;00m\n",
      "\u001b[36mFile \u001b[39m\u001b[32m~/miniconda3/envs/test_tiled_new/lib/python3.11/site-packages/tiled/client/utils.py:64\u001b[39m, in \u001b[36mraise_for_status\u001b[39m\u001b[34m(response)\u001b[39m\n\u001b[32m     60\u001b[39m error_type = error_types.get(status_class, \u001b[33m\"\u001b[39m\u001b[33mInvalid status code\u001b[39m\u001b[33m\"\u001b[39m)\n\u001b[32m     61\u001b[39m message = message.format(\n\u001b[32m     62\u001b[39m     response, error_type=error_type, correlation_id=correlation_id\n\u001b[32m     63\u001b[39m )\n\u001b[32m---> \u001b[39m\u001b[32m64\u001b[39m \u001b[38;5;28;01mraise\u001b[39;00m httpx.HTTPStatusError(message, request=request, response=response)\n",
      "\u001b[31mHTTPStatusError\u001b[39m: Server error '500 Internal Server Error' for url 'http://127.0.0.1:34083/api/v1/array/block/22091bcc-c010-45a7-b8b2-76e0b49eb8de/primary/external/bl_det_image?block=3%2C0%2C0&expected_shape=1%2C300%2C400'\nFor more information, server admin can search server logs for correlation ID 6042179af80f5e80."
     ]
    }
   ],
   "source": [
    "RE(agent.learn(\"qr\", n=16))"
   ]
  },
  {
   "cell_type": "code",
   "execution_count": null,
   "id": "10",
   "metadata": {},
   "outputs": [],
   "source": [
    "# RE(agent.learn(\"qr\", n=4, iterations=4))\n"
   ]
  },
  {
   "cell_type": "code",
   "execution_count": null,
   "id": "11",
   "metadata": {},
   "outputs": [],
   "source": [
    "agent.plot_objectives()"
   ]
  }
 ],
 "metadata": {
  "kernelspec": {
   "display_name": "test_tiled_new",
   "language": "python",
   "name": "python3"
  },
  "language_info": {
   "codemirror_mode": {
    "name": "ipython",
    "version": 3
   },
   "file_extension": ".py",
   "mimetype": "text/x-python",
   "name": "python",
   "nbconvert_exporter": "python",
   "pygments_lexer": "ipython3",
   "version": "3.11.11"
  }
 },
 "nbformat": 4,
 "nbformat_minor": 5
}
