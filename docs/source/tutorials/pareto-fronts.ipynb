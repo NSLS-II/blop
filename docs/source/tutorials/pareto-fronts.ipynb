{
 "cells": [
  {
   "attachments": {},
   "cell_type": "markdown",
   "id": "0",
   "metadata": {},
   "source": [
    "# Multiobjective optimization with Pareto front mapping\n",
    "\n",
    "One way to do multiobjective optimization is with Pareto optimization, which explores the set of Pareto-efficient points. A point is Pareto-efficient if there are no other valid points that are better at every objective: it shows the \"trade-off\" between several objectives. "
   ]
  },
  {
   "cell_type": "code",
   "execution_count": null,
   "id": "1",
   "metadata": {},
   "outputs": [],
   "source": [
    "from datetime import datetime\n",
    "\n",
    "import bluesky.plan_stubs as bps  # noqa F401\n",
    "import bluesky.plans as bp  # noqa F401\n",
    "import databroker  # type: ignore[import-untyped]\n",
    "import numpy as np\n",
    "from bluesky.callbacks import best_effort\n",
    "from bluesky.callbacks.tiled_writer import TiledWriter\n",
    "from bluesky.run_engine import RunEngine\n",
    "from databroker import Broker\n",
    "from ophyd.utils import make_dir_tree  # type: ignore[import-untyped]\n",
    "from tiled.client import from_uri  # type: ignore[import-untyped]\n",
    "from tiled.server import SimpleTiledServer\n",
    "\n",
    "from blop.sim import HDF5Handler"
   ]
  },
  {
   "cell_type": "code",
   "execution_count": null,
   "id": "2",
   "metadata": {},
   "outputs": [],
   "source": [
    "tiled_server = SimpleTiledServer()\n",
    "tiled_client = from_uri(tiled_server.uri)\n",
    "tiled_writer = TiledWriter(tiled_client)\n",
    "\n",
    "\n",
    "def setup_re_env(db_type=\"default\", root_dir=\"/default/path\", method=\"tiled\"):\n",
    "    RE = RunEngine({})\n",
    "    bec = best_effort.BestEffortCallback()\n",
    "    RE.subscribe(bec)\n",
    "    _ = make_dir_tree(datetime.now().year, base_path=root_dir)\n",
    "    if method == \"tiled\":\n",
    "        RE.subscribe(tiled_writer)\n",
    "        return {\"RE\": RE, \"db\": tiled_client, \"bec\": bec}\n",
    "    elif method == \"databroker\":\n",
    "        db = Broker.named(db_type)\n",
    "        db.reg.register_handler(\"HDF5\", HDF5Handler, overwrite=True)\n",
    "        try:\n",
    "            databroker.assets.utils.install_sentinels(db.reg.config, version=1)\n",
    "        except Exception:\n",
    "            pass\n",
    "        RE.subscribe(db.insert)\n",
    "        return {\"RE\": RE, \"db\": db, \"bec\": bec, }\n",
    "    else:\n",
    "        raise ValueError(\"The method for data storage used is not supported\")\n",
    "\n",
    "\n",
    "def register_handlers(db, handlers):\n",
    "    for handler_spec, handler_class in handlers.items():\n",
    "        db.reg.register_handler(handler_spec, handler_class, overwrite=True)\n",
    "\n",
    "\n",
    "env = setup_re_env(db_type=\"temp\", root_dir=\"/tmp/blop/sim\", method=\"tiled\")\n",
    "globals().update(env)\n",
    "bec.disable_plots()"
   ]
  },
  {
   "cell_type": "code",
   "execution_count": null,
   "id": "3",
   "metadata": {},
   "outputs": [],
   "source": [
    "from blop import DOF, Agent, Objective\n",
    "\n",
    "def digestion(df):\n",
    "    df[\"f1\"], df[\"f2\"], df[\"c1\"], df[\"c2\"] = [], [], [], []\n",
    "    for (val_x1, val_x2) in zip(df.get(\"x1\"), df.get(\"x2\"), strict=False):\n",
    "        df[\"f1\"].append((val_x1 - 2) ** 2 + (val_x2 - 1) + 2)\n",
    "        df[\"f2\"].append(9 * val_x1 - (val_x2 - 1) + 2)\n",
    "        df[\"c1\"].append(val_x1**2 + val_x2**2)\n",
    "        df[\"c2\"].append(val_x1 - 3 * val_x2 + 10)\n",
    "    return df\n",
    "\n",
    "dofs = [\n",
    "    DOF(name=\"x1\", search_domain=(-20, 20)),\n",
    "    DOF(name=\"x2\", search_domain=(-20, 20)),\n",
    "]\n",
    "\n",
    "\n",
    "objectives = [\n",
    "    Objective(name=\"f1\", target=\"min\"),\n",
    "    Objective(name=\"f2\", target=\"min\"),\n",
    "    Objective(name=\"c1\", constraint=(-np.inf, 225)),\n",
    "    Objective(name=\"c2\", constraint=(-np.inf, 0)),\n",
    "]\n",
    "\n",
    "agent = Agent(\n",
    "    dofs=dofs,\n",
    "    objectives=objectives,\n",
    "    digestion=digestion,\n",
    "    db=db,\n",
    ")\n",
    "\n",
    "(uid,) = RE(agent.learn(\"qr\", n=64))"
   ]
  },
  {
   "cell_type": "markdown",
   "id": "4",
   "metadata": {},
   "source": [
    "We can plot our fitness and constraint objectives to see their models:"
   ]
  },
  {
   "cell_type": "code",
   "execution_count": null,
   "id": "5",
   "metadata": {},
   "outputs": [],
   "source": [
    "agent.plot_objectives()"
   ]
  },
  {
   "cell_type": "markdown",
   "id": "6",
   "metadata": {},
   "source": [
    "We can plot the Pareto front (the set of all Pareto-efficient points), which shows the trade-off between the two fitnesses. The points in blue comprise the Pareto front, while the points in red are either not Pareto efficient or are invalidated by one of the constraints."
   ]
  },
  {
   "cell_type": "code",
   "execution_count": null,
   "id": "7",
   "metadata": {},
   "outputs": [],
   "source": [
    "agent.plot_pareto_front()"
   ]
  },
  {
   "cell_type": "markdown",
   "id": "8",
   "metadata": {},
   "source": [
    "We can explore the Pareto front by choosing a random point on the Pareto front and computing the expected improvement in the hypervolume of all fitness objectives with respect to that point (called the \"reference point\"). All this is done automatically with the `qnehvi` acquisition function:"
   ]
  },
  {
   "cell_type": "code",
   "execution_count": null,
   "id": "9",
   "metadata": {},
   "outputs": [],
   "source": [
    "# this is broken now but is fixed in the next PR\n",
    "# RE(agent.learn(\"qnehvi\", n=4))"
   ]
  }
 ],
 "metadata": {
  "kernelspec": {
   "display_name": "blop",
   "language": "python",
   "name": "python3"
  },
  "language_info": {
   "codemirror_mode": {
    "name": "ipython",
    "version": 3
   },
   "file_extension": ".py",
   "mimetype": "text/x-python",
   "name": "python",
   "nbconvert_exporter": "python",
   "pygments_lexer": "ipython3",
   "version": "3.13.5"
  }
 },
 "nbformat": 4,
 "nbformat_minor": 5
}
