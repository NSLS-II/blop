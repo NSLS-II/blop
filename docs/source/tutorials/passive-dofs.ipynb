{
 "cells": [
  {
   "attachments": {},
   "cell_type": "markdown",
   "id": "0",
   "metadata": {},
   "source": [
    "# Passive degrees of freedom\n",
    "\n"
   ]
  },
  {
   "attachments": {},
   "cell_type": "markdown",
   "id": "1",
   "metadata": {},
   "source": [
    "Passive dofs!"
   ]
  },
  {
   "cell_type": "code",
   "execution_count": null,
   "id": "2",
   "metadata": {},
   "outputs": [],
   "source": [
    "from blop.utils import prepare_re_env  # noqa\n",
    "\n",
    "%run -i $prepare_re_env.__file__ --db-type=temp"
   ]
  },
  {
   "cell_type": "code",
   "execution_count": null,
   "id": "3",
   "metadata": {},
   "outputs": [],
   "source": [
    "from blop import DOF, Agent, Objective\n",
    "from blop.digestion.tests import constrained_himmelblau_digestion\n",
    "from blop.dofs import BrownianMotion\n",
    "\n",
    "dofs = [\n",
    "    DOF(name=\"x1\", search_domain=(-5.0, 5.0)),\n",
    "    DOF(name=\"x2\", search_domain=(-5.0, 5.0)),\n",
    "    DOF(name=\"x3\", search_domain=(-5.0, 5.0), active=False),\n",
    "    DOF(device=BrownianMotion(name=\"brownian1\"), read_only=True),\n",
    "    DOF(device=BrownianMotion(name=\"brownian2\"), read_only=True, active=False),\n",
    "]\n",
    "\n",
    "objectives = [\n",
    "    Objective(name=\"himmelblau\", target=\"min\"),\n",
    "]\n",
    "\n",
    "agent = Agent(\n",
    "    dofs=dofs,\n",
    "    objectives=objectives,\n",
    "    digestion=constrained_himmelblau_digestion,\n",
    "    db=db,\n",
    "    verbose=True,\n",
    "    tolerate_acquisition_errors=False,\n",
    ")\n",
    "\n",
    "RE(agent.learn(\"qr\", n=16))"
   ]
  },
  {
   "cell_type": "code",
   "execution_count": null,
   "id": "4",
   "metadata": {},
   "outputs": [],
   "source": [
    "agent.plot_objectives()"
   ]
  }
 ],
 "metadata": {
  "kernelspec": {
   "display_name": "blop-dev",
   "language": "python",
   "name": "python3"
  },
  "language_info": {
   "codemirror_mode": {
    "name": "ipython",
    "version": 3
   },
   "file_extension": ".py",
   "mimetype": "text/x-python",
   "name": "python",
   "nbconvert_exporter": "python",
   "pygments_lexer": "ipython3",
   "version": "3.12.8"
  }
 },
 "nbformat": 4,
 "nbformat_minor": 5
}
