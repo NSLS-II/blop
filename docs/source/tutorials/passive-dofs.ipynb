{
 "cells": [
  {
   "attachments": {},
   "cell_type": "markdown",
   "id": "0",
   "metadata": {},
   "source": [
    "# Passive degrees of freedom\n",
    "\n"
   ]
  },
  {
   "attachments": {},
   "cell_type": "markdown",
   "id": "1",
   "metadata": {},
   "source": [
    "Passive dofs!"
   ]
  },
  {
   "cell_type": "code",
   "execution_count": null,
   "id": "2",
   "metadata": {},
   "outputs": [],
   "source": [
    "import datetime\n",
    "\n",
    "from bluesky.callbacks import best_effort\n",
    "from bluesky.callbacks.tiled_writer import TiledWriter\n",
    "from bluesky.run_engine import RunEngine\n",
    "from ophyd.utils import make_dir_tree  # Constants\n",
    "from tiled.client import from_uri\n",
    "from tiled.server import SimpleTiledServer\n",
    "\n",
    "SERVER_HOST_LOCATION = \"http://localhost:8000\"\n",
    "DEFAULT_DB_TYPE = \"local\"\n",
    "DEFAULT_ROOT_DIR = \"/tmp/sirepo-bluesky-data\"  # Initialize Tiled client\n",
    "\n",
    "tiled_server = SimpleTiledServer()\n",
    "tiled_client = from_uri(tiled_server.uri)\n",
    "tiled_writer = TiledWriter(tiled_client)  # Function to set up Bluesky environment\n",
    "\n",
    "\n",
    "def setup_re_env(db_type=\"default\", root_dir=\"/default/path\"):\n",
    "    RE = RunEngine({})\n",
    "    bec = best_effort.BestEffortCallback()\n",
    "    RE.subscribe(bec)\n",
    "    RE.subscribe(tiled_writer)\n",
    "    _ = make_dir_tree(datetime.datetime.now().year, base_path=root_dir)\n",
    "    return {\"RE\": RE, \"tiled\": tiled_client, \"bec\": bec}  # Initialize the environment\n",
    "\n",
    "\n",
    "env = setup_re_env(db_type=\"temp\", root_dir=DEFAULT_ROOT_DIR)\n",
    "globals().update(env)"
   ]
  },
  {
   "cell_type": "code",
   "execution_count": null,
   "id": "3",
   "metadata": {},
   "outputs": [],
   "source": [
    "from blop import DOF, Agent, Objective\n",
    "from blop.digestion.tests import constrained_himmelblau_digestion\n",
    "from blop.dofs import BrownianMotion\n",
    "\n",
    "dofs = [\n",
    "    DOF(name=\"x1\", search_domain=(-5.0, 5.0)),\n",
    "    DOF(name=\"x2\", search_domain=(-5.0, 5.0)),\n",
    "    DOF(name=\"x3\", search_domain=(-5.0, 5.0), active=False),\n",
    "    DOF(device=BrownianMotion(name=\"brownian1\"), read_only=True),\n",
    "    DOF(device=BrownianMotion(name=\"brownian2\"), read_only=True, active=False),\n",
    "]\n",
    "\n",
    "objectives = [\n",
    "    Objective(name=\"himmelblau\", target=\"min\"),\n",
    "]\n",
    "\n",
    "agent = Agent(\n",
    "    dofs=dofs,\n",
    "    objectives=objectives,\n",
    "    digestion=constrained_himmelblau_digestion,\n",
    "    tiled=tiled,\n",
    "    verbose=True,\n",
    "    tolerate_acquisition_errors=False,\n",
    ")\n",
    "\n",
    "RE(agent.learn(\"qr\", n=16))"
   ]
  },
  {
   "cell_type": "code",
   "execution_count": null,
   "id": "4",
   "metadata": {},
   "outputs": [],
   "source": [
    "agent.plot_objectives()"
   ]
  },
  {
   "cell_type": "code",
   "execution_count": null,
   "id": "5",
   "metadata": {},
   "outputs": [],
   "source": [
    "tiled_server.close()"
   ]
  },
  {
   "cell_type": "code",
   "execution_count": null,
   "id": "6",
   "metadata": {},
   "outputs": [],
   "source": [
    "tiled_server.close()"
   ]
  }
 ],
 "metadata": {
  "kernelspec": {
   "display_name": "Pixi_Tiled_new",
   "language": "python",
   "name": "tiled-pixi-new"
  },
  "language_info": {
   "codemirror_mode": {
    "name": "ipython",
    "version": 3
   },
   "file_extension": ".py",
   "mimetype": "text/x-python",
   "name": "python",
   "nbconvert_exporter": "python",
   "pygments_lexer": "ipython3",
   "version": "3.11.12"
  }
 },
 "nbformat": 4,
 "nbformat_minor": 5
}
