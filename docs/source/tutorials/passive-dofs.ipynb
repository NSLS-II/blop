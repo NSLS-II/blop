{
 "cells": [
  {
   "attachments": {},
   "cell_type": "markdown",
   "id": "e7b5e13a-c059-441d-8d4f-fff080d52054",
   "metadata": {},
   "source": [
    "# Passive degrees of freedom\n",
    "\n"
   ]
  },
  {
   "attachments": {},
   "cell_type": "markdown",
   "id": "c18ef717",
   "metadata": {},
   "source": [
    "Passive dofs!"
   ]
  },
  {
   "cell_type": "code",
   "execution_count": null,
   "id": "e6bfcf73",
   "metadata": {},
   "outputs": [],
   "source": [
    "%run -i ../../../examples/prepare_bluesky.py # prepare the bluesky environment\n",
    "\n",
    "from bloptools import devices, test_functions\n",
    "from bloptools.bayesian import Agent\n",
    "\n",
    "\n",
    "def digestion(db, uid):\n",
    "    products = db[uid].table()\n",
    "\n",
    "    for index, entry in products.iterrows():\n",
    "        products.loc[index, \"styblinksi-tang\"] = test_functions.styblinski_tang(entry.x - 1e-1 * entry.brownian)\n",
    "\n",
    "    return products\n",
    "\n",
    "\n",
    "dofs = [\n",
    "    {\"device\": devices.DOF(name=\"x\"), \"limits\": (-5, 5), \"kind\": \"active\"},\n",
    "    {\"device\": devices.BrownianMotion(name=\"brownian\"), \"limits\": (-2, 2), \"kind\": \"passive\"},\n",
    "]\n",
    "\n",
    "tasks = [\n",
    "    {\"key\": \"styblinksi-tang\", \"kind\": \"minimize\"},\n",
    "]\n",
    "\n",
    "agent = Agent(\n",
    "    dofs=dofs,\n",
    "    tasks=tasks,\n",
    "    digestion=digestion,\n",
    "    db=db,\n",
    ")\n",
    "\n",
    "RE(agent.initialize(\"qr\", n_init=32))\n",
    "\n",
    "agent.plot_tasks()"
   ]
  }
 ],
 "metadata": {
  "kernelspec": {
   "display_name": "Python 3 (ipykernel)",
   "language": "python",
   "name": "python3"
  },
  "language_info": {
   "codemirror_mode": {
    "name": "ipython",
    "version": 3
   },
   "file_extension": ".py",
   "mimetype": "text/x-python",
   "name": "python",
   "nbconvert_exporter": "python",
   "pygments_lexer": "ipython3",
   "version": "3.9.16"
  },
  "vscode": {
   "interpreter": {
    "hash": "9aced674e98d511b4f654e147532c84d38dc986fe042b1e92785fb9d8df41f75"
   }
  }
 },
 "nbformat": 4,
 "nbformat_minor": 5
}
