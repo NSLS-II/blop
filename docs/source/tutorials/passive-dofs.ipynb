{
 "cells": [
  {
   "attachments": {},
   "cell_type": "markdown",
   "id": "e7b5e13a-c059-441d-8d4f-fff080d52054",
   "metadata": {},
   "source": [
    "# Passive degrees of freedom\n",
    "\n"
   ]
  },
  {
   "attachments": {},
   "cell_type": "markdown",
   "id": "c18ef717",
   "metadata": {},
   "source": [
    "Passive dofs!"
   ]
  },
  {
   "cell_type": "code",
   "execution_count": null,
   "id": "e6bfcf73",
   "metadata": {},
   "outputs": [],
   "source": [
    "from bloptools.utils import prepare_re_env\n",
    "\n",
    "%run -i $prepare_re_env.__file__ --db-type=temp"
   ]
  },
  {
   "cell_type": "code",
   "execution_count": null,
   "id": "4cf5dbd1-e404-4504-b822-3956ca61ef74",
   "metadata": {},
   "outputs": [],
   "source": [
    "import pytest\n",
    "\n",
    "from bloptools.utils import functions\n",
    "from bloptools.bayesian import DOF, Agent, BrownianMotion, Objective\n",
    "\n",
    "\n",
    "@pytest.mark.test_func\n",
    "def test_passive_dofs(RE, db):\n",
    "    dofs = [\n",
    "        DOF(name=\"x1\", limits=(-5.0, 5.0)),\n",
    "        DOF(name=\"x2\", limits=(-5.0, 5.0)),\n",
    "        DOF(name=\"x3\", limits=(-5.0, 5.0), active=False),\n",
    "        DOF(BrownianMotion(name=\"brownian1\"), read_only=True),\n",
    "        DOF(BrownianMotion(name=\"brownian2\"), read_only=True, active=False),\n",
    "    ]\n",
    "\n",
    "    objectives = [\n",
    "        Objective(key=\"himmelblau\", minimize=True),\n",
    "    ]\n",
    "\n",
    "    agent = Agent(\n",
    "        dofs=dofs,\n",
    "        objectives=objectives,\n",
    "        digestion=functions.constrained_himmelblau_digestion,\n",
    "        db=db,\n",
    "        verbose=True,\n",
    "        tolerate_acquisition_errors=False,\n",
    "    )\n",
    "\n",
    "    RE(agent.learn(\"qr\", n=32))\n",
    "\n",
    "    agent.plot_objectives()\n",
    "    agent.plot_acquisition()\n",
    "    agent.plot_validity()"
   ]
  },
  {
   "cell_type": "code",
   "execution_count": null,
   "id": "c88d54d9-c600-41ad-9b3e-53af510d8760",
   "metadata": {},
   "outputs": [],
   "source": [
    "dofs = [\n",
    "    DOF(name=\"x1\", limits=(-5.0, 5.0)),\n",
    "    DOF(name=\"x2\", limits=(-5.0, 5.0)),\n",
    "    DOF(BrownianMotion(name=\"brownian1\"), read_only=True),\n",
    "    DOF(BrownianMotion(name=\"brownian2\"), read_only=True),\n",
    "]\n",
    "\n",
    "objectives = [\n",
    "    Objective(key=\"styblinksi-tang\", minimize=True),\n",
    "]\n",
    "\n",
    "agent = Agent(\n",
    "    dofs=dofs,\n",
    "    objectives=objectives,\n",
    "    digestion=digestion,\n",
    "    db=db,\n",
    "    verbose=True,\n",
    "    tolerate_acquisition_errors=False,\n",
    ")"
   ]
  },
  {
   "cell_type": "code",
   "execution_count": null,
   "id": "ee813fab-1114-46ea-81f9-35c8292b2ba4",
   "metadata": {},
   "outputs": [],
   "source": [
    "agent.plot_objectives()"
   ]
  }
 ],
 "metadata": {
  "kernelspec": {
   "display_name": "Python 3 (ipykernel)",
   "language": "python",
   "name": "python3"
  },
  "language_info": {
   "codemirror_mode": {
    "name": "ipython",
    "version": 3
   },
   "file_extension": ".py",
   "mimetype": "text/x-python",
   "name": "python",
   "nbconvert_exporter": "python",
   "pygments_lexer": "ipython3",
   "version": "3.11.4"
  },
  "vscode": {
   "interpreter": {
    "hash": "b0fa6594d8f4cbf19f97940f81e996739fb7646882a419484c72d19e05852a7e"
   }
  }
 },
 "nbformat": 4,
 "nbformat_minor": 5
}
