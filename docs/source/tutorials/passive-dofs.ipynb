{
 "cells": [
  {
   "attachments": {},
   "cell_type": "markdown",
   "id": "0",
   "metadata": {},
   "source": [
    "# Passive degrees of freedom\n",
    "\n"
   ]
  },
  {
   "attachments": {},
   "cell_type": "markdown",
   "id": "1",
   "metadata": {},
   "source": [
    "Passive dofs!"
   ]
  },
  {
   "cell_type": "code",
   "execution_count": null,
   "id": "2",
   "metadata": {},
   "outputs": [],
   "source": [
    "from datetime import datetime\n",
    "\n",
    "import bluesky.plan_stubs as bps  # noqa F401\n",
    "import bluesky.plans as bp  # noqa F401\n",
    "import databroker  # type: ignore[import-untyped]\n",
    "from bluesky.callbacks import best_effort\n",
    "from bluesky.callbacks.tiled_writer import TiledWriter\n",
    "from bluesky.run_engine import RunEngine\n",
    "from databroker import Broker\n",
    "from ophyd.utils import make_dir_tree  # type: ignore[import-untyped]\n",
    "from tiled.client import from_uri  # type: ignore[import-untyped]\n",
    "from tiled.server import SimpleTiledServer\n",
    "\n",
    "from blop.sim import HDF5Handler"
   ]
  },
  {
   "cell_type": "code",
   "execution_count": null,
   "id": "3",
   "metadata": {},
   "outputs": [],
   "source": [
    "tiled_server = SimpleTiledServer()\n",
    "tiled_client = from_uri(tiled_server.uri)\n",
    "tiled_writer = TiledWriter(tiled_client)\n",
    "\n",
    "\n",
    "def setup_re_env(db_type=\"default\", root_dir=\"/default/path\", method=\"tiled\"):\n",
    "    RE = RunEngine({})\n",
    "    bec = best_effort.BestEffortCallback()\n",
    "    RE.subscribe(bec)\n",
    "    _ = make_dir_tree(datetime.now().year, base_path=root_dir)\n",
    "    if method.lower() == \"tiled\":\n",
    "        RE.subscribe(tiled_writer)\n",
    "        return {\"RE\": RE, \"db\": tiled_client, \"bec\": bec}\n",
    "    elif method.lower() == \"databroker\":\n",
    "        db = Broker.named(db_type)\n",
    "        db.reg.register_handler(\"HDF5\", HDF5Handler, overwrite=True)\n",
    "        try:\n",
    "            databroker.assets.utils.install_sentinels(db.reg.config, version=1)\n",
    "        except Exception:\n",
    "            pass\n",
    "        RE.subscribe(db.insert)\n",
    "        return {\n",
    "            \"RE\": RE,\n",
    "            \"db\": db,\n",
    "            \"bec\": bec,\n",
    "        }\n",
    "    else:\n",
    "        raise ValueError(\"The method for data storage used is not supported\")\n",
    "\n",
    "\n",
    "def register_handlers(db, handlers):\n",
    "    for handler_spec, handler_class in handlers.items():\n",
    "        db.reg.register_handler(handler_spec, handler_class, overwrite=True)\n",
    "\n",
    "\n",
    "env = setup_re_env(db_type=\"temp\", root_dir=\"/tmp/blop/sim\", method=\"databroker\")\n",
    "globals().update(env)\n",
    "bec.disable_plots()"
   ]
  },
  {
   "cell_type": "code",
   "execution_count": null,
   "id": "4",
   "metadata": {},
   "outputs": [],
   "source": [
    "from blop import DOF, Agent, Objective\n",
    "from blop.digestion.tests import constrained_himmelblau_digestion\n",
    "from blop.dofs import BrownianMotion\n",
    "\n",
    "dofs = [\n",
    "    DOF(name=\"x1\", search_domain=(-5.0, 5.0)),\n",
    "    DOF(name=\"x2\", search_domain=(-5.0, 5.0)),\n",
    "    DOF(name=\"x3\", search_domain=(-5.0, 5.0), active=False),\n",
    "    DOF(device=BrownianMotion(name=\"brownian1\"), read_only=True),\n",
    "    DOF(device=BrownianMotion(name=\"brownian2\"), read_only=True, active=False),\n",
    "]\n",
    "\n",
    "objectives = [\n",
    "    Objective(name=\"himmelblau\", target=\"min\"),\n",
    "]\n",
    "\n",
    "agent = Agent(\n",
    "    dofs=dofs,\n",
    "    objectives=objectives,\n",
    "    digestion=constrained_himmelblau_digestion,\n",
    "    db=db,\n",
    "    verbose=True,\n",
    "    tolerate_acquisition_errors=False,\n",
    ")\n",
    "\n",
    "RE(agent.learn(\"qr\", n=16))"
   ]
  },
  {
   "cell_type": "code",
   "execution_count": null,
   "id": "5",
   "metadata": {},
   "outputs": [],
   "source": [
    "agent.plot_objectives()"
   ]
  }
 ],
 "metadata": {
  "kernelspec": {
   "display_name": "blop",
   "language": "python",
   "name": "python3"
  },
  "language_info": {
   "codemirror_mode": {
    "name": "ipython",
    "version": 3
   },
   "file_extension": ".py",
   "mimetype": "text/x-python",
   "name": "python",
   "nbconvert_exporter": "python",
   "pygments_lexer": "ipython3",
   "version": "3.13.5"
  }
 },
 "nbformat": 4,
 "nbformat_minor": 5
}
