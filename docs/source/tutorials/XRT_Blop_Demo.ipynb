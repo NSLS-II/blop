{
 "cells": [
  {
   "cell_type": "markdown",
   "id": "0",
   "metadata": {},
   "source": [
    "# XRT Blop Demo"
   ]
  },
  {
   "cell_type": "code",
   "execution_count": null,
   "id": "1",
   "metadata": {},
   "outputs": [],
   "source": [
    "%run -i prepare_re_env.py --db-type=temp\n",
    "bec.disable_plots()"
   ]
  },
  {
   "cell_type": "code",
   "execution_count": null,
   "id": "2",
   "metadata": {},
   "outputs": [],
   "source": [
    "import os\n",
    "\n",
    "# os.environ[\"EPICS_CA_ADDR_LIST\"] = \"192.168.152.15\"\n",
    "os.environ[\"EPICS_CA_ADDR_LIST\"] = \"127.0.0.1\"\n",
    "os.environ[\"EPICS_CA_AUTO_ADDR_LIST\"] = \"NO\"\n",
    "# import matplotlib as mpl\n",
    "# mpl.use(\"Agg\")\n",
    "import time\n",
    "\n",
    "from matplotlib import pyplot as plt\n",
    "\n",
    "# sys.path.append('/home/rchernikov/github/blop/src')\n",
    "from blop import DOF, Agent, Objective\n",
    "from blop.digestion import beam_stats_digestion\n",
    "\n",
    "# sys.path.append(os.path.join('..', '..', '..'))\n",
    "# from blop.utils import prepare_re_env as pre\n",
    "\n",
    "# from blop.sim import xrt_beamline as Beamline\n",
    "from xrt_beamline import Beamline"
   ]
  },
  {
   "cell_type": "code",
   "execution_count": null,
   "id": "3",
   "metadata": {},
   "outputs": [],
   "source": [
    "plt.ion()\n",
    "\n",
    "# kwargs_re = dict(db_type=\"temp\", root_dir=pre.DEFAULT_ROOT_DIR)\n",
    "# ret = pre.re_env(**kwargs_re)\n",
    "\n",
    "# RE = ret[\"RE\"]\n",
    "# db = ret[\"db\"]\n",
    "# bec = ret[\"bec\"]\n",
    "\n",
    "# h_opt = 4.375\n",
    "# dh = 0.075\n",
    "\n",
    "h_opt = 0\n",
    "dh = 5\n",
    "\n",
    "R1, dR1 = 40000, 10000\n",
    "R2, dR2 = 20000, 10000"
   ]
  },
  {
   "cell_type": "code",
   "execution_count": null,
   "id": "4",
   "metadata": {},
   "outputs": [],
   "source": [
    "beamline = Beamline(name=\"bl\")\n",
    "time.sleep(1)\n",
    "dofs = [\n",
    "    DOF(description=\"KBV R\", device=beamline.kbv_dsv, search_domain=(R1 - dR1, R1 + dR1)),\n",
    "    DOF(description=\"KBH R\", device=beamline.kbh_dsh, search_domain=(R2 - dR2, R2 + dR2)),\n",
    "]"
   ]
  },
  {
   "cell_type": "code",
   "execution_count": null,
   "id": "5",
   "metadata": {},
   "outputs": [],
   "source": [
    "objectives = [\n",
    "    Objective(name=\"bl_det_sum\", target=\"max\", transform=\"log\", trust_domain=(20, 1e12)),\n",
    "    Objective(\n",
    "        name=\"bl_det_wid_x\",\n",
    "        target=\"min\",\n",
    "        transform=\"log\",\n",
    "        # trust_domain=(0, 1e12),\n",
    "        latent_groups=[(\"bl_kbh_dsh\", \"bl_kbv_dsv\")],\n",
    "    ),\n",
    "    Objective(\n",
    "        name=\"bl_det_wid_y\",\n",
    "        target=\"min\",\n",
    "        transform=\"log\",\n",
    "        # trust_domain=(0, 1e12),\n",
    "        latent_groups=[(\"bl_kbh_dsh\", \"bl_kbv_dsv\")],\n",
    "    ),\n",
    "]"
   ]
  },
  {
   "cell_type": "code",
   "execution_count": null,
   "id": "6",
   "metadata": {},
   "outputs": [],
   "source": [
    "agent = Agent(\n",
    "    dofs=dofs,\n",
    "    objectives=objectives,\n",
    "    detectors=[beamline.det],\n",
    "    digestion=beam_stats_digestion,\n",
    "    digestion_kwargs={\"image_key\": \"bl_det_image\"},\n",
    "    verbose=True,\n",
    "    db=db,\n",
    "    tolerate_acquisition_errors=False,\n",
    "    enforce_all_objectives_valid=True,\n",
    "    train_every=3,\n",
    ")"
   ]
  },
  {
   "cell_type": "code",
   "execution_count": null,
   "id": "7",
   "metadata": {},
   "outputs": [],
   "source": [
    "RE(agent.learn(\"qr\", n=16))\n",
    "RE(agent.learn(\"qei\", n=16, iterations=4))"
   ]
  },
  {
   "cell_type": "code",
   "execution_count": null,
   "id": "8",
   "metadata": {},
   "outputs": [],
   "source": [
    "agent.plot_objectives(axes=(0, 1))"
   ]
  }
 ],
 "metadata": {
  "kernelspec": {
   "display_name": "Python 3 (ipykernel)",
   "language": "python",
   "name": "python3"
  },
  "language_info": {
   "codemirror_mode": {
    "name": "ipython",
    "version": 3
   },
   "file_extension": ".py",
   "mimetype": "text/x-python",
   "name": "python",
   "nbconvert_exporter": "python",
   "pygments_lexer": "ipython3",
   "version": "3.11.0"
  }
 },
 "nbformat": 4,
 "nbformat_minor": 5
}
