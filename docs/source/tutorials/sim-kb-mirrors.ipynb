{
 "cells": [
  {
   "cell_type": "markdown",
   "metadata": {},
   "source": [
    "# Simulated KB Mirror Demo\n",
    "\n",
    "This notebook introduces the use of Blop to tune a KB mirror pair to optimize the quality of a simulated beam read by a detector.\n",
    "\n",
    "Blop uses [Ax](https://ax.dev) as its optimization and experiment tracking backend.\n",
    "\n",
    "Ax provides:\n",
    "- Experiment tracking\n",
    "- Analysis & visualization\n",
    "- Bayesian optimization (through [BoTorch](https://botorch.org/))\n",
    "\n",
    "Blop provides:\n",
    "- Native integration with [Bluesky & its ecosystem](https://blueskyproject.io)\n",
    "- Specialized kernels and methods common to beamline optimization problems\n",
    "\n",
    "These features make it simple to optimize your beamline using both Bluesky & Ax."
   ]
  },
  {
   "cell_type": "markdown",
   "metadata": {},
   "source": [
    "## Preparing a test environment\n",
    "\n",
    "Here we prepare the `RunEngine`."
   ]
  },
  {
   "cell_type": "code",
   "execution_count": null,
   "metadata": {},
   "outputs": [],
   "source": [
    "from datetime import datetime\n",
    "\n",
    "import bluesky.plan_stubs as bps  # noqa F401\n",
    "import bluesky.plans as bp  # noqa F401\n",
    "import databroker  # type: ignore[import-untyped]\n",
    "import matplotlib.pyplot as plt\n",
    "from bluesky.callbacks import best_effort\n",
    "from bluesky.callbacks.tiled_writer import TiledWriter\n",
    "from bluesky.run_engine import RunEngine\n",
    "from databroker import Broker\n",
    "from ophyd.utils import make_dir_tree  # type: ignore[import-untyped]\n",
    "from tiled.client import from_uri  # type: ignore[import-untyped]\n",
    "from tiled.client.container import Container\n",
    "from tiled.server import SimpleTiledServer\n",
    "\n",
    "from blop.sim import HDF5Handler\n",
    "from blop.sim.beamline import DatabrokerBeamline, TiledBeamline\n",
    "\n",
    "DETECTOR_STORAGE = \"/tmp/blop/sim\""
   ]
  },
  {
   "cell_type": "code",
   "execution_count": null,
   "metadata": {},
   "outputs": [],
   "source": [
    "tiled_server = SimpleTiledServer(readable_storage=[DETECTOR_STORAGE])\n",
    "tiled_client = from_uri(tiled_server.uri)\n",
    "tiled_writer = TiledWriter(tiled_client)\n",
    "\n",
    "\n",
    "def setup_re_env(db_type=\"default\", root_dir=\"/default/path\", method=\"tiled\"):\n",
    "    RE = RunEngine({})\n",
    "    bec = best_effort.BestEffortCallback()\n",
    "    RE.subscribe(bec)\n",
    "    _ = make_dir_tree(datetime.now().year, base_path=root_dir)\n",
    "    if method.lower() == \"tiled\":\n",
    "        RE.subscribe(tiled_writer)\n",
    "        return {\"RE\": RE, \"db\": tiled_client, \"bec\": bec}\n",
    "    elif method.lower() == \"databroker\":\n",
    "        db = Broker.named(db_type)\n",
    "        db.reg.register_handler(\"HDF5\", HDF5Handler, overwrite=True)\n",
    "        try:\n",
    "            databroker.assets.utils.install_sentinels(db.reg.config, version=1)\n",
    "        except Exception:\n",
    "            pass\n",
    "        RE.subscribe(db.insert)\n",
    "        return {\"RE\": RE, \"db\": db, \"bec\": bec, }\n",
    "    else:\n",
    "        raise ValueError(\"The method for data storage used is not supported\")\n",
    "\n",
    "\n",
    "def register_handlers(db, handlers):\n",
    "    for handler_spec, handler_class in handlers.items():\n",
    "        db.reg.register_handler(handler_spec, handler_class, overwrite=True)\n",
    "\n",
    "\n",
    "env = setup_re_env(db_type=\"temp\", root_dir=\"/tmp/blop/sim\", method=\"tiled\")\n",
    "globals().update(env)\n",
    "bec.disable_plots()"
   ]
  },
  {
   "cell_type": "markdown",
   "metadata": {},
   "source": [
    "## Simulated beamline with KB mirror pair\n",
    "\n",
    "Here we describe an analytical simulated beamline with a [KB mirror](https://en.wikipedia.org/wiki/Kirkpatrick%E2%80%93Baez_mirror) pair. This is implemented as an [Ophyd](https://blueskyproject.io/ophyd/) device for ease-of-use with Bluesky."
   ]
  },
  {
   "cell_type": "code",
   "execution_count": null,
   "metadata": {},
   "outputs": [],
   "source": [
    "if isinstance(db, Container):\n",
    "    beamline = TiledBeamline(name=\"bl\")\n",
    "elif isinstance(db, databroker.v1.Broker):\n",
    "    beamline = DatabrokerBeamline(name=\"bl\")\n"
   ]
  },
  {
   "cell_type": "markdown",
   "metadata": {},
   "source": [
    "## Create a Blop-Ax experiment\n",
    "\n",
    "Now we can define the experiment we plan to run.\n",
    "\n",
    "This involves setting 4 parameters that simulate motor positions controlling two KB mirrors. The objectives of the experiment are to maximize the beam intensity while minimizing the area of the beam."
   ]
  },
  {
   "cell_type": "code",
   "execution_count": null,
   "metadata": {},
   "outputs": [],
   "source": [
    "from blop.ax import Agent\n",
    "from blop.dofs import DOF\n",
    "from blop.objectives import Objective\n",
    "\n",
    "dofs = [\n",
    "    DOF(movable=beamline.kbv_dsv, type=\"continuous\", search_domain=(-5.0, 5.0)),\n",
    "    DOF(movable=beamline.kbv_usv, type=\"continuous\", search_domain=(-5.0, 5.0)),\n",
    "    DOF(movable=beamline.kbh_dsh, type=\"continuous\", search_domain=(-5.0, 5.0)),\n",
    "    DOF(movable=beamline.kbh_ush, type=\"continuous\", search_domain=(-5.0, 5.0)),\n",
    "]\n",
    "\n",
    "objectives = [\n",
    "    Objective(name=\"bl_det_sum\", target=\"max\"),\n",
    "    Objective(name=\"bl_det_wid_x\", target=\"min\"),\n",
    "    Objective(name=\"bl_det_wid_y\", target=\"min\"),\n",
    "]\n",
    "\n",
    "agent = Agent(\n",
    "    readables=[beamline.det],\n",
    "    dofs=dofs,\n",
    "    objectives=objectives,\n",
    "    db=db,\n",
    ")\n",
    "agent.configure_experiment(name=\"test_ax_agent\", description=\"Test the AxAgent\")"
   ]
  },
  {
   "cell_type": "markdown",
   "metadata": {},
   "source": [
    "## Optimization\n",
    "\n",
    "With all of our experimental setup done, we can optimize the DOFs to satisfy our objectives.\n",
    "\n",
    "For this example, Ax will optimize the 4 motor positions to produce the greatest intensity beam with the smallest beam width and height (smallest area). It does this by first running a couple of trials which are random samples, then the remainder using Bayesian optimization through BoTorch."
   ]
  },
  {
   "cell_type": "code",
   "execution_count": null,
   "metadata": {},
   "outputs": [],
   "source": [
    "RE(agent.learn(iterations=25, n=1))"
   ]
  },
  {
   "cell_type": "markdown",
   "metadata": {},
   "source": [
    "## Analyze Results\n",
    "\n",
    "We can start by summarizing each step of the optimization procedure and whether trials were successful or not."
   ]
  },
  {
   "cell_type": "code",
   "execution_count": null,
   "metadata": {},
   "outputs": [],
   "source": [
    "agent.summarize()"
   ]
  },
  {
   "cell_type": "markdown",
   "metadata": {},
   "source": [
    "### Plotting\n",
    "\n",
    "We also can plot slices of the parameter space with respect to our objectives."
   ]
  },
  {
   "cell_type": "code",
   "execution_count": null,
   "metadata": {},
   "outputs": [],
   "source": [
    "from ax.analysis import SlicePlot\n",
    "\n",
    "_ = agent.compute_analyses(analyses=[SlicePlot(\"bl_kbv_dsv\", \"bl_det_sum\")])"
   ]
  },
  {
   "cell_type": "code",
   "execution_count": null,
   "metadata": {},
   "outputs": [],
   "source": [
    "_ = agent.compute_analyses(analyses=[SlicePlot(\"bl_kbv_dsv\", \"bl_det_wid_x\")])"
   ]
  },
  {
   "cell_type": "markdown",
   "metadata": {},
   "source": [
    "### More comprehensive analyses\n",
    "\n",
    "Ax provides many analysis tools that can help understand optimization results."
   ]
  },
  {
   "cell_type": "code",
   "execution_count": null,
   "metadata": {},
   "outputs": [],
   "source": [
    "from ax.analysis import TopSurfacesAnalysis\n",
    "\n",
    "_ = agent.compute_analyses(analyses=[TopSurfacesAnalysis(\"bl_det_sum\")])"
   ]
  },
  {
   "cell_type": "markdown",
   "metadata": {},
   "source": [
    "### Visualizing the optimal beam\n",
    "\n",
    "Below we get the optimal parameters, move the motors to their optimal positions, and observe the resulting beam."
   ]
  },
  {
   "cell_type": "code",
   "execution_count": null,
   "metadata": {},
   "outputs": [],
   "source": [
    "optimal_parameters = next(iter(agent.client.get_pareto_frontier()))[0]\n",
    "optimal_parameters"
   ]
  },
  {
   "cell_type": "code",
   "execution_count": null,
   "metadata": {},
   "outputs": [],
   "source": [
    "from bluesky.plans import list_scan\n",
    "\n",
    "scan_motor_params = []\n",
    "for motor in [beamline.kbv_dsv, beamline.kbv_usv, beamline.kbh_dsh, beamline.kbh_ush]:\n",
    "    scan_motor_params.append(motor)\n",
    "    scan_motor_params.append([optimal_parameters[motor.name]])\n",
    "uid = RE(list_scan([beamline.det], *scan_motor_params))"
   ]
  },
  {
   "cell_type": "code",
   "execution_count": null,
   "metadata": {},
   "outputs": [],
   "source": [
    "\n",
    "image = db[uid[0]][\"streams\"][\"primary\"][\"bl_det_image\"].read().squeeze()\n",
    "plt.imshow(image)\n",
    "plt.colorbar()\n",
    "plt.show()"
   ]
  }
 ],
 "metadata": {
  "kernelspec": {
   "display_name": "dev",
   "language": "python",
   "name": "python3"
  },
  "language_info": {
   "codemirror_mode": {
    "name": "ipython",
    "version": 3
   },
   "file_extension": ".py",
   "mimetype": "text/x-python",
   "name": "python",
   "nbconvert_exporter": "python",
   "pygments_lexer": "ipython3",
   "version": "3.12.11"
  }
 },
 "nbformat": 4,
 "nbformat_minor": 2
}
