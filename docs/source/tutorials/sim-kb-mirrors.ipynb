{
 "cells": [
  {
   "cell_type": "markdown",
   "metadata": {},
   "source": [
    "# Simulated KB Mirror Demo\n",
    "\n",
    "This notebook introduces the use of Blop to tune a KB mirror pair to optimize the quality of a simulated beam read by a detector.\n",
    "\n",
    "Blop uses [Ax](https://ax.dev) as its optimization and experiment tracking backend.\n",
    "\n",
    "Ax provides:\n",
    "- Experiment tracking\n",
    "- Analysis & visualization\n",
    "- Bayesian optimization (through [BoTorch](https://botorch.org/))\n",
    "\n",
    "Blop provides:\n",
    "- Native integration with [Bluesky & its ecosystem](https://blueskyproject.io)\n",
    "- Specialized kernels and methods common to beamline optimization problems\n",
    "\n",
    "These features make it simple to optimize your beamline using both Bluesky & Ax."
   ]
  },
  {
   "cell_type": "markdown",
   "metadata": {},
   "source": [
    "## Preparing a test environment\n",
    "\n",
    "Here we prepare the `RunEngine` and data service `Databroker`."
   ]
  },
  {
   "cell_type": "code",
   "execution_count": null,
   "metadata": {},
   "outputs": [],
   "source": [
    "from blop.utils import prepare_re_env  # noqa\n",
    "\n",
    "%run -i $prepare_re_env.__file__ --db-type=temp\n",
    "# Disable the standard plots that Bluesky creates\n",
    "bec.disable_plots()\n",
    "\n",
    "import plotly.io as pio\n",
    "pio.renderers.default = \"notebook\""
   ]
  },
  {
   "cell_type": "markdown",
   "metadata": {},
   "source": [
    "## Simulated beamline with KB mirror pair\n",
    "\n",
    "Here we describe an analytical simulated beamline with a [KB mirror](https://en.wikipedia.org/wiki/Kirkpatrick%E2%80%93Baez_mirror) pair. This is implemented as an [Ophyd](https://blueskyproject.io/ophyd/) device for ease-of-use with Bluesky."
   ]
  },
  {
   "cell_type": "code",
   "execution_count": null,
   "metadata": {},
   "outputs": [],
   "source": [
    "from blop.sim import Beamline\n",
    "\n",
    "beamline = Beamline(name=\"bl\")\n",
    "beamline.det.noise.put(False)"
   ]
  },
  {
   "cell_type": "markdown",
   "metadata": {},
   "source": [
    "## Create a Blop-Ax experiment\n",
    "\n",
    "Now we can define the experiment we plan to run.\n",
    "\n",
    "This involves setting 4 parameters that simulate motor positions controlling two KB mirrors. The objectives of the experiment are to maximize the beam intensity while minimizing the area of the beam."
   ]
  },
  {
   "cell_type": "code",
   "execution_count": null,
   "metadata": {},
   "outputs": [],
   "source": [
    "from blop.ax import Agent\n",
    "from blop.dofs import DOF\n",
    "from blop.objectives import Objective\n",
    "\n",
    "dofs = [\n",
    "    DOF(device=beamline.kbv_dsv, type=\"continuous\", search_domain=(-5.0, 5.0)),\n",
    "    DOF(device=beamline.kbv_usv, type=\"continuous\", search_domain=(-5.0, 5.0)),\n",
    "    DOF(device=beamline.kbh_dsh, type=\"continuous\", search_domain=(-5.0, 5.0)),\n",
    "    DOF(device=beamline.kbh_ush, type=\"continuous\", search_domain=(-5.0, 5.0)),\n",
    "]\n",
    "\n",
    "objectives = [\n",
    "    Objective(name=\"bl_det_sum\", target=\"max\"),\n",
    "    Objective(name=\"bl_det_wid_x\", target=\"min\", transform=\"log\"),\n",
    "    Objective(name=\"bl_det_wid_y\", target=\"min\", transform=\"log\"),\n",
    "]\n",
    "\n",
    "agent = Agent(\n",
    "    readables=[beamline.det],\n",
    "    dofs=dofs,\n",
    "    objectives=objectives,\n",
    "    db=db,\n",
    ")\n",
    "agent.configure_experiment(name=\"test_ax_agent\", description=\"Test the AxAgent\")"
   ]
  },
  {
   "cell_type": "markdown",
   "metadata": {},
   "source": [
    "## Optimization\n",
    "\n",
    "With all of our experimental setup done, we can optimize the DOFs to satisfy our objectives.\n",
    "\n",
    "For this example, Ax will optimize the 4 motor positions to produce the greatest intensity beam with the smallest beam width and height (smallest area). It does this by first running a couple of trials which are random samples, then the remainder using Bayesian optimization through BoTorch."
   ]
  },
  {
   "cell_type": "code",
   "execution_count": null,
   "metadata": {},
   "outputs": [],
   "source": [
    "RE(agent.learn(iterations=25, n=1))"
   ]
  },
  {
   "cell_type": "markdown",
   "metadata": {},
   "source": [
    "## Analyze Results\n",
    "\n",
    "We can start by summarizing each step of the optimization procedure and whether trials were successful or not."
   ]
  },
  {
   "cell_type": "code",
   "execution_count": null,
   "metadata": {},
   "outputs": [],
   "source": [
    "agent.summarize()"
   ]
  },
  {
   "cell_type": "markdown",
   "metadata": {},
   "source": [
    "### Plotting\n",
    "\n",
    "We also can plot slices of the parameter space with respect to our objectives."
   ]
  },
  {
   "cell_type": "code",
   "execution_count": null,
   "metadata": {},
   "outputs": [],
   "source": [
    "from ax.analysis import SlicePlot\n",
    "\n",
    "_ = agent.compute_analyses(analyses=[SlicePlot(\"bl_kbv_dsv\", \"bl_det_sum\")])"
   ]
  },
  {
   "cell_type": "code",
   "execution_count": null,
   "metadata": {},
   "outputs": [],
   "source": [
    "_ = agent.compute_analyses(analyses=[SlicePlot(\"bl_kbv_dsv\", \"bl_det_wid_x\")])"
   ]
  },
  {
   "cell_type": "markdown",
   "metadata": {},
   "source": [
    "### More comprehensive analyses\n",
    "\n",
    "Ax provides many analysis tools that can help understand optimization results."
   ]
  },
  {
   "cell_type": "code",
   "execution_count": null,
   "metadata": {},
   "outputs": [],
   "source": [
    "from ax.analysis import TopSurfacesAnalysis\n",
    "\n",
    "_ = agent.compute_analyses(analyses=[TopSurfacesAnalysis(\"bl_det_sum\")])"
   ]
  },
  {
   "cell_type": "markdown",
   "metadata": {},
   "source": [
    "### Visualizing the optimal beam\n",
    "\n",
    "Below we get the optimal parameters, move the motors to their optimal positions, and observe the resulting beam."
   ]
  },
  {
   "cell_type": "code",
   "execution_count": null,
   "metadata": {},
   "outputs": [],
   "source": [
    "optimal_parameters = next(iter(agent.client.get_pareto_frontier()))[0]\n",
    "optimal_parameters"
   ]
  },
  {
   "cell_type": "code",
   "execution_count": null,
   "metadata": {},
   "outputs": [],
   "source": [
    "from bluesky.plans import list_scan\n",
    "\n",
    "scan_motor_params = []\n",
    "for motor in [beamline.kbv_dsv, beamline.kbv_usv, beamline.kbh_dsh, beamline.kbh_ush]:\n",
    "    scan_motor_params.append(motor)\n",
    "    scan_motor_params.append([optimal_parameters[motor.name]])\n",
    "RE(list_scan([beamline.det], *scan_motor_params))"
   ]
  },
  {
   "cell_type": "code",
   "execution_count": null,
   "metadata": {},
   "outputs": [],
   "source": [
    "import matplotlib.pyplot as plt\n",
    "\n",
    "plt.imshow(db[-1].table(fill=True)[\"bl_det_image\"].iloc[0])\n",
    "plt.colorbar()\n",
    "plt.show()"
   ]
  }
 ],
 "metadata": {
  "kernelspec": {
   "display_name": "Python 3",
   "language": "python",
   "name": "python3"
  },
  "language_info": {
   "codemirror_mode": {
    "name": "ipython",
    "version": 3
   },
   "file_extension": ".py",
   "mimetype": "text/x-python",
   "name": "python",
   "nbconvert_exporter": "python",
   "pygments_lexer": "ipython3",
   "version": "3.12.11"
  }
 },
 "nbformat": 4,
 "nbformat_minor": 2
}
