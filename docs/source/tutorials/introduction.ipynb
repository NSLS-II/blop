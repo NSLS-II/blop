{
 "cells": [
  {
   "attachments": {},
   "cell_type": "markdown",
   "id": "e7b5e13a-c059-441d-8d4f-fff080d52054",
   "metadata": {},
   "source": [
    "# Bayesian optimization"
   ]
  },
  {
   "attachments": {},
   "cell_type": "markdown",
   "id": "c18ef717",
   "metadata": {},
   "source": [
    "This tutorial is an introduction to the syntax used by the optimizer, as well as the principles of Bayesian optimization in general.\n",
    "\n",
    "We'll start by minimizing the Rastrigin function in one dimension, which looks like this:"
   ]
  },
  {
   "cell_type": "code",
   "execution_count": null,
   "id": "22438de8",
   "metadata": {},
   "outputs": [],
   "source": [
    "import numpy as np\n",
    "import matplotlib as mpl\n",
    "from matplotlib import pyplot as plt\n",
    "\n",
    "from bloptools import test_functions\n",
    "\n",
    "x = np.linspace(-4, 4, 256)\n",
    "\n",
    "plt.plot(x, test_functions.rastrigin(x), c=\"b\")"
   ]
  },
  {
   "attachments": {},
   "cell_type": "markdown",
   "id": "ecef8da5",
   "metadata": {},
   "source": [
    "There are several things that our agent will need. The first ingredient is some degrees of freedom (these are always `ophyd` devices) which the agent will move around to different inputs within each DOF's bounds (the second ingredient). We define these here:"
   ]
  },
  {
   "cell_type": "code",
   "execution_count": null,
   "id": "4c870567",
   "metadata": {},
   "outputs": [],
   "source": [
    "import bloptools\n",
    "\n",
    "dofs = bloptools.devices.dummy_dofs(n=1)  # an ophyd device that we can read/set\n",
    "\n",
    "bounds = [(-4.0, 4.0)]  # one set of bounds per dof"
   ]
  },
  {
   "attachments": {},
   "cell_type": "markdown",
   "id": "7a88c7bd",
   "metadata": {},
   "source": [
    "This degree of freedom will move around a variable called `x1`. The agent automatically samples at different inputs, but we often need some post-processing after data collection. In this case, we need to give the agent a way to compute the Rastrigin function. We accomplish this with a digestion function, which always takes `(db, uid)` as an input. For each entry, we compute the function:\n"
   ]
  },
  {
   "cell_type": "code",
   "execution_count": null,
   "id": "e6bfcf73",
   "metadata": {},
   "outputs": [],
   "source": [
    "def digestion(db, uid):\n",
    "    products = db[uid].table()\n",
    "\n",
    "    for index, entry in products.iterrows():\n",
    "        products.loc[index, \"rastrigin\"] = test_functions.rastrigin(entry.x1)\n",
    "\n",
    "    return products"
   ]
  },
  {
   "attachments": {},
   "cell_type": "markdown",
   "id": "dad64303",
   "metadata": {},
   "source": [
    "The next ingredient is a task, which gives the agent something to do. We want it to minimize the Rastrigin function, so we make a task that will try to minimize the output of the digestion function called \"rastrigin\"."
   ]
  },
  {
   "cell_type": "code",
   "execution_count": null,
   "id": "4c14d162",
   "metadata": {},
   "outputs": [],
   "source": [
    "from bloptools.tasks import Task\n",
    "\n",
    "task = Task(key=\"rastrigin\", kind=\"min\")"
   ]
  },
  {
   "cell_type": "code",
   "execution_count": null,
   "id": "190156c3",
   "metadata": {},
   "outputs": [],
   "source": [
    "os.environ[\"BLUESKY_DEBUG_CALLBACKS\"] = \"True\"\n",
    "\n",
    "import bluesky\n",
    "print(bluesky.__version__)"
   ]
  },
  {
   "attachments": {},
   "cell_type": "markdown",
   "id": "0d3d91c3",
   "metadata": {},
   "source": [
    "Combining all of these with a databroker instance, we can make an agent:"
   ]
  },
  {
   "cell_type": "code",
   "execution_count": null,
   "id": "071a829f-a390-40dc-9d5b-ae75702e119e",
   "metadata": {
    "tags": []
   },
   "outputs": [],
   "source": [
    "%run -i ../../../examples/prepare_bluesky.py # prepare the bluesky environment\n",
    "\n",
    "agent = bloptools.bayesian.Agent(\n",
    "    active_dofs=dofs,\n",
    "    passive_dofs=[],\n",
    "    active_dof_bounds=bounds,\n",
    "    tasks=[task],\n",
    "    digestion=digestion,\n",
    "    db=db,\n",
    ")\n",
    "\n",
    "RE(agent.initialize(acqf=\"qr\", n_init=12))"
   ]
  },
  {
   "attachments": {},
   "cell_type": "markdown",
   "id": "d8f2da43",
   "metadata": {},
   "source": [
    "We initialized the GP with the \"quasi-random\" strategy, as it doesn't require any prior data. We can view the state of the optimizer's posterior of the tasks over the input parameters:"
   ]
  },
  {
   "cell_type": "code",
   "execution_count": null,
   "id": "996c3c01-f91d-4a25-9b8d-eba5fa964504",
   "metadata": {
    "tags": []
   },
   "outputs": [],
   "source": [
    "# what are the points?\n",
    "\n",
    "agent.plot_tasks()"
   ]
  },
  {
   "attachments": {},
   "cell_type": "markdown",
   "id": "fa141636",
   "metadata": {},
   "source": [
    "Note that the value of the fitness is the negative value of the function: we always want to maximize the fitness of the tasks.\n",
    "\n",
    "An important concept in Bayesian optimization is the acquisition function, which is how the agent decides where to sample next. Under the hood, the agent will see what inputs maximize the acquisition function to make its decision.\n",
    "\n",
    "We can see what the agent is thinking by asking it to plot a few different acquisition functions in its current state."
   ]
  },
  {
   "cell_type": "code",
   "execution_count": null,
   "id": "8554d7c2",
   "metadata": {
    "tags": []
   },
   "outputs": [],
   "source": [
    "# helper function to list acquisition functions\n",
    "\n",
    "agent.plot_acquisition(strategy=[\"ei\", \"pi\", \"ucb\"])"
   ]
  },
  {
   "attachments": {},
   "cell_type": "markdown",
   "id": "2529763b",
   "metadata": {},
   "source": [
    "Let's tell the agent to learn a little bit more. We just have to tell it what acquisition function to use (by passing a `strategy`) and how many iterations we'd like it to perform (by passing `n_iter`)."
   ]
  },
  {
   "cell_type": "code",
   "execution_count": null,
   "id": "ebc65169",
   "metadata": {},
   "outputs": [],
   "source": [
    "RE(agent.learn(acqf=\"ei\", n_iter=8))\n",
    "agent.plot_tasks()"
   ]
  },
  {
   "cell_type": "code",
   "execution_count": null,
   "id": "06505db8",
   "metadata": {},
   "outputs": [],
   "source": []
  }
 ],
 "metadata": {
  "kernelspec": {
   "display_name": "Python 3 (ipykernel)",
   "language": "python",
   "name": "python3"
  },
  "language_info": {
   "codemirror_mode": {
    "name": "ipython",
    "version": 3
   },
   "file_extension": ".py",
   "mimetype": "text/x-python",
   "name": "python",
   "nbconvert_exporter": "python",
   "pygments_lexer": "ipython3",
   "version": "3.9.16"
  },
  "vscode": {
   "interpreter": {
    "hash": "9aced674e98d511b4f654e147532c84d38dc986fe042b1e92785fb9d8df41f75"
   }
  }
 },
 "nbformat": 4,
 "nbformat_minor": 5
}
