{
 "cells": [
  {
   "attachments": {},
   "cell_type": "markdown",
   "id": "e7b5e13a-c059-441d-8d4f-fff080d52054",
   "metadata": {},
   "source": [
    "# Introduction: single-task optimization\n",
    "\n",
    "We start with a common test function for optimization known as [Himmelblau's function](https://en.wikipedia.org/wiki/Himmelblau%27s_function), which gives us a single optimization task (find the inputs that minimize the function)."
   ]
  },
  {
   "cell_type": "code",
   "execution_count": null,
   "id": "071a829f-a390-40dc-9d5b-ae75702e119e",
   "metadata": {
    "tags": []
   },
   "outputs": [],
   "source": [
    "%run -i ../../../examples/prepare_bluesky.py\n",
    "\n",
    "import bloptools\n",
    "from bloptools.experiments.tests import himmelblau\n",
    "\n",
    "boa = bloptools.bayesian.Agent(\n",
    "                            dofs=himmelblau.dofs, # things which we move around\n",
    "                            bounds=himmelblau.bounds, # where we're allowed to move them\n",
    "                            tasks=[himmelblau.MinHimmelblau], # tasks for the optimizer\n",
    "                            acquisition=himmelblau.acquisition, # a plan to sample data\n",
    "                            digestion=himmelblau.digestion, # how to process the acquisition into task data\n",
    "                            db=db, # a databroker instance\n",
    "                            )\n",
    "\n",
    "RE(boa.initialize(init_scheme='quasi-random', n_init=32))"
   ]
  },
  {
   "attachments": {},
   "cell_type": "markdown",
   "id": "d8f2da43",
   "metadata": {},
   "source": [
    "We initialized the GP with the \"quasi-random\" strategy, as it doesn't require any prior data. We can view the state of the optimizer's posterior of the tasks over the input parameters:"
   ]
  },
  {
   "cell_type": "code",
   "execution_count": null,
   "id": "996c3c01-f91d-4a25-9b8d-eba5fa964504",
   "metadata": {
    "tags": []
   },
   "outputs": [],
   "source": [
    "boa.plot_tasks()"
   ]
  },
  {
   "attachments": {},
   "cell_type": "markdown",
   "id": "4274930c",
   "metadata": {},
   "source": [
    "We can also the agent's posterior about the probability of goodness over the parameters:"
   ]
  },
  {
   "cell_type": "code",
   "execution_count": null,
   "id": "3c1d40c5",
   "metadata": {
    "tags": []
   },
   "outputs": [],
   "source": [
    "boa.plot_constraints()"
   ]
  },
  {
   "attachments": {},
   "cell_type": "markdown",
   "id": "d2eb855c",
   "metadata": {},
   "source": [
    "We want to learn a bit more, so we can ask the agent where to sample based off of some strategy. Here we use the \"esti\" strategy, which maximizes the expected sum of tasks improvement.\n",
    "\n",
    "We can ask the agent to \"route\" them using ``ortools``, so that we can sample them more quickly if it requires us to e.g. move motors."
   ]
  },
  {
   "cell_type": "code",
   "execution_count": null,
   "id": "334f3c66",
   "metadata": {},
   "outputs": [],
   "source": [
    "X_to_sample = boa.ask(strategy='esti', n=16, optimize=True, route=True)\n",
    "plt.scatter(*X_to_sample.T)\n",
    "plt.plot(*X_to_sample.T)"
   ]
  },
  {
   "attachments": {},
   "cell_type": "markdown",
   "id": "296d9fd2",
   "metadata": {},
   "source": [
    "Let's tell the agent to learn a bit more (it will direct itself):"
   ]
  },
  {
   "cell_type": "code",
   "execution_count": null,
   "id": "f0e74651",
   "metadata": {
    "tags": []
   },
   "outputs": [],
   "source": [
    "RE(boa.learn(strategy='esti', n_iter=1, n_per_iter=4))\n",
    "boa.plot_tasks()"
   ]
  },
  {
   "attachments": {},
   "cell_type": "markdown",
   "id": "aeab7a9b",
   "metadata": {},
   "source": [
    "The agent has updated its model of the tasks, including refitting the hyperparameters. Continuing:"
   ]
  },
  {
   "cell_type": "code",
   "execution_count": null,
   "id": "d6b39b54",
   "metadata": {
    "tags": []
   },
   "outputs": [],
   "source": [
    "RE(boa.learn(strategy='esti', n_iter=4, n_per_iter=4))\n",
    "boa.plot_tasks()"
   ]
  },
  {
   "attachments": {},
   "cell_type": "markdown",
   "id": "e955233f",
   "metadata": {},
   "source": [
    "Eventually, we reach a point of saturation where no more improvement takes place:"
   ]
  },
  {
   "cell_type": "code",
   "execution_count": null,
   "id": "d73e4fd5",
   "metadata": {
    "tags": []
   },
   "outputs": [],
   "source": [
    "RE(boa.learn(strategy='esti', n_iter=4, n_per_iter=4))\n",
    "boa.plot_tasks()"
   ]
  },
  {
   "cell_type": "code",
   "execution_count": null,
   "id": "5ad4b1e7",
   "metadata": {},
   "outputs": [],
   "source": []
  }
 ],
 "metadata": {
  "kernelspec": {
   "display_name": "Python 3 (ipykernel)",
   "language": "python",
   "name": "python3"
  },
  "language_info": {
   "codemirror_mode": {
    "name": "ipython",
    "version": 3
   },
   "file_extension": ".py",
   "mimetype": "text/x-python",
   "name": "python",
   "nbconvert_exporter": "python",
   "pygments_lexer": "ipython3",
   "version": "3.9.16"
  },
  "vscode": {
   "interpreter": {
    "hash": "9aced674e98d511b4f654e147532c84d38dc986fe042b1e92785fb9d8df41f75"
   }
  }
 },
 "nbformat": 4,
 "nbformat_minor": 5
}
