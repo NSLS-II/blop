{
 "cells": [
  {
   "attachments": {},
   "cell_type": "markdown",
   "id": "e7b5e13a-c059-441d-8d4f-fff080d52054",
   "metadata": {},
   "source": [
    "# Optimize the angle of each KB mirror at the TES beamline in Shadow3"
   ]
  },
  {
   "cell_type": "code",
   "execution_count": null,
   "id": "fa8a6989",
   "metadata": {
    "tags": []
   },
   "outputs": [],
   "source": [
    "%run -i ../../../examples/prepare_bluesky.py\n",
    "%run -i ../../../examples/prepare_tes_shadow.py\n",
    "\n",
    "kb_dofs = [kbv.x_rot, kbh.x_rot]\n",
    "kb_bounds = np.array([[-0.10, +0.10], [-0.10, +0.10]]) \n",
    "\n",
    "for dof in kb_dofs:\n",
    "    dof.kind = \"hinted\""
   ]
  },
  {
   "cell_type": "code",
   "execution_count": null,
   "id": "071a829f-a390-40dc-9d5b-ae75702e119e",
   "metadata": {
    "tags": []
   },
   "outputs": [],
   "source": [
    "from bloptools.experiments.shadow import tes\n",
    "\n",
    "boa = bloptools.bo.BayesianOptimizationAgent(\n",
    "                                             dofs=kb_dofs, # things which we move around\n",
    "                                             bounds=kb_bounds, # how much we can move them\n",
    "                                             dets=[w9], # things to trigger\n",
    "                                             tasks=[tes.MinBeamWidth, \n",
    "                                                    tes.MinBeamHeight, \n",
    "                                                    tes.MaxBeamFlux], # tasks for the optimizer\n",
    "                                             experiment=tes, # what experiment we're working on \n",
    "                                             db=db, # a databroker instance\n",
    "                                            )\n",
    "\n",
    "RE(boa.initialize(init_scheme='quasi-random', n_init=4))\n",
    "#RE(boa.initialize(filepath='init8.h5'))\n",
    "#RE(boa.learn(strategy='ei', n_iter=16, n_per_iter=16))\n",
    "\n",
    "#boa.save('init8.h5')"
   ]
  },
  {
   "cell_type": "code",
   "execution_count": null,
   "id": "996c3c01-f91d-4a25-9b8d-eba5fa964504",
   "metadata": {
    "tags": []
   },
   "outputs": [],
   "source": [
    "boa.plot_tasks()"
   ]
  },
  {
   "attachments": {},
   "cell_type": "markdown",
   "id": "296d9fd2",
   "metadata": {},
   "source": [
    "Learning a bit more:"
   ]
  },
  {
   "cell_type": "code",
   "execution_count": null,
   "id": "d6b39b54",
   "metadata": {
    "tags": []
   },
   "outputs": [],
   "source": [
    "RE(boa.learn(strategy='esti', n_iter=4, n_per_iter=4))\n",
    "boa.plot_tasks()"
   ]
  },
  {
   "attachments": {},
   "cell_type": "markdown",
   "id": "e23e920c",
   "metadata": {},
   "source": [
    "The agent has learned that certain dimensions affect different tasks differently!"
   ]
  }
 ],
 "metadata": {
  "kernelspec": {
   "display_name": "Python 3 (ipykernel)",
   "language": "python",
   "name": "python3"
  },
  "language_info": {
   "codemirror_mode": {
    "name": "ipython",
    "version": 3
   },
   "file_extension": ".py",
   "mimetype": "text/x-python",
   "name": "python",
   "nbconvert_exporter": "python",
   "pygments_lexer": "ipython3",
   "version": "3.9.16"
  },
  "vscode": {
   "interpreter": {
    "hash": "9aced674e98d511b4f654e147532c84d38dc986fe042b1e92785fb9d8df41f75"
   }
  }
 },
 "nbformat": 4,
 "nbformat_minor": 5
}
