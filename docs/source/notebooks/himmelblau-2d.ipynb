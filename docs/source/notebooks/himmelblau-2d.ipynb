{
 "cells": [
  {
   "attachments": {},
   "cell_type": "markdown",
   "id": "e7b5e13a-c059-441d-8d4f-fff080d52054",
   "metadata": {},
   "source": [
    "# Running the optimizer with [Himmelblau's function](https://en.wikipedia.org/wiki/Himmelblau%27s_function)"
   ]
  },
  {
   "cell_type": "code",
   "execution_count": null,
   "id": "fa8a6989",
   "metadata": {
    "tags": []
   },
   "outputs": [],
   "source": [
    "%run -i ../../../examples/prepare_bluesky.py\n",
    "\n",
    "import bloptools\n",
    "from bloptools.experiments.tests import Himmelblau\n",
    "\n",
    "himmelblau = Himmelblau()"
   ]
  },
  {
   "cell_type": "code",
   "execution_count": null,
   "id": "071a829f-a390-40dc-9d5b-ae75702e119e",
   "metadata": {
    "tags": []
   },
   "outputs": [],
   "source": [
    "boa = bloptools.bo.BayesianOptimizationAgent(\n",
    "                                             dofs=himmelblau.dofs, \n",
    "                                             dets=[],\n",
    "                                             bounds=himmelblau.bounds, \n",
    "                                             db=db, \n",
    "                                             experiment=himmelblau,\n",
    "                                            )\n",
    "\n",
    "RE(boa.initialize(init_scheme='quasi-random', n_init=8))"
   ]
  },
  {
   "attachments": {},
   "cell_type": "markdown",
   "id": "d8f2da43",
   "metadata": {},
   "source": [
    "We initialized the GP with the \"quasi-random\" strategy, as it doesn't require any prior data. We can view the state of the optimizer:"
   ]
  },
  {
   "cell_type": "code",
   "execution_count": null,
   "id": "996c3c01-f91d-4a25-9b8d-eba5fa964504",
   "metadata": {
    "tags": []
   },
   "outputs": [],
   "source": [
    "boa.plot_state(gridded=True)"
   ]
  },
  {
   "attachments": {},
   "cell_type": "markdown",
   "id": "aeab7a9b",
   "metadata": {},
   "source": [
    "Let's learn a bit more, using the \"GIBBON\" framework to investigate points that are likely to tell us about the optimum. Running two iterations with four points per iteration:"
   ]
  },
  {
   "cell_type": "code",
   "execution_count": null,
   "id": "d6b39b54",
   "metadata": {
    "tags": []
   },
   "outputs": [],
   "source": [
    "RE(boa.learn(strategy='eGIBBON', n_iter=2, n_per_iter=4))\n",
    "boa.plot_state(gridded=True)"
   ]
  },
  {
   "attachments": {},
   "cell_type": "markdown",
   "id": "296d9fd2",
   "metadata": {},
   "source": [
    "Now let's try the \"EI\" strategy to sample where we expect the largest improvement in the fitness:"
   ]
  },
  {
   "cell_type": "code",
   "execution_count": null,
   "id": "f0e74651",
   "metadata": {
    "tags": []
   },
   "outputs": [],
   "source": [
    "RE(boa.learn(strategy='eI', n_iter=4, n_per_iter=4))\n",
    "boa.plot_state(gridded=True)"
   ]
  }
 ],
 "metadata": {
  "kernelspec": {
   "display_name": "Python 3 (ipykernel)",
   "language": "python",
   "name": "python3"
  },
  "language_info": {
   "codemirror_mode": {
    "name": "ipython",
    "version": 3
   },
   "file_extension": ".py",
   "mimetype": "text/x-python",
   "name": "python",
   "nbconvert_exporter": "python",
   "pygments_lexer": "ipython3",
   "version": "3.9.16 (main, Mar  8 2023, 14:00:05) \n[GCC 11.2.0]"
  },
  "vscode": {
   "interpreter": {
    "hash": "9aced674e98d511b4f654e147532c84d38dc986fe042b1e92785fb9d8df41f75"
   }
  }
 },
 "nbformat": 4,
 "nbformat_minor": 5
}
