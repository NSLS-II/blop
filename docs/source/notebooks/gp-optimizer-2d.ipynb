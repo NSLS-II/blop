{
 "cells": [
  {
   "cell_type": "markdown",
   "id": "e7b5e13a-c059-441d-8d4f-fff080d52054",
   "metadata": {},
   "source": [
    "# Run the GP optimizer in two dimensions"
   ]
  },
  {
   "cell_type": "code",
   "execution_count": null,
   "id": "fa8a6989",
   "metadata": {
    "tags": []
   },
   "outputs": [],
   "source": [
    "%run -i ../../../examples/prepare_tes_shadow.py\n",
    "\n",
    "kbs = [kbv.x_rot, kbv.offz]\n",
    "kb_bounds = np.array([[-0.10, +0.10], [-0.50, +0.50]]) \n",
    "\n",
    "for dof in kbs:\n",
    "    dof.kind = \"hinted\""
   ]
  },
  {
   "cell_type": "code",
   "execution_count": null,
   "id": "071a829f-a390-40dc-9d5b-ae75702e119e",
   "metadata": {
    "tags": []
   },
   "outputs": [],
   "source": [
    "from bloptools.experiments.nsls2 import tes_shadow\n",
    "\n",
    "boa = bloptools.bo.BayesianOptimizationAgent(\n",
    "                                             dofs=kbs, \n",
    "                                             dets=[w9],\n",
    "                                             dof_bounds=kb_bounds, \n",
    "                                             db=db, \n",
    "                                             experiment=tes_shadow\n",
    "                                            )\n",
    "\n",
    "RE(boa.initialize(init_scheme='quasi-random', n_init=8))"
   ]
  },
  {
   "cell_type": "markdown",
   "id": "d8f2da43",
   "metadata": {},
   "source": [
    "We initialized the GP with the \"quasi-random\" strategy, as it doesn't require any prior data. But now that we have some points to work with, we can start to call some more sophisticated learning strategies. Let's try exploring the space (\"explore\"), and then try to aim for the best possible fitness (\"exploit\")."
   ]
  },
  {
   "cell_type": "code",
   "execution_count": null,
   "id": "d6b39b54",
   "metadata": {
    "tags": []
   },
   "outputs": [],
   "source": [
    "RE(boa.learn(strategy='explore', n_iter=4, n_per_iter=1))\n",
    "RE(boa.learn(strategy='exploit', n_iter=4, n_per_iter=1))"
   ]
  },
  {
   "cell_type": "markdown",
   "id": "aeab7a9b",
   "metadata": {},
   "source": [
    "We can plot the \"state\" of the GPs, which shows their posteriors about the whole parameter space:"
   ]
  },
  {
   "cell_type": "code",
   "execution_count": null,
   "id": "996c3c01-f91d-4a25-9b8d-eba5fa964504",
   "metadata": {
    "tags": []
   },
   "outputs": [],
   "source": [
    "boa.plot_state(gridded=True)"
   ]
  }
 ],
 "metadata": {
  "kernelspec": {
   "display_name": "Python 3 (ipykernel)",
   "language": "python",
   "name": "python3"
  },
  "language_info": {
   "codemirror_mode": {
    "name": "ipython",
    "version": 3
   },
   "file_extension": ".py",
   "mimetype": "text/x-python",
   "name": "python",
   "nbconvert_exporter": "python",
   "pygments_lexer": "ipython3",
   "version": "3.9.16 (main, Mar  8 2023, 14:00:05) \n[GCC 11.2.0]"
  },
  "vscode": {
   "interpreter": {
    "hash": "9aced674e98d511b4f654e147532c84d38dc986fe042b1e92785fb9d8df41f75"
   }
  }
 },
 "nbformat": 4,
 "nbformat_minor": 5
}
