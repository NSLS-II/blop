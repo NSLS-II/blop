{
 "cells": [
  {
   "attachments": {},
   "cell_type": "markdown",
   "id": "e7b5e13a-c059-441d-8d4f-fff080d52054",
   "metadata": {},
   "source": [
    "# Run the GP optimizer in two dimensions"
   ]
  },
  {
   "cell_type": "code",
   "execution_count": null,
   "id": "fa8a6989",
   "metadata": {},
   "outputs": [],
   "source": [
    "%run -i ../../../examples/prepare_gp_optimizer.py\n",
    "\n",
    "dofs = [kbv.x_rot, kbv.offz] # two degrees of freedom of the vertical KB mirror\n",
    "\n",
    "hard_bounds = np.array([[-0.10, +0.10], [-0.50, +0.50]])\n",
    "\n",
    "for dof in dofs:\n",
    "    dof.kind = \"hinted\""
   ]
  },
  {
   "cell_type": "code",
   "execution_count": null,
   "id": "071a829f-a390-40dc-9d5b-ae75702e119e",
   "metadata": {},
   "outputs": [],
   "source": [
    "gpo = Optimizer(\n",
    "    init_scheme='quasi-random', \n",
    "    n_init=4, \n",
    "    run_engine=RE, \n",
    "    db=db, \n",
    "    detector=w9, \n",
    "    detector_type='image',\n",
    "    dofs=dofs, \n",
    "    dof_bounds=hard_bounds, \n",
    "    fitness_model='max_sep_density',\n",
    "    training_iter=100, \n",
    "    verbose=True,\n",
    ")"
   ]
  },
  {
   "attachments": {},
   "cell_type": "markdown",
   "id": "d8f2da43",
   "metadata": {},
   "source": [
    "We initialized the GP with the \"quasi-random\" strategy, as it doesn't require any prior data. But now that we have some points to work with, we can start to call some more sophisticated learning strategies. Let's try exploring the space (\"explore\"), and then try to aim for the best possible fitness (\"exploit\")."
   ]
  },
  {
   "cell_type": "code",
   "execution_count": null,
   "id": "d6b39b54",
   "metadata": {},
   "outputs": [],
   "source": [
    "gpo.learn(n_iter=2, n_per_iter=2, strategy='explore', greedy=True, reuse_hypers=False)\n",
    "gpo.learn(n_iter=2, n_per_iter=2, strategy='exploit', greedy=True, reuse_hypers=False)"
   ]
  },
  {
   "attachments": {},
   "cell_type": "markdown",
   "id": "aeab7a9b",
   "metadata": {},
   "source": [
    "We can plot the \"state\" of the GPs, which shows their posteriors about the whole parameter space:"
   ]
  },
  {
   "cell_type": "code",
   "execution_count": null,
   "id": "996c3c01-f91d-4a25-9b8d-eba5fa964504",
   "metadata": {},
   "outputs": [],
   "source": [
    "gpo.plot_state(gridded=True)"
   ]
  },
  {
   "attachments": {},
   "cell_type": "markdown",
   "id": "2bd40eb2",
   "metadata": {},
   "source": [
    "We can also plot the cumulative maximum fitness over time:"
   ]
  },
  {
   "cell_type": "code",
   "execution_count": null,
   "id": "26302fdd",
   "metadata": {},
   "outputs": [],
   "source": [
    "gpo.plot_fitness()"
   ]
  },
  {
   "cell_type": "code",
   "execution_count": null,
   "id": "b9db7d17",
   "metadata": {},
   "outputs": [],
   "source": []
  }
 ],
 "metadata": {
  "kernelspec": {
   "display_name": "gp",
   "language": "python",
   "name": "python3"
  },
  "language_info": {
   "codemirror_mode": {
    "name": "ipython",
    "version": 3
   },
   "file_extension": ".py",
   "mimetype": "text/x-python",
   "name": "python",
   "nbconvert_exporter": "python",
   "pygments_lexer": "ipython3",
   "version": "3.9.13"
  },
  "vscode": {
   "interpreter": {
    "hash": "9aced674e98d511b4f654e147532c84d38dc986fe042b1e92785fb9d8df41f75"
   }
  }
 },
 "nbformat": 4,
 "nbformat_minor": 5
}
