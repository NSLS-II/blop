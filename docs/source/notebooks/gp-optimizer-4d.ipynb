{
 "cells": [
  {
   "cell_type": "markdown",
   "id": "e7b5e13a-c059-441d-8d4f-fff080d52054",
   "metadata": {},
   "source": [
    "# Run the GP optimizer in four dimensions"
   ]
  },
  {
   "cell_type": "code",
   "execution_count": null,
   "id": "fa8a6989",
   "metadata": {
    "tags": []
   },
   "outputs": [],
   "source": [
    "%run -i ../../../examples/prepare_gp_optimizer.py\n",
    "\n",
    "dofs = [kbv.x_rot, kbv.offz, kbh.x_rot, kbh.offz]\n",
    "\n",
    "hard_bounds = np.array([[-0.10, +0.10], [-0.50, +0.50], [-0.10, +0.10], [-0.50, +0.50]])\n",
    "\n",
    "for dof in dofs:\n",
    "    dof.kind = \"hinted\""
   ]
  },
  {
   "cell_type": "code",
   "execution_count": null,
   "id": "071a829f-a390-40dc-9d5b-ae75702e119e",
   "metadata": {
    "tags": []
   },
   "outputs": [],
   "source": [
    "gpo = Optimizer(\n",
    "    init_scheme='quasi-random', \n",
    "    n_init=8, \n",
    "    run_engine=RE, \n",
    "    db=db, \n",
    "    detector=w9, \n",
    "    detector_type='image',\n",
    "    dofs=dofs, \n",
    "    dof_bounds=hard_bounds, \n",
    "    fitness_model='max_sep_density',\n",
    "    training_iter=100, \n",
    "    verbose=True,\n",
    ")"
   ]
  },
  {
   "cell_type": "code",
   "execution_count": null,
   "id": "48326bb7-d38f-451a-b166-6340897a868c",
   "metadata": {},
   "outputs": [],
   "source": []
  },
  {
   "cell_type": "markdown",
   "id": "2635f228",
   "metadata": {},
   "source": [
    "With four dimensions, we can no longer plot the parameter space in a satisfying way as we might be able to in two dimensions. We also have a lot more hyperparameters to deal with, and comparatively fewer points per dimension with which to infer them. One way to evaluate the state of the hyperparameters is with the Fisher information matrix, which encodes the covariance of their estimates with respect to the likelihood:"
   ]
  },
  {
   "cell_type": "code",
   "execution_count": null,
   "id": "2306fac9-94ac-4e2a-bb6f-3c1b4d2900e4",
   "metadata": {
    "tags": []
   },
   "outputs": [],
   "source": [
    "FM = gpo._contingent_fisher_information_matrix(gpo.test_params[0])[0]\n",
    "plt.imshow(np.abs(FM), norm=mpl.colors.LogNorm())\n",
    "plt.colorbar()"
   ]
  },
  {
   "cell_type": "markdown",
   "id": "5d74ae5e",
   "metadata": {},
   "source": [
    "In particular, we can use the information matrix to sample points which will tell us the most about the hyperparameters:"
   ]
  },
  {
   "cell_type": "code",
   "execution_count": null,
   "id": "8a6b3467-f181-4c48-85f3-3f1011a83cfa",
   "metadata": {},
   "outputs": [],
   "source": [
    "gpo.learn(n_iter=1, n_per_iter=1, strategy='A-optimal', greedy=True, reuse_hypers=False)\n",
    "gpo.learn(n_iter=1, n_per_iter=1, strategy='D-optimal', greedy=True, reuse_hypers=False)"
   ]
  },
  {
   "cell_type": "code",
   "execution_count": null,
   "id": "1b69af1d-897e-4b57-b3fc-9d39d0eba86e",
   "metadata": {
    "tags": []
   },
   "outputs": [],
   "source": [
    "gpo.plot_fitness()"
   ]
  },
  {
   "cell_type": "code",
   "execution_count": null,
   "id": "1b40506d-55c1-4a0f-aba1-239f4be9e8cd",
   "metadata": {},
   "outputs": [],
   "source": []
  }
 ],
 "metadata": {
  "kernelspec": {
   "display_name": "Python 3 (ipykernel)",
   "language": "python",
   "name": "python3"
  },
  "language_info": {
   "codemirror_mode": {
    "name": "ipython",
    "version": 3
   },
   "file_extension": ".py",
   "mimetype": "text/x-python",
   "name": "python",
   "nbconvert_exporter": "python",
   "pygments_lexer": "ipython3",
   "version": "3.9.16"
  },
  "vscode": {
   "interpreter": {
    "hash": "9aced674e98d511b4f654e147532c84d38dc986fe042b1e92785fb9d8df41f75"
   }
  }
 },
 "nbformat": 4,
 "nbformat_minor": 5
}
