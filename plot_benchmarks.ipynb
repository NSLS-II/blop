{
 "cells": [
  {
   "cell_type": "code",
   "execution_count": null,
   "id": "d778b648-f5b4-48a1-9c54-543f779f0271",
   "metadata": {},
   "outputs": [],
   "source": [
    "import numpy as np\n",
    "import matplotlib as mpl\n",
    "from matplotlib import pyplot as plt\n",
    "from bloptools import test_functions\n",
    "\n",
    "import os\n",
    "\n",
    "os.environ[\n",
    "    \"PATH\"\n",
    "] = \"/opt/homebrew/opt/llvm/bin:/Users/tom/opt/anaconda3/bin:/Users/tom/opt/anaconda3/condabin:/opt/homebrew/bin:/opt/homebrew/sbin:/usr/local/bin:/usr/bin:/bin:/usr/sbin:/sbin:/Library/TeX/texbin:/opt/X11/bin\"\n",
    "\n",
    "plt.rcParams.update(\n",
    "    {\n",
    "        \"text.usetex\": True,\n",
    "        \"font.family\": \"serif\",\n",
    "    }\n",
    ")\n",
    "\n",
    "cummax = lambda iterable: np.array([np.nanmax(iterable[:i]) for i in range(1, len(iterable) + 1)])\n",
    "\n",
    "\n",
    "no_latent_paths = glob.glob(\"../data/benchmark_hartmann6_no_latent/*.h5\")\n",
    "print(len(no_latent_paths))\n",
    "no_latent_table = pd.DataFrame()\n",
    "\n",
    "for path in no_latent_paths:\n",
    "    no_latent_table.loc[:, path] = -cummax(np.exp(pd.read_hdf(path, key=\"table\").neg_hartmann_fitness.values))\n",
    "\n",
    "\n",
    "latent_paths = sorted(glob.glob(\"../data/benchmark_hartmann6_latent-2/*.h5\"))\n",
    "print(len(latent_paths))\n",
    "latent_table = pd.DataFrame()\n",
    "\n",
    "for path in latent_paths:\n",
    "    # print(path)\n",
    "    latent_table.loc[:, path] = -cummax(np.exp(pd.read_hdf(path, key=\"table\").neg_hartmann_fitness.values))\n",
    "\n",
    "\n",
    "pd.read_hdf(path, key=\"table\").acq_func.values[:10]\n",
    "\n",
    "max_iter = 256\n",
    "\n",
    "iter_bins = np.linspace(0, max_iter, 64)\n",
    "\n",
    "\n",
    "import pandas as pd\n",
    "import glob\n",
    "\n",
    "fig, ax = plt.subplots(1, 1, figsize=(6, 6))\n",
    "\n",
    "\n",
    "for col in no_latent_table.columns:\n",
    "    loss = no_latent_table.loc[:, col].values\n",
    "    ax.plot(np.arange(len(loss)) + 1, loss, lw=1e-1, c=\"r\")\n",
    "\n",
    "for col in latent_table.columns:\n",
    "    loss = latent_table.loc[:, col].values\n",
    "    ax.plot(np.arange(len(loss)) + 1, loss, lw=1e-1, c=\"b\")\n",
    "\n",
    "ax.plot(np.median(no_latent_table, axis=1), c=\"r\", lw=1e0)\n",
    "ax.plot(np.median(latent_table, axis=1), c=\"b\", lw=1e0)\n",
    "\n",
    "xmin, xmax = 0, max_iter\n",
    "ymin, ymax = ax.get_ylim()\n",
    "\n",
    "ax.set_xlabel(\"iteration\")\n",
    "ax.set_ylabel(\"cumulative maximum\")\n",
    "\n",
    "optimum_inputs = None\n",
    "optimum_target = -3.32237\n",
    "\n",
    "ax.plot([xmin, xmax], [optimum_target, optimum_target], ls=\":\", c=\"k\")\n",
    "\n",
    "ax.fill_betweenx([ymin, ymax], xmin, 64, alpha=0.1, label=\"quasi-random initialization\")\n",
    "\n",
    "ax.set_xlim(xmin, xmax)\n",
    "ax.set_ylim(ymin, ymax)\n",
    "\n",
    "# ax.set_yscale(\"log\")\n",
    "\n",
    "plt.tight_layout()\n",
    "plt.savefig(\"../plots/bayesian_himmelblau.pdf\", bbox_inches=\"tight\", transparent=True, pad_inches=0, dpi=256)"
   ]
  },
  {
   "cell_type": "code",
   "execution_count": null,
   "id": "6430af55-4737-4e3a-9652-d29a7632726f",
   "metadata": {},
   "outputs": [],
   "source": []
  },
  {
   "cell_type": "code",
   "execution_count": null,
   "id": "a75629d0-0fa9-4153-8ea4-0d6caa29b8cc",
   "metadata": {},
   "outputs": [],
   "source": [
    "RE(agent.learn(\"qei\", n=2, iterations=16))"
   ]
  },
  {
   "cell_type": "code",
   "execution_count": null,
   "id": "5767dbd1-6388-4da3-a33a-197142a6ba6e",
   "metadata": {},
   "outputs": [],
   "source": [
    "np.round(agent.tasks[0][\"model\"].covar_module.latent_transform.detach(), 3)"
   ]
  },
  {
   "cell_type": "code",
   "execution_count": null,
   "id": "7a42b5ec-1a55-4e23-9b0a-050e383d5349",
   "metadata": {},
   "outputs": [],
   "source": []
  },
  {
   "cell_type": "code",
   "execution_count": null,
   "id": "405e21e2-a87d-4f79-8fb4-3bce7de37fce",
   "metadata": {},
   "outputs": [],
   "source": [
    "agent.plot_tasks()"
   ]
  },
  {
   "cell_type": "code",
   "execution_count": null,
   "id": "f578fbad-03c1-4171-b27c-c266297443fc",
   "metadata": {},
   "outputs": [],
   "source": [
    "qei, _ = bloptools.bayesian.acquisition.get_acquisition_function(agent, \"qei\")"
   ]
  },
  {
   "cell_type": "code",
   "execution_count": null,
   "id": "5c582af1-02fa-4fc0-bfdb-16dfb525d5db",
   "metadata": {},
   "outputs": [],
   "source": [
    "qucb, _ = bloptools.bayesian.acquisition.get_acquisition_function(agent, \"qucb\")"
   ]
  },
  {
   "cell_type": "code",
   "execution_count": null,
   "id": "4c32e76c-13db-4046-857c-6da522b94bc0",
   "metadata": {},
   "outputs": [],
   "source": [
    "X, _ = agent.ask(\"qei\", n=8)"
   ]
  },
  {
   "cell_type": "code",
   "execution_count": null,
   "id": "fb739668-9cb7-428d-bd63-a4cfa13fe0a1",
   "metadata": {},
   "outputs": [],
   "source": [
    "import torch\n",
    "\n",
    "x1 = torch.linspace(-6, 6, 63)\n",
    "x2 = torch.linspace(-6, 6, 63)\n",
    "X1, X2 = torch.meshgrid(x1, x2, indexing=\"ij\")\n",
    "\n",
    "xg = torch.cat([X1.unsqueeze(-1), X2.unsqueeze(-1)], dim=-1)\n",
    "obj_grid = qei(xg.reshape(-1, 1, 2)).reshape(xg.shape[:2]).detach()"
   ]
  },
  {
   "cell_type": "code",
   "execution_count": null,
   "id": "e2e8f8cc-7f06-4fd8-b16b-e959b7fff934",
   "metadata": {},
   "outputs": [],
   "source": [
    "import scipy as sp"
   ]
  },
  {
   "cell_type": "code",
   "execution_count": null,
   "id": "57f35ce5-3d4a-48d1-9ffe-750a35b26be8",
   "metadata": {},
   "outputs": [],
   "source": [
    "optima = [(3, 2), (-2.805, 3.1313), (-3.779, -3.283), (3.584, -1.848)]\n",
    "\n",
    "\n",
    "fig, axes = plt.subplots(1, 4, figsize=(12, 4), dpi=256)\n",
    "axes = axes.ravel()\n",
    "\n",
    "y = -agent._get_task_fitness(0)\n",
    "\n",
    "post = agent.model.posterior(xg)\n",
    "pred = -post.mean[..., 0].detach()\n",
    "err = post.variance[..., 0].detach()\n",
    "\n",
    "norm = mpl.colors.Normalize(-500, 0)\n",
    "\n",
    "cmap = \"magma\"\n",
    "\n",
    "zoom = 8\n",
    "\n",
    "uxg1 = sp.ndimage.zoom(xg[..., 0], zoom=zoom)\n",
    "uxg2 = sp.ndimage.zoom(xg[..., 1], zoom=zoom)\n",
    "umu = sp.ndimage.zoom(pred, zoom=zoom)\n",
    "ulv = sp.ndimage.zoom(np.log(err.sqrt()), zoom=zoom)\n",
    "uobj = sp.ndimage.zoom(obj_grid, zoom=zoom)\n",
    "\n",
    "samp = axes[0].scatter(*agent.active_inputs.values.T, c=-y, s=16, norm=norm, cmap=cmap)\n",
    "# axes[1].pcolormesh(uxg1, uxg2, -umu, norm=norm, cmap=cmap)\n",
    "# err = axes[2].pcolormesh(uxg1, uxg2, ulv, cmap=cmap)\n",
    "# acq = axes[3].pcolormesh(uxg1, uxg2, uobj, cmap=cmap)\n",
    "\n",
    "\n",
    "mean = axes[1].imshow(-umu.T[::-1], norm=norm, extent=[-6, 6, -6, 6], cmap=cmap, aspect=\"auto\")\n",
    "lvar = axes[2].imshow(ulv.T[::-1], extent=[-6, 6, -6, 6], cmap=cmap, aspect=\"auto\")\n",
    "acqf = axes[3].imshow(uobj.T[::-1], extent=[-6, 6, -6, 6], cmap=cmap, aspect=\"auto\")\n",
    "\n",
    "for ax in axes:\n",
    "    for x, y in optima:\n",
    "        ax.scatter(x, y, facecolor=\"none\", edgecolor=\"k\", marker=\"o\", lw=5e-1, s=16)\n",
    "\n",
    "    ax.set_xlim(-6, 6)\n",
    "    ax.set_ylim(-6, 6)\n",
    "    ax.set_xticks(np.arange(-6, 7, 2))\n",
    "    ax.set_yticks(np.arange(-6, 7, 2))\n",
    "    ax.set_xlabel(\"$x_1$\")\n",
    "    ax.set_ylabel(\"$x_2$\")\n",
    "\n",
    "axes[3].scatter(*X.T, marker=\"x\", lw=5e-1, color=\"k\", s=16)\n",
    "\n",
    "# axes[0].set_title(\"sampled points\")\n",
    "# axes[1].set_title(\"posterior mean\")\n",
    "# axes[2].set_title(\"posterior log std. dev.\")\n",
    "# axes[3].set_title(\"$q$-expected improvement\")\n",
    "\n",
    "\n",
    "# clb1 = fig.colorbar(mappable=mpl.cm.ScalarMappable(norm=norm), ax=axes[0:2], location=\"bottom\", shrink=0.8, aspect=32)\n",
    "clb1 = fig.colorbar(samp, ax=axes[0], location=\"bottom\", shrink=0.8, aspect=32)\n",
    "clb1.set_label(\"sampled points\")\n",
    "clb2 = fig.colorbar(mean, ax=axes[1], location=\"bottom\", shrink=0.8, aspect=32)\n",
    "clb2.set_label(\"posterior mean\")\n",
    "clb3 = fig.colorbar(lvar, ax=axes[2], location=\"bottom\", shrink=0.8, aspect=32)\n",
    "clb3.set_label(\"posterior log std. dev.\")\n",
    "clb4 = fig.colorbar(acqf, ax=axes[3], location=\"bottom\", shrink=0.8, aspect=32)\n",
    "clb4.set_label(\"$q$-expected improvement\")\n",
    "# clb3 = fig.colorbar(acq, ax=axes[3], location=\"bottom\", shrink=0.8, aspect=32)\n",
    "\n",
    "plt.tight_layout()\n",
    "plt.savefig(\"../plots/bayesian_himmelblau.pdf\", bbox_inches=\"tight\", transparent=True, pad_inches=0, dpi=256)"
   ]
  },
  {
   "cell_type": "code",
   "execution_count": null,
   "id": "966398d1-4d0b-4271-8b65-ac563e157347",
   "metadata": {},
   "outputs": [],
   "source": [
    "np.exp(ulv)"
   ]
  },
  {
   "cell_type": "code",
   "execution_count": null,
   "id": "ec8dacf5-2d2e-4f51-8c8b-83344d1465c5",
   "metadata": {},
   "outputs": [],
   "source": []
  },
  {
   "cell_type": "code",
   "execution_count": null,
   "id": "0962910e-7c8f-4ccb-83ec-67551f6d443b",
   "metadata": {},
   "outputs": [],
   "source": []
  },
  {
   "cell_type": "code",
   "execution_count": null,
   "id": "5bda306b-6c3c-453e-8e1b-316c9001baee",
   "metadata": {},
   "outputs": [],
   "source": []
  },
  {
   "cell_type": "code",
   "execution_count": null,
   "id": "b897fa9e-22b7-4b0b-a57f-183cbf15bfc1",
   "metadata": {},
   "outputs": [],
   "source": []
  },
  {
   "cell_type": "code",
   "execution_count": null,
   "id": "cc343daa-643d-424f-a042-0e9ce7964adb",
   "metadata": {},
   "outputs": [],
   "source": [
    "plt.imshow(obj)"
   ]
  },
  {
   "cell_type": "code",
   "execution_count": null,
   "id": "543f65b5-7664-45ca-bd39-85d0b827febe",
   "metadata": {},
   "outputs": [],
   "source": []
  }
 ],
 "metadata": {
  "kernelspec": {
   "display_name": "Python 3 (ipykernel)",
   "language": "python",
   "name": "python3"
  },
  "language_info": {
   "codemirror_mode": {
    "name": "ipython",
    "version": 3
   },
   "file_extension": ".py",
   "mimetype": "text/x-python",
   "name": "python",
   "nbconvert_exporter": "python",
   "pygments_lexer": "ipython3",
   "version": "3.10.0"
  }
 },
 "nbformat": 4,
 "nbformat_minor": 5
}
