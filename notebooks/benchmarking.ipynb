{
 "cells": [
  {
   "cell_type": "code",
   "execution_count": null,
   "id": "a9e4f0aa-f267-4544-bac9-823111290696",
   "metadata": {
    "tags": []
   },
   "outputs": [],
   "source": [
    "%run -i ../examples/prepare_gp_optimizer.py\n",
    "\n",
    "dofs = [kbv.x_rot, kbv.offz, kbh.x_rot, kbh.offz][:2]\n",
    "\n",
    "hard_bounds = np.array([[-0.10, +0.10], [-0.50, +0.50], [-0.10, +0.10], [-0.50, +0.50]])[:2]\n",
    "\n",
    "for dof in dofs:\n",
    "    dof.kind = \"hinted\""
   ]
  },
  {
   "cell_type": "code",
   "execution_count": null,
   "id": "af33f4a4-395f-4c10-9c53-92d4d3600b29",
   "metadata": {},
   "outputs": [],
   "source": [
    "gpo = bloptools.gp.load('model.gpo',\n",
    "                        run_engine=RE, \n",
    "                        db=db, \n",
    "                        detector=w9, \n",
    "                        detector_type='image',\n",
    "                        dofs=dofs, \n",
    "                        dof_bounds=hard_bounds, \n",
    "                        fitness_model='max_sep_density',)"
   ]
  },
  {
   "cell_type": "code",
   "execution_count": null,
   "id": "dd1f9bd3-9bc6-4540-bfc5-4f442b5ff991",
   "metadata": {
    "tags": []
   },
   "outputs": [],
   "source": [
    "gpo.recommend(strategy='explore', greedy=False, n=8)"
   ]
  },
  {
   "cell_type": "code",
   "execution_count": null,
   "id": "b117b0b5-52f3-4a6c-9580-55e27ec597c6",
   "metadata": {
    "tags": []
   },
   "outputs": [],
   "source": [
    "plt.scatter(*gpo.recommend(strategy='exploit', greedy=False, n=8).T)"
   ]
  },
  {
   "cell_type": "code",
   "execution_count": null,
   "id": "67a7bf04-e952-4d4b-a927-6b1d7debab91",
   "metadata": {
    "tags": []
   },
   "outputs": [],
   "source": [
    "gpo.plot_state(gridded=True)"
   ]
  },
  {
   "cell_type": "code",
   "execution_count": null,
   "id": "ca4130ba-b7fe-46bf-9a1c-607d6689c593",
   "metadata": {
    "tags": []
   },
   "outputs": [],
   "source": [
    "plt.scatter(*gpo.test_params.T, c=-bloptools.gp._negative_expected_information_gain(gpo.evaluator, gpo.validator, gpo.evaluator.X, gpo.params_trans_fun(gpo.test_params)[:,None]))"
   ]
  },
  {
   "cell_type": "code",
   "execution_count": null,
   "id": "30dba8a2-0517-495b-ad07-98e917d6c7c6",
   "metadata": {
    "tags": []
   },
   "outputs": [],
   "source": [
    "plt.scatter(*gpo.params_trans_fun(gpo.test_params).T)\n",
    "plt.scatter(*gpo.evaluator.X.T)"
   ]
  },
  {
   "cell_type": "code",
   "execution_count": null,
   "id": "4e5d974f-062c-4a95-8281-7da0bac303db",
   "metadata": {
    "tags": []
   },
   "outputs": [],
   "source": [
    "%debug\n"
   ]
  },
  {
   "cell_type": "code",
   "execution_count": null,
   "id": "90e5fe21-032a-4f69-8828-8fdf3af39773",
   "metadata": {
    "tags": []
   },
   "outputs": [],
   "source": [
    "de = gpo.evaluator.copy()\n",
    "dv = gpo.validator.copy()"
   ]
  },
  {
   "cell_type": "code",
   "execution_count": null,
   "id": "f8e220b2-8b00-4db1-b231-4b84af288773",
   "metadata": {
    "tags": []
   },
   "outputs": [],
   "source": [
    "dv.c"
   ]
  },
  {
   "cell_type": "code",
   "execution_count": null,
   "id": "7e9fc135-0490-4c8e-b4ac-0bcb2d4838c3",
   "metadata": {
    "tags": []
   },
   "outputs": [],
   "source": [
    "import torch\n",
    "\n",
    "X2 = torch.cat([gpo.evaluator.torch_inputs, -gpo.evaluator.torch_inputs[-1][None]])\n",
    "y2 = torch.cat([gpo.evaluator.torch_targets, -gpo.evaluator.torch_targets[-1][None]])"
   ]
  },
  {
   "cell_type": "code",
   "execution_count": null,
   "id": "0969fb6c-cc0f-423a-ad53-9146f588f4fc",
   "metadata": {},
   "outputs": [],
   "source": [
    "X2"
   ]
  },
  {
   "cell_type": "code",
   "execution_count": null,
   "id": "444fd84b-fda0-4587-826a-4b72425c3ae1",
   "metadata": {
    "tags": []
   },
   "outputs": [],
   "source": [
    "de.model.set_train_data(X2, y2, strict=False)"
   ]
  },
  {
   "cell_type": "code",
   "execution_count": null,
   "id": "db992f8b-7ca7-40a9-bbeb-923f9af00cf1",
   "metadata": {
    "tags": []
   },
   "outputs": [],
   "source": [
    "gpo.evaluator.model.train_targets.detach().numpy().astype(float)"
   ]
  },
  {
   "cell_type": "code",
   "execution_count": null,
   "id": "fbdcf1a6-fc54-4132-bbe9-b50a93038af4",
   "metadata": {
    "tags": []
   },
   "outputs": [],
   "source": [
    "de.model.set_train_data"
   ]
  },
  {
   "cell_type": "code",
   "execution_count": null,
   "id": "dd712417-f32a-4d67-8b43-6600aa65cb2a",
   "metadata": {
    "tags": []
   },
   "outputs": [],
   "source": [
    "gpo.recommend(strategy='explore', greedy=False, n=2)"
   ]
  },
  {
   "cell_type": "code",
   "execution_count": null,
   "id": "6a77d8b9-2a93-47e1-8b4f-114c46db191e",
   "metadata": {
    "tags": []
   },
   "outputs": [],
   "source": [
    "gpo.evaluator.copy()"
   ]
  },
  {
   "cell_type": "code",
   "execution_count": null,
   "id": "1cf9ee54-0cbc-4d6f-9218-1a0cebf0b72c",
   "metadata": {
    "tags": []
   },
   "outputs": [],
   "source": [
    "# gpo = Optimizer(\n",
    "#     init_scheme='quasi-random', \n",
    "#     n_init=16, \n",
    "#     run_engine=RE, \n",
    "#     db=db, \n",
    "#     detector=w9, \n",
    "#     detector_type='image',\n",
    "#     dofs=dofs, \n",
    "#     dof_bounds=hard_bounds, \n",
    "#     fitness_model='max_sep_density',\n",
    "#     training_iter=100, \n",
    "#     verbose=True,\n",
    "# )\n",
    "# gpo.save('model.gpo')"
   ]
  },
  {
   "cell_type": "code",
   "execution_count": null,
   "id": "8c94781a-e002-4745-b9ac-c6187235d143",
   "metadata": {},
   "outputs": [],
   "source": []
  },
  {
   "cell_type": "code",
   "execution_count": null,
   "id": "2821321f-c712-4dfb-979c-a39ef349ae37",
   "metadata": {
    "tags": []
   },
   "outputs": [],
   "source": [
    "gpo.dummy_evaluator"
   ]
  },
  {
   "cell_type": "code",
   "execution_count": null,
   "id": "98c9ed89-6cd6-4fc8-b6de-3e4664217803",
   "metadata": {
    "tags": []
   },
   "outputs": [],
   "source": [
    "gpo.dummy_evaluator = bloptools.gp.GPR()\n",
    "gpo.dummy_evaluator.set_data(gpo.evaluator.x, gpo.evaluator.y)\n",
    "gpo.dummy_evaluator.model.load_state_dict(gpo.evaluator.model.state_dict())"
   ]
  },
  {
   "cell_type": "code",
   "execution_count": null,
   "id": "cd8be7c1-36fa-46d7-a124-79177bb6327a",
   "metadata": {
    "tags": []
   },
   "outputs": [],
   "source": [
    "gpo.dummy_evaluator.regress"
   ]
  },
  {
   "cell_type": "code",
   "execution_count": null,
   "id": "b1e28555-7eb2-4f27-aef3-f89f60f30060",
   "metadata": {
    "tags": []
   },
   "outputs": [],
   "source": [
    "explore_params = gpo.recommend(strategy='explore', greedy=False, n=8)"
   ]
  },
  {
   "cell_type": "code",
   "execution_count": null,
   "id": "708dba8c-451f-4342-8617-a47133a4d85f",
   "metadata": {
    "tags": []
   },
   "outputs": [],
   "source": [
    "plt.scatter(*gpo.test_params.T, c=-bloptools.gp._posterior_entropy(experimental_X=gpo.test_params[:,None]))\n",
    "plt.scatter(*explore_params.T, c='r')"
   ]
  },
  {
   "cell_type": "code",
   "execution_count": null,
   "id": "3bd7c0f9-09cd-4b68-bc37-30b70509316f",
   "metadata": {
    "tags": []
   },
   "outputs": [],
   "source": [
    "gpo.test_params[:,None].shape"
   ]
  },
  {
   "cell_type": "code",
   "execution_count": null,
   "id": "d50bc769-6bbd-4729-ab6d-2fe37628e285",
   "metadata": {
    "tags": []
   },
   "outputs": [],
   "source": [
    "%debug"
   ]
  },
  {
   "cell_type": "code",
   "execution_count": null,
   "id": "7d9efb89-54ec-4883-a227-5a55d279602e",
   "metadata": {},
   "outputs": [],
   "source": []
  },
  {
   "cell_type": "code",
   "execution_count": null,
   "id": "1da11d71-d5c2-40b4-8a01-c7ebf4abfa7e",
   "metadata": {
    "tags": []
   },
   "outputs": [],
   "source": [
    "n_per_iter = 2\n",
    "\n",
    "iter_params = np.random.uniform(size=(7, n_per_iter, gpo.n_dof)) * gpo.dof_bounds.ptp(axis=1) + gpo.dof_bounds.min(axis=1)"
   ]
  },
  {
   "cell_type": "code",
   "execution_count": null,
   "id": "dd9d7a55-495b-48ef-b835-fccd422f892f",
   "metadata": {
    "tags": []
   },
   "outputs": [],
   "source": [
    "current_entropy = gpo._posterior_entropy(None)\n",
    "current_entropy"
   ]
  },
  {
   "cell_type": "code",
   "execution_count": null,
   "id": "2136e20c-d7da-4f01-8dff-5b95f332d22a",
   "metadata": {
    "tags": []
   },
   "outputs": [],
   "source": [
    "\n"
   ]
  },
  {
   "cell_type": "code",
   "execution_count": null,
   "id": "2dfa009d-8a45-48a8-9b26-82c34b600e5d",
   "metadata": {
    "tags": []
   },
   "outputs": [],
   "source": [
    "def _reward(self, PARAMS, model='entropy'):\n",
    "    \n",
    "    if not PARAMS.ndim == 3: \n",
    "        raise ValueError\n",
    "        \n",
    "    return self._posterior_entropy() - self._posterior_entropy(PARAMS)\n",
    "\n",
    "\n",
    "def _cost(self, PARAMS, model='normalized_distance'):\n",
    "    \n",
    "    if not PARAMS.ndim == 3: \n",
    "        raise ValueError\n",
    "        \n",
    "    costs = []\n",
    "        \n",
    "    for params in PARAMS:\n",
    "        costs.append(np.sqrt(np.square(np.diff(np.r_[self.current_params[None], params.reshape(-1, self.n_dof)]  / gpo.dof_bounds.ptp(axis=1), axis=0)).sum()))\n",
    "\n",
    "    return 1e-2 + np.array(costs)\n",
    "\n",
    "\n",
    "def _loss(p, gpo, reward_model='entropy', cost_model='normalized_distance'):\n",
    "    \n",
    "    params = p.reshape(-1, gpo.n_dof)\n",
    "    loss = -_reward(gpo, params[None]) / _cost(gpo, params[None])\n",
    "    #print(loss)\n",
    "    return loss\n"
   ]
  },
  {
   "cell_type": "code",
   "execution_count": null,
   "id": "29807f7c-4a0c-4543-9863-a4f3d70bce0f",
   "metadata": {
    "tags": []
   },
   "outputs": [],
   "source": [
    "_reward(gpo, iter_params), _cost(gpo, iter_params),  _objective(iter_params.ravel(), gpo)"
   ]
  },
  {
   "cell_type": "code",
   "execution_count": null,
   "id": "e09e3814-c287-4fe5-a713-ddb8fe091e01",
   "metadata": {
    "tags": []
   },
   "outputs": [],
   "source": [
    "n_guide = 2\n",
    "\n",
    "n_per_iter = 16\n",
    "\n",
    "guide_points = np.random.uniform(size=(n_guide, gpo.n_dof)) * gpo.dof_bounds.ptp(axis=1) + gpo.dof_bounds.min(axis=1)\n",
    "\n",
    "init_params = sp.interpolate.interp1d(np.arange(n_guide+1), \n",
    "                                      np.r_[gpo.current_params[None], guide_points], axis=0)(np.linspace(0, n_guide, n_per_iter))\n",
    "\n",
    "bounds = np.repeat(gpo.dof_bounds[None], n_per_iter, axis=0).reshape(-1, 2)"
   ]
  },
  {
   "cell_type": "code",
   "execution_count": null,
   "id": "8f718985-3313-4e9d-b0af-bef5b086e44a",
   "metadata": {},
   "outputs": [],
   "source": []
  },
  {
   "cell_type": "code",
   "execution_count": null,
   "id": "f12422b8-bb69-4dc1-a879-890a0eeb41b5",
   "metadata": {
    "tags": []
   },
   "outputs": [],
   "source": [
    "plt.scatter(*init_params.T)"
   ]
  },
  {
   "cell_type": "code",
   "execution_count": null,
   "id": "97149f7c-8bd5-435a-8917-85fc91f24109",
   "metadata": {
    "tags": []
   },
   "outputs": [],
   "source": [
    "import scipy as sp\n",
    "res = sp.optimize.minimize(_loss, \n",
    "                           x0=init_params.ravel(), \n",
    "                           args=(gpo,), \n",
    "                           bounds=bounds,\n",
    "                           options={'maxiter': 16})\n",
    "res.x.reshape(-1, gpo.n_dof)"
   ]
  },
  {
   "cell_type": "code",
   "execution_count": null,
   "id": "0ca2d1af-98a4-426f-9b5b-c32fde066b45",
   "metadata": {
    "tags": []
   },
   "outputs": [],
   "source": [
    "import torch\n",
    "import warnings"
   ]
  },
  {
   "cell_type": "code",
   "execution_count": null,
   "id": "e3361177-9ccd-4b13-bad4-cbd2d4e92b43",
   "metadata": {
    "tags": []
   },
   "outputs": [],
   "source": [
    "self = gpo\n",
    "\n",
    "\n",
    "def _posterior_entropy(self, prior_params=None, experiment_params=None):\n",
    "    \n",
    "    \"\"\"\n",
    "    Returns the change in integrated entropy of the process contingent on some experiment using a Quasi-Monte Carlo integration over a\n",
    "    dummy Gaussian processes.\n",
    "    \n",
    "    prior_params: numpy array with shape (n_params, n_dof)\n",
    "    \n",
    "    experiment_params: numpy array with shape (n_sets, n_params_per_set, n_dof)\n",
    "\n",
    "    If None is passed, we return the posterior entropy of the real process.\n",
    "    \"\"\"\n",
    "    \n",
    "    if prior_params is None:\n",
    "        prior_params = self.params  # one set of zero observations\n",
    "\n",
    "    if experiment_params is None:\n",
    "        experiment_params = np.empty((1, 0, self.n_dof))  # one set of zero observations\n",
    "\n",
    "    if not experiment_params.ndim == 3:\n",
    "        raise ValueError('Passed params must have shape (n_sets, n_params_per_set, n_dof).')\n",
    "\n",
    "    # get the noise from the evaluator likelihood\n",
    "    raw_noise = self.evaluator.model.state_dict()[\"likelihood.noise_covar.raw_noise\"]\n",
    "    noise = self.evaluator.model.likelihood.noise_covar.raw_noise_constraint.transform(raw_noise).item()\n",
    "\n",
    "    # n_data is the number of points in each observation we consider (n_data = n_process + n_params_per_set)\n",
    "    # x_data is an array of shape (n_sets, n_data, n_dof) that describes potential obervation states\n",
    "    # x_star is an array of points at which to evaluate the entropy rate, to sum together for the QMCI\n",
    "    x_data = torch.as_tensor(\n",
    "        self.params_trans_fun(np.r_[[np.r_[prior_params, _p] for _p in np.atleast_3d(experiment_params)]])\n",
    "    )\n",
    "    x_star = torch.as_tensor(self.params_trans_fun(self.test_params))\n",
    "\n",
    "    # for each potential observation state, compute the prior-prior and prior-posterior covariance matrices\n",
    "    # $C_data_data$ is the covariance of the potential data with itself, for each set of obervations\n",
    "    # $C_star_data$ is the covariance of the QMCI points with the potential data (n_sets, n_qmci, n_data)\n",
    "    # we don't care about K_star_star for our purposes, only its diagonal which is a constant prior_variance\n",
    "    C_data_data = self.evaluator.model.covar_module(x_data, x_data).detach().numpy().astype(\n",
    "        float\n",
    "    ) + noise**2 * np.eye(x_data.shape[1])\n",
    "    C_star_data = self.evaluator.model.covar_module(x_star, x_data).detach().numpy().astype(float)\n",
    "\n",
    "    prior_variance = self.evaluator.model.covar_module.output_scale.item() ** 2 + noise**2\n",
    "\n",
    "    # normally we would compute A * B\" * A', but that would be inefficient as we only care about the diagonal.\n",
    "    # instead, compute this as:\n",
    "    #\n",
    "    # diag(A * B\" * A') = sum(A * B\" . A', -1)\n",
    "    #\n",
    "    # which is much faster.\n",
    "\n",
    "    explained_variance = (np.matmul(C_star_data, np.linalg.inv(C_data_data)) * C_star_data).sum(axis=-1)\n",
    "    posterior_variance = prior_variance - explained_variance\n",
    "\n",
    "    n_bad, n_tot = (posterior_variance <= 0).sum(), len(posterior_variance.ravel())\n",
    "\n",
    "    if not n_bad == 0:  # the posterior variance should always be positive\n",
    "        warnings.warn(f\"{n_bad}/{n_tot} variance estimates are non-positive.\")\n",
    "        if n_bad / n_tot > 0.5:\n",
    "            raise ValueError(\"More than half of the variance estimates are non-positive.\")\n",
    "\n",
    "    marginal_entropy_rate = 0.5 * np.log(2 * np.pi * np.e * posterior_variance)\n",
    "\n",
    "    return marginal_entropy_rate.sum(axis=-1)"
   ]
  },
  {
   "cell_type": "code",
   "execution_count": null,
   "id": "db8e2e12-9aff-4bc1-b0df-d9b5a8426363",
   "metadata": {
    "tags": []
   },
   "outputs": [],
   "source": []
  },
  {
   "cell_type": "code",
   "execution_count": null,
   "id": "dfe3e45c-ec15-4ab2-936e-c31f5bf4c880",
   "metadata": {
    "tags": []
   },
   "outputs": [],
   "source": [
    "self = gpo\n",
    "\n",
    "n_per_iter = 6\n",
    "\n",
    "params_to_sample = np.zeros((0, self.n_dof))\n",
    "\n",
    "for i in range(n_per_iter):\n",
    "    \n",
    "    print(i)\n",
    "\n",
    "    PH = _posterior_entropy(self, prior_params=np.r_[self.params, params_to_sample], experiment_params=self.test_params[:,None])\n",
    "    EdPH = self.validate(self.test_params) * (PH - _posterior_entropy(self))\n",
    "    \n",
    "    params_to_sample = np.r_[params_to_sample, self.test_params[np.nanargmin(EdPH)][None]]"
   ]
  },
  {
   "cell_type": "code",
   "execution_count": null,
   "id": "4dab0565-55ab-4cde-bb1a-cb4c4fd1fcb4",
   "metadata": {
    "tags": []
   },
   "outputs": [],
   "source": [
    "plt.scatter(*gpo.test_params.T, c=EdPH, cmap='gray')\n",
    "plt.scatter(*params_to_sample.T, c='r')\n",
    "plt.colorbar()"
   ]
  },
  {
   "cell_type": "code",
   "execution_count": null,
   "id": "705dc2db-a245-43c3-a1b5-467a178420da",
   "metadata": {
    "tags": []
   },
   "outputs": [],
   "source": [
    "params_to_sample"
   ]
  },
  {
   "cell_type": "code",
   "execution_count": null,
   "id": "591eb3b4-8c6e-4cdb-8d9a-1babd487a9ae",
   "metadata": {
    "tags": []
   },
   "outputs": [],
   "source": [
    "gpo.test_params[EdPH.argmin()]"
   ]
  },
  {
   "cell_type": "code",
   "execution_count": null,
   "id": "89d12710-0817-46ad-a17b-51af2125ed08",
   "metadata": {
    "tags": []
   },
   "outputs": [],
   "source": [
    "plt.scatter(*gpo.params.T)\n",
    "plt.scatter(*params_to_sample.T)"
   ]
  },
  {
   "cell_type": "code",
   "execution_count": null,
   "id": "28e4fad5-e101-4ef2-a553-80164666723e",
   "metadata": {},
   "outputs": [],
   "source": [
    "plt.scatter("
   ]
  },
  {
   "cell_type": "code",
   "execution_count": null,
   "id": "e8ddb62d-1b08-4a4b-bcab-49d4fe528d99",
   "metadata": {
    "tags": []
   },
   "outputs": [],
   "source": [
    "plt.scatter(*gpo.params.T)\n",
    "plt.scatter(*init_params.T)\n",
    "plt.plot(*res.x.reshape(-1, gpo.n_dof).T)"
   ]
  },
  {
   "cell_type": "code",
   "execution_count": null,
   "id": "ead5305b-2818-4678-9fff-f6b2f81a3c67",
   "metadata": {
    "tags": []
   },
   "outputs": [],
   "source": [
    "res"
   ]
  },
  {
   "cell_type": "code",
   "execution_count": null,
   "id": "bd83e767-6c65-429a-9a68-cf06b18cb242",
   "metadata": {
    "tags": []
   },
   "outputs": [],
   "source": [
    "_cost(gpo, res.x.reshape(-1, gpo.n_dof)[None])"
   ]
  },
  {
   "cell_type": "code",
   "execution_count": null,
   "id": "b91f0a86-51b8-4c93-b37e-62310d23bb17",
   "metadata": {
    "tags": []
   },
   "outputs": [],
   "source": [
    "current_params = gpo.current_params\n",
    "current_params "
   ]
  },
  {
   "cell_type": "code",
   "execution_count": null,
   "id": "a60873b9-37cb-4a4a-93bf-48097924ab94",
   "metadata": {
    "tags": []
   },
   "outputs": [],
   "source": [
    "dH = current_entropy - gpo._posterior_entropy(iter_params[None])\n",
    "\n",
    "cost = "
   ]
  },
  {
   "cell_type": "code",
   "execution_count": null,
   "id": "25964088-a198-4ff0-8d9f-10118b147a81",
   "metadata": {},
   "outputs": [],
   "source": []
  },
  {
   "cell_type": "code",
   "execution_count": null,
   "id": "523f3c33-924b-4dfb-83c3-3b9c498e204c",
   "metadata": {
    "tags": []
   },
   "outputs": [],
   "source": [
    "#gpo.evaluator.mll"
   ]
  },
  {
   "cell_type": "code",
   "execution_count": null,
   "id": "2433a79e-7c1e-41f0-91fc-ba01c0be4d0b",
   "metadata": {
    "tags": []
   },
   "outputs": [],
   "source": [
    "for i in range(4):\n",
    "\n",
    "    gpo.learn(n_iter=1, n_per_iter=1, strategy='explore', greedy=True, reuse_hypers=False)\n",
    "    gpo.learn(n_iter=1torch.square(self.output_scale[0]) * , n_per_iter=1, strategy='exploit', greedy=True, reuse_hypers=False)\n",
    "#gpo.learn(n_iter=1, n_per_iter=1, strategy='D-optimal', greedy=True, reuse_hypers=False)"
   ]
  },
  {
   "cell_type": "code",
   "execution_count": null,
   "id": "dac99267-8b7e-454f-b7a8-07c12e6a09c5",
   "metadata": {
    "tags": []
   },
   "outputs": [],
   "source": [
    "FM = gpo._contingent_fisher_information_matrix(gpo.test_params[0])[0]\n",
    "plt.imshow(np.abs(FM), norm=mpl.colors.LogNorm())\n",
    "plt.colorbar()"
   ]
  },
  {
   "cell_type": "code",
   "execution_count": null,
   "id": "3478485b-e961-4d01-a9a2-86b969656585",
   "metadata": {},
   "outputs": [],
   "source": []
  },
  {
   "cell_type": "code",
   "execution_count": null,
   "id": "bfead3b1-f592-4fae-b477-06ed6de8d966",
   "metadata": {
    "tags": []
   },
   "outputs": [],
   "source": [
    "gpo.plot_fitness()"
   ]
  },
  {
   "cell_type": "code",
   "execution_count": null,
   "id": "2703eff1-1d14-401d-bf9c-e5ebabb5e53a",
   "metadata": {},
   "outputs": [],
   "source": []
  }
 ],
 "metadata": {
  "kernelspec": {
   "display_name": "Python 3 (ipykernel)",
   "language": "python",
   "name": "python3"
  },
  "language_info": {
   "codemirror_mode": {
    "name": "ipython",
    "version": 3
   },
   "file_extension": ".py",
   "mimetype": "text/x-python",
   "name": "python",
   "nbconvert_exporter": "python",
   "pygments_lexer": "ipython3",
   "version": "3.9.16"
  }
 },
 "nbformat": 4,
 "nbformat_minor": 5
}
