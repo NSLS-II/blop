{
 "cells": [
  {
   "cell_type": "code",
   "execution_count": null,
   "id": "e7b5e13a-c059-441d-8d4f-fff080d52054",
   "metadata": {},
   "outputs": [],
   "source": [
    "%run ../examples/prepare_gp_optimizer.py"
   ]
  },
  {
   "cell_type": "code",
   "execution_count": null,
   "id": "071a829f-a390-40dc-9d5b-ae75702e119e",
   "metadata": {},
   "outputs": [],
   "source": [
    "\n",
    "gpo = Optimizer(init_scheme='quasi-random', \n",
    "                n_init=8, \n",
    "                run_engine=RE, \n",
    "                db=db, \n",
    "                detector=w9, \n",
    "                detector_type='image',\n",
    "                dofs=dofs, \n",
    "                dof_bounds=hard_bounds, \n",
    "                fitness_model='max_sep_density',\n",
    "                training_iter=100, \n",
    "                verbose=True)\n"
   ]
  },
  {
   "cell_type": "code",
   "execution_count": null,
   "id": "996c3c01-f91d-4a25-9b8d-eba5fa964504",
   "metadata": {},
   "outputs": [],
   "source": [
    "gpo.plot_state(gridded=True)\n",
    "gpo.plot_fitness()"
   ]
  },
  {
   "cell_type": "code",
   "execution_count": null,
   "id": "2306fac9-94ac-4e2a-bb6f-3c1b4d2900e4",
   "metadata": {},
   "outputs": [],
   "source": [
    "FM = gpo._contingent_fisher_information_matrix(gpo.test_params[0])[0]\n",
    "plt.imshow(FM)\n",
    "plt.colorbar()"
   ]
  },
  {
   "cell_type": "code",
   "execution_count": null,
   "id": "bed54391-d060-48a7-98d0-15962c79669e",
   "metadata": {},
   "outputs": [],
   "source": [
    "gpo.evaluator.model.covar_module.state_dict()"
   ]
  },
  {
   "cell_type": "code",
   "execution_count": null,
   "id": "8a6b3467-f181-4c48-85f3-3f1011a83cfa",
   "metadata": {},
   "outputs": [],
   "source": [
    "# valid strategies are 'quasi-random', 'explore', 'exploit', 'A-optimal', 'D-optimal'\n",
    "\n",
    "# n_iter defines how many iterations of learning it will perform\n",
    "# n_per_iter defines how many points it will sample between updating its model\n",
    "# greedy determines whether it cares about anything beyond the next iteration\n",
    "# reuse_hypers determines whether it re-fits the hyperparameters from scratch on model update\n",
    "\n",
    "gpo.learn(n_iter=1, n_per_iter=1, strategy='quasi-random', greedy=True, reuse_hypers=False)\n",
    "gpo.learn(n_iter=1, n_per_iter=1, strategy='explore', greedy=True, reuse_hypers=False)\n",
    "gpo.learn(n_iter=1, n_per_iter=1, strategy='exploit', greedy=True, reuse_hypers=False)\n",
    "gpo.learn(n_iter=1, n_per_iter=1, strategy='A-optimal', greedy=True, reuse_hypers=False)\n",
    "gpo.learn(n_iter=1, n_per_iter=1, strategy='D-optimal', greedy=True, reuse_hypers=False)"
   ]
  },
  {
   "cell_type": "code",
   "execution_count": null,
   "id": "1b69af1d-897e-4b57-b3fc-9d39d0eba86e",
   "metadata": {},
   "outputs": [],
   "source": [
    "dir(w9)"
   ]
  },
  {
   "cell_type": "code",
   "execution_count": null,
   "id": "1017c3f1-3ba4-45ec-bc84-d176af999990",
   "metadata": {},
   "outputs": [],
   "source": []
  }
 ],
 "metadata": {
  "kernelspec": {
   "display_name": "Python 3 (ipykernel)",
   "language": "python",
   "name": "python3"
  },
  "language_info": {
   "codemirror_mode": {
    "name": "ipython",
    "version": 3
   },
   "file_extension": ".py",
   "mimetype": "text/x-python",
   "name": "python",
   "nbconvert_exporter": "python",
   "pygments_lexer": "ipython3",
   "version": "3.9.13"
  }
 },
 "nbformat": 4,
 "nbformat_minor": 5
}
