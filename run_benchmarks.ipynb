{
 "cells": [
  {
   "cell_type": "code",
   "execution_count": null,
   "id": "7a05f2b4-ff97-4688-b9f6-e607ca4118c2",
   "metadata": {},
   "outputs": [],
   "source": [
    "import numpy as np\n",
    "import matplotlib as mpl\n",
    "from matplotlib import pyplot as plt\n",
    "from bloptools import test_functions\n",
    "\n",
    "import os\n",
    "\n",
    "os.environ[\n",
    "    \"PATH\"\n",
    "] = \"/opt/homebrew/opt/llvm/bin:/Users/tom/opt/anaconda3/bin:/Users/tom/opt/anaconda3/condabin:/opt/homebrew/bin:/opt/homebrew/sbin:/usr/local/bin:/usr/bin:/bin:/usr/sbin:/sbin:/Library/TeX/texbin:/opt/X11/bin\"\n",
    "\n",
    "plt.rcParams.update(\n",
    "    {\n",
    "        \"text.usetex\": True,\n",
    "    }\n",
    ")"
   ]
  },
  {
   "cell_type": "code",
   "execution_count": null,
   "id": "ef7272c7-9192-41a4-8b26-c620ddc2acfa",
   "metadata": {},
   "outputs": [],
   "source": [
    "from bloptools import devices\n",
    "\n",
    "dofs = [\n",
    "    {\"device\": devices.DOF(name=\"x1\"), \"limits\": (-6, 6), \"kind\": \"active\"},\n",
    "    {\"device\": devices.DOF(name=\"x2\"), \"limits\": (-6, 6), \"kind\": \"active\"},\n",
    "]\n",
    "\n",
    "\n",
    "def digestion(db, uid):\n",
    "    products = db[uid].table()\n",
    "\n",
    "    for index, entry in products.iterrows():\n",
    "        products.loc[index, \"himmelblau\"] = test_functions.himmelblau(entry.x1, entry.x2)\n",
    "\n",
    "    return products\n",
    "\n",
    "\n",
    "tasks = [\n",
    "    {\"key\": \"himmelblau\", \"kind\": \"minimize\"},\n",
    "]"
   ]
  },
  {
   "cell_type": "code",
   "execution_count": null,
   "id": "5c39e262-6cc5-4165-bb06-16ce95641b14",
   "metadata": {},
   "outputs": [],
   "source": []
  },
  {
   "cell_type": "code",
   "execution_count": null,
   "id": "f315b273-8f5b-4cc8-93cd-317697e19841",
   "metadata": {},
   "outputs": [],
   "source": [
    "from bloptools import devices\n",
    "\n",
    "dofs = [\n",
    "    {\"device\": devices.DOF(name=\"x1\"), \"limits\": (0, 1), \"kind\": \"active\"},  # \"latent_group\": 0},\n",
    "    {\"device\": devices.DOF(name=\"x2\"), \"limits\": (0, 1), \"kind\": \"active\"},  # \"latent_group\": 0},\n",
    "    {\"device\": devices.DOF(name=\"x3\"), \"limits\": (0, 1), \"kind\": \"active\"},  # \"latent_group\": 0},\n",
    "    {\"device\": devices.DOF(name=\"x4\"), \"limits\": (0, 1), \"kind\": \"active\"},  # \"latent_group\": 0},\n",
    "    {\"device\": devices.DOF(name=\"x5\"), \"limits\": (0, 1), \"kind\": \"active\"},  # \"latent_group\": 0},\n",
    "    {\"device\": devices.DOF(name=\"x6\"), \"limits\": (0, 1), \"kind\": \"active\"},  # \"latent_group\": 0},\n",
    "]\n",
    "\n",
    "\n",
    "def digestion(db, uid):\n",
    "    products = db[uid].table()\n",
    "\n",
    "    for index, entry in products.iterrows():\n",
    "        products.loc[index, \"neg_hartmann\"] = -test_functions.hartmann6(\n",
    "            entry.x1, entry.x2, entry.x3, entry.x4, entry.x5, entry.x6\n",
    "        )\n",
    "\n",
    "    return products\n",
    "\n",
    "\n",
    "tasks = [\n",
    "    {\"key\": \"neg_hartmann\", \"kind\": \"maximize\", \"transform\": \"log\"},\n",
    "]"
   ]
  },
  {
   "cell_type": "code",
   "execution_count": null,
   "id": "57e74305-9b50-4021-be84-07aea2ef1440",
   "metadata": {},
   "outputs": [],
   "source": [
    "import bloptools\n",
    "from bloptools.utils import prepare_re_env\n",
    "\n",
    "%run -i $prepare_re_env.__file__ --db-type=temp\n",
    "from bloptools.bayesian import Agent\n",
    "\n",
    "agent = Agent(\n",
    "    dofs=dofs,\n",
    "    tasks=tasks,\n",
    "    digestion=digestion,\n",
    "    db=db,\n",
    ")\n",
    "\n",
    "# RE(agent.learn(\"qr\", n=128))\n",
    "# RE(agent.learn(\"qei\", n=1, iterations=4))"
   ]
  },
  {
   "cell_type": "code",
   "execution_count": null,
   "id": "ae6d0836-7bed-4b69-a5d5-16fe2b00700a",
   "metadata": {},
   "outputs": [],
   "source": [
    "RE(\n",
    "    agent.benchmark(\n",
    "        output_dir=\"../data/benchmark_hartmann6_no_latent/\",\n",
    "        n_init=4,\n",
    "        runs=64,\n",
    "        learning_kwargs_list=[{\"acq_func\": \"qei\", \"n\": 4, \"iterations\": 64}],\n",
    "    )\n",
    ")\n",
    "# {\"acq_func\": \"qem\", \"n\": 4, \"iterations\": 16},\n",
    "# {\"acq_func\": \"qei\", \"n\": 4, \"iterations\": 16},\n",
    "# {\"acq_func\": \"qem\", \"n\": 4, \"iterations\": 16}]))"
   ]
  },
  {
   "cell_type": "code",
   "execution_count": null,
   "id": "2e35d047-7354-478b-8bb6-55d39f7727d9",
   "metadata": {},
   "outputs": [],
   "source": [
    "os.mkdir()"
   ]
  },
  {
   "cell_type": "code",
   "execution_count": null,
   "id": "97d534dd-af7d-46db-af7c-2464a2da119e",
   "metadata": {},
   "outputs": [],
   "source": [
    "import pandas as pd\n",
    "import glob\n",
    "\n",
    "paths = glob.glob(\"../data/benchmark_hartmann_no_latent/*.h5\")\n",
    "\n",
    "for path in paths:\n",
    "    table = pd.read_hdf(path, key=\"table\")\n",
    "\n",
    "    plt.plot(-cummax(np.exp(table.neg_hartmann_fitness.values)), lw=1e-1)"
   ]
  },
  {
   "cell_type": "code",
   "execution_count": null,
   "id": "6430af55-4737-4e3a-9652-d29a7632726f",
   "metadata": {},
   "outputs": [],
   "source": []
  },
  {
   "cell_type": "code",
   "execution_count": null,
   "id": "a75629d0-0fa9-4153-8ea4-0d6caa29b8cc",
   "metadata": {},
   "outputs": [],
   "source": [
    "RE(agent.learn(\"qei\", n=2, iterations=16))"
   ]
  },
  {
   "cell_type": "code",
   "execution_count": null,
   "id": "5767dbd1-6388-4da3-a33a-197142a6ba6e",
   "metadata": {},
   "outputs": [],
   "source": [
    "np.round(agent.tasks[0][\"model\"].covar_module.latent_transform.detach(), 3)"
   ]
  },
  {
   "cell_type": "code",
   "execution_count": null,
   "id": "7a42b5ec-1a55-4e23-9b0a-050e383d5349",
   "metadata": {},
   "outputs": [],
   "source": []
  },
  {
   "cell_type": "code",
   "execution_count": null,
   "id": "e7f1e3cc-0d93-4c35-88e9-47811f2a5fb7",
   "metadata": {},
   "outputs": [],
   "source": [
    "cummax = lambda iterable: np.array([np.nanmax(iterable[:i]) for i in range(1, len(iterable) + 1)])"
   ]
  },
  {
   "cell_type": "code",
   "execution_count": null,
   "id": "405e21e2-a87d-4f79-8fb4-3bce7de37fce",
   "metadata": {},
   "outputs": [],
   "source": [
    "agent.plot_tasks()"
   ]
  },
  {
   "cell_type": "code",
   "execution_count": null,
   "id": "f578fbad-03c1-4171-b27c-c266297443fc",
   "metadata": {},
   "outputs": [],
   "source": [
    "qei, _ = bloptools.bayesian.acquisition.get_acquisition_function(agent, \"qei\")"
   ]
  },
  {
   "cell_type": "code",
   "execution_count": null,
   "id": "4c32e76c-13db-4046-857c-6da522b94bc0",
   "metadata": {},
   "outputs": [],
   "source": [
    "X, _ = agent.ask(\"qei\", n=8)"
   ]
  },
  {
   "cell_type": "code",
   "execution_count": null,
   "id": "fb739668-9cb7-428d-bd63-a4cfa13fe0a1",
   "metadata": {},
   "outputs": [],
   "source": [
    "import torch\n",
    "\n",
    "x1 = torch.linspace(-6, 6, 63)\n",
    "x2 = torch.linspace(-6, 6, 63)\n",
    "X1, X2 = torch.meshgrid(x1, x2, indexing=\"ij\")\n",
    "\n",
    "xg = torch.cat([X1.unsqueeze(-1), X2.unsqueeze(-1)], dim=-1)\n",
    "obj_grid = qei(xg.reshape(-1, 1, 2)).reshape(xg.shape[:2]).detach()"
   ]
  },
  {
   "cell_type": "code",
   "execution_count": null,
   "id": "e2e8f8cc-7f06-4fd8-b16b-e959b7fff934",
   "metadata": {},
   "outputs": [],
   "source": [
    "import scipy as sp"
   ]
  },
  {
   "cell_type": "code",
   "execution_count": null,
   "id": "57f35ce5-3d4a-48d1-9ffe-750a35b26be8",
   "metadata": {},
   "outputs": [],
   "source": [
    "optima = [(3, 2), (-2.805, 3.1313), (-3.779, -3.283), (3.584, -1.848)]\n",
    "\n",
    "\n",
    "fig, axes = plt.subplots(1, 4, figsize=(12, 4), dpi=256)\n",
    "axes = axes.ravel()\n",
    "\n",
    "y = -agent._get_task_fitness(0)\n",
    "\n",
    "post = agent.model.posterior(xg)\n",
    "pred = -post.mean[..., 0].detach()\n",
    "err = post.variance[..., 0].detach()\n",
    "\n",
    "norm = mpl.colors.Normalize(-500, 0)\n",
    "\n",
    "cmap = \"magma\"\n",
    "\n",
    "zoom = 8\n",
    "\n",
    "uxg1 = sp.ndimage.zoom(xg[..., 0], zoom=zoom)\n",
    "uxg2 = sp.ndimage.zoom(xg[..., 1], zoom=zoom)\n",
    "umu = sp.ndimage.zoom(pred, zoom=zoom)\n",
    "usig = np.exp(sp.ndimage.zoom(np.log(err.sqrt()), zoom=zoom))\n",
    "uobj = sp.ndimage.zoom(obj_grid, zoom=zoom)\n",
    "\n",
    "samp = axes[0].scatter(*agent.active_inputs.values.T, c=-y, s=16, norm=norm, cmap=cmap)\n",
    "# axes[1].pcolormesh(uxg1, uxg2, -umu, norm=norm, cmap=cmap)\n",
    "# err = axes[2].pcolormesh(uxg1, uxg2, ulv, cmap=cmap)\n",
    "# acq = axes[3].pcolormesh(uxg1, uxg2, uobj, cmap=cmap)\n",
    "\n",
    "\n",
    "mean = axes[1].imshow(-umu.T[::-1], norm=norm, extent=[-6, 6, -6, 6], cmap=cmap, aspect=\"auto\")\n",
    "err = axes[2].imshow(usig.T[::-1], norm=mpl.colors.LogNorm(), extent=[-6, 6, -6, 6], cmap=cmap, aspect=\"auto\")\n",
    "acqf = axes[3].imshow(uobj.T[::-1], extent=[-6, 6, -6, 6], cmap=cmap, aspect=\"auto\")\n",
    "\n",
    "for ax in axes:\n",
    "    for x, y in optima:\n",
    "        ax.scatter(x, y, facecolor=\"w\", edgecolor=\"k\", marker=\"o\", lw=5e-1, s=16)\n",
    "\n",
    "    ax.set_xlim(-6, 6)\n",
    "    ax.set_ylim(-6, 6)\n",
    "    ax.set_xticks(np.arange(-6, 7, 2))\n",
    "    ax.set_yticks(np.arange(-6, 7, 2))\n",
    "    ax.set_xlabel(\"$x_1$\")\n",
    "    ax.set_ylabel(\"$x_2$\")\n",
    "\n",
    "axes[3].scatter(*X.T, marker=\"d\", lw=5e-1, color=\"k\", s=16)\n",
    "\n",
    "# axes[0].set_title(\"sampled points\")\n",
    "# axes[1].set_title(\"posterior mean\")\n",
    "# axes[2].set_title(\"posterior log std. dev.\")\n",
    "# axes[3].set_title(\"$q$-expected improvement\")\n",
    "\n",
    "\n",
    "# clb1 = fig.colorbar(mappable=mpl.cm.ScalarMappable(norm=norm), ax=axes[0:2], location=\"bottom\", shrink=0.8, aspect=32)\n",
    "clb1 = fig.colorbar(samp, ax=axes[0], location=\"bottom\", shrink=0.8, aspect=32)\n",
    "clb1.set_label(\"sampled points\")\n",
    "clb2 = fig.colorbar(mean, ax=axes[1], location=\"bottom\", shrink=0.8, aspect=32)\n",
    "clb2.set_label(\"posterior mean\")\n",
    "clb3 = fig.colorbar(err, ax=axes[2], location=\"bottom\", shrink=0.8, aspect=32)\n",
    "clb3.set_label(\"posterior std. dev.\")\n",
    "clb4 = fig.colorbar(acqf, ax=axes[3], location=\"bottom\", shrink=0.8, aspect=32)\n",
    "clb4.set_label(\"$q$-expected improvement\")\n",
    "# clb3 = fig.colorbar(acq, ax=axes[3], location=\"bottom\", shrink=0.8, aspect=32)\n",
    "\n",
    "plt.tight_layout()\n",
    "plt.savefig(\"../plots/bayesian_himmelblau.pdf\", bbox_inches=\"tight\", transparent=True, pad_inches=0, dpi=256)"
   ]
  },
  {
   "cell_type": "code",
   "execution_count": null,
   "id": "966398d1-4d0b-4271-8b65-ac563e157347",
   "metadata": {},
   "outputs": [],
   "source": [
    "np.exp(ulv)"
   ]
  },
  {
   "cell_type": "code",
   "execution_count": null,
   "id": "ec8dacf5-2d2e-4f51-8c8b-83344d1465c5",
   "metadata": {},
   "outputs": [],
   "source": []
  },
  {
   "cell_type": "code",
   "execution_count": null,
   "id": "0962910e-7c8f-4ccb-83ec-67551f6d443b",
   "metadata": {},
   "outputs": [],
   "source": []
  },
  {
   "cell_type": "code",
   "execution_count": null,
   "id": "5bda306b-6c3c-453e-8e1b-316c9001baee",
   "metadata": {},
   "outputs": [],
   "source": []
  },
  {
   "cell_type": "code",
   "execution_count": null,
   "id": "b897fa9e-22b7-4b0b-a57f-183cbf15bfc1",
   "metadata": {},
   "outputs": [],
   "source": []
  },
  {
   "cell_type": "code",
   "execution_count": null,
   "id": "cc343daa-643d-424f-a042-0e9ce7964adb",
   "metadata": {},
   "outputs": [],
   "source": [
    "plt.imshow(obj)"
   ]
  },
  {
   "cell_type": "code",
   "execution_count": null,
   "id": "543f65b5-7664-45ca-bd39-85d0b827febe",
   "metadata": {},
   "outputs": [],
   "source": []
  }
 ],
 "metadata": {
  "kernelspec": {
   "display_name": "Python 3 (ipykernel)",
   "language": "python",
   "name": "python3"
  },
  "language_info": {
   "codemirror_mode": {
    "name": "ipython",
    "version": 3
   },
   "file_extension": ".py",
   "mimetype": "text/x-python",
   "name": "python",
   "nbconvert_exporter": "python",
   "pygments_lexer": "ipython3",
   "version": "3.10.0"
  }
 },
 "nbformat": 4,
 "nbformat_minor": 5
}
